{
 "cells": [
  {
   "cell_type": "code",
   "execution_count": 1,
   "metadata": {
    "ExecuteTime": {
     "end_time": "2021-10-16T19:34:42.198004Z",
     "start_time": "2021-10-16T19:34:41.946016Z"
    }
   },
   "outputs": [],
   "source": [
    "import pickle as pkl\n",
    "import pandas as pd\n",
    "pd.set_option('display.max_columns',None)"
   ]
  },
  {
   "cell_type": "code",
   "execution_count": 3,
   "metadata": {
    "ExecuteTime": {
     "end_time": "2021-10-16T19:34:42.350427Z",
     "start_time": "2021-10-16T19:34:42.244962Z"
    },
    "scrolled": true
   },
   "outputs": [],
   "source": [
    "jfk_data = pd.read_csv('../../get_data/weather/jfk.csv')\n",
    "ctl_pk_data = pd.read_csv('../../get_data/weather/central_park.csv')"
   ]
  },
  {
   "cell_type": "code",
   "execution_count": 4,
   "metadata": {
    "ExecuteTime": {
     "end_time": "2021-10-16T19:34:42.366008Z",
     "start_time": "2021-10-16T19:34:42.351950Z"
    }
   },
   "outputs": [],
   "source": [
    "jfk = pd.DataFrame(jfk_data)\n",
    "ctl_pk = pd.DataFrame(ctl_pk_data)"
   ]
  },
  {
   "cell_type": "code",
   "execution_count": 5,
   "metadata": {
    "ExecuteTime": {
     "end_time": "2021-10-16T19:34:42.381333Z",
     "start_time": "2021-10-16T19:34:42.367005Z"
    }
   },
   "outputs": [],
   "source": [
    "jfk.columns = jfk.columns.str.strip().str.lower()\n",
    "ctl_pk.columns = ctl_pk.columns.str.strip().str.lower()"
   ]
  },
  {
   "cell_type": "code",
   "execution_count": 6,
   "metadata": {
    "ExecuteTime": {
     "end_time": "2021-10-16T19:34:42.397007Z",
     "start_time": "2021-10-16T19:34:42.382334Z"
    }
   },
   "outputs": [],
   "source": [
    "jfk.drop(['station', 'name', 'latitude', 'longitude', 'elevation','fmtm_attributes','awnd_attributes',\n",
    "          'tmax_attributes','tmin_attributes','wsf2_attributes','wsf5_attributes', 'wsf2', 'wdf2',\n",
    "         'pgtm_attributes','prcp_attributes','snow_attributes','snwd_attributes','tavg_attributes','wdf2_attributes',\n",
    "         'wdf5_attributes','wesd','wesd_attributes','wt01_attributes', 'wt02_attributes', 'wt03_attributes',\n",
    "         'wt04_attributes','wt05_attributes','wt06_attributes','wt07_attributes','wt08_attributes',\n",
    "         'wt09_attributes','wt11_attributes','wt13_attributes','wt14_attributes','wt15_attributes',\n",
    "         'wt16_attributes','wt17_attributes','wt18_attributes','wt19_attributes','wt21_attributes',\n",
    "         'wt22_attributes'], axis=1, inplace=True)"
   ]
  },
  {
   "cell_type": "code",
   "execution_count": 7,
   "metadata": {
    "ExecuteTime": {
     "end_time": "2021-10-16T19:34:42.412012Z",
     "start_time": "2021-10-16T19:34:42.398007Z"
    }
   },
   "outputs": [],
   "source": [
    "ctl_pk.drop(['station', 'name', 'latitude', 'longitude', 'elevation','fmtm_attributes','awnd_attributes',\n",
    "             'tmax_attributes', 'tmin_attributes', 'wsf2_attributes', 'wsf5_attributes', 'tavg', 'wsf2', 'wdf2',\n",
    "         'pgtm_attributes','prcp_attributes','snow_attributes','snwd_attributes','tavg_attributes','wdf2_attributes',\n",
    "         'wdf5_attributes','tsun','tsun_attributes','wdf2_attributes','wdf5_attributes','wt01_attributes',\n",
    "         'wt02_attributes', 'wt03_attributes','wt04_attributes','wt05_attributes','wt06_attributes',\n",
    "         'wt07_attributes','wt08_attributes','wt09_attributes','wt11_attributes','wt13_attributes',\n",
    "         'wt14_attributes','wt16_attributes','wt17_attributes','wt18_attributes','wt19_attributes',\n",
    "         'wt22_attributes'], axis=1, inplace=True)"
   ]
  },
  {
   "cell_type": "code",
   "execution_count": 8,
   "metadata": {
    "ExecuteTime": {
     "end_time": "2021-10-16T19:34:42.724949Z",
     "start_time": "2021-10-16T19:34:42.413529Z"
    }
   },
   "outputs": [],
   "source": [
    "jfk['date'] = pd.to_datetime(jfk['date'])\n",
    "ctl_pk['date'] = pd.to_datetime(ctl_pk['date'])"
   ]
  },
  {
   "cell_type": "code",
   "execution_count": 9,
   "metadata": {
    "ExecuteTime": {
     "end_time": "2021-10-16T19:34:42.740413Z",
     "start_time": "2021-10-16T19:34:42.726005Z"
    }
   },
   "outputs": [],
   "source": [
    "jfk.set_index('date', inplace=True)\n",
    "ctl_pk.set_index('date', inplace=True)"
   ]
  },
  {
   "cell_type": "code",
   "execution_count": 10,
   "metadata": {
    "ExecuteTime": {
     "end_time": "2021-10-16T19:34:42.756412Z",
     "start_time": "2021-10-16T19:34:42.741413Z"
    }
   },
   "outputs": [],
   "source": [
    "jfk.rename(columns={'snow':'snowfall_(in)','prcp': 'precipitation', 'snwd': 'snow_depth_(in)', 'tmax': 'max_temp', 'tmin': 'min_temp', 'tavg':'avg_temp',\n",
    "                    'awnd': 'avg_wind_spd', 'fmtm': 'fastest_wind_time', 'pgtm':'peak_gust_time',\n",
    "                    'wdf5':'direction_fastest_wind','wsf5':'fastest_5_sec_wind', 'wt01':'fog',\n",
    "                    'wt02':'heavy_fog','wt03':'thunder','wt04':'small_hail','wt05':'large_hail',\n",
    "                   'wt06':'sleet','wt07':'dust_or_ash','wt08':'haze','wt09':'blowing_snow','wt10':'tornado',\n",
    "                   'wt11':'high_winds','wt12':'blowing_spray','wt13':'mist','wt14':'drizzle','wt15':'freezing_drizzle',\n",
    "                   'wt16':'rain','wt17':'freezing_rain','wt18':'snow','wt19':'unknown','wt21':'ground_fog','wt22':'ice_fog'},inplace=True)"
   ]
  },
  {
   "cell_type": "code",
   "execution_count": 11,
   "metadata": {
    "ExecuteTime": {
     "end_time": "2021-10-16T19:34:42.772414Z",
     "start_time": "2021-10-16T19:34:42.757412Z"
    }
   },
   "outputs": [],
   "source": [
    "ctl_pk.rename(columns={'snow':'snowfall_(in)','prcp': 'precipitation', 'snwd': 'snow_depth_(in)', 'tmax': 'max_temp', 'tmin': 'min_temp',\n",
    "                    'awnd': 'avg_wind_spd', 'fmtm': 'fastest_wind_time', 'pgtm':'peak_gust_time',\n",
    "                    'wdf5':'direction_fastest_wind','wsf5':'fastest_5_sec_wind', 'wt01':'fog',\n",
    "                    'wt02':'heavy_fog','wt03':'thunder','wt04':'small_hail','wt05':'large_hail',\n",
    "                   'wt06':'sleet','wt07':'dust_or_ash','wt08':'haze','wt09':'blowing_snow','wt10':'tornado',\n",
    "                   'wt11':'high_winds','wt12':'blowing_spray','wt13':'mist','wt14':'drizzle','wt15':'freezing_drizzle',\n",
    "                   'wt16':'rain','wt17':'freezing_rain','wt18':'snow','wt19':'unknown','wt21':'ground_fog','wt22':'ice_fog'}, inplace=True)"
   ]
  },
  {
   "cell_type": "code",
   "execution_count": 12,
   "metadata": {
    "ExecuteTime": {
     "end_time": "2021-10-16T19:34:42.787999Z",
     "start_time": "2021-10-16T19:34:42.773536Z"
    }
   },
   "outputs": [],
   "source": [
    "def wind_direction(direc):\n",
    "    if direc in range(22, 67):\n",
    "        return 'ne'\n",
    "    elif direc in range(67, 112):\n",
    "        return 'e'\n",
    "    elif direc in range(112, 157):\n",
    "        return 'se'\n",
    "    elif direc in range (157, 202):\n",
    "        return 's'\n",
    "    elif direc in range (202, 247):\n",
    "        return 'sw'\n",
    "    elif direc in range (247, 292):\n",
    "        return 'w'\n",
    "    elif direc in range(292, 337):\n",
    "        return 'nw'\n",
    "    else:\n",
    "        return 'n'"
   ]
  },
  {
   "cell_type": "code",
   "execution_count": 13,
   "metadata": {
    "ExecuteTime": {
     "end_time": "2021-10-16T19:34:42.802760Z",
     "start_time": "2021-10-16T19:34:42.788999Z"
    }
   },
   "outputs": [],
   "source": [
    "def weather_effect(effect):\n",
    "    if effect == 1:\n",
    "        return 1\n",
    "    else:\n",
    "        return 0"
   ]
  },
  {
   "cell_type": "code",
   "execution_count": 14,
   "metadata": {
    "ExecuteTime": {
     "end_time": "2021-10-16T19:34:42.865005Z",
     "start_time": "2021-10-16T19:34:42.803761Z"
    }
   },
   "outputs": [],
   "source": [
    "jfk['direction_fastest_wind'] = (jfk['direction_fastest_wind'].apply(wind_direction))\n",
    "ctl_pk['direction_fastest_wind'] = (ctl_pk['direction_fastest_wind'].apply(wind_direction))"
   ]
  },
  {
   "cell_type": "code",
   "execution_count": 15,
   "metadata": {
    "ExecuteTime": {
     "end_time": "2021-10-16T19:34:42.896298Z",
     "start_time": "2021-10-16T19:34:42.866005Z"
    }
   },
   "outputs": [],
   "source": [
    "jfk['fog'] = (jfk['fog'].apply(weather_effect))\n",
    "jfk['heavy_fog'] = (jfk['heavy_fog'].apply(weather_effect))\n",
    "jfk['thunder'] = (jfk['thunder'].apply(weather_effect))\n",
    "jfk['small_hail'] = (jfk['small_hail'].apply(weather_effect))\n",
    "jfk['large_hail'] = (jfk['large_hail'].apply(weather_effect))\n",
    "jfk['sleet'] = (jfk['sleet'].apply(weather_effect))\n",
    "jfk['dust_or_ash'] = (jfk['dust_or_ash'].apply(weather_effect))\n",
    "jfk['haze'] = (jfk['haze'].apply(weather_effect))\n",
    "jfk['blowing_snow'] = (jfk['blowing_snow'].apply(weather_effect))\n",
    "jfk['high_winds'] = (jfk['high_winds'].apply(weather_effect))\n",
    "jfk['mist'] = (jfk['mist'].apply(weather_effect))\n",
    "jfk['drizzle'] = (jfk['drizzle'].apply(weather_effect))\n",
    "jfk['freezing_drizzle'] = (jfk['freezing_drizzle'].apply(weather_effect))\n",
    "jfk['rain'] = (jfk['rain'].apply(weather_effect))\n",
    "jfk['freezing_rain'] = (jfk['freezing_rain'].apply(weather_effect))\n",
    "jfk['snow'] = (jfk['snow'].apply(weather_effect))\n",
    "jfk['unknown'] = (jfk['unknown'].apply(weather_effect))\n",
    "jfk['ground_fog'] = (jfk['ground_fog'].apply(weather_effect))\n",
    "jfk['ice_fog'] = (jfk['ice_fog'].apply(weather_effect))"
   ]
  },
  {
   "cell_type": "code",
   "execution_count": 16,
   "metadata": {
    "ExecuteTime": {
     "end_time": "2021-10-16T19:34:42.912000Z",
     "start_time": "2021-10-16T19:34:42.897300Z"
    }
   },
   "outputs": [
    {
     "name": "stdout",
     "output_type": "stream",
     "text": [
      "<class 'pandas.core.frame.DataFrame'>\n",
      "DatetimeIndex: 4292 entries, 2010-01-01 to 2021-10-01\n",
      "Data columns (total 30 columns):\n",
      " #   Column                  Non-Null Count  Dtype  \n",
      "---  ------                  --------------  -----  \n",
      " 0   avg_wind_spd            4292 non-null   float64\n",
      " 1   fastest_wind_time       638 non-null    object \n",
      " 2   peak_gust_time          628 non-null    object \n",
      " 3   precipitation           4292 non-null   float64\n",
      " 4   snowfall_(in)           4291 non-null   float64\n",
      " 5   snow_depth_(in)         4289 non-null   float64\n",
      " 6   avg_temp                3106 non-null   float64\n",
      " 7   max_temp                4292 non-null   int64  \n",
      " 8   min_temp                4292 non-null   int64  \n",
      " 9   direction_fastest_wind  4292 non-null   object \n",
      " 10  fastest_5_sec_wind      4218 non-null   float64\n",
      " 11  fog                     4292 non-null   int64  \n",
      " 12  heavy_fog               4292 non-null   int64  \n",
      " 13  thunder                 4292 non-null   int64  \n",
      " 14  small_hail              4292 non-null   int64  \n",
      " 15  large_hail              4292 non-null   int64  \n",
      " 16  sleet                   4292 non-null   int64  \n",
      " 17  dust_or_ash             4292 non-null   int64  \n",
      " 18  haze                    4292 non-null   int64  \n",
      " 19  blowing_snow            4292 non-null   int64  \n",
      " 20  high_winds              4292 non-null   int64  \n",
      " 21  mist                    4292 non-null   int64  \n",
      " 22  drizzle                 4292 non-null   int64  \n",
      " 23  freezing_drizzle        4292 non-null   int64  \n",
      " 24  rain                    4292 non-null   int64  \n",
      " 25  freezing_rain           4292 non-null   int64  \n",
      " 26  snow                    4292 non-null   int64  \n",
      " 27  unknown                 4292 non-null   int64  \n",
      " 28  ground_fog              4292 non-null   int64  \n",
      " 29  ice_fog                 4292 non-null   int64  \n",
      "dtypes: float64(6), int64(21), object(3)\n",
      "memory usage: 1.0+ MB\n"
     ]
    }
   ],
   "source": [
    "jfk.info()"
   ]
  },
  {
   "cell_type": "code",
   "execution_count": 17,
   "metadata": {
    "ExecuteTime": {
     "end_time": "2021-10-16T19:34:42.927018Z",
     "start_time": "2021-10-16T19:34:42.913009Z"
    }
   },
   "outputs": [
    {
     "name": "stdout",
     "output_type": "stream",
     "text": [
      "<class 'pandas.core.frame.DataFrame'>\n",
      "DatetimeIndex: 4292 entries, 2010-01-01 to 2021-10-01\n",
      "Data columns (total 27 columns):\n",
      " #   Column                  Non-Null Count  Dtype  \n",
      "---  ------                  --------------  -----  \n",
      " 0   avg_wind_spd            4062 non-null   float64\n",
      " 1   fastest_wind_time       638 non-null    object \n",
      " 2   peak_gust_time          628 non-null    object \n",
      " 3   precipitation           4292 non-null   float64\n",
      " 4   snowfall_(in)           4292 non-null   float64\n",
      " 5   snow_depth_(in)         4291 non-null   float64\n",
      " 6   max_temp                4292 non-null   int64  \n",
      " 7   min_temp                4292 non-null   int64  \n",
      " 8   direction_fastest_wind  4292 non-null   object \n",
      " 9   fastest_5_sec_wind      4033 non-null   float64\n",
      " 10  fog                     1477 non-null   float64\n",
      " 11  heavy_fog               124 non-null    float64\n",
      " 12  thunder                 108 non-null    float64\n",
      " 13  small_hail              10 non-null     float64\n",
      " 14  large_hail              86 non-null     float64\n",
      " 15  sleet                   17 non-null     float64\n",
      " 16  dust_or_ash             24 non-null     float64\n",
      " 17  haze                    755 non-null    float64\n",
      " 18  blowing_snow            8 non-null      float64\n",
      " 19  high_winds              1 non-null      float64\n",
      " 20  mist                    406 non-null    float64\n",
      " 21  drizzle                 1 non-null      float64\n",
      " 22  rain                    427 non-null    float64\n",
      " 23  freezing_rain           3 non-null      float64\n",
      " 24  snow                    86 non-null     float64\n",
      " 25  unknown                 33 non-null     float64\n",
      " 26  ice_fog                 14 non-null     float64\n",
      "dtypes: float64(22), int64(2), object(3)\n",
      "memory usage: 938.9+ KB\n"
     ]
    }
   ],
   "source": [
    "ctl_pk.info()"
   ]
  },
  {
   "cell_type": "code",
   "execution_count": 18,
   "metadata": {
    "ExecuteTime": {
     "end_time": "2021-10-16T19:34:42.958642Z",
     "start_time": "2021-10-16T19:34:42.928018Z"
    }
   },
   "outputs": [],
   "source": [
    "ctl_pk['fog'] = (ctl_pk['fog'].apply(weather_effect))\n",
    "ctl_pk['heavy_fog'] = (ctl_pk['heavy_fog'].apply(weather_effect))\n",
    "ctl_pk['thunder'] = (ctl_pk['thunder'].apply(weather_effect))\n",
    "ctl_pk['small_hail'] = (ctl_pk['small_hail'].apply(weather_effect))\n",
    "ctl_pk['large_hail'] = (ctl_pk['large_hail'].apply(weather_effect))\n",
    "ctl_pk['sleet'] = (ctl_pk['sleet'].apply(weather_effect))\n",
    "ctl_pk['dust_or_ash'] = (ctl_pk['dust_or_ash'].apply(weather_effect))\n",
    "ctl_pk['haze'] = (ctl_pk['haze'].apply(weather_effect))\n",
    "ctl_pk['blowing_snow'] = (ctl_pk['blowing_snow'].apply(weather_effect))\n",
    "ctl_pk['high_winds'] = (ctl_pk['high_winds'].apply(weather_effect))\n",
    "ctl_pk['mist'] = (ctl_pk['mist'].apply(weather_effect))\n",
    "ctl_pk['drizzle'] = (ctl_pk['drizzle'].apply(weather_effect))\n",
    "ctl_pk['rain'] = (ctl_pk['rain'].apply(weather_effect))\n",
    "ctl_pk['freezing_rain'] = (ctl_pk['freezing_rain'].apply(weather_effect))\n",
    "ctl_pk['snow'] = (ctl_pk['snow'].apply(weather_effect))\n",
    "ctl_pk['unknown'] = (ctl_pk['unknown'].apply(weather_effect))\n",
    "ctl_pk['ice_fog'] = (ctl_pk['ice_fog'].apply(weather_effect))"
   ]
  },
  {
   "cell_type": "code",
   "execution_count": 19,
   "metadata": {
    "ExecuteTime": {
     "end_time": "2021-10-16T19:34:42.974241Z",
     "start_time": "2021-10-16T19:34:42.959643Z"
    }
   },
   "outputs": [
    {
     "data": {
      "text/plain": [
       "0    4190\n",
       "1     102\n",
       "Name: large_hail, dtype: int64"
      ]
     },
     "execution_count": 19,
     "metadata": {},
     "output_type": "execute_result"
    }
   ],
   "source": [
    "jfk['large_hail'].value_counts()"
   ]
  },
  {
   "cell_type": "code",
   "execution_count": 20,
   "metadata": {
    "ExecuteTime": {
     "end_time": "2021-10-16T19:34:42.989419Z",
     "start_time": "2021-10-16T19:34:42.975242Z"
    }
   },
   "outputs": [],
   "source": [
    "import numpy as np"
   ]
  },
  {
   "cell_type": "code",
   "execution_count": 22,
   "metadata": {
    "ExecuteTime": {
     "end_time": "2021-10-16T19:34:43.020006Z",
     "start_time": "2021-10-16T19:34:43.006003Z"
    }
   },
   "outputs": [],
   "source": [
    "jfk['major_conditions'] = (jfk['large_hail'] + jfk['freezing_rain'] + jfk['snow'])\n",
    "jfk['minor_conditions'] = (jfk['small_hail'] + jfk['sleet'] + jfk['blowing_snow'] + jfk['high_winds']\n",
    "                           + jfk['freezing_drizzle'] + jfk['rain']+ jfk['ground_fog']\n",
    "                           + jfk['ice_fog'] + jfk['fog'] + jfk['heavy_fog'])\n",
    "jfk['neutral_conditions'] = (jfk['thunder'] + jfk['dust_or_ash']\n",
    "                             + jfk['haze'] + jfk['mist'] + jfk['drizzle'] )\n",
    "jfk['normal/unknown_conditions'] = (np.array(1) + jfk['unknown'])"
   ]
  },
  {
   "cell_type": "code",
   "execution_count": 23,
   "metadata": {
    "ExecuteTime": {
     "end_time": "2021-10-16T19:34:43.035517Z",
     "start_time": "2021-10-16T19:34:43.022007Z"
    }
   },
   "outputs": [],
   "source": [
    "ctl_pk['major_conditions'] = (ctl_pk['large_hail'] + ctl_pk['freezing_rain'] + ctl_pk['snow'])\n",
    "ctl_pk['minor_conditions'] = (ctl_pk['small_hail'] + ctl_pk['sleet'] + ctl_pk['blowing_snow'] + ctl_pk['high_winds']\n",
    "                           + ctl_pk['rain'] + ctl_pk['fog'] + ctl_pk['heavy_fog'] + ctl_pk['ice_fog'])\n",
    "ctl_pk['neutral_conditions'] = (ctl_pk['thunder'] + ctl_pk['dust_or_ash']\n",
    "                             + ctl_pk['haze'] + ctl_pk['mist'] + ctl_pk['drizzle'])\n",
    "ctl_pk['normal/unknown_conditions'] = (np.array(1) + ctl_pk['unknown'])"
   ]
  },
  {
   "cell_type": "code",
   "execution_count": 24,
   "metadata": {
    "ExecuteTime": {
     "end_time": "2021-10-16T19:34:43.050524Z",
     "start_time": "2021-10-16T19:34:43.036518Z"
    }
   },
   "outputs": [],
   "source": [
    "jfk['major_conditions'] = jfk['major_conditions'].apply(fix_num)\n",
    "jfk['minor_conditions'] = jfk['minor_conditions'].apply(fix_num)\n",
    "jfk['neutral_conditions'] = jfk['neutral_conditions'].apply(fix_num)\n",
    "jfk['normal/unknown_conditions'] = jfk['normal/unknown_conditions'].apply(fix_num)"
   ]
  },
  {
   "cell_type": "code",
   "execution_count": 25,
   "metadata": {
    "ExecuteTime": {
     "end_time": "2021-10-16T19:34:43.066018Z",
     "start_time": "2021-10-16T19:34:43.051523Z"
    }
   },
   "outputs": [],
   "source": [
    "ctl_pk['major_conditions'] = ctl_pk['major_conditions'].apply(fix_num)\n",
    "ctl_pk['minor_conditions'] = ctl_pk['minor_conditions'].apply(fix_num)\n",
    "ctl_pk['neutral_conditions'] = ctl_pk['neutral_conditions'].apply(fix_num)\n",
    "ctl_pk['normal/unknown_conditions'] = ctl_pk['normal/unknown_conditions'].apply(fix_num)"
   ]
  },
  {
   "cell_type": "code",
   "execution_count": 26,
   "metadata": {
    "ExecuteTime": {
     "end_time": "2021-10-16T19:34:43.081999Z",
     "start_time": "2021-10-16T19:34:43.067000Z"
    }
   },
   "outputs": [],
   "source": [
    "jfk['normal/unknown_conditions'] = (jfk['normal/unknown_conditions'] - jfk['major_conditions'] -\n",
    "                                    jfk['minor_conditions'] - jfk['neutral_conditions'])\n",
    "jfk['normal/unknown_conditions'] = jfk['normal/unknown_conditions'].apply(fix_num)"
   ]
  },
  {
   "cell_type": "code",
   "execution_count": 27,
   "metadata": {
    "ExecuteTime": {
     "end_time": "2021-10-16T19:34:43.097541Z",
     "start_time": "2021-10-16T19:34:43.083006Z"
    }
   },
   "outputs": [],
   "source": [
    "ctl_pk['normal/unknown_conditions'] = (ctl_pk['normal/unknown_conditions'] - ctl_pk['major_conditions'] -\n",
    "                                       ctl_pk['minor_conditions'] - ctl_pk['neutral_conditions'])\n",
    "ctl_pk['normal/unknown_conditions'] = ctl_pk['normal/unknown_conditions'].apply(fix_num)"
   ]
  },
  {
   "cell_type": "code",
   "execution_count": 28,
   "metadata": {
    "ExecuteTime": {
     "end_time": "2021-10-16T19:34:43.112560Z",
     "start_time": "2021-10-16T19:34:43.098543Z"
    }
   },
   "outputs": [],
   "source": [
    "jfk['neutral_conditions'] = (jfk['neutral_conditions'] - jfk['minor_conditions'] - jfk['major_conditions'])\n",
    "jfk['neutral_conditions'] = jfk['neutral_conditions'].apply(fix_num)"
   ]
  },
  {
   "cell_type": "code",
   "execution_count": 29,
   "metadata": {
    "ExecuteTime": {
     "end_time": "2021-10-16T19:34:43.127807Z",
     "start_time": "2021-10-16T19:34:43.113561Z"
    }
   },
   "outputs": [],
   "source": [
    "ctl_pk['neutral_conditions'] = (ctl_pk['neutral_conditions'] - ctl_pk['minor_conditions'] - ctl_pk['major_conditions'])\n",
    "ctl_pk['neutral_conditions'] = ctl_pk['neutral_conditions'].apply(fix_num)"
   ]
  },
  {
   "cell_type": "code",
   "execution_count": 30,
   "metadata": {
    "ExecuteTime": {
     "end_time": "2021-10-16T19:34:43.142890Z",
     "start_time": "2021-10-16T19:34:43.128807Z"
    }
   },
   "outputs": [],
   "source": [
    "jfk['minor_conditions'] = (jfk['minor_conditions'] - jfk['major_conditions'])\n",
    "jfk['minor_conditions'] = jfk['minor_conditions'].apply(fix_num)"
   ]
  },
  {
   "cell_type": "code",
   "execution_count": 31,
   "metadata": {
    "ExecuteTime": {
     "end_time": "2021-10-16T19:34:43.158868Z",
     "start_time": "2021-10-16T19:34:43.143874Z"
    }
   },
   "outputs": [],
   "source": [
    "ctl_pk['minor_conditions'] = (ctl_pk['minor_conditions'] - ctl_pk['major_conditions'])\n",
    "ctl_pk['minor_conditions'] = ctl_pk['minor_conditions'].apply(fix_num)"
   ]
  },
  {
   "cell_type": "code",
   "execution_count": 32,
   "metadata": {
    "ExecuteTime": {
     "end_time": "2021-10-16T19:34:43.174098Z",
     "start_time": "2021-10-16T19:34:43.159869Z"
    }
   },
   "outputs": [],
   "source": [
    "jfk.drop(['fog','heavy_fog','thunder','small_hail','large_hail','sleet','dust_or_ash','haze',\n",
    "          'blowing_snow','high_winds','mist','drizzle','freezing_drizzle','rain','freezing_rain',\n",
    "         'snow','unknown','ground_fog','ice_fog'], axis=1, inplace=True)"
   ]
  },
  {
   "cell_type": "code",
   "execution_count": 33,
   "metadata": {
    "ExecuteTime": {
     "end_time": "2021-10-16T19:34:43.189413Z",
     "start_time": "2021-10-16T19:34:43.175410Z"
    }
   },
   "outputs": [],
   "source": [
    "ctl_pk.drop(['fog','heavy_fog','thunder','small_hail','large_hail','sleet','dust_or_ash','haze',\n",
    "          'blowing_snow','high_winds','mist','drizzle','rain','freezing_rain',\n",
    "         'snow','unknown','ice_fog'],axis=1, inplace=True)"
   ]
  },
  {
   "cell_type": "code",
   "execution_count": 34,
   "metadata": {
    "ExecuteTime": {
     "end_time": "2021-10-16T19:34:43.205228Z",
     "start_time": "2021-10-16T19:34:43.190413Z"
    }
   },
   "outputs": [],
   "source": [
    "jfk = jfk[['min_temp','avg_temp','max_temp','major_conditions',\n",
    "               'minor_conditions','neutral_conditions','normal/unknown_conditions',\n",
    "               'precipitation', 'avg_wind_spd', 'fastest_wind_time','peak_gust_time', 'snowfall_(in)',\n",
    "               'snow_depth_(in)','fastest_5_sec_wind','direction_fastest_wind']]"
   ]
  },
  {
   "cell_type": "code",
   "execution_count": 35,
   "metadata": {
    "ExecuteTime": {
     "end_time": "2021-10-16T19:34:43.220413Z",
     "start_time": "2021-10-16T19:34:43.206227Z"
    }
   },
   "outputs": [],
   "source": [
    "ctl_pk = ctl_pk[['min_temp','max_temp','major_conditions',\n",
    "               'minor_conditions','neutral_conditions','normal/unknown_conditions',\n",
    "               'precipitation', 'avg_wind_spd', 'fastest_wind_time','peak_gust_time', 'snowfall_(in)',\n",
    "               'snow_depth_(in)','fastest_5_sec_wind','direction_fastest_wind']]"
   ]
  },
  {
   "cell_type": "code",
   "execution_count": 36,
   "metadata": {
    "ExecuteTime": {
     "end_time": "2021-10-16T19:34:43.236076Z",
     "start_time": "2021-10-16T19:34:43.221413Z"
    }
   },
   "outputs": [
    {
     "name": "stdout",
     "output_type": "stream",
     "text": [
      "<class 'pandas.core.frame.DataFrame'>\n",
      "DatetimeIndex: 4292 entries, 2010-01-01 to 2021-10-01\n",
      "Data columns (total 15 columns):\n",
      " #   Column                     Non-Null Count  Dtype  \n",
      "---  ------                     --------------  -----  \n",
      " 0   min_temp                   4292 non-null   int64  \n",
      " 1   avg_temp                   3106 non-null   float64\n",
      " 2   max_temp                   4292 non-null   int64  \n",
      " 3   major_conditions           4292 non-null   int64  \n",
      " 4   minor_conditions           4292 non-null   int64  \n",
      " 5   neutral_conditions         4292 non-null   int64  \n",
      " 6   normal/unknown_conditions  4292 non-null   int64  \n",
      " 7   precipitation              4292 non-null   float64\n",
      " 8   avg_wind_spd               4292 non-null   float64\n",
      " 9   fastest_wind_time          638 non-null    object \n",
      " 10  peak_gust_time             628 non-null    object \n",
      " 11  snowfall_(in)              4291 non-null   float64\n",
      " 12  snow_depth_(in)            4289 non-null   float64\n",
      " 13  fastest_5_sec_wind         4218 non-null   float64\n",
      " 14  direction_fastest_wind     4292 non-null   object \n",
      "dtypes: float64(6), int64(6), object(3)\n",
      "memory usage: 536.5+ KB\n"
     ]
    }
   ],
   "source": [
    "jfk.info()"
   ]
  },
  {
   "cell_type": "code",
   "execution_count": 37,
   "metadata": {
    "ExecuteTime": {
     "end_time": "2021-10-16T19:34:43.252082Z",
     "start_time": "2021-10-16T19:34:43.237076Z"
    }
   },
   "outputs": [
    {
     "name": "stdout",
     "output_type": "stream",
     "text": [
      "<class 'pandas.core.frame.DataFrame'>\n",
      "DatetimeIndex: 4292 entries, 2010-01-01 to 2021-10-01\n",
      "Data columns (total 14 columns):\n",
      " #   Column                     Non-Null Count  Dtype  \n",
      "---  ------                     --------------  -----  \n",
      " 0   min_temp                   4292 non-null   int64  \n",
      " 1   max_temp                   4292 non-null   int64  \n",
      " 2   major_conditions           4292 non-null   int64  \n",
      " 3   minor_conditions           4292 non-null   int64  \n",
      " 4   neutral_conditions         4292 non-null   int64  \n",
      " 5   normal/unknown_conditions  4292 non-null   int64  \n",
      " 6   precipitation              4292 non-null   float64\n",
      " 7   avg_wind_spd               4062 non-null   float64\n",
      " 8   fastest_wind_time          638 non-null    object \n",
      " 9   peak_gust_time             628 non-null    object \n",
      " 10  snowfall_(in)              4292 non-null   float64\n",
      " 11  snow_depth_(in)            4291 non-null   float64\n",
      " 12  fastest_5_sec_wind         4033 non-null   float64\n",
      " 13  direction_fastest_wind     4292 non-null   object \n",
      "dtypes: float64(5), int64(6), object(3)\n",
      "memory usage: 503.0+ KB\n"
     ]
    }
   ],
   "source": [
    "ctl_pk.info()"
   ]
  },
  {
   "cell_type": "code",
   "execution_count": 41,
   "metadata": {
    "ExecuteTime": {
     "end_time": "2021-10-16T19:35:10.690760Z",
     "start_time": "2021-10-16T19:35:10.650950Z"
    }
   },
   "outputs": [
    {
     "name": "stdout",
     "output_type": "stream",
     "text": [
      "/c/users/sethk/documents/flatiron/phase5_capstone/mta/mta_service_delays/data_cleaning\n"
     ]
    }
   ],
   "source": [
    "!pwd"
   ]
  },
  {
   "cell_type": "code",
   "execution_count": 42,
   "metadata": {
    "ExecuteTime": {
     "end_time": "2021-10-16T19:35:22.928006Z",
     "start_time": "2021-10-16T19:35:22.923039Z"
    }
   },
   "outputs": [],
   "source": [
    "# with open('../data/jfk.pkl', 'wb') as f:\n",
    "#     pkl.dump(jfk, f)"
   ]
  },
  {
   "cell_type": "code",
   "execution_count": 43,
   "metadata": {
    "ExecuteTime": {
     "end_time": "2021-10-16T19:35:26.836551Z",
     "start_time": "2021-10-16T19:35:26.819546Z"
    }
   },
   "outputs": [],
   "source": [
    "# with open('../data/ctl_pk.pkl', 'wb') as f:\n",
    "#     pkl.dump(ctl_pk, f)"
   ]
  }
 ],
 "metadata": {
  "kernelspec": {
   "display_name": "Python 3",
   "language": "python",
   "name": "python3"
  },
  "language_info": {
   "codemirror_mode": {
    "name": "ipython",
    "version": 3
   },
   "file_extension": ".py",
   "mimetype": "text/x-python",
   "name": "python",
   "nbconvert_exporter": "python",
   "pygments_lexer": "ipython3",
   "version": "3.8.5"
  },
  "toc": {
   "base_numbering": 1,
   "nav_menu": {},
   "number_sections": true,
   "sideBar": true,
   "skip_h1_title": false,
   "title_cell": "Table of Contents",
   "title_sidebar": "Contents",
   "toc_cell": false,
   "toc_position": {},
   "toc_section_display": true,
   "toc_window_display": false
  }
 },
 "nbformat": 4,
 "nbformat_minor": 4
}
