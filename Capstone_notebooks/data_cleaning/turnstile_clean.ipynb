{
 "cells": [
  {
   "cell_type": "code",
   "execution_count": null,
   "metadata": {
    "ExecuteTime": {
     "end_time": "2021-10-26T06:28:53.183624Z",
     "start_time": "2021-10-26T06:28:53.168642Z"
    }
   },
   "outputs": [],
   "source": [
    "# df['station'] = df['station'].str.lower()\n",
    "# df['station'] = df['station'].str.replace('ave','av')\n",
    "# df['station'] = df['station'].str.replace('place','pl')\n",
    "# df['station'] = df['station'].str.replace(' road','rd')"
   ]
  },
  {
   "cell_type": "code",
   "execution_count": null,
   "metadata": {
    "ExecuteTime": {
     "end_time": "2021-10-26T06:28:53.294627Z",
     "start_time": "2021-10-26T06:28:53.184623Z"
    }
   },
   "outputs": [],
   "source": [
    "# df.rename({'EXITS                                                               ':'exits'},axis=1,inplace=True)"
   ]
  },
  {
   "cell_type": "code",
   "execution_count": null,
   "metadata": {
    "ExecuteTime": {
     "end_time": "2021-10-26T06:28:53.309528Z",
     "start_time": "2021-10-26T06:28:53.295627Z"
    }
   },
   "outputs": [],
   "source": [
    "# df = df.loc[df['division']=='IRT']\n",
    "# df"
   ]
  },
  {
   "cell_type": "code",
   "execution_count": null,
   "metadata": {
    "ExecuteTime": {
     "end_time": "2021-10-26T06:28:53.324791Z",
     "start_time": "2021-10-26T06:28:53.310426Z"
    }
   },
   "outputs": [],
   "source": [
    "# df = df.loc[(df['DIVISION']=='BMT')|(df['DIVISION']=='IRT')|(df['DIVISION']=='IND')]"
   ]
  },
  {
   "cell_type": "code",
   "execution_count": null,
   "metadata": {
    "ExecuteTime": {
     "end_time": "2021-10-26T06:28:53.340556Z",
     "start_time": "2021-10-26T06:28:53.325791Z"
    }
   },
   "outputs": [],
   "source": [
    "# with open('../data/turnstile_irt.pkl','rb') as f:\n",
    "#     df = pkl.load(f)\n",
    "    \n",
    "# # df['station'] = df['station'].str.lower()"
   ]
  },
  {
   "cell_type": "code",
   "execution_count": null,
   "metadata": {
    "ExecuteTime": {
     "end_time": "2021-10-26T06:28:53.356631Z",
     "start_time": "2021-10-26T06:28:53.342631Z"
    }
   },
   "outputs": [],
   "source": [
    "# df.rename({'C/A':'ca','UNIT':'unit','SCP':'scp','STATION':'station',\n",
    "#           'LINENAME':'lines','DIVISION':'division','DATE':'date','TIME':'time',\n",
    "#           'DESC':'desc','ENTRIES':'entries','EXITS':'exits'},axis=1,inplace=True)"
   ]
  },
  {
   "cell_type": "code",
   "execution_count": null,
   "metadata": {
    "ExecuteTime": {
     "end_time": "2021-10-26T06:28:53.372644Z",
     "start_time": "2021-10-26T06:28:53.358632Z"
    }
   },
   "outputs": [],
   "source": [
    "# df['date'] = pd.to_datetime(df['date'])"
   ]
  },
  {
   "cell_type": "code",
   "execution_count": null,
   "metadata": {
    "ExecuteTime": {
     "end_time": "2021-10-26T06:28:53.388660Z",
     "start_time": "2021-10-26T06:28:53.373638Z"
    }
   },
   "outputs": [],
   "source": [
    "# ts_down = pd.to_datetime('2015-01-01')\n",
    "# ts_up = pd.to_datetime('2020-01-01')\n",
    "# stamp = pd.date_range(start=ts_down,end=ts_up)\n",
    "\n",
    "# df = df.loc[(df['date'] >= stamp[0]) & (df['date'] < stamp[-1])]"
   ]
  },
  {
   "cell_type": "code",
   "execution_count": null,
   "metadata": {
    "ExecuteTime": {
     "end_time": "2021-10-26T06:28:55.667147Z",
     "start_time": "2021-10-26T06:28:53.390628Z"
    }
   },
   "outputs": [],
   "source": [
    "len(list(df['station'].loc[df['division']=='IRT'].value_counts().index))"
   ]
  },
  {
   "cell_type": "code",
   "execution_count": null,
   "metadata": {
    "ExecuteTime": {
     "end_time": "2021-10-26T06:29:00.363541Z",
     "start_time": "2021-10-26T06:28:55.667147Z"
    }
   },
   "outputs": [],
   "source": [
    "# times sq\n",
    "indices = df.loc[(df['station']=='42 st-port auth')|(df['station']== '42 st-pa bus te')|\n",
    "                 (df['station']=='42 st-times sq')|(df['station']=='times sq-42 st')].index\n",
    "\n",
    "df.loc[indices,'station'] = 'times sq-42 st (1/2/3/7/A/C/E/N/Q/R/S/W)'"
   ]
  },
  {
   "cell_type": "code",
   "execution_count": null,
   "metadata": {
    "ExecuteTime": {
     "end_time": "2021-10-26T06:29:01.700584Z",
     "start_time": "2021-10-26T06:29:00.364542Z"
    }
   },
   "outputs": [],
   "source": [
    "# fulton st\n",
    "\n",
    "indices = df.loc[(df['station']=='fulton st')].index\n",
    "df.loc[indices, 'station'] = 'fulton st (2/3/4/5/A/C/J/Z)'"
   ]
  },
  {
   "cell_type": "code",
   "execution_count": null,
   "metadata": {
    "ExecuteTime": {
     "end_time": "2021-10-26T06:29:03.721605Z",
     "start_time": "2021-10-26T06:29:01.701584Z"
    }
   },
   "outputs": [],
   "source": [
    "# grand ctrl 42 st\n",
    "\n",
    "indices = df.loc[(df['station']=='grd cntrl-42 st')|(df['station']=='42 st-grd cntrl')].index\n",
    "df.loc[indices, 'station'] = 'grand ctl-42 st (4/5/6/7)'"
   ]
  },
  {
   "cell_type": "code",
   "execution_count": null,
   "metadata": {
    "ExecuteTime": {
     "end_time": "2021-10-26T06:29:06.203479Z",
     "start_time": "2021-10-26T06:29:03.722509Z"
    }
   },
   "outputs": [],
   "source": [
    "# 42 st bryant pk - 5 av\n",
    "\n",
    "indices = df.loc[(df['station']=='42 st-bryant pk')|(df['station']=='5 av')|(df['station']=='5 av-bryant pk')].index\n",
    "df.loc[indices,'station'] = '42 st bryant pk-5 av (B/D/F/M/7)'"
   ]
  },
  {
   "cell_type": "code",
   "execution_count": null,
   "metadata": {
    "ExecuteTime": {
     "end_time": "2021-10-26T06:29:08.120580Z",
     "start_time": "2021-10-26T06:29:06.204480Z"
    }
   },
   "outputs": [],
   "source": [
    "# atlantic av - barclays ctr\n",
    "\n",
    "indices = df.loc[(df['station']=='atl av-barclay')|(df['station']=='barclays center')].index\n",
    "df.loc[indices,'station'] = 'atlantic av-barclays ctr (2/3/4/5/B/D/N/Q/R)'"
   ]
  },
  {
   "cell_type": "code",
   "execution_count": null,
   "metadata": {
    "ExecuteTime": {
     "end_time": "2021-10-26T06:29:09.969533Z",
     "start_time": "2021-10-26T06:29:08.121580Z"
    }
   },
   "outputs": [],
   "source": [
    "# 33 st-rawson st\n",
    "\n",
    "ind = df.loc[(df['station']=='33 st-rawson st')|(df['station']=='33 st/rawson st')].index\n",
    "df.loc[ind,'station'] = '33 st-rawson st (7)'"
   ]
  },
  {
   "cell_type": "code",
   "execution_count": null,
   "metadata": {
    "ExecuteTime": {
     "end_time": "2021-10-26T06:29:14.841663Z",
     "start_time": "2021-10-26T06:29:09.970533Z"
    }
   },
   "outputs": [],
   "source": [
    "# the 110 streets\n",
    "\n",
    "ind_1 = df.loc[(df['station']=='110 st-cathedrl')|(df['station']=='cathedral pkwy')].index\n",
    "df.loc[ind_1,'station'] = 'cathedral pkwy-110 st (1)'\n",
    "\n",
    "ind_23 = df.loc[(df['station']=='110 st-cpn')|(df['station']=='central pk n110')].index\n",
    "df.loc[ind_23,'station'] = 'ctl park n-110 st (2/3)'\n",
    "\n",
    "ind_6 = df.loc[df['station']=='110 st'].index\n",
    "df.loc[ind_6,'station'] = '110 st (6)'"
   ]
  },
  {
   "cell_type": "code",
   "execution_count": null,
   "metadata": {
    "ExecuteTime": {
     "end_time": "2021-10-26T06:29:19.656376Z",
     "start_time": "2021-10-26T06:29:14.842664Z"
    }
   },
   "outputs": [],
   "source": [
    "# the 116 streets\n",
    "\n",
    "ind_1 = df.loc[df['station']=='116 st-columbia'].index\n",
    "df.loc[ind_1,'station']='116 st-columbia (1)'\n",
    "\n",
    "ind_23 = df.loc[(df['station']=='116 st')&(df['lines']=='23')].index\n",
    "df.loc[ind_23,'station']='116 st (2/3)'\n",
    "\n",
    "ind_6 = df.loc[(df['station']=='116 st')&(df['lines']=='6')].index\n",
    "df.loc[ind_6,'station']='116 st (6)'"
   ]
  },
  {
   "cell_type": "code",
   "execution_count": null,
   "metadata": {
    "ExecuteTime": {
     "end_time": "2021-10-26T06:29:21.484299Z",
     "start_time": "2021-10-26T06:29:19.657377Z"
    }
   },
   "outputs": [],
   "source": [
    "# 137 st\n",
    "\n",
    "ind = df.loc[(df['station']=='137 st city col')|(df['station']=='137 st-city col')].index\n",
    "df.loc[ind,'station']='137 st-city clg (1)'"
   ]
  },
  {
   "cell_type": "code",
   "execution_count": null,
   "metadata": {
    "ExecuteTime": {
     "end_time": "2021-10-26T06:29:26.189691Z",
     "start_time": "2021-10-26T06:29:21.485299Z"
    }
   },
   "outputs": [],
   "source": [
    "# 103 st\n",
    "\n",
    "ind_1 = df.loc[(df['station']=='103 st')&(df['lines']=='1')].index\n",
    "df.loc[ind_1,'station']='103 st (1)'\n",
    "\n",
    "ind_6 = df.loc[(df['station']=='103 st')&(df['lines']=='6')].index\n",
    "df.loc[ind_6,'station']='103 st (6)'\n",
    "\n",
    "ind_7 = df.loc[df['station']=='103 st-corona'].index\n",
    "df.loc[ind_7,'station']='103 st-corona plza (7)'"
   ]
  },
  {
   "cell_type": "code",
   "execution_count": null,
   "metadata": {
    "ExecuteTime": {
     "end_time": "2021-10-26T06:29:27.378734Z",
     "start_time": "2021-10-26T06:29:26.190691Z"
    }
   },
   "outputs": [],
   "source": [
    "# 111 st\n",
    "\n",
    "ind = df.loc[df['station']=='111 st'].index\n",
    "df.loc[ind,'station']='111 st (7)'"
   ]
  },
  {
   "cell_type": "code",
   "execution_count": null,
   "metadata": {
    "ExecuteTime": {
     "end_time": "2021-10-26T06:29:29.191577Z",
     "start_time": "2021-10-26T06:29:27.380734Z"
    }
   },
   "outputs": [],
   "source": [
    "# 161 st yankee stdm\n",
    "\n",
    "ind = df.loc[(df['station']=='161 st-yankee')|(df['station']=='161/yankee stad')].index\n",
    "df.loc[ind,'station']='161 st-yankee stdm (4/B/D)'"
   ]
  },
  {
   "cell_type": "code",
   "execution_count": null,
   "metadata": {
    "ExecuteTime": {
     "end_time": "2021-10-26T06:29:35.119683Z",
     "start_time": "2021-10-26T06:29:29.804738Z"
    }
   },
   "outputs": [],
   "source": [
    "# 125 st\n",
    "\n",
    "ind_1 = df.loc[(df['station']=='125 st')&(df['lines']=='1')].index\n",
    "df.loc[ind_1,'station'] = '125 st (1)'\n",
    "\n",
    "ind_23 = df.loc[(df['station']=='125 st')&(df['lines']=='23')].index\n",
    "df.loc[ind_23,'station'] = '125 st (2/3)'\n",
    "\n",
    "ind_456 = df.loc[(df['station']=='125 st')&(df['lines']=='456')].index\n",
    "df.loc[ind_456,'station'] = '125 st (4/5/6)'"
   ]
  },
  {
   "cell_type": "code",
   "execution_count": null,
   "metadata": {
    "ExecuteTime": {
     "end_time": "2021-10-26T06:29:36.320563Z",
     "start_time": "2021-10-26T06:29:35.120669Z"
    }
   },
   "outputs": [],
   "source": [
    "# fixing 125 st\n",
    "\n",
    "ind = df.loc[df['station']=='125 st (4/5/6)'].index\n",
    "df.loc[ind, 'station'] = '125 st'"
   ]
  },
  {
   "cell_type": "code",
   "execution_count": null,
   "metadata": {
    "ExecuteTime": {
     "end_time": "2021-10-26T06:29:40.475514Z",
     "start_time": "2021-10-26T06:29:36.321564Z"
    }
   },
   "outputs": [],
   "source": [
    "# 138 st\n",
    "\n",
    "ind = df.loc[(df['station']=='138/grand conc')|(df['station']=='138 st-gr conc')].index\n",
    "df.loc[ind,'station'] = '138 st-grand concourse (4/5)'\n",
    "\n",
    "ind_6 = df.loc[(df['station']=='138 st')|(df['station']=='138 st-3 av')|(df['station']=='3 av 138 st')].index\n",
    "df.loc[ind_6,'station'] = '3 av-138 st (6)'"
   ]
  },
  {
   "cell_type": "code",
   "execution_count": null,
   "metadata": {
    "ExecuteTime": {
     "end_time": "2021-10-26T06:29:44.698710Z",
     "start_time": "2021-10-26T06:29:40.476514Z"
    }
   },
   "outputs": [],
   "source": [
    "# 14 st\n",
    "\n",
    "ind_123 = df.loc[(df['station']=='14 st')|(df['station']=='14 st-6 av')|\n",
    "                 (df['station']=='6 av')|(df['station']=='6 av')].index\n",
    "df.loc[ind_123, 'station'] = '14 st-7 av (1/2/3/F/L/M)'\n",
    "\n",
    "ind_456 = df.loc[(df['station']=='14 st-union sq')].index\n",
    "df.loc[ind_456,'station'] = '14 st-union sq (4/5/6/L/N/Q/R/W)'"
   ]
  },
  {
   "cell_type": "code",
   "execution_count": null,
   "metadata": {
    "ExecuteTime": {
     "end_time": "2021-10-26T06:29:45.882679Z",
     "start_time": "2021-10-26T06:29:44.699719Z"
    }
   },
   "outputs": [],
   "source": [
    "# 135 st\n",
    "\n",
    "ind = df.loc[df['station']=='135 st'].index\n",
    "df.loc[ind,'station'] = '135 st (2/3)'"
   ]
  },
  {
   "cell_type": "code",
   "execution_count": null,
   "metadata": {
    "ExecuteTime": {
     "end_time": "2021-10-26T06:29:49.436400Z",
     "start_time": "2021-10-26T06:29:45.884020Z"
    }
   },
   "outputs": [],
   "source": [
    "# 145 st\n",
    "\n",
    "ind_1 = df.loc[(df['station']=='145 st')&(df['lines']=='1')].index\n",
    "df.loc[ind_1,'station'] = '145 st (1)'\n",
    "\n",
    "ind_3 = df.loc[(df['station']=='145 st')&(df['lines']=='3')].index\n",
    "df.loc[ind_3,'station'] = '145 st (3)'"
   ]
  },
  {
   "cell_type": "code",
   "execution_count": null,
   "metadata": {
    "ExecuteTime": {
     "end_time": "2021-10-26T06:29:51.192398Z",
     "start_time": "2021-10-26T06:29:49.437423Z"
    }
   },
   "outputs": [],
   "source": [
    "# 148 st harlem\n",
    "\n",
    "ind = df.loc[(df['station']=='148 st-lenox')|(df['station']=='harlem 148 st')].index\n",
    "df.loc[ind,'station'] = 'harlem-148 st (3)'"
   ]
  },
  {
   "cell_type": "code",
   "execution_count": null,
   "metadata": {
    "ExecuteTime": {
     "end_time": "2021-10-26T06:29:55.873320Z",
     "start_time": "2021-10-26T06:29:51.193379Z"
    }
   },
   "outputs": [],
   "source": [
    "# 149 st\n",
    "\n",
    "ind_245 = df.loc[(df['station']=='149 st-gr conc')|(df['station']=='149/grand conc')].index\n",
    "df.loc[ind_245,'station'] = '149 st-grand concourse (2/4/5)'\n",
    "\n",
    "ind_25 = df.loc[(df['station']=='3 av-149 st')|(df['station']=='149 st-3 av')].index\n",
    "df.loc[ind_25,'station'] = '3 av-149 st'\n",
    "\n",
    "ind_6 = df.loc[df['station']=='e 149 st'].index\n",
    "df.loc[ind_6,'station'] =  'e 149 st (6)'"
   ]
  },
  {
   "cell_type": "code",
   "execution_count": null,
   "metadata": {
    "ExecuteTime": {
     "end_time": "2021-10-26T06:29:57.037669Z",
     "start_time": "2021-10-26T06:29:55.874321Z"
    }
   },
   "outputs": [],
   "source": [
    "# 157 st\n",
    "\n",
    "ind = df.loc[(df['station']=='157 st')].index\n",
    "df.loc[ind, 'station'] = '157 st (1)'"
   ]
  },
  {
   "cell_type": "code",
   "execution_count": null,
   "metadata": {
    "ExecuteTime": {
     "end_time": "2021-10-26T06:29:58.162781Z",
     "start_time": "2021-10-26T06:29:57.038670Z"
    }
   },
   "outputs": [],
   "source": [
    "# 167 st\n",
    "\n",
    "ind = df.loc[df['station']=='167 st'].index\n",
    "df.loc[ind,'station'] = '167 st (4)'"
   ]
  },
  {
   "cell_type": "code",
   "execution_count": null,
   "metadata": {
    "ExecuteTime": {
     "end_time": "2021-10-26T06:29:59.909956Z",
     "start_time": "2021-10-26T06:29:58.163781Z"
    }
   },
   "outputs": [],
   "source": [
    "# 168 st\n",
    "\n",
    "ind = df.loc[(df['station']=='168 st')|(df['station']=='168 st-broadway')].index\n",
    "df.loc[ind,'station'] = '168 st-broadway (1/A/C)'"
   ]
  },
  {
   "cell_type": "code",
   "execution_count": null,
   "metadata": {
    "ExecuteTime": {
     "end_time": "2021-10-26T06:30:01.675837Z",
     "start_time": "2021-10-26T06:29:59.910981Z"
    }
   },
   "outputs": [],
   "source": [
    "# bleeker st - broadway/lafayette\n",
    "\n",
    "ind = df.loc[(df['station']=='broadway/lafay')|(df['station']=='bleecker st')].index\n",
    "df.loc[ind,'station']='broadway-lafayette/bleecker st (6/B/D/F/Q)'"
   ]
  },
  {
   "cell_type": "code",
   "execution_count": null,
   "metadata": {
    "ExecuteTime": {
     "end_time": "2021-10-26T06:30:02.797569Z",
     "start_time": "2021-10-26T06:30:01.676837Z"
    }
   },
   "outputs": [],
   "source": [
    "# 170 st\n",
    "\n",
    "ind = df.loc[(df['station'] == '170 st')].index\n",
    "df.loc[ind, 'station'] = '170 st (4)'"
   ]
  },
  {
   "cell_type": "code",
   "execution_count": null,
   "metadata": {
    "ExecuteTime": {
     "end_time": "2021-10-26T06:30:03.941576Z",
     "start_time": "2021-10-26T06:30:02.798570Z"
    }
   },
   "outputs": [],
   "source": [
    "# 174 st\n",
    "\n",
    "ind = df.loc[(df['station'] == '174 st')].index\n",
    "df.loc[ind, 'station'] = '174 st (2/5)'"
   ]
  },
  {
   "cell_type": "code",
   "execution_count": null,
   "metadata": {
    "ExecuteTime": {
     "end_time": "2021-10-26T06:30:05.060806Z",
     "start_time": "2021-10-26T06:30:03.942576Z"
    }
   },
   "outputs": [],
   "source": [
    "# 176 st\n",
    "\n",
    "ind = df.loc[df['station']=='176 st'].index\n",
    "df.loc[ind,'station']='176 st (6)'"
   ]
  },
  {
   "cell_type": "code",
   "execution_count": null,
   "metadata": {
    "ExecuteTime": {
     "end_time": "2021-10-26T06:30:06.213788Z",
     "start_time": "2021-10-26T06:30:05.061806Z"
    }
   },
   "outputs": [],
   "source": [
    "# 18 st\n",
    "\n",
    "ind = df.loc[df['station']=='18 st'].index\n",
    "df.loc[ind,'station']='18 st (1)'"
   ]
  },
  {
   "cell_type": "code",
   "execution_count": null,
   "metadata": {
    "ExecuteTime": {
     "end_time": "2021-10-26T06:30:07.337636Z",
     "start_time": "2021-10-26T06:30:06.214788Z"
    }
   },
   "outputs": [],
   "source": [
    "# 181 st\n",
    "\n",
    "ind = df.loc[df['station']=='181 st'].index\n",
    "df.loc[ind,'station']='181 st (1)'"
   ]
  },
  {
   "cell_type": "code",
   "execution_count": null,
   "metadata": {
    "ExecuteTime": {
     "end_time": "2021-10-26T06:30:08.470798Z",
     "start_time": "2021-10-26T06:30:07.338636Z"
    }
   },
   "outputs": [],
   "source": [
    "# 183 st\n",
    "\n",
    "ind = df.loc[df['station']=='183 st'].index\n",
    "df.loc[ind, 'station']='183 st (4)'"
   ]
  },
  {
   "cell_type": "code",
   "execution_count": null,
   "metadata": {
    "ExecuteTime": {
     "end_time": "2021-10-26T06:30:09.596536Z",
     "start_time": "2021-10-26T06:30:08.471797Z"
    }
   },
   "outputs": [],
   "source": [
    "# 191 st\n",
    "\n",
    "ind = df.loc[df['station']=='191 st'].index\n",
    "df.loc[ind, 'station']='191 st (1)'"
   ]
  },
  {
   "cell_type": "code",
   "execution_count": null,
   "metadata": {
    "ExecuteTime": {
     "end_time": "2021-10-26T06:30:10.734747Z",
     "start_time": "2021-10-26T06:30:09.597537Z"
    }
   },
   "outputs": [],
   "source": [
    "# 207 st\n",
    "\n",
    "ind = df.loc[df['station']=='207 st'].index\n",
    "df.loc[ind, 'station'] = '207 st (1)'"
   ]
  },
  {
   "cell_type": "code",
   "execution_count": null,
   "metadata": {
    "ExecuteTime": {
     "end_time": "2021-10-26T06:30:32.916431Z",
     "start_time": "2021-10-26T06:30:31.812426Z"
    }
   },
   "outputs": [],
   "source": [
    "# 215 st\n",
    "\n",
    "ind = df.loc[df['station']=='215 st'].index\n",
    "df.loc[ind, 'station'] = '215 st (1)'"
   ]
  },
  {
   "cell_type": "code",
   "execution_count": null,
   "metadata": {
    "ExecuteTime": {
     "end_time": "2021-10-26T06:30:34.027430Z",
     "start_time": "2021-10-26T06:30:32.917431Z"
    }
   },
   "outputs": [],
   "source": [
    "# 219 st\n",
    "\n",
    "ind = df.loc[df['station'] == '219 st'].index\n",
    "df.loc[ind,'station']='219 st (2/5)'"
   ]
  },
  {
   "cell_type": "code",
   "execution_count": null,
   "metadata": {
    "ExecuteTime": {
     "end_time": "2021-10-26T06:30:35.142534Z",
     "start_time": "2021-10-26T06:30:34.028431Z"
    }
   },
   "outputs": [],
   "source": [
    "# 225 st\n",
    "\n",
    "ind = df.loc[df['station']=='225 st'].index\n",
    "df.loc[ind,'station']='225 st (2/5)'"
   ]
  },
  {
   "cell_type": "code",
   "execution_count": null,
   "metadata": {
    "ExecuteTime": {
     "end_time": "2021-10-26T06:30:38.688963Z",
     "start_time": "2021-10-26T06:30:35.143534Z"
    }
   },
   "outputs": [],
   "source": [
    "# 23 st\n",
    "\n",
    "ind_1 = df.loc[(df['station'] == '23 st')&(df['lines']=='1')].index\n",
    "df.loc[ind_1,'station'] = '23 st (1)'\n",
    "\n",
    "ind_6 = df.loc[(df['station'] == '23 st')&(df['lines']=='6')].index\n",
    "df.loc[ind_6,'station'] = '23 st (6)'"
   ]
  },
  {
   "cell_type": "code",
   "execution_count": null,
   "metadata": {
    "ExecuteTime": {
     "end_time": "2021-10-26T06:30:39.805404Z",
     "start_time": "2021-10-26T06:30:38.689767Z"
    }
   },
   "outputs": [],
   "source": [
    "# 231 st\n",
    "\n",
    "ind = df.loc[df['station']=='231 st'].index\n",
    "df.loc[ind,'station'] = '231 st (1)'"
   ]
  },
  {
   "cell_type": "code",
   "execution_count": null,
   "metadata": {
    "ExecuteTime": {
     "end_time": "2021-10-26T06:30:40.916089Z",
     "start_time": "2021-10-26T06:30:39.806404Z"
    }
   },
   "outputs": [],
   "source": [
    "# 233 st\n",
    "\n",
    "ind = df.loc[df['station']=='233 st'].index\n",
    "df.loc[ind, 'station'] = '233 st (2/5)'"
   ]
  },
  {
   "cell_type": "code",
   "execution_count": null,
   "metadata": {
    "ExecuteTime": {
     "end_time": "2021-10-26T06:30:42.022805Z",
     "start_time": "2021-10-26T06:30:40.917089Z"
    }
   },
   "outputs": [],
   "source": [
    "# 238 st\n",
    "\n",
    "ind = df.loc[df['station']=='238 st'].index\n",
    "df.loc[ind, 'station'] = '238 st (1)'"
   ]
  },
  {
   "cell_type": "code",
   "execution_count": null,
   "metadata": {
    "ExecuteTime": {
     "end_time": "2021-10-26T06:30:43.737377Z",
     "start_time": "2021-10-26T06:30:42.023786Z"
    }
   },
   "outputs": [],
   "source": [
    "# 242 st\n",
    "\n",
    "ind = df.loc[(df['station']=='242 st')|(df['station']=='v.cortlandt pk')].index\n",
    "df.loc[ind,'station'] = 'van cortlandt park-242 st (1)'"
   ]
  },
  {
   "cell_type": "code",
   "execution_count": null,
   "metadata": {
    "ExecuteTime": {
     "end_time": "2021-10-26T06:30:47.141700Z",
     "start_time": "2021-10-26T06:30:43.738378Z"
    }
   },
   "outputs": [],
   "source": [
    "# 28 st\n",
    "\n",
    "ind_1 = df.loc[(df['station'] == '28 st')&(df['lines']=='1')].index\n",
    "df.loc[ind_1,'station'] = '28 st (1)'\n",
    "\n",
    "ind_6 = df.loc[(df['station'] == '28 st')&(df['lines']=='6')].index\n",
    "df.loc[ind_6,'station'] = '28 st (6)'"
   ]
  },
  {
   "cell_type": "code",
   "execution_count": null,
   "metadata": {
    "ExecuteTime": {
     "end_time": "2021-10-26T06:30:48.270141Z",
     "start_time": "2021-10-26T06:30:47.142701Z"
    }
   },
   "outputs": [],
   "source": [
    "# 33 st\n",
    "\n",
    "ind = df.loc[df['station']=='33 st'].index\n",
    "df.loc[ind,'station'] = '33 st (6)'"
   ]
  },
  {
   "cell_type": "code",
   "execution_count": null,
   "metadata": {
    "ExecuteTime": {
     "end_time": "2021-10-26T06:30:50.543270Z",
     "start_time": "2021-10-26T06:30:48.271142Z"
    }
   },
   "outputs": [],
   "source": [
    "# 34 streets\n",
    "\n",
    "ind_1 = df.loc[df['station']=='34 st-penn sta'].index\n",
    "df.loc[ind_1,'station'] = '34 st-penn sta (1/2/3/A/C/E)'\n",
    "\n",
    "ind_7 = df.loc[df['station']=='34 st-hudson yd'].index\n",
    "df.loc[ind_7,'station'] = '34 st-hudson yd (7)'"
   ]
  },
  {
   "cell_type": "code",
   "execution_count": null,
   "metadata": {
    "ExecuteTime": {
     "end_time": "2021-10-26T06:30:52.230700Z",
     "start_time": "2021-10-26T06:30:50.544270Z"
    }
   },
   "outputs": [],
   "source": [
    "# 40 st\n",
    "\n",
    "ind = df.loc[(df['station']=='40 st lowery st')|(df['station']=='40 st-lowery st')].index\n",
    "df.loc[ind,'station'] = '40 st-lowery st (7)'"
   ]
  },
  {
   "cell_type": "code",
   "execution_count": null,
   "metadata": {
    "ExecuteTime": {
     "end_time": "2021-10-26T06:30:53.942232Z",
     "start_time": "2021-10-26T06:30:52.231700Z"
    }
   },
   "outputs": [],
   "source": [
    "# 46 st\n",
    "\n",
    "ind = df.loc[(df['station']=='46 st bliss st')|(df['station']=='46 st-bliss st')].index\n",
    "df.loc[ind, 'station'] = '46 st-bliss st (7)'"
   ]
  },
  {
   "cell_type": "code",
   "execution_count": null,
   "metadata": {
    "ExecuteTime": {
     "end_time": "2021-10-26T06:30:55.038420Z",
     "start_time": "2021-10-26T06:30:53.943674Z"
    }
   },
   "outputs": [],
   "source": [
    "# 50 st\n",
    "\n",
    "ind = df.loc[df['station']=='50 st'].index\n",
    "df.loc[ind, 'station'] = '50 st (1)'"
   ]
  },
  {
   "cell_type": "code",
   "execution_count": null,
   "metadata": {
    "ExecuteTime": {
     "end_time": "2021-10-26T06:30:56.150896Z",
     "start_time": "2021-10-26T06:30:55.039421Z"
    }
   },
   "outputs": [],
   "source": [
    "# 51 st\n",
    "\n",
    "ind = df.loc[df['station']=='51 st'].index\n",
    "df.loc[ind, 'station'] = '51 st (6)'"
   ]
  },
  {
   "cell_type": "code",
   "execution_count": null,
   "metadata": {
    "ExecuteTime": {
     "end_time": "2021-10-26T06:30:57.837315Z",
     "start_time": "2021-10-26T06:30:56.151926Z"
    }
   },
   "outputs": [],
   "source": [
    "# 52 st\n",
    "\n",
    "ind = df.loc[(df['station']=='52 st')|(df['station']=='52 st-lincoln')].index\n",
    "df.loc[ind, 'station'] = '52 st-lincoln (7)'"
   ]
  },
  {
   "cell_type": "code",
   "execution_count": null,
   "metadata": {
    "ExecuteTime": {
     "end_time": "2021-10-26T06:31:00.625451Z",
     "start_time": "2021-10-26T06:30:57.838315Z"
    }
   },
   "outputs": [],
   "source": [
    "# 59 streets\n",
    "\n",
    "ind_456 = df.loc[df['station']=='59 st'].index\n",
    "df.loc[ind_456,'station'] = '59 st (4/5/6/N/Q/R/W)'\n",
    "\n",
    "ind_1 = df.loc[(df['station']=='59 st columbus')|(df['station']=='59 st-columbus')].index\n",
    "df.loc[ind_1,'station'] = '59 st-columbus cr (1/A/B/C/D)'"
   ]
  },
  {
   "cell_type": "code",
   "execution_count": null,
   "metadata": {
    "ExecuteTime": {
     "end_time": "2021-10-26T06:31:02.265705Z",
     "start_time": "2021-10-26T06:31:00.627461Z"
    }
   },
   "outputs": [],
   "source": [
    "# 61 st woodside\n",
    "\n",
    "ind = df.loc[(df['station']=='61 st woodside')|(df['station']=='61 st/woodside')].index\n",
    "df.loc[ind,'station'] = '61 st-woodside (7)'"
   ]
  },
  {
   "cell_type": "code",
   "execution_count": null,
   "metadata": {
    "ExecuteTime": {
     "end_time": "2021-10-26T06:31:03.333683Z",
     "start_time": "2021-10-26T06:31:02.266706Z"
    }
   },
   "outputs": [],
   "source": [
    "# 66 st\n",
    "\n",
    "ind = df.loc[df['station']=='66 st-lincoln'].index\n",
    "df.loc[ind,'station']='66 st-lincoln ctr (1)'"
   ]
  },
  {
   "cell_type": "code",
   "execution_count": null,
   "metadata": {
    "ExecuteTime": {
     "end_time": "2021-10-26T06:31:04.983648Z",
     "start_time": "2021-10-26T06:31:03.334685Z"
    }
   },
   "outputs": [],
   "source": [
    "# 68 st\n",
    "\n",
    "ind = df.loc[(df['station']=='68st-hunter col')|(df['station']=='68st-hunter co')].index\n",
    "df.loc[ind, 'station'] = '68 st-hunter clg (6)'"
   ]
  },
  {
   "cell_type": "code",
   "execution_count": null,
   "metadata": {
    "ExecuteTime": {
     "end_time": "2021-10-26T06:31:06.625518Z",
     "start_time": "2021-10-26T06:31:04.984649Z"
    }
   },
   "outputs": [],
   "source": [
    "# 69 st\n",
    "\n",
    "ind = df.loc[(df['station']=='69 st')|(df['station']=='69 st-fisk av')].index\n",
    "df.loc[ind, 'station'] = '69 st-fisk av (7)'"
   ]
  },
  {
   "cell_type": "code",
   "execution_count": null,
   "metadata": {
    "ExecuteTime": {
     "end_time": "2021-10-26T06:31:07.690506Z",
     "start_time": "2021-10-26T06:31:06.626519Z"
    }
   },
   "outputs": [],
   "source": [
    "# 72 st\n",
    "\n",
    "ind = df.loc[df['station']=='72 st'].index\n",
    "df.loc[ind, 'station'] =  '72 st (1/2/3)'"
   ]
  },
  {
   "cell_type": "code",
   "execution_count": null,
   "metadata": {
    "ExecuteTime": {
     "end_time": "2021-10-26T06:31:09.315478Z",
     "start_time": "2021-10-26T06:31:07.691506Z"
    }
   },
   "outputs": [],
   "source": [
    "# 74 st broadway jackson hts\n",
    "\n",
    "ind = df.loc[(df['station']=='74 st-broadway')|(df['station']=='jksn ht-roosvlt')].index\n",
    "df.loc[ind,'station'] = '74 st-broadway (7/E/F/M/R)'"
   ]
  },
  {
   "cell_type": "code",
   "execution_count": null,
   "metadata": {
    "ExecuteTime": {
     "end_time": "2021-10-26T06:31:10.343463Z",
     "start_time": "2021-10-26T06:31:09.316478Z"
    }
   },
   "outputs": [],
   "source": [
    "# 77 st\n",
    "\n",
    "ind = df.loc[df['station']=='77 st'].index\n",
    "df.loc[ind, 'station']='77 st (6)'"
   ]
  },
  {
   "cell_type": "code",
   "execution_count": null,
   "metadata": {
    "ExecuteTime": {
     "end_time": "2021-10-26T06:31:11.372058Z",
     "start_time": "2021-10-26T06:31:10.344463Z"
    }
   },
   "outputs": [],
   "source": [
    "# 79 st\n",
    "\n",
    "ind = df.loc[df['station']=='79 st'].index\n",
    "df.loc[ind,'station']='79 st (1)'"
   ]
  },
  {
   "cell_type": "code",
   "execution_count": null,
   "metadata": {
    "ExecuteTime": {
     "end_time": "2021-10-26T06:31:12.389729Z",
     "start_time": "2021-10-26T06:31:11.373036Z"
    }
   },
   "outputs": [],
   "source": [
    "# 82 st\n",
    "\n",
    "ind = df.loc[df['station']=='82 st-jackson h'].index\n",
    "df.loc[ind,'station'] = '82 st-jackson hts (7)'"
   ]
  },
  {
   "cell_type": "code",
   "execution_count": null,
   "metadata": {
    "ExecuteTime": {
     "end_time": "2021-10-26T06:31:15.699655Z",
     "start_time": "2021-10-26T06:31:12.390730Z"
    }
   },
   "outputs": [],
   "source": [
    "# 86 st\n",
    "\n",
    "ind_1 = df.loc[(df['station']=='86 st')&(df['lines']=='1')].index\n",
    "df.loc[ind_1,'station'] = '86 st (1)'\n",
    "\n",
    "ind_456 = df.loc[(df['station']=='86 st')&(df['lines']=='456')].index\n",
    "df.loc[ind_456, 'station'] = '86 st (4/5/6)'"
   ]
  },
  {
   "cell_type": "code",
   "execution_count": null,
   "metadata": {
    "ExecuteTime": {
     "end_time": "2021-10-26T06:31:16.696994Z",
     "start_time": "2021-10-26T06:31:15.700664Z"
    }
   },
   "outputs": [],
   "source": [
    "# 90 st\n",
    "\n",
    "ind = df.loc[df['station']=='90 st-elmhurst'].index\n",
    "df.loc[ind,'station'] = '90 st-elmhurst (7)'"
   ]
  },
  {
   "cell_type": "code",
   "execution_count": null,
   "metadata": {
    "ExecuteTime": {
     "end_time": "2021-10-26T06:31:19.884612Z",
     "start_time": "2021-10-26T06:31:16.697995Z"
    }
   },
   "outputs": [],
   "source": [
    "# 96 st\n",
    "\n",
    "ind_123 = df.loc[(df['station']=='96 st')&(df['lines']=='123')].index\n",
    "df.loc[ind_123,'station'] = '96 st (1/2/3)'\n",
    "\n",
    "ind_6 = df.loc[(df['station']=='96 st')&(df['lines']=='6')].index\n",
    "df.loc[ind_6,'station'] = '96 st (6)'"
   ]
  },
  {
   "cell_type": "code",
   "execution_count": null,
   "metadata": {
    "ExecuteTime": {
     "end_time": "2021-10-26T06:31:20.852362Z",
     "start_time": "2021-10-26T06:31:19.885613Z"
    }
   },
   "outputs": [],
   "source": [
    "# allerton av\n",
    "\n",
    "ind = df.loc[df['station']=='allerton av'].index\n",
    "df.loc[ind,'station'] = 'allerton av (2/5)'"
   ]
  },
  {
   "cell_type": "code",
   "execution_count": null,
   "metadata": {
    "ExecuteTime": {
     "end_time": "2021-10-26T06:31:21.851734Z",
     "start_time": "2021-10-26T06:31:20.853340Z"
    }
   },
   "outputs": [],
   "source": [
    "# astor pl\n",
    "\n",
    "ind = df.loc[df['station']=='astor pl'].index\n",
    "df.loc[ind,'station'] = 'astor pl (6)'"
   ]
  },
  {
   "cell_type": "code",
   "execution_count": null,
   "metadata": {
    "ExecuteTime": {
     "end_time": "2021-10-26T06:31:22.808272Z",
     "start_time": "2021-10-26T06:31:21.852735Z"
    }
   },
   "outputs": [],
   "source": [
    "# missed this one\n",
    "\n",
    "ind = df.loc[(df['station']==\"b'way-lafayette\")].index\n",
    "df.loc[ind,'station']='broadway-lafayette/bleecker st (6/B/D/F/Q)'"
   ]
  },
  {
   "cell_type": "code",
   "execution_count": null,
   "metadata": {
    "ExecuteTime": {
     "end_time": "2021-10-26T06:31:23.792919Z",
     "start_time": "2021-10-26T06:31:22.809272Z"
    }
   },
   "outputs": [],
   "source": [
    "# baychester av\n",
    "\n",
    "ind = df.loc[df['station']=='baychester av'].index\n",
    "df.loc[ind, 'station'] = 'baychester av (5)'"
   ]
  },
  {
   "cell_type": "code",
   "execution_count": null,
   "metadata": {
    "ExecuteTime": {
     "end_time": "2021-10-26T06:31:30.016075Z",
     "start_time": "2021-10-26T06:31:23.793891Z"
    }
   },
   "outputs": [],
   "source": [
    "# because of the S train, a few undesireable stations made it on here...\n",
    "\n",
    "droppers = df.loc[(df['station']=='beach 105 st')|(df['station']=='beach 90 st')\n",
    "                  |(df['station']=='beach 98 st')|(df['station']=='rockaway pk 116')\n",
    "                  |((df['station']=='park pl')&(df['lines']=='S'))|(df['station']=='brd channel')\n",
    "                 |(df['station']=='rockaway park b')|(df['station']=='prospect park')].index"
   ]
  },
  {
   "cell_type": "code",
   "execution_count": null,
   "metadata": {
    "ExecuteTime": {
     "end_time": "2021-10-26T06:31:35.343419Z",
     "start_time": "2021-10-26T06:31:30.017099Z"
    }
   },
   "outputs": [],
   "source": [
    "df.drop(droppers,inplace=True)"
   ]
  },
  {
   "cell_type": "code",
   "execution_count": null,
   "metadata": {
    "ExecuteTime": {
     "end_time": "2021-10-26T06:31:41.409948Z",
     "start_time": "2021-10-26T06:31:35.345419Z"
    }
   },
   "outputs": [],
   "source": [
    "# missed one\n",
    "\n",
    "dropit = df.loc[(df['station']=='prospect park')].index\n",
    "df.drop(dropit,inplace=True)"
   ]
  },
  {
   "cell_type": "code",
   "execution_count": null,
   "metadata": {
    "ExecuteTime": {
     "end_time": "2021-10-26T06:31:43.021672Z",
     "start_time": "2021-10-26T06:31:41.410907Z"
    }
   },
   "outputs": [],
   "source": [
    "# bedford park\n",
    "\n",
    "ind = df.loc[(df['station']=='bedford park bl')|(df['station']=='bedford pk blvd')].index\n",
    "df.loc[ind,'station'] = 'bedford pk blvd (4)'"
   ]
  },
  {
   "cell_type": "code",
   "execution_count": null,
   "metadata": {
    "ExecuteTime": {
     "end_time": "2021-10-26T06:31:44.003013Z",
     "start_time": "2021-10-26T06:31:43.022670Z"
    }
   },
   "outputs": [],
   "source": [
    "# bergen st\n",
    "\n",
    "ind = df.loc[df['station']=='bergen st'].index\n",
    "df.loc[ind,'station'] = 'bergen st (2/3)'"
   ]
  },
  {
   "cell_type": "code",
   "execution_count": null,
   "metadata": {
    "ExecuteTime": {
     "end_time": "2021-10-26T06:38:04.982583Z",
     "start_time": "2021-10-26T06:38:03.644372Z"
    }
   },
   "outputs": [],
   "source": [
    "# beverly rd\n",
    "\n",
    "ind = df.loc[(df['station']=='beverly rd')|(df['station']=='beverlyrd')].index\n",
    "df.loc[ind,'station'] = 'beverly rd (2/5)'"
   ]
  },
  {
   "cell_type": "code",
   "execution_count": null,
   "metadata": {
    "ExecuteTime": {
     "end_time": "2021-10-26T06:31:46.612627Z",
     "start_time": "2021-10-26T06:31:44.986641Z"
    }
   },
   "outputs": [],
   "source": [
    "# borough hall\n",
    "\n",
    "ind = df.loc[(df['station']=='borough hall')|(df['station']=='borough hall/ct')].index\n",
    "df.loc[ind,'station'] = 'borough hall-court st (2/3/4/5/R)'"
   ]
  },
  {
   "cell_type": "code",
   "execution_count": null,
   "metadata": {
    "ExecuteTime": {
     "end_time": "2021-10-26T06:31:48.231526Z",
     "start_time": "2021-10-26T06:31:46.613627Z"
    }
   },
   "outputs": [],
   "source": [
    "# franklin av/botanic garden\n",
    "\n",
    "ind = df.loc[(df['station']=='botanic garden')|(df['station']=='franklin av')].index\n",
    "df.loc[ind,'station'] = 'franklin av (2/3/4/5/S)'"
   ]
  },
  {
   "cell_type": "code",
   "execution_count": null,
   "metadata": {
    "ExecuteTime": {
     "end_time": "2021-10-26T06:31:49.197590Z",
     "start_time": "2021-10-26T06:31:48.232603Z"
    }
   },
   "outputs": [],
   "source": [
    "# messed up bleecker\n",
    "\n",
    "ind = df.loc[(df['station']=='brdway-lafayette/bleecker st (6/B/D/F/Q)')].index\n",
    "df.loc[ind,'station'] = 'broadway-lafayette/bleecker st (6/B/D/F/Q)'"
   ]
  },
  {
   "cell_type": "code",
   "execution_count": null,
   "metadata": {
    "ExecuteTime": {
     "end_time": "2021-10-26T06:31:50.255647Z",
     "start_time": "2021-10-26T06:31:49.198591Z"
    }
   },
   "outputs": [],
   "source": [
    "# bowling green\n",
    "\n",
    "ind = df.loc[df['station'] == 'bowling green'].index\n",
    "df.loc[ind,'station'] = 'bowling green (4/5)'"
   ]
  },
  {
   "cell_type": "code",
   "execution_count": null,
   "metadata": {
    "ExecuteTime": {
     "end_time": "2021-10-26T06:31:51.239104Z",
     "start_time": "2021-10-26T06:31:50.256647Z"
    }
   },
   "outputs": [],
   "source": [
    "# bronx pk east\n",
    "\n",
    "ind = df.loc[df['station']=='bronx park east'].index\n",
    "df.loc[ind,'station'] = 'bronx pk east (2/5)'"
   ]
  },
  {
   "cell_type": "code",
   "execution_count": null,
   "metadata": {
    "ExecuteTime": {
     "end_time": "2021-10-26T06:32:06.409755Z",
     "start_time": "2021-10-26T06:32:05.444821Z"
    }
   },
   "outputs": [],
   "source": [
    "# brook av\n",
    "\n",
    "ind = df.loc[df['station']=='brook av'].index\n",
    "df.loc[ind, 'station'] = 'brook av (6)'"
   ]
  },
  {
   "cell_type": "code",
   "execution_count": null,
   "metadata": {
    "ExecuteTime": {
     "end_time": "2021-10-26T06:32:08.646989Z",
     "start_time": "2021-10-26T06:32:06.410756Z"
    }
   },
   "outputs": [],
   "source": [
    "# bk br city hall\n",
    "\n",
    "ind = df.loc[(df['station']=='brooklyn bridge')|((df['station']=='chambers st')&(df['lines']=='JZ456'))].index\n",
    "df.loc[ind, 'station'] = 'brooklyn bridge-city hall (4/5/6/J/Z)'"
   ]
  },
  {
   "cell_type": "code",
   "execution_count": null,
   "metadata": {
    "ExecuteTime": {
     "end_time": "2021-10-26T06:32:09.610721Z",
     "start_time": "2021-10-26T06:32:08.647990Z"
    }
   },
   "outputs": [],
   "source": [
    "# buhre av\n",
    "\n",
    "ind = df.loc[df['station']=='buhre av'].index\n",
    "df.loc[ind,'station'] = 'buhre av (6)'"
   ]
  },
  {
   "cell_type": "code",
   "execution_count": null,
   "metadata": {
    "ExecuteTime": {
     "end_time": "2021-10-26T06:32:10.564631Z",
     "start_time": "2021-10-26T06:32:09.611721Z"
    }
   },
   "outputs": [],
   "source": [
    "# burke av\n",
    "\n",
    "ind = df.loc[df['station']=='burke av'].index\n",
    "df.loc[ind,'station'] = 'burke av (2/5)'"
   ]
  },
  {
   "cell_type": "code",
   "execution_count": null,
   "metadata": {
    "ExecuteTime": {
     "end_time": "2021-10-26T06:32:11.521664Z",
     "start_time": "2021-10-26T06:32:10.565631Z"
    }
   },
   "outputs": [],
   "source": [
    "# burnside av\n",
    "\n",
    "ind = df.loc[df['station']=='burnside av'].index\n",
    "df.loc[ind, 'station'] = 'burnside av (4)'"
   ]
  },
  {
   "cell_type": "code",
   "execution_count": 43,
   "metadata": {
    "ExecuteTime": {
     "end_time": "2021-10-26T09:40:23.239405Z",
     "start_time": "2021-10-26T09:40:23.237378Z"
    }
   },
   "outputs": [],
   "source": [
    "import pandas as pd\n",
    "import pickle as pkl\n",
    "pd.set_option('display.max_columns',None)\n",
    "pd.set_option('display.max_rows',500)\n",
    "import warnings"
   ]
  },
  {
   "cell_type": "code",
   "execution_count": 56,
   "metadata": {
    "ExecuteTime": {
     "end_time": "2021-10-26T09:50:17.404829Z",
     "start_time": "2021-10-26T09:50:12.323789Z"
    }
   },
   "outputs": [],
   "source": [
    "with open('../data/turnstile_irt.pkl', 'rb') as f:\n",
    "    check = pkl.load(f)"
   ]
  },
  {
   "cell_type": "code",
   "execution_count": 59,
   "metadata": {
    "ExecuteTime": {
     "end_time": "2021-10-26T09:50:49.707503Z",
     "start_time": "2021-10-26T09:50:48.620470Z"
    }
   },
   "outputs": [
    {
     "data": {
      "text/plain": [
       "JNQRZ6W    360046\n",
       "JNQRZ6     151437\n",
       "1           91498\n",
       "Name: lines, dtype: int64"
      ]
     },
     "execution_count": 59,
     "metadata": {},
     "output_type": "execute_result"
    }
   ],
   "source": [
    "check['lines'].loc[check['station'] == 'CANAL ST'].value_counts()"
   ]
  },
  {
   "cell_type": "code",
   "execution_count": 44,
   "metadata": {
    "ExecuteTime": {
     "end_time": "2021-10-26T09:40:31.763165Z",
     "start_time": "2021-10-26T09:40:23.445111Z"
    }
   },
   "outputs": [],
   "source": [
    "with open('all_turnstiles.pkl','rb') as f:\n",
    "    df = pkl.load(f)"
   ]
  },
  {
   "cell_type": "code",
   "execution_count": 60,
   "metadata": {
    "ExecuteTime": {
     "end_time": "2021-10-26T09:52:09.381788Z",
     "start_time": "2021-10-26T09:52:02.732375Z"
    }
   },
   "outputs": [],
   "source": [
    "check['station'] = check['station'].str.lower()"
   ]
  },
  {
   "cell_type": "code",
   "execution_count": 63,
   "metadata": {
    "ExecuteTime": {
     "end_time": "2021-10-26T09:54:57.230537Z",
     "start_time": "2021-10-26T09:54:57.211941Z"
    }
   },
   "outputs": [
    {
     "data": {
      "text/html": [
       "<div>\n",
       "<style scoped>\n",
       "    .dataframe tbody tr th:only-of-type {\n",
       "        vertical-align: middle;\n",
       "    }\n",
       "\n",
       "    .dataframe tbody tr th {\n",
       "        vertical-align: top;\n",
       "    }\n",
       "\n",
       "    .dataframe thead th {\n",
       "        text-align: right;\n",
       "    }\n",
       "</style>\n",
       "<table border=\"1\" class=\"dataframe\">\n",
       "  <thead>\n",
       "    <tr style=\"text-align: right;\">\n",
       "      <th></th>\n",
       "      <th>station</th>\n",
       "      <th>lines</th>\n",
       "      <th>division</th>\n",
       "      <th>entries</th>\n",
       "      <th>exits</th>\n",
       "      <th>date</th>\n",
       "    </tr>\n",
       "  </thead>\n",
       "  <tbody>\n",
       "    <tr>\n",
       "      <th>66622</th>\n",
       "      <td>canal st</td>\n",
       "      <td>JNQRZ6</td>\n",
       "      <td>BMT</td>\n",
       "      <td>7850849</td>\n",
       "      <td>5860879</td>\n",
       "      <td>2014-10-11 01:00:00</td>\n",
       "    </tr>\n",
       "    <tr>\n",
       "      <th>66623</th>\n",
       "      <td>canal st</td>\n",
       "      <td>JNQRZ6</td>\n",
       "      <td>BMT</td>\n",
       "      <td>7850942</td>\n",
       "      <td>5860912</td>\n",
       "      <td>2014-10-11 05:00:00</td>\n",
       "    </tr>\n",
       "    <tr>\n",
       "      <th>66624</th>\n",
       "      <td>canal st</td>\n",
       "      <td>JNQRZ6</td>\n",
       "      <td>BMT</td>\n",
       "      <td>7851026</td>\n",
       "      <td>5861244</td>\n",
       "      <td>2014-10-11 09:00:00</td>\n",
       "    </tr>\n",
       "    <tr>\n",
       "      <th>66625</th>\n",
       "      <td>canal st</td>\n",
       "      <td>JNQRZ6</td>\n",
       "      <td>BMT</td>\n",
       "      <td>7851433</td>\n",
       "      <td>5861975</td>\n",
       "      <td>2014-10-11 13:00:00</td>\n",
       "    </tr>\n",
       "    <tr>\n",
       "      <th>66626</th>\n",
       "      <td>canal st</td>\n",
       "      <td>JNQRZ6</td>\n",
       "      <td>BMT</td>\n",
       "      <td>7852707</td>\n",
       "      <td>5862484</td>\n",
       "      <td>2014-10-11 17:00:00</td>\n",
       "    </tr>\n",
       "    <tr>\n",
       "      <th>...</th>\n",
       "      <td>...</td>\n",
       "      <td>...</td>\n",
       "      <td>...</td>\n",
       "      <td>...</td>\n",
       "      <td>...</td>\n",
       "      <td>...</td>\n",
       "    </tr>\n",
       "    <tr>\n",
       "      <th>72732316</th>\n",
       "      <td>canal st</td>\n",
       "      <td>1</td>\n",
       "      <td>IRT</td>\n",
       "      <td>1483631</td>\n",
       "      <td>8381486</td>\n",
       "      <td>2021-10-08 05:00:00</td>\n",
       "    </tr>\n",
       "    <tr>\n",
       "      <th>72732317</th>\n",
       "      <td>canal st</td>\n",
       "      <td>1</td>\n",
       "      <td>IRT</td>\n",
       "      <td>1483634</td>\n",
       "      <td>8381633</td>\n",
       "      <td>2021-10-08 09:00:00</td>\n",
       "    </tr>\n",
       "    <tr>\n",
       "      <th>72732318</th>\n",
       "      <td>canal st</td>\n",
       "      <td>1</td>\n",
       "      <td>IRT</td>\n",
       "      <td>1483653</td>\n",
       "      <td>8381763</td>\n",
       "      <td>2021-10-08 13:00:00</td>\n",
       "    </tr>\n",
       "    <tr>\n",
       "      <th>72732319</th>\n",
       "      <td>canal st</td>\n",
       "      <td>1</td>\n",
       "      <td>IRT</td>\n",
       "      <td>1483686</td>\n",
       "      <td>8381887</td>\n",
       "      <td>2021-10-08 17:00:00</td>\n",
       "    </tr>\n",
       "    <tr>\n",
       "      <th>72732320</th>\n",
       "      <td>canal st</td>\n",
       "      <td>1</td>\n",
       "      <td>IRT</td>\n",
       "      <td>1483713</td>\n",
       "      <td>8382008</td>\n",
       "      <td>2021-10-08 21:00:00</td>\n",
       "    </tr>\n",
       "  </tbody>\n",
       "</table>\n",
       "<p>602981 rows × 6 columns</p>\n",
       "</div>"
      ],
      "text/plain": [
       "           station   lines division  entries    exits                date\n",
       "66622     canal st  JNQRZ6      BMT  7850849  5860879 2014-10-11 01:00:00\n",
       "66623     canal st  JNQRZ6      BMT  7850942  5860912 2014-10-11 05:00:00\n",
       "66624     canal st  JNQRZ6      BMT  7851026  5861244 2014-10-11 09:00:00\n",
       "66625     canal st  JNQRZ6      BMT  7851433  5861975 2014-10-11 13:00:00\n",
       "66626     canal st  JNQRZ6      BMT  7852707  5862484 2014-10-11 17:00:00\n",
       "...            ...     ...      ...      ...      ...                 ...\n",
       "72732316  canal st       1      IRT  1483631  8381486 2021-10-08 05:00:00\n",
       "72732317  canal st       1      IRT  1483634  8381633 2021-10-08 09:00:00\n",
       "72732318  canal st       1      IRT  1483653  8381763 2021-10-08 13:00:00\n",
       "72732319  canal st       1      IRT  1483686  8381887 2021-10-08 17:00:00\n",
       "72732320  canal st       1      IRT  1483713  8382008 2021-10-08 21:00:00\n",
       "\n",
       "[602981 rows x 6 columns]"
      ]
     },
     "execution_count": 63,
     "metadata": {},
     "output_type": "execute_result"
    }
   ],
   "source": [
    "canal"
   ]
  },
  {
   "cell_type": "code",
   "execution_count": 66,
   "metadata": {
    "ExecuteTime": {
     "end_time": "2021-10-26T09:56:24.969483Z",
     "start_time": "2021-10-26T09:56:23.808510Z"
    }
   },
   "outputs": [],
   "source": [
    "canal = check.loc[check['station']=='canal st']"
   ]
  },
  {
   "cell_type": "code",
   "execution_count": 69,
   "metadata": {
    "ExecuteTime": {
     "end_time": "2021-10-26T09:56:46.912867Z",
     "start_time": "2021-10-26T09:56:46.876222Z"
    }
   },
   "outputs": [
    {
     "data": {
      "text/plain": [
       "JNQRZ6W    360046\n",
       "JNQRZ6     151437\n",
       "1           91498\n",
       "Name: lines, dtype: int64"
      ]
     },
     "execution_count": 69,
     "metadata": {},
     "output_type": "execute_result"
    }
   ],
   "source": [
    "canal['lines'].value_counts()"
   ]
  },
  {
   "cell_type": "code",
   "execution_count": 70,
   "metadata": {
    "ExecuteTime": {
     "end_time": "2021-10-26T09:57:11.803502Z",
     "start_time": "2021-10-26T09:57:11.404617Z"
    }
   },
   "outputs": [
    {
     "name": "stderr",
     "output_type": "stream",
     "text": [
      "C:\\Users\\sethk\\anaconda3\\envs\\learn-env\\lib\\site-packages\\pandas\\core\\indexing.py:1765: SettingWithCopyWarning: \n",
      "A value is trying to be set on a copy of a slice from a DataFrame.\n",
      "Try using .loc[row_indexer,col_indexer] = value instead\n",
      "\n",
      "See the caveats in the documentation: https://pandas.pydata.org/pandas-docs/stable/user_guide/indexing.html#returning-a-view-versus-a-copy\n",
      "  isetter(loc, value)\n"
     ]
    },
    {
     "data": {
      "text/plain": [
       "canal st (6/J/N/Q/R/W/Z)    511483\n",
       "canal st (1)                 91498\n",
       "Name: station, dtype: int64"
      ]
     },
     "execution_count": 70,
     "metadata": {},
     "output_type": "execute_result"
    }
   ],
   "source": [
    "ind_1 = canal.loc[canal['lines']=='1'].index\n",
    "canal.loc[ind_1, 'station'] = 'canal st (1)'\n",
    "\n",
    "ind_6 = canal.loc[canal['lines'].str.contains('6')].index\n",
    "canal.loc[ind_6, 'station'] = 'canal st (6/J/N/Q/R/W/Z)'\n",
    "\n",
    "canal['station'].value_counts()"
   ]
  },
  {
   "cell_type": "code",
   "execution_count": 72,
   "metadata": {
    "ExecuteTime": {
     "end_time": "2021-10-26T09:57:42.268313Z",
     "start_time": "2021-10-26T09:57:40.556249Z"
    }
   },
   "outputs": [],
   "source": [
    "canal.to_csv('../data/canal_st.csv')"
   ]
  },
  {
   "cell_type": "code",
   "execution_count": 55,
   "metadata": {
    "ExecuteTime": {
     "end_time": "2021-10-26T09:49:59.431370Z",
     "start_time": "2021-10-26T09:49:58.820090Z"
    }
   },
   "outputs": [
    {
     "data": {
      "text/plain": [
       "1    65795\n",
       "Name: lines, dtype: int64"
      ]
     },
     "execution_count": 55,
     "metadata": {},
     "output_type": "execute_result"
    }
   ],
   "source": [
    "df['lines'].loc[df['station']=='canal st (1)'].value_counts()"
   ]
  },
  {
   "cell_type": "code",
   "execution_count": 52,
   "metadata": {
    "ExecuteTime": {
     "end_time": "2021-10-26T09:41:53.466946Z",
     "start_time": "2021-10-26T09:41:52.724559Z"
    },
    "scrolled": false
   },
   "outputs": [
    {
     "data": {
      "text/plain": [
       "['103 st (1)',\n",
       " '103 st (6)',\n",
       " '103 st-corona plza (7)',\n",
       " '110 st (6)',\n",
       " '111 st (7)',\n",
       " '116 st (2/3)',\n",
       " '116 st (6)',\n",
       " '116 st-columbia (1)',\n",
       " '125 st (1)',\n",
       " '125 st (2/3)',\n",
       " '125 st (4/5/6)',\n",
       " '135 st (2/3)',\n",
       " '137 st-city clg (1)',\n",
       " '138 st-grand concourse (4/5)',\n",
       " '14 st-7 av (1/2/3/F/L/M)',\n",
       " '14 st-union sq (4/5/6/L/N/Q/R/W)',\n",
       " '145 st (1)',\n",
       " '145 st (3)',\n",
       " '149 st-grand concourse (2/4/5)',\n",
       " '157 st (1)',\n",
       " '161 st-yankee stdm (4/B/D)',\n",
       " '167 st (4)',\n",
       " '168 st-broadway (1/A/C)',\n",
       " '170 st (4)',\n",
       " '174 st (2/5)',\n",
       " '176 st (6)',\n",
       " '18 st (1)',\n",
       " '181 st (1)',\n",
       " '183 st (4)',\n",
       " '191 st (1)',\n",
       " '207 st (1)',\n",
       " '215 st (1)',\n",
       " '219 st (2/5)',\n",
       " '225 st (2/5)',\n",
       " '23 st (1)',\n",
       " '23 st (6)',\n",
       " '231 st (1)',\n",
       " '233 st (2/5)',\n",
       " '238 st (1)',\n",
       " '28 st (1)',\n",
       " '28 st (6)',\n",
       " '3 av-138 st (6)',\n",
       " '3 av-149 st (2/5)',\n",
       " '33 st (6)',\n",
       " '33 st-rawson st (7)',\n",
       " '34 st-hudson yd (7)',\n",
       " '34 st-penn sta (1/2/3/A/C/E)',\n",
       " '40 st-lowery st (7)',\n",
       " '42 st bryant pk-5 av (B/D/F/M/7)',\n",
       " '46 st-bliss st (7)',\n",
       " '50 st (1)',\n",
       " '52 st-lincoln (7)',\n",
       " '59 st-columbus cr (1/A/B/C/D)',\n",
       " '61 st-woodside (7)',\n",
       " '66 st-lincoln ctr (1)',\n",
       " '68 st-hunter clg (6)',\n",
       " '69 st-fisk av (7)',\n",
       " '72 st (1/2/3)',\n",
       " '77 st (6)',\n",
       " '79 st (1)',\n",
       " '82 st-jackson hts (7)',\n",
       " '86 st (1)',\n",
       " '86 st (4/5/6)',\n",
       " '90 st-elmhurst (7)',\n",
       " '96 st (1/2/3)',\n",
       " '96 st (6)',\n",
       " 'allerton av (2/5)',\n",
       " 'astor pl (6)',\n",
       " 'atlantic av-barclays ctr (2/3/4/5/B/D/N/Q/R)',\n",
       " 'baychester av (5)',\n",
       " 'bedford pk blvd (4)',\n",
       " 'bergen st (2/3)',\n",
       " 'beverly rd (2/5)',\n",
       " 'borough hall-court st (2/3/4/5/R)',\n",
       " 'bowling green (4/5)',\n",
       " 'broadway-lafayette/bleecker st (6/B/D/F/Q)',\n",
       " 'bronx pk east (2/5)',\n",
       " 'brook av (6)',\n",
       " 'brooklyn bridge-city hall (4/5/6/J/Z)',\n",
       " 'buhre av (6)',\n",
       " 'burke av (2/5)',\n",
       " 'burnside av (4)',\n",
       " 'canal st (1)',\n",
       " 'cathedral pkwy-110 st (1)',\n",
       " 'catle hill av (6)',\n",
       " 'chambers st-wtc (1/2/3/A/C/E/R/W)',\n",
       " 'christopher st (1)',\n",
       " 'church av (2/5)',\n",
       " 'clark st (2/3)',\n",
       " 'court sq (7)',\n",
       " 'crown hts-utica av (3/4)',\n",
       " 'ctl park n-110 st (2/3)',\n",
       " 'cypress av (6)',\n",
       " 'dyckman st (1)',\n",
       " 'e 143 st (6)',\n",
       " 'e 149 st (6)',\n",
       " 'e 180 st (2/5)',\n",
       " 'eastchester dyre av (5)',\n",
       " 'eastern pkwy (2/3)',\n",
       " 'elder av (6)',\n",
       " 'flatbush av-bk clg (2/5)',\n",
       " 'flushing-main st (7)',\n",
       " 'fordham rd (4)',\n",
       " 'franklin av (2/3/4/5/S)',\n",
       " 'franklin st (1)',\n",
       " 'freeman st (2/5)',\n",
       " 'fulton st (2/3/4/5/A/C/J/Z)',\n",
       " 'grand army plza (2/3)',\n",
       " 'grand ctl-42 st (4/5/6/7)',\n",
       " 'gun hill rd (2/5)',\n",
       " 'gun hill rd (5)',\n",
       " 'harlem-148 st (3)',\n",
       " 'hosuton st (1)',\n",
       " 'hoyt st (2/3)',\n",
       " 'hunters pt (7)',\n",
       " 'hunts pt av (6)',\n",
       " 'intervale av (2/5)',\n",
       " 'jackson av (2/5)',\n",
       " 'jackson hts-roosevelt av (7/E/F/M/R)',\n",
       " 'junction blvd (7)',\n",
       " 'junius st (3)',\n",
       " 'kingsbridge rd (4)',\n",
       " 'kingston av (4)',\n",
       " 'lexington av-53 st (6/E/M)',\n",
       " 'lexington av-59 st (4/5/6/N/Q/R/W)',\n",
       " 'longwood av (6)',\n",
       " 'marble hill-225 st (1)',\n",
       " 'mets-willets pt (7)',\n",
       " 'middletown rd (6)',\n",
       " 'morris pk (5)',\n",
       " 'morrison av (6)',\n",
       " 'moshulu pkwy (4)',\n",
       " 'mt eden av (4)',\n",
       " 'nereid av (2/5)',\n",
       " 'nevins st (2/3/4/5)',\n",
       " 'new lots av (3)',\n",
       " 'newkirk av (2/5)',\n",
       " 'nostrand av (3)',\n",
       " 'park pl (2/3/A/C/E)',\n",
       " 'parkchester (6)',\n",
       " 'pelham bay pk (6)',\n",
       " 'pelham pkwy (2/5)',\n",
       " 'pelham pkwy (5)',\n",
       " 'pennsylvania av (3)',\n",
       " 'president st (2/5)',\n",
       " 'prospect av (2/5)',\n",
       " 'queensboro plza (7/N/Q/W)',\n",
       " 'rector st (1)',\n",
       " 'rockaway av (3)',\n",
       " 'saratoga av (3)',\n",
       " 'simpson st (2/5)',\n",
       " 'south ferry (1/R/W)',\n",
       " 'spring st (6)',\n",
       " 'st lawrence av (6)',\n",
       " 'sterling st (2/5)',\n",
       " 'sutter av (3)',\n",
       " 'times sq-42 st (1/2/3/7/A/C/E/N/Q/R/S/W)',\n",
       " 'van cortlandt park-242 st (1)',\n",
       " 'van siclen av (3)',\n",
       " 'vernon-jackson (7)',\n",
       " 'wakefield-241 st (2)',\n",
       " 'wall st (2/3)',\n",
       " 'wall st (4/5)',\n",
       " 'west farm sq-e tremont (2/5)',\n",
       " 'westchester sq (6)',\n",
       " 'whitlock av (6)',\n",
       " 'winthrop st (2/5)',\n",
       " 'woodlawn (4)',\n",
       " 'zerega av (6)']"
      ]
     },
     "execution_count": 52,
     "metadata": {},
     "output_type": "execute_result"
    }
   ],
   "source": [
    "sorted(list(df['station'].value_counts().index))"
   ]
  },
  {
   "cell_type": "code",
   "execution_count": 54,
   "metadata": {
    "ExecuteTime": {
     "end_time": "2021-10-26T09:47:34.824917Z",
     "start_time": "2021-10-26T09:47:34.003921Z"
    }
   },
   "outputs": [
    {
     "data": {
      "text/plain": [
       "['1',\n",
       " '123',\n",
       " '1237ACENQRS',\n",
       " '1237ACENQRSW',\n",
       " '123ACE',\n",
       " '123FLM',\n",
       " '1ABCD',\n",
       " '1AC',\n",
       " '1RW',\n",
       " '2',\n",
       " '23',\n",
       " '2345',\n",
       " '2345ACJZ',\n",
       " '2345BDNQR',\n",
       " '2345R',\n",
       " '2345S',\n",
       " '23ACE',\n",
       " '245',\n",
       " '25',\n",
       " '3',\n",
       " '34',\n",
       " '4',\n",
       " '45',\n",
       " '456',\n",
       " '4567S',\n",
       " '456JZ',\n",
       " '456LNQRW',\n",
       " '456NQRW',\n",
       " '4BD',\n",
       " '5',\n",
       " '6',\n",
       " '6BDFQ',\n",
       " '6EM',\n",
       " '7',\n",
       " '7BDFM',\n",
       " '7EFMR',\n",
       " '7NQW']"
      ]
     },
     "execution_count": 54,
     "metadata": {},
     "output_type": "execute_result"
    }
   ],
   "source": [
    "sorted(list(df['lines'].value_counts().index))"
   ]
  },
  {
   "cell_type": "code",
   "execution_count": null,
   "metadata": {
    "ExecuteTime": {
     "end_time": "2021-10-26T06:32:18.818664Z",
     "start_time": "2021-10-26T06:32:11.522332Z"
    }
   },
   "outputs": [],
   "source": [
    "# canal st\n",
    "\n",
    "ind_1 = df.loc[(df['station']=='canal st')&(df['lines']=='1')].index\n",
    "df.loc[ind_1,'station'] = 'canal st (1)'\n",
    "\n",
    "ind_6 = df.loc[(df['station']=='canal st')&(df['lines'].str.contains('6'))].index\n",
    "df.loc[ind_6,'station'] = 'canal st (6/J/N/Q/R/W/Z)'"
   ]
  },
  {
   "cell_type": "code",
   "execution_count": null,
   "metadata": {
    "ExecuteTime": {
     "end_time": "2021-10-26T06:32:21.688764Z",
     "start_time": "2021-10-26T06:32:18.819665Z"
    }
   },
   "outputs": [],
   "source": [
    "# chambers st-wtc\n",
    "\n",
    "ind = df.loc[(df['station']=='chambers st')|(df['station']=='world trade ctr')\n",
    "                |(df['station']=='wtc-cortlandt')|(df['station']=='cortlandt st')].index\n",
    "\n",
    "df.loc[ind,'station'] = 'chambers st-wtc (1/2/3/A/C/E/R/W)'"
   ]
  },
  {
   "cell_type": "markdown",
   "metadata": {
    "ExecuteTime": {
     "end_time": "2021-10-26T06:32:22.622626Z",
     "start_time": "2021-10-26T06:32:21.690765Z"
    }
   },
   "source": [
    "# castle hill\n",
    "\n",
    "ind = df.loc[df['station']=='castle hill av'].index\n",
    "df.loc[ind,'station'] = 'catle hill av (6)'"
   ]
  },
  {
   "cell_type": "markdown",
   "metadata": {
    "ExecuteTime": {
     "end_time": "2021-10-26T06:32:23.554926Z",
     "start_time": "2021-10-26T06:32:22.623609Z"
    }
   },
   "source": [
    "# christopher st\n",
    "\n",
    "ind = df.loc[df['station']=='christopher st'].index\n",
    "df.loc[ind, 'station'] = 'christopher st (1)'"
   ]
  },
  {
   "cell_type": "markdown",
   "metadata": {
    "ExecuteTime": {
     "end_time": "2021-10-26T06:32:24.483589Z",
     "start_time": "2021-10-26T06:32:23.556483Z"
    }
   },
   "source": [
    "# church av\n",
    "\n",
    "ind = df.loc[df['station']=='church av'].index\n",
    "df.loc[ind,'station'] = 'church av (2/5)'"
   ]
  },
  {
   "cell_type": "markdown",
   "metadata": {
    "ExecuteTime": {
     "end_time": "2021-10-26T06:32:25.402637Z",
     "start_time": "2021-10-26T06:32:24.484589Z"
    }
   },
   "source": [
    "# clark st\n",
    "\n",
    "ind = df.loc[df['station']=='clark st'].index\n",
    "df.loc[ind, 'station'] = 'clark st (2/3)'"
   ]
  },
  {
   "cell_type": "markdown",
   "metadata": {
    "ExecuteTime": {
     "end_time": "2021-10-26T06:32:26.335571Z",
     "start_time": "2021-10-26T06:32:25.403637Z"
    }
   },
   "source": [
    "# court sq\n",
    "\n",
    "ind = df.loc[df['station']=='court sq'].index\n",
    "df.loc[ind,'station']='court sq (7)'"
   ]
  },
  {
   "cell_type": "markdown",
   "metadata": {
    "ExecuteTime": {
     "end_time": "2021-10-26T06:32:27.285291Z",
     "start_time": "2021-10-26T06:32:26.336571Z"
    }
   },
   "source": [
    "# crown hts-utica av\n",
    "\n",
    "ind = df.loc[df['station']=='crown hts-utica'].index\n",
    "df.loc[ind,'station']= 'crown hts-utica av (3/4)'"
   ]
  },
  {
   "cell_type": "markdown",
   "metadata": {
    "ExecuteTime": {
     "end_time": "2021-10-26T06:32:28.210548Z",
     "start_time": "2021-10-26T06:32:27.286291Z"
    }
   },
   "source": [
    "# cypress av\n",
    "\n",
    "ind = df.loc[df['station']=='cypress av'].index\n",
    "df.loc[ind, 'station'] = 'cypress av (6)'"
   ]
  },
  {
   "cell_type": "markdown",
   "metadata": {
    "ExecuteTime": {
     "end_time": "2021-10-26T06:32:29.205790Z",
     "start_time": "2021-10-26T06:32:28.211548Z"
    }
   },
   "source": [
    "# dyckman st\n",
    "\n",
    "ind = df.loc[df['station']=='dyckman st'].index\n",
    "df.loc[ind, 'station'] = 'dyckman st (1)'"
   ]
  },
  {
   "cell_type": "markdown",
   "metadata": {
    "ExecuteTime": {
     "end_time": "2021-10-26T06:32:30.717305Z",
     "start_time": "2021-10-26T06:32:29.206790Z"
    }
   },
   "source": [
    "# eastchester dyre av\n",
    "\n",
    "ind = df.loc[(df['station']=='dyre av')|(df['station'] == 'eastchster/dyre')].index\n",
    "df.loc[ind, 'station'] = 'eastchester dyre av (5)'"
   ]
  },
  {
   "cell_type": "markdown",
   "metadata": {
    "ExecuteTime": {
     "end_time": "2021-10-26T06:32:32.332549Z",
     "start_time": "2021-10-26T06:32:30.718306Z"
    }
   },
   "source": [
    "# e 143 st\n",
    "\n",
    "ind = df.loc[(df['station']=='e 143 st')|(df['station']==\"e 143/st mary's\")].index\n",
    "df.loc[ind,'station'] = 'e 143 st (6)'"
   ]
  },
  {
   "cell_type": "markdown",
   "metadata": {
    "ExecuteTime": {
     "end_time": "2021-10-26T06:32:33.857653Z",
     "start_time": "2021-10-26T06:32:32.333550Z"
    }
   },
   "source": [
    "# e 177 st-parkchester\n",
    "\n",
    "ind = df.loc[(df['station']=='e 177 st-parkch')|(df['station']=='parkchester')].index\n",
    "df.loc[ind,'station'] = 'parkchester (6)'"
   ]
  },
  {
   "cell_type": "markdown",
   "metadata": {
    "ExecuteTime": {
     "end_time": "2021-10-26T06:32:34.758067Z",
     "start_time": "2021-10-26T06:32:33.858653Z"
    }
   },
   "source": [
    "# e 180 st\n",
    "\n",
    "ind = df.loc[df['station']=='e 180 st'].index\n",
    "df.loc[ind, 'station'] = 'e 180 st (2/5)'"
   ]
  },
  {
   "cell_type": "markdown",
   "metadata": {
    "ExecuteTime": {
     "end_time": "2021-10-26T06:32:36.275145Z",
     "start_time": "2021-10-26T06:32:34.759067Z"
    }
   },
   "source": [
    "# west farms sq-e tremont\n",
    "\n",
    "ind = df.loc[(df['station'] == 'e tremont av')|(df['station'] == 'west farms sq')].index\n",
    "df.loc[ind, 'station'] = 'west farm sq-e tremont (2/5)'"
   ]
  },
  {
   "cell_type": "markdown",
   "metadata": {
    "ExecuteTime": {
     "end_time": "2021-10-26T06:32:37.785037Z",
     "start_time": "2021-10-26T06:32:36.276145Z"
    }
   },
   "source": [
    "# eastern pkwy\n",
    "\n",
    "ind = df.loc[(df['station']=='eastern pkwy')|(df['station']=='eastn pkwy-musm')].index\n",
    "df.loc[ind, 'station'] = 'eastern pkwy (2/3)'"
   ]
  },
  {
   "cell_type": "markdown",
   "metadata": {
    "ExecuteTime": {
     "end_time": "2021-10-26T06:32:38.703047Z",
     "start_time": "2021-10-26T06:32:37.786037Z"
    }
   },
   "source": [
    "# elder av\n",
    "\n",
    "ind = df.loc[df['station']=='elder av'].index\n",
    "df.loc[ind, 'station'] = 'elder av (6)'"
   ]
  },
  {
   "cell_type": "markdown",
   "metadata": {
    "ExecuteTime": {
     "end_time": "2021-10-26T06:32:40.315647Z",
     "start_time": "2021-10-26T06:32:38.705048Z"
    }
   },
   "source": [
    "# flatbush av - bk clg\n",
    "\n",
    "ind = df.loc[(df['station']=='flatbush av')|(df['station']=='flatbush av-b.c')].index\n",
    "df.loc[ind, 'station'] = 'flatbush av-bk clg (2/5)'"
   ]
  },
  {
   "cell_type": "markdown",
   "metadata": {
    "ExecuteTime": {
     "end_time": "2021-10-26T06:32:41.915503Z",
     "start_time": "2021-10-26T06:32:40.317647Z"
    }
   },
   "source": [
    "# flushing-main st\n",
    "\n",
    "ind = df.loc[(df['station']=='main st')|(df['station']=='flushing-main')].index\n",
    "df.loc[ind, 'station'] = 'flushing-main st (7)'"
   ]
  },
  {
   "cell_type": "markdown",
   "metadata": {
    "ExecuteTime": {
     "end_time": "2021-10-26T06:40:32.079494Z",
     "start_time": "2021-10-26T06:40:30.723453Z"
    }
   },
   "source": [
    "# fordham rd\n",
    "\n",
    "ind = df.loc[(df['station']=='fordham rd')|(df['station']=='fordhamrd')].index\n",
    "df.loc[ind, 'station'] = 'fordham rd (4)'"
   ]
  },
  {
   "cell_type": "markdown",
   "metadata": {
    "ExecuteTime": {
     "end_time": "2021-10-26T06:32:46.307299Z",
     "start_time": "2021-10-26T06:32:45.404615Z"
    }
   },
   "source": [
    "# franklin st\n",
    "\n",
    "ind = df.loc[df['station']=='franklin st'].index\n",
    "df.loc[ind, 'station'] = 'franklin st (1)'"
   ]
  },
  {
   "cell_type": "markdown",
   "metadata": {
    "ExecuteTime": {
     "end_time": "2021-10-26T06:32:47.185186Z",
     "start_time": "2021-10-26T06:32:46.308299Z"
    }
   },
   "source": [
    "# freeman st\n",
    "\n",
    "ind = df.loc[df['station']=='freeman st'].index\n",
    "df.loc[ind, 'station'] = 'freeman st (2/5)'"
   ]
  },
  {
   "cell_type": "markdown",
   "metadata": {
    "ExecuteTime": {
     "end_time": "2021-10-26T06:32:48.044248Z",
     "start_time": "2021-10-26T06:32:47.186186Z"
    }
   },
   "source": [
    "# grand army plza\n",
    "\n",
    "ind = df.loc[df['station']=='grand army plaz'].index\n",
    "df.loc[ind, 'station'] = 'grand army plza (2/3)'"
   ]
  },
  {
   "cell_type": "markdown",
   "metadata": {
    "ExecuteTime": {
     "end_time": "2021-10-26T06:41:47.053509Z",
     "start_time": "2021-10-26T06:41:43.124084Z"
    }
   },
   "source": [
    "# gun hill rds\n",
    "\n",
    "ind_25 = df.loc[((df['station']=='gun hill rd')|(df['station']=='gun hillrd'))&(df['lines']=='25')].index\n",
    "df.loc[ind_25,'station'] = 'gun hill rd (2/5)'\n",
    "\n",
    "ind_5 = df.loc[((df['station']=='gun hill rd')|(df['station']=='gun hillrd'))&(df['lines']=='5')].index\n",
    "df.loc[ind_5,'station'] = 'gun hill rd (5)'"
   ]
  },
  {
   "cell_type": "markdown",
   "metadata": {
    "ExecuteTime": {
     "end_time": "2021-10-26T06:32:51.900040Z",
     "start_time": "2021-10-26T06:32:51.012836Z"
    }
   },
   "source": [
    "# houston st\n",
    "\n",
    "ind = df.loc[df['station']=='houston st'].index\n",
    "df.loc[ind, 'station'] = 'hosuton st (1)'"
   ]
  },
  {
   "cell_type": "markdown",
   "metadata": {
    "ExecuteTime": {
     "end_time": "2021-10-26T06:32:55.054826Z",
     "start_time": "2021-10-26T06:32:54.172752Z"
    }
   },
   "source": [
    "# hoyt st\n",
    "\n",
    "ind = df.loc[df['station']=='hoyt st'].index\n",
    "df.loc[ind, 'station'] = 'hoyt st (2/3)'"
   ]
  },
  {
   "cell_type": "markdown",
   "metadata": {
    "ExecuteTime": {
     "end_time": "2021-10-26T06:32:55.937740Z",
     "start_time": "2021-10-26T06:32:55.056360Z"
    }
   },
   "source": [
    "# hunters pt\n",
    "\n",
    "ind = df.loc[df['station'] == 'hunters pt av'].index\n",
    "df.loc[ind, 'station'] = 'hunters pt (7)'"
   ]
  },
  {
   "cell_type": "markdown",
   "metadata": {
    "ExecuteTime": {
     "end_time": "2021-10-26T06:32:56.811994Z",
     "start_time": "2021-10-26T06:32:55.938740Z"
    }
   },
   "source": [
    "# hunts pt\n",
    "\n",
    "ind = df.loc[df['station']=='hunts point av'].index\n",
    "df.loc[ind,'station'] = 'hunts pt av (6)'"
   ]
  },
  {
   "cell_type": "markdown",
   "metadata": {
    "ExecuteTime": {
     "end_time": "2021-10-26T06:32:58.275727Z",
     "start_time": "2021-10-26T06:32:56.812994Z"
    }
   },
   "source": [
    "# intervale av\n",
    "\n",
    "ind = df.loc[(df['station']=='intervale av')|(df['station']=='intervale-163')].index\n",
    "df.loc[ind, 'station'] = 'intervale av (2/5)'"
   ]
  },
  {
   "cell_type": "markdown",
   "metadata": {
    "ExecuteTime": {
     "end_time": "2021-10-26T06:32:59.134404Z",
     "start_time": "2021-10-26T06:32:58.276728Z"
    }
   },
   "source": [
    "# jackson av\n",
    "\n",
    "ind = df.loc[df['station']=='jackson av'].index\n",
    "df.loc[ind, 'station'] = 'jackson av (2/5)'"
   ]
  },
  {
   "cell_type": "markdown",
   "metadata": {
    "ExecuteTime": {
     "end_time": "2021-10-26T06:33:00.005588Z",
     "start_time": "2021-10-26T06:32:59.135405Z"
    }
   },
   "source": [
    "# junction blvd\n",
    "\n",
    "ind = df.loc[df['station']=='junction blvd'].index\n",
    "df.loc[ind,'station'] = 'junction blvd (7)'"
   ]
  },
  {
   "cell_type": "markdown",
   "metadata": {
    "ExecuteTime": {
     "end_time": "2021-10-26T06:33:00.861325Z",
     "start_time": "2021-10-26T06:33:00.006588Z"
    }
   },
   "source": [
    "# junius st\n",
    "\n",
    "ind = df.loc[df['station']=='junius st'].index\n",
    "df.loc[ind, 'station'] = 'junius st (3)'"
   ]
  },
  {
   "cell_type": "markdown",
   "metadata": {
    "ExecuteTime": {
     "end_time": "2021-10-26T06:33:01.702832Z",
     "start_time": "2021-10-26T06:33:00.863326Z"
    }
   },
   "source": [
    "# kingsbridge rd\n",
    "\n",
    "ind = df.loc[df['station'] == 'kingsbridge rd'].index\n",
    "df.loc[ind, 'station'] = 'kingsbridge rd (4)'"
   ]
  },
  {
   "cell_type": "markdown",
   "metadata": {
    "ExecuteTime": {
     "end_time": "2021-10-26T06:33:02.545709Z",
     "start_time": "2021-10-26T06:33:01.703832Z"
    }
   },
   "source": [
    "# kingston av\n",
    "\n",
    "ind = df.loc[df['station'] == 'kingston av'].index\n",
    "df.loc[ind, 'station'] = 'kingston av (4)'"
   ]
  },
  {
   "cell_type": "markdown",
   "metadata": {
    "ExecuteTime": {
     "end_time": "2021-10-26T06:33:04.681370Z",
     "start_time": "2021-10-26T06:33:02.546710Z"
    }
   },
   "source": [
    "# lenxington av - 53 st\n",
    "\n",
    "ind = df.loc[(df['station']=='51 st (6)')|(df['station']=='lexington-53 st')\n",
    "            |(df['station']=='lexington av/53')].index\n",
    "df.loc[ind,'station'] = 'lexington av-53 st (6/E/M)'"
   ]
  },
  {
   "cell_type": "markdown",
   "metadata": {
    "ExecuteTime": {
     "end_time": "2021-10-26T06:33:06.215939Z",
     "start_time": "2021-10-26T06:33:04.682370Z"
    }
   },
   "source": [
    "# lexington av - 59 st\n",
    "\n",
    "ind = df.loc[(df['station']=='59 st (4/5/6/N/Q/R/W)')|(df['station'] == 'lexington av')].index\n",
    "df.loc[ind, 'station'] = 'lexington av-59 st (4/5/6/N/Q/R/W)'"
   ]
  },
  {
   "cell_type": "markdown",
   "metadata": {
    "ExecuteTime": {
     "end_time": "2021-10-26T06:33:07.061054Z",
     "start_time": "2021-10-26T06:33:06.217442Z"
    }
   },
   "source": [
    "# longwood av\n",
    "\n",
    "ind = df.loc[df['station']=='longwood av'].index\n",
    "df.loc[ind, 'station'] = 'longwood av (6)'"
   ]
  },
  {
   "cell_type": "markdown",
   "metadata": {
    "ExecuteTime": {
     "end_time": "2021-10-26T06:33:07.891221Z",
     "start_time": "2021-10-26T06:33:07.062055Z"
    }
   },
   "source": [
    "# marble hill\n",
    "\n",
    "ind = df.loc[df['station']=='marble hill-225'].index\n",
    "df.loc[ind, 'station'] = 'marble hill-225 st (1)'"
   ]
  },
  {
   "cell_type": "markdown",
   "metadata": {
    "ExecuteTime": {
     "end_time": "2021-10-26T06:33:08.797809Z",
     "start_time": "2021-10-26T06:33:07.892222Z"
    }
   },
   "source": [
    "# mets-willets pt\n",
    "\n",
    "ind = df.loc[df['station']=='mets-willets pt'].index\n",
    "df.loc[ind, 'station'] = 'mets-willets pt (7)'"
   ]
  },
  {
   "cell_type": "markdown",
   "metadata": {
    "ExecuteTime": {
     "end_time": "2021-10-26T06:42:16.329240Z",
     "start_time": "2021-10-26T06:42:15.004387Z"
    }
   },
   "source": [
    "# middletown rd\n",
    "\n",
    "ind = df.loc[(df['station']=='middletown rd')|(df['station']=='middletownrd')].index\n",
    "df.loc[ind,'station'] = 'middletown rd (6)'"
   ]
  },
  {
   "cell_type": "markdown",
   "metadata": {
    "ExecuteTime": {
     "end_time": "2021-10-26T06:33:11.045656Z",
     "start_time": "2021-10-26T06:33:09.619834Z"
    }
   },
   "source": [
    "# morrison av\n",
    "\n",
    "ind = df.loc[(df['station']=='morisn av/sndvw')|(df['station']=='morrison av')].index\n",
    "df.loc[ind,'station'] = 'morrison av (6)'"
   ]
  },
  {
   "cell_type": "markdown",
   "metadata": {
    "ExecuteTime": {
     "end_time": "2021-10-26T06:33:12.498332Z",
     "start_time": "2021-10-26T06:33:11.046657Z"
    }
   },
   "source": [
    "# mosholu pkwy\n",
    "\n",
    "ind = df.loc[(df['station']=='mosholu parkway')|(df['station']=='mosholu pkwy')].index\n",
    "df.loc[ind,'station'] = 'moshulu pkwy (4)'"
   ]
  },
  {
   "cell_type": "markdown",
   "metadata": {
    "ExecuteTime": {
     "end_time": "2021-10-26T06:33:13.365044Z",
     "start_time": "2021-10-26T06:33:12.499332Z"
    }
   },
   "source": [
    "# morris pk\n",
    "\n",
    "ind = df.loc[df['station'] == 'morris park'].index\n",
    "df.loc[ind,'station'] = 'morris pk (5)'"
   ]
  },
  {
   "cell_type": "markdown",
   "metadata": {
    "ExecuteTime": {
     "end_time": "2021-10-26T06:33:14.218521Z",
     "start_time": "2021-10-26T06:33:13.366056Z"
    }
   },
   "source": [
    "# mt eden av\n",
    "\n",
    "ind = df.loc[df['station'] == 'mt eden av'].index\n",
    "df.loc[ind, 'station'] = 'mt eden av (4)'"
   ]
  },
  {
   "cell_type": "markdown",
   "metadata": {
    "ExecuteTime": {
     "end_time": "2021-10-26T06:33:15.038708Z",
     "start_time": "2021-10-26T06:33:14.219531Z"
    }
   },
   "source": [
    "# nereid av\n",
    "\n",
    "ind = df.loc[df['station']=='nereid av'].index\n",
    "df.loc[ind, 'station'] = 'nereid av (2/5)'"
   ]
  },
  {
   "cell_type": "markdown",
   "metadata": {
    "ExecuteTime": {
     "end_time": "2021-10-26T06:33:15.870310Z",
     "start_time": "2021-10-26T06:33:15.039730Z"
    }
   },
   "source": [
    "# nevins st\n",
    "\n",
    "ind = df.loc[df['station']=='nevins st'].index\n",
    "df.loc[ind, 'station'] = 'nevins st (2/3/4/5)'"
   ]
  },
  {
   "cell_type": "markdown",
   "metadata": {
    "ExecuteTime": {
     "end_time": "2021-10-26T06:33:16.672477Z",
     "start_time": "2021-10-26T06:33:15.871312Z"
    }
   },
   "source": [
    "# new lots av\n",
    "\n",
    "ind = df.loc[df['station'] == 'new lots av'].index\n",
    "df.loc[ind, 'station'] = 'new lots av (3)'"
   ]
  },
  {
   "cell_type": "markdown",
   "metadata": {
    "ExecuteTime": {
     "end_time": "2021-10-26T06:33:17.486769Z",
     "start_time": "2021-10-26T06:33:16.674477Z"
    }
   },
   "source": [
    "# newkirk av\n",
    "\n",
    "ind = df.loc[df['station']=='newkirk av'].index\n",
    "df.loc[ind, 'station'] = 'newkirk av (2/5)'"
   ]
  },
  {
   "cell_type": "markdown",
   "metadata": {
    "ExecuteTime": {
     "end_time": "2021-10-26T06:33:18.320935Z",
     "start_time": "2021-10-26T06:33:17.487770Z"
    }
   },
   "source": [
    "# nostrand av\n",
    "\n",
    "ind = df.loc[df['station'] == 'nostrand av'].index\n",
    "df.loc[ind, 'station'] = 'nostrand av (3)'"
   ]
  },
  {
   "cell_type": "markdown",
   "metadata": {
    "ExecuteTime": {
     "end_time": "2021-10-26T06:33:19.764304Z",
     "start_time": "2021-10-26T06:33:18.321936Z"
    }
   },
   "source": [
    "# pelham bay park/orchard beach\n",
    "\n",
    "ind = df.loc[(df['station']=='orchard beach')|(df['station']=='pelham bay park')].index\n",
    "df.loc[ind, 'station'] = 'pelham bay pk (6)'"
   ]
  },
  {
   "cell_type": "markdown",
   "metadata": {
    "ExecuteTime": {
     "end_time": "2021-10-26T06:43:24.027847Z",
     "start_time": "2021-10-26T06:43:23.292162Z"
    }
   },
   "source": [
    "# park pl\n",
    "\n",
    "ind = df.loc[df['station'] == 'park pl'].index\n",
    "df.loc[ind, 'station'] = 'park pl (2/3/A/C/E)'"
   ]
  },
  {
   "cell_type": "markdown",
   "metadata": {
    "ExecuteTime": {
     "end_time": "2021-10-26T06:33:24.679069Z",
     "start_time": "2021-10-26T06:33:20.565952Z"
    }
   },
   "source": [
    "# pelham parkways\n",
    "\n",
    "ind_25 = df.loc[(df['lines']=='25')&((df['station']=='pelham parkway')|(df['station']=='pelham pkwy'))].index\n",
    "df.loc[ind_25, 'station'] = 'pelham pkwy (2/5)'\n",
    "\n",
    "ind_5 = df.loc[(df['lines']=='5')&((df['station']=='pelham parkway')|(df['station']=='pelham pkwy'))].index\n",
    "df.loc[ind_5, 'station'] = 'pelham pkwy (5)'"
   ]
  },
  {
   "cell_type": "markdown",
   "metadata": {
    "ExecuteTime": {
     "end_time": "2021-10-26T06:33:25.506114Z",
     "start_time": "2021-10-26T06:33:24.680068Z"
    }
   },
   "source": [
    "# pennsylvania av\n",
    "\n",
    "ind = df.loc[df['station']=='pennsylvania av'].index\n",
    "df.loc[ind,'station'] = 'pennsylvania av (3)'"
   ]
  },
  {
   "cell_type": "markdown",
   "metadata": {
    "ExecuteTime": {
     "end_time": "2021-10-26T06:33:26.346700Z",
     "start_time": "2021-10-26T06:33:25.507137Z"
    }
   },
   "source": [
    "# president st\n",
    "\n",
    "ind = df.loc[df['station']=='president st'].index\n",
    "df.loc[ind, 'station'] = 'president st (2/5)'"
   ]
  },
  {
   "cell_type": "markdown",
   "metadata": {
    "ExecuteTime": {
     "end_time": "2021-10-26T06:33:27.154683Z",
     "start_time": "2021-10-26T06:33:26.347700Z"
    }
   },
   "source": [
    "# prospect av\n",
    "\n",
    "ind = df.loc[df['station']=='prospect av'].index\n",
    "df.loc[ind, 'station'] = 'prospect av (2/5)'"
   ]
  },
  {
   "cell_type": "markdown",
   "metadata": {
    "ExecuteTime": {
     "end_time": "2021-10-26T06:33:27.954615Z",
     "start_time": "2021-10-26T06:33:27.155685Z"
    }
   },
   "source": [
    "# qnsboro plaza\n",
    "\n",
    "ind = df.loc[df['station']=='queensboro plz'].index\n",
    "df.loc[ind, 'station'] = 'queensboro plza (7/N/Q/W)'"
   ]
  },
  {
   "cell_type": "markdown",
   "metadata": {
    "ExecuteTime": {
     "end_time": "2021-10-26T06:33:28.768868Z",
     "start_time": "2021-10-26T06:33:27.955615Z"
    }
   },
   "source": [
    "# rector st\n",
    "\n",
    "ind = df.loc[df['station']=='rector st'].index\n",
    "df.loc[ind, 'station'] = 'rector st (1)'"
   ]
  },
  {
   "cell_type": "markdown",
   "metadata": {
    "ExecuteTime": {
     "end_time": "2021-10-26T06:33:29.575484Z",
     "start_time": "2021-10-26T06:33:28.770289Z"
    }
   },
   "source": [
    "# rockaway av\n",
    "\n",
    "ind = df.loc[df['station']=='rockaway av'].index\n",
    "df.loc[ind, 'station'] = 'rockaway av (3)'"
   ]
  },
  {
   "cell_type": "markdown",
   "metadata": {
    "ExecuteTime": {
     "end_time": "2021-10-26T06:33:31.791319Z",
     "start_time": "2021-10-26T06:33:29.576509Z"
    }
   },
   "source": [
    "# roosevelt av - part of 74 st-broadway (7/E/F/M/R)\n",
    "\n",
    "ind = df.loc[df['station']=='roosevelt av'].index\n",
    "df.loc[ind, 'station'] = 'jackson hts-roosevelt av (7/E/F/M/R)'\n",
    "\n",
    "ind_change = df.loc[(df['station']=='74 st-broadway (7/E/F/M/R)')|(df['station']=='74 st-brdway (7/E/F/M/R)')].index\n",
    "df.loc[ind_change,'station'] = 'jackson hts-roosevelt av (7/E/F/M/R)'"
   ]
  },
  {
   "cell_type": "markdown",
   "metadata": {
    "ExecuteTime": {
     "end_time": "2021-10-26T06:33:32.570334Z",
     "start_time": "2021-10-26T06:33:31.792320Z"
    }
   },
   "source": [
    "# saratoga av\n",
    "\n",
    "ind = df.loc[df['station']=='saratoga av'].index\n",
    "df.loc[ind, 'station'] = 'saratoga av (3)'"
   ]
  },
  {
   "cell_type": "markdown",
   "metadata": {
    "ExecuteTime": {
     "end_time": "2021-10-26T06:33:33.397714Z",
     "start_time": "2021-10-26T06:33:32.571334Z"
    }
   },
   "source": [
    "# simpson st\n",
    "\n",
    "ind = df.loc[df['station']=='simpson st'].index\n",
    "df.loc[ind, 'station'] = 'simpson st (2/5)'"
   ]
  },
  {
   "cell_type": "markdown",
   "metadata": {
    "ExecuteTime": {
     "end_time": "2021-10-26T06:33:35.439817Z",
     "start_time": "2021-10-26T06:33:33.398715Z"
    }
   },
   "source": [
    "# south ferry\n",
    "\n",
    "ind = df.loc[(df['station']=='south ferry')|(df['station']=='whitehall s-fry')|(df['station']=='whitehall st')].index\n",
    "df.loc[ind, 'station'] = 'south ferry (1/R/W)'"
   ]
  },
  {
   "cell_type": "markdown",
   "metadata": {
    "ExecuteTime": {
     "end_time": "2021-10-26T06:33:36.265024Z",
     "start_time": "2021-10-26T06:33:35.441357Z"
    }
   },
   "source": [
    "# spring st\n",
    "\n",
    "ind = df.loc[df['station']=='spring st'].index\n",
    "df.loc[ind, 'station'] = 'spring st (6)'"
   ]
  },
  {
   "cell_type": "markdown",
   "metadata": {
    "ExecuteTime": {
     "end_time": "2021-10-26T06:33:37.054151Z",
     "start_time": "2021-10-26T06:33:36.266025Z"
    }
   },
   "source": [
    "# st lawrence av\n",
    "\n",
    "ind = df.loc[df['station']=='st lawrence av'].index\n",
    "df.loc[ind,'station'] = 'st lawrence av (6)'"
   ]
  },
  {
   "cell_type": "markdown",
   "metadata": {
    "ExecuteTime": {
     "end_time": "2021-10-26T06:33:37.824804Z",
     "start_time": "2021-10-26T06:33:37.055152Z"
    }
   },
   "source": [
    "# sterling st\n",
    "\n",
    "ind = df.loc[df['station']=='sterling st'].index\n",
    "df.loc[ind, 'station'] = 'sterling st (2/5)'"
   ]
  },
  {
   "cell_type": "markdown",
   "metadata": {
    "ExecuteTime": {
     "end_time": "2021-10-26T06:33:39.220794Z",
     "start_time": "2021-10-26T06:33:37.825805Z"
    }
   },
   "source": [
    "# sutter av\n",
    "\n",
    "ind = df.loc[(df['station']=='sutter av')|(df['station']=='sutter av-rutld')].index\n",
    "df.loc[ind, 'station'] = 'sutter av (3)'"
   ]
  },
  {
   "cell_type": "markdown",
   "metadata": {
    "ExecuteTime": {
     "end_time": "2021-10-26T06:33:40.006515Z",
     "start_time": "2021-10-26T06:33:39.221795Z"
    }
   },
   "source": [
    "# van siclen\n",
    "\n",
    "ind = df.loc[df['station']=='van siclen av'].index\n",
    "df.loc[ind, 'station'] = 'van siclen av (3)'"
   ]
  },
  {
   "cell_type": "markdown",
   "metadata": {
    "ExecuteTime": {
     "end_time": "2021-10-26T06:33:41.415240Z",
     "start_time": "2021-10-26T06:33:40.007515Z"
    }
   },
   "source": [
    "# vernon-jackson\n",
    "\n",
    "ind = df.loc[(df['station']=='vernon-jackson')|(df['station']=='vernon/jackson')].index\n",
    "df.loc[ind, 'station'] = 'vernon-jackson (7)'"
   ]
  },
  {
   "cell_type": "markdown",
   "metadata": {
    "ExecuteTime": {
     "end_time": "2021-10-26T06:33:42.816029Z",
     "start_time": "2021-10-26T06:33:41.416240Z"
    }
   },
   "source": [
    "# wakefield 241\n",
    "\n",
    "ind = df.loc[(df['station']=='wakefield-241')|(df['station']=='wakefield/241')].index\n",
    "df.loc[ind, 'station'] = 'wakefield-241 st (2)'"
   ]
  },
  {
   "cell_type": "markdown",
   "metadata": {
    "ExecuteTime": {
     "end_time": "2021-10-26T06:33:45.788614Z",
     "start_time": "2021-10-26T06:33:42.817029Z"
    }
   },
   "source": [
    "# wall streets\n",
    "\n",
    "ind_23 = df.loc[(df['station']=='wall st')&(df['lines']=='23')].index\n",
    "df.loc[ind_23,'station'] = 'wall st (2/3)'\n",
    "\n",
    "ind_45 = df.loc[(df['station']=='wall st')&(df['lines']=='45')].index\n",
    "df.loc[ind_45,'station'] = 'wall st (4/5)'"
   ]
  },
  {
   "cell_type": "markdown",
   "metadata": {
    "ExecuteTime": {
     "end_time": "2021-10-26T06:33:46.545270Z",
     "start_time": "2021-10-26T06:33:45.789614Z"
    }
   },
   "source": [
    "# westchester sq\n",
    "\n",
    "ind = df.loc[df['station']=='westchester sq'].index\n",
    "df.loc[ind, 'station'] = 'westchester sq (6)'"
   ]
  },
  {
   "cell_type": "markdown",
   "metadata": {
    "ExecuteTime": {
     "end_time": "2021-10-26T06:33:47.313101Z",
     "start_time": "2021-10-26T06:33:46.546271Z"
    }
   },
   "source": [
    "# whitlock av\n",
    "\n",
    "ind = df.loc[df['station']=='whitlock av'].index\n",
    "df.loc[ind, 'station'] = 'whitlock av (6)'"
   ]
  },
  {
   "cell_type": "markdown",
   "metadata": {
    "ExecuteTime": {
     "end_time": "2021-10-26T06:33:48.054758Z",
     "start_time": "2021-10-26T06:33:47.314103Z"
    }
   },
   "source": [
    "# winthrop st\n",
    "\n",
    "ind = df.loc[df['station']=='winthrop st'].index\n",
    "df.loc[ind, 'station'] = 'winthrop st (2/5)'"
   ]
  },
  {
   "cell_type": "markdown",
   "metadata": {
    "ExecuteTime": {
     "end_time": "2021-10-26T06:43:11.305370Z",
     "start_time": "2021-10-26T06:43:09.420387Z"
    }
   },
   "source": [
    "# woodlawn\n",
    "\n",
    "ind = df.loc[(df['station']=='woodlawn')|(df['station']=='woodlawn rd')|(df['station']=='woodlawnrd')].index\n",
    "df.loc[ind, 'station'] = 'woodlawn (4)'"
   ]
  },
  {
   "cell_type": "markdown",
   "metadata": {
    "ExecuteTime": {
     "end_time": "2021-10-26T06:33:50.150771Z",
     "start_time": "2021-10-26T06:33:49.406746Z"
    }
   },
   "source": [
    "# zerega av\n",
    "\n",
    "ind = df.loc[df['station']=='zerega av'].index\n",
    "df.loc[ind, 'station'] = 'zerega av (6)'"
   ]
  },
  {
   "cell_type": "markdown",
   "metadata": {
    "ExecuteTime": {
     "end_time": "2021-10-26T06:33:50.924128Z",
     "start_time": "2021-10-26T06:33:50.151771Z"
    }
   },
   "source": [
    "# 3 av - 149 st\n",
    "\n",
    "ind = df.loc[df['station']=='3 av-149 st'].index\n",
    "df.loc[ind, 'station'] = '3 av-149 st (2/5)'"
   ]
  },
  {
   "cell_type": "markdown",
   "metadata": {
    "ExecuteTime": {
     "end_time": "2021-10-26T06:43:33.955237Z",
     "start_time": "2021-10-26T06:43:33.211571Z"
    }
   },
   "source": [
    "sorted(list(df['station'].value_counts().index))"
   ]
  },
  {
   "cell_type": "markdown",
   "metadata": {
    "ExecuteTime": {
     "end_time": "2021-10-26T06:44:02.616761Z",
     "start_time": "2021-10-26T06:44:00.052625Z"
    }
   },
   "source": [
    "ind = df.loc[(df['lines']=='ACENQRS1237W')|(df['lines']=='ACENQRS1237')|(df['lines']=='ACENGRS1237')\n",
    "            |(df['lines']=='ACENGRS1237W')].index\n",
    "df.loc[ind, 'lines'] = '1237ACENQRSW'"
   ]
  },
  {
   "cell_type": "markdown",
   "metadata": {
    "ExecuteTime": {
     "end_time": "2021-10-26T06:44:07.091857Z",
     "start_time": "2021-10-26T06:44:06.341001Z"
    }
   },
   "source": [
    "ind = df.loc[df['lines'] == '456LNQR'].index\n",
    "df.loc[ind, 'lines'] = '456LNQRW'"
   ]
  },
  {
   "cell_type": "markdown",
   "metadata": {
    "ExecuteTime": {
     "end_time": "2021-10-26T06:44:09.092413Z",
     "start_time": "2021-10-26T06:44:07.092857Z"
    }
   },
   "source": [
    "ind = df.loc[(df['lines']=='R1')|(df['lines']=='1R')|(df['lines']=='R1W')].index\n",
    "df.loc[ind, 'lines'] = '1RW'"
   ]
  },
  {
   "cell_type": "markdown",
   "metadata": {
    "ExecuteTime": {
     "end_time": "2021-10-26T06:44:09.852415Z",
     "start_time": "2021-10-26T06:44:09.093413Z"
    }
   },
   "source": [
    "ind = df.loc[(df['lines']=='AC1')].index\n",
    "df.loc[ind, 'lines'] = '1AC'"
   ]
  },
  {
   "cell_type": "markdown",
   "metadata": {
    "ExecuteTime": {
     "end_time": "2021-10-26T06:44:10.633436Z",
     "start_time": "2021-10-26T06:44:09.853416Z"
    }
   },
   "source": [
    "ind = df.loc[(df['lines']=='BDNQR2345')].index\n",
    "df.loc[ind, 'lines'] = '2345BDNQR'"
   ]
  },
  {
   "cell_type": "markdown",
   "metadata": {
    "ExecuteTime": {
     "end_time": "2021-10-26T06:44:11.395986Z",
     "start_time": "2021-10-26T06:44:10.634437Z"
    }
   },
   "source": [
    "ind = df.loc[df['lines']=='ACE23'].index\n",
    "df.loc[ind, 'lines'] = '23ACE'"
   ]
  },
  {
   "cell_type": "markdown",
   "metadata": {
    "ExecuteTime": {
     "end_time": "2021-10-26T06:44:12.257581Z",
     "start_time": "2021-10-26T06:44:11.396550Z"
    }
   },
   "source": [
    "ind = df.loc[df['lines']=='LNQR456W'].index\n",
    "df.loc[ind,'lines'] = '456LNQRW'"
   ]
  },
  {
   "cell_type": "markdown",
   "metadata": {
    "ExecuteTime": {
     "end_time": "2021-10-26T06:44:13.007480Z",
     "start_time": "2021-10-26T06:44:12.258556Z"
    }
   },
   "source": [
    "ind = df.loc[df['lines']=='NQR456'].index\n",
    "df.loc[ind,'lines'] = '456NQRW'"
   ]
  },
  {
   "cell_type": "markdown",
   "metadata": {
    "ExecuteTime": {
     "end_time": "2021-10-26T06:44:13.768787Z",
     "start_time": "2021-10-26T06:44:13.008480Z"
    }
   },
   "source": [
    "ind = df.loc[df['lines']=='7NQ'].index\n",
    "df.loc[ind, 'lines'] = '7NQW'"
   ]
  },
  {
   "cell_type": "markdown",
   "metadata": {
    "ExecuteTime": {
     "end_time": "2021-10-26T06:44:14.513055Z",
     "start_time": "2021-10-26T06:44:13.769788Z"
    }
   },
   "source": [
    "ind = df.loc[df['lines']=='ABCD1'].index\n",
    "df.loc[ind, 'lines'] = '1ABCD'"
   ]
  },
  {
   "cell_type": "markdown",
   "metadata": {
    "ExecuteTime": {
     "end_time": "2021-10-26T06:44:15.308118Z",
     "start_time": "2021-10-26T06:44:14.514073Z"
    }
   },
   "source": [
    "ind = df.loc[df['lines']=='456NQRW'].index\n",
    "df.loc[ind, 'lines'] = '456NQRW'"
   ]
  },
  {
   "cell_type": "markdown",
   "metadata": {
    "ExecuteTime": {
     "end_time": "2021-10-26T06:44:16.039361Z",
     "start_time": "2021-10-26T06:44:15.309117Z"
    }
   },
   "source": [
    "ind = df.loc[df['lines']=='EFMR7'].index\n",
    "df.loc[ind, 'lines'] = '7EFMR'"
   ]
  },
  {
   "cell_type": "markdown",
   "metadata": {
    "ExecuteTime": {
     "end_time": "2021-10-26T06:44:16.805788Z",
     "start_time": "2021-10-26T06:44:16.040340Z"
    }
   },
   "source": [
    "ind = df.loc[df['lines']=='JNQRZ6'].index\n",
    "df.loc[ind, 'lines'] = '6JNQRZW'"
   ]
  },
  {
   "cell_type": "markdown",
   "metadata": {
    "ExecuteTime": {
     "end_time": "2021-10-26T06:44:17.569739Z",
     "start_time": "2021-10-26T06:44:16.806797Z"
    }
   },
   "source": [
    "ind = df.loc[df['lines']=='S2345'].index\n",
    "df.loc[ind, 'lines'] = '2345S'"
   ]
  },
  {
   "cell_type": "markdown",
   "metadata": {
    "ExecuteTime": {
     "end_time": "2021-10-26T06:44:18.346504Z",
     "start_time": "2021-10-26T06:44:17.571103Z"
    }
   },
   "source": [
    "ind = df.loc[df['lines']=='FLM123'].index\n",
    "df.loc[ind,'lines'] = '123FLM'"
   ]
  },
  {
   "cell_type": "markdown",
   "metadata": {
    "ExecuteTime": {
     "end_time": "2021-10-26T06:44:19.766283Z",
     "start_time": "2021-10-26T06:44:18.347504Z"
    }
   },
   "source": [
    "ind = df.loc[(df['lines']=='456NQR')|(df['lines']=='NQR456W')].index\n",
    "df.loc[ind,'lines'] = '456NQRW'"
   ]
  },
  {
   "cell_type": "markdown",
   "metadata": {
    "ExecuteTime": {
     "end_time": "2021-10-26T06:44:25.413600Z",
     "start_time": "2021-10-26T06:44:19.767834Z"
    }
   },
   "source": [
    "dropper = df.loc[df['lines']=='ACS'].index\n",
    "df.drop(dropper,inplace=True)"
   ]
  },
  {
   "cell_type": "markdown",
   "metadata": {
    "ExecuteTime": {
     "end_time": "2021-10-26T06:44:26.149003Z",
     "start_time": "2021-10-26T06:44:25.414606Z"
    }
   },
   "source": [
    "ind = df.loc[df['lines']=='LNQR456'].index\n",
    "df.loc[ind,'lines'] = '456LNQRW'"
   ]
  },
  {
   "cell_type": "markdown",
   "metadata": {
    "ExecuteTime": {
     "end_time": "2021-10-26T06:44:26.796350Z",
     "start_time": "2021-10-26T06:44:26.150003Z"
    }
   },
   "source": [
    "df['lines'].loc[df['station']=='lexington av-53 st (6/E/M)'].value_counts()"
   ]
  },
  {
   "cell_type": "markdown",
   "metadata": {
    "ExecuteTime": {
     "end_time": "2021-10-26T06:44:27.519208Z",
     "start_time": "2021-10-26T06:44:26.798348Z"
    }
   },
   "source": [
    "ind = df.loc[df['lines']=='R2345'].index\n",
    "df.loc[ind, 'lines'] = '2345R'"
   ]
  },
  {
   "cell_type": "markdown",
   "metadata": {
    "ExecuteTime": {
     "end_time": "2021-10-26T06:44:28.263624Z",
     "start_time": "2021-10-26T06:44:27.520617Z"
    }
   },
   "source": [
    "ind = df.loc[df['lines']=='JZ456'].index\n",
    "df.loc[ind, 'lines'] = '456JZ'"
   ]
  },
  {
   "cell_type": "markdown",
   "metadata": {
    "ExecuteTime": {
     "end_time": "2021-10-26T06:44:29.000652Z",
     "start_time": "2021-10-26T06:44:28.264623Z"
    }
   },
   "source": [
    "ind = df.loc[df['lines']=='JNQRZ6W'].index\n",
    "df.loc[ind,'lines'] = '6JNQRZW'"
   ]
  },
  {
   "cell_type": "markdown",
   "metadata": {
    "ExecuteTime": {
     "end_time": "2021-10-26T06:44:30.375740Z",
     "start_time": "2021-10-26T06:44:29.001653Z"
    }
   },
   "source": [
    "ind = df.loc[(df['lines']=='6DF')|(df['lines']=='BDFQ6')].index\n",
    "df.loc[ind, 'lines'] = '6BDFQ'"
   ]
  },
  {
   "cell_type": "markdown",
   "metadata": {
    "ExecuteTime": {
     "end_time": "2021-10-26T06:44:31.101631Z",
     "start_time": "2021-10-26T06:44:30.376740Z"
    }
   },
   "source": [
    "ind = df.loc[df['lines']=='ACJZ2345'].index\n",
    "df.loc[ind, 'lines'] = '2345ACJZ'"
   ]
  },
  {
   "cell_type": "markdown",
   "metadata": {
    "ExecuteTime": {
     "end_time": "2021-10-26T06:44:31.831828Z",
     "start_time": "2021-10-26T06:44:31.102631Z"
    }
   },
   "source": [
    "ind = df.loc[df['lines']=='BD4'].index\n",
    "df.loc[ind, 'lines'] = '4BD'"
   ]
  },
  {
   "cell_type": "markdown",
   "metadata": {
    "ExecuteTime": {
     "end_time": "2021-10-26T06:44:33.858278Z",
     "start_time": "2021-10-26T06:44:31.832828Z"
    }
   },
   "source": [
    "ind = df.loc[(df['lines']=='EM6')|((df['lines']=='6')&(df['station']=='lexington av-53 st (6/E/M)'))].index\n",
    "df.loc[ind, 'lines'] = '6EM'"
   ]
  },
  {
   "cell_type": "markdown",
   "metadata": {
    "ExecuteTime": {
     "end_time": "2021-10-26T06:44:34.602995Z",
     "start_time": "2021-10-26T06:44:33.859278Z"
    }
   },
   "source": [
    "ind = df.loc[df['lines']=='BDFM7'].index\n",
    "df.loc[ind,'lines'] = '7BDFM'"
   ]
  },
  {
   "cell_type": "markdown",
   "metadata": {
    "ExecuteTime": {
     "end_time": "2021-10-26T06:44:35.957635Z",
     "start_time": "2021-10-26T06:44:34.603995Z"
    }
   },
   "source": [
    "ind = df.loc[(df['station']=='park pl (2/3/A/C/E)')&(df['lines']=='23')].index\n",
    "df.loc[ind, 'lines'] = '23ACE'"
   ]
  },
  {
   "cell_type": "code",
   "execution_count": 3,
   "metadata": {
    "ExecuteTime": {
     "end_time": "2021-10-26T08:12:41.165277Z",
     "start_time": "2021-10-26T08:12:41.156615Z"
    }
   },
   "outputs": [],
   "source": [
    "# with open('all_turnstiles.pkl','wb') as f:\n",
    "#     pkl.dump(df, f)"
   ]
  },
  {
   "cell_type": "code",
   "execution_count": 73,
   "metadata": {
    "ExecuteTime": {
     "end_time": "2021-10-26T10:17:47.596304Z",
     "start_time": "2021-10-26T10:17:47.572294Z"
    }
   },
   "outputs": [
    {
     "data": {
      "text/html": [
       "<div>\n",
       "<style scoped>\n",
       "    .dataframe tbody tr th:only-of-type {\n",
       "        vertical-align: middle;\n",
       "    }\n",
       "\n",
       "    .dataframe tbody tr th {\n",
       "        vertical-align: top;\n",
       "    }\n",
       "\n",
       "    .dataframe thead th {\n",
       "        text-align: right;\n",
       "    }\n",
       "</style>\n",
       "<table border=\"1\" class=\"dataframe\">\n",
       "  <thead>\n",
       "    <tr style=\"text-align: right;\">\n",
       "      <th></th>\n",
       "      <th>ca</th>\n",
       "      <th>unit</th>\n",
       "      <th>scp</th>\n",
       "      <th>station</th>\n",
       "      <th>lines</th>\n",
       "      <th>division</th>\n",
       "      <th>date</th>\n",
       "      <th>time</th>\n",
       "      <th>desc</th>\n",
       "      <th>entries</th>\n",
       "      <th>exits</th>\n",
       "    </tr>\n",
       "  </thead>\n",
       "  <tbody>\n",
       "    <tr>\n",
       "      <th>1988135</th>\n",
       "      <td>R101</td>\n",
       "      <td>R001</td>\n",
       "      <td>02-00-00</td>\n",
       "      <td>south ferry (1/R/W)</td>\n",
       "      <td>1RW</td>\n",
       "      <td>IRT</td>\n",
       "      <td>2015-01-01</td>\n",
       "      <td>0:00:00</td>\n",
       "      <td>REGULAR</td>\n",
       "      <td>1954174</td>\n",
       "      <td>3770840</td>\n",
       "    </tr>\n",
       "    <tr>\n",
       "      <th>1988136</th>\n",
       "      <td>R101</td>\n",
       "      <td>R001</td>\n",
       "      <td>02-00-00</td>\n",
       "      <td>south ferry (1/R/W)</td>\n",
       "      <td>1RW</td>\n",
       "      <td>IRT</td>\n",
       "      <td>2015-01-01</td>\n",
       "      <td>4:00:00</td>\n",
       "      <td>REGULAR</td>\n",
       "      <td>1954197</td>\n",
       "      <td>3770914</td>\n",
       "    </tr>\n",
       "    <tr>\n",
       "      <th>1988137</th>\n",
       "      <td>R101</td>\n",
       "      <td>R001</td>\n",
       "      <td>02-00-00</td>\n",
       "      <td>south ferry (1/R/W)</td>\n",
       "      <td>1RW</td>\n",
       "      <td>IRT</td>\n",
       "      <td>2015-01-01</td>\n",
       "      <td>8:00:00</td>\n",
       "      <td>REGULAR</td>\n",
       "      <td>1954217</td>\n",
       "      <td>3770934</td>\n",
       "    </tr>\n",
       "    <tr>\n",
       "      <th>1988138</th>\n",
       "      <td>R101</td>\n",
       "      <td>R001</td>\n",
       "      <td>02-00-00</td>\n",
       "      <td>south ferry (1/R/W)</td>\n",
       "      <td>1RW</td>\n",
       "      <td>IRT</td>\n",
       "      <td>2015-01-01</td>\n",
       "      <td>12:00:00</td>\n",
       "      <td>REGULAR</td>\n",
       "      <td>1954258</td>\n",
       "      <td>3770980</td>\n",
       "    </tr>\n",
       "    <tr>\n",
       "      <th>1988139</th>\n",
       "      <td>R101</td>\n",
       "      <td>R001</td>\n",
       "      <td>02-00-00</td>\n",
       "      <td>south ferry (1/R/W)</td>\n",
       "      <td>1RW</td>\n",
       "      <td>IRT</td>\n",
       "      <td>2015-01-01</td>\n",
       "      <td>16:00:00</td>\n",
       "      <td>REGULAR</td>\n",
       "      <td>1954438</td>\n",
       "      <td>3771080</td>\n",
       "    </tr>\n",
       "    <tr>\n",
       "      <th>...</th>\n",
       "      <td>...</td>\n",
       "      <td>...</td>\n",
       "      <td>...</td>\n",
       "      <td>...</td>\n",
       "      <td>...</td>\n",
       "      <td>...</td>\n",
       "      <td>...</td>\n",
       "      <td>...</td>\n",
       "      <td>...</td>\n",
       "      <td>...</td>\n",
       "      <td>...</td>\n",
       "    </tr>\n",
       "    <tr>\n",
       "      <th>53606487</th>\n",
       "      <td>R730</td>\n",
       "      <td>R431</td>\n",
       "      <td>00-00-04</td>\n",
       "      <td>eastchester dyre av (5)</td>\n",
       "      <td>5</td>\n",
       "      <td>IRT</td>\n",
       "      <td>2019-12-31</td>\n",
       "      <td>4:00:00</td>\n",
       "      <td>REGULAR</td>\n",
       "      <td>1559888301</td>\n",
       "      <td>1728208092</td>\n",
       "    </tr>\n",
       "    <tr>\n",
       "      <th>53606488</th>\n",
       "      <td>R730</td>\n",
       "      <td>R431</td>\n",
       "      <td>00-00-04</td>\n",
       "      <td>eastchester dyre av (5)</td>\n",
       "      <td>5</td>\n",
       "      <td>IRT</td>\n",
       "      <td>2019-12-31</td>\n",
       "      <td>8:00:00</td>\n",
       "      <td>REGULAR</td>\n",
       "      <td>1559888182</td>\n",
       "      <td>1728208105</td>\n",
       "    </tr>\n",
       "    <tr>\n",
       "      <th>53606489</th>\n",
       "      <td>R730</td>\n",
       "      <td>R431</td>\n",
       "      <td>00-00-04</td>\n",
       "      <td>eastchester dyre av (5)</td>\n",
       "      <td>5</td>\n",
       "      <td>IRT</td>\n",
       "      <td>2019-12-31</td>\n",
       "      <td>12:00:00</td>\n",
       "      <td>REGULAR</td>\n",
       "      <td>1559888100</td>\n",
       "      <td>1728208118</td>\n",
       "    </tr>\n",
       "    <tr>\n",
       "      <th>53606490</th>\n",
       "      <td>R730</td>\n",
       "      <td>R431</td>\n",
       "      <td>00-00-04</td>\n",
       "      <td>eastchester dyre av (5)</td>\n",
       "      <td>5</td>\n",
       "      <td>IRT</td>\n",
       "      <td>2019-12-31</td>\n",
       "      <td>16:00:00</td>\n",
       "      <td>REGULAR</td>\n",
       "      <td>1559888030</td>\n",
       "      <td>1728208149</td>\n",
       "    </tr>\n",
       "    <tr>\n",
       "      <th>53606491</th>\n",
       "      <td>R730</td>\n",
       "      <td>R431</td>\n",
       "      <td>00-00-04</td>\n",
       "      <td>eastchester dyre av (5)</td>\n",
       "      <td>5</td>\n",
       "      <td>IRT</td>\n",
       "      <td>2019-12-31</td>\n",
       "      <td>20:00:00</td>\n",
       "      <td>REGULAR</td>\n",
       "      <td>1559887996</td>\n",
       "      <td>1728208188</td>\n",
       "    </tr>\n",
       "  </tbody>\n",
       "</table>\n",
       "<p>18825998 rows × 11 columns</p>\n",
       "</div>"
      ],
      "text/plain": [
       "            ca  unit       scp                  station lines division  \\\n",
       "1988135   R101  R001  02-00-00      south ferry (1/R/W)   1RW      IRT   \n",
       "1988136   R101  R001  02-00-00      south ferry (1/R/W)   1RW      IRT   \n",
       "1988137   R101  R001  02-00-00      south ferry (1/R/W)   1RW      IRT   \n",
       "1988138   R101  R001  02-00-00      south ferry (1/R/W)   1RW      IRT   \n",
       "1988139   R101  R001  02-00-00      south ferry (1/R/W)   1RW      IRT   \n",
       "...        ...   ...       ...                      ...   ...      ...   \n",
       "53606487  R730  R431  00-00-04  eastchester dyre av (5)     5      IRT   \n",
       "53606488  R730  R431  00-00-04  eastchester dyre av (5)     5      IRT   \n",
       "53606489  R730  R431  00-00-04  eastchester dyre av (5)     5      IRT   \n",
       "53606490  R730  R431  00-00-04  eastchester dyre av (5)     5      IRT   \n",
       "53606491  R730  R431  00-00-04  eastchester dyre av (5)     5      IRT   \n",
       "\n",
       "               date      time     desc     entries       exits  \n",
       "1988135  2015-01-01   0:00:00  REGULAR     1954174     3770840  \n",
       "1988136  2015-01-01   4:00:00  REGULAR     1954197     3770914  \n",
       "1988137  2015-01-01   8:00:00  REGULAR     1954217     3770934  \n",
       "1988138  2015-01-01  12:00:00  REGULAR     1954258     3770980  \n",
       "1988139  2015-01-01  16:00:00  REGULAR     1954438     3771080  \n",
       "...             ...       ...      ...         ...         ...  \n",
       "53606487 2019-12-31   4:00:00  REGULAR  1559888301  1728208092  \n",
       "53606488 2019-12-31   8:00:00  REGULAR  1559888182  1728208105  \n",
       "53606489 2019-12-31  12:00:00  REGULAR  1559888100  1728208118  \n",
       "53606490 2019-12-31  16:00:00  REGULAR  1559888030  1728208149  \n",
       "53606491 2019-12-31  20:00:00  REGULAR  1559887996  1728208188  \n",
       "\n",
       "[18825998 rows x 11 columns]"
      ]
     },
     "execution_count": 73,
     "metadata": {},
     "output_type": "execute_result"
    }
   ],
   "source": [
    "df"
   ]
  },
  {
   "cell_type": "code",
   "execution_count": 74,
   "metadata": {
    "ExecuteTime": {
     "end_time": "2021-10-26T10:18:28.094719Z",
     "start_time": "2021-10-26T10:18:27.012208Z"
    }
   },
   "outputs": [],
   "source": [
    "zero_entry = df.loc[df['entries']==0].index"
   ]
  },
  {
   "cell_type": "code",
   "execution_count": 92,
   "metadata": {
    "ExecuteTime": {
     "end_time": "2021-10-26T10:21:30.982418Z",
     "start_time": "2021-10-26T10:21:30.973414Z"
    }
   },
   "outputs": [],
   "source": [
    "see = df.iloc[[1995945,1995946]]"
   ]
  },
  {
   "cell_type": "code",
   "execution_count": 93,
   "metadata": {
    "ExecuteTime": {
     "end_time": "2021-10-26T10:21:32.222236Z",
     "start_time": "2021-10-26T10:21:32.203229Z"
    }
   },
   "outputs": [
    {
     "data": {
      "text/html": [
       "<div>\n",
       "<style scoped>\n",
       "    .dataframe tbody tr th:only-of-type {\n",
       "        vertical-align: middle;\n",
       "    }\n",
       "\n",
       "    .dataframe tbody tr th {\n",
       "        vertical-align: top;\n",
       "    }\n",
       "\n",
       "    .dataframe thead th {\n",
       "        text-align: right;\n",
       "    }\n",
       "</style>\n",
       "<table border=\"1\" class=\"dataframe\">\n",
       "  <thead>\n",
       "    <tr style=\"text-align: right;\">\n",
       "      <th></th>\n",
       "      <th>ca</th>\n",
       "      <th>unit</th>\n",
       "      <th>scp</th>\n",
       "      <th>station</th>\n",
       "      <th>lines</th>\n",
       "      <th>division</th>\n",
       "      <th>date</th>\n",
       "      <th>time</th>\n",
       "      <th>desc</th>\n",
       "      <th>entries</th>\n",
       "      <th>exits</th>\n",
       "    </tr>\n",
       "  </thead>\n",
       "  <tbody>\n",
       "    <tr>\n",
       "      <th>7580270</th>\n",
       "      <td>R160</td>\n",
       "      <td>R164</td>\n",
       "      <td>2/3/2000</td>\n",
       "      <td>66 st-lincoln ctr (1)</td>\n",
       "      <td>1</td>\n",
       "      <td>IRT</td>\n",
       "      <td>2015-07-23</td>\n",
       "      <td>5:00:00</td>\n",
       "      <td>REGULAR</td>\n",
       "      <td>2050404</td>\n",
       "      <td>896158</td>\n",
       "    </tr>\n",
       "    <tr>\n",
       "      <th>7580271</th>\n",
       "      <td>R160</td>\n",
       "      <td>R164</td>\n",
       "      <td>2/3/2000</td>\n",
       "      <td>66 st-lincoln ctr (1)</td>\n",
       "      <td>1</td>\n",
       "      <td>IRT</td>\n",
       "      <td>2015-07-23</td>\n",
       "      <td>7:51:35</td>\n",
       "      <td>REGULAR</td>\n",
       "      <td>2050587</td>\n",
       "      <td>896245</td>\n",
       "    </tr>\n",
       "  </tbody>\n",
       "</table>\n",
       "</div>"
      ],
      "text/plain": [
       "           ca  unit       scp                station lines division  \\\n",
       "7580270  R160  R164  2/3/2000  66 st-lincoln ctr (1)     1      IRT   \n",
       "7580271  R160  R164  2/3/2000  66 st-lincoln ctr (1)     1      IRT   \n",
       "\n",
       "              date     time     desc  entries   exits  \n",
       "7580270 2015-07-23  5:00:00  REGULAR  2050404  896158  \n",
       "7580271 2015-07-23  7:51:35  REGULAR  2050587  896245  "
      ]
     },
     "execution_count": 93,
     "metadata": {},
     "output_type": "execute_result"
    }
   ],
   "source": [
    "see"
   ]
  },
  {
   "cell_type": "code",
   "execution_count": 84,
   "metadata": {
    "ExecuteTime": {
     "end_time": "2021-10-26T10:20:31.825055Z",
     "start_time": "2021-10-26T10:20:31.748269Z"
    }
   },
   "outputs": [
    {
     "data": {
      "text/html": [
       "<div>\n",
       "<style scoped>\n",
       "    .dataframe tbody tr th:only-of-type {\n",
       "        vertical-align: middle;\n",
       "    }\n",
       "\n",
       "    .dataframe tbody tr th {\n",
       "        vertical-align: top;\n",
       "    }\n",
       "\n",
       "    .dataframe thead th {\n",
       "        text-align: right;\n",
       "    }\n",
       "</style>\n",
       "<table border=\"1\" class=\"dataframe\">\n",
       "  <thead>\n",
       "    <tr style=\"text-align: right;\">\n",
       "      <th></th>\n",
       "      <th>ca</th>\n",
       "      <th>unit</th>\n",
       "      <th>scp</th>\n",
       "      <th>station</th>\n",
       "      <th>lines</th>\n",
       "      <th>division</th>\n",
       "      <th>date</th>\n",
       "      <th>time</th>\n",
       "      <th>desc</th>\n",
       "      <th>entries</th>\n",
       "      <th>exits</th>\n",
       "    </tr>\n",
       "  </thead>\n",
       "  <tbody>\n",
       "    <tr>\n",
       "      <th>1995946</th>\n",
       "      <td>R138</td>\n",
       "      <td>R293</td>\n",
       "      <td>00-05-01</td>\n",
       "      <td>34 st-penn sta (1/2/3/A/C/E)</td>\n",
       "      <td>123ACE</td>\n",
       "      <td>IRT</td>\n",
       "      <td>2015-01-01</td>\n",
       "      <td>1:00:00</td>\n",
       "      <td>REGULAR</td>\n",
       "      <td>0</td>\n",
       "      <td>900</td>\n",
       "    </tr>\n",
       "    <tr>\n",
       "      <th>1995947</th>\n",
       "      <td>R138</td>\n",
       "      <td>R293</td>\n",
       "      <td>00-05-01</td>\n",
       "      <td>34 st-penn sta (1/2/3/A/C/E)</td>\n",
       "      <td>123ACE</td>\n",
       "      <td>IRT</td>\n",
       "      <td>2015-01-01</td>\n",
       "      <td>5:00:00</td>\n",
       "      <td>REGULAR</td>\n",
       "      <td>0</td>\n",
       "      <td>900</td>\n",
       "    </tr>\n",
       "    <tr>\n",
       "      <th>1995948</th>\n",
       "      <td>R138</td>\n",
       "      <td>R293</td>\n",
       "      <td>00-05-01</td>\n",
       "      <td>34 st-penn sta (1/2/3/A/C/E)</td>\n",
       "      <td>123ACE</td>\n",
       "      <td>IRT</td>\n",
       "      <td>2015-01-01</td>\n",
       "      <td>9:00:00</td>\n",
       "      <td>REGULAR</td>\n",
       "      <td>0</td>\n",
       "      <td>900</td>\n",
       "    </tr>\n",
       "    <tr>\n",
       "      <th>1995949</th>\n",
       "      <td>R138</td>\n",
       "      <td>R293</td>\n",
       "      <td>00-05-01</td>\n",
       "      <td>34 st-penn sta (1/2/3/A/C/E)</td>\n",
       "      <td>123ACE</td>\n",
       "      <td>IRT</td>\n",
       "      <td>2015-01-01</td>\n",
       "      <td>13:00:00</td>\n",
       "      <td>REGULAR</td>\n",
       "      <td>0</td>\n",
       "      <td>900</td>\n",
       "    </tr>\n",
       "    <tr>\n",
       "      <th>1995950</th>\n",
       "      <td>R138</td>\n",
       "      <td>R293</td>\n",
       "      <td>00-05-01</td>\n",
       "      <td>34 st-penn sta (1/2/3/A/C/E)</td>\n",
       "      <td>123ACE</td>\n",
       "      <td>IRT</td>\n",
       "      <td>2015-01-01</td>\n",
       "      <td>17:00:00</td>\n",
       "      <td>REGULAR</td>\n",
       "      <td>0</td>\n",
       "      <td>900</td>\n",
       "    </tr>\n",
       "    <tr>\n",
       "      <th>...</th>\n",
       "      <td>...</td>\n",
       "      <td>...</td>\n",
       "      <td>...</td>\n",
       "      <td>...</td>\n",
       "      <td>...</td>\n",
       "      <td>...</td>\n",
       "      <td>...</td>\n",
       "      <td>...</td>\n",
       "      <td>...</td>\n",
       "      <td>...</td>\n",
       "      <td>...</td>\n",
       "    </tr>\n",
       "    <tr>\n",
       "      <th>53535938</th>\n",
       "      <td>R122</td>\n",
       "      <td>R290</td>\n",
       "      <td>2/5/2001</td>\n",
       "      <td>hosuton st (1)</td>\n",
       "      <td>1</td>\n",
       "      <td>IRT</td>\n",
       "      <td>2019-12-31</td>\n",
       "      <td>4:00:00</td>\n",
       "      <td>REGULAR</td>\n",
       "      <td>0</td>\n",
       "      <td>37</td>\n",
       "    </tr>\n",
       "    <tr>\n",
       "      <th>53535939</th>\n",
       "      <td>R122</td>\n",
       "      <td>R290</td>\n",
       "      <td>2/5/2001</td>\n",
       "      <td>hosuton st (1)</td>\n",
       "      <td>1</td>\n",
       "      <td>IRT</td>\n",
       "      <td>2019-12-31</td>\n",
       "      <td>8:00:00</td>\n",
       "      <td>REGULAR</td>\n",
       "      <td>0</td>\n",
       "      <td>37</td>\n",
       "    </tr>\n",
       "    <tr>\n",
       "      <th>53535940</th>\n",
       "      <td>R122</td>\n",
       "      <td>R290</td>\n",
       "      <td>2/5/2001</td>\n",
       "      <td>hosuton st (1)</td>\n",
       "      <td>1</td>\n",
       "      <td>IRT</td>\n",
       "      <td>2019-12-31</td>\n",
       "      <td>12:00:00</td>\n",
       "      <td>REGULAR</td>\n",
       "      <td>0</td>\n",
       "      <td>37</td>\n",
       "    </tr>\n",
       "    <tr>\n",
       "      <th>53535941</th>\n",
       "      <td>R122</td>\n",
       "      <td>R290</td>\n",
       "      <td>2/5/2001</td>\n",
       "      <td>hosuton st (1)</td>\n",
       "      <td>1</td>\n",
       "      <td>IRT</td>\n",
       "      <td>2019-12-31</td>\n",
       "      <td>16:00:00</td>\n",
       "      <td>REGULAR</td>\n",
       "      <td>0</td>\n",
       "      <td>37</td>\n",
       "    </tr>\n",
       "    <tr>\n",
       "      <th>53535942</th>\n",
       "      <td>R122</td>\n",
       "      <td>R290</td>\n",
       "      <td>2/5/2001</td>\n",
       "      <td>hosuton st (1)</td>\n",
       "      <td>1</td>\n",
       "      <td>IRT</td>\n",
       "      <td>2019-12-31</td>\n",
       "      <td>20:00:00</td>\n",
       "      <td>REGULAR</td>\n",
       "      <td>0</td>\n",
       "      <td>37</td>\n",
       "    </tr>\n",
       "  </tbody>\n",
       "</table>\n",
       "<p>161637 rows × 11 columns</p>\n",
       "</div>"
      ],
      "text/plain": [
       "            ca  unit       scp                       station   lines division  \\\n",
       "1995946   R138  R293  00-05-01  34 st-penn sta (1/2/3/A/C/E)  123ACE      IRT   \n",
       "1995947   R138  R293  00-05-01  34 st-penn sta (1/2/3/A/C/E)  123ACE      IRT   \n",
       "1995948   R138  R293  00-05-01  34 st-penn sta (1/2/3/A/C/E)  123ACE      IRT   \n",
       "1995949   R138  R293  00-05-01  34 st-penn sta (1/2/3/A/C/E)  123ACE      IRT   \n",
       "1995950   R138  R293  00-05-01  34 st-penn sta (1/2/3/A/C/E)  123ACE      IRT   \n",
       "...        ...   ...       ...                           ...     ...      ...   \n",
       "53535938  R122  R290  2/5/2001                hosuton st (1)       1      IRT   \n",
       "53535939  R122  R290  2/5/2001                hosuton st (1)       1      IRT   \n",
       "53535940  R122  R290  2/5/2001                hosuton st (1)       1      IRT   \n",
       "53535941  R122  R290  2/5/2001                hosuton st (1)       1      IRT   \n",
       "53535942  R122  R290  2/5/2001                hosuton st (1)       1      IRT   \n",
       "\n",
       "               date      time     desc entries exits  \n",
       "1995946  2015-01-01   1:00:00  REGULAR       0   900  \n",
       "1995947  2015-01-01   5:00:00  REGULAR       0   900  \n",
       "1995948  2015-01-01   9:00:00  REGULAR       0   900  \n",
       "1995949  2015-01-01  13:00:00  REGULAR       0   900  \n",
       "1995950  2015-01-01  17:00:00  REGULAR       0   900  \n",
       "...             ...       ...      ...     ...   ...  \n",
       "53535938 2019-12-31   4:00:00  REGULAR       0    37  \n",
       "53535939 2019-12-31   8:00:00  REGULAR       0    37  \n",
       "53535940 2019-12-31  12:00:00  REGULAR       0    37  \n",
       "53535941 2019-12-31  16:00:00  REGULAR       0    37  \n",
       "53535942 2019-12-31  20:00:00  REGULAR       0    37  \n",
       "\n",
       "[161637 rows x 11 columns]"
      ]
     },
     "execution_count": 84,
     "metadata": {},
     "output_type": "execute_result"
    }
   ],
   "source": [
    "whut = df.loc[zero_entry]\n",
    "whut"
   ]
  },
  {
   "cell_type": "code",
   "execution_count": 75,
   "metadata": {
    "ExecuteTime": {
     "end_time": "2021-10-26T10:18:30.046375Z",
     "start_time": "2021-10-26T10:18:30.028368Z"
    }
   },
   "outputs": [
    {
     "data": {
      "text/plain": [
       "Int64Index([ 1995946,  1995947,  1995948,  1995949,  1995950,  1995951,\n",
       "             1995952,  1995953,  1995954,  1995955,\n",
       "            ...\n",
       "            53535933, 53535934, 53535935, 53535936, 53535937, 53535938,\n",
       "            53535939, 53535940, 53535941, 53535942],\n",
       "           dtype='int64', length=161637)"
      ]
     },
     "execution_count": 75,
     "metadata": {},
     "output_type": "execute_result"
    }
   ],
   "source": [
    "zero_entry"
   ]
  },
  {
   "cell_type": "code",
   "execution_count": 4,
   "metadata": {
    "ExecuteTime": {
     "end_time": "2021-10-26T08:12:42.023140Z",
     "start_time": "2021-10-26T08:12:42.012135Z"
    }
   },
   "outputs": [],
   "source": [
    "ts_2015 = pd.to_datetime('2015-01-01')\n",
    "ts_2016 = pd.to_datetime('2016-01-01')\n",
    "ts_2017 = pd.to_datetime('2017-01-01')\n",
    "ts_2018 = pd.to_datetime('2018-01-01')\n",
    "ts_2019 = pd.to_datetime('2019-01-01')\n",
    "ts_2020 = pd.to_datetime('2020-01-01')"
   ]
  },
  {
   "cell_type": "code",
   "execution_count": 6,
   "metadata": {
    "ExecuteTime": {
     "end_time": "2021-10-26T08:12:59.815301Z",
     "start_time": "2021-10-26T08:12:57.036218Z"
    }
   },
   "outputs": [],
   "source": [
    "df['entries'] = df['entries'].astype(int)\n",
    "df['exits'] = df['exits'].astype(int)"
   ]
  },
  {
   "cell_type": "code",
   "execution_count": 8,
   "metadata": {
    "ExecuteTime": {
     "end_time": "2021-10-26T08:13:08.432928Z",
     "start_time": "2021-10-26T08:13:07.683211Z"
    }
   },
   "outputs": [],
   "source": [
    "stations = sorted(list(df['station'].value_counts().index))"
   ]
  },
  {
   "cell_type": "code",
   "execution_count": 7,
   "metadata": {
    "ExecuteTime": {
     "end_time": "2021-10-26T08:13:02.616021Z",
     "start_time": "2021-10-26T08:13:00.628327Z"
    }
   },
   "outputs": [],
   "source": [
    "df_2015 = df.loc[((df['date'] >= ts_2015)&(df['date'] < ts_2016))&((df['entries']))]\n",
    "df_2016 = df.loc[((df['date'] >= ts_2016)&(df['date'] < ts_2017))&((df['entries']))]\n",
    "df_2017 = df.loc[((df['date'] >= ts_2017)&(df['date'] < ts_2018))&((df['entries']))]\n",
    "df_2018 = df.loc[((df['date'] >= ts_2018)&(df['date'] < ts_2019))&((df['entries']))]\n",
    "df_2019 = df.loc[((df['date'] >= ts_2019)&(df['date'] < ts_2020))&((df['entries']))]"
   ]
  },
  {
   "cell_type": "code",
   "execution_count": 9,
   "metadata": {
    "ExecuteTime": {
     "end_time": "2021-10-26T08:13:12.431106Z",
     "start_time": "2021-10-26T08:13:10.403903Z"
    }
   },
   "outputs": [
    {
     "data": {
      "text/plain": [
       "12015561"
      ]
     },
     "execution_count": 9,
     "metadata": {},
     "output_type": "execute_result"
    }
   ],
   "source": [
    "df_2015['entries'].loc[df['station'] == 'south ferry (1/R/W)'].idxmax()"
   ]
  },
  {
   "cell_type": "code",
   "execution_count": 10,
   "metadata": {
    "ExecuteTime": {
     "end_time": "2021-10-26T08:13:15.473010Z",
     "start_time": "2021-10-26T08:13:14.803904Z"
    }
   },
   "outputs": [
    {
     "data": {
      "text/plain": [
       "10345673"
      ]
     },
     "execution_count": 10,
     "metadata": {},
     "output_type": "execute_result"
    }
   ],
   "source": [
    "df_2015['entries'].loc[df['station'] == 'times sq-42 st (1/2/3/7/A/C/E/N/Q/R/S/W)'].max()"
   ]
  },
  {
   "cell_type": "code",
   "execution_count": 14,
   "metadata": {
    "ExecuteTime": {
     "end_time": "2021-10-26T08:34:12.578656Z",
     "start_time": "2021-10-26T08:34:11.955733Z"
    }
   },
   "outputs": [
    {
     "data": {
      "text/plain": [
       "Int64Index([ 1996798,  1996799,  1996800,  1996801,  1996802,  1996803,\n",
       "             1996804,  1996805,  1996806,  1996807,\n",
       "            ...\n",
       "            53541817, 53541818, 53541819, 53541820, 53541821, 53541822,\n",
       "            53541823, 53541824, 53541825, 53541826],\n",
       "           dtype='int64', length=466827)"
      ]
     },
     "execution_count": 14,
     "metadata": {},
     "output_type": "execute_result"
    }
   ],
   "source": [
    "ind = df.loc[df['station']=='times sq-42 st (1/2/3/7/A/C/E/N/Q/R/S/W)'].index\n",
    "ind"
   ]
  },
  {
   "cell_type": "code",
   "execution_count": 11,
   "metadata": {
    "ExecuteTime": {
     "end_time": "2021-10-26T08:13:17.700876Z",
     "start_time": "2021-10-26T08:13:17.691876Z"
    }
   },
   "outputs": [
    {
     "data": {
      "text/plain": [
       "ca                         R101\n",
       "unit                       R001\n",
       "scp                    02-00-02\n",
       "station     south ferry (1/R/W)\n",
       "lines                       1RW\n",
       "division                    IRT\n",
       "date        2015-12-31 00:00:00\n",
       "time                   16:00:00\n",
       "desc                    REGULAR\n",
       "entries                10345673\n",
       "exits                   7827801\n",
       "Name: 12015561, dtype: object"
      ]
     },
     "execution_count": 11,
     "metadata": {},
     "output_type": "execute_result"
    }
   ],
   "source": [
    "df_2015.loc[12015561]"
   ]
  },
  {
   "cell_type": "code",
   "execution_count": 34,
   "metadata": {
    "ExecuteTime": {
     "end_time": "2021-10-26T08:42:48.300421Z",
     "start_time": "2021-10-26T08:42:48.227580Z"
    }
   },
   "outputs": [
    {
     "name": "stdout",
     "output_type": "stream",
     "text": [
      "/c/users/sethk/documents/flatiron/phase5_capstone/mta/mta_service_delays/data_cleaning\n"
     ]
    }
   ],
   "source": [
    "!pwd"
   ]
  },
  {
   "cell_type": "code",
   "execution_count": 32,
   "metadata": {
    "ExecuteTime": {
     "end_time": "2021-10-26T08:41:41.563973Z",
     "start_time": "2021-10-26T08:41:41.548096Z"
    }
   },
   "outputs": [
    {
     "data": {
      "text/html": [
       "<div>\n",
       "<style scoped>\n",
       "    .dataframe tbody tr th:only-of-type {\n",
       "        vertical-align: middle;\n",
       "    }\n",
       "\n",
       "    .dataframe tbody tr th {\n",
       "        vertical-align: top;\n",
       "    }\n",
       "\n",
       "    .dataframe thead th {\n",
       "        text-align: right;\n",
       "    }\n",
       "</style>\n",
       "<table border=\"1\" class=\"dataframe\">\n",
       "  <thead>\n",
       "    <tr style=\"text-align: right;\">\n",
       "      <th></th>\n",
       "      <th>ca</th>\n",
       "      <th>unit</th>\n",
       "      <th>scp</th>\n",
       "      <th>station</th>\n",
       "      <th>lines</th>\n",
       "      <th>division</th>\n",
       "      <th>date</th>\n",
       "      <th>time</th>\n",
       "      <th>desc</th>\n",
       "      <th>entries</th>\n",
       "      <th>exits</th>\n",
       "    </tr>\n",
       "  </thead>\n",
       "  <tbody>\n",
       "    <tr>\n",
       "      <th>12030776</th>\n",
       "      <td>R170</td>\n",
       "      <td>R191</td>\n",
       "      <td>00-00-02</td>\n",
       "      <td>103 st (1)</td>\n",
       "      <td>1</td>\n",
       "      <td>IRT</td>\n",
       "      <td>2015-12-31</td>\n",
       "      <td>20:00:00</td>\n",
       "      <td>REGULAR</td>\n",
       "      <td>13883675</td>\n",
       "      <td>4008103</td>\n",
       "    </tr>\n",
       "    <tr>\n",
       "      <th>22301137</th>\n",
       "      <td>R170</td>\n",
       "      <td>R191</td>\n",
       "      <td>00-00-02</td>\n",
       "      <td>103 st (1)</td>\n",
       "      <td>1</td>\n",
       "      <td>IRT</td>\n",
       "      <td>2016-12-31</td>\n",
       "      <td>12:00:00</td>\n",
       "      <td>REGULAR</td>\n",
       "      <td>14629327</td>\n",
       "      <td>4150383</td>\n",
       "    </tr>\n",
       "    <tr>\n",
       "      <th>32565156</th>\n",
       "      <td>R170</td>\n",
       "      <td>R191</td>\n",
       "      <td>00-00-02</td>\n",
       "      <td>103 st (1)</td>\n",
       "      <td>1</td>\n",
       "      <td>IRT</td>\n",
       "      <td>2017-12-31</td>\n",
       "      <td>20:00:00</td>\n",
       "      <td>REGULAR</td>\n",
       "      <td>15369003</td>\n",
       "      <td>4294925</td>\n",
       "    </tr>\n",
       "    <tr>\n",
       "      <th>42872049</th>\n",
       "      <td>R170</td>\n",
       "      <td>R191</td>\n",
       "      <td>00-00-02</td>\n",
       "      <td>103 st (1)</td>\n",
       "      <td>1</td>\n",
       "      <td>IRT</td>\n",
       "      <td>2018-12-31</td>\n",
       "      <td>16:00:00</td>\n",
       "      <td>REGULAR</td>\n",
       "      <td>16117843</td>\n",
       "      <td>4436196</td>\n",
       "    </tr>\n",
       "    <tr>\n",
       "      <th>53547143</th>\n",
       "      <td>R170</td>\n",
       "      <td>R191</td>\n",
       "      <td>00-00-02</td>\n",
       "      <td>103 st (1)</td>\n",
       "      <td>1</td>\n",
       "      <td>IRT</td>\n",
       "      <td>2019-12-31</td>\n",
       "      <td>16:00:00</td>\n",
       "      <td>REGULAR</td>\n",
       "      <td>16826413</td>\n",
       "      <td>4569368</td>\n",
       "    </tr>\n",
       "    <tr>\n",
       "      <th>...</th>\n",
       "      <td>...</td>\n",
       "      <td>...</td>\n",
       "      <td>...</td>\n",
       "      <td>...</td>\n",
       "      <td>...</td>\n",
       "      <td>...</td>\n",
       "      <td>...</td>\n",
       "      <td>...</td>\n",
       "      <td>...</td>\n",
       "      <td>...</td>\n",
       "      <td>...</td>\n",
       "    </tr>\n",
       "    <tr>\n",
       "      <th>32590568</th>\n",
       "      <td>R294</td>\n",
       "      <td>R052</td>\n",
       "      <td>00-00-00</td>\n",
       "      <td>woodlawn (4)</td>\n",
       "      <td>4</td>\n",
       "      <td>IRT</td>\n",
       "      <td>2017-12-31</td>\n",
       "      <td>11:00:00</td>\n",
       "      <td>REGULAR</td>\n",
       "      <td>7327955</td>\n",
       "      <td>6393889</td>\n",
       "    </tr>\n",
       "    <tr>\n",
       "      <th>53572765</th>\n",
       "      <td>R294</td>\n",
       "      <td>R052</td>\n",
       "      <td>00-00-00</td>\n",
       "      <td>woodlawn (4)</td>\n",
       "      <td>4</td>\n",
       "      <td>IRT</td>\n",
       "      <td>2019-12-31</td>\n",
       "      <td>23:00:00</td>\n",
       "      <td>REGULAR</td>\n",
       "      <td>8573587</td>\n",
       "      <td>6959544</td>\n",
       "    </tr>\n",
       "    <tr>\n",
       "      <th>5507083</th>\n",
       "      <td>R419</td>\n",
       "      <td>R326</td>\n",
       "      <td>00-00-00</td>\n",
       "      <td>zerega av (6)</td>\n",
       "      <td>6</td>\n",
       "      <td>IRT</td>\n",
       "      <td>2015-05-07</td>\n",
       "      <td>5:00:00</td>\n",
       "      <td>RECOVR AUD</td>\n",
       "      <td>1239563</td>\n",
       "      <td>2377504</td>\n",
       "    </tr>\n",
       "    <tr>\n",
       "      <th>32600856</th>\n",
       "      <td>R419</td>\n",
       "      <td>R326</td>\n",
       "      <td>00-00-00</td>\n",
       "      <td>zerega av (6)</td>\n",
       "      <td>6</td>\n",
       "      <td>IRT</td>\n",
       "      <td>2017-12-31</td>\n",
       "      <td>20:00:00</td>\n",
       "      <td>REGULAR</td>\n",
       "      <td>53235897</td>\n",
       "      <td>1029643</td>\n",
       "    </tr>\n",
       "    <tr>\n",
       "      <th>41900762</th>\n",
       "      <td>R419</td>\n",
       "      <td>R326</td>\n",
       "      <td>00-00-00</td>\n",
       "      <td>zerega av (6)</td>\n",
       "      <td>6</td>\n",
       "      <td>IRT</td>\n",
       "      <td>2018-11-29</td>\n",
       "      <td>8:00:00</td>\n",
       "      <td>REGULAR</td>\n",
       "      <td>53334045</td>\n",
       "      <td>1399426</td>\n",
       "    </tr>\n",
       "  </tbody>\n",
       "</table>\n",
       "<p>1282 rows × 11 columns</p>\n",
       "</div>"
      ],
      "text/plain": [
       "            ca  unit       scp        station lines division       date  \\\n",
       "12030776  R170  R191  00-00-02     103 st (1)     1      IRT 2015-12-31   \n",
       "22301137  R170  R191  00-00-02     103 st (1)     1      IRT 2016-12-31   \n",
       "32565156  R170  R191  00-00-02     103 st (1)     1      IRT 2017-12-31   \n",
       "42872049  R170  R191  00-00-02     103 st (1)     1      IRT 2018-12-31   \n",
       "53547143  R170  R191  00-00-02     103 st (1)     1      IRT 2019-12-31   \n",
       "...        ...   ...       ...            ...   ...      ...        ...   \n",
       "32590568  R294  R052  00-00-00   woodlawn (4)     4      IRT 2017-12-31   \n",
       "53572765  R294  R052  00-00-00   woodlawn (4)     4      IRT 2019-12-31   \n",
       "5507083   R419  R326  00-00-00  zerega av (6)     6      IRT 2015-05-07   \n",
       "32600856  R419  R326  00-00-00  zerega av (6)     6      IRT 2017-12-31   \n",
       "41900762  R419  R326  00-00-00  zerega av (6)     6      IRT 2018-11-29   \n",
       "\n",
       "              time        desc   entries    exits  \n",
       "12030776  20:00:00     REGULAR  13883675  4008103  \n",
       "22301137  12:00:00     REGULAR  14629327  4150383  \n",
       "32565156  20:00:00     REGULAR  15369003  4294925  \n",
       "42872049  16:00:00     REGULAR  16117843  4436196  \n",
       "53547143  16:00:00     REGULAR  16826413  4569368  \n",
       "...            ...         ...       ...      ...  \n",
       "32590568  11:00:00     REGULAR   7327955  6393889  \n",
       "53572765  23:00:00     REGULAR   8573587  6959544  \n",
       "5507083    5:00:00  RECOVR AUD   1239563  2377504  \n",
       "32600856  20:00:00     REGULAR  53235897  1029643  \n",
       "41900762   8:00:00     REGULAR  53334045  1399426  \n",
       "\n",
       "[1282 rows x 11 columns]"
      ]
     },
     "execution_count": 32,
     "metadata": {},
     "output_type": "execute_result"
    }
   ],
   "source": [
    "pd.concat([df_max_entries,df_max_exits])"
   ]
  },
  {
   "cell_type": "code",
   "execution_count": null,
   "metadata": {},
   "outputs": [],
   "source": []
  },
  {
   "cell_type": "code",
   "execution_count": 26,
   "metadata": {
    "ExecuteTime": {
     "end_time": "2021-10-26T08:37:55.803389Z",
     "start_time": "2021-10-26T08:37:55.788325Z"
    }
   },
   "outputs": [
    {
     "data": {
      "text/plain": [
       "641"
      ]
     },
     "execution_count": 26,
     "metadata": {},
     "output_type": "execute_result"
    }
   ],
   "source": [
    "len(ind_max_exits)"
   ]
  },
  {
   "cell_type": "code",
   "execution_count": 36,
   "metadata": {
    "ExecuteTime": {
     "end_time": "2021-10-26T08:52:50.930147Z",
     "start_time": "2021-10-26T08:52:50.890717Z"
    }
   },
   "outputs": [],
   "source": [
    "for ind in ind_max_entries:\n",
    "    for i in in_both:\n",
    "        if ind == i:\n",
    "            ind_max_entries.remove(ind)\n",
    "            \n",
    "for ind in ind_max_exits:\n",
    "    for i in in_both:\n",
    "        if ind == i:\n",
    "            ind_max_exits.remove(ind)"
   ]
  },
  {
   "cell_type": "code",
   "execution_count": 41,
   "metadata": {
    "ExecuteTime": {
     "end_time": "2021-10-26T09:13:39.331244Z",
     "start_time": "2021-10-26T09:13:39.316237Z"
    }
   },
   "outputs": [
    {
     "data": {
      "text/plain": [
       "845"
      ]
     },
     "execution_count": 41,
     "metadata": {},
     "output_type": "execute_result"
    }
   ],
   "source": [
    "len(ind_max_entries)"
   ]
  },
  {
   "cell_type": "code",
   "execution_count": 38,
   "metadata": {
    "ExecuteTime": {
     "end_time": "2021-10-26T09:03:44.127186Z",
     "start_time": "2021-10-26T08:54:02.100619Z"
    }
   },
   "outputs": [],
   "source": [
    "ind_max_entries = []\n",
    "for station in stations:\n",
    "    ind_max_entries.append(df_2015['entries'].loc[df['station'] == '{}'.format(station)].idxmax())\n",
    "    ind_max_entries.append(df_2016['entries'].loc[df['station'] == '{}'.format(station)].idxmax())\n",
    "    ind_max_entries.append(df_2017['entries'].loc[df['station'] == '{}'.format(station)].idxmax())\n",
    "    ind_max_entries.append(df_2018['entries'].loc[df['station'] == '{}'.format(station)].idxmax())\n",
    "    ind_max_entries.append(df_2019['entries'].loc[df['station'] == '{}'.format(station)].idxmax())"
   ]
  },
  {
   "cell_type": "code",
   "execution_count": 39,
   "metadata": {
    "ExecuteTime": {
     "end_time": "2021-10-26T09:13:34.744354Z",
     "start_time": "2021-10-26T09:03:44.128186Z"
    }
   },
   "outputs": [],
   "source": [
    "ind_max_exits = []\n",
    "for station in stations:\n",
    "    ind_max_exits.append(df_2015['exits'].loc[df['station'] == '{}'.format(station)].idxmax())\n",
    "    ind_max_exits.append(df_2016['exits'].loc[df['station'] == '{}'.format(station)].idxmax())\n",
    "    ind_max_exits.append(df_2017['exits'].loc[df['station'] == '{}'.format(station)].idxmax())\n",
    "    ind_max_exits.append(df_2018['exits'].loc[df['station'] == '{}'.format(station)].idxmax())\n",
    "    ind_max_exits.append(df_2019['exits'].loc[df['station'] == '{}'.format(station)].idxmax())"
   ]
  },
  {
   "cell_type": "code",
   "execution_count": 40,
   "metadata": {
    "ExecuteTime": {
     "end_time": "2021-10-26T09:13:34.759373Z",
     "start_time": "2021-10-26T09:13:34.745355Z"
    }
   },
   "outputs": [],
   "source": [
    "df_max_entries = df.loc[ind_max_entries]\n",
    "df_max_exits = df.loc[ind_max_exits]"
   ]
  },
  {
   "cell_type": "code",
   "execution_count": 42,
   "metadata": {
    "ExecuteTime": {
     "end_time": "2021-10-26T09:13:42.585216Z",
     "start_time": "2021-10-26T09:13:42.555340Z"
    }
   },
   "outputs": [],
   "source": [
    "df_max_entries.to_csv('../data/turnstile/max_entries.csv')\n",
    "df_max_exits.to_csv('../data/turnstile/max_exits.csv')"
   ]
  },
  {
   "cell_type": "code",
   "execution_count": 5,
   "metadata": {
    "ExecuteTime": {
     "end_time": "2021-10-26T06:48:27.390803Z",
     "start_time": "2021-10-26T06:48:26.179574Z"
    }
   },
   "outputs": [
    {
     "name": "stdout",
     "output_type": "stream",
     "text": [
      "42 st bryant pk-5 av (B/D/F/M/7)    110767\n",
      "Name: station, dtype: int64\n",
      "\n",
      "\n",
      "\n",
      "jackson hts-roosevelt av (7/E/F/M/R)    54995\n",
      "Name: station, dtype: int64\n"
     ]
    }
   ],
   "source": [
    "print(df['station'].loc[df['lines']=='7BDFM'].value_counts())\n",
    "print(\"\"\"\n",
    "\n",
    "\"\"\")\n",
    "print(df['station'].loc[df['lines']=='7EFMR'].value_counts())"
   ]
  },
  {
   "cell_type": "code",
   "execution_count": 220,
   "metadata": {
    "ExecuteTime": {
     "end_time": "2021-10-26T06:44:43.413456Z",
     "start_time": "2021-10-26T06:44:42.580662Z"
    },
    "scrolled": false
   },
   "outputs": [
    {
     "data": {
      "text/plain": [
       "['1',\n",
       " '123',\n",
       " '1237ACENQRS',\n",
       " '1237ACENQRSW',\n",
       " '123ACE',\n",
       " '123FLM',\n",
       " '1ABCD',\n",
       " '1AC',\n",
       " '1RW',\n",
       " '2',\n",
       " '23',\n",
       " '2345',\n",
       " '2345ACJZ',\n",
       " '2345BDNQR',\n",
       " '2345R',\n",
       " '2345S',\n",
       " '23ACE',\n",
       " '245',\n",
       " '25',\n",
       " '3',\n",
       " '34',\n",
       " '4',\n",
       " '45',\n",
       " '456',\n",
       " '4567S',\n",
       " '456JZ',\n",
       " '456LNQRW',\n",
       " '456NQRW',\n",
       " '4BD',\n",
       " '5',\n",
       " '6',\n",
       " '6BDFQ',\n",
       " '6EM',\n",
       " '7',\n",
       " '7BDFM',\n",
       " '7EFMR',\n",
       " '7NQW']"
      ]
     },
     "execution_count": 220,
     "metadata": {},
     "output_type": "execute_result"
    }
   ],
   "source": [
    "sorted(list(df['lines'].value_counts().index))"
   ]
  },
  {
   "cell_type": "code",
   "execution_count": 25,
   "metadata": {
    "ExecuteTime": {
     "end_time": "2021-10-26T07:05:58.103375Z",
     "start_time": "2021-10-26T07:05:58.099374Z"
    },
    "scrolled": true
   },
   "outputs": [],
   "source": [
    "# with open('../data/turnstile_irt_cleaned.pkl','wb') as f:\n",
    "#     pkl.dump(df, f)"
   ]
  },
  {
   "cell_type": "code",
   "execution_count": 32,
   "metadata": {
    "ExecuteTime": {
     "end_time": "2021-10-26T07:06:57.846564Z",
     "start_time": "2021-10-26T07:06:57.012543Z"
    }
   },
   "outputs": [],
   "source": [
    "trainz = list(df['lines'].value_counts().index)"
   ]
  },
  {
   "cell_type": "code",
   "execution_count": 33,
   "metadata": {
    "ExecuteTime": {
     "end_time": "2021-10-26T07:06:58.109379Z",
     "start_time": "2021-10-26T07:06:58.101376Z"
    }
   },
   "outputs": [],
   "source": [
    "big_trainz = trainz[:4]"
   ]
  },
  {
   "cell_type": "code",
   "execution_count": 34,
   "metadata": {
    "ExecuteTime": {
     "end_time": "2021-10-26T07:09:38.765372Z",
     "start_time": "2021-10-26T07:09:38.763372Z"
    }
   },
   "outputs": [
    {
     "data": {
      "text/plain": [
       "['6', '1', '7', '25']"
      ]
     },
     "execution_count": 34,
     "metadata": {},
     "output_type": "execute_result"
    }
   ],
   "source": [
    "big_trainz"
   ]
  },
  {
   "cell_type": "code",
   "execution_count": 35,
   "metadata": {
    "ExecuteTime": {
     "end_time": "2021-10-26T07:09:45.992412Z",
     "start_time": "2021-10-26T07:09:45.980408Z"
    }
   },
   "outputs": [],
   "source": [
    "trainz = trainz[4:]"
   ]
  },
  {
   "cell_type": "code",
   "execution_count": 38,
   "metadata": {
    "ExecuteTime": {
     "end_time": "2021-10-26T07:11:37.212992Z",
     "start_time": "2021-10-26T07:10:06.196372Z"
    }
   },
   "outputs": [],
   "source": [
    "for line in trainz:\n",
    "    df1 = df.loc[df['lines']==line]\n",
    "    df1.to_csv('../data/turnstile/{}.csv'.format(line))"
   ]
  },
  {
   "cell_type": "code",
   "execution_count": 28,
   "metadata": {
    "ExecuteTime": {
     "end_time": "2021-10-26T07:06:15.235869Z",
     "start_time": "2021-10-26T07:06:14.419375Z"
    }
   },
   "outputs": [
    {
     "data": {
      "text/plain": [
       "6        2785984\n",
       "1        2649035\n",
       "7        2346439\n",
       "25       1716830\n",
       "23        986115\n",
       "123       889113\n",
       "4567S     713663\n",
       "45        662962\n",
       "4         595450\n",
       "Name: lines, dtype: int64"
      ]
     },
     "execution_count": 28,
     "metadata": {},
     "output_type": "execute_result"
    }
   ],
   "source": [
    "df['lines'].value_counts()[:9]"
   ]
  },
  {
   "cell_type": "code",
   "execution_count": 38,
   "metadata": {
    "ExecuteTime": {
     "end_time": "2021-10-25T01:22:27.030034Z",
     "start_time": "2021-10-25T01:21:23.345732Z"
    }
   },
   "outputs": [],
   "source": [
    "for line in big_trainz:\n",
    "    df1 = df.loc[df['lines']==line]\n",
    "    if len(df1) < 1600000:\n",
    "        df_first = df1[:800000]\n",
    "        df_second = df1[800000:]\n",
    "        df_first.to_csv('data/turnstile/{}_first.csv'.format(line))\n",
    "        df_second.to_csv('data/turnstile/{}_second.csv'.format(line))\n",
    "    elif len(df1) > 1600000 and len(df1) < 2400000:\n",
    "        df_first = df1[:800000]\n",
    "        df_second = df1[800000:1600000]\n",
    "        df_third = df1[1600000:]\n",
    "        df_first.to_csv('data/turnstile/{}_first.csv'.format(line))\n",
    "        df_second.to_csv('data/turnstile/{}_second.csv'.format(line))\n",
    "        df_third.to_csv('data/turnstile/{}_third.csv'.format(line))\n",
    "    elif len(df1) > 2400000 and len(df1) < 3800000:\n",
    "        df_first = df1[:800000]\n",
    "        df_second = df1[800000:1600000]\n",
    "        df_third = df1[1600000:2400000]\n",
    "        df_fourth = df1[2400000:3200000]\n",
    "        df_fifth = df1[3200000:]\n",
    "        df_first.to_csv('data/turnstile/{}_first.csv'.format(line))\n",
    "        df_second.to_csv('data/turnstile/{}_second.csv'.format(line))\n",
    "        df_third.to_csv('data/turnstile/{}_third.csv'.format(line))\n",
    "        df_fourth.to_csv('data/turnstile/{}_fourth.csv'.format(line))\n",
    "        df_fifth.to_csv('data/turnstile/{}_fifth.csv'.format(line))\n",
    "    else:\n",
    "        df_first = df1[:800000]\n",
    "        df_second = df1[800000:1600000]\n",
    "        df_third = df1[1600000:2400000]\n",
    "        df_fourth = df1[2400000:3200000]\n",
    "        df_fifth = df1[3200000:3800000]\n",
    "        df_sixth = df1[3800000:]\n",
    "        df_first.to_csv('data/turnstile/{}_first.csv'.format(line))\n",
    "        df_second.to_csv('data/turnstile/{}_second.csv'.format(line))\n",
    "        df_third.to_csv('data/turnstile/{}_third.csv'.format(line))\n",
    "        df_fourth.to_csv('data/turnstile/{}_fourth.csv'.format(line))\n",
    "        df_fifth.to_csv('data/turnstile/{}_fifth.csv'.format(line))\n",
    "        df_sixth.to_csv('data/turnstile/{}_sixth.csv'.format(line))"
   ]
  },
  {
   "cell_type": "code",
   "execution_count": 34,
   "metadata": {
    "ExecuteTime": {
     "end_time": "2021-10-25T01:14:43.468652Z",
     "start_time": "2021-10-25T01:14:43.457878Z"
    }
   },
   "outputs": [
    {
     "data": {
      "text/plain": [
       "['6', '1', '7', '25', '1237ACENQRSW', '23', '2345ACJZ', '123', '4567S']"
      ]
     },
     "execution_count": 34,
     "metadata": {},
     "output_type": "execute_result"
    }
   ],
   "source": [
    "big_trainz"
   ]
  },
  {
   "cell_type": "code",
   "execution_count": null,
   "metadata": {},
   "outputs": [],
   "source": [
    "df1 = df.loc[df['train_lines']=='4567s']\n",
    "df_first = df1[:800000]\n",
    "df_second = df1[800000:]\n",
    "# df_third = df1[1600000:]\n",
    "# df_fourth = df1[2400000:]\n",
    "# df_fifth = df1[3200000:3800000]\n",
    "# df_sixth = df1[3800000:]\n",
    "df_first.to_csv('data/turnstile/{}_first.csv'.format(line))\n",
    "df_second.to_csv('data/turnstile/{}_second.csv'.format(line))\n",
    "# df_third.to_csv('data/turnstile/{}_third.csv')\n",
    "# df_fourth.to_csv('data/turnstile/{}_fourth.csv')\n",
    "# df_fifth.to_csv('data/turnstile/{}_fifth.csv')\n",
    "# df_sixth.to_csv('data/turnstile/{}_sixth.csv')"
   ]
  },
  {
   "cell_type": "code",
   "execution_count": null,
   "metadata": {},
   "outputs": [],
   "source": []
  }
 ],
 "metadata": {
  "kernelspec": {
   "display_name": "Python 3",
   "language": "python",
   "name": "python3"
  },
  "language_info": {
   "codemirror_mode": {
    "name": "ipython",
    "version": 3
   },
   "file_extension": ".py",
   "mimetype": "text/x-python",
   "name": "python",
   "nbconvert_exporter": "python",
   "pygments_lexer": "ipython3",
   "version": "3.8.5"
  },
  "toc": {
   "base_numbering": 1,
   "nav_menu": {},
   "number_sections": true,
   "sideBar": true,
   "skip_h1_title": false,
   "title_cell": "Table of Contents",
   "title_sidebar": "Contents",
   "toc_cell": false,
   "toc_position": {},
   "toc_section_display": true,
   "toc_window_display": false
  }
 },
 "nbformat": 4,
 "nbformat_minor": 4
}
