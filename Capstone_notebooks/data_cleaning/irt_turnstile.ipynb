{
 "cells": [
  {
   "cell_type": "code",
   "execution_count": 1,
   "metadata": {
    "ExecuteTime": {
     "end_time": "2021-10-21T03:41:15.195132Z",
     "start_time": "2021-10-21T03:41:14.695298Z"
    }
   },
   "outputs": [],
   "source": [
    "import pandas as pd"
   ]
  },
  {
   "cell_type": "code",
   "execution_count": 2,
   "metadata": {
    "ExecuteTime": {
     "end_time": "2021-10-21T03:42:34.002854Z",
     "start_time": "2021-10-21T03:41:15.196111Z"
    }
   },
   "outputs": [],
   "source": [
    "df = pd.read_csv('../get_data/turnstile/all_df_cleaned.csv')"
   ]
  },
  {
   "cell_type": "code",
   "execution_count": 3,
   "metadata": {
    "ExecuteTime": {
     "end_time": "2021-10-21T03:42:40.939526Z",
     "start_time": "2021-10-21T03:42:34.016859Z"
    }
   },
   "outputs": [],
   "source": [
    "df = df.loc[df['division'] == 'IRT']"
   ]
  },
  {
   "cell_type": "code",
   "execution_count": 4,
   "metadata": {
    "ExecuteTime": {
     "end_time": "2021-10-21T03:42:42.748383Z",
     "start_time": "2021-10-21T03:42:40.940526Z"
    }
   },
   "outputs": [],
   "source": [
    "df.drop('Unnamed: 0',axis=1,inplace=True)"
   ]
  },
  {
   "cell_type": "code",
   "execution_count": 5,
   "metadata": {
    "ExecuteTime": {
     "end_time": "2021-10-21T03:42:42.793026Z",
     "start_time": "2021-10-21T03:42:42.749384Z"
    },
    "scrolled": true
   },
   "outputs": [
    {
     "data": {
      "text/html": [
       "<div>\n",
       "<style scoped>\n",
       "    .dataframe tbody tr th:only-of-type {\n",
       "        vertical-align: middle;\n",
       "    }\n",
       "\n",
       "    .dataframe tbody tr th {\n",
       "        vertical-align: top;\n",
       "    }\n",
       "\n",
       "    .dataframe thead th {\n",
       "        text-align: right;\n",
       "    }\n",
       "</style>\n",
       "<table border=\"1\" class=\"dataframe\">\n",
       "  <thead>\n",
       "    <tr style=\"text-align: right;\">\n",
       "      <th></th>\n",
       "      <th>control_area</th>\n",
       "      <th>unit</th>\n",
       "      <th>scp</th>\n",
       "      <th>station</th>\n",
       "      <th>train_lines</th>\n",
       "      <th>division</th>\n",
       "      <th>date</th>\n",
       "      <th>time</th>\n",
       "      <th>desc</th>\n",
       "      <th>entries</th>\n",
       "      <th>exits</th>\n",
       "      <th>datetime</th>\n",
       "    </tr>\n",
       "  </thead>\n",
       "  <tbody>\n",
       "    <tr>\n",
       "      <th>599</th>\n",
       "      <td>R101</td>\n",
       "      <td>R001</td>\n",
       "      <td>02-00-00</td>\n",
       "      <td>SOUTH FERRY</td>\n",
       "      <td>1R</td>\n",
       "      <td>IRT</td>\n",
       "      <td>10/11/2014</td>\n",
       "      <td>1:00:00</td>\n",
       "      <td>REGULAR</td>\n",
       "      <td>1873724</td>\n",
       "      <td>3709601</td>\n",
       "      <td>2014-10-11 01:00:00</td>\n",
       "    </tr>\n",
       "    <tr>\n",
       "      <th>600</th>\n",
       "      <td>R101</td>\n",
       "      <td>R001</td>\n",
       "      <td>02-00-00</td>\n",
       "      <td>SOUTH FERRY</td>\n",
       "      <td>1R</td>\n",
       "      <td>IRT</td>\n",
       "      <td>10/11/2014</td>\n",
       "      <td>5:00:00</td>\n",
       "      <td>REGULAR</td>\n",
       "      <td>1873725</td>\n",
       "      <td>3709635</td>\n",
       "      <td>2014-10-11 05:00:00</td>\n",
       "    </tr>\n",
       "    <tr>\n",
       "      <th>601</th>\n",
       "      <td>R101</td>\n",
       "      <td>R001</td>\n",
       "      <td>02-00-00</td>\n",
       "      <td>SOUTH FERRY</td>\n",
       "      <td>1R</td>\n",
       "      <td>IRT</td>\n",
       "      <td>10/11/2014</td>\n",
       "      <td>9:00:00</td>\n",
       "      <td>REGULAR</td>\n",
       "      <td>1873792</td>\n",
       "      <td>3709677</td>\n",
       "      <td>2014-10-11 09:00:00</td>\n",
       "    </tr>\n",
       "    <tr>\n",
       "      <th>602</th>\n",
       "      <td>R101</td>\n",
       "      <td>R001</td>\n",
       "      <td>02-00-00</td>\n",
       "      <td>SOUTH FERRY</td>\n",
       "      <td>1R</td>\n",
       "      <td>IRT</td>\n",
       "      <td>10/11/2014</td>\n",
       "      <td>13:00:00</td>\n",
       "      <td>REGULAR</td>\n",
       "      <td>1873960</td>\n",
       "      <td>3709742</td>\n",
       "      <td>2014-10-11 13:00:00</td>\n",
       "    </tr>\n",
       "    <tr>\n",
       "      <th>603</th>\n",
       "      <td>R101</td>\n",
       "      <td>R001</td>\n",
       "      <td>02-00-00</td>\n",
       "      <td>SOUTH FERRY</td>\n",
       "      <td>1R</td>\n",
       "      <td>IRT</td>\n",
       "      <td>10/11/2014</td>\n",
       "      <td>17:00:00</td>\n",
       "      <td>REGULAR</td>\n",
       "      <td>1874175</td>\n",
       "      <td>3709832</td>\n",
       "      <td>2014-10-11 17:00:00</td>\n",
       "    </tr>\n",
       "    <tr>\n",
       "      <th>...</th>\n",
       "      <td>...</td>\n",
       "      <td>...</td>\n",
       "      <td>...</td>\n",
       "      <td>...</td>\n",
       "      <td>...</td>\n",
       "      <td>...</td>\n",
       "      <td>...</td>\n",
       "      <td>...</td>\n",
       "      <td>...</td>\n",
       "      <td>...</td>\n",
       "      <td>...</td>\n",
       "      <td>...</td>\n",
       "    </tr>\n",
       "    <tr>\n",
       "      <th>72804707</th>\n",
       "      <td>R730</td>\n",
       "      <td>R431</td>\n",
       "      <td>00-00-04</td>\n",
       "      <td>EASTCHSTER/DYRE</td>\n",
       "      <td>5</td>\n",
       "      <td>IRT</td>\n",
       "      <td>10/8/2021</td>\n",
       "      <td>5:00:00</td>\n",
       "      <td>REGULAR</td>\n",
       "      <td>1559793580</td>\n",
       "      <td>1728258395</td>\n",
       "      <td>2021-10-08 05:00:00</td>\n",
       "    </tr>\n",
       "    <tr>\n",
       "      <th>72804708</th>\n",
       "      <td>R730</td>\n",
       "      <td>R431</td>\n",
       "      <td>00-00-04</td>\n",
       "      <td>EASTCHSTER/DYRE</td>\n",
       "      <td>5</td>\n",
       "      <td>IRT</td>\n",
       "      <td>10/8/2021</td>\n",
       "      <td>9:00:00</td>\n",
       "      <td>REGULAR</td>\n",
       "      <td>1559793463</td>\n",
       "      <td>1728258434</td>\n",
       "      <td>2021-10-08 09:00:00</td>\n",
       "    </tr>\n",
       "    <tr>\n",
       "      <th>72804709</th>\n",
       "      <td>R730</td>\n",
       "      <td>R431</td>\n",
       "      <td>00-00-04</td>\n",
       "      <td>EASTCHSTER/DYRE</td>\n",
       "      <td>5</td>\n",
       "      <td>IRT</td>\n",
       "      <td>10/8/2021</td>\n",
       "      <td>13:00:00</td>\n",
       "      <td>REGULAR</td>\n",
       "      <td>1559793445</td>\n",
       "      <td>1728258446</td>\n",
       "      <td>2021-10-08 13:00:00</td>\n",
       "    </tr>\n",
       "    <tr>\n",
       "      <th>72804710</th>\n",
       "      <td>R730</td>\n",
       "      <td>R431</td>\n",
       "      <td>00-00-04</td>\n",
       "      <td>EASTCHSTER/DYRE</td>\n",
       "      <td>5</td>\n",
       "      <td>IRT</td>\n",
       "      <td>10/8/2021</td>\n",
       "      <td>17:00:00</td>\n",
       "      <td>REGULAR</td>\n",
       "      <td>1559793395</td>\n",
       "      <td>1728258511</td>\n",
       "      <td>2021-10-08 17:00:00</td>\n",
       "    </tr>\n",
       "    <tr>\n",
       "      <th>72804711</th>\n",
       "      <td>R730</td>\n",
       "      <td>R431</td>\n",
       "      <td>00-00-04</td>\n",
       "      <td>EASTCHSTER/DYRE</td>\n",
       "      <td>5</td>\n",
       "      <td>IRT</td>\n",
       "      <td>10/8/2021</td>\n",
       "      <td>21:00:00</td>\n",
       "      <td>REGULAR</td>\n",
       "      <td>1559793360</td>\n",
       "      <td>1728258559</td>\n",
       "      <td>2021-10-08 21:00:00</td>\n",
       "    </tr>\n",
       "  </tbody>\n",
       "</table>\n",
       "<p>26436214 rows × 12 columns</p>\n",
       "</div>"
      ],
      "text/plain": [
       "         control_area  unit       scp          station train_lines division  \\\n",
       "599              R101  R001  02-00-00      SOUTH FERRY          1R      IRT   \n",
       "600              R101  R001  02-00-00      SOUTH FERRY          1R      IRT   \n",
       "601              R101  R001  02-00-00      SOUTH FERRY          1R      IRT   \n",
       "602              R101  R001  02-00-00      SOUTH FERRY          1R      IRT   \n",
       "603              R101  R001  02-00-00      SOUTH FERRY          1R      IRT   \n",
       "...               ...   ...       ...              ...         ...      ...   \n",
       "72804707         R730  R431  00-00-04  EASTCHSTER/DYRE           5      IRT   \n",
       "72804708         R730  R431  00-00-04  EASTCHSTER/DYRE           5      IRT   \n",
       "72804709         R730  R431  00-00-04  EASTCHSTER/DYRE           5      IRT   \n",
       "72804710         R730  R431  00-00-04  EASTCHSTER/DYRE           5      IRT   \n",
       "72804711         R730  R431  00-00-04  EASTCHSTER/DYRE           5      IRT   \n",
       "\n",
       "                date      time     desc     entries       exits  \\\n",
       "599       10/11/2014   1:00:00  REGULAR     1873724     3709601   \n",
       "600       10/11/2014   5:00:00  REGULAR     1873725     3709635   \n",
       "601       10/11/2014   9:00:00  REGULAR     1873792     3709677   \n",
       "602       10/11/2014  13:00:00  REGULAR     1873960     3709742   \n",
       "603       10/11/2014  17:00:00  REGULAR     1874175     3709832   \n",
       "...              ...       ...      ...         ...         ...   \n",
       "72804707   10/8/2021   5:00:00  REGULAR  1559793580  1728258395   \n",
       "72804708   10/8/2021   9:00:00  REGULAR  1559793463  1728258434   \n",
       "72804709   10/8/2021  13:00:00  REGULAR  1559793445  1728258446   \n",
       "72804710   10/8/2021  17:00:00  REGULAR  1559793395  1728258511   \n",
       "72804711   10/8/2021  21:00:00  REGULAR  1559793360  1728258559   \n",
       "\n",
       "                     datetime  \n",
       "599       2014-10-11 01:00:00  \n",
       "600       2014-10-11 05:00:00  \n",
       "601       2014-10-11 09:00:00  \n",
       "602       2014-10-11 13:00:00  \n",
       "603       2014-10-11 17:00:00  \n",
       "...                       ...  \n",
       "72804707  2021-10-08 05:00:00  \n",
       "72804708  2021-10-08 09:00:00  \n",
       "72804709  2021-10-08 13:00:00  \n",
       "72804710  2021-10-08 17:00:00  \n",
       "72804711  2021-10-08 21:00:00  \n",
       "\n",
       "[26436214 rows x 12 columns]"
      ]
     },
     "execution_count": 5,
     "metadata": {},
     "output_type": "execute_result"
    }
   ],
   "source": [
    "df"
   ]
  },
  {
   "cell_type": "code",
   "execution_count": 6,
   "metadata": {
    "ExecuteTime": {
     "end_time": "2021-10-21T03:42:43.976418Z",
     "start_time": "2021-10-21T03:42:42.794026Z"
    },
    "scrolled": true
   },
   "outputs": [
    {
     "data": {
      "text/plain": [
       "6               4233468\n",
       "1               3775693\n",
       "7               3290417\n",
       "25              2383920\n",
       "23              1382161\n",
       "123             1241094\n",
       "4567S           1064038\n",
       "45               919398\n",
       "4                833061\n",
       "3                642037\n",
       "2345ACJZ         579848\n",
       "456              563819\n",
       "2345BDNQR        353325\n",
       "456NQRW          347468\n",
       "123ACE           342472\n",
       "2345R            339035\n",
       "1237ACENQRSW     335761\n",
       "4BD              302702\n",
       "1237ACENQRS      287311\n",
       "5                281804\n",
       "34               278548\n",
       "456JZ            260684\n",
       "BDNQR2345        244963\n",
       "123FLM           230490\n",
       "1RW              224470\n",
       "1ABCD            215044\n",
       "7BDFM            153816\n",
       "2345             150356\n",
       "456NQR           142842\n",
       "456LNQRW         141669\n",
       "6DF              139514\n",
       "2345S            123238\n",
       "245              106058\n",
       "1AC               98439\n",
       "7EFMR             76472\n",
       "2                 76303\n",
       "1R                65943\n",
       "7NQW              65726\n",
       "23ACE             61379\n",
       "456LNQR           54839\n",
       "7NQ               26589\n",
       "Name: train_lines, dtype: int64"
      ]
     },
     "execution_count": 6,
     "metadata": {},
     "output_type": "execute_result"
    }
   ],
   "source": [
    "df['train_lines'].value_counts()"
   ]
  },
  {
   "cell_type": "markdown",
   "metadata": {
    "ExecuteTime": {
     "end_time": "2021-10-21T00:36:16.963344Z",
     "start_time": "2021-10-21T00:35:52.969485Z"
    }
   },
   "source": [
    "df_7nq = df.loc[df['train_lines']=='7NQ']\n",
    "df_7nq.to_csv('../turnstile/7NQ.csv')\n",
    "\n",
    "df_456lnqr = df.loc[df['train_lines']=='456LNQR']\n",
    "df_456lnqr.to_csv('../turnstile/456LNQR.csv')\n",
    "\n",
    "df_23ace = df.loc[df['train_lines']=='23ACE']\n",
    "df_23ace.to_csv('../turnstile/23ACE.csv')\n",
    "\n",
    "df_7nqw = df.loc[df['train_lines']=='7NQW']\n",
    "df_7nqw.to_csv('../turnstile/7NQW.csv')"
   ]
  },
  {
   "cell_type": "markdown",
   "metadata": {
    "ExecuteTime": {
     "end_time": "2021-10-21T00:38:12.828845Z",
     "start_time": "2021-10-21T00:38:04.787109Z"
    }
   },
   "source": [
    "df_1r = df.loc[df['train_lines']=='1R']\n",
    "df_1r.to_csv('../turnstile/1R.csv')\n",
    "\n",
    "df_2 = df.loc[df['train_lines']=='2']\n",
    "df_2.to_csv('../turnstile/2.csv')\n",
    "\n",
    "df_7efmr = df.loc[df['train_lines']=='7EFMR']\n",
    "df_7efmr.to_csv('../turnstile/456lnqr.csv')\n",
    "\n",
    "df_1ac = df.loc[df['train_lines']=='1AC']\n",
    "df_1ac.to_csv('../turnstile/1AC.csv')\n",
    "\n",
    "df_245 = df.loc[df['train_lines']=='245']\n",
    "df_245.to_csv('../turnstile/245.csv')\n",
    "\n",
    "df_2345S = df.loc[df['train_lines']=='2345S']\n",
    "df_2345S.to_csv('../turnstile/2345S.csv')\n",
    "\n",
    "df1 = df.loc[df['train_lines']=='6DF']\n",
    "df.to_csv('../turnstile/6DF.csv')"
   ]
  },
  {
   "cell_type": "code",
   "execution_count": 7,
   "metadata": {
    "ExecuteTime": {
     "end_time": "2021-10-21T03:42:45.144577Z",
     "start_time": "2021-10-21T03:42:43.977418Z"
    },
    "scrolled": false
   },
   "outputs": [
    {
     "data": {
      "text/plain": [
       "6               4233468\n",
       "1               3775693\n",
       "7               3290417\n",
       "25              2383920\n",
       "23              1382161\n",
       "123             1241094\n",
       "4567S           1064038\n",
       "45               919398\n",
       "4                833061\n",
       "3                642037\n",
       "2345ACJZ         579848\n",
       "456              563819\n",
       "2345BDNQR        353325\n",
       "456NQRW          347468\n",
       "123ACE           342472\n",
       "2345R            339035\n",
       "1237ACENQRSW     335761\n",
       "4BD              302702\n",
       "1237ACENQRS      287311\n",
       "5                281804\n",
       "34               278548\n",
       "456JZ            260684\n",
       "BDNQR2345        244963\n",
       "123FLM           230490\n",
       "1RW              224470\n",
       "1ABCD            215044\n",
       "7BDFM            153816\n",
       "2345             150356\n",
       "456NQR           142842\n",
       "456LNQRW         141669\n",
       "6DF              139514\n",
       "2345S            123238\n",
       "245              106058\n",
       "1AC               98439\n",
       "7EFMR             76472\n",
       "2                 76303\n",
       "1R                65943\n",
       "7NQW              65726\n",
       "23ACE             61379\n",
       "456LNQR           54839\n",
       "7NQ               26589\n",
       "Name: train_lines, dtype: int64"
      ]
     },
     "execution_count": 7,
     "metadata": {},
     "output_type": "execute_result"
    }
   ],
   "source": [
    "df['train_lines'].value_counts()"
   ]
  },
  {
   "cell_type": "code",
   "execution_count": 13,
   "metadata": {
    "ExecuteTime": {
     "end_time": "2021-10-21T06:17:51.477260Z",
     "start_time": "2021-10-21T06:17:44.289176Z"
    }
   },
   "outputs": [],
   "source": [
    "df1 = df.loc[df['train_lines']=='25']\n",
    "df_first = df1[:800000]\n",
    "df_second = df1[800000:1600000]\n",
    "df_third = df1[1600000:]\n",
    "# df_fourth = df1[2400000:]\n",
    "# df_fifth = df1[3200000:3800000]\n",
    "# df_sixth = df1[3800000:]\n",
    "df_first.to_csv('../turnstile/25_first.csv')\n",
    "df_second.to_csv('../turnstile/25_second.csv')\n",
    "df_third.to_csv('../turnstile/25_third.csv')\n",
    "# df_fourth.to_csv('../turnstile/25_fourth.csv')\n",
    "# df_fifth.to_csv('../turnstile/6_fifth.csv')\n",
    "# df_sixth.to_csv('../turnstile/6_sixth.csv')"
   ]
  },
  {
   "cell_type": "code",
   "execution_count": 11,
   "metadata": {
    "ExecuteTime": {
     "end_time": "2021-10-21T00:48:34.534132Z",
     "start_time": "2021-10-21T00:48:34.521127Z"
    }
   },
   "outputs": [],
   "source": [
    "trainz = ['45','4','3','2345ACJZ','456','2345BDNQR','456NQRW','123ACE','2345R','1237ACENQRSW',\n",
    "          '4BD','1237ACENQRS','5','34','456JZ','BDNQR2345']"
   ]
  },
  {
   "cell_type": "code",
   "execution_count": 13,
   "metadata": {
    "ExecuteTime": {
     "end_time": "2021-10-21T00:50:58.426444Z",
     "start_time": "2021-10-21T00:50:24.121255Z"
    }
   },
   "outputs": [],
   "source": [
    "for line in trainz:\n",
    "    df1 = df.loc[df['train_lines']==line]\n",
    "    df1.to_csv('../turnstile/{}.csv'.format(line))"
   ]
  },
  {
   "cell_type": "code",
   "execution_count": 12,
   "metadata": {
    "ExecuteTime": {
     "end_time": "2021-10-21T00:50:12.154565Z",
     "start_time": "2021-10-21T00:50:03.857647Z"
    }
   },
   "outputs": [],
   "source": [
    "df1 = df.loc[df['train_lines']=='456LNQRW']\n",
    "df1.to_csv('../turnstile/456LNQRW.csv')\n",
    "\n",
    "df1 = df.loc[df['train_lines']=='456NQR']\n",
    "df1.to_csv('../turnstile/456NQR.csv')\n",
    "\n",
    "df1 = df.loc[df['train_lines']=='2345']\n",
    "df1.to_csv('../turnstile/2345.csv')\n",
    "\n",
    "df1 = df.loc[df['train_lines']=='1ABCD']\n",
    "df1.to_csv('../turnstile/1ABCD.csv')\n",
    "\n",
    "df1 = df.loc[df['train_lines']=='1RW']\n",
    "df1.to_csv('../turnstile/1RW.csv')\n",
    "\n",
    "df1 = df.loc[df['train_lines']=='123FLM']\n",
    "df1.to_csv('../turnstile/123FLM.csv')"
   ]
  }
 ],
 "metadata": {
  "kernelspec": {
   "display_name": "Python 3",
   "language": "python",
   "name": "python3"
  },
  "language_info": {
   "codemirror_mode": {
    "name": "ipython",
    "version": 3
   },
   "file_extension": ".py",
   "mimetype": "text/x-python",
   "name": "python",
   "nbconvert_exporter": "python",
   "pygments_lexer": "ipython3",
   "version": "3.8.5"
  },
  "toc": {
   "base_numbering": 1,
   "nav_menu": {},
   "number_sections": true,
   "sideBar": true,
   "skip_h1_title": false,
   "title_cell": "Table of Contents",
   "title_sidebar": "Contents",
   "toc_cell": false,
   "toc_position": {},
   "toc_section_display": true,
   "toc_window_display": false
  }
 },
 "nbformat": 4,
 "nbformat_minor": 4
}
