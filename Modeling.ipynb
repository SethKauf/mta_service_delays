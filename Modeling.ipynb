{
 "cells": [
  {
   "cell_type": "markdown",
   "metadata": {},
   "source": [
    "# Import Libraries and Data"
   ]
  },
  {
   "cell_type": "code",
   "execution_count": 1,
   "metadata": {
    "ExecuteTime": {
     "end_time": "2021-12-23T14:39:12.461902Z",
     "start_time": "2021-12-23T14:39:11.304913Z"
    }
   },
   "outputs": [],
   "source": [
    "import pandas as pd\n",
    "import numpy as np\n",
    "import matplotlib.pyplot as plt\n",
    "%matplotlib inline\n",
    "import seaborn as sns\n",
    "import pickle as pkl\n",
    "from sklearn.model_selection import train_test_split, GridSearchCV, cross_val_predict\n",
    "from sklearn.preprocessing import StandardScaler\n",
    "from sklearn.naive_bayes import BernoulliNB\n",
    "from sklearn.decomposition import PCA, TruncatedSVD\n",
    "from sklearn.linear_model import LogisticRegression, ElasticNet\n",
    "from sklearn.cluster import KMeans\n",
    "from sklearn.metrics import accuracy_score, recall_score, precision_score, f1_score, plot_confusion_matrix\n",
    "from sklearn.pipeline import make_pipeline, Pipeline\n",
    "from sklearn.tree import DecisionTreeClassifier\n",
    "from sklearn.neighbors import KNeighborsClassifier\n",
    "from sklearn.ensemble import GradientBoostingClassifier, RandomForestClassifier\n",
    "from imblearn.over_sampling import SMOTE, ADASYN\n",
    "import statsmodels.api as sm\n",
    "import json\n",
    "import sys\n",
    "import requests\n",
    "import warnings\n",
    "pd.set_option('display.max_columns',None)\n",
    "warnings.filterwarnings('ignore')"
   ]
  },
  {
   "cell_type": "code",
   "execution_count": 2,
   "metadata": {
    "ExecuteTime": {
     "end_time": "2021-12-23T14:39:12.630276Z",
     "start_time": "2021-12-23T14:39:12.462903Z"
    }
   },
   "outputs": [],
   "source": [
    "with open('data/full_data.pkl','rb') as f:\n",
    "    df = pkl.load(f)"
   ]
  },
  {
   "cell_type": "markdown",
   "metadata": {},
   "source": [
    "# Select the features and target for our modeling"
   ]
  },
  {
   "cell_type": "code",
   "execution_count": 3,
   "metadata": {
    "ExecuteTime": {
     "end_time": "2021-12-23T14:39:12.646280Z",
     "start_time": "2021-12-23T14:39:12.634278Z"
    }
   },
   "outputs": [],
   "source": [
    "features = ['bronx','brooklyn', 'manhattan', 'queens', 'direction_bronx', 'direction_brooklyn', 'direction_manhattan',\n",
    "            'direction_queens', 'direction_both', 'direction_north', 'direction_south', 'passenger_disruption',\n",
    "            'station_integrity_disruption', 'mechanical_and_track_disruption', 'train_disruption', 'weather_disruption',\n",
    "            'signal_disruption', 'switch_disruption', 'mon', 'tue', 'wed', 'th', 'fri', 'weekend','holiday','rush_hour', \n",
    "            'max_temp', 'avg_temp', 'min_temp', 'avg_wind_spd', 'fastest_wind_spd','major_conditions',\n",
    "             'minor_conditions', 'neutral_conditions', 'clear_conditions', 'prcp', 'snowfall', 'snowfall_depth',]"
   ]
  },
  {
   "cell_type": "code",
   "execution_count": 4,
   "metadata": {
    "ExecuteTime": {
     "end_time": "2021-12-23T14:39:12.661681Z",
     "start_time": "2021-12-23T14:39:12.647281Z"
    }
   },
   "outputs": [],
   "source": [
    "df.insert(0,'delayed_all',0)"
   ]
  },
  {
   "cell_type": "code",
   "execution_count": 5,
   "metadata": {
    "ExecuteTime": {
     "end_time": "2021-12-23T14:39:13.021752Z",
     "start_time": "2021-12-23T14:39:12.662680Z"
    }
   },
   "outputs": [],
   "source": [
    "ind_both = df.loc[(df['delayed_div_a']==1)&(df['delayed_div_b']==1)].index\n",
    "ind_a = df.loc[(df['delayed_div_a']==1)&~((df['delayed_div_a']==1)&(df['delayed_div_b']==1))].index\n",
    "ind_b = df.loc[(df['delayed_div_b']==1)&~((df['delayed_div_a']==1)&(df['delayed_div_b']==1))].index"
   ]
  },
  {
   "cell_type": "code",
   "execution_count": 6,
   "metadata": {
    "ExecuteTime": {
     "end_time": "2021-12-23T14:39:13.036756Z",
     "start_time": "2021-12-23T14:39:13.022753Z"
    }
   },
   "outputs": [
    {
     "data": {
      "text/plain": [
       "1    47389\n",
       "0    32213\n",
       "2      105\n",
       "Name: delayed_all, dtype: int64"
      ]
     },
     "execution_count": 6,
     "metadata": {},
     "output_type": "execute_result"
    }
   ],
   "source": [
    "df.loc[ind_a,'delayed_all'] = 0\n",
    "df.loc[ind_b,'delayed_all'] = 1\n",
    "df.loc[ind_both,'delayed_all'] = 2\n",
    "df['delayed_all'].value_counts()"
   ]
  },
  {
   "cell_type": "markdown",
   "metadata": {},
   "source": [
    "# Building a Model for all using clustering"
   ]
  },
  {
   "cell_type": "markdown",
   "metadata": {},
   "source": [
    "## KNN Classification"
   ]
  },
  {
   "cell_type": "code",
   "execution_count": 7,
   "metadata": {
    "ExecuteTime": {
     "end_time": "2021-12-23T14:39:13.082453Z",
     "start_time": "2021-12-23T14:39:13.037757Z"
    }
   },
   "outputs": [],
   "source": [
    "X = df[features]\n",
    "y = df['delayed_all']\n",
    "\n",
    "X_train, X_test, y_train, y_test = train_test_split(X, y, random_state=42)"
   ]
  },
  {
   "cell_type": "code",
   "execution_count": 8,
   "metadata": {
    "ExecuteTime": {
     "end_time": "2021-12-23T14:39:50.404156Z",
     "start_time": "2021-12-23T14:39:13.083454Z"
    },
    "scrolled": false
   },
   "outputs": [
    {
     "name": "stdout",
     "output_type": "stream",
     "text": [
      "0.6023485722888543\n"
     ]
    },
    {
     "data": {
      "image/png": "[encoded data removed]",
      "text/plain": [
       "<Figure size 1080x1080 with 2 Axes>"
      ]
     },
     "metadata": {
      "needs_background": "light"
     },
     "output_type": "display_data"
    }
   ],
   "source": [
    "# test\n",
    "knn = KNeighborsClassifier()\n",
    "model = knn.fit(X_train,y_train)\n",
    "y_pred = model.predict(X_test)\n",
    "print(accuracy_score(y_test, y_pred))\n",
    "fig, ax = plt.subplots(figsize=(15,15))\n",
    "plt.rcParams.update({'font.size':16})\n",
    "plot_confusion_matrix(model,X_test,y_test,normalize='true',ax=ax)\n",
    "plt.show()"
   ]
  },
  {
   "cell_type": "code",
   "execution_count": 9,
   "metadata": {
    "ExecuteTime": {
     "end_time": "2021-12-23T15:17:51.812045Z",
     "start_time": "2021-12-23T14:39:50.405157Z"
    },
    "scrolled": false
   },
   "outputs": [
    {
     "name": "stdout",
     "output_type": "stream",
     "text": [
      "Pipeline(steps=[('knn',\n",
      "                 KNeighborsClassifier(algorithm='ball_tree', metric='manhattan',\n",
      "                                      weights='distance'))])\n"
     ]
    },
    {
     "data": {
      "image/png": "[encoded data removed]",
      "text/plain": [
       "<Figure size 1080x1080 with 2 Axes>"
      ]
     },
     "metadata": {
      "needs_background": "light"
     },
     "output_type": "display_data"
    }
   ],
   "source": [
    "knn_params = {'knn__n_neighbors':[3,5,7],\n",
    "             'knn__weights':['uniform','distance'],\n",
    "             'knn__algorithm':['auto','ball_tree','kd_tree','brute'],\n",
    "             'knn__metric':['minkowski','euclidean','manhattan']}\n",
    "pipe_knn = Pipeline(steps=[('knn',KNeighborsClassifier())])\n",
    "\n",
    "gsv_knn = GridSearchCV(pipe_knn,knn_params,scoring='homogeneity_score')\n",
    "\n",
    "gsv_knn.fit(X_train,y_train)\n",
    "\n",
    "y_pred = gsv_knn.best_estimator_.predict(X_test)\n",
    "\n",
    "print(gsv_knn.best_estimator_)\n",
    "\n",
    "fig, ax = plt.subplots(figsize=(15,15))\n",
    "plt.rcParams.update({'font.size':16})\n",
    "plot_confusion_matrix(gsv_knn,X_test,y_test,normalize='true',ax=ax)\n",
    "ax.set_xlabel('Predicted Delays')\n",
    "ax.set_ylabel('Actual Delays')\n",
    "ax.set_title('Predicting Delays')\n",
    "plt.show()"
   ]
  },
  {
   "cell_type": "code",
   "execution_count": 10,
   "metadata": {
    "ExecuteTime": {
     "end_time": "2021-12-23T15:17:51.935748Z",
     "start_time": "2021-12-23T15:17:51.813064Z"
    }
   },
   "outputs": [
    {
     "name": "stdout",
     "output_type": "stream",
     "text": [
      "\n",
      "Overall Accuracy: 61.1%,\n",
      "F1 Score: 61.1%\n",
      "\n"
     ]
    }
   ],
   "source": [
    "print(f\"\"\"\n",
    "Overall Accuracy: {(round(accuracy_score(y_test, y_pred), 4)*100)}%,\n",
    "F1 Score: {(round(f1_score(y_test,y_pred,average='micro'),4)*100)}%\n",
    "\"\"\")"
   ]
  },
  {
   "cell_type": "markdown",
   "metadata": {},
   "source": [
    "## KMeans Clustering"
   ]
  },
  {
   "cell_type": "code",
   "execution_count": 11,
   "metadata": {
    "ExecuteTime": {
     "end_time": "2021-12-23T15:17:51.983068Z",
     "start_time": "2021-12-23T15:17:51.936749Z"
    }
   },
   "outputs": [],
   "source": [
    "X = df[features]\n",
    "y = df['delayed_all']\n",
    "\n",
    "X_train, X_test, y_train, y_test = train_test_split(X, y, random_state=42)"
   ]
  },
  {
   "cell_type": "code",
   "execution_count": 12,
   "metadata": {
    "ExecuteTime": {
     "end_time": "2021-12-23T15:17:57.575150Z",
     "start_time": "2021-12-23T15:17:51.984069Z"
    }
   },
   "outputs": [
    {
     "name": "stdout",
     "output_type": "stream",
     "text": [
      "Pipeline(steps=[('km', KMeans(algorithm='elkan', n_clusters=3))])\n"
     ]
    }
   ],
   "source": [
    "kmeans_params = {'km__n_clusters':[3],\n",
    "                 'km__algorithm':['auto','full','elkan']}\n",
    "pipe_km = Pipeline(steps=[('km',KMeans())])\n",
    "\n",
    "gsv_km = GridSearchCV(pipe_km,kmeans_params,scoring='homogeneity_score')\n",
    "\n",
    "gsv_km.fit(X_train, y_train)\n",
    "\n",
    "y_pred = gsv_km.best_estimator_.predict(X_test)\n",
    "\n",
    "print(gsv_km.best_estimator_)"
   ]
  },
  {
   "cell_type": "code",
   "execution_count": 17,
   "metadata": {
    "ExecuteTime": {
     "end_time": "2021-12-23T16:30:22.985384Z",
     "start_time": "2021-12-23T16:30:22.973019Z"
    }
   },
   "outputs": [
    {
     "data": {
      "text/plain": [
       "GridSearchCV(estimator=Pipeline(steps=[('km', KMeans())]),\n",
       "             param_grid={'km__algorithm': ['auto', 'full', 'elkan'],\n",
       "                         'km__n_clusters': [3]},\n",
       "             scoring='homogeneity_score')"
      ]
     },
     "execution_count": 17,
     "metadata": {},
     "output_type": "execute_result"
    }
   ],
   "source": [
    "gsv_km"
   ]
  },
  {
   "cell_type": "markdown",
   "metadata": {},
   "source": [
    "## Div A Trains"
   ]
  },
  {
   "cell_type": "code",
   "execution_count": 15,
   "metadata": {
    "ExecuteTime": {
     "end_time": "2021-12-23T15:18:07.216807Z",
     "start_time": "2021-12-23T15:17:57.688176Z"
    }
   },
   "outputs": [],
   "source": [
    "X = df[features]\n",
    "y = df['delayed_div_a']\n",
    "\n",
    "X_train, X_test, y_train, y_test = train_test_split(X, y, random_state=42)\n",
    "X_train_resampled, y_train_resampled = SMOTE().fit_resample(X_train, y_train)"
   ]
  },
  {
   "cell_type": "code",
   "execution_count": 16,
   "metadata": {
    "ExecuteTime": {
     "end_time": "2021-12-23T15:18:09.767952Z",
     "start_time": "2021-12-23T15:18:07.217808Z"
    }
   },
   "outputs": [
    {
     "data": {
      "image/png": "[encoded data removed]",
      "text/plain": [
       "<Figure size 1080x1080 with 2 Axes>"
      ]
     },
     "metadata": {
      "needs_background": "light"
     },
     "output_type": "display_data"
    },
    {
     "name": "stdout",
     "output_type": "stream",
     "text": [
      "Pipeline(steps=[('bnb', BernoulliNB(alpha=1))])\n",
      "\n",
      "Overall Accuracy: 68.92%,\n",
      "F1 Score: 63.28%\n",
      "\n",
      "Overall SMOTE Accuracy: 67.36%,\n",
      "SMOTE F1 Score: 64.85%\n"
     ]
    }
   ],
   "source": [
    "bnb_params = {'bnb__alpha':[1,.9,.5,.2,0]}\n",
    "pipe_bnb = Pipeline(steps=[('bnb',BernoulliNB())])\n",
    "\n",
    "gsv_bnb = GridSearchCV(pipe_bnb, bnb_params,scoring='f1')\n",
    "gsv_bnb_sm = GridSearchCV(pipe_bnb, bnb_params,scoring='f1')\n",
    "\n",
    "gsv_bnb.fit(X_train, y_train)\n",
    "gsv_bnb_sm.fit(X_train_resampled, y_train_resampled)\n",
    "\n",
    "y_pred = gsv_bnb.best_estimator_.predict(X_test)\n",
    "y_pred_sm = gsv_bnb_sm.best_estimator_.predict(X_test)\n",
    "\n",
    "fig, ax = plt.subplots(figsize=(15, 15))\n",
    "plt.rcParams.update({'font.size': 16})\n",
    "plot_confusion_matrix(gsv_bnb_sm, X_test, y_test, normalize='true', ax=ax, display_labels=['No Delay','Delay'])\n",
    "ax.set_xlabel('Predicted Delays')\n",
    "ax.set_ylabel('Actual Delays')\n",
    "ax.set_title('Predicting IRT Delays')\n",
    "plt.show()\n",
    "\n",
    "# checking the best estimators from gsv\n",
    "print(gsv_bnb_sm.best_estimator_)\n",
    "\n",
    "print(f\"\"\"\n",
    "Overall Accuracy: {(round(accuracy_score(y_test, y_pred), 4)*100)}%,\n",
    "F1 Score: {(round(f1_score(y_test,y_pred),4)*100)}%\n",
    "\n",
    "Overall SMOTE Accuracy: {(round(accuracy_score(y_test, y_pred_sm), 4)*100)}%,\n",
    "SMOTE F1 Score: {(round(f1_score(y_test,y_pred_sm),4)*100)}%\"\"\")"
   ]
  },
  {
   "cell_type": "code",
   "execution_count": null,
   "metadata": {},
   "outputs": [],
   "source": []
  }
 ],
 "metadata": {
  "kernelspec": {
   "display_name": "Python (mta_env)",
   "language": "python",
   "name": "mta_env"
  },
  "language_info": {
   "codemirror_mode": {
    "name": "ipython",
    "version": 3
   },
   "file_extension": ".py",
   "mimetype": "text/x-python",
   "name": "python",
   "nbconvert_exporter": "python",
   "pygments_lexer": "ipython3",
   "version": "3.9.7"
  },
  "toc": {
   "base_numbering": 1,
   "nav_menu": {},
   "number_sections": true,
   "sideBar": true,
   "skip_h1_title": false,
   "title_cell": "Table of Contents",
   "title_sidebar": "Contents",
   "toc_cell": false,
   "toc_position": {},
   "toc_section_display": true,
   "toc_window_display": false
  }
 },
 "nbformat": 4,
 "nbformat_minor": 4
}
