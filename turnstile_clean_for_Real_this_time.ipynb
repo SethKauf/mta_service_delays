{
 "cells": [
  {
   "cell_type": "code",
   "execution_count": 1,
   "metadata": {
    "ExecuteTime": {
     "end_time": "2021-10-23T19:47:40.997538Z",
     "start_time": "2021-10-23T19:47:40.696851Z"
    }
   },
   "outputs": [],
   "source": [
    "import pandas as pd\n",
    "import pickle as pkl\n",
    "pd.set_option('display.max_columns',None)\n",
    "pd.set_option('display.max_rows',500)\n",
    "import warnings"
   ]
  },
  {
   "cell_type": "markdown",
   "metadata": {
    "ExecuteTime": {
     "end_time": "2021-10-23T16:36:55.582645Z",
     "start_time": "2021-10-23T16:36:45.342479Z"
    }
   },
   "source": [
    "with open('data/turnstile_irt.pkl','rb') as f:\n",
    "    df = pkl.load(f)\n",
    "    \n",
    "df['station'] = df['station'].str.lower()"
   ]
  },
  {
   "cell_type": "markdown",
   "metadata": {
    "ExecuteTime": {
     "end_time": "2021-10-23T16:37:03.845369Z",
     "start_time": "2021-10-23T16:36:55.583645Z"
    },
    "scrolled": false
   },
   "source": [
    "# times sq\n",
    "indices = df.loc[(df['station']=='42 st-port auth')|(df['station']== '42 st-pa bus te')|\n",
    "                 (df['station']=='42 st-times sq')|(df['station']=='times sq-42 st')].index\n",
    "\n",
    "df.loc[indices,'station'] = 'times sq-42 st (1/2/3/7/A/C/E/N/Q/R/S)'"
   ]
  },
  {
   "cell_type": "markdown",
   "metadata": {
    "ExecuteTime": {
     "end_time": "2021-10-23T16:37:06.171137Z",
     "start_time": "2021-10-23T16:37:03.846370Z"
    }
   },
   "source": [
    "# fulton st\n",
    "\n",
    "indices = df.loc[(df['station']=='fulton st')].index\n",
    "df.loc[indices, 'station'] = 'fulton st (2/3/4/5/A/C/J/Z)'"
   ]
  },
  {
   "cell_type": "markdown",
   "metadata": {
    "ExecuteTime": {
     "end_time": "2021-10-23T16:37:09.522228Z",
     "start_time": "2021-10-23T16:37:06.172139Z"
    }
   },
   "source": [
    "# grand ctrl 42 st\n",
    "\n",
    "indices = df.loc[(df['station']=='grd cntrl-42 st')|(df['station']=='42 st-grd cntrl')].index\n",
    "df.loc[indices, 'station'] = 'grand ctl-42 st (4/5/6/7)'"
   ]
  },
  {
   "cell_type": "markdown",
   "metadata": {
    "ExecuteTime": {
     "end_time": "2021-10-23T16:37:13.951705Z",
     "start_time": "2021-10-23T16:37:09.523239Z"
    }
   },
   "source": [
    "# 42 st bryant pk - 5 av\n",
    "\n",
    "indices = df.loc[(df['station']=='42 st-bryant pk')|(df['station']=='5 ave')|(df['station']=='5 ave-bryant pk')].index\n",
    "df.loc[indices,'station'] = '42 st bryant pk-5 av (B/D/F/M/7)'"
   ]
  },
  {
   "cell_type": "markdown",
   "metadata": {
    "ExecuteTime": {
     "end_time": "2021-10-23T16:37:17.254153Z",
     "start_time": "2021-10-23T16:37:13.952706Z"
    },
    "scrolled": true
   },
   "source": [
    "# atlantic av - barclays ctr\n",
    "\n",
    "indices = df.loc[(df['station']=='atl av-barclay')|(df['station']=='barclays center')].index\n",
    "df.loc[indices,'station'] = 'atlantic av-barclays ctr (2/3/4/5/B/D/N/Q/R)'"
   ]
  },
  {
   "cell_type": "markdown",
   "metadata": {
    "ExecuteTime": {
     "end_time": "2021-10-23T16:37:20.454007Z",
     "start_time": "2021-10-23T16:37:17.256154Z"
    }
   },
   "source": [
    "# 33 st-rawson st\n",
    "\n",
    "ind = df.loc[(df['station']=='33 st-rawson st')|(df['station']=='33 st/rawson st')].index\n",
    "df.loc[ind,'station'] = '33 st-rawson st (7)'"
   ]
  },
  {
   "cell_type": "markdown",
   "metadata": {
    "ExecuteTime": {
     "end_time": "2021-10-23T16:37:28.942372Z",
     "start_time": "2021-10-23T16:37:20.455539Z"
    }
   },
   "source": [
    "# the 110 streets\n",
    "\n",
    "ind_1 = df.loc[(df['station']=='110 st-cathedrl')|(df['station']=='cathedral pkwy')].index\n",
    "df.loc[ind_1,'station'] = 'cathedral pkwy-110 st (1)'\n",
    "\n",
    "ind_23 = df.loc[(df['station']=='110 st-cpn')|(df['station']=='central pk n110')].index\n",
    "df.loc[ind_23,'station'] = 'ctl park n-110 st (2/3)'\n",
    "\n",
    "ind_6 = df.loc[df['station']=='110 st'].index\n",
    "df.loc[ind_6,'station'] = '110 st (6)'"
   ]
  },
  {
   "cell_type": "markdown",
   "metadata": {
    "ExecuteTime": {
     "end_time": "2021-10-23T16:37:37.275878Z",
     "start_time": "2021-10-23T16:37:28.943363Z"
    }
   },
   "source": [
    "# the 116 streets\n",
    "\n",
    "ind_1 = df.loc[df['station']=='116 st-columbia'].index\n",
    "df.loc[ind_1,'station']='116 st-columbia (1)'\n",
    "\n",
    "ind_23 = df.loc[(df['station']=='116 st')&(df['lines']=='23')].index\n",
    "df.loc[ind_23,'station']='116 st (2/3)'\n",
    "\n",
    "ind_6 = df.loc[(df['station']=='116 st')&(df['lines']=='6')].index\n",
    "df.loc[ind_6,'station']='116 st (6)'"
   ]
  },
  {
   "cell_type": "markdown",
   "metadata": {
    "ExecuteTime": {
     "end_time": "2021-10-23T16:37:40.466544Z",
     "start_time": "2021-10-23T16:37:37.276899Z"
    }
   },
   "source": [
    "# 137 st\n",
    "\n",
    "ind = df.loc[(df['station']=='137 st city col')|(df['station']=='137 st-city col')].index\n",
    "df.loc[ind,'station']='137 st-city clg (1)'"
   ]
  },
  {
   "cell_type": "markdown",
   "metadata": {
    "ExecuteTime": {
     "end_time": "2021-10-23T16:37:48.791673Z",
     "start_time": "2021-10-23T16:37:40.467545Z"
    }
   },
   "source": [
    "# 103 st\n",
    "\n",
    "ind_1 = df.loc[(df['station']=='103 st')&(df['lines']=='1')].index\n",
    "df.loc[ind_1,'station']='103 st (1)'\n",
    "\n",
    "ind_6 = df.loc[(df['station']=='103 st')&(df['lines']=='6')].index\n",
    "df.loc[ind_6,'station']='103 st (1)'\n",
    "\n",
    "ind_7 = df.loc[df['station']=='103 st-corona'].index\n",
    "df.loc[ind_7,'station']='103 st-corona plza (7)'"
   ]
  },
  {
   "cell_type": "markdown",
   "metadata": {
    "ExecuteTime": {
     "end_time": "2021-10-23T16:37:50.830752Z",
     "start_time": "2021-10-23T16:37:48.792673Z"
    }
   },
   "source": [
    "# 111 st\n",
    "\n",
    "ind = df.loc[df['station']=='111 st'].index\n",
    "df.loc[ind,'station']='111 st (7)'"
   ]
  },
  {
   "cell_type": "markdown",
   "metadata": {
    "ExecuteTime": {
     "end_time": "2021-10-23T16:37:54.028846Z",
     "start_time": "2021-10-23T16:37:50.831753Z"
    }
   },
   "source": [
    "# 161 st yankee stdm\n",
    "\n",
    "ind = df.loc[(df['station']=='161 st-yankee')|(df['station']=='161/yankee stad')].index\n",
    "df.loc[ind,'station']='161 st-yankee stdm (4/B/D)'"
   ]
  },
  {
   "cell_type": "markdown",
   "metadata": {
    "ExecuteTime": {
     "end_time": "2021-10-23T16:37:56.108111Z",
     "start_time": "2021-10-23T16:37:54.029847Z"
    }
   },
   "source": [
    "# 125 st\n",
    "\n",
    "ind = df.loc[df['station']=='125 st'].index\n",
    "df.loc[ind,'station']='125 st (4/5/6)'"
   ]
  },
  {
   "cell_type": "markdown",
   "metadata": {
    "ExecuteTime": {
     "end_time": "2021-10-23T16:38:03.548049Z",
     "start_time": "2021-10-23T16:37:56.109646Z"
    }
   },
   "source": [
    "# 138 st\n",
    "\n",
    "ind = df.loc[(df['station']=='138/grand conc')|(df['station']=='138 st-gr conc')].index\n",
    "df.loc[ind,'station'] = '138 st-grand concourse (4/5)'\n",
    "\n",
    "ind_6 = df.loc[(df['station']=='138 st')|(df['station']=='138 st-3 ave')|(df['station']=='3 av 138 st')].index\n",
    "df.loc[ind_6,'station'] = '3 av-138 st (6)'"
   ]
  },
  {
   "cell_type": "markdown",
   "metadata": {
    "ExecuteTime": {
     "end_time": "2021-10-23T16:38:11.058750Z",
     "start_time": "2021-10-23T16:38:03.549051Z"
    }
   },
   "source": [
    "# 14 st\n",
    "\n",
    "ind_123 = df.loc[(df['station']=='14 st')|(df['station']=='14 st-6 ave')|\n",
    "                 (df['station']=='6 av')|(df['station']=='6 ave')].index\n",
    "df.loc[ind_123, 'station'] = '14 st-7 av (1/2/3/F/L/M)'\n",
    "\n",
    "ind_456 = df.loc[(df['station']=='14 st-union sq')].index\n",
    "df.loc[ind_456,'station'] = '14 st-union sq (4/5/6/L/N/Q/R/W)'"
   ]
  },
  {
   "cell_type": "markdown",
   "metadata": {
    "ExecuteTime": {
     "end_time": "2021-10-23T16:38:13.029117Z",
     "start_time": "2021-10-23T16:38:11.059750Z"
    }
   },
   "source": [
    "# 135 st\n",
    "\n",
    "ind = df.loc[df['station']=='135 st'].index\n",
    "df.loc[ind,'station'] = '135 st (2/3)'"
   ]
  },
  {
   "cell_type": "markdown",
   "metadata": {
    "ExecuteTime": {
     "end_time": "2021-10-23T16:38:19.246200Z",
     "start_time": "2021-10-23T16:38:13.030117Z"
    }
   },
   "source": [
    "# 145 st\n",
    "\n",
    "ind_1 = df.loc[(df['station']=='145 st')&(df['lines']=='1')].index\n",
    "df.loc[ind_1,'station'] = '145 st (1)'\n",
    "\n",
    "ind_3 = df.loc[(df['station']=='145 st')&(df['lines']=='3')].index\n",
    "df.loc[ind_3,'station'] = '145 st (3)'"
   ]
  },
  {
   "cell_type": "markdown",
   "metadata": {
    "ExecuteTime": {
     "end_time": "2021-10-23T16:38:22.352793Z",
     "start_time": "2021-10-23T16:38:19.247201Z"
    }
   },
   "source": [
    "# 148 st harlem\n",
    "\n",
    "ind = df.loc[(df['station']=='148 st-lenox')|(df['station']=='harlem 148 st')].index\n",
    "df.loc[ind,'station'] = 'harlem-148 st (3)'"
   ]
  },
  {
   "cell_type": "markdown",
   "metadata": {
    "ExecuteTime": {
     "end_time": "2021-10-23T16:38:30.540068Z",
     "start_time": "2021-10-23T16:38:22.353794Z"
    }
   },
   "source": [
    "# 149 st\n",
    "\n",
    "ind_245 = df.loc[(df['station']=='149 st-gr conc')|(df['station']=='149/grand conc')].index\n",
    "df.loc[ind_245,'station'] = '149 st-grand concourse (2/4/5)'\n",
    "\n",
    "ind_25 = df.loc[(df['station']=='3 av-149 st')|(df['station']=='149 st-3 ave')].index\n",
    "df.loc[ind_25,'station'] = '3 av-149 st'\n",
    "\n",
    "ind_6 = df.loc[df['station']=='e 149 st'].index\n",
    "df.loc[ind_6,'station'] =  'e 149 st (6)'"
   ]
  },
  {
   "cell_type": "markdown",
   "metadata": {
    "ExecuteTime": {
     "end_time": "2021-10-23T16:38:32.493309Z",
     "start_time": "2021-10-23T16:38:30.541068Z"
    }
   },
   "source": [
    "# 157 st\n",
    "\n",
    "ind = df.loc[(df['station']=='157 st')].index\n",
    "df.loc[ind, 'station'] = '157 st (1)'"
   ]
  },
  {
   "cell_type": "markdown",
   "metadata": {
    "ExecuteTime": {
     "end_time": "2021-10-23T16:38:34.424883Z",
     "start_time": "2021-10-23T16:38:32.495877Z"
    }
   },
   "source": [
    "# 167 st\n",
    "\n",
    "ind = df.loc[df['station']=='167 st'].index\n",
    "df.loc[ind,'station'] = '167 st (4)'"
   ]
  },
  {
   "cell_type": "markdown",
   "metadata": {
    "ExecuteTime": {
     "end_time": "2021-10-23T16:38:37.538353Z",
     "start_time": "2021-10-23T16:38:34.425883Z"
    }
   },
   "source": [
    "# 168 st\n",
    "\n",
    "ind = df.loc[(df['station']=='168 st')|(df['station']=='168 st-broadway')].index\n",
    "df.loc[ind,'station'] = '168 st-broadway (1/A/C)'"
   ]
  },
  {
   "cell_type": "markdown",
   "metadata": {
    "ExecuteTime": {
     "end_time": "2021-10-23T16:38:40.643451Z",
     "start_time": "2021-10-23T16:38:37.539354Z"
    }
   },
   "source": [
    "# bleeker st - broadway/lafayette\n",
    "\n",
    "ind = df.loc[(df['station']=='broadway/lafay')|(df['station']=='bleecker st')].index\n",
    "df.loc[ind,'station']='broadway-lafayette/bleecker st (6/B/D/F/Q)'"
   ]
  },
  {
   "cell_type": "markdown",
   "metadata": {
    "ExecuteTime": {
     "end_time": "2021-10-23T16:38:42.563015Z",
     "start_time": "2021-10-23T16:38:40.644450Z"
    }
   },
   "source": [
    "# 170 st\n",
    "\n",
    "ind = df.loc[(df['station'] == '170 st')].index\n",
    "df.loc[ind, 'station'] = '170 st (4)'"
   ]
  },
  {
   "cell_type": "markdown",
   "metadata": {
    "ExecuteTime": {
     "end_time": "2021-10-23T16:38:44.496777Z",
     "start_time": "2021-10-23T16:38:42.564014Z"
    }
   },
   "source": [
    "# 174 st\n",
    "\n",
    "ind = df.loc[(df['station'] == '174 st')].index\n",
    "df.loc[ind, 'station'] = '174 st (2/5)'"
   ]
  },
  {
   "cell_type": "markdown",
   "metadata": {
    "ExecuteTime": {
     "end_time": "2021-10-23T16:38:46.426524Z",
     "start_time": "2021-10-23T16:38:44.497800Z"
    }
   },
   "source": [
    "# 176 st\n",
    "\n",
    "ind = df.loc[df['station']=='176 st'].index\n",
    "df.loc[ind,'station']='176 st (6)'"
   ]
  },
  {
   "cell_type": "markdown",
   "metadata": {
    "ExecuteTime": {
     "end_time": "2021-10-23T16:38:48.367480Z",
     "start_time": "2021-10-23T16:38:46.427525Z"
    }
   },
   "source": [
    "# 18 st\n",
    "\n",
    "ind = df.loc[df['station']=='18 st'].index\n",
    "df.loc[ind,'station']='18 st (1)'"
   ]
  },
  {
   "cell_type": "markdown",
   "metadata": {
    "ExecuteTime": {
     "end_time": "2021-10-23T16:38:50.280759Z",
     "start_time": "2021-10-23T16:38:48.368481Z"
    }
   },
   "source": [
    "# 181 st\n",
    "\n",
    "ind = df.loc[df['station']=='181 st'].index\n",
    "df.loc[ind,'station']='181 st (1)'"
   ]
  },
  {
   "cell_type": "markdown",
   "metadata": {
    "ExecuteTime": {
     "end_time": "2021-10-23T16:38:52.219330Z",
     "start_time": "2021-10-23T16:38:50.281780Z"
    }
   },
   "source": [
    "# 183 st\n",
    "\n",
    "ind = df.loc[df['station']=='183 st'].index\n",
    "df.loc[ind, 'station']='183 st (4)'"
   ]
  },
  {
   "cell_type": "markdown",
   "metadata": {
    "ExecuteTime": {
     "end_time": "2021-10-23T16:38:54.139030Z",
     "start_time": "2021-10-23T16:38:52.220331Z"
    }
   },
   "source": [
    "# 191 st\n",
    "\n",
    "ind = df.loc[df['station']=='191 st'].index\n",
    "df.loc[ind, 'station']='191 st (1)'"
   ]
  },
  {
   "cell_type": "markdown",
   "metadata": {
    "ExecuteTime": {
     "end_time": "2021-10-23T16:38:56.077684Z",
     "start_time": "2021-10-23T16:38:54.140031Z"
    }
   },
   "source": [
    "# 207 st\n",
    "\n",
    "ind = df.loc[df['station']=='207 st'].index\n",
    "df.loc[ind, 'station'] = '207 st (1)'"
   ]
  },
  {
   "cell_type": "markdown",
   "metadata": {
    "ExecuteTime": {
     "end_time": "2021-10-23T16:38:58.010699Z",
     "start_time": "2021-10-23T16:38:56.079217Z"
    }
   },
   "source": [
    "# 215 st\n",
    "\n",
    "ind = df.loc[df['station']=='215 st'].index\n",
    "df.loc[ind, 'station'] = '215 st (1)'"
   ]
  },
  {
   "cell_type": "markdown",
   "metadata": {
    "ExecuteTime": {
     "end_time": "2021-10-23T16:38:59.941866Z",
     "start_time": "2021-10-23T16:38:58.011699Z"
    }
   },
   "source": [
    "# 219 st\n",
    "\n",
    "ind = df.loc[df['station'] == '219 st'].index\n",
    "df.loc[ind,'station']='219 st (2/5)'"
   ]
  },
  {
   "cell_type": "markdown",
   "metadata": {
    "ExecuteTime": {
     "end_time": "2021-10-23T16:39:01.856998Z",
     "start_time": "2021-10-23T16:38:59.942866Z"
    }
   },
   "source": [
    "# 225 st\n",
    "\n",
    "ind = df.loc[df['station']=='225 st'].index\n",
    "df.loc[ind,'station']='225 st (2/5)'"
   ]
  },
  {
   "cell_type": "markdown",
   "metadata": {
    "ExecuteTime": {
     "end_time": "2021-10-23T16:39:08.013929Z",
     "start_time": "2021-10-23T16:39:01.858022Z"
    }
   },
   "source": [
    "# 23 st\n",
    "\n",
    "ind_1 = df.loc[(df['station'] == '23 st')&(df['lines']=='1')].index\n",
    "df.loc[ind_1,'station'] = '23 st (1)'\n",
    "\n",
    "ind_6 = df.loc[(df['station'] == '23 st')&(df['lines']=='6')].index\n",
    "df.loc[ind_6,'station'] = '23 st (6)'"
   ]
  },
  {
   "cell_type": "markdown",
   "metadata": {
    "ExecuteTime": {
     "end_time": "2021-10-23T16:39:09.918938Z",
     "start_time": "2021-10-23T16:39:08.014929Z"
    }
   },
   "source": [
    "# 231 st\n",
    "\n",
    "ind = df.loc[df['station']=='231 st'].index\n",
    "df.loc[ind,'station'] = '231 st (1)'"
   ]
  },
  {
   "cell_type": "markdown",
   "metadata": {
    "ExecuteTime": {
     "end_time": "2021-10-23T16:39:11.805498Z",
     "start_time": "2021-10-23T16:39:09.919948Z"
    }
   },
   "source": [
    "# 233 st\n",
    "\n",
    "ind = df.loc[df['station']=='233 st'].index\n",
    "df.loc[ind, 'station'] = '233 st (2/5)'"
   ]
  },
  {
   "cell_type": "markdown",
   "metadata": {
    "ExecuteTime": {
     "end_time": "2021-10-23T16:39:13.699659Z",
     "start_time": "2021-10-23T16:39:11.806498Z"
    }
   },
   "source": [
    "# 238 st\n",
    "\n",
    "ind = df.loc[df['station']=='238 st'].index\n",
    "df.loc[ind, 'station'] = '238 st (1)'"
   ]
  },
  {
   "cell_type": "markdown",
   "metadata": {
    "ExecuteTime": {
     "end_time": "2021-10-23T16:39:16.721518Z",
     "start_time": "2021-10-23T16:39:13.700684Z"
    }
   },
   "source": [
    "# 242 st\n",
    "\n",
    "ind = df.loc[(df['station']=='242 st')|(df['station']=='v.cortlandt pk')].index\n",
    "df.loc[ind,'station'] = 'van cortlandt park-242 st (1)'"
   ]
  },
  {
   "cell_type": "markdown",
   "metadata": {
    "ExecuteTime": {
     "end_time": "2021-10-23T16:39:22.746538Z",
     "start_time": "2021-10-23T16:39:16.722545Z"
    }
   },
   "source": [
    "# 28 st\n",
    "\n",
    "ind_1 = df.loc[(df['station'] == '28 st')&(df['lines']=='1')].index\n",
    "df.loc[ind_1,'station'] = '28 st (1)'\n",
    "\n",
    "ind_6 = df.loc[(df['station'] == '28 st')&(df['lines']=='6')].index\n",
    "df.loc[ind_6,'station'] = '28 st (6)'"
   ]
  },
  {
   "cell_type": "markdown",
   "metadata": {
    "ExecuteTime": {
     "end_time": "2021-10-23T16:39:24.665346Z",
     "start_time": "2021-10-23T16:39:22.747538Z"
    }
   },
   "source": [
    "# 33 st\n",
    "\n",
    "ind = df.loc[df['station']=='33 st'].index\n",
    "df.loc[ind,'station'] = '33 st (6)'"
   ]
  },
  {
   "cell_type": "markdown",
   "metadata": {
    "ExecuteTime": {
     "end_time": "2021-10-23T16:39:28.521373Z",
     "start_time": "2021-10-23T16:39:24.666346Z"
    }
   },
   "source": [
    "# 34 streets\n",
    "\n",
    "ind_1 = df.loc[df['station']=='34 st-penn sta'].index\n",
    "df.loc[ind_1,'station'] = '34 st-penn sta (1/2/3/A/C/E)'\n",
    "\n",
    "ind_7 = df.loc[df['station']=='34 st-hudson yd'].index\n",
    "df.loc[ind_7,'station'] = '34 st-hudson yd (7)'"
   ]
  },
  {
   "cell_type": "markdown",
   "metadata": {
    "ExecuteTime": {
     "end_time": "2021-10-23T16:39:31.508369Z",
     "start_time": "2021-10-23T16:39:28.522374Z"
    }
   },
   "source": [
    "# 40 st\n",
    "\n",
    "ind = df.loc[(df['station']=='40 st lowery st')|(df['station']=='40 st-lowery st')].index\n",
    "df.loc[ind,'station'] = '40 st-lowery st (7)'"
   ]
  },
  {
   "cell_type": "markdown",
   "metadata": {
    "ExecuteTime": {
     "end_time": "2021-10-23T16:39:34.531042Z",
     "start_time": "2021-10-23T16:39:31.509369Z"
    }
   },
   "source": [
    "# 46 st\n",
    "\n",
    "ind = df.loc[(df['station']=='46 st bliss st')|(df['station']=='46 st-bliss st')].index\n",
    "df.loc[ind, 'station'] = '46 st-bliss st (7)'"
   ]
  },
  {
   "cell_type": "markdown",
   "metadata": {
    "ExecuteTime": {
     "end_time": "2021-10-23T16:39:36.397292Z",
     "start_time": "2021-10-23T16:39:34.532049Z"
    }
   },
   "source": [
    "# 50 st\n",
    "\n",
    "ind = df.loc[df['station']=='50 st'].index\n",
    "df.loc[ind, 'station'] = '50 st (1)'"
   ]
  },
  {
   "cell_type": "markdown",
   "metadata": {
    "ExecuteTime": {
     "end_time": "2021-10-23T16:39:38.274456Z",
     "start_time": "2021-10-23T16:39:36.398292Z"
    }
   },
   "source": [
    "# 51 st\n",
    "\n",
    "ind = df.loc[df['station']=='51 st'].index\n",
    "df.loc[ind, 'station'] = '51 st (6)'"
   ]
  },
  {
   "cell_type": "markdown",
   "metadata": {
    "ExecuteTime": {
     "end_time": "2021-10-23T16:39:41.252541Z",
     "start_time": "2021-10-23T16:39:38.275456Z"
    }
   },
   "source": [
    "# 52 st\n",
    "\n",
    "ind = df.loc[(df['station']=='52 st')|(df['station']=='52 st-lincoln')].index\n",
    "df.loc[ind, 'station'] = '52 st-lincoln (7)'"
   ]
  },
  {
   "cell_type": "markdown",
   "metadata": {
    "ExecuteTime": {
     "end_time": "2021-10-23T16:39:46.234767Z",
     "start_time": "2021-10-23T16:39:41.253578Z"
    }
   },
   "source": [
    "# 59 streets\n",
    "\n",
    "ind_456 = df.loc[df['station']=='59 st'].index\n",
    "df.loc[ind_456,'station'] = '59 st (4/5/6/N/Q/R/W)'\n",
    "\n",
    "ind_1 = df.loc[(df['station']=='59 st columbus')|(df['station']=='59 st-columbus')].index\n",
    "df.loc[ind_1,'station'] = '59 st-columbus cr (1/A/B/C/D)'"
   ]
  },
  {
   "cell_type": "markdown",
   "metadata": {
    "ExecuteTime": {
     "end_time": "2021-10-23T16:39:49.172242Z",
     "start_time": "2021-10-23T16:39:46.235768Z"
    }
   },
   "source": [
    "# 61 st woodside\n",
    "\n",
    "ind = df.loc[(df['station']=='61 st woodside')|(df['station']=='61 st/woodside')].index\n",
    "df.loc[ind,'station'] = '61 st-woodside (7)'"
   ]
  },
  {
   "cell_type": "markdown",
   "metadata": {
    "ExecuteTime": {
     "end_time": "2021-10-23T17:19:25.179421Z",
     "start_time": "2021-10-23T17:19:20.693462Z"
    }
   },
   "source": [
    "# 66 st\n",
    "\n",
    "ind = df.loc[df['station']=='66 st-lincoln'].index\n",
    "df.loc[ind,'station']='66 st-lincoln ctr (1)'"
   ]
  },
  {
   "cell_type": "markdown",
   "metadata": {
    "ExecuteTime": {
     "end_time": "2021-10-23T17:19:28.130098Z",
     "start_time": "2021-10-23T17:19:25.180421Z"
    }
   },
   "source": [
    "# 68 st\n",
    "\n",
    "ind = df.loc[(df['station']=='68st-hunter col')|(df['station']=='68st-hunter co')].index\n",
    "df.loc[ind, 'station'] = '68 st-hunter clg (6)'"
   ]
  },
  {
   "cell_type": "markdown",
   "metadata": {
    "ExecuteTime": {
     "end_time": "2021-10-23T17:19:30.986627Z",
     "start_time": "2021-10-23T17:19:28.131098Z"
    }
   },
   "source": [
    "# 69 st\n",
    "\n",
    "ind = df.loc[(df['station']=='69 st')|(df['station']=='69 st-fisk ave')].index\n",
    "df.loc[ind, 'station'] = '69 st-fisk av (7)'"
   ]
  },
  {
   "cell_type": "markdown",
   "metadata": {
    "ExecuteTime": {
     "end_time": "2021-10-23T17:19:32.806859Z",
     "start_time": "2021-10-23T17:19:30.987628Z"
    }
   },
   "source": [
    "# 72 st\n",
    "\n",
    "ind = df.loc[df['station']=='72 st'].index\n",
    "df.loc[ind, 'station'] =  '72 st (1/2/3)'"
   ]
  },
  {
   "cell_type": "markdown",
   "metadata": {
    "ExecuteTime": {
     "end_time": "2021-10-23T17:19:35.699116Z",
     "start_time": "2021-10-23T17:19:32.807859Z"
    }
   },
   "source": [
    "# 74 st broadway jackson hts\n",
    "\n",
    "ind = df.loc[(df['station']=='74 st-broadway')|(df['station']=='jksn ht-roosvlt')].index\n",
    "df.loc[ind,'station'] = '74 st-broadway (7/E/F/M/R)'"
   ]
  },
  {
   "cell_type": "markdown",
   "metadata": {
    "ExecuteTime": {
     "end_time": "2021-10-23T17:28:06.587755Z",
     "start_time": "2021-10-23T17:28:02.117804Z"
    }
   },
   "source": [
    "# 77 st\n",
    "\n",
    "ind = df.loc[df['station']=='77 st'].index\n",
    "df.loc[ind, 'station']='77 st (6)'"
   ]
  },
  {
   "cell_type": "markdown",
   "metadata": {
    "ExecuteTime": {
     "end_time": "2021-10-23T17:19:37.446370Z",
     "start_time": "2021-10-23T17:19:35.700099Z"
    }
   },
   "source": [
    "# 79 st\n",
    "\n",
    "ind = df.loc[df['station']=='79 st'].index\n",
    "df.loc[ind,'station']='79 st (1)'"
   ]
  },
  {
   "cell_type": "markdown",
   "metadata": {
    "ExecuteTime": {
     "end_time": "2021-10-23T17:19:39.207430Z",
     "start_time": "2021-10-23T17:19:37.447370Z"
    }
   },
   "source": [
    "# 82 st\n",
    "\n",
    "ind = df.loc[df['station']=='82 st-jackson h'].index\n",
    "df.loc[ind,'station'] = '82 st-jackson hts (7)'"
   ]
  },
  {
   "cell_type": "markdown",
   "metadata": {
    "ExecuteTime": {
     "end_time": "2021-10-23T17:19:45.080455Z",
     "start_time": "2021-10-23T17:19:39.208969Z"
    }
   },
   "source": [
    "# 86 st\n",
    "\n",
    "ind_1 = df.loc[(df['station']=='86 st')&(df['lines']=='1')].index\n",
    "df.loc[ind_1,'station'] = '86 st (1)'\n",
    "\n",
    "ind_456 = df.loc[(df['station']=='86 st')&(df['lines']=='456')].index\n",
    "df.loc[ind_456, 'station'] = '86 st (4/5/6)'"
   ]
  },
  {
   "cell_type": "markdown",
   "metadata": {
    "ExecuteTime": {
     "end_time": "2021-10-23T17:19:46.872117Z",
     "start_time": "2021-10-23T17:19:45.081207Z"
    }
   },
   "source": [
    "# 90 st\n",
    "\n",
    "ind = df.loc[df['station']=='90 st-elmhurst'].index\n",
    "df.loc[ind,'station'] = '90 st-elmhurst (7)'"
   ]
  },
  {
   "cell_type": "markdown",
   "metadata": {
    "ExecuteTime": {
     "end_time": "2021-10-23T17:25:42.704418Z",
     "start_time": "2021-10-23T17:24:59.973124Z"
    }
   },
   "source": [
    "df['station'] = df['station'].str.replace('ave','av')\n",
    "df['station'] = df['station'].str.replace('place','pl')\n",
    "df['station'] = df['station'].str.replace('road','rd')"
   ]
  },
  {
   "cell_type": "markdown",
   "metadata": {
    "ExecuteTime": {
     "end_time": "2021-10-23T17:41:48.967446Z",
     "start_time": "2021-10-23T17:41:40.525090Z"
    }
   },
   "source": [
    "# 96 st\n",
    "\n",
    "ind_123 = df.loc[(df['station']=='96 st')&(df['lines']=='123')].index\n",
    "df.loc[ind_123,'station'] = '96 st (1/2/3)'\n",
    "\n",
    "ind_6 = df.loc[(df['station']=='96 st')&(df['lines']=='6')].index\n",
    "df.loc[ind_6,'station'] = '96 st (6)'"
   ]
  },
  {
   "cell_type": "markdown",
   "metadata": {
    "ExecuteTime": {
     "end_time": "2021-10-23T17:41:50.705397Z",
     "start_time": "2021-10-23T17:41:48.968871Z"
    }
   },
   "source": [
    "# allerton av\n",
    "\n",
    "ind = df.loc[df['station']=='allerton av'].index\n",
    "df.loc[ind,'station'] = 'allerton av (2/5)'"
   ]
  },
  {
   "cell_type": "markdown",
   "metadata": {
    "ExecuteTime": {
     "end_time": "2021-10-23T17:41:52.443786Z",
     "start_time": "2021-10-23T17:41:50.706397Z"
    }
   },
   "source": [
    "# astor pl\n",
    "\n",
    "ind = df.loc[df['station']=='astor pl'].index\n",
    "df.loc[ind,'station'] = 'astor pl (6)'"
   ]
  },
  {
   "cell_type": "markdown",
   "metadata": {
    "ExecuteTime": {
     "end_time": "2021-10-23T17:41:54.199467Z",
     "start_time": "2021-10-23T17:41:52.444785Z"
    }
   },
   "source": [
    "# missed this one\n",
    "\n",
    "ind = df.loc[(df['station']==\"b'way-lafayette\")].index\n",
    "df.loc[ind,'station']='broadway-lafayette/bleecker st (6/B/D/F/Q)'"
   ]
  },
  {
   "cell_type": "markdown",
   "metadata": {
    "ExecuteTime": {
     "end_time": "2021-10-23T17:41:55.923873Z",
     "start_time": "2021-10-23T17:41:54.200467Z"
    }
   },
   "source": [
    "# baychester av\n",
    "\n",
    "ind = df.loc[df['station']=='baychester av'].index\n",
    "df.loc[ind, 'station'] = 'baychester av (5)'"
   ]
  },
  {
   "cell_type": "markdown",
   "metadata": {
    "ExecuteTime": {
     "end_time": "2021-10-23T17:40:49.807185Z",
     "start_time": "2021-10-23T17:40:40.934153Z"
    }
   },
   "source": [
    "# because of the S train, a few undesireable stations made it on here...\n",
    "\n",
    "droppers = df.loc[(df['station']=='beach 105 st')|(df['station']=='beach 90 st')\n",
    "                  |(df['station']=='beach 98 st')|(df['station']=='rockaway pk 116')\n",
    "                  |((df['station']=='park pl')&(df['lines']=='S'))|(df['station']=='brd channel')\n",
    "                 |(df['station']=='rockaway park b')|(df['station']=='prospect park')].index"
   ]
  },
  {
   "cell_type": "markdown",
   "metadata": {
    "ExecuteTime": {
     "end_time": "2021-10-23T17:41:10.903738Z",
     "start_time": "2021-10-23T17:41:08.573856Z"
    }
   },
   "source": [
    "df.drop(droppers,inplace=True)"
   ]
  },
  {
   "cell_type": "markdown",
   "metadata": {
    "ExecuteTime": {
     "end_time": "2021-10-23T19:11:37.282932Z",
     "start_time": "2021-10-23T19:11:30.773910Z"
    }
   },
   "source": [
    "# missed one\n",
    "\n",
    "dropit = df.loc[(df['station']=='prospect park')].index\n",
    "df.drop(dropit,inplace=True)"
   ]
  },
  {
   "cell_type": "markdown",
   "metadata": {
    "ExecuteTime": {
     "end_time": "2021-10-23T19:11:58.394710Z",
     "start_time": "2021-10-23T19:11:52.905809Z"
    }
   },
   "source": [
    "# bedford park\n",
    "\n",
    "ind = df.loc[(df['station']=='bedford park bl')|(df['station']=='bedford pk blvd')].index\n",
    "df.loc[ind,'station'] = 'bedford pk blvd (4)'"
   ]
  },
  {
   "cell_type": "markdown",
   "metadata": {
    "ExecuteTime": {
     "end_time": "2021-10-23T19:12:00.097690Z",
     "start_time": "2021-10-23T19:11:58.395711Z"
    }
   },
   "source": [
    "# bergen st\n",
    "\n",
    "ind = df.loc[df['station']=='bergen st'].index\n",
    "df.loc[ind,'station'] = 'bergen st (2/3)'"
   ]
  },
  {
   "cell_type": "markdown",
   "metadata": {
    "ExecuteTime": {
     "end_time": "2021-10-23T19:12:01.752661Z",
     "start_time": "2021-10-23T19:12:00.098691Z"
    }
   },
   "source": [
    "# beverly rd\n",
    "\n",
    "ind = df.loc[df['station']=='beverly rd'].index\n",
    "df.loc[ind,'station'] = 'beverly rd (2/5)'"
   ]
  },
  {
   "cell_type": "markdown",
   "metadata": {
    "ExecuteTime": {
     "end_time": "2021-10-23T19:12:04.583764Z",
     "start_time": "2021-10-23T19:12:01.753662Z"
    }
   },
   "source": [
    "# borough hall\n",
    "\n",
    "ind = df.loc[(df['station']=='borough hall')|(df['station']=='borough hall/ct')].index\n",
    "df.loc[ind,'station'] = 'borough hall-court st (2/3/4/5/R)'"
   ]
  },
  {
   "cell_type": "markdown",
   "metadata": {
    "ExecuteTime": {
     "end_time": "2021-10-23T19:12:13.178694Z",
     "start_time": "2021-10-23T19:12:10.437821Z"
    }
   },
   "source": [
    "# franklin av/botanic garden\n",
    "\n",
    "ind = df.loc[(df['station']=='botanic garden')|(df['station']=='franklin av')].index\n",
    "df.loc[ind,'station'] = 'franklin av (2/3/4/5/S)'"
   ]
  },
  {
   "cell_type": "markdown",
   "metadata": {
    "ExecuteTime": {
     "end_time": "2021-10-23T19:13:26.784788Z",
     "start_time": "2021-10-23T19:13:25.141351Z"
    }
   },
   "source": [
    "# messed up bleecker\n",
    "\n",
    "ind = df.loc[(df['station']=='brdway-lafayette/bleecker st (6/B/D/F/Q)')].index\n",
    "df.loc[ind,'station'] = 'broadway-lafayette/bleecker st (6/B/D/F/Q)'"
   ]
  },
  {
   "cell_type": "markdown",
   "metadata": {
    "ExecuteTime": {
     "end_time": "2021-10-23T19:28:16.241934Z",
     "start_time": "2021-10-23T19:28:11.841902Z"
    }
   },
   "source": [
    "# bowling green\n",
    "\n",
    "ind = df.loc[df['station'] == 'bowling green'].index\n",
    "df.loc[ind,'station'] = 'bowling green (4/5)'"
   ]
  },
  {
   "cell_type": "markdown",
   "metadata": {
    "ExecuteTime": {
     "end_time": "2021-10-23T19:28:17.883308Z",
     "start_time": "2021-10-23T19:28:16.242915Z"
    }
   },
   "source": [
    "# bronx pk east\n",
    "\n",
    "ind = df.loc[df['station']=='bronx park east'].index\n",
    "df.loc[ind,'station'] = 'bronx pk east (2/5)'"
   ]
  },
  {
   "cell_type": "markdown",
   "metadata": {
    "ExecuteTime": {
     "end_time": "2021-10-23T19:28:19.569820Z",
     "start_time": "2021-10-23T19:28:17.884831Z"
    }
   },
   "source": [
    "# brook av\n",
    "\n",
    "ind = df.loc[df['station']=='brook av'].index\n",
    "df.loc[ind, 'station'] = 'brook av (6)'"
   ]
  },
  {
   "cell_type": "markdown",
   "metadata": {
    "ExecuteTime": {
     "end_time": "2021-10-23T19:28:23.488882Z",
     "start_time": "2021-10-23T19:28:19.570873Z"
    }
   },
   "source": [
    "# bk br city hall\n",
    "\n",
    "ind = df.loc[(df['station']=='brooklyn bridge')|((df['station']=='chambers st')&(df['lines']=='JZ456'))].index\n",
    "df.loc[ind, 'station'] = 'brooklyn bridge-city hall (4/5/6/J/Z)'"
   ]
  },
  {
   "cell_type": "markdown",
   "metadata": {
    "ExecuteTime": {
     "end_time": "2021-10-23T19:28:25.131806Z",
     "start_time": "2021-10-23T19:28:23.489881Z"
    }
   },
   "source": [
    "# buhre av\n",
    "\n",
    "ind = df.loc[df['station']=='buhre av'].index\n",
    "df.loc[ind,'station'] = 'buhre av (6)'"
   ]
  },
  {
   "cell_type": "markdown",
   "metadata": {
    "ExecuteTime": {
     "end_time": "2021-10-23T19:28:26.770820Z",
     "start_time": "2021-10-23T19:28:25.132806Z"
    }
   },
   "source": [
    "# burke av\n",
    "\n",
    "ind = df.loc[df['station']=='burke av'].index\n",
    "df.loc[ind,'station'] = 'burke av (2/5)'"
   ]
  },
  {
   "cell_type": "markdown",
   "metadata": {
    "ExecuteTime": {
     "end_time": "2021-10-23T19:28:28.404916Z",
     "start_time": "2021-10-23T19:28:26.772325Z"
    }
   },
   "source": [
    "# burnside av\n",
    "\n",
    "ind = df.loc[df['station']=='burnside av'].index\n",
    "df.loc[ind, 'station'] = 'burnside av (4)'"
   ]
  },
  {
   "cell_type": "markdown",
   "metadata": {
    "ExecuteTime": {
     "end_time": "2021-10-23T19:28:41.714000Z",
     "start_time": "2021-10-23T19:28:28.405916Z"
    }
   },
   "source": [
    "# canal st\n",
    "\n",
    "ind_1 = df.loc[(df['station']=='canal st')&(df['lines']=='1')].index\n",
    "df.loc[ind_1,'station'] = 'canal st (1)'\n",
    "\n",
    "ind_6 = df.loc[(df['station']=='canal st')&(df['lines'].str.contains('6'))].index\n",
    "df.loc[ind_6,'station'] = 'canal st (6/J/N/Q/R)'"
   ]
  },
  {
   "cell_type": "markdown",
   "metadata": {
    "ExecuteTime": {
     "end_time": "2021-10-23T19:40:21.351938Z",
     "start_time": "2021-10-23T19:40:16.241747Z"
    }
   },
   "source": [
    "# chambers st-wtc\n",
    "\n",
    "ind = df.loc[(df['station']=='chambers st')|(df['station']=='world trade ctr')\n",
    "                |(df['station']=='wtc-cortlandt')|(df['station']=='cortlandt st')].index\n",
    "\n",
    "df.loc[ind,'station'] = 'chambers st-wtc (1/2/3/A/C/E/R/W)'"
   ]
  },
  {
   "cell_type": "markdown",
   "metadata": {
    "ExecuteTime": {
     "end_time": "2021-10-23T19:46:52.681067Z",
     "start_time": "2021-10-23T19:46:51.010487Z"
    }
   },
   "source": [
    "# castle hill\n",
    "\n",
    "ind = df.loc[df['station']=='castle hill av'].index\n",
    "df.loc[ind,'station'] = 'catle hill av (6)'"
   ]
  },
  {
   "cell_type": "code",
   "execution_count": 2,
   "metadata": {
    "ExecuteTime": {
     "end_time": "2021-10-23T19:47:48.553461Z",
     "start_time": "2021-10-23T19:47:43.936922Z"
    }
   },
   "outputs": [],
   "source": [
    "with open('data/turnstile_irt_cleaned.pkl','rb') as f:\n",
    "    df = pkl.load(f)"
   ]
  },
  {
   "cell_type": "code",
   "execution_count": null,
   "metadata": {},
   "outputs": [],
   "source": [
    "# christopher st\n",
    "\n",
    "ind = df.loc[df['station']=='christopher st'].index\n",
    "df.loc[ind, 'station'] = 'christopher st (1)'"
   ]
  },
  {
   "cell_type": "code",
   "execution_count": null,
   "metadata": {},
   "outputs": [],
   "source": [
    "# church av\n",
    "\n",
    "ind = df.loc[df['station']=='church av'].index\n",
    "df.loc[ind,'station'] = 'church av (2/5)'"
   ]
  },
  {
   "cell_type": "code",
   "execution_count": null,
   "metadata": {},
   "outputs": [],
   "source": []
  },
  {
   "cell_type": "code",
   "execution_count": null,
   "metadata": {},
   "outputs": [],
   "source": []
  },
  {
   "cell_type": "code",
   "execution_count": 8,
   "metadata": {
    "ExecuteTime": {
     "end_time": "2021-10-23T20:33:30.340368Z",
     "start_time": "2021-10-23T20:33:29.292865Z"
    },
    "scrolled": true
   },
   "outputs": [
    {
     "data": {
      "text/plain": [
       "25    136000\n",
       "Name: lines, dtype: int64"
      ]
     },
     "execution_count": 8,
     "metadata": {},
     "output_type": "execute_result"
    }
   ],
   "source": [
    "df['lines'].loc[df['station']=='church av'].value_counts()"
   ]
  },
  {
   "cell_type": "code",
   "execution_count": 7,
   "metadata": {
    "ExecuteTime": {
     "end_time": "2021-10-23T20:32:28.984051Z",
     "start_time": "2021-10-23T20:32:27.300866Z"
    },
    "scrolled": false
   },
   "outputs": [
    {
     "data": {
      "text/plain": [
       "['burke av (2/5)',\n",
       " 'burnside av (4)',\n",
       " 'canal st (1)',\n",
       " 'canal st (6/J/N/Q/R)',\n",
       " 'cathedral pkwy-110 st (1)',\n",
       " 'catle hill av (6)',\n",
       " 'chambers st-wtc (1/2/3/A/C/E/R/W)',\n",
       " 'christopher st',\n",
       " 'church av',\n",
       " 'clark st',\n",
       " 'court sq',\n",
       " 'crown hts-utica',\n",
       " 'ctl park n-110 st (2/3)',\n",
       " 'cypress av',\n",
       " 'dyckman st',\n",
       " 'dyre av',\n",
       " 'e 143 st',\n",
       " \"e 143/st mary's\",\n",
       " 'e 149 st (6)',\n",
       " 'e 177 st-parkch',\n",
       " 'e 180 st',\n",
       " 'e tremont av',\n",
       " 'eastchster/dyre',\n",
       " 'eastern pkwy',\n",
       " 'eastn pkwy-musm',\n",
       " 'elder av',\n",
       " 'flatbush av',\n",
       " 'flatbush av-b.c',\n",
       " 'flushing-main',\n",
       " 'fordham rd',\n",
       " 'franklin av (2/3/4/5/S)',\n",
       " 'franklin st',\n",
       " 'freeman st',\n",
       " 'fulton st (2/3/4/5/A/C/J/Z)',\n",
       " 'grand army plaz',\n",
       " 'grand ctl-42 st (4/5/6/7)',\n",
       " 'gun hill rd',\n",
       " 'harlem-148 st (3)',\n",
       " 'houston st',\n",
       " 'hoyt st',\n",
       " 'hunters pt av',\n",
       " 'hunts point av',\n",
       " 'intervale av',\n",
       " 'intervale-163',\n",
       " 'jackson av',\n",
       " 'junction blvd',\n",
       " 'junius st',\n",
       " 'kingsbridge rd',\n",
       " 'kingston av',\n",
       " 'lexington av',\n",
       " 'lexington av/53',\n",
       " 'lexington-53 st',\n",
       " 'longwood av',\n",
       " 'main st',\n",
       " 'marble hill-225',\n",
       " 'mets-willets pt',\n",
       " 'middletown rd',\n",
       " 'morisn av/sndvw',\n",
       " 'morris park',\n",
       " 'morrison av',\n",
       " 'mosholu parkway',\n",
       " 'mosholu pkwy',\n",
       " 'mt eden av',\n",
       " 'nereid av',\n",
       " 'nevins st',\n",
       " 'new lots av',\n",
       " 'newkirk av',\n",
       " 'nostrand av',\n",
       " 'orchard beach',\n",
       " 'park pl',\n",
       " 'parkchester',\n",
       " 'pelham bay park',\n",
       " 'pelham parkway',\n",
       " 'pelham pkwy',\n",
       " 'pennsylvania av',\n",
       " 'president st',\n",
       " 'prospect av',\n",
       " 'queensboro plz',\n",
       " 'rector st',\n",
       " 'rockaway av',\n",
       " 'roosevelt av',\n",
       " 'saratoga av',\n",
       " 'simpson st',\n",
       " 'south ferry',\n",
       " 'spring st',\n",
       " 'st lawrence av',\n",
       " 'sterling st',\n",
       " 'sutter av',\n",
       " 'sutter av-rutld',\n",
       " 'times sq-42 st (1/2/3/7/A/C/E/N/Q/R/S)',\n",
       " 'van cortlandt park-242 st (1)',\n",
       " 'van siclen av',\n",
       " 'vernon-jackson',\n",
       " 'vernon/jackson',\n",
       " 'wakefield-241',\n",
       " 'wakefield/241',\n",
       " 'wall st',\n",
       " 'west farms sq',\n",
       " 'westchester sq',\n",
       " 'whitehall s-fry',\n",
       " 'whitehall st',\n",
       " 'whitlock av',\n",
       " 'winthrop st',\n",
       " 'woodlawn',\n",
       " 'woodlawn rd',\n",
       " 'zerega av']"
      ]
     },
     "execution_count": 7,
     "metadata": {},
     "output_type": "execute_result"
    }
   ],
   "source": [
    "sorted(list(df['station'].value_counts().index))[80:]"
   ]
  },
  {
   "cell_type": "code",
   "execution_count": 5,
   "metadata": {
    "ExecuteTime": {
     "end_time": "2021-10-23T19:47:51.326869Z",
     "start_time": "2021-10-23T19:47:51.234427Z"
    }
   },
   "outputs": [],
   "source": [
    "# with open('data/turnstile_irt_cleaned.pkl','wb') as f:\n",
    "#     pkl.dump(df, f)"
   ]
  },
  {
   "cell_type": "code",
   "execution_count": 6,
   "metadata": {
    "ExecuteTime": {
     "end_time": "2021-10-23T19:48:00.071590Z",
     "start_time": "2021-10-23T19:47:51.327870Z"
    }
   },
   "outputs": [
    {
     "data": {
      "text/plain": [
       "times sq-42 st (1/2/3/7/A/C/E/N/Q/R/S)    1540999\n",
       "grand ctl-42 st (4/5/6/7)                 1064038\n",
       "franklin av (2/3/4/5/S)                    322415\n",
       "Name: station, dtype: int64"
      ]
     },
     "execution_count": 6,
     "metadata": {},
     "output_type": "execute_result"
    }
   ],
   "source": [
    "df['station'].loc[df['lines'].str.contains('S')].value_counts()"
   ]
  }
 ],
 "metadata": {
  "kernelspec": {
   "display_name": "Python 3",
   "language": "python",
   "name": "python3"
  },
  "language_info": {
   "codemirror_mode": {
    "name": "ipython",
    "version": 3
   },
   "file_extension": ".py",
   "mimetype": "text/x-python",
   "name": "python",
   "nbconvert_exporter": "python",
   "pygments_lexer": "ipython3",
   "version": "3.8.5"
  },
  "toc": {
   "base_numbering": 1,
   "nav_menu": {},
   "number_sections": true,
   "sideBar": true,
   "skip_h1_title": false,
   "title_cell": "Table of Contents",
   "title_sidebar": "Contents",
   "toc_cell": false,
   "toc_position": {},
   "toc_section_display": true,
   "toc_window_display": false
  }
 },
 "nbformat": 4,
 "nbformat_minor": 4
}
