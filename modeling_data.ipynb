{
 "cells": [
  {
   "cell_type": "code",
   "execution_count": 1,
   "metadata": {
    "ExecuteTime": {
     "end_time": "2021-10-19T14:06:11.187624Z",
     "start_time": "2021-10-19T14:06:10.912519Z"
    }
   },
   "outputs": [],
   "source": [
    "import pandas as pd\n",
    "import pickle as pkl"
   ]
  },
  {
   "cell_type": "code",
   "execution_count": 2,
   "metadata": {
    "ExecuteTime": {
     "end_time": "2021-10-19T14:06:11.340857Z",
     "start_time": "2021-10-19T14:06:11.189164Z"
    }
   },
   "outputs": [],
   "source": [
    "df = pd.read_csv('df2.csv')"
   ]
  },
  {
   "cell_type": "code",
   "execution_count": 3,
   "metadata": {
    "ExecuteTime": {
     "end_time": "2021-10-19T14:06:11.371641Z",
     "start_time": "2021-10-19T14:06:11.342389Z"
    }
   },
   "outputs": [
    {
     "data": {
      "text/html": [
       "<div>\n",
       "<style scoped>\n",
       "    .dataframe tbody tr th:only-of-type {\n",
       "        vertical-align: middle;\n",
       "    }\n",
       "\n",
       "    .dataframe tbody tr th {\n",
       "        vertical-align: top;\n",
       "    }\n",
       "\n",
       "    .dataframe thead th {\n",
       "        text-align: right;\n",
       "    }\n",
       "</style>\n",
       "<table border=\"1\" class=\"dataframe\">\n",
       "  <thead>\n",
       "    <tr style=\"text-align: right;\">\n",
       "      <th></th>\n",
       "      <th>Unnamed: 0</th>\n",
       "      <th>date</th>\n",
       "      <th>subject</th>\n",
       "      <th>message</th>\n",
       "      <th>day_of_week</th>\n",
       "      <th>rush_hour</th>\n",
       "      <th>weekend</th>\n",
       "      <th>2</th>\n",
       "      <th>brooklyn</th>\n",
       "    </tr>\n",
       "  </thead>\n",
       "  <tbody>\n",
       "    <tr>\n",
       "      <th>0</th>\n",
       "      <td>0</td>\n",
       "      <td>9/30/2021 21:34</td>\n",
       "      <td>Update : bx   2 Train   Delays</td>\n",
       "      <td>2 trains are proceeding with delays after our ...</td>\n",
       "      <td>3</td>\n",
       "      <td>0</td>\n",
       "      <td>0</td>\n",
       "      <td>1</td>\n",
       "      <td>False</td>\n",
       "    </tr>\n",
       "    <tr>\n",
       "      <th>1</th>\n",
       "      <td>1</td>\n",
       "      <td>9/30/2021 21:28</td>\n",
       "      <td>bx   2 Train   Delays</td>\n",
       "      <td>2 trains are delayed in both directions while ...</td>\n",
       "      <td>3</td>\n",
       "      <td>0</td>\n",
       "      <td>0</td>\n",
       "      <td>1</td>\n",
       "      <td>False</td>\n",
       "    </tr>\n",
       "    <tr>\n",
       "      <th>2</th>\n",
       "      <td>2</td>\n",
       "      <td>9/30/2021 19:14</td>\n",
       "      <td>Update : bx   2 Train   Delays</td>\n",
       "      <td>Southbound 2 trains are proceeding after we mo...</td>\n",
       "      <td>3</td>\n",
       "      <td>0</td>\n",
       "      <td>0</td>\n",
       "      <td>1</td>\n",
       "      <td>False</td>\n",
       "    </tr>\n",
       "    <tr>\n",
       "      <th>3</th>\n",
       "      <td>3</td>\n",
       "      <td>9/30/2021 19:10</td>\n",
       "      <td>bx   2 Train   Delays</td>\n",
       "      <td>Southbound 2 trains are delayed while we inves...</td>\n",
       "      <td>3</td>\n",
       "      <td>0</td>\n",
       "      <td>0</td>\n",
       "      <td>1</td>\n",
       "      <td>False</td>\n",
       "    </tr>\n",
       "    <tr>\n",
       "      <th>4</th>\n",
       "      <td>4</td>\n",
       "      <td>9/30/2021 18:48</td>\n",
       "      <td>Update : bx   2 Train   Trains Rerouted</td>\n",
       "      <td>Wakefield-bound 2 trains have resumed stopping...</td>\n",
       "      <td>3</td>\n",
       "      <td>0</td>\n",
       "      <td>0</td>\n",
       "      <td>1</td>\n",
       "      <td>False</td>\n",
       "    </tr>\n",
       "    <tr>\n",
       "      <th>...</th>\n",
       "      <td>...</td>\n",
       "      <td>...</td>\n",
       "      <td>...</td>\n",
       "      <td>...</td>\n",
       "      <td>...</td>\n",
       "      <td>...</td>\n",
       "      <td>...</td>\n",
       "      <td>...</td>\n",
       "      <td>...</td>\n",
       "    </tr>\n",
       "    <tr>\n",
       "      <th>67181</th>\n",
       "      <td>67182</td>\n",
       "      <td>1/2/2010 8:28</td>\n",
       "      <td>qns   7 train   Track Maintenance</td>\n",
       "      <td>Times Sq-bound 7 trains operating on normal ro...</td>\n",
       "      <td>5</td>\n",
       "      <td>0</td>\n",
       "      <td>1</td>\n",
       "      <td>0</td>\n",
       "      <td>False</td>\n",
       "    </tr>\n",
       "    <tr>\n",
       "      <th>67182</th>\n",
       "      <td>67183</td>\n",
       "      <td>1/1/2010 0:56</td>\n",
       "      <td>UPDATED : bx   4 Train   Police Investigation</td>\n",
       "      <td>4 train service has resumed with residual delays.</td>\n",
       "      <td>4</td>\n",
       "      <td>0</td>\n",
       "      <td>0</td>\n",
       "      <td>0</td>\n",
       "      <td>False</td>\n",
       "    </tr>\n",
       "    <tr>\n",
       "      <th>67183</th>\n",
       "      <td>67184</td>\n",
       "      <td>1/1/2010 0:49</td>\n",
       "      <td>UPDATED : bx   4 Train   Police Investigation</td>\n",
       "      <td>BK-bound. 4 train express Burnside Av to 125 S...</td>\n",
       "      <td>4</td>\n",
       "      <td>0</td>\n",
       "      <td>0</td>\n",
       "      <td>0</td>\n",
       "      <td>False</td>\n",
       "    </tr>\n",
       "    <tr>\n",
       "      <th>67184</th>\n",
       "      <td>67185</td>\n",
       "      <td>1/1/2010 0:35</td>\n",
       "      <td>UPDATED : bx   4 Train   Police Investigation</td>\n",
       "      <td>Both directions. 4 train susp btwn Burnside Av...</td>\n",
       "      <td>4</td>\n",
       "      <td>0</td>\n",
       "      <td>0</td>\n",
       "      <td>0</td>\n",
       "      <td>False</td>\n",
       "    </tr>\n",
       "    <tr>\n",
       "      <th>67185</th>\n",
       "      <td>67186</td>\n",
       "      <td>1/1/2010 0:26</td>\n",
       "      <td>bx   4 Train   Police Investigation</td>\n",
       "      <td>BK-bound. 4 train via express track Burnside A...</td>\n",
       "      <td>4</td>\n",
       "      <td>0</td>\n",
       "      <td>0</td>\n",
       "      <td>0</td>\n",
       "      <td>False</td>\n",
       "    </tr>\n",
       "  </tbody>\n",
       "</table>\n",
       "<p>67186 rows × 9 columns</p>\n",
       "</div>"
      ],
      "text/plain": [
       "       Unnamed: 0             date  \\\n",
       "0               0  9/30/2021 21:34   \n",
       "1               1  9/30/2021 21:28   \n",
       "2               2  9/30/2021 19:14   \n",
       "3               3  9/30/2021 19:10   \n",
       "4               4  9/30/2021 18:48   \n",
       "...           ...              ...   \n",
       "67181       67182    1/2/2010 8:28   \n",
       "67182       67183    1/1/2010 0:56   \n",
       "67183       67184    1/1/2010 0:49   \n",
       "67184       67185    1/1/2010 0:35   \n",
       "67185       67186    1/1/2010 0:26   \n",
       "\n",
       "                                             subject  \\\n",
       "0                     Update : bx   2 Train   Delays   \n",
       "1                              bx   2 Train   Delays   \n",
       "2                     Update : bx   2 Train   Delays   \n",
       "3                              bx   2 Train   Delays   \n",
       "4            Update : bx   2 Train   Trains Rerouted   \n",
       "...                                              ...   \n",
       "67181              qns   7 train   Track Maintenance   \n",
       "67182  UPDATED : bx   4 Train   Police Investigation   \n",
       "67183  UPDATED : bx   4 Train   Police Investigation   \n",
       "67184  UPDATED : bx   4 Train   Police Investigation   \n",
       "67185            bx   4 Train   Police Investigation   \n",
       "\n",
       "                                                 message  day_of_week  \\\n",
       "0      2 trains are proceeding with delays after our ...            3   \n",
       "1      2 trains are delayed in both directions while ...            3   \n",
       "2      Southbound 2 trains are proceeding after we mo...            3   \n",
       "3      Southbound 2 trains are delayed while we inves...            3   \n",
       "4      Wakefield-bound 2 trains have resumed stopping...            3   \n",
       "...                                                  ...          ...   \n",
       "67181  Times Sq-bound 7 trains operating on normal ro...            5   \n",
       "67182  4 train service has resumed with residual delays.            4   \n",
       "67183  BK-bound. 4 train express Burnside Av to 125 S...            4   \n",
       "67184  Both directions. 4 train susp btwn Burnside Av...            4   \n",
       "67185  BK-bound. 4 train via express track Burnside A...            4   \n",
       "\n",
       "       rush_hour  weekend  2  brooklyn  \n",
       "0              0        0  1     False  \n",
       "1              0        0  1     False  \n",
       "2              0        0  1     False  \n",
       "3              0        0  1     False  \n",
       "4              0        0  1     False  \n",
       "...          ...      ... ..       ...  \n",
       "67181          0        1  0     False  \n",
       "67182          0        0  0     False  \n",
       "67183          0        0  0     False  \n",
       "67184          0        0  0     False  \n",
       "67185          0        0  0     False  \n",
       "\n",
       "[67186 rows x 9 columns]"
      ]
     },
     "execution_count": 3,
     "metadata": {},
     "output_type": "execute_result"
    }
   ],
   "source": [
    "df"
   ]
  },
  {
   "cell_type": "code",
   "execution_count": 4,
   "metadata": {
    "ExecuteTime": {
     "end_time": "2021-10-19T14:06:11.539397Z",
     "start_time": "2021-10-19T14:06:11.495865Z"
    },
    "scrolled": true
   },
   "outputs": [],
   "source": [
    "df['brooklyn'] = df['subject'].str.contains('bk|BK|Bk|bK')"
   ]
  },
  {
   "cell_type": "code",
   "execution_count": 6,
   "metadata": {
    "ExecuteTime": {
     "end_time": "2021-10-19T14:06:13.873014Z",
     "start_time": "2021-10-19T14:06:13.864298Z"
    }
   },
   "outputs": [
    {
     "data": {
      "text/plain": [
       "False    56689\n",
       "True     10497\n",
       "Name: brooklyn, dtype: int64"
      ]
     },
     "execution_count": 6,
     "metadata": {},
     "output_type": "execute_result"
    }
   ],
   "source": [
    "df['brooklyn'].value_counts()"
   ]
  },
  {
   "cell_type": "code",
   "execution_count": 16,
   "metadata": {
    "ExecuteTime": {
     "end_time": "2021-10-19T14:11:23.708686Z",
     "start_time": "2021-10-19T14:11:23.685669Z"
    }
   },
   "outputs": [],
   "source": [
    "df['queens'] = df['subject'].str.contains('qns |qns.')"
   ]
  },
  {
   "cell_type": "code",
   "execution_count": 17,
   "metadata": {
    "ExecuteTime": {
     "end_time": "2021-10-19T14:11:23.984269Z",
     "start_time": "2021-10-19T14:11:23.976004Z"
    }
   },
   "outputs": [
    {
     "data": {
      "text/plain": [
       "False    59101\n",
       "True      8085\n",
       "Name: queens, dtype: int64"
      ]
     },
     "execution_count": 17,
     "metadata": {},
     "output_type": "execute_result"
    }
   ],
   "source": [
    "df['queens'].value_counts()"
   ]
  },
  {
   "cell_type": "code",
   "execution_count": 18,
   "metadata": {
    "ExecuteTime": {
     "end_time": "2021-10-19T14:11:28.601596Z",
     "start_time": "2021-10-19T14:11:28.572056Z"
    }
   },
   "outputs": [],
   "source": [
    "df['bronx'] = df['subject'].str.contains('bx')"
   ]
  },
  {
   "cell_type": "code",
   "execution_count": 19,
   "metadata": {
    "ExecuteTime": {
     "end_time": "2021-10-19T14:11:29.455814Z",
     "start_time": "2021-10-19T14:11:29.439925Z"
    }
   },
   "outputs": [
    {
     "data": {
      "text/plain": [
       "False    48220\n",
       "True     18966\n",
       "Name: bronx, dtype: int64"
      ]
     },
     "execution_count": 19,
     "metadata": {},
     "output_type": "execute_result"
    }
   ],
   "source": [
    "df['bronx'].value_counts()"
   ]
  },
  {
   "cell_type": "code",
   "execution_count": 14,
   "metadata": {
    "ExecuteTime": {
     "end_time": "2021-10-19T14:09:07.302757Z",
     "start_time": "2021-10-19T14:09:07.280216Z"
    }
   },
   "outputs": [],
   "source": [
    "df['manhattan'] = df['subject'].str.contains('manh |manh.')"
   ]
  },
  {
   "cell_type": "code",
   "execution_count": 15,
   "metadata": {
    "ExecuteTime": {
     "end_time": "2021-10-19T14:09:16.409407Z",
     "start_time": "2021-10-19T14:09:16.392010Z"
    }
   },
   "outputs": [
    {
     "data": {
      "text/plain": [
       "False    35912\n",
       "True     31274\n",
       "Name: manhattan, dtype: int64"
      ]
     },
     "execution_count": 15,
     "metadata": {},
     "output_type": "execute_result"
    }
   ],
   "source": [
    "df['manhattan'].value_counts()"
   ]
  },
  {
   "cell_type": "code",
   "execution_count": 20,
   "metadata": {
    "ExecuteTime": {
     "end_time": "2021-10-19T14:13:38.696084Z",
     "start_time": "2021-10-19T14:13:38.688386Z"
    }
   },
   "outputs": [],
   "source": [
    "def get_one(value):\n",
    "    if value is True:\n",
    "        return 1\n",
    "    else:\n",
    "        return 0"
   ]
  },
  {
   "cell_type": "code",
   "execution_count": 21,
   "metadata": {
    "ExecuteTime": {
     "end_time": "2021-10-19T14:14:17.738858Z",
     "start_time": "2021-10-19T14:14:17.672486Z"
    }
   },
   "outputs": [],
   "source": [
    "df['brooklyn'] = df['brooklyn'].apply(get_one)\n",
    "df['queens'] = df['queens'].apply(get_one)\n",
    "df['bronx'] = df['bronx'].apply(get_one)\n",
    "df['manhattan'] = df['manhattan'].apply(get_one)"
   ]
  },
  {
   "cell_type": "code",
   "execution_count": 27,
   "metadata": {
    "ExecuteTime": {
     "end_time": "2021-10-19T14:17:41.486793Z",
     "start_time": "2021-10-19T14:17:41.464793Z"
    }
   },
   "outputs": [],
   "source": [
    "df.drop('Unnamed: 0', axis=1, inplace=True)"
   ]
  },
  {
   "cell_type": "code",
   "execution_count": 28,
   "metadata": {
    "ExecuteTime": {
     "end_time": "2021-10-19T14:17:42.764903Z",
     "start_time": "2021-10-19T14:17:42.743905Z"
    }
   },
   "outputs": [
    {
     "data": {
      "text/html": [
       "<div>\n",
       "<style scoped>\n",
       "    .dataframe tbody tr th:only-of-type {\n",
       "        vertical-align: middle;\n",
       "    }\n",
       "\n",
       "    .dataframe tbody tr th {\n",
       "        vertical-align: top;\n",
       "    }\n",
       "\n",
       "    .dataframe thead th {\n",
       "        text-align: right;\n",
       "    }\n",
       "</style>\n",
       "<table border=\"1\" class=\"dataframe\">\n",
       "  <thead>\n",
       "    <tr style=\"text-align: right;\">\n",
       "      <th></th>\n",
       "      <th>date</th>\n",
       "      <th>subject</th>\n",
       "      <th>message</th>\n",
       "      <th>day_of_week</th>\n",
       "      <th>rush_hour</th>\n",
       "      <th>weekend</th>\n",
       "      <th>2</th>\n",
       "      <th>brooklyn</th>\n",
       "      <th>queens</th>\n",
       "      <th>bronx</th>\n",
       "      <th>manhattan</th>\n",
       "    </tr>\n",
       "  </thead>\n",
       "  <tbody>\n",
       "    <tr>\n",
       "      <th>0</th>\n",
       "      <td>9/30/2021 21:34</td>\n",
       "      <td>Update : bx   2 Train   Delays</td>\n",
       "      <td>2 trains are proceeding with delays after our ...</td>\n",
       "      <td>3</td>\n",
       "      <td>0</td>\n",
       "      <td>0</td>\n",
       "      <td>1</td>\n",
       "      <td>0</td>\n",
       "      <td>0</td>\n",
       "      <td>1</td>\n",
       "      <td>0</td>\n",
       "    </tr>\n",
       "    <tr>\n",
       "      <th>1</th>\n",
       "      <td>9/30/2021 21:28</td>\n",
       "      <td>bx   2 Train   Delays</td>\n",
       "      <td>2 trains are delayed in both directions while ...</td>\n",
       "      <td>3</td>\n",
       "      <td>0</td>\n",
       "      <td>0</td>\n",
       "      <td>1</td>\n",
       "      <td>0</td>\n",
       "      <td>0</td>\n",
       "      <td>1</td>\n",
       "      <td>0</td>\n",
       "    </tr>\n",
       "    <tr>\n",
       "      <th>2</th>\n",
       "      <td>9/30/2021 19:14</td>\n",
       "      <td>Update : bx   2 Train   Delays</td>\n",
       "      <td>Southbound 2 trains are proceeding after we mo...</td>\n",
       "      <td>3</td>\n",
       "      <td>0</td>\n",
       "      <td>0</td>\n",
       "      <td>1</td>\n",
       "      <td>0</td>\n",
       "      <td>0</td>\n",
       "      <td>1</td>\n",
       "      <td>0</td>\n",
       "    </tr>\n",
       "    <tr>\n",
       "      <th>3</th>\n",
       "      <td>9/30/2021 19:10</td>\n",
       "      <td>bx   2 Train   Delays</td>\n",
       "      <td>Southbound 2 trains are delayed while we inves...</td>\n",
       "      <td>3</td>\n",
       "      <td>0</td>\n",
       "      <td>0</td>\n",
       "      <td>1</td>\n",
       "      <td>0</td>\n",
       "      <td>0</td>\n",
       "      <td>1</td>\n",
       "      <td>0</td>\n",
       "    </tr>\n",
       "    <tr>\n",
       "      <th>4</th>\n",
       "      <td>9/30/2021 18:48</td>\n",
       "      <td>Update : bx   2 Train   Trains Rerouted</td>\n",
       "      <td>Wakefield-bound 2 trains have resumed stopping...</td>\n",
       "      <td>3</td>\n",
       "      <td>0</td>\n",
       "      <td>0</td>\n",
       "      <td>1</td>\n",
       "      <td>0</td>\n",
       "      <td>0</td>\n",
       "      <td>1</td>\n",
       "      <td>0</td>\n",
       "    </tr>\n",
       "    <tr>\n",
       "      <th>...</th>\n",
       "      <td>...</td>\n",
       "      <td>...</td>\n",
       "      <td>...</td>\n",
       "      <td>...</td>\n",
       "      <td>...</td>\n",
       "      <td>...</td>\n",
       "      <td>...</td>\n",
       "      <td>...</td>\n",
       "      <td>...</td>\n",
       "      <td>...</td>\n",
       "      <td>...</td>\n",
       "    </tr>\n",
       "    <tr>\n",
       "      <th>67181</th>\n",
       "      <td>1/2/2010 8:28</td>\n",
       "      <td>qns   7 train   Track Maintenance</td>\n",
       "      <td>Times Sq-bound 7 trains operating on normal ro...</td>\n",
       "      <td>5</td>\n",
       "      <td>0</td>\n",
       "      <td>1</td>\n",
       "      <td>0</td>\n",
       "      <td>0</td>\n",
       "      <td>1</td>\n",
       "      <td>0</td>\n",
       "      <td>0</td>\n",
       "    </tr>\n",
       "    <tr>\n",
       "      <th>67182</th>\n",
       "      <td>1/1/2010 0:56</td>\n",
       "      <td>UPDATED : bx   4 Train   Police Investigation</td>\n",
       "      <td>4 train service has resumed with residual delays.</td>\n",
       "      <td>4</td>\n",
       "      <td>0</td>\n",
       "      <td>0</td>\n",
       "      <td>0</td>\n",
       "      <td>0</td>\n",
       "      <td>0</td>\n",
       "      <td>1</td>\n",
       "      <td>0</td>\n",
       "    </tr>\n",
       "    <tr>\n",
       "      <th>67183</th>\n",
       "      <td>1/1/2010 0:49</td>\n",
       "      <td>UPDATED : bx   4 Train   Police Investigation</td>\n",
       "      <td>BK-bound. 4 train express Burnside Av to 125 S...</td>\n",
       "      <td>4</td>\n",
       "      <td>0</td>\n",
       "      <td>0</td>\n",
       "      <td>0</td>\n",
       "      <td>0</td>\n",
       "      <td>0</td>\n",
       "      <td>1</td>\n",
       "      <td>0</td>\n",
       "    </tr>\n",
       "    <tr>\n",
       "      <th>67184</th>\n",
       "      <td>1/1/2010 0:35</td>\n",
       "      <td>UPDATED : bx   4 Train   Police Investigation</td>\n",
       "      <td>Both directions. 4 train susp btwn Burnside Av...</td>\n",
       "      <td>4</td>\n",
       "      <td>0</td>\n",
       "      <td>0</td>\n",
       "      <td>0</td>\n",
       "      <td>0</td>\n",
       "      <td>0</td>\n",
       "      <td>1</td>\n",
       "      <td>0</td>\n",
       "    </tr>\n",
       "    <tr>\n",
       "      <th>67185</th>\n",
       "      <td>1/1/2010 0:26</td>\n",
       "      <td>bx   4 Train   Police Investigation</td>\n",
       "      <td>BK-bound. 4 train via express track Burnside A...</td>\n",
       "      <td>4</td>\n",
       "      <td>0</td>\n",
       "      <td>0</td>\n",
       "      <td>0</td>\n",
       "      <td>0</td>\n",
       "      <td>0</td>\n",
       "      <td>1</td>\n",
       "      <td>0</td>\n",
       "    </tr>\n",
       "  </tbody>\n",
       "</table>\n",
       "<p>67186 rows × 11 columns</p>\n",
       "</div>"
      ],
      "text/plain": [
       "                  date                                        subject  \\\n",
       "0      9/30/2021 21:34                 Update : bx   2 Train   Delays   \n",
       "1      9/30/2021 21:28                          bx   2 Train   Delays   \n",
       "2      9/30/2021 19:14                 Update : bx   2 Train   Delays   \n",
       "3      9/30/2021 19:10                          bx   2 Train   Delays   \n",
       "4      9/30/2021 18:48        Update : bx   2 Train   Trains Rerouted   \n",
       "...                ...                                            ...   \n",
       "67181    1/2/2010 8:28              qns   7 train   Track Maintenance   \n",
       "67182    1/1/2010 0:56  UPDATED : bx   4 Train   Police Investigation   \n",
       "67183    1/1/2010 0:49  UPDATED : bx   4 Train   Police Investigation   \n",
       "67184    1/1/2010 0:35  UPDATED : bx   4 Train   Police Investigation   \n",
       "67185    1/1/2010 0:26            bx   4 Train   Police Investigation   \n",
       "\n",
       "                                                 message  day_of_week  \\\n",
       "0      2 trains are proceeding with delays after our ...            3   \n",
       "1      2 trains are delayed in both directions while ...            3   \n",
       "2      Southbound 2 trains are proceeding after we mo...            3   \n",
       "3      Southbound 2 trains are delayed while we inves...            3   \n",
       "4      Wakefield-bound 2 trains have resumed stopping...            3   \n",
       "...                                                  ...          ...   \n",
       "67181  Times Sq-bound 7 trains operating on normal ro...            5   \n",
       "67182  4 train service has resumed with residual delays.            4   \n",
       "67183  BK-bound. 4 train express Burnside Av to 125 S...            4   \n",
       "67184  Both directions. 4 train susp btwn Burnside Av...            4   \n",
       "67185  BK-bound. 4 train via express track Burnside A...            4   \n",
       "\n",
       "       rush_hour  weekend  2  brooklyn  queens  bronx  manhattan  \n",
       "0              0        0  1         0       0      1          0  \n",
       "1              0        0  1         0       0      1          0  \n",
       "2              0        0  1         0       0      1          0  \n",
       "3              0        0  1         0       0      1          0  \n",
       "4              0        0  1         0       0      1          0  \n",
       "...          ...      ... ..       ...     ...    ...        ...  \n",
       "67181          0        1  0         0       1      0          0  \n",
       "67182          0        0  0         0       0      1          0  \n",
       "67183          0        0  0         0       0      1          0  \n",
       "67184          0        0  0         0       0      1          0  \n",
       "67185          0        0  0         0       0      1          0  \n",
       "\n",
       "[67186 rows x 11 columns]"
      ]
     },
     "execution_count": 28,
     "metadata": {},
     "output_type": "execute_result"
    }
   ],
   "source": [
    "df"
   ]
  },
  {
   "cell_type": "code",
   "execution_count": 29,
   "metadata": {
    "ExecuteTime": {
     "end_time": "2021-10-19T14:18:27.957229Z",
     "start_time": "2021-10-19T14:18:27.640703Z"
    }
   },
   "outputs": [],
   "source": [
    "df.to_csv('modeling_data.csv')"
   ]
  }
 ],
 "metadata": {
  "kernelspec": {
   "display_name": "Python 3",
   "language": "python",
   "name": "python3"
  },
  "language_info": {
   "codemirror_mode": {
    "name": "ipython",
    "version": 3
   },
   "file_extension": ".py",
   "mimetype": "text/x-python",
   "name": "python",
   "nbconvert_exporter": "python",
   "pygments_lexer": "ipython3",
   "version": "3.8.5"
  },
  "toc": {
   "base_numbering": 1,
   "nav_menu": {},
   "number_sections": true,
   "sideBar": true,
   "skip_h1_title": false,
   "title_cell": "Table of Contents",
   "title_sidebar": "Contents",
   "toc_cell": false,
   "toc_position": {},
   "toc_section_display": true,
   "toc_window_display": false
  }
 },
 "nbformat": 4,
 "nbformat_minor": 4
}
