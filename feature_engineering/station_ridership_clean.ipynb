{
 "cells": [
  {
   "cell_type": "code",
   "execution_count": 1,
   "metadata": {
    "ExecuteTime": {
     "end_time": "2021-11-04T04:03:58.282334Z",
     "start_time": "2021-11-04T04:03:57.973190Z"
    }
   },
   "outputs": [],
   "source": [
    "import pandas as pd\n",
    "import pickle as pkl"
   ]
  },
  {
   "cell_type": "code",
   "execution_count": 2,
   "metadata": {
    "ExecuteTime": {
     "end_time": "2021-11-04T04:03:58.298207Z",
     "start_time": "2021-11-04T04:03:58.283335Z"
    }
   },
   "outputs": [],
   "source": [
    "df = pd.read_csv('data/rider_total.csv')"
   ]
  },
  {
   "cell_type": "code",
   "execution_count": 3,
   "metadata": {
    "ExecuteTime": {
     "end_time": "2021-11-04T04:03:58.405213Z",
     "start_time": "2021-11-04T04:03:58.300185Z"
    }
   },
   "outputs": [
    {
     "data": {
      "text/plain": [
       "Index(['Station (alphabetical by borough)', 'Boro', '2015.00', '2016.00',\n",
       "       '2017.00', '2018.00', '2019.00', '2020.00'],\n",
       "      dtype='object')"
      ]
     },
     "execution_count": 3,
     "metadata": {},
     "output_type": "execute_result"
    }
   ],
   "source": [
    "df.columns"
   ]
  },
  {
   "cell_type": "code",
   "execution_count": 4,
   "metadata": {
    "ExecuteTime": {
     "end_time": "2021-11-04T04:03:58.420723Z",
     "start_time": "2021-11-04T04:03:58.405721Z"
    }
   },
   "outputs": [],
   "source": [
    "df.rename({'Station (alphabetical by borough)':'station','Boro':'boro','2015.00':'2015',\n",
    "          '2016.00':'2016','2017.00':'2017','2018.00':'2018','2019.00':'2019','2020.00':'2020'},axis=1,inplace=True)"
   ]
  },
  {
   "cell_type": "code",
   "execution_count": 5,
   "metadata": {
    "ExecuteTime": {
     "end_time": "2021-11-04T04:03:58.436044Z",
     "start_time": "2021-11-04T04:03:58.421723Z"
    }
   },
   "outputs": [],
   "source": [
    "df['mean'] = (df['2015'] + df['2016'] + df['2017'] + df['2018'] + df['2019'] + df['2020'])/5"
   ]
  },
  {
   "cell_type": "code",
   "execution_count": 6,
   "metadata": {
    "ExecuteTime": {
     "end_time": "2021-11-04T04:03:58.452049Z",
     "start_time": "2021-11-04T04:03:58.437045Z"
    }
   },
   "outputs": [],
   "source": [
    "df['station'] = df['station'].str.replace(',','/')"
   ]
  },
  {
   "cell_type": "code",
   "execution_count": 7,
   "metadata": {
    "ExecuteTime": {
     "end_time": "2021-11-04T04:03:58.467270Z",
     "start_time": "2021-11-04T04:03:58.453049Z"
    }
   },
   "outputs": [],
   "source": [
    "df.to_csv('data/ridership.csv')"
   ]
  }
 ],
 "metadata": {
  "kernelspec": {
   "display_name": "Python (mta_env)",
   "language": "python",
   "name": "mta_env"
  },
  "language_info": {
   "codemirror_mode": {
    "name": "ipython",
    "version": 3
   },
   "file_extension": ".py",
   "mimetype": "text/x-python",
   "name": "python",
   "nbconvert_exporter": "python",
   "pygments_lexer": "ipython3",
   "version": "3.9.7"
  },
  "toc": {
   "base_numbering": 1,
   "nav_menu": {},
   "number_sections": true,
   "sideBar": true,
   "skip_h1_title": false,
   "title_cell": "Table of Contents",
   "title_sidebar": "Contents",
   "toc_cell": false,
   "toc_position": {},
   "toc_section_display": true,
   "toc_window_display": false
  }
 },
 "nbformat": 4,
 "nbformat_minor": 4
}
