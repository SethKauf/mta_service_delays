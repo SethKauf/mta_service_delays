{
 "cells": [
  {
   "cell_type": "code",
   "execution_count": null,
   "metadata": {},
   "outputs": [],
   "source": [
    "col = [       '103 st (1)', '103 st (6)', '103 st-corona plza (7)', '110 st (6)', '111 st (7)', '116 st (2/3)', '116 st (6)',\n",
    "              '116 st-columbia (1)', '125 st (2/3)', '125 st (4/5/6)', '135 st (2/3)', '137 st-city clg (1)', '138 st-grand concourse (4/5)',\n",
    "              '14 st-7 av (1/2/3/F/L/M)', '14 st-union sq (4/5/6/L/N/Q/R/W)', '145 st (1)', '145 st (3)', '149 st-grand concourse (2/4/5)',\n",
    "             '157 st (1)', '161 st-yankee stdm (4/B/D)', '167 st (4)', '168 st-broadway (1/A/C)', '170 st (4)', '174 st (2/5)',\n",
    "               '176 st (6)',\n",
    "              '18 st (1)', '181 st (1)', '183 st (4)', '191 st (1)', '207 st (1)', '215 st (1)', '219 st (2/5)', '225 st (2/5)', '23 st (1)',\n",
    "              '23 st (6)',\n",
    "       \n",
    "       '231 st (1)', '233 st (2/5)', '238 st (1)', '28 st (1)', '28 st (6)', '3 av-138 st (6)', '3 av-149 st (2/5)',\n",
    "             '33 st (6)', '33 st-rawson st (7)', '34 st-hudson yd (7)', '34 st-penn sta (1/2/3/A/C/E)', '40 st-lowery st (7)',\n",
    "             '42 st bryant pk-5 av (B/D/F/M/7)','46 st-bliss st (7)', '50 st (1)', '51 st (6)', '52 st-lincoln (7)',\n",
    "             '59 st (4/5/6/N/Q/R/W)','59 st-columbus cr (1/A/B/C/D)', '61 st-woodside (7)', '66 st-lincoln ctr (1)',\n",
    "             '68 st-hunter clg (6)','69 st-fisk av (7)', '72 st (1/2/3)', '74 st-broadway (4/5/6/N/L/Q/R)', '77 st (6)',\n",
    "       \n",
    "             '79 st (1)','82 st-jackson hts (7)', '86 st (1)', '86 st (4/5/6)', '90 st-elmhurst (7)', '96 st (1/2/3)',\n",
    "       \n",
    "             '96 st (6)','allerton av (2/5)', 'astor pl (6)', 'atlantic av-barclays ctr (2/3/4/5/B/D/N/Q/R)',\n",
    "              'baychester av (5)', 'bedford pk blvd (4)', 'bergen st (2/3)', 'beverly rd (2/5)','broadway-lafayette/bleecker st (6/B/D/F/Q)',\n",
    "             'borough hall-court st (2/3/4/5/R)', 'bowling green (4/5)','bronx pk east (2/5)',\n",
    "             'brook av (6)',  'brooklyn bridge-city hall (4/5/6/J/Z)', 'buhre av (6)', 'burke av (2/5)',\n",
    "             'burnside av (4)', 'canal st (1)', 'canal st (6/J/N/Q/R)', 'castle hill av (6)', 'cathedral pkwy-110 st (1)',\n",
    "             'chambers st (1/2/3/)','christopher st (1)', 'church av (2/5)', 'clark st (2/3)',  'court sq (7)', 'crown hts-utica av (3/4)',\n",
    "             'ctl park n-110 st (2/3)', 'cypress av (6)',  'dyckman st (1)', 'e 143 st (6)', 'e 149 st (6)', 'e 180 st (2/5)', \n",
    "       'eastchester dyre av (5)', 'eastern pkwy (2/3)', 'elder av (6)',\n",
    "              'flatbush av-bk clg (2/5)', 'flushing-main st (7)','fordham rd (4)', 'franklin av (2/3/4/5/S)', 'franklin st (1)',\n",
    "       'freeman st (2/5)','fulton st (2/3/4/5/A/C/J/Z)',\n",
    "             'grand army plza (2/3)', 'grand ctl-42 st (4/5/6/7)', 'gun hill rd (2/5)', 'gun hill rd (5)', 'harlem-148 st (3)',\n",
    "              'houston st (1)', 'hoyt st (2/3)', 'hunters pt (7)', 'hunts pt av (6)', 'intervale av (2/5)',\n",
    "             'jackson av (2/5)', 'junction blvd (7)', 'junius st (3)', 'kingsbridge rd (4)', 'kingston av (4)',\n",
    "             'longwood av (6)', 'marble hill-225 st (1)', 'mets-willets pt (7)', 'middletown rd (6)',  'morris pk (5)',\n",
    "              'morrison av (6)', 'moshulu pkwy (4)', 'mt eden av (4)', 'nereid av (2/5)', \n",
    "             'nevins st (2/3/4/5)', 'new lots av (3)', 'newkirk av (2/5)', 'nostrand av (3)', 'park pl (2/3/A/C)',\n",
    "             'parkchester (6)', 'pelham bay pk (6)', 'pelham pkwy (2/5)', 'pelham pkwy (5)', 'pennsylvania av (3)',\n",
    "             'president st (2/5)', 'prospect av (2/5)',  'queensboro plza (7/N/Q/W)', 'rector st (1)',\n",
    "              'rockaway av (3)',  'saratoga av (3)', 'simpson st (2/5)', \n",
    "             'south ferry (1/R/W)', 'spring st (6)', 'st lawrence av (6)', 'sterling st (2/5)', \n",
    "             'sutter av (3)',  'times sq-42 st (1/2/3/7/A/C/E/N/Q/R/S)', 'van cortlandt park-242 st (1)',\n",
    "             'van siclen av (3)', 'vernon-jackson (7)', 'wakefield-241 st (2)', 'wall st (2/3)', 'wall st (4/5)',\n",
    "              'west farm sq-e tremont (2/5)', 'westchester sq (6)', 'whitlock av (6)', 'winthrop st (2/5)',\n",
    "              'woodlawn (4)', 'zerega av (6)']"
   ]
  }
 ],
 "metadata": {
  "kernelspec": {
   "display_name": "Python 3",
   "language": "python",
   "name": "python3"
  },
  "language_info": {
   "codemirror_mode": {
    "name": "ipython",
    "version": 3
   },
   "file_extension": ".py",
   "mimetype": "text/x-python",
   "name": "python",
   "nbconvert_exporter": "python",
   "pygments_lexer": "ipython3",
   "version": "3.8.5"
  },
  "toc": {
   "base_numbering": 1,
   "nav_menu": {},
   "number_sections": true,
   "sideBar": true,
   "skip_h1_title": false,
   "title_cell": "Table of Contents",
   "title_sidebar": "Contents",
   "toc_cell": false,
   "toc_position": {},
   "toc_section_display": true,
   "toc_window_display": false
  }
 },
 "nbformat": 4,
 "nbformat_minor": 4
}
