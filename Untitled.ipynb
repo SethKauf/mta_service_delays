{
 "cells": [
  {
   "cell_type": "code",
   "execution_count": null,
   "metadata": {},
   "outputs": [],
   "source": [
    "st_1 = stations.loc[stations['subject'].str.contains(' 1 ')]\n",
    "st_2 = stations.loc[stations['subject'].str.contains(' 2 ')]\n",
    "st_3 = stations.loc[stations['subject'].str.contains(' 3 ')]\n",
    "st_4 = stations.loc[stations['subject'].str.contains(' 4 ')]\n",
    "st_5 = stations.loc[stations['subject'].str.contains(' 5 ')]\n",
    "st_6 = stations.loc[stations['subject'].str.contains(' 6 ')]\n",
    "st_7 = stations.loc[stations['subject'].str.contains(' 7 ')]\n",
    "st_42 = stations.loc[stations['subj_lower'].str.contains('42 st s|42 street s')]\n",
    "st_a = stations.loc[stations['subject'].str.contains(' A ')]\n",
    "st_b = stations.loc[stations['subject'].str.contains(' B ')]\n",
    "st_c = stations.loc[stations['subject'].str.contains(' C ')]\n",
    "st_d = stations.loc[stations['subject'].str.contains(' D ')]\n",
    "st_e = stations.loc[stations['subject'].str.contains(' E ')]\n",
    "st_f = stations.loc[stations['subject'].str.contains(' F ')]\n",
    "st_g = stations.loc[stations['subject'].str.contains(' G ')]\n",
    "st_j = stations.loc[stations['subject'].str.contains(' J ')]\n",
    "st_l = stations.loc[stations['subject'].str.contains(' L ')]\n",
    "st_m = stations.loc[stations['subject'].str.contains(' M ')]\n",
    "st_n = stations.loc[stations['subject'].str.contains(' N ')]\n",
    "st_q = stations.loc[stations['subject'].str.contains(' Q ')]\n",
    "st_r = stations.loc[stations['subject'].str.contains(' R ')]\n",
    "st_w = stations.loc[stations['subject'].str.contains(' W ')]\n",
    "st_z = stations.loc[stations['subject'].str.contains(' Z ')]\n",
    "st_frnk = stations.loc[stations['subj_lower'].str.contains('franklin av s')]\n",
    "st_rck = stations.loc[stations['subj_lower'].str.contains('rockaway park s')]\n",
    "\n",
    "st_25 = df.loc[(df['subject'].str.contains(' 2 '))&(df['subject'].str.contains(' 5 '))].index\n",
    "\n",
    "st_5n2 = stations.loc[~stations['subject'].str.contains(' 2 ')]\n",
    "st_5n2 = st_5n2.loc[st_5n2['subject'].str.contains(' 5 ')]\n",
    "\n",
    "st_bde = stations.loc[(stations['subject'].str.contains(' B ')) & (stations['subject'].str.contains(' D '))\n",
    "                & (stations['subject'].str.contains(' E '))]\n",
    "\n",
    "st_ce = stations.loc[(stations['subject'].str.contains(' C ')) & (stations['subject'].str.contains(' E '))]\n",
    "\n",
    "st_egm7 = stations.loc[(stations['subject'].str.contains(' E ')) & (stations['subject'].str.contains(' G '))\n",
    "                 &(stations['subject'].str.contains(' M ')) & (stations['subj_lower'].str.contains(' 7 '))]\n",
    "\n",
    "stations_bq = stations.loc[(stations['subject'].str.contains(' B ')) & (stations['subject'].str.contains(' Q '))]\n",
    "stations_nr = stations.loc[(stations['subject'].str.contains(' N ')) & (stations['subject'].str.contains(' R '))]\n",
    "stations_fgr = stations.loc[(stations['subject'].str.contains(' F ')) & (stations['subject'].str.contains(' G '))\n",
    "                      & (stations['subject'].str.contains(' R '))]\n",
    "\n",
    "stations_em6 = stations.loc[(stations['subject'].str.contains(' E ')) & (stations['subject'].str.contains(' M '))\n",
    "                      & (stations['subj_lower'].str.contains(' 6 '))]\n",
    "\n",
    "stations_fg = stations.loc[(stations['subject'].str.contains(' F ')) & (stations['subject'].str.contains(' G '))]"
   ]
  },
  {
   "cell_type": "code",
   "execution_count": 1,
   "metadata": {
    "ExecuteTime": {
     "end_time": "2021-11-09T00:44:35.689500Z",
     "start_time": "2021-11-09T00:44:35.171333Z"
    }
   },
   "outputs": [],
   "source": [
    "import pickle as pkl\n",
    "import pandas as pd"
   ]
  },
  {
   "cell_type": "code",
   "execution_count": 2,
   "metadata": {
    "ExecuteTime": {
     "end_time": "2021-11-09T00:44:48.522402Z",
     "start_time": "2021-11-09T00:44:48.512405Z"
    }
   },
   "outputs": [],
   "source": [
    "df_r = pd.read_csv('data/ridership.csv')"
   ]
  },
  {
   "cell_type": "code",
   "execution_count": 3,
   "metadata": {
    "ExecuteTime": {
     "end_time": "2021-11-09T00:45:00.626548Z",
     "start_time": "2021-11-09T00:45:00.619547Z"
    }
   },
   "outputs": [],
   "source": [
    "line_1 = df_r.loc[df_r['station'].str.contains('\\(1\\)|1/')]\n",
    "line_1_st = list(line_1['station'])"
   ]
  },
  {
   "cell_type": "markdown",
   "metadata": {},
   "source": [
    "## Stations placeholder"
   ]
  },
  {
   "cell_type": "markdown",
   "metadata": {},
   "source": [
    "### IRT"
   ]
  },
  {
   "cell_type": "code",
   "execution_count": null,
   "metadata": {},
   "outputs": [],
   "source": [
    "stations_1 = ['van cortlandt','cortlandt','242','238','231','225','marble hill','215','207','dyckman',\n",
    "              '191','181','168','157 st','145 st','137','125','116 st','columbia u',\n",
    "              '110','cathedral pk','cathedral park','103','96','86','79','72','66','59', 'columbus',\n",
    "              '50','times sq','42','34','penn sta','28 st','23 st','18 st','14 st','christopher st','houston st',\n",
    "              'canal','franklin st','chambers st','wtc','rector st','south f']\n",
    "\n",
    "\"\"\"\n",
    "Van Cortlandt and 242 St are the same\n",
    "\n",
    "225 st and marble hill are the same\n",
    "\n",
    "116 st and columbia u are the same\n",
    "\n",
    "110 st, cathedral pk and cathedral park are the same\n",
    "\n",
    "59 st and columbus are the same\n",
    "\n",
    "times sq and 42 st are the same\n",
    "\n",
    "34 st and penn sta are the same\n",
    "\n",
    "ferry, south f and south ferry are the same\n",
    "\"\"\""
   ]
  },
  {
   "cell_type": "code",
   "execution_count": 9,
   "metadata": {
    "ExecuteTime": {
     "end_time": "2021-11-09T04:19:46.025590Z",
     "start_time": "2021-11-09T04:19:46.007582Z"
    }
   },
   "outputs": [
    {
     "data": {
      "text/plain": [
       "'\\n241 st and wakefield are the same\\n\\nwest farms sq and e tremont are the same\\n\\n3 av- and 3 av - are same (3 av-149 st)\\n\\n149 st-grand concourse, 149 st - grand concourse, 149 st grand concourse, and grand co are the same\\n\\ncentral p and 110 st are the same\\n\\ntimes sq and 42 st are the same\\n\\n34 st and penn sta are the same\\n\\neastern p and museum are the same\\n\\nflatbush av and brooklyn c are the same\\n\\n'"
      ]
     },
     "execution_count": 9,
     "metadata": {},
     "output_type": "execute_result"
    }
   ],
   "source": [
    "stations_2 = ['241','wakefield', 'nereid','233','225','219','gun hill','burke av','allerton av','pelham p','bx park e',\n",
    "              'e 180','174','freeman','simpson','intervale av','prospect av','jackson','west farms', 'e tremont',\n",
    "              'grand co','149 st-grand c', '149 st - grand c', '149 st grand c',\n",
    "              '135','125','116','central p', '110','96','72','times sq','42','34', '3 av-', '3 av -',\n",
    "              'penn sta','14 st','chambers','park pl','fulton','wall st','clark','borough hall','hoyt','nevins','atlantic av',\n",
    "              'bergen st','grand army','eastern p','museum', 'franklin av', 'president st','sterling st',\n",
    "              'winthrop st','church','beverly','newkirk av','flatbush av']\n",
    "\n",
    "\"\"\"\n",
    "241 st and wakefield are the same\n",
    "\n",
    "west farms sq and e tremont are the same\n",
    "\n",
    "3 av- and 3 av - are same (3 av-149 st)\n",
    "\n",
    "149 st-grand c, 149 st - grand c, 149 st grand c, and grand co are the same\n",
    "\n",
    "central p and 110 st are the same\n",
    "\n",
    "times sq and 42 st are the same\n",
    "\n",
    "34 st and penn sta are the same\n",
    "\n",
    "eastern p and museum are the same\n",
    "\n",
    "flatbush av and brooklyn c are the same\n",
    "\n",
    "\"\"\""
   ]
  },
  {
   "cell_type": "code",
   "execution_count": 10,
   "metadata": {
    "ExecuteTime": {
     "end_time": "2021-11-09T04:19:46.614077Z",
     "start_time": "2021-11-09T04:19:46.603074Z"
    }
   },
   "outputs": [
    {
     "data": {
      "text/plain": [
       "['110',\n",
       " '116',\n",
       " '125',\n",
       " '135',\n",
       " '14 st',\n",
       " '149 st - grand concourse',\n",
       " '149 st grand concourse',\n",
       " '149 st-grand concourse',\n",
       " '174',\n",
       " '219',\n",
       " '225',\n",
       " '233',\n",
       " '241',\n",
       " '3 av -',\n",
       " '3 av-',\n",
       " '34',\n",
       " '42',\n",
       " '72',\n",
       " '96',\n",
       " 'allerton av',\n",
       " 'atlantic av',\n",
       " 'bergen st',\n",
       " 'beverly',\n",
       " 'borough hall',\n",
       " 'burke av',\n",
       " 'bx park e',\n",
       " 'central p',\n",
       " 'chambers',\n",
       " 'church',\n",
       " 'clark',\n",
       " 'e 180',\n",
       " 'e tremont',\n",
       " 'eastern p',\n",
       " 'flatbush av',\n",
       " 'franklin av',\n",
       " 'freeman',\n",
       " 'fulton',\n",
       " 'grand army',\n",
       " 'grand co',\n",
       " 'gun hill',\n",
       " 'hoyt',\n",
       " 'intervale av',\n",
       " 'jackson',\n",
       " 'museum',\n",
       " 'nereid',\n",
       " 'nevins',\n",
       " 'newkirk av',\n",
       " 'park pl',\n",
       " 'pelham p',\n",
       " 'penn sta',\n",
       " 'president st',\n",
       " 'prospect av',\n",
       " 'simpson',\n",
       " 'sterling st',\n",
       " 'times sq',\n",
       " 'wakefield',\n",
       " 'wall st',\n",
       " 'west farms',\n",
       " 'winthrop st']"
      ]
     },
     "execution_count": 10,
     "metadata": {},
     "output_type": "execute_result"
    }
   ],
   "source": [
    "sorted(stations_2)[:]"
   ]
  },
  {
   "cell_type": "code",
   "execution_count": 1,
   "metadata": {
    "ExecuteTime": {
     "end_time": "2021-11-09T15:16:32.991727Z",
     "start_time": "2021-11-09T15:16:32.872744Z"
    }
   },
   "outputs": [
    {
     "data": {
      "text/plain": [
       "'\\n148 st and harlem are the same\\n\\ncentral p and 110 st are the same\\n\\ntimes sq and 42 st are the same\\n\\n34 st and penn sta are the same\\n\\neastern p and museum are the same\\n\\ncrown heights, crown hts and utica av are the same\\n\\n'"
      ]
     },
     "execution_count": 1,
     "metadata": {},
     "output_type": "execute_result"
    }
   ],
   "source": [
    "stations_3 = ['148', 'harlem','145','135','125','116','central p', '110 st','96','72','times sq','42',\n",
    "              '34','penn sta','14 st','chambers','park pl','fulton','wall st','clark','borough hall',\n",
    "              'hoyt','nevins','atlantic av', 'bergen st','grand army','eastern p', 'museum','franklin av',\n",
    "              'nostrand av','kingston av','crown heights','sutter av', 'utica av'\n",
    "             'saratoga av','rockaway av','junius st','pennsylvania av','van siclen','new lots']\n",
    "\n",
    "\"\"\"\n",
    "148 st and harlem are the same\n",
    "\n",
    "central p and 110 st are the same\n",
    "\n",
    "times sq and 42 st are the same\n",
    "\n",
    "34 st and penn sta are the same\n",
    "\n",
    "eastern p and museum are the same\n",
    "\n",
    "crown heights, crown hts and utica av are the same\n",
    "\n",
    "\"\"\""
   ]
  },
  {
   "cell_type": "code",
   "execution_count": 3,
   "metadata": {
    "ExecuteTime": {
     "end_time": "2021-11-09T15:16:42.349740Z",
     "start_time": "2021-11-09T15:16:42.334737Z"
    }
   },
   "outputs": [
    {
     "data": {
      "text/plain": [
       "['110 st',\n",
       " '116',\n",
       " '125',\n",
       " '135',\n",
       " '14 st',\n",
       " '145',\n",
       " '148',\n",
       " '34',\n",
       " '42',\n",
       " '72',\n",
       " '96',\n",
       " 'atlantic av',\n",
       " 'bergen st',\n",
       " 'borough hall',\n",
       " 'central p',\n",
       " 'chambers',\n",
       " 'clark',\n",
       " 'crown heights',\n",
       " 'eastern p',\n",
       " 'franklin av',\n",
       " 'fulton',\n",
       " 'grand army',\n",
       " 'harlem',\n",
       " 'hoyt',\n",
       " 'junius st',\n",
       " 'kingston av',\n",
       " 'museum',\n",
       " 'nevins',\n",
       " 'new lots',\n",
       " 'nostrand av',\n",
       " 'park pl',\n",
       " 'penn sta',\n",
       " 'pennsylvania av',\n",
       " 'rockaway av',\n",
       " 'saratoga av',\n",
       " 'sutter av',\n",
       " 'times sq',\n",
       " 'van siclen',\n",
       " 'wall st']"
      ]
     },
     "execution_count": 3,
     "metadata": {},
     "output_type": "execute_result"
    }
   ],
   "source": [
    "sorted(stations_3)[:]"
   ]
  },
  {
   "cell_type": "code",
   "execution_count": 12,
   "metadata": {
    "ExecuteTime": {
     "end_time": "2021-11-09T19:40:14.336561Z",
     "start_time": "2021-11-09T19:40:14.330056Z"
    }
   },
   "outputs": [
    {
     "data": {
      "text/plain": [
       "'\\nmt eden and mount eden are same\\n\\n149 st-grand concourse, 149 st - grand concourse, 149 st grand concourse are same\\n\\n138 st-grand concourse and 138 st - grand concourse are same\\n\\ngrand central and 42 st are the same\\n\\n14 st and union sq are the same\\n\\ncrown heights, crown hts and utica av are same\\n\\nbrooklyn br, city h, and bklyn br are the same\\n\\n'"
      ]
     },
     "execution_count": 12,
     "metadata": {},
     "output_type": "execute_result"
    }
   ],
   "source": [
    "stations_4 = ['woodlawn','moshulu','bedford p', 'kingsbridge','fordham','183','burnside','176',\n",
    "             'mt eden', 'mount eden', '170','167','161','125','86','59','grand central','utica av'\n",
    "              '42', '14 st','union sq','bklyn br','fulton','wall st','149','138','brooklyn br', 'city h',\n",
    "              'bowling green','borough hall','nevins','atlantic av','franklin av','crown heights','lexington']\n",
    "\n",
    "\"\"\"\n",
    "mt eden and mount eden are same\n",
    "\n",
    "149 st-grand concourse, 149 st - grand concourse, 149 st grand concourse are same\n",
    "\n",
    "138 st-grand concourse and 138 st - grand concourse are same\n",
    "\n",
    "grand central and 42 st are the same\n",
    "\n",
    "14 st and union sq are the same\n",
    "\n",
    "crown heights, crown hts and utica av are same\n",
    "\n",
    "brooklyn br, city h, and bklyn br are the same\n",
    "\n",
    "\"\"\""
   ]
  },
  {
   "cell_type": "code",
   "execution_count": 13,
   "metadata": {
    "ExecuteTime": {
     "end_time": "2021-11-09T19:40:15.143823Z",
     "start_time": "2021-11-09T19:40:15.138666Z"
    }
   },
   "outputs": [
    {
     "data": {
      "text/plain": [
       "['125',\n",
       " '138',\n",
       " '14 st',\n",
       " '149',\n",
       " '161',\n",
       " '167',\n",
       " '170',\n",
       " '176',\n",
       " '183',\n",
       " '59',\n",
       " '86',\n",
       " 'atlantic av',\n",
       " 'bedford p',\n",
       " 'bklyn br',\n",
       " 'borough hall',\n",
       " 'bowling green',\n",
       " 'brooklyn br',\n",
       " 'burnside',\n",
       " 'city h',\n",
       " 'crown heights',\n",
       " 'fordham',\n",
       " 'franklin av',\n",
       " 'fulton',\n",
       " 'grand central',\n",
       " 'kingsbridge',\n",
       " 'lexington',\n",
       " 'moshulu',\n",
       " 'mount eden',\n",
       " 'mt eden',\n",
       " 'nevins',\n",
       " 'union sq',\n",
       " 'utica av42',\n",
       " 'wall st',\n",
       " 'woodlawn']"
      ]
     },
     "execution_count": 13,
     "metadata": {},
     "output_type": "execute_result"
    }
   ],
   "source": [
    "sorted(stations_4)[:]"
   ]
  },
  {
   "cell_type": "code",
   "execution_count": 16,
   "metadata": {
    "ExecuteTime": {
     "end_time": "2021-11-09T23:11:11.344347Z",
     "start_time": "2021-11-09T23:11:11.338246Z"
    }
   },
   "outputs": [
    {
     "data": {
      "text/plain": [
       "'\\nwest farms and e tremont are the same\\n\\n3 av- and 3 av - are same (3 av-149 st)\\n\\n149 st-grand concourse, 149 st - grand concourse, 149 st grand concourse are same\\n\\n138 st, 138 st-grand concourse and 138 st - grand concourse are the same\\n\\ngrand central and 42 st are the same\\n\\natlantic av and barclays are same\\n\\n4/5/6 59 st is different from 1 59 st columbus circle\\n\\nflatbush av and brooklyn c are the same\\n\\ngun hill rd and pelham pkwy have to be done separately\\n\\nbrooklyn br, city h, and bklyn br are the same\\n\\n'"
      ]
     },
     "execution_count": 16,
     "metadata": {},
     "output_type": "execute_result"
    }
   ],
   "source": [
    "stations_5 = ['eastchester','baychester','morris p','e 180','west farms','e tremont','174','freeman',\n",
    "             'simpson','intervale av','prospect av','jackson','3 av-149','nereid','233',\n",
    "              '149 st-grand c', '149 st - grand c', '149 st grand c','brooklyn br', 'city h',\n",
    "              '225','219','burke av','allerton av','bronx p','138','138 st-grand c', '138 st - grand c',\n",
    "             '125','86 st','59','grand central','42 st','14 st','union sq','bklyn br','fulton','wall st',\n",
    "             'bowling green','borough hall','nevins','atlantic av','franklin av','president st',\n",
    "              'sterling','winthrop','church','beverly','newkirk av','flatbush av','lexington']\n",
    "\n",
    "\"\"\"\n",
    "west farms and e tremont are the same\n",
    "\n",
    "3 av- and 3 av - are same (3 av-149 st)\n",
    "\n",
    "149 st-grand concourse, 149 st - grand concourse, 149 st grand concourse are same\n",
    "\n",
    "138 st, 138 st-grand concourse and 138 st - grand concourse are the same\n",
    "\n",
    "grand central and 42 st are the same\n",
    "\n",
    "atlantic av and barclays are same\n",
    "\n",
    "4/5/6 59 st is different from 1 59 st columbus circle\n",
    "\n",
    "flatbush av and brooklyn c are the same\n",
    "\n",
    "gun hill rd and pelham pkwy have to be done separately\n",
    "\n",
    "brooklyn br, city h, and bklyn br are the same\n",
    "\n",
    "\"\"\""
   ]
  },
  {
   "cell_type": "code",
   "execution_count": 17,
   "metadata": {
    "ExecuteTime": {
     "end_time": "2021-11-09T23:11:12.658472Z",
     "start_time": "2021-11-09T23:11:12.649829Z"
    }
   },
   "outputs": [
    {
     "data": {
      "text/plain": [
       "['125',\n",
       " '138',\n",
       " '138 st - grand c',\n",
       " '138 st-grand c',\n",
       " '14 st',\n",
       " '149 st - grand c',\n",
       " '149 st grand c',\n",
       " '149 st-grand c',\n",
       " '174',\n",
       " '219',\n",
       " '225',\n",
       " '233',\n",
       " '3 av-149',\n",
       " '42 st',\n",
       " '59',\n",
       " '86 st',\n",
       " 'allerton av',\n",
       " 'atlantic av',\n",
       " 'baychester',\n",
       " 'beverly',\n",
       " 'bklyn br',\n",
       " 'borough hall',\n",
       " 'bowling green',\n",
       " 'bronx p',\n",
       " 'brooklyn br',\n",
       " 'burke av',\n",
       " 'church',\n",
       " 'city h',\n",
       " 'e 180',\n",
       " 'e tremont',\n",
       " 'eastchester',\n",
       " 'flatbush av',\n",
       " 'franklin av',\n",
       " 'freeman',\n",
       " 'fulton',\n",
       " 'grand central',\n",
       " 'intervale av',\n",
       " 'jackson',\n",
       " 'lexington',\n",
       " 'morris p',\n",
       " 'nereid',\n",
       " 'nevins',\n",
       " 'newkirk av',\n",
       " 'president st',\n",
       " 'prospect av',\n",
       " 'simpson',\n",
       " 'sterling',\n",
       " 'union sq',\n",
       " 'wall st',\n",
       " 'west farms',\n",
       " 'winthrop']"
      ]
     },
     "execution_count": 17,
     "metadata": {},
     "output_type": "execute_result"
    }
   ],
   "source": [
    "sorted(stations_5)"
   ]
  },
  {
   "cell_type": "code",
   "execution_count": null,
   "metadata": {},
   "outputs": [],
   "source": [
    "stations_25 = ['gun hill']\n",
    "stations_5n2 = ['gun hill']"
   ]
  },
  {
   "cell_type": "code",
   "execution_count": 20,
   "metadata": {
    "ExecuteTime": {
     "end_time": "2021-11-09T23:35:18.304512Z",
     "start_time": "2021-11-09T23:35:18.288508Z"
    }
   },
   "outputs": [
    {
     "data": {
      "text/plain": [
       "'\\nwestchester and e tremont are the same\\n\\n3 av 138 st,3 av-138 st, 3 av - 138 st, 3 av- 138 st, and 3 av -138 st are same\\n\\n14 st and union sq are the same\\n\\ndifferent 96 from 1/2/3\\n\\ndifferent 86 from 1\\n\\ndifferent 28 from 1\\n\\ndifferent 23 from 1\\n\\ndifferent canal from 1\\n\\ne tremont and east tremont are the same\\n\\ne 143 and east 143 are the same\\n\\ne 149 and east 149 are the same\\n\\n53 st in stations_em6\\n'"
      ]
     },
     "execution_count": 20,
     "metadata": {},
     "output_type": "execute_result"
    }
   ],
   "source": [
    "stations_6 = ['pelham b','buhre','middletown','westchester','e tremont','east tremont','zerega','castle hill','parkchester',\n",
    "              'st lawrence','morrison','elder','whitlock','hunts p','longwood av','east 149','e 149',\n",
    "              'east 143','e 143','cypress','brook', '3 av-138','3 av 138','125','116','110', '103','96','42',\n",
    "              '86 st','77','68','59','51','bleecker','broadway','lafay','bway','grand central','33','28 st',\n",
    "              '23 st','14 st','union sq','astor','bleeker','spring st','canal','bklyn br']\n",
    "\n",
    "\"\"\"\n",
    "westchester and e tremont are the same\n",
    "\n",
    "3 av 138 st,3 av-138 st, 3 av - 138 st, 3 av- 138 st, and 3 av -138 st are same\n",
    "\n",
    "14 st and union sq are the same\n",
    "\n",
    "different 96 from 1/2/3\n",
    "\n",
    "different 86 from 1\n",
    "\n",
    "different 28 from 1\n",
    "\n",
    "different 23 from 1\n",
    "\n",
    "different canal from 1\n",
    "\n",
    "e tremont and east tremont are the same\n",
    "\n",
    "e 143 and east 143 are the same\n",
    "\n",
    "e 149 and east 149 are the same\n",
    "\n",
    "53 st in stations_em6\n",
    "\"\"\""
   ]
  },
  {
   "cell_type": "code",
   "execution_count": 21,
   "metadata": {
    "ExecuteTime": {
     "end_time": "2021-11-09T23:35:19.567163Z",
     "start_time": "2021-11-09T23:35:19.552159Z"
    }
   },
   "outputs": [
    {
     "data": {
      "text/plain": [
       "['103',\n",
       " '110',\n",
       " '116',\n",
       " '125',\n",
       " '14 st',\n",
       " '23 st',\n",
       " '28 st',\n",
       " '3 av 138',\n",
       " '3 av-138',\n",
       " '33',\n",
       " '42',\n",
       " '51',\n",
       " '59',\n",
       " '68',\n",
       " '77',\n",
       " '86 st',\n",
       " '96',\n",
       " 'astor',\n",
       " 'bklyn br',\n",
       " 'bleecker',\n",
       " 'bleeker',\n",
       " 'broadway',\n",
       " 'brook',\n",
       " 'buhre',\n",
       " 'bway',\n",
       " 'canal',\n",
       " 'castle hill',\n",
       " 'cypress',\n",
       " 'e 143',\n",
       " 'e 149',\n",
       " 'e tremont',\n",
       " 'east 143',\n",
       " 'east 149',\n",
       " 'east tremont',\n",
       " 'elder',\n",
       " 'grand central',\n",
       " 'hunts p',\n",
       " 'lafay',\n",
       " 'longwood av',\n",
       " 'middletown',\n",
       " 'morrison',\n",
       " 'parkchester',\n",
       " 'pelham b',\n",
       " 'spring st',\n",
       " 'st lawrence',\n",
       " 'union sq',\n",
       " 'westchester',\n",
       " 'whitlock',\n",
       " 'zerega']"
      ]
     },
     "execution_count": 21,
     "metadata": {},
     "output_type": "execute_result"
    }
   ],
   "source": [
    "sorted(stations_6)"
   ]
  },
  {
   "cell_type": "code",
   "execution_count": 27,
   "metadata": {
    "ExecuteTime": {
     "end_time": "2021-11-10T01:57:07.352353Z",
     "start_time": "2021-11-10T01:57:07.333521Z"
    }
   },
   "outputs": [
    {
     "data": {
      "text/plain": [
       "'\\n42, bryant and 5 av are the same\\n\\n42 and grand central are the same\\n\\n42 and times sq are the same\\n\\n34 st h, 34 st-h, 34 st- h, 34 st - h are the same\\n\\n40 st and 40 lowery st are the same\\n\\n33 st and rawson are the same\\n\\nqnsboro pl and queensboro pl are the same\\n\\ncourt sq will be in stations_egm7\\n'"
      ]
     },
     "execution_count": 27,
     "metadata": {},
     "output_type": "execute_result"
    }
   ],
   "source": [
    "stations_7 = ['flushing', 'mets','111','103','junction b', '90','82','74','69',\n",
    "             '61','52','46','40','33','rawson','qnsboro pl','queensboro pl','34 st h','34 st-h','34 st- h', 'jackson h',\n",
    "              '34 st - h','hunters p','vernon b','grand central','42','5 av','times sq','bryant','jackson av','roosevelt']\n",
    "\n",
    "\"\"\"\n",
    "42, bryant and 5 av are the same\n",
    "\n",
    "42 and grand central are the same\n",
    "\n",
    "42 and times sq are the same\n",
    "\n",
    "34 st h, 34 st-h, 34 st- h, 34 st - h are the same\n",
    "\n",
    "40 st and 40 lowery st are the same\n",
    "\n",
    "33 st and rawson are the same\n",
    "\n",
    "qnsboro pl and queensboro pl are the same\n",
    "\n",
    "court sq will be in stations_egm7\n",
    "\"\"\""
   ]
  },
  {
   "cell_type": "code",
   "execution_count": 28,
   "metadata": {
    "ExecuteTime": {
     "end_time": "2021-11-10T01:57:07.740255Z",
     "start_time": "2021-11-10T01:57:07.733229Z"
    }
   },
   "outputs": [
    {
     "data": {
      "text/plain": [
       "['103',\n",
       " '111',\n",
       " '33',\n",
       " '34 st - h',\n",
       " '34 st h',\n",
       " '34 st- h',\n",
       " '34 st-h',\n",
       " '40',\n",
       " '42',\n",
       " '46',\n",
       " '5 av',\n",
       " '52',\n",
       " '61',\n",
       " '69',\n",
       " '74',\n",
       " '82',\n",
       " '90',\n",
       " 'bryant',\n",
       " 'flushing',\n",
       " 'grand central',\n",
       " 'hunters p',\n",
       " 'jackson av',\n",
       " 'jackson h',\n",
       " 'junction b',\n",
       " 'mets',\n",
       " 'qnsboro pl',\n",
       " 'queensboro pl',\n",
       " 'rawson',\n",
       " 'roosevelt',\n",
       " 'times sq',\n",
       " 'vernon b']"
      ]
     },
     "execution_count": 28,
     "metadata": {},
     "output_type": "execute_result"
    }
   ],
   "source": [
    "sorted(stations_7)"
   ]
  },
  {
   "cell_type": "code",
   "execution_count": null,
   "metadata": {},
   "outputs": [],
   "source": [
    "stations_42 = ['times sq','grand central','42 st']\n",
    "\n",
    "\"\"\"\n",
    "Both 42 st\n",
    "\"\"\""
   ]
  },
  {
   "cell_type": "markdown",
   "metadata": {},
   "source": [
    "### BMT"
   ]
  },
  {
   "cell_type": "code",
   "execution_count": 29,
   "metadata": {
    "ExecuteTime": {
     "end_time": "2021-11-10T03:46:12.906248Z",
     "start_time": "2021-11-10T03:46:12.780249Z"
    }
   },
   "outputs": [
    {
     "data": {
      "text/plain": [
       "'\\nInwood and 207 are the same\\n\\nDyckman and 200 are the same\\n\\nColumbus and 59 are the same\\n\\nPort Auth and 42 are the same\\n\\nw 4, west 4, wash sq, and washington sq are the same\\n\\nbwy, bdwy j, brdwy j, jctn, junction, and broadway j are the same\\n\\nozone p and lefferts b are the same\\n\\naqueduct n and conduit are the same\\n\\nhoward b and jfk a are the same\\n\\nfar rockaway and mott av are the same\\n\\nrockaway p and beach 116 are the same\\n'"
      ]
     },
     "execution_count": 29,
     "metadata": {},
     "output_type": "execute_result"
    }
   ],
   "source": [
    "stations_a = ['inwood','207', 'dyckman','200', '190','181','175','168','145','125','59','columbus','port auth','42',\n",
    "             '34','penn sta','14 st','w 4','wash sq','west 4','washington sq','canal','chambers','fulton','high',\n",
    "             'jay','hoyt','nostrand','utica','bdwy j','brdwy j','jctn','junction','broadway j','bwy','euclid','grant',\n",
    "             '80','88','rockaway b','104','111','ozone p','lefferts b','aqueduct r','aqueduct n','conduit','howard b',\n",
    "             'jfk a','broad ch','beach 67','beach 60','beach 44','beach 36','beach 25','far rockaway','mott av',\n",
    "             'beach 90','beach 98','beach 105','rockaway p','beach 116']\n",
    "\n",
    "\"\"\"\n",
    "Inwood and 207 are the same\n",
    "\n",
    "Dyckman and 200 are the same\n",
    "\n",
    "Columbus and 59 are the same\n",
    "\n",
    "Port Auth and 42 are the same\n",
    "\n",
    "w 4, west 4, wash sq, and washington sq are the same\n",
    "\n",
    "bwy, bdwy j, brdwy j, jctn, junction, and broadway j are the same\n",
    "\n",
    "ozone p and lefferts b are the same\n",
    "\n",
    "aqueduct n and conduit are the same\n",
    "\n",
    "howard b and jfk a are the same\n",
    "\n",
    "far rockaway and mott av are the same\n",
    "\n",
    "rockaway p and beach 116 are the same\n",
    "\"\"\""
   ]
  },
  {
   "cell_type": "code",
   "execution_count": 30,
   "metadata": {
    "ExecuteTime": {
     "end_time": "2021-11-10T03:46:13.543483Z",
     "start_time": "2021-11-10T03:46:13.436469Z"
    }
   },
   "outputs": [
    {
     "data": {
      "text/plain": [
       "['104',\n",
       " '111',\n",
       " '125',\n",
       " '14 st',\n",
       " '145',\n",
       " '168',\n",
       " '175',\n",
       " '181',\n",
       " '190',\n",
       " '200',\n",
       " '207',\n",
       " '34',\n",
       " '42',\n",
       " '59',\n",
       " '80',\n",
       " '88',\n",
       " 'aqueduct n',\n",
       " 'aqueduct r',\n",
       " 'bdwy j',\n",
       " 'beach 105',\n",
       " 'beach 116',\n",
       " 'beach 25',\n",
       " 'beach 36',\n",
       " 'beach 44',\n",
       " 'beach 60',\n",
       " 'beach 67',\n",
       " 'beach 90',\n",
       " 'beach 98',\n",
       " 'brdwy j',\n",
       " 'broad ch',\n",
       " 'broadway j',\n",
       " 'bwy',\n",
       " 'canal',\n",
       " 'chambers',\n",
       " 'columbus',\n",
       " 'conduit',\n",
       " 'dyckman',\n",
       " 'euclid',\n",
       " 'far rockaway',\n",
       " 'fulton',\n",
       " 'grant',\n",
       " 'high',\n",
       " 'howard b',\n",
       " 'hoyt',\n",
       " 'inwood',\n",
       " 'jay',\n",
       " 'jctn',\n",
       " 'jfk a',\n",
       " 'junction',\n",
       " 'lefferts b',\n",
       " 'mott av',\n",
       " 'nostrand',\n",
       " 'ozone p',\n",
       " 'penn sta',\n",
       " 'port auth',\n",
       " 'rockaway b',\n",
       " 'rockaway p',\n",
       " 'utica',\n",
       " 'w 4',\n",
       " 'wash sq',\n",
       " 'washington sq',\n",
       " 'west 4']"
      ]
     },
     "execution_count": 30,
     "metadata": {},
     "output_type": "execute_result"
    }
   ],
   "source": [
    "sorted(stations_a)"
   ]
  },
  {
   "cell_type": "code",
   "execution_count": null,
   "metadata": {},
   "outputs": [],
   "source": [
    "stations_b = ['bedford','kingsbridge','fordham','182','183','tremont','174','175','170','167','161','155','145','135',\n",
    "             '125','116','110','cathedral pk','cathedral park','103','96','86','81','museum','72','59','columbus',\n",
    "             '47-50','47','42','bryant','5 av','34','hearld sq','w 4','wash sq','west 4','washington sq',\n",
    "             'bway l','brdwy l','broadway l','bdwy l','grand st','dekalb','atlantic','prospect','church','newkirk',\n",
    "             'kings','sheepshead','brighton']\n",
    "\n",
    "\"\"\"\n",
    "182 and 183 are the same\n",
    "\n",
    "174 and 175 are the same\n",
    "\n",
    "110 st, cathedral pk and cathedral park are the same\n",
    "\n",
    "81 and museum are the same\n",
    "\n",
    "59 and columbus are the same\n",
    "\n",
    "47 and 47-50 are the same\n",
    "\n",
    "42, bryant and 5 av are the same\n",
    "\n",
    "34 and herald sq are the same\n",
    "\n",
    "w 4, west 4, wash sq, and washington sq are the same\n",
    "\n",
    "bway l, brdwy l, broadway l, and bdwy l are the same\n",
    "\n",
    "7 av (bk) contained in stations_bq\n",
    "\n",
    "7 av (manh) contained in stations_bde\n",
    "\"\"\""
   ]
  },
  {
   "cell_type": "code",
   "execution_count": null,
   "metadata": {},
   "outputs": [],
   "source": [
    "stations_c = ['168','163','amsterdam','155','145','135','125','116','110','cathedral pk','cathedral park','103',\n",
    "             '96','86','81','museum','72','59','columbus','50','port auth','42','34','penn sta','14 st',\n",
    "              'w 4','wash sq','west 4','washington sq','spring','canal','chambers','fulton','high','jay','hoyt',\n",
    "             'lafayette av','clinton w','franklin av','nostrand','kingston','utica','ralph','rockaway',\n",
    "             'bdwy j','brdwy j','jctn','junction','broadway j','bwy','liberty','van siclen','shepherd','euclid']\n",
    "\n",
    "\"\"\"\n",
    "163 and amsterdam are the same\n",
    "\n",
    "110 st, cathedral pk and cathedral park are the same\n",
    "\n",
    "81 and museum are the same\n",
    "\n",
    "59 and columbus are the same\n",
    "\n",
    "42 and Port Auth are the same\n",
    "\n",
    "34 and penn sta are the same\n",
    "\n",
    "w 4, west 4, wash sq, and washington sq are the same\n",
    "\n",
    "bwy, bdwy j, brdwy j, jctn, junction, and broadway j are the same\n",
    "\n",
    "23 st in stations_ce\n",
    "\"\"\""
   ]
  },
  {
   "cell_type": "code",
   "execution_count": null,
   "metadata": {},
   "outputs": [],
   "source": [
    "stations_d = ['norwood','205','bedford','kingsbridge','fordham','182','183','tremont','174','175','170','167',\n",
    "             '161','155','145','125','59','columbus', '47-50','47','42','bryant','5 av','34','hearld sq','w 4',\n",
    "              'wash sq','west 4','washington sq','bway l','brdwy l','broadway l','bdwy l','grand st','atlantic','36',\n",
    "             '9 av','fort ham','50','55','62','71','79','18 av','20 av','bay pk','bay park','25 av','bay 50',\n",
    "              'ft ham''coney','stillwell']\n",
    "\n",
    "\"\"\"\n",
    "205 and norwood are the same\n",
    "\n",
    "183 and 182 are the same\n",
    "\n",
    "175 and 174 are the same\n",
    "\n",
    "59 and columbus are the same\n",
    "\n",
    "47 and 47-50 are the same\n",
    "\n",
    "42, bryant and 5 av are the same\n",
    "\n",
    "34 and herald sq are the same\n",
    "\n",
    "w 4, west 4, wash sq, and washington sq are the same\n",
    "\n",
    "bway l, brdwy l, broadway l, and bdwy l are the same\n",
    "\n",
    "bay pk and bay park are the same\n",
    "\n",
    "coney and stillwell are the same\n",
    "\n",
    "fort ham and ft ham are the same\n",
    "\"\"\""
   ]
  },
  {
   "cell_type": "code",
   "execution_count": null,
   "metadata": {},
   "outputs": [],
   "source": [
    "stations_e = ['jamaica c','parsons','sutphin','jfk a','jamaica v','briarwood','kew gardens','75 av','forest h','71',\n",
    "             'jackson heights','jackson hts','roosevelt av','queens plaza','qns plz','qns plaza','queens plz',\n",
    "             'lexington av','50','port auth','42','34','penn sta','14 st','w 4','wash sq','west 4',\n",
    "              'washington sq','spring','canal','wtc','world trade center']\n",
    "\n",
    "\"\"\"\n",
    "jamaica c and parsons are the same\n",
    "\n",
    "sutphin and jfk a are the same\n",
    "\n",
    "forest h and 71 are the same\n",
    "\n",
    "jackson heights, jackson hts and roosevelt av are the same\n",
    "\n",
    "queens plaza, qns plz, qns plaza and queens plz are the same\n",
    "\n",
    "court sq will be in stations_egm7 23 st\n",
    "\n",
    "42 and port auth are the same\n",
    "\n",
    "34 and penn sta are the same\n",
    "\n",
    "w4, wash sq, west 4, and washington sq are the same\n",
    "\n",
    "wtc and world trade center are the same\n",
    "\n",
    "5 av in stations_em6\n",
    "\"\"\""
   ]
  },
  {
   "cell_type": "code",
   "execution_count": null,
   "metadata": {},
   "outputs": [],
   "source": [
    "stations_bde = ['7 av']\n",
    "stations_ce = ['23 st']"
   ]
  },
  {
   "cell_type": "code",
   "execution_count": null,
   "metadata": {},
   "outputs": [],
   "source": [
    "stations_f = ['jamaica','169','parsons','sutphin','briarwood','kew gardens','75 av','forest h','71',\n",
    "              'jackson heights','jackson hts','roosevelt av','21 st', 'queensbr','qnsbr','roosevelt i','lexington av',\n",
    "              '63','57','47-50','47','42','bryant','5 av','34','hearld sq','23 st','14 st','w 4','wash sq',\n",
    "              'west 4','washington sq','bway l','brdwy l','broadway l','bdwy l','2 av','delancey','essex',\n",
    "              'east br','e br','york','jay','bergen','carroll','7 av','15 st','prospect p',\n",
    "             'fort ham','ft ham','church','ditmas','18 av','avenue i','av i', 'bay p', 'avenue n', 'av n','avenue p',\n",
    "             'av p','kings h','avenue u','av u','avenue x','av x','neptune','west 8','w 8','aquarium','coney','stillwell']\n",
    "\n",
    "\"\"\"\n",
    "forest h and 71 are the same\n",
    "\n",
    "jackson heights, jackson hts and roosevelt av are the same\n",
    "\n",
    "21 st, queensbr and qnsbr are the same\n",
    "\n",
    "lexington av and 63 are the same\n",
    "\n",
    "47-50 and 47 are the same\n",
    "\n",
    "42, bryant and 5 av are the same\n",
    "\n",
    "34 st and herald sq are the same\n",
    "\n",
    "w 4, west 4, wash sq, and washington sq are the same\n",
    "\n",
    "bway l, brdwy l, broadway l, and bdwy l are the same\n",
    "\n",
    "delancey and essex are the same\n",
    "\n",
    "east br and e br are the same\n",
    "\n",
    "15 st and prospect p are the same\n",
    "\n",
    "fort ham and ft ham are the same\n",
    "\n",
    "avenue i and av i are the same\n",
    "\n",
    "avenue n and av n are the same\n",
    "\n",
    "avenue p and av p are the same\n",
    "\n",
    "avenue u and av u are the same\n",
    "\n",
    "avenue x and av x are the same\n",
    "\n",
    "west 8, w 8 and aquarium are the same\n",
    "\n",
    "coney and stillwell are the same\n",
    "\n",
    "smith in stations_fg\n",
    "\n",
    "4 av 9 st are in stations_fgr\n",
    "\"\"\""
   ]
  },
  {
   "cell_type": "code",
   "execution_count": null,
   "metadata": {},
   "outputs": [],
   "source": [
    "stations_g = ['21 st','greenpoint','nassau','metropolitan','broadway','flushing','myrtle','willoughby',\n",
    "             'bedford','nostrand','classon','clinton','washington','fulton','hoyt','bergen','carroll',\n",
    "             '7 av','15 st','prospect p','fort ham','ft ham','church']\n",
    "\n",
    "\"\"\"\n",
    "court sq is in stations_egm7\n",
    "\n",
    "myrtle and willoughby are the same\n",
    "\n",
    "bedford and nostrand are the same\n",
    "\n",
    "clinton and washington are the same\n",
    "\n",
    "smith and 9 st are in stations_fg\n",
    "\n",
    "4 av 9 st are in stations_fgr\n",
    "\n",
    "15 st and prospect p are the same\n",
    "\n",
    "fort ham and ft ham are the same\n",
    "\"\"\""
   ]
  },
  {
   "cell_type": "code",
   "execution_count": null,
   "metadata": {},
   "outputs": [],
   "source": [
    "stations_fg = ['smith','9 st']"
   ]
  },
  {
   "cell_type": "code",
   "execution_count": null,
   "metadata": {},
   "outputs": [],
   "source": [
    "stations_j = ['jamaica','parsons','sutphin','jfk','121','111','104','woodhaven','85','forest p','75','elderts',\n",
    "             'cypress','crescent','norwood','cleveland','van s','alabama','bdwy j','brdwy j','jctn','junction',\n",
    "              'broadway j','bwy','chauncey','halsey','gates','kosciuszko','myrtle','flushing','lorimer',\n",
    "             'hewes','marcy','delancey','essex','bowery','canal','chambers','fulton','broad']\n",
    "\n",
    "\"\"\"\n",
    "jamaica and parsons are the same\n",
    "\n",
    "sutphin and jfk are the same\n",
    "\n",
    "85 and forest p are the same\n",
    "\n",
    "75 and elderts are the same\n",
    "\n",
    "bwy, bdwy j, brdwy j, jctn, junction, and broadway j are the same\n",
    "\n",
    "delancey and essex are the same\n",
    "\"\"\""
   ]
  },
  {
   "cell_type": "code",
   "execution_count": null,
   "metadata": {},
   "outputs": [],
   "source": [
    "stations_l = ['8 av','6 av','14 st','union sq','3 av','1 av','bedford','lorimer','graham','grand','montrose',\n",
    "             'morgan','jefferson','dekalb','myrtle','wyckoff','halsey','wilson','bushwick','aberdeen',\n",
    "             'bdwy j','brdwy j','jctn','junction','broadway j','bwy','atlantic','sutter','livonia','new lots',\n",
    "             'e 105','east 105','canarsie','rockaway p']\n",
    "\n",
    "\"\"\"\n",
    "14 st and union sq are the same\n",
    "\n",
    "myrtle and wyckoff are the same\n",
    "\n",
    "bushwick and aberdeen are the same\n",
    "\n",
    "bwy, bdwy j, brdwy j, jctn, junction, and broadway j are the same\n",
    "\n",
    "e 105 and east 105 are the same\n",
    "\n",
    "canarsie and rockaway p are the same\n",
    "\"\"\""
   ]
  },
  {
   "cell_type": "code",
   "execution_count": null,
   "metadata": {},
   "outputs": [],
   "source": [
    "stations_m = ['forest h','71','67','63','rego','woodhaven','grand','newtown','elmhurst','jackson heights',\n",
    "              'jackson hts','roosevelt av','65','northern blvd','46','steinway','36','queens plaza','qns plz',\n",
    "              'qns plaza','queens plz','lexington av','47-50','47','42','bryant','34','hearld sq','23 st',\n",
    "             '14 st','w 4','wash sq','west 4','washington sq','bway l','brdwy l','broadway l','bdwy l',\n",
    "             'delancey','essex','marcy','hewes','lorimer','flushing','myrtle av','central','knickerbocker',\n",
    "             'wyckoff','seneca','forest av','fresh pond','middle v','metropolitan']\n",
    "\n",
    "\"\"\"\n",
    "forest h and 71 are the same\n",
    "\n",
    "63 and rego are the same\n",
    "\n",
    "grand and newtown are the same\n",
    "\n",
    "jackson heights, jackson hts and roosevelt av are the same\n",
    "\n",
    "queens plaza, qns plz, qns plaza and queens plz are the same\n",
    "\n",
    "court sq is in stations_egm7\n",
    "\n",
    "47-50 and 47 are the same\n",
    "\n",
    "42, bryant and 5 av are the same\n",
    "\n",
    "34 and herald sq are the same\n",
    "\n",
    "w 4, wash sq, west 4, and washington sq are the same\n",
    "\n",
    "bway l, brdwy l, broadway l, and bdwy l are the same\n",
    "\n",
    "delancey and essex are the same\n",
    "\n",
    "middle v and metropolitan are the same\n",
    "\"\"\""
   ]
  },
  {
   "cell_type": "code",
   "execution_count": null,
   "metadata": {},
   "outputs": [],
   "source": [
    "stations_em6 = ['5 av','53']"
   ]
  },
  {
   "cell_type": "code",
   "execution_count": null,
   "metadata": {},
   "outputs": [],
   "source": [
    "stations_egm7 = ['court sq','23 st']"
   ]
  },
  {
   "cell_type": "code",
   "execution_count": null,
   "metadata": {},
   "outputs": [],
   "source": [
    "stations_n = ['ditmars','astoria b','30','broadway','36 av','39','qnsboro pl','queensboro pl','lexington','5 av',\n",
    "             '57','49','times sq','42','34','hearld sq','14 st','union sq','canal','atlantic','36 st','8 av','fort ham',\n",
    "             'ft ham','new utrecht','18 av','20 av','bay p','kings h','avenue u','av u','86','coney','stillwell']\n",
    "\n",
    "\"\"\"\n",
    "qnsboro pl and queensboro pl are the same\n",
    "\n",
    "times sq and 42 are the same\n",
    "\n",
    "34 and herald sq are the same\n",
    "\n",
    "14 st and union sq are the same\n",
    "\n",
    "59 st (bk) in stations_nr\n",
    "\n",
    "fort ham and ft ham are the same\n",
    "\n",
    "avenue u and av u are the same\n",
    "\n",
    "coney and stillwell are the same\n",
    "\"\"\""
   ]
  },
  {
   "cell_type": "code",
   "execution_count": null,
   "metadata": {},
   "outputs": [],
   "source": [
    "stations_q = ['96','86','72','lexington','63','57','times sq','42','34','hearld sq','14 st','union sq','canal',\n",
    "             'dekalb','atlantic','prospect p','parkside','church','beverly','cortelyou','newkirk','avenue h','av h',\n",
    "             'avenue j','av j','avenue m','av m','kings h','avenue u','av u','neck','sheepshead','brighton','ocean',\n",
    "             'west 8', 'w 8','aquarium','coney','stillwell']\n",
    "\n",
    "\"\"\"\n",
    "lexington and 63 are the same\n",
    "\n",
    "times sq and 42 are the same\n",
    "\n",
    "34 and herald sq are the same\n",
    "\n",
    "14 st and union sq are the same\n",
    "\n",
    "7 av in stations_bq\n",
    "\n",
    "avenue h and av h are the same\n",
    "\n",
    "avenue j and av j are the same\n",
    "\n",
    "avenue m and av m are the same\n",
    "\n",
    "avenue u and av u are the same\n",
    "\n",
    "west 8, w 8 and aquarium are the same\n",
    "\n",
    "coney and stillwell are the same\n",
    "\"\"\""
   ]
  },
  {
   "cell_type": "code",
   "execution_count": null,
   "metadata": {},
   "outputs": [],
   "source": [
    "stations_bq = ['7 av']"
   ]
  },
  {
   "cell_type": "code",
   "execution_count": null,
   "metadata": {},
   "outputs": [],
   "source": [
    "stations_r = ['forest h','71','67','63','rego','woodhaven','grand','elmhurst','jackson heights','jackson hts',\n",
    "             'roosevelt av','65','northern blvd','46','steinway','36','queens plaza','qns plz','qns plaza','queens plz',\n",
    "             'lexington','5 av','57','7 av','49','times sq','42','34','hearld sq','28','23 st','14 st','union sq',\n",
    "             '8 st','nyu','prince','canal','city h','cortlandt','rector','whitehall','south f','court st','jay',\n",
    "             'dekalb','atlantic','union st','4 av','9 st','prospect','25 st','36','45','53','ba ridge av','77',\n",
    "             '86','bay ridge 95 st']\n",
    "\n",
    "\"\"\"\n",
    "forest h and 71 are the same\n",
    "\n",
    "63 and rego are the same\n",
    "\n",
    "jackson heights, jackson hts and roosevelt av are the same\n",
    "\n",
    "queens plaza, qns plz, qns plaza and queens plz are the same\n",
    "\n",
    "57 and 7 av are the same\n",
    "\n",
    "times sq and 42\n",
    "\n",
    "34 and herald sq are the same\n",
    "\n",
    "14 st and union sq\n",
    "\n",
    "8 st and nyu are the same\n",
    "\n",
    "whitehall and south f are the same\n",
    "\n",
    "4 av\n",
    "\n",
    "9 st\n",
    "\n",
    "59 st (bk) is in stations_nr\n",
    "\"\"\""
   ]
  },
  {
   "cell_type": "code",
   "execution_count": null,
   "metadata": {},
   "outputs": [],
   "source": [
    "stations_fgr = ['4 av','9 st']\n",
    "stations_nr = ['59 st']"
   ]
  },
  {
   "cell_type": "code",
   "execution_count": null,
   "metadata": {},
   "outputs": [],
   "source": [
    "stations_w = ['ditmars','astoria b','30','broadway','36 av','39','qnsboro pl','queensboro pl','lexington','5 av',\n",
    "             '57','49','times sq','42','34','hearld sq','14 st','union sq','8 st','nyu','prince','canal','city h',\n",
    "             'cortlandt','rector','whitehall','south f']\n",
    "\n",
    "\"\"\"\n",
    "qnsboro pl and queensboro pl are the same\n",
    "\n",
    "times sq and 42 are the same\n",
    "\n",
    "34 and herald sq are the same\n",
    "\n",
    "14 st and union sq are the same\n",
    "\n",
    "8 st and nyu are the same\n",
    "\n",
    "whitehall and south f are the same\n",
    "\"\"\""
   ]
  },
  {
   "cell_type": "code",
   "execution_count": null,
   "metadata": {},
   "outputs": [],
   "source": [
    "stations_z = ['jamaica','parsons','sutphin','jfk','121','104','woodhaven','75','elderts','crescent','norwood',\n",
    "             'van siclen','alabama','bdwy j','brdwy j','jctn','junction','broadway j','bwy','chauncey','gates',\n",
    "             'myrtle','marcy','delancey','essex','bowery','canal','chambers','fulton','broad']\n",
    "\n",
    "\"\"\"\n",
    "jamaica and parsons are the same\n",
    "\n",
    "sutphin and jfk are the same\n",
    "\n",
    "75 and elderts are the same\n",
    "\n",
    "bdwy j, brdwy j, jctn, junction, broadway j, and bwy are the same\n",
    "\n",
    "delancey and essex are the same\n",
    "\"\"\""
   ]
  },
  {
   "cell_type": "code",
   "execution_count": null,
   "metadata": {},
   "outputs": [],
   "source": [
    "stations_frnk = ['franklin av','park p','botanic g','prospect p']"
   ]
  },
  {
   "cell_type": "code",
   "execution_count": null,
   "metadata": {},
   "outputs": [],
   "source": [
    "stations_rck = ['broad ch','beach 90','beach 98','beach 105','rockaway p','beach 116']\n",
    "\n",
    "\"\"\"\n",
    "rockaway p and beach 116 are the same \n",
    "\"\"\""
   ]
  },
  {
   "cell_type": "code",
   "execution_count": null,
   "metadata": {},
   "outputs": [],
   "source": []
  },
  {
   "cell_type": "code",
   "execution_count": null,
   "metadata": {},
   "outputs": [],
   "source": []
  },
  {
   "cell_type": "code",
   "execution_count": null,
   "metadata": {},
   "outputs": [],
   "source": []
  },
  {
   "cell_type": "code",
   "execution_count": null,
   "metadata": {},
   "outputs": [],
   "source": []
  },
  {
   "cell_type": "code",
   "execution_count": null,
   "metadata": {},
   "outputs": [],
   "source": []
  }
 ],
 "metadata": {
  "kernelspec": {
   "display_name": "Python 3",
   "language": "python",
   "name": "python3"
  },
  "language_info": {
   "codemirror_mode": {
    "name": "ipython",
    "version": 3
   },
   "file_extension": ".py",
   "mimetype": "text/x-python",
   "name": "python",
   "nbconvert_exporter": "python",
   "pygments_lexer": "ipython3",
   "version": "3.8.5"
  },
  "toc": {
   "base_numbering": 1,
   "nav_menu": {},
   "number_sections": true,
   "sideBar": true,
   "skip_h1_title": false,
   "title_cell": "Table of Contents",
   "title_sidebar": "Contents",
   "toc_cell": false,
   "toc_position": {},
   "toc_section_display": true,
   "toc_window_display": false
  }
 },
 "nbformat": 4,
 "nbformat_minor": 4
}
