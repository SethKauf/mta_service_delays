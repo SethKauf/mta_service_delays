{
 "cells": [
  {
   "cell_type": "code",
   "execution_count": 1,
   "metadata": {
    "ExecuteTime": {
     "end_time": "2021-10-18T13:45:33.456636Z",
     "start_time": "2021-10-18T13:45:32.426401Z"
    }
   },
   "outputs": [],
   "source": [
    "import pandas as pd\n",
    "import pickle as pkl\n",
    "import matplotlib.pyplot as plt\n",
    "%matplotlib inline\n",
    "import seaborn as sns\n",
    "from sklearn.linear_model import LogisticRegression\n",
    "from sklearn.metrics import f1_score, recall_score, precision_score, plot_confusion_matrix, accuracy_score\n",
    "from sklearn.model_selection import cross_val_score, train_test_split\n",
    "from sklearn.neighbors import KNeighborsClassifier\n",
    "from sklearn.preprocessing import StandardScaler\n",
    "from sklearn.tree import DecisionTreeClassifier"
   ]
  },
  {
   "cell_type": "code",
   "execution_count": 2,
   "metadata": {
    "ExecuteTime": {
     "end_time": "2021-10-18T13:45:33.565658Z",
     "start_time": "2021-10-18T13:45:33.457638Z"
    }
   },
   "outputs": [],
   "source": [
    "df = pd.read_csv('data/model.csv')"
   ]
  },
  {
   "cell_type": "code",
   "execution_count": 3,
   "metadata": {
    "ExecuteTime": {
     "end_time": "2021-10-18T13:45:33.597171Z",
     "start_time": "2021-10-18T13:45:33.566658Z"
    }
   },
   "outputs": [
    {
     "name": "stdout",
     "output_type": "stream",
     "text": [
      "<class 'pandas.core.frame.DataFrame'>\n",
      "RangeIndex: 102985 entries, 0 to 102984\n",
      "Data columns (total 23 columns):\n",
      " #   Column                   Non-Null Count   Dtype  \n",
      "---  ------                   --------------   -----  \n",
      " 0   Unnamed: 0               102985 non-null  int64  \n",
      " 1   datetime                 102985 non-null  object \n",
      " 2   2_delayed                102985 non-null  int64  \n",
      " 3   irt_delayed              102985 non-null  int64  \n",
      " 4   cross-station            0 non-null       float64\n",
      " 5   rush_hour                0 non-null       float64\n",
      " 6   planned_service          0 non-null       float64\n",
      " 7   n/b_delay                0 non-null       float64\n",
      " 8   s/b_delay                0 non-null       float64\n",
      " 9   avg_temp                 102985 non-null  float64\n",
      " 10  min_temp                 102985 non-null  float64\n",
      " 11  max_temp                 102985 non-null  float64\n",
      " 12  snowfall                 102985 non-null  float64\n",
      " 13  snowfall_depth           102985 non-null  float64\n",
      " 14  prcp                     102985 non-null  float64\n",
      " 15  avg_wind_spd             4292 non-null    float64\n",
      " 16  fastest_wind_directions  102985 non-null  object \n",
      " 17  fastest_wind_spd         102985 non-null  float64\n",
      " 18  major_conditions         102985 non-null  float64\n",
      " 19  minor_conditions         102985 non-null  float64\n",
      " 20  neutral_conditions       102985 non-null  float64\n",
      " 21  clear_conditions         102985 non-null  float64\n",
      " 22  day_of_week              102985 non-null  int64  \n",
      "dtypes: float64(17), int64(4), object(2)\n",
      "memory usage: 18.1+ MB\n"
     ]
    }
   ],
   "source": [
    "df.info()"
   ]
  },
  {
   "cell_type": "code",
   "execution_count": 4,
   "metadata": {
    "ExecuteTime": {
     "end_time": "2021-10-18T13:45:33.612894Z",
     "start_time": "2021-10-18T13:45:33.598172Z"
    }
   },
   "outputs": [],
   "source": [
    "df.drop(['Unnamed: 0', 'cross-station','rush_hour','planned_service','n/b_delay','s/b_delay', 'datetime', 'fastest_wind_directions'],axis=1,inplace=True)"
   ]
  },
  {
   "cell_type": "code",
   "execution_count": 5,
   "metadata": {
    "ExecuteTime": {
     "end_time": "2021-10-18T13:45:33.642616Z",
     "start_time": "2021-10-18T13:45:33.613894Z"
    }
   },
   "outputs": [],
   "source": [
    "X = df[['irt_delayed', 'major_conditions', 'minor_conditions', 'neutral_conditions',\n",
    "        'clear_conditions', 'avg_temp', 'snowfall', 'snowfall_depth', 'fastest_wind_spd',\n",
    "       'min_temp', 'max_temp', 'prcp']]\n",
    "y = df['2_delayed']\n",
    "\n",
    "X_train, X_test, y_train, y_test = train_test_split(X, y, test_size=.25, random_state=42)"
   ]
  },
  {
   "cell_type": "code",
   "execution_count": 6,
   "metadata": {
    "ExecuteTime": {
     "end_time": "2021-10-18T13:45:33.657911Z",
     "start_time": "2021-10-18T13:45:33.643637Z"
    }
   },
   "outputs": [],
   "source": [
    "scaler = StandardScaler()"
   ]
  },
  {
   "cell_type": "code",
   "execution_count": 7,
   "metadata": {
    "ExecuteTime": {
     "end_time": "2021-10-18T13:45:33.688817Z",
     "start_time": "2021-10-18T13:45:33.658930Z"
    }
   },
   "outputs": [],
   "source": [
    "X_train = scaler.fit_transform(X_train)\n",
    "X_test = scaler.transform(X_test)"
   ]
  },
  {
   "cell_type": "code",
   "execution_count": 8,
   "metadata": {
    "ExecuteTime": {
     "end_time": "2021-10-18T13:45:33.703956Z",
     "start_time": "2021-10-18T13:45:33.689818Z"
    }
   },
   "outputs": [],
   "source": [
    "lr = LogisticRegression(random_state=42)"
   ]
  },
  {
   "cell_type": "code",
   "execution_count": 9,
   "metadata": {
    "ExecuteTime": {
     "end_time": "2021-10-18T13:45:33.827819Z",
     "start_time": "2021-10-18T13:45:33.705496Z"
    }
   },
   "outputs": [
    {
     "data": {
      "text/plain": [
       "LogisticRegression(random_state=42)"
      ]
     },
     "execution_count": 9,
     "metadata": {},
     "output_type": "execute_result"
    }
   ],
   "source": [
    "lr.fit(X_train, y_train)"
   ]
  },
  {
   "cell_type": "code",
   "execution_count": 10,
   "metadata": {
    "ExecuteTime": {
     "end_time": "2021-10-18T13:45:33.842895Z",
     "start_time": "2021-10-18T13:45:33.828819Z"
    }
   },
   "outputs": [],
   "source": [
    "y_pred = lr.predict(X_test)"
   ]
  },
  {
   "cell_type": "code",
   "execution_count": 12,
   "metadata": {
    "ExecuteTime": {
     "end_time": "2021-10-18T13:45:39.896269Z",
     "start_time": "2021-10-18T13:45:39.879263Z"
    }
   },
   "outputs": [
    {
     "data": {
      "text/plain": [
       "1.0"
      ]
     },
     "execution_count": 12,
     "metadata": {},
     "output_type": "execute_result"
    }
   ],
   "source": [
    "accuracy_score(y_test, y_test)"
   ]
  },
  {
   "cell_type": "code",
   "execution_count": 13,
   "metadata": {
    "ExecuteTime": {
     "end_time": "2021-10-18T13:45:40.254273Z",
     "start_time": "2021-10-18T13:45:40.234765Z"
    }
   },
   "outputs": [
    {
     "data": {
      "text/plain": [
       "0.070859167404783"
      ]
     },
     "execution_count": 13,
     "metadata": {},
     "output_type": "execute_result"
    }
   ],
   "source": [
    "f1_score(y_test, y_pred)"
   ]
  },
  {
   "cell_type": "code",
   "execution_count": 14,
   "metadata": {
    "ExecuteTime": {
     "end_time": "2021-10-18T13:45:45.547548Z",
     "start_time": "2021-10-18T13:45:45.530703Z"
    }
   },
   "outputs": [
    {
     "data": {
      "text/plain": [
       "0    81725\n",
       "1    21260\n",
       "Name: 2_delayed, dtype: int64"
      ]
     },
     "execution_count": 14,
     "metadata": {},
     "output_type": "execute_result"
    }
   ],
   "source": [
    "y.value_counts()"
   ]
  },
  {
   "cell_type": "code",
   "execution_count": 15,
   "metadata": {
    "ExecuteTime": {
     "end_time": "2021-10-18T13:45:46.031710Z",
     "start_time": "2021-10-18T13:45:46.018708Z"
    }
   },
   "outputs": [],
   "source": [
    "clf = DecisionTreeClassifier(random_state=42)"
   ]
  },
  {
   "cell_type": "code",
   "execution_count": 16,
   "metadata": {
    "ExecuteTime": {
     "end_time": "2021-10-18T13:45:46.720388Z",
     "start_time": "2021-10-18T13:45:46.499117Z"
    }
   },
   "outputs": [
    {
     "data": {
      "text/plain": [
       "DecisionTreeClassifier(random_state=42)"
      ]
     },
     "execution_count": 16,
     "metadata": {},
     "output_type": "execute_result"
    }
   ],
   "source": [
    "clf.fit(X_train, y_train)"
   ]
  },
  {
   "cell_type": "code",
   "execution_count": 17,
   "metadata": {
    "ExecuteTime": {
     "end_time": "2021-10-18T13:45:46.876124Z",
     "start_time": "2021-10-18T13:45:46.859117Z"
    }
   },
   "outputs": [],
   "source": [
    "y_pred = clf.predict(X_test)"
   ]
  },
  {
   "cell_type": "code",
   "execution_count": 18,
   "metadata": {
    "ExecuteTime": {
     "end_time": "2021-10-18T13:45:47.232246Z",
     "start_time": "2021-10-18T13:45:47.219482Z"
    }
   },
   "outputs": [
    {
     "data": {
      "text/plain": [
       "0.8303880063696741"
      ]
     },
     "execution_count": 18,
     "metadata": {},
     "output_type": "execute_result"
    }
   ],
   "source": [
    "accuracy_score(y_test, y_pred)"
   ]
  },
  {
   "cell_type": "code",
   "execution_count": 19,
   "metadata": {
    "ExecuteTime": {
     "end_time": "2021-10-18T13:45:47.493864Z",
     "start_time": "2021-10-18T13:45:47.482680Z"
    }
   },
   "outputs": [
    {
     "data": {
      "text/plain": [
       "0.5488170265523298"
      ]
     },
     "execution_count": 19,
     "metadata": {},
     "output_type": "execute_result"
    }
   ],
   "source": [
    "f1_score(y_test, y_pred)"
   ]
  }
 ],
 "metadata": {
  "kernelspec": {
   "display_name": "Python 3",
   "language": "python",
   "name": "python3"
  },
  "language_info": {
   "codemirror_mode": {
    "name": "ipython",
    "version": 3
   },
   "file_extension": ".py",
   "mimetype": "text/x-python",
   "name": "python",
   "nbconvert_exporter": "python",
   "pygments_lexer": "ipython3",
   "version": "3.8.5"
  },
  "toc": {
   "base_numbering": 1,
   "nav_menu": {},
   "number_sections": true,
   "sideBar": true,
   "skip_h1_title": false,
   "title_cell": "Table of Contents",
   "title_sidebar": "Contents",
   "toc_cell": false,
   "toc_position": {},
   "toc_section_display": true,
   "toc_window_display": false
  }
 },
 "nbformat": 4,
 "nbformat_minor": 4
}
