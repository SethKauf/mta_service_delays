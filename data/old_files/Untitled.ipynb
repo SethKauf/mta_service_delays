{
 "cells": [
  {
   "cell_type": "code",
   "execution_count": 1,
   "metadata": {
    "ExecuteTime": {
     "end_time": "2021-10-20T19:36:45.366889Z",
     "start_time": "2021-10-20T19:36:45.103521Z"
    }
   },
   "outputs": [],
   "source": [
    "import pickle as pkl\n",
    "import pandas as pd"
   ]
  },
  {
   "cell_type": "code",
   "execution_count": 9,
   "metadata": {
    "ExecuteTime": {
     "end_time": "2021-10-20T19:39:27.815068Z",
     "start_time": "2021-10-20T19:39:27.522096Z"
    }
   },
   "outputs": [],
   "source": [
    "with open('alerts.pkl', 'rb') as f:\n",
    "    df = pkl.load(f)"
   ]
  },
  {
   "cell_type": "code",
   "execution_count": 12,
   "metadata": {
    "ExecuteTime": {
     "end_time": "2021-10-20T19:40:09.333029Z",
     "start_time": "2021-10-20T19:40:09.137619Z"
    }
   },
   "outputs": [],
   "source": [
    "df = pd.read_csv('../../data_cleaning/df_irt.csv')"
   ]
  },
  {
   "cell_type": "code",
   "execution_count": 10,
   "metadata": {
    "ExecuteTime": {
     "end_time": "2021-10-20T19:39:28.647780Z",
     "start_time": "2021-10-20T19:39:28.641090Z"
    },
    "scrolled": false
   },
   "outputs": [
    {
     "data": {
      "text/plain": [
       "['ID', 'DateTime', 'Subject', 'Alert']"
      ]
     },
     "execution_count": 10,
     "metadata": {},
     "output_type": "execute_result"
    }
   ],
   "source": [
    "list(df.columns)"
   ]
  },
  {
   "cell_type": "code",
   "execution_count": 13,
   "metadata": {
    "ExecuteTime": {
     "end_time": "2021-10-20T19:40:10.078294Z",
     "start_time": "2021-10-20T19:40:10.057287Z"
    }
   },
   "outputs": [
    {
     "data": {
      "text/html": [
       "<div>\n",
       "<style scoped>\n",
       "    .dataframe tbody tr th:only-of-type {\n",
       "        vertical-align: middle;\n",
       "    }\n",
       "\n",
       "    .dataframe tbody tr th {\n",
       "        vertical-align: top;\n",
       "    }\n",
       "\n",
       "    .dataframe thead th {\n",
       "        text-align: right;\n",
       "    }\n",
       "</style>\n",
       "<table border=\"1\" class=\"dataframe\">\n",
       "  <thead>\n",
       "    <tr style=\"text-align: right;\">\n",
       "      <th></th>\n",
       "      <th>Unnamed: 0</th>\n",
       "      <th>date</th>\n",
       "      <th>subject</th>\n",
       "      <th>message</th>\n",
       "    </tr>\n",
       "  </thead>\n",
       "  <tbody>\n",
       "    <tr>\n",
       "      <th>0</th>\n",
       "      <td>0</td>\n",
       "      <td>2021-09-30 22:26:00</td>\n",
       "      <td>Update : BX   4 Train   Delays</td>\n",
       "      <td>4 trains are proceeding in both directions wit...</td>\n",
       "    </tr>\n",
       "    <tr>\n",
       "      <th>1</th>\n",
       "      <td>1</td>\n",
       "      <td>2021-09-30 22:13:00</td>\n",
       "      <td>BX   4 Train   Delays</td>\n",
       "      <td>4 trains are delayed entering / leaving Woodla...</td>\n",
       "    </tr>\n",
       "    <tr>\n",
       "      <th>2</th>\n",
       "      <td>6</td>\n",
       "      <td>2021-09-30 18:50:00</td>\n",
       "      <td>Update : QNS   7 Train   Delays</td>\n",
       "      <td>34 St-bound 7 trains are proceeding with delay...</td>\n",
       "    </tr>\n",
       "    <tr>\n",
       "      <th>3</th>\n",
       "      <td>8</td>\n",
       "      <td>2021-09-30 18:40:00</td>\n",
       "      <td>QNS   7 Train   Delays</td>\n",
       "      <td>34 St-bound 7 trains are holding in stations i...</td>\n",
       "    </tr>\n",
       "    <tr>\n",
       "      <th>4</th>\n",
       "      <td>13</td>\n",
       "      <td>2021-09-30 17:42:00</td>\n",
       "      <td>MANH   4   5   and 6 Trains   Delays</td>\n",
       "      <td>4 5 6 trains are running with extensive delays...</td>\n",
       "    </tr>\n",
       "    <tr>\n",
       "      <th>...</th>\n",
       "      <td>...</td>\n",
       "      <td>...</td>\n",
       "      <td>...</td>\n",
       "      <td>...</td>\n",
       "    </tr>\n",
       "    <tr>\n",
       "      <th>44915</th>\n",
       "      <td>67476</td>\n",
       "      <td>2010-01-02 08:28:00</td>\n",
       "      <td>QNS   7 train   Track Maintenance</td>\n",
       "      <td>Times Sq-bound 7 trains operating on normal ro...</td>\n",
       "    </tr>\n",
       "    <tr>\n",
       "      <th>44916</th>\n",
       "      <td>67479</td>\n",
       "      <td>2010-01-01 00:56:00</td>\n",
       "      <td>UPDATED : BX   4 Train   Police Investigation</td>\n",
       "      <td>4 train service has resumed with residual delays.</td>\n",
       "    </tr>\n",
       "    <tr>\n",
       "      <th>44917</th>\n",
       "      <td>67480</td>\n",
       "      <td>2010-01-01 00:49:00</td>\n",
       "      <td>UPDATED : BX   4 Train   Police Investigation</td>\n",
       "      <td>BK-bound. 4 train express Burnside Av to 125 S...</td>\n",
       "    </tr>\n",
       "    <tr>\n",
       "      <th>44918</th>\n",
       "      <td>67481</td>\n",
       "      <td>2010-01-01 00:35:00</td>\n",
       "      <td>UPDATED : BX   4 Train   Police Investigation</td>\n",
       "      <td>Both directions. 4 train susp btwn Burnside Av...</td>\n",
       "    </tr>\n",
       "    <tr>\n",
       "      <th>44919</th>\n",
       "      <td>67482</td>\n",
       "      <td>2010-01-01 00:26:00</td>\n",
       "      <td>BX   4 Train   Police Investigation</td>\n",
       "      <td>BK-bound. 4 train via express track Burnside A...</td>\n",
       "    </tr>\n",
       "  </tbody>\n",
       "</table>\n",
       "<p>44920 rows × 4 columns</p>\n",
       "</div>"
      ],
      "text/plain": [
       "       Unnamed: 0                 date  \\\n",
       "0               0  2021-09-30 22:26:00   \n",
       "1               1  2021-09-30 22:13:00   \n",
       "2               6  2021-09-30 18:50:00   \n",
       "3               8  2021-09-30 18:40:00   \n",
       "4              13  2021-09-30 17:42:00   \n",
       "...           ...                  ...   \n",
       "44915       67476  2010-01-02 08:28:00   \n",
       "44916       67479  2010-01-01 00:56:00   \n",
       "44917       67480  2010-01-01 00:49:00   \n",
       "44918       67481  2010-01-01 00:35:00   \n",
       "44919       67482  2010-01-01 00:26:00   \n",
       "\n",
       "                                             subject  \\\n",
       "0                     Update : BX   4 Train   Delays   \n",
       "1                              BX   4 Train   Delays   \n",
       "2                    Update : QNS   7 Train   Delays   \n",
       "3                             QNS   7 Train   Delays   \n",
       "4               MANH   4   5   and 6 Trains   Delays   \n",
       "...                                              ...   \n",
       "44915              QNS   7 train   Track Maintenance   \n",
       "44916  UPDATED : BX   4 Train   Police Investigation   \n",
       "44917  UPDATED : BX   4 Train   Police Investigation   \n",
       "44918  UPDATED : BX   4 Train   Police Investigation   \n",
       "44919            BX   4 Train   Police Investigation   \n",
       "\n",
       "                                                 message  \n",
       "0      4 trains are proceeding in both directions wit...  \n",
       "1      4 trains are delayed entering / leaving Woodla...  \n",
       "2      34 St-bound 7 trains are proceeding with delay...  \n",
       "3      34 St-bound 7 trains are holding in stations i...  \n",
       "4      4 5 6 trains are running with extensive delays...  \n",
       "...                                                  ...  \n",
       "44915  Times Sq-bound 7 trains operating on normal ro...  \n",
       "44916  4 train service has resumed with residual delays.  \n",
       "44917  BK-bound. 4 train express Burnside Av to 125 S...  \n",
       "44918  Both directions. 4 train susp btwn Burnside Av...  \n",
       "44919  BK-bound. 4 train via express track Burnside A...  \n",
       "\n",
       "[44920 rows x 4 columns]"
      ]
     },
     "execution_count": 13,
     "metadata": {},
     "output_type": "execute_result"
    }
   ],
   "source": [
    "df"
   ]
  }
 ],
 "metadata": {
  "kernelspec": {
   "display_name": "Python 3",
   "language": "python",
   "name": "python3"
  },
  "language_info": {
   "codemirror_mode": {
    "name": "ipython",
    "version": 3
   },
   "file_extension": ".py",
   "mimetype": "text/x-python",
   "name": "python",
   "nbconvert_exporter": "python",
   "pygments_lexer": "ipython3",
   "version": "3.8.5"
  },
  "toc": {
   "base_numbering": 1,
   "nav_menu": {},
   "number_sections": true,
   "sideBar": true,
   "skip_h1_title": false,
   "title_cell": "Table of Contents",
   "title_sidebar": "Contents",
   "toc_cell": false,
   "toc_position": {},
   "toc_section_display": true,
   "toc_window_display": false
  }
 },
 "nbformat": 4,
 "nbformat_minor": 4
}
