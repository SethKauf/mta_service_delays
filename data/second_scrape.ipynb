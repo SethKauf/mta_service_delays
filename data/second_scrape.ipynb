{
 "cells": [
  {
   "cell_type": "code",
   "execution_count": 1,
   "metadata": {},
   "outputs": [],
   "source": [
    "import selenium\n",
    "from selenium import webdriver\n",
    "from selenium.webdriver.common.keys import Keys\n",
    "import time\n",
    "from bs4 import BeautifulSoup\n",
    "import pandas as pd\n",
    "import numpy as np"
   ]
  },
  {
   "cell_type": "code",
   "execution_count": 2,
   "metadata": {},
   "outputs": [],
   "source": [
    "driver = webdriver.Chrome()\n",
    "driver.get(\"https://www.mymtaalerts.com/archive\")"
   ]
  },
  {
   "cell_type": "code",
   "execution_count": 3,
   "metadata": {},
   "outputs": [],
   "source": [
    "start_date = driver.find_element_by_xpath(\"//*[@id='ctl00_ContentPlaceHolder1_dtpStartDate_dateInput']\")\n",
    "start_date.send_keys('01/01/2018')"
   ]
  },
  {
   "cell_type": "code",
   "execution_count": 4,
   "metadata": {},
   "outputs": [],
   "source": [
    "end_date = driver.find_element_by_xpath(\"//*[@id='ctl00_ContentPlaceHolder1_dtpStopDate_dateInput']\")\n",
    "end_date.send_keys('09/30/21')"
   ]
  },
  {
   "cell_type": "code",
   "execution_count": 5,
   "metadata": {},
   "outputs": [],
   "source": [
    "agency = driver.find_element_by_xpath(\"//*[@id='ctl00_ContentPlaceHolder1_ddlAgency']\")\n",
    "agency.send_keys('NYCT Subway')"
   ]
  },
  {
   "cell_type": "code",
   "execution_count": 6,
   "metadata": {},
   "outputs": [],
   "source": [
    "no_esc = driver.find_element_by_xpath(\"//*[@id='ctl00_ContentPlaceHolder1_chkHideElevatorEscalator']\")\n",
    "no_esc.click()"
   ]
  },
  {
   "cell_type": "code",
   "execution_count": 7,
   "metadata": {},
   "outputs": [],
   "source": [
    "update_button = driver.find_element_by_xpath(\"//*[@id='ctl00_ContentPlaceHolder1_btnGetData']\")\n",
    "update_button.click()"
   ]
  },
  {
   "cell_type": "code",
   "execution_count": 8,
   "metadata": {},
   "outputs": [],
   "source": [
    "soup = BeautifulSoup(driver.page_source, 'html.parser')"
   ]
  },
  {
   "cell_type": "code",
   "execution_count": 9,
   "metadata": {},
   "outputs": [],
   "source": [
    "messages = soup.findAll(class_=['rgRow', 'rgAltRow'])"
   ]
  },
  {
   "cell_type": "code",
   "execution_count": 9,
   "metadata": {},
   "outputs": [],
   "source": [
    "i = 0\n",
    "msg_list = []\n",
    "while len(msg_list) <= 100500:\n",
    "    messages = soup.findAll(class_=['rgRow', 'rgAltRow'])\n",
    "    for message in messages:\n",
    "        msg_list.append(message)\n",
    "        i += 1\n",
    "        if i % 50 == 0:\n",
    "            next_page = driver.find_element_by_xpath(\"//*[@id='ctl00_ContentPlaceHolder1_gridMessages_ctl00']/tfoot/tr[2]/td/div/div[3]/button[1]\")\n",
    "            next_page.click()\n",
    "            time.sleep(1)\n",
    "            soup = BeautifulSoup(driver.page_source, 'html.parser')\n",
    "            messages = soup.findAll(class_=['rgRow', 'rgAltRow'])"
   ]
  },
  {
   "cell_type": "code",
   "execution_count": 10,
   "metadata": {},
   "outputs": [
    {
     "name": "stderr",
     "output_type": "stream",
     "text": [
      "C:\\Users\\sethk\\anaconda3\\envs\\mta_env\\lib\\site-packages\\pandas\\core\\internals\\construction.py:540: VisibleDeprecationWarning: Creating an ndarray from ragged nested sequences (which is a list-or-tuple of lists-or-tuples-or ndarrays with different lengths or shapes) is deprecated. If you meant to do this, you must specify 'dtype=object' when creating the ndarray.\n",
      "  values = np.array([convert(v) for v in values])\n"
     ]
    },
    {
     "data": {
      "text/html": [
       "<div>\n",
       "<style scoped>\n",
       "    .dataframe tbody tr th:only-of-type {\n",
       "        vertical-align: middle;\n",
       "    }\n",
       "\n",
       "    .dataframe tbody tr th {\n",
       "        vertical-align: top;\n",
       "    }\n",
       "\n",
       "    .dataframe thead th {\n",
       "        text-align: right;\n",
       "    }\n",
       "</style>\n",
       "<table border=\"1\" class=\"dataframe\">\n",
       "  <thead>\n",
       "    <tr style=\"text-align: right;\">\n",
       "      <th></th>\n",
       "      <th>0</th>\n",
       "      <th>1</th>\n",
       "      <th>2</th>\n",
       "      <th>3</th>\n",
       "      <th>4</th>\n",
       "      <th>5</th>\n",
       "      <th>6</th>\n",
       "    </tr>\n",
       "  </thead>\n",
       "  <tbody>\n",
       "    <tr>\n",
       "      <th>0</th>\n",
       "      <td>\\n</td>\n",
       "      <td>[1122932]</td>\n",
       "      <td>[9/30/21, [], 11:54 PM]</td>\n",
       "      <td>[NYC]</td>\n",
       "      <td>[Update: BKLYN, Franklin Av S Train, Some Delays]</td>\n",
       "      <td>[Franklin Av Shuttle trains are delayed in bot...</td>\n",
       "      <td>\\n</td>\n",
       "    </tr>\n",
       "    <tr>\n",
       "      <th>1</th>\n",
       "      <td>\\n</td>\n",
       "      <td>[1122930]</td>\n",
       "      <td>[9/30/21, [], 11:54 PM]</td>\n",
       "      <td>[NYC]</td>\n",
       "      <td>[BKLYN, Franklin Av S Train, Some Delays]</td>\n",
       "      <td>[Franklin Av Shuttle trains are delayed in bot...</td>\n",
       "      <td>\\n</td>\n",
       "    </tr>\n",
       "    <tr>\n",
       "      <th>2</th>\n",
       "      <td>\\n</td>\n",
       "      <td>[1122928]</td>\n",
       "      <td>[9/30/21, [], 11:49 PM]</td>\n",
       "      <td>[NYC]</td>\n",
       "      <td>[Update: BKLYN, Q Train, Delays]</td>\n",
       "      <td>[Q trains are delayed in both directions while...</td>\n",
       "      <td>\\n</td>\n",
       "    </tr>\n",
       "    <tr>\n",
       "      <th>3</th>\n",
       "      <td>\\n</td>\n",
       "      <td>[1122926]</td>\n",
       "      <td>[9/30/21, [], 11:43 PM]</td>\n",
       "      <td>[NYC]</td>\n",
       "      <td>[Update: BKLYN, Q Train, Delays]</td>\n",
       "      <td>[Q trains are proceeding in both directions wi...</td>\n",
       "      <td>\\n</td>\n",
       "    </tr>\n",
       "    <tr>\n",
       "      <th>4</th>\n",
       "      <td>\\n</td>\n",
       "      <td>[1122924]</td>\n",
       "      <td>[9/30/21, [], 11:38 PM]</td>\n",
       "      <td>[NYC]</td>\n",
       "      <td>[BKLYN, Q Train, Delays]</td>\n",
       "      <td>[Q trains are delayed in both directions while...</td>\n",
       "      <td>\\n</td>\n",
       "    </tr>\n",
       "    <tr>\n",
       "      <th>...</th>\n",
       "      <td>...</td>\n",
       "      <td>...</td>\n",
       "      <td>...</td>\n",
       "      <td>...</td>\n",
       "      <td>...</td>\n",
       "      <td>...</td>\n",
       "      <td>...</td>\n",
       "    </tr>\n",
       "    <tr>\n",
       "      <th>100505</th>\n",
       "      <td>\\n</td>\n",
       "      <td>[485574]</td>\n",
       "      <td>[1/1/18, [], 2:50 AM]</td>\n",
       "      <td>[NYC]</td>\n",
       "      <td>[MANH, N and Q Trains, Signal Problems]</td>\n",
       "      <td>[Southbound N and Q trains are running express...</td>\n",
       "      <td>\\n</td>\n",
       "    </tr>\n",
       "    <tr>\n",
       "      <th>100506</th>\n",
       "      <td>\\n</td>\n",
       "      <td>[485569]</td>\n",
       "      <td>[1/1/18, [], 1:13 AM]</td>\n",
       "      <td>[NYC]</td>\n",
       "      <td>[UPDATED: MANH, A, C, D, E and F Trains, New Y...</td>\n",
       "      <td>[A, C, D, E and F train service has resumed fo...</td>\n",
       "      <td>\\n</td>\n",
       "    </tr>\n",
       "    <tr>\n",
       "      <th>100507</th>\n",
       "      <td>\\n</td>\n",
       "      <td>[485565]</td>\n",
       "      <td>[1/1/18, [], 12:24 AM]</td>\n",
       "      <td>[NYC]</td>\n",
       "      <td>[UPDATED: BX, 4 Trains, Switch Problems]</td>\n",
       "      <td>[4 train service has resumed following earlier...</td>\n",
       "      <td>\\n</td>\n",
       "    </tr>\n",
       "    <tr>\n",
       "      <th>100508</th>\n",
       "      <td>\\n</td>\n",
       "      <td>[485564]</td>\n",
       "      <td>[1/1/18, [], 12:20 AM]</td>\n",
       "      <td>[NYC]</td>\n",
       "      <td>[UPDATED: MANH, A, C, D, E and F Trains, New Y...</td>\n",
       "      <td>[A, C, D, E and F trains are running with dela...</td>\n",
       "      <td>\\n</td>\n",
       "    </tr>\n",
       "    <tr>\n",
       "      <th>100509</th>\n",
       "      <td>\\n</td>\n",
       "      <td>[485563]</td>\n",
       "      <td>[1/1/18, [], 12:20 AM]</td>\n",
       "      <td>[NYC]</td>\n",
       "      <td>[UPDATED: MANH, N and R Trains, Signal Problems]</td>\n",
       "      <td>[Southbound N and R trains are running with de...</td>\n",
       "      <td>\\n</td>\n",
       "    </tr>\n",
       "  </tbody>\n",
       "</table>\n",
       "<p>100510 rows × 7 columns</p>\n",
       "</div>"
      ],
      "text/plain": [
       "         0          1                        2      3  \\\n",
       "0       \\n  [1122932]  [9/30/21, [], 11:54 PM]  [NYC]   \n",
       "1       \\n  [1122930]  [9/30/21, [], 11:54 PM]  [NYC]   \n",
       "2       \\n  [1122928]  [9/30/21, [], 11:49 PM]  [NYC]   \n",
       "3       \\n  [1122926]  [9/30/21, [], 11:43 PM]  [NYC]   \n",
       "4       \\n  [1122924]  [9/30/21, [], 11:38 PM]  [NYC]   \n",
       "...     ..        ...                      ...    ...   \n",
       "100505  \\n   [485574]    [1/1/18, [], 2:50 AM]  [NYC]   \n",
       "100506  \\n   [485569]    [1/1/18, [], 1:13 AM]  [NYC]   \n",
       "100507  \\n   [485565]   [1/1/18, [], 12:24 AM]  [NYC]   \n",
       "100508  \\n   [485564]   [1/1/18, [], 12:20 AM]  [NYC]   \n",
       "100509  \\n   [485563]   [1/1/18, [], 12:20 AM]  [NYC]   \n",
       "\n",
       "                                                        4  \\\n",
       "0       [Update: BKLYN, Franklin Av S Train, Some Delays]   \n",
       "1               [BKLYN, Franklin Av S Train, Some Delays]   \n",
       "2                        [Update: BKLYN, Q Train, Delays]   \n",
       "3                        [Update: BKLYN, Q Train, Delays]   \n",
       "4                                [BKLYN, Q Train, Delays]   \n",
       "...                                                   ...   \n",
       "100505            [MANH, N and Q Trains, Signal Problems]   \n",
       "100506  [UPDATED: MANH, A, C, D, E and F Trains, New Y...   \n",
       "100507           [UPDATED: BX, 4 Trains, Switch Problems]   \n",
       "100508  [UPDATED: MANH, A, C, D, E and F Trains, New Y...   \n",
       "100509   [UPDATED: MANH, N and R Trains, Signal Problems]   \n",
       "\n",
       "                                                        5   6  \n",
       "0       [Franklin Av Shuttle trains are delayed in bot...  \\n  \n",
       "1       [Franklin Av Shuttle trains are delayed in bot...  \\n  \n",
       "2       [Q trains are delayed in both directions while...  \\n  \n",
       "3       [Q trains are proceeding in both directions wi...  \\n  \n",
       "4       [Q trains are delayed in both directions while...  \\n  \n",
       "...                                                   ...  ..  \n",
       "100505  [Southbound N and Q trains are running express...  \\n  \n",
       "100506  [A, C, D, E and F train service has resumed fo...  \\n  \n",
       "100507  [4 train service has resumed following earlier...  \\n  \n",
       "100508  [A, C, D, E and F trains are running with dela...  \\n  \n",
       "100509  [Southbound N and R trains are running with de...  \\n  \n",
       "\n",
       "[100510 rows x 7 columns]"
      ]
     },
     "execution_count": 10,
     "metadata": {},
     "output_type": "execute_result"
    }
   ],
   "source": [
    "msg_df = pd.DataFrame(msg_list, dtype='object')\n",
    "msg_df"
   ]
  },
  {
   "cell_type": "code",
   "execution_count": 11,
   "metadata": {},
   "outputs": [],
   "source": [
    "msg_df.to_csv('second_data.csv')"
   ]
  },
  {
   "cell_type": "code",
   "execution_count": null,
   "metadata": {},
   "outputs": [],
   "source": []
  }
 ],
 "metadata": {
  "interpreter": {
   "hash": "4d29263e64fad82589977bb8b93283775a9d983ec95086e716f5707f7afbd50e"
  },
  "kernelspec": {
   "display_name": "Python 3.9.7 64-bit ('mta_env': conda)",
   "name": "python3"
  },
  "language_info": {
   "codemirror_mode": {
    "name": "ipython",
    "version": 3
   },
   "file_extension": ".py",
   "mimetype": "text/x-python",
   "name": "python",
   "nbconvert_exporter": "python",
   "pygments_lexer": "ipython3",
   "version": "3.9.7"
  },
  "orig_nbformat": 4
 },
 "nbformat": 4,
 "nbformat_minor": 2
}
