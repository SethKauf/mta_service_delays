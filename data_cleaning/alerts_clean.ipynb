{
 "cells": [
  {
   "cell_type": "code",
   "execution_count": 7,
   "metadata": {
    "ExecuteTime": {
     "end_time": "2021-10-15T00:40:42.382514Z",
     "start_time": "2021-10-15T00:40:42.380513Z"
    }
   },
   "outputs": [],
   "source": [
    "import pandas as pd\n",
    "import pickle as pkl"
   ]
  },
  {
   "cell_type": "code",
   "execution_count": 2,
   "metadata": {
    "ExecuteTime": {
     "end_time": "2021-10-14T17:30:02.658152Z",
     "start_time": "2021-10-14T17:30:00.114555Z"
    },
    "scrolled": true
   },
   "outputs": [],
   "source": [
    "alerts_data = pd.read_csv('data/alerts/alerts_8.csv', encoding='utf_8')"
   ]
  },
  {
   "cell_type": "code",
   "execution_count": 4,
   "metadata": {
    "ExecuteTime": {
     "end_time": "2021-10-15T00:40:01.991442Z",
     "start_time": "2021-10-15T00:39:59.917140Z"
    }
   },
   "outputs": [],
   "source": [
    "df = pd.read_csv('data/alerts_clean.csv')"
   ]
  },
  {
   "cell_type": "code",
   "execution_count": 5,
   "metadata": {
    "ExecuteTime": {
     "end_time": "2021-10-15T00:40:20.369914Z",
     "start_time": "2021-10-15T00:40:20.364913Z"
    }
   },
   "outputs": [],
   "source": [
    "df = pd.DataFrame(df)"
   ]
  },
  {
   "cell_type": "code",
   "execution_count": 13,
   "metadata": {
    "ExecuteTime": {
     "end_time": "2021-10-15T00:43:51.674468Z",
     "start_time": "2021-10-15T00:43:51.333099Z"
    }
   },
   "outputs": [],
   "source": [
    "with open('alerts.pkl', 'wb') as f:\n",
    "    pkl.dump(df, f)"
   ]
  },
  {
   "cell_type": "code",
   "execution_count": 15,
   "metadata": {
    "ExecuteTime": {
     "end_time": "2021-10-15T00:44:22.425587Z",
     "start_time": "2021-10-15T00:44:22.196548Z"
    }
   },
   "outputs": [],
   "source": [
    "with open('alerts.pkl', 'rb') as f:\n",
    "    df = pkl.load(f)"
   ]
  },
  {
   "cell_type": "code",
   "execution_count": 11,
   "metadata": {
    "ExecuteTime": {
     "end_time": "2021-10-15T00:43:40.286980Z",
     "start_time": "2021-10-15T00:43:08.333640Z"
    }
   },
   "outputs": [],
   "source": [
    "df['DateTime'] = pd.to_datetime(df['DateTime'])"
   ]
  },
  {
   "cell_type": "code",
   "execution_count": 16,
   "metadata": {
    "ExecuteTime": {
     "end_time": "2021-10-15T00:44:26.158790Z",
     "start_time": "2021-10-15T00:44:26.084120Z"
    }
   },
   "outputs": [
    {
     "name": "stdout",
     "output_type": "stream",
     "text": [
      "<class 'pandas.core.frame.DataFrame'>\n",
      "RangeIndex: 567635 entries, 0 to 567634\n",
      "Data columns (total 4 columns):\n",
      " #   Column    Non-Null Count   Dtype         \n",
      "---  ------    --------------   -----         \n",
      " 0   ID        567635 non-null  int64         \n",
      " 1   DateTime  567635 non-null  datetime64[ns]\n",
      " 2   Subject   567635 non-null  object        \n",
      " 3   Alert     567635 non-null  object        \n",
      "dtypes: datetime64[ns](1), int64(1), object(2)\n",
      "memory usage: 17.3+ MB\n"
     ]
    }
   ],
   "source": [
    "df.info()"
   ]
  },
  {
   "cell_type": "code",
   "execution_count": 5,
   "metadata": {
    "ExecuteTime": {
     "end_time": "2021-10-14T17:30:22.847182Z",
     "start_time": "2021-10-14T17:30:22.844611Z"
    }
   },
   "outputs": [],
   "source": [
    "alerts_df = pd.DataFrame(alerts_data)"
   ]
  },
  {
   "cell_type": "code",
   "execution_count": 6,
   "metadata": {
    "ExecuteTime": {
     "end_time": "2021-10-14T17:30:23.607598Z",
     "start_time": "2021-10-14T17:30:23.509176Z"
    }
   },
   "outputs": [
    {
     "name": "stdout",
     "output_type": "stream",
     "text": [
      "<class 'pandas.core.frame.DataFrame'>\n",
      "RangeIndex: 573597 entries, 0 to 573596\n",
      "Data columns (total 6 columns):\n",
      " #   Column    Non-Null Count   Dtype \n",
      "---  ------    --------------   ----- \n",
      " 0   Index     573597 non-null  int64 \n",
      " 1   ID        573597 non-null  int64 \n",
      " 2   DateTime  573597 non-null  object\n",
      " 3   Agency    573597 non-null  object\n",
      " 4   Subject   573597 non-null  object\n",
      " 5   Alert     573597 non-null  object\n",
      "dtypes: int64(2), object(4)\n",
      "memory usage: 26.3+ MB\n"
     ]
    }
   ],
   "source": [
    "alerts_df.info()"
   ]
  },
  {
   "cell_type": "code",
   "execution_count": 7,
   "metadata": {
    "ExecuteTime": {
     "end_time": "2021-10-14T17:30:26.182181Z",
     "start_time": "2021-10-14T17:30:26.148600Z"
    }
   },
   "outputs": [
    {
     "data": {
      "text/html": [
       "<div>\n",
       "<style scoped>\n",
       "    .dataframe tbody tr th:only-of-type {\n",
       "        vertical-align: middle;\n",
       "    }\n",
       "\n",
       "    .dataframe tbody tr th {\n",
       "        vertical-align: top;\n",
       "    }\n",
       "\n",
       "    .dataframe thead th {\n",
       "        text-align: right;\n",
       "    }\n",
       "</style>\n",
       "<table border=\"1\" class=\"dataframe\">\n",
       "  <thead>\n",
       "    <tr style=\"text-align: right;\">\n",
       "      <th></th>\n",
       "      <th>ID</th>\n",
       "      <th>DateTime</th>\n",
       "      <th>Subject</th>\n",
       "      <th>Alert</th>\n",
       "    </tr>\n",
       "  </thead>\n",
       "  <tbody>\n",
       "    <tr>\n",
       "      <th>0</th>\n",
       "      <td>1123289</td>\n",
       "      <td>10/1/2021 14:32</td>\n",
       "      <td>Elevator at Atlantic Av-Barclays Ctr is back i...</td>\n",
       "      <td>Elevator EL307 is located Mezzanine to B/Q Pla...</td>\n",
       "    </tr>\n",
       "    <tr>\n",
       "      <th>1</th>\n",
       "      <td>1123284</td>\n",
       "      <td>10/1/2021 14:17</td>\n",
       "      <td>Escalator outage at 34 St - Hudson Yards (ES626)</td>\n",
       "      <td>Escalator ES626, which runs from Upper Mezzani...</td>\n",
       "    </tr>\n",
       "    <tr>\n",
       "      <th>2</th>\n",
       "      <td>1123283</td>\n",
       "      <td>10/1/2021 14:15</td>\n",
       "      <td>Details about current outage Elevator at 149 S...</td>\n",
       "      <td>The outage is now scheduled to end by Monday, ...</td>\n",
       "    </tr>\n",
       "    <tr>\n",
       "      <th>3</th>\n",
       "      <td>1123279</td>\n",
       "      <td>10/1/2021 14:01</td>\n",
       "      <td>Elevator at 8 Av - 14 St is back in service (E...</td>\n",
       "      <td>Elevator EL224 is located Mezzanine to Platfor...</td>\n",
       "    </tr>\n",
       "    <tr>\n",
       "      <th>4</th>\n",
       "      <td>1123276</td>\n",
       "      <td>10/1/2021 13:54</td>\n",
       "      <td>Details about current outage Escalator at Cour...</td>\n",
       "      <td>The outage is now scheduled to end by Monday, ...</td>\n",
       "    </tr>\n",
       "  </tbody>\n",
       "</table>\n",
       "</div>"
      ],
      "text/plain": [
       "        ID         DateTime  \\\n",
       "0  1123289  10/1/2021 14:32   \n",
       "1  1123284  10/1/2021 14:17   \n",
       "2  1123283  10/1/2021 14:15   \n",
       "3  1123279  10/1/2021 14:01   \n",
       "4  1123276  10/1/2021 13:54   \n",
       "\n",
       "                                             Subject  \\\n",
       "0  Elevator at Atlantic Av-Barclays Ctr is back i...   \n",
       "1   Escalator outage at 34 St - Hudson Yards (ES626)   \n",
       "2  Details about current outage Elevator at 149 S...   \n",
       "3  Elevator at 8 Av - 14 St is back in service (E...   \n",
       "4  Details about current outage Escalator at Cour...   \n",
       "\n",
       "                                               Alert  \n",
       "0  Elevator EL307 is located Mezzanine to B/Q Pla...  \n",
       "1  Escalator ES626, which runs from Upper Mezzani...  \n",
       "2  The outage is now scheduled to end by Monday, ...  \n",
       "3  Elevator EL224 is located Mezzanine to Platfor...  \n",
       "4  The outage is now scheduled to end by Monday, ...  "
      ]
     },
     "execution_count": 7,
     "metadata": {},
     "output_type": "execute_result"
    }
   ],
   "source": [
    "alerts_df.drop(['Index', 'Agency'], axis=1, inplace=True)\n",
    "alerts_df.head()"
   ]
  },
  {
   "cell_type": "code",
   "execution_count": 8,
   "metadata": {
    "ExecuteTime": {
     "end_time": "2021-10-14T17:30:31.299109Z",
     "start_time": "2021-10-14T17:30:31.260608Z"
    }
   },
   "outputs": [
    {
     "data": {
      "text/plain": [
       "False    567958\n",
       "True       5639\n",
       "dtype: int64"
      ]
     },
     "execution_count": 8,
     "metadata": {},
     "output_type": "execute_result"
    }
   ],
   "source": [
    "alerts_df.duplicated(subset=['ID']).value_counts()"
   ]
  },
  {
   "cell_type": "code",
   "execution_count": 9,
   "metadata": {
    "ExecuteTime": {
     "end_time": "2021-10-14T17:30:32.911812Z",
     "start_time": "2021-10-14T17:30:32.844636Z"
    }
   },
   "outputs": [],
   "source": [
    "alerts_df.drop_duplicates(subset='ID', inplace=True)"
   ]
  },
  {
   "cell_type": "code",
   "execution_count": 10,
   "metadata": {
    "ExecuteTime": {
     "end_time": "2021-10-14T17:30:33.978150Z",
     "start_time": "2021-10-14T17:30:33.892613Z"
    }
   },
   "outputs": [
    {
     "name": "stdout",
     "output_type": "stream",
     "text": [
      "<class 'pandas.core.frame.DataFrame'>\n",
      "Int64Index: 567958 entries, 0 to 573596\n",
      "Data columns (total 4 columns):\n",
      " #   Column    Non-Null Count   Dtype \n",
      "---  ------    --------------   ----- \n",
      " 0   ID        567958 non-null  int64 \n",
      " 1   DateTime  567958 non-null  object\n",
      " 2   Subject   567958 non-null  object\n",
      " 3   Alert     567958 non-null  object\n",
      "dtypes: int64(1), object(3)\n",
      "memory usage: 21.7+ MB\n"
     ]
    }
   ],
   "source": [
    "alerts_df.info()"
   ]
  },
  {
   "cell_type": "code",
   "execution_count": 11,
   "metadata": {
    "ExecuteTime": {
     "end_time": "2021-10-14T17:31:06.835664Z",
     "start_time": "2021-10-14T17:30:34.860790Z"
    }
   },
   "outputs": [],
   "source": [
    "alerts_df['DateTime'] = pd.to_datetime(alerts_df['DateTime'])"
   ]
  },
  {
   "cell_type": "code",
   "execution_count": 1,
   "metadata": {
    "ExecuteTime": {
     "end_time": "2021-10-15T00:38:23.549369Z",
     "start_time": "2021-10-15T00:38:23.248185Z"
    }
   },
   "outputs": [
    {
     "ename": "NameError",
     "evalue": "name 'alerts_df' is not defined",
     "output_type": "error",
     "traceback": [
      "\u001b[1;31m---------------------------------------------------------------------------\u001b[0m",
      "\u001b[1;31mNameError\u001b[0m                                 Traceback (most recent call last)",
      "\u001b[1;32m<ipython-input-1-b2e003438276>\u001b[0m in \u001b[0;36m<module>\u001b[1;34m\u001b[0m\n\u001b[1;32m----> 1\u001b[1;33m \u001b[0malerts_df\u001b[0m\u001b[1;33m.\u001b[0m\u001b[0mhead\u001b[0m\u001b[1;33m(\u001b[0m\u001b[1;33m)\u001b[0m\u001b[1;33m\u001b[0m\u001b[1;33m\u001b[0m\u001b[0m\n\u001b[0m",
      "\u001b[1;31mNameError\u001b[0m: name 'alerts_df' is not defined"
     ]
    }
   ],
   "source": [
    "alerts_df.head()"
   ]
  },
  {
   "cell_type": "code",
   "execution_count": 15,
   "metadata": {
    "ExecuteTime": {
     "end_time": "2021-10-14T17:32:23.540258Z",
     "start_time": "2021-10-14T17:32:17.396563Z"
    }
   },
   "outputs": [],
   "source": [
    "alerts_df.to_csv('alerts_clean.csv')"
   ]
  }
 ],
 "metadata": {
  "kernelspec": {
   "display_name": "Python 3",
   "language": "python",
   "name": "python3"
  },
  "language_info": {
   "codemirror_mode": {
    "name": "ipython",
    "version": 3
   },
   "file_extension": ".py",
   "mimetype": "text/x-python",
   "name": "python",
   "nbconvert_exporter": "python",
   "pygments_lexer": "ipython3",
   "version": "3.8.5"
  },
  "toc": {
   "base_numbering": 1,
   "nav_menu": {},
   "number_sections": true,
   "sideBar": true,
   "skip_h1_title": false,
   "title_cell": "Table of Contents",
   "title_sidebar": "Contents",
   "toc_cell": false,
   "toc_position": {},
   "toc_section_display": true,
   "toc_window_display": false
  }
 },
 "nbformat": 4,
 "nbformat_minor": 4
}
