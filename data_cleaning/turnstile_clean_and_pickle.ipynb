{
 "cells": [
  {
   "cell_type": "code",
   "execution_count": 1,
   "metadata": {
    "ExecuteTime": {
     "end_time": "2021-10-14T23:59:08.742843Z",
     "start_time": "2021-10-14T23:59:08.305339Z"
    }
   },
   "outputs": [],
   "source": [
    "import pandas as pd\n",
    "import pickle as pkl\n",
    "# import bz2"
   ]
  },
  {
   "cell_type": "code",
   "execution_count": 11,
   "metadata": {
    "ExecuteTime": {
     "end_time": "2021-10-15T00:32:19.880865Z",
     "start_time": "2021-10-15T00:31:54.403831Z"
    }
   },
   "outputs": [],
   "source": [
    "with open('data/turnstile/turnstiles.pkl', 'rb') as f:\n",
    "    df = pkl.load(f)"
   ]
  },
  {
   "cell_type": "code",
   "execution_count": 12,
   "metadata": {
    "ExecuteTime": {
     "end_time": "2021-10-15T00:34:00.556076Z",
     "start_time": "2021-10-15T00:34:00.533062Z"
    }
   },
   "outputs": [
    {
     "data": {
      "text/plain": [
       "Index(['control_area', 'unit', 'scp', 'station', 'train_lines', 'division',\n",
       "       'desc', 'entries', 'exits', 'datetime'],\n",
       "      dtype='object')"
      ]
     },
     "execution_count": 12,
     "metadata": {},
     "output_type": "execute_result"
    }
   ],
   "source": [
    "df.columns"
   ]
  },
  {
   "cell_type": "code",
   "execution_count": 3,
   "metadata": {
    "ExecuteTime": {
     "end_time": "2021-10-15T00:00:02.068826Z",
     "start_time": "2021-10-14T23:59:53.388904Z"
    },
    "scrolled": false
   },
   "outputs": [],
   "source": [
    "df.drop(['Unnamed: 0', 'date', 'time'], axis=1, inplace=True)"
   ]
  },
  {
   "cell_type": "code",
   "execution_count": 5,
   "metadata": {
    "ExecuteTime": {
     "end_time": "2021-10-15T00:20:35.825511Z",
     "start_time": "2021-10-15T00:20:35.684172Z"
    }
   },
   "outputs": [
    {
     "name": "stdout",
     "output_type": "stream",
     "text": [
      "<class 'pandas.core.frame.DataFrame'>\n",
      "RangeIndex: 72806520 entries, 0 to 72806519\n",
      "Data columns (total 10 columns):\n",
      " #   Column        Dtype \n",
      "---  ------        ----- \n",
      " 0   control_area  object\n",
      " 1   unit          object\n",
      " 2   scp           object\n",
      " 3   station       object\n",
      " 4   train_lines   object\n",
      " 5   division      object\n",
      " 6   desc          object\n",
      " 7   entries       int64 \n",
      " 8   exits         int64 \n",
      " 9   datetime      object\n",
      "dtypes: int64(2), object(8)\n",
      "memory usage: 5.4+ GB\n"
     ]
    }
   ],
   "source": [
    "df.info()"
   ]
  },
  {
   "cell_type": "code",
   "execution_count": 6,
   "metadata": {
    "ExecuteTime": {
     "end_time": "2021-10-15T00:21:15.134140Z",
     "start_time": "2021-10-15T00:20:51.938931Z"
    }
   },
   "outputs": [],
   "source": [
    "with open('data/turnstile/turnstiles.pkl', 'wb') as f:\n",
    "    pkl.dump(df, f)"
   ]
  },
  {
   "cell_type": "code",
   "execution_count": 8,
   "metadata": {
    "ExecuteTime": {
     "end_time": "2021-10-15T00:25:38.722078Z",
     "start_time": "2021-10-15T00:25:22.869002Z"
    }
   },
   "outputs": [],
   "source": [
    "df['datetime'] = pd.to_datetime(df['datetime'])"
   ]
  },
  {
   "cell_type": "code",
   "execution_count": 13,
   "metadata": {
    "ExecuteTime": {
     "end_time": "2021-10-15T00:34:06.844652Z",
     "start_time": "2021-10-15T00:34:06.804831Z"
    }
   },
   "outputs": [
    {
     "name": "stdout",
     "output_type": "stream",
     "text": [
      "<class 'pandas.core.frame.DataFrame'>\n",
      "RangeIndex: 72806520 entries, 0 to 72806519\n",
      "Data columns (total 10 columns):\n",
      " #   Column        Dtype         \n",
      "---  ------        -----         \n",
      " 0   control_area  object        \n",
      " 1   unit          object        \n",
      " 2   scp           object        \n",
      " 3   station       object        \n",
      " 4   train_lines   object        \n",
      " 5   division      object        \n",
      " 6   desc          object        \n",
      " 7   entries       int64         \n",
      " 8   exits         int64         \n",
      " 9   datetime      datetime64[ns]\n",
      "dtypes: datetime64[ns](1), int64(2), object(7)\n",
      "memory usage: 5.4+ GB\n"
     ]
    }
   ],
   "source": [
    "df.info()"
   ]
  },
  {
   "cell_type": "code",
   "execution_count": 10,
   "metadata": {
    "ExecuteTime": {
     "end_time": "2021-10-15T00:27:12.137352Z",
     "start_time": "2021-10-15T00:26:56.891488Z"
    }
   },
   "outputs": [],
   "source": [
    "with open('data/turnstile/turnstiles.pkl', 'wb') as f:\n",
    "    pkl.dump(df, f)"
   ]
  },
  {
   "cell_type": "code",
   "execution_count": null,
   "metadata": {
    "ExecuteTime": {
     "end_time": "2021-10-14T21:10:08.684651Z",
     "start_time": "2021-10-14T21:10:08.666900Z"
    }
   },
   "outputs": [],
   "source": [
    "# col name normalization (and fixing EXITS which is... weird)\n",
    "all_df.rename(columns={'C/A': 'control_area', 'UNIT': 'unit', 'SCP' : 'scp', 'STATION' : 'station',\n",
    "                       'LINENAME': 'train_lines', 'DIVISION': 'division', 'DATE': 'date', 'TIME': 'time',\n",
    "                       'DESC':'desc', 'ENTRIES':'entries',\n",
    "                       'EXITS                                                               ': 'exits'}, inplace=True)"
   ]
  },
  {
   "cell_type": "code",
   "execution_count": null,
   "metadata": {
    "ExecuteTime": {
     "end_time": "2021-10-14T21:12:17.646789Z",
     "start_time": "2021-10-14T21:10:11.625887Z"
    }
   },
   "outputs": [],
   "source": [
    "# only a few nas (literally 1-2)\n",
    "all_df.dropna(inplace=True)\n",
    "all_df.info()"
   ]
  },
  {
   "cell_type": "code",
   "execution_count": null,
   "metadata": {
    "ExecuteTime": {
     "end_time": "2021-10-14T21:14:34.140428Z",
     "start_time": "2021-10-14T21:14:12.755669Z"
    }
   },
   "outputs": [],
   "source": [
    "all_df['dt'] = (all_df['date'] + ' ' + all_df['time'])"
   ]
  },
  {
   "cell_type": "code",
   "execution_count": null,
   "metadata": {
    "ExecuteTime": {
     "end_time": "2021-10-14T21:21:57.823366Z",
     "start_time": "2021-10-14T21:18:22.743070Z"
    }
   },
   "outputs": [],
   "source": [
    "all_df[all_df['dt'] == 'DATE TIME']"
   ]
  },
  {
   "cell_type": "code",
   "execution_count": null,
   "metadata": {
    "ExecuteTime": {
     "end_time": "2021-10-14T21:26:08.095627Z",
     "start_time": "2021-10-14T21:24:57.602867Z"
    }
   },
   "outputs": [],
   "source": [
    "all_df = all_df[all_df.dt != 'DATE TIME']"
   ]
  },
  {
   "cell_type": "code",
   "execution_count": null,
   "metadata": {
    "ExecuteTime": {
     "end_time": "2021-10-14T21:27:14.292721Z",
     "start_time": "2021-10-14T21:27:14.207257Z"
    }
   },
   "outputs": [],
   "source": [
    "all_df.info()"
   ]
  },
  {
   "cell_type": "code",
   "execution_count": null,
   "metadata": {
    "ExecuteTime": {
     "end_time": "2021-10-14T21:43:50.108380Z",
     "start_time": "2021-10-14T21:38:58.037150Z"
    }
   },
   "outputs": [],
   "source": [
    "all_df['datetime'] = pd.to_datetime(all_df['dt'])"
   ]
  },
  {
   "cell_type": "code",
   "execution_count": null,
   "metadata": {
    "ExecuteTime": {
     "end_time": "2021-10-14T21:48:05.728518Z",
     "start_time": "2021-10-14T21:46:55.116769Z"
    },
    "scrolled": true
   },
   "outputs": [],
   "source": [
    "all_df.drop('dt', axis=1, inplace=True)"
   ]
  },
  {
   "cell_type": "code",
   "execution_count": null,
   "metadata": {
    "ExecuteTime": {
     "end_time": "2021-10-14T21:48:23.444638Z",
     "start_time": "2021-10-14T21:48:23.413857Z"
    }
   },
   "outputs": [],
   "source": [
    "all_df.info()"
   ]
  },
  {
   "cell_type": "code",
   "execution_count": null,
   "metadata": {
    "ExecuteTime": {
     "end_time": "2021-10-14T21:59:05.967250Z",
     "start_time": "2021-10-14T21:54:04.861727Z"
    }
   },
   "outputs": [],
   "source": [
    "all_df.to_csv('all_df_cleaned.csv')"
   ]
  },
  {
   "cell_type": "code",
   "execution_count": null,
   "metadata": {
    "ExecuteTime": {
     "end_time": "2021-10-14T21:48:37.321807Z",
     "start_time": "2021-10-14T21:48:37.308975Z"
    }
   },
   "outputs": [],
   "source": [
    "station_df = all_df.groupby(by=['station'])"
   ]
  },
  {
   "cell_type": "markdown",
   "metadata": {
    "ExecuteTime": {
     "end_time": "2021-10-14T17:46:59.876465Z",
     "start_time": "2021-10-14T17:46:47.830129Z"
    }
   },
   "source": [
    "data_2021 = pd.read_csv('data/turnstile/turnstiles/2021.csv',low_memory=False)"
   ]
  },
  {
   "cell_type": "markdown",
   "metadata": {
    "ExecuteTime": {
     "end_time": "2021-10-14T17:47:38.186551Z",
     "start_time": "2021-10-14T17:47:23.070184Z"
    }
   },
   "source": [
    "data_2020 = pd.read_csv('data/turnstile/turnstiles/2020.csv',low_memory=False)"
   ]
  },
  {
   "cell_type": "markdown",
   "metadata": {
    "ExecuteTime": {
     "end_time": "2021-10-14T17:47:02.565202Z",
     "start_time": "2021-10-14T17:47:02.269151Z"
    }
   },
   "source": [
    "df_2021 = pd.DataFrame(data_2021)\n",
    "df_2021.info()"
   ]
  },
  {
   "cell_type": "markdown",
   "metadata": {
    "ExecuteTime": {
     "end_time": "2021-10-14T17:47:40.619106Z",
     "start_time": "2021-10-14T17:47:40.614105Z"
    }
   },
   "source": [
    "df_2020 = pd.DataFrame(data_2020)\n",
    "df_2020.info()"
   ]
  },
  {
   "cell_type": "markdown",
   "metadata": {
    "ExecuteTime": {
     "end_time": "2021-10-14T17:54:12.333852Z",
     "start_time": "2021-10-14T17:54:10.390428Z"
    }
   },
   "source": [
    "df_2021['DateTime'] = (df_2021['DATE'] + ' ' + df_2021['TIME'])\n",
    "df_2021.head()"
   ]
  },
  {
   "cell_type": "markdown",
   "metadata": {
    "ExecuteTime": {
     "end_time": "2021-10-14T17:55:01.731331Z",
     "start_time": "2021-10-14T17:55:01.365896Z"
    }
   },
   "source": [
    "df_2021['DateTime'].duplicated()"
   ]
  },
  {
   "cell_type": "markdown",
   "metadata": {},
   "source": [
    "pd.to_datetime(df_2021['DateTime'])"
   ]
  },
  {
   "cell_type": "markdown",
   "metadata": {
    "ExecuteTime": {
     "end_time": "2021-10-14T17:50:05.150975Z",
     "start_time": "2021-10-14T17:50:05.133931Z"
    }
   },
   "source": [
    "frames = [df_2021, df_2020]"
   ]
  },
  {
   "cell_type": "markdown",
   "metadata": {
    "ExecuteTime": {
     "end_time": "2021-10-14T18:52:44.843550Z",
     "start_time": "2021-10-14T18:52:10.644650Z"
    }
   },
   "source": [
    "turnstile_df = df_2021.merge(df_2020, how='outer')"
   ]
  },
  {
   "cell_type": "code",
   "execution_count": null,
   "metadata": {
    "ExecuteTime": {
     "end_time": "2021-10-14T18:53:26.494422Z",
     "start_time": "2021-10-14T18:53:26.476358Z"
    }
   },
   "outputs": [],
   "source": [
    "turnstile_df"
   ]
  }
 ],
 "metadata": {
  "kernelspec": {
   "display_name": "Python 3",
   "language": "python",
   "name": "python3"
  },
  "language_info": {
   "codemirror_mode": {
    "name": "ipython",
    "version": 3
   },
   "file_extension": ".py",
   "mimetype": "text/x-python",
   "name": "python",
   "nbconvert_exporter": "python",
   "pygments_lexer": "ipython3",
   "version": "3.8.5"
  },
  "toc": {
   "base_numbering": 1,
   "nav_menu": {},
   "number_sections": true,
   "sideBar": true,
   "skip_h1_title": false,
   "title_cell": "Table of Contents",
   "title_sidebar": "Contents",
   "toc_cell": false,
   "toc_position": {},
   "toc_section_display": true,
   "toc_window_display": false
  }
 },
 "nbformat": 4,
 "nbformat_minor": 4
}
