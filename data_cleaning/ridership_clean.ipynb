{
 "cells": [
  {
   "cell_type": "code",
   "execution_count": 1,
   "metadata": {
    "ExecuteTime": {
     "end_time": "2021-10-26T11:23:50.090423Z",
     "start_time": "2021-10-26T11:23:49.840090Z"
    }
   },
   "outputs": [],
   "source": [
    "import pandas as pd\n",
    "import pickle as pkl"
   ]
  },
  {
   "cell_type": "code",
   "execution_count": 2,
   "metadata": {
    "ExecuteTime": {
     "end_time": "2021-10-26T11:23:50.105978Z",
     "start_time": "2021-10-26T11:23:50.091394Z"
    }
   },
   "outputs": [],
   "source": [
    "df = pd.read_csv('data/rider_total.csv')\n",
    "wkdy = pd.read_csv('data/rider_wkdy.csv')\n",
    "wknd = pd.read_csv('data/rider_wknd.csv')"
   ]
  },
  {
   "cell_type": "code",
   "execution_count": 3,
   "metadata": {
    "ExecuteTime": {
     "end_time": "2021-10-26T11:23:50.121395Z",
     "start_time": "2021-10-26T11:23:50.108268Z"
    }
   },
   "outputs": [],
   "source": [
    "df = df.iloc[:,:8]"
   ]
  },
  {
   "cell_type": "code",
   "execution_count": 4,
   "metadata": {
    "ExecuteTime": {
     "end_time": "2021-10-26T11:23:50.136678Z",
     "start_time": "2021-10-26T11:23:50.122396Z"
    }
   },
   "outputs": [
    {
     "data": {
      "text/plain": [
       "Index(['Station (alphabetical by borough)', 'Boro', '2015.00', '2016.00',\n",
       "       '2017.00', '2018.00', '2019.00', '2020.00'],\n",
       "      dtype='object')"
      ]
     },
     "execution_count": 4,
     "metadata": {},
     "output_type": "execute_result"
    }
   ],
   "source": [
    "df.columns"
   ]
  },
  {
   "cell_type": "code",
   "execution_count": 5,
   "metadata": {
    "ExecuteTime": {
     "end_time": "2021-10-26T11:23:50.152487Z",
     "start_time": "2021-10-26T11:23:50.138154Z"
    }
   },
   "outputs": [],
   "source": [
    "df.rename({'Station (alphabetical by borough)':'station'},axis=1,inplace=True)"
   ]
  },
  {
   "cell_type": "code",
   "execution_count": 6,
   "metadata": {
    "ExecuteTime": {
     "end_time": "2021-10-26T11:23:50.168369Z",
     "start_time": "2021-10-26T11:23:50.153488Z"
    }
   },
   "outputs": [],
   "source": [
    "df['station'] = df['station'].str.replace(pat=',',repl='/')"
   ]
  },
  {
   "cell_type": "code",
   "execution_count": 7,
   "metadata": {
    "ExecuteTime": {
     "end_time": "2021-10-26T11:23:50.184398Z",
     "start_time": "2021-10-26T11:23:50.169369Z"
    }
   },
   "outputs": [],
   "source": [
    "df = df.loc[df['station'].str.contains('1|2|3|4|5|6|7')]"
   ]
  },
  {
   "cell_type": "code",
   "execution_count": 8,
   "metadata": {
    "ExecuteTime": {
     "end_time": "2021-10-26T11:23:50.200442Z",
     "start_time": "2021-10-26T11:23:50.185398Z"
    }
   },
   "outputs": [],
   "source": [
    "pd.set_option('display.max_rows',300)"
   ]
  },
  {
   "cell_type": "code",
   "execution_count": 16,
   "metadata": {
    "ExecuteTime": {
     "end_time": "2021-10-26T11:25:35.291753Z",
     "start_time": "2021-10-26T11:25:35.274234Z"
    }
   },
   "outputs": [],
   "source": [
    "df.rename({'2015.00':'2015','2016.00':'2016','2017.00':'2017',\n",
    "          '2018.00':'2018','2019.00':'2019','2020.00':'2020'},axis=1,inplace=True)"
   ]
  },
  {
   "cell_type": "code",
   "execution_count": 10,
   "metadata": {
    "ExecuteTime": {
     "end_time": "2021-10-26T11:23:50.293393Z",
     "start_time": "2021-10-26T11:23:50.278694Z"
    }
   },
   "outputs": [],
   "source": [
    "df.drop(index=[0,3,5,6,9,10,13,15,19,21,24,29,31,32,33,36,38,40,42,44,45,\n",
    "              47,48,49,52,53,55,57,58,59,61,62,68,69,70,74,75,78,79,82,85,\n",
    "              88,89,90,91,92,93,96,97,99,100,101,102,104,105,107,108,109,110,\n",
    "              111,113,114,116,119,120,121,122,124,125,127,128,130,132,136,138,\n",
    "              141,142,143,144,150,151,171,176,178,179,180,181,182,183,248,266,\n",
    "              300, 303, 322,349,354,380,410],inplace=True)"
   ]
  },
  {
   "cell_type": "code",
   "execution_count": 11,
   "metadata": {
    "ExecuteTime": {
     "end_time": "2021-10-26T11:23:50.309506Z",
     "start_time": "2021-10-26T11:23:50.294394Z"
    }
   },
   "outputs": [],
   "source": [
    "df.reset_index(inplace=True)\n",
    "df.drop('index',axis=1,inplace=True)"
   ]
  },
  {
   "cell_type": "code",
   "execution_count": 17,
   "metadata": {
    "ExecuteTime": {
     "end_time": "2021-10-26T11:25:38.387116Z",
     "start_time": "2021-10-26T11:25:38.378114Z"
    },
    "scrolled": false
   },
   "outputs": [],
   "source": [
    "df['mean'] = (df['2015'] + df['2016'] + df['2017'] + df['2018'] + df['2019'] + df['2020'])/5"
   ]
  },
  {
   "cell_type": "code",
   "execution_count": 19,
   "metadata": {
    "ExecuteTime": {
     "end_time": "2021-10-26T11:29:08.820400Z",
     "start_time": "2021-10-26T11:29:08.708003Z"
    }
   },
   "outputs": [],
   "source": [
    "df.to_csv('data/irt_ridership.csv')"
   ]
  }
 ],
 "metadata": {
  "kernelspec": {
   "display_name": "Python 3",
   "language": "python",
   "name": "python3"
  },
  "language_info": {
   "codemirror_mode": {
    "name": "ipython",
    "version": 3
   },
   "file_extension": ".py",
   "mimetype": "text/x-python",
   "name": "python",
   "nbconvert_exporter": "python",
   "pygments_lexer": "ipython3",
   "version": "3.8.8"
  },
  "toc": {
   "base_numbering": 1,
   "nav_menu": {},
   "number_sections": true,
   "sideBar": true,
   "skip_h1_title": false,
   "title_cell": "Table of Contents",
   "title_sidebar": "Contents",
   "toc_cell": false,
   "toc_position": {},
   "toc_section_display": true,
   "toc_window_display": false
  }
 },
 "nbformat": 4,
 "nbformat_minor": 4
}
