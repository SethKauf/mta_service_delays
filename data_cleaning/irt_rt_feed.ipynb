{
 "cells": [
  {
   "cell_type": "code",
   "execution_count": 11,
   "metadata": {
    "ExecuteTime": {
     "end_time": "2021-10-20T17:42:24.829487Z",
     "start_time": "2021-10-20T17:42:24.497868Z"
    }
   },
   "outputs": [],
   "source": [
    "import json\n",
    "import sys\n",
    "import requests\n",
    "import pandas as pd"
   ]
  },
  {
   "cell_type": "code",
   "execution_count": 2,
   "metadata": {
    "ExecuteTime": {
     "end_time": "2021-10-20T15:44:27.597453Z",
     "start_time": "2021-10-20T15:44:27.585645Z"
    }
   },
   "outputs": [],
   "source": [
    "with open('../.secrets/creds.json') as f:\n",
    "    creds = json.load(f)"
   ]
  },
  {
   "cell_type": "code",
   "execution_count": 3,
   "metadata": {
    "ExecuteTime": {
     "end_time": "2021-10-20T15:44:30.982748Z",
     "start_time": "2021-10-20T15:44:27.745461Z"
    }
   },
   "outputs": [],
   "source": [
    "irt_url = 'https://api-endpoint.mta.info/Dataservice/mtagtfsfeeds/nyct%2Fgtfs'\n",
    "headers = {'x-api-key': creds['x-api-key']}\n",
    "irt_feed = requests.get(url = irt_url, headers = headers)"
   ]
  },
  {
   "cell_type": "code",
   "execution_count": 4,
   "metadata": {
    "ExecuteTime": {
     "end_time": "2021-10-20T15:44:30.998055Z",
     "start_time": "2021-10-20T15:44:30.983768Z"
    }
   },
   "outputs": [
    {
     "data": {
      "text/plain": [
       "200"
      ]
     },
     "execution_count": 4,
     "metadata": {},
     "output_type": "execute_result"
    }
   ],
   "source": [
    "irt_feed.status_code"
   ]
  },
  {
   "cell_type": "code",
   "execution_count": 5,
   "metadata": {
    "ExecuteTime": {
     "end_time": "2021-10-20T15:44:31.104018Z",
     "start_time": "2021-10-20T15:44:30.999589Z"
    }
   },
   "outputs": [
    {
     "data": {
      "text/plain": [
       "{'Content-Type': 'text/plain',\n",
       " 'Content-Length': '178935',\n",
       " 'Connection': 'keep-alive',\n",
       " 'Date': 'Wed, 20 Oct 2021 15:44:30 GMT',\n",
       " 'x-amzn-RequestId': 'fdd21a21-d7d8-4be9-a308-045cb3727d8a',\n",
       " 'Access-Control-Allow-Origin': '*',\n",
       " 'x-amz-apigw-id': 'Hg3muFDxIAMFT5Q=',\n",
       " 'X-Amzn-Trace-Id': 'Root=1-6170395e-14a113803ccffd773862b8db',\n",
       " 'X-Cache': 'Miss from cloudfront',\n",
       " 'Via': '1.1 fd4983be77ace22659323918c5b30f1f.cloudfront.net (CloudFront)',\n",
       " 'X-Amz-Cf-Pop': 'EWR52-C2',\n",
       " 'X-Amz-Cf-Id': 'A-KESWMgycdGoDBZEcGRI37NPL4Y6Ll_XM1mua7bs0xq8jCpwDBZuA=='}"
      ]
     },
     "execution_count": 5,
     "metadata": {},
     "output_type": "execute_result"
    }
   ],
   "source": [
    "dict(irt_feed.headers)"
   ]
  },
  {
   "cell_type": "code",
   "execution_count": 6,
   "metadata": {
    "ExecuteTime": {
     "end_time": "2021-10-20T15:44:31.119320Z",
     "start_time": "2021-10-20T15:44:31.105039Z"
    }
   },
   "outputs": [
    {
     "data": {
      "text/plain": [
       "{'Content-Type': 'text/plain', 'Content-Length': '178935', 'Connection': 'keep-alive', 'Date': 'Wed, 20 Oct 2021 15:44:30 GMT', 'x-amzn-RequestId': 'fdd21a21-d7d8-4be9-a308-045cb3727d8a', 'Access-Control-Allow-Origin': '*', 'x-amz-apigw-id': 'Hg3muFDxIAMFT5Q=', 'X-Amzn-Trace-Id': 'Root=1-6170395e-14a113803ccffd773862b8db', 'X-Cache': 'Miss from cloudfront', 'Via': '1.1 fd4983be77ace22659323918c5b30f1f.cloudfront.net (CloudFront)', 'X-Amz-Cf-Pop': 'EWR52-C2', 'X-Amz-Cf-Id': 'A-KESWMgycdGoDBZEcGRI37NPL4Y6Ll_XM1mua7bs0xq8jCpwDBZuA=='}"
      ]
     },
     "execution_count": 6,
     "metadata": {},
     "output_type": "execute_result"
    }
   ],
   "source": [
    "irt_feed.headers"
   ]
  },
  {
   "cell_type": "code",
   "execution_count": 12,
   "metadata": {
    "ExecuteTime": {
     "end_time": "2021-10-20T17:42:26.046849Z",
     "start_time": "2021-10-20T17:42:26.034073Z"
    }
   },
   "outputs": [],
   "source": [
    "irt_df = pd.DataFrame(irt_feed)"
   ]
  },
  {
   "cell_type": "code",
   "execution_count": 17,
   "metadata": {
    "ExecuteTime": {
     "end_time": "2021-10-20T17:44:27.808781Z",
     "start_time": "2021-10-20T17:44:27.793965Z"
    }
   },
   "outputs": [
    {
     "data": {
      "text/plain": [
       "requests.models.Response"
      ]
     },
     "execution_count": 17,
     "metadata": {},
     "output_type": "execute_result"
    }
   ],
   "source": [
    "type(irt_feed)"
   ]
  },
  {
   "cell_type": "code",
   "execution_count": 15,
   "metadata": {
    "ExecuteTime": {
     "end_time": "2021-10-20T17:42:47.823512Z",
     "start_time": "2021-10-20T17:42:47.811623Z"
    },
    "scrolled": false
   },
   "outputs": [
    {
     "data": {
      "text/html": [
       "<div>\n",
       "<style scoped>\n",
       "    .dataframe tbody tr th:only-of-type {\n",
       "        vertical-align: middle;\n",
       "    }\n",
       "\n",
       "    .dataframe tbody tr th {\n",
       "        vertical-align: top;\n",
       "    }\n",
       "\n",
       "    .dataframe thead th {\n",
       "        text-align: right;\n",
       "    }\n",
       "</style>\n",
       "<table border=\"1\" class=\"dataframe\">\n",
       "  <thead>\n",
       "    <tr style=\"text-align: right;\">\n",
       "      <th></th>\n",
       "      <th>0</th>\n",
       "    </tr>\n",
       "  </thead>\n",
       "  <tbody>\n",
       "    <tr>\n",
       "      <th>0</th>\n",
       "      <td>b'\\n{\\n\\x031.0\\x18\\xda\\xf2\\xc0\\x8b\\x06\\xca&gt;m\\n...</td>\n",
       "    </tr>\n",
       "    <tr>\n",
       "      <th>1</th>\n",
       "      <td>b'\\x06000001\\x1aO\\n4\\n\\x0e064850_1..N03R\\x1a\\x...</td>\n",
       "    </tr>\n",
       "    <tr>\n",
       "      <th>2</th>\n",
       "      <td>b'*\\x011\\xca&gt;\\x14\\n\\x1001 1048+ SFT/242\\x10\\x0...</td>\n",
       "    </tr>\n",
       "    <tr>\n",
       "      <th>3</th>\n",
       "      <td>b'139S\\xca&gt;\\x03\\n\\x011\\x12\\x14\\x12\\x06\\x10\\xc7...</td>\n",
       "    </tr>\n",
       "    <tr>\n",
       "      <th>4</th>\n",
       "      <td>b'\\n4\\n\\x0e065350_1..N03R\\x1a\\x0820211020*\\x01...</td>\n",
       "    </tr>\n",
       "    <tr>\n",
       "      <th>...</th>\n",
       "      <td>...</td>\n",
       "    </tr>\n",
       "    <tr>\n",
       "      <th>1393</th>\n",
       "      <td>b'\\x8b\\x06\"\\x04901S\\xca&gt;\\x03\\n\\x014\\x12k\\n\\x06...</td>\n",
       "    </tr>\n",
       "    <tr>\n",
       "      <th>1394</th>\n",
       "      <td>b'00394\\x1ac\\n5\\n\\x0e073550_GS.S01R\\x1a\\x08202...</td>\n",
       "    </tr>\n",
       "    <tr>\n",
       "      <th>1395</th>\n",
       "      <td>b'_GS.N04R\\x1a\\x0820211020*\\x02GS\\xca&gt;\\x12\\n\\x...</td>\n",
       "    </tr>\n",
       "    <tr>\n",
       "      <th>1396</th>\n",
       "      <td>b'7\\xca&gt;\\x14\\n\\x1007 0011+ MST/QBP\\x10\\x01*1\"/...</td>\n",
       "    </tr>\n",
       "    <tr>\n",
       "      <th>1397</th>\n",
       "      <td>b'\"/\\n\\x13052550_7..34ST-11MA*\\x017\\xca&gt;\\x14\\n...</td>\n",
       "    </tr>\n",
       "  </tbody>\n",
       "</table>\n",
       "<p>1398 rows × 1 columns</p>\n",
       "</div>"
      ],
      "text/plain": [
       "                                                      0\n",
       "0     b'\\n{\\n\\x031.0\\x18\\xda\\xf2\\xc0\\x8b\\x06\\xca>m\\n...\n",
       "1     b'\\x06000001\\x1aO\\n4\\n\\x0e064850_1..N03R\\x1a\\x...\n",
       "2     b'*\\x011\\xca>\\x14\\n\\x1001 1048+ SFT/242\\x10\\x0...\n",
       "3     b'139S\\xca>\\x03\\n\\x011\\x12\\x14\\x12\\x06\\x10\\xc7...\n",
       "4     b'\\n4\\n\\x0e065350_1..N03R\\x1a\\x0820211020*\\x01...\n",
       "...                                                 ...\n",
       "1393  b'\\x8b\\x06\"\\x04901S\\xca>\\x03\\n\\x014\\x12k\\n\\x06...\n",
       "1394  b'00394\\x1ac\\n5\\n\\x0e073550_GS.S01R\\x1a\\x08202...\n",
       "1395  b'_GS.N04R\\x1a\\x0820211020*\\x02GS\\xca>\\x12\\n\\x...\n",
       "1396  b'7\\xca>\\x14\\n\\x1007 0011+ MST/QBP\\x10\\x01*1\"/...\n",
       "1397  b'\"/\\n\\x13052550_7..34ST-11MA*\\x017\\xca>\\x14\\n...\n",
       "\n",
       "[1398 rows x 1 columns]"
      ]
     },
     "execution_count": 15,
     "metadata": {},
     "output_type": "execute_result"
    }
   ],
   "source": [
    "irt_df"
   ]
  }
 ],
 "metadata": {
  "kernelspec": {
   "display_name": "Python 3",
   "language": "python",
   "name": "python3"
  },
  "language_info": {
   "codemirror_mode": {
    "name": "ipython",
    "version": 3
   },
   "file_extension": ".py",
   "mimetype": "text/x-python",
   "name": "python",
   "nbconvert_exporter": "python",
   "pygments_lexer": "ipython3",
   "version": "3.8.5"
  },
  "toc": {
   "base_numbering": 1,
   "nav_menu": {},
   "number_sections": true,
   "sideBar": true,
   "skip_h1_title": false,
   "title_cell": "Table of Contents",
   "title_sidebar": "Contents",
   "toc_cell": false,
   "toc_position": {},
   "toc_section_display": true,
   "toc_window_display": false
  }
 },
 "nbformat": 4,
 "nbformat_minor": 4
}
