{
 "cells": [
  {
   "cell_type": "code",
   "execution_count": 1,
   "metadata": {
    "ExecuteTime": {
     "end_time": "2021-10-16T21:54:56.436842Z",
     "start_time": "2021-10-16T21:54:56.188970Z"
    }
   },
   "outputs": [],
   "source": [
    "import pandas as pd\n",
    "import pickle as pkl"
   ]
  },
  {
   "cell_type": "code",
   "execution_count": 5,
   "metadata": {
    "ExecuteTime": {
     "end_time": "2021-10-16T21:55:25.902702Z",
     "start_time": "2021-10-16T21:55:25.842882Z"
    }
   },
   "outputs": [
    {
     "name": "stdout",
     "output_type": "stream",
     "text": [
      "/c/users/sethk/documents/flatiron/phase5_capstone/mta/mta_service_delays/data_cleaning\n"
     ]
    }
   ],
   "source": [
    "!pwd"
   ]
  },
  {
   "cell_type": "code",
   "execution_count": 6,
   "metadata": {
    "ExecuteTime": {
     "end_time": "2021-10-16T21:55:32.650202Z",
     "start_time": "2021-10-16T21:55:30.355193Z"
    }
   },
   "outputs": [],
   "source": [
    "delays = pd.read_csv('../../get_data/alerts_clean.csv')"
   ]
  },
  {
   "cell_type": "code",
   "execution_count": 14,
   "metadata": {
    "ExecuteTime": {
     "end_time": "2021-10-16T22:00:37.080193Z",
     "start_time": "2021-10-16T22:00:36.866871Z"
    }
   },
   "outputs": [],
   "source": [
    "with open('../../get_data/alerts.pkl', 'rb') as f:\n",
    "    delays = pkl.load(f)"
   ]
  },
  {
   "cell_type": "code",
   "execution_count": 15,
   "metadata": {
    "ExecuteTime": {
     "end_time": "2021-10-16T22:00:38.340929Z",
     "start_time": "2021-10-16T22:00:38.330924Z"
    }
   },
   "outputs": [
    {
     "data": {
      "text/html": [
       "<div>\n",
       "<style scoped>\n",
       "    .dataframe tbody tr th:only-of-type {\n",
       "        vertical-align: middle;\n",
       "    }\n",
       "\n",
       "    .dataframe tbody tr th {\n",
       "        vertical-align: top;\n",
       "    }\n",
       "\n",
       "    .dataframe thead th {\n",
       "        text-align: right;\n",
       "    }\n",
       "</style>\n",
       "<table border=\"1\" class=\"dataframe\">\n",
       "  <thead>\n",
       "    <tr style=\"text-align: right;\">\n",
       "      <th></th>\n",
       "      <th>ID</th>\n",
       "      <th>DateTime</th>\n",
       "      <th>Subject</th>\n",
       "      <th>Alert</th>\n",
       "    </tr>\n",
       "  </thead>\n",
       "  <tbody>\n",
       "    <tr>\n",
       "      <th>0</th>\n",
       "      <td>1122933</td>\n",
       "      <td>2021-09-30 23:57:00</td>\n",
       "      <td>Elevator at 8 Av - 14 St is back in service (E...</td>\n",
       "      <td>Elevator EL224 is located Mezzanine to Platfor...</td>\n",
       "    </tr>\n",
       "    <tr>\n",
       "      <th>1</th>\n",
       "      <td>1122932</td>\n",
       "      <td>2021-09-30 23:54:00</td>\n",
       "      <td>Update: BKLYN, Franklin Av S Train, Some Delays</td>\n",
       "      <td>Franklin Av Shuttle trains are delayed in both...</td>\n",
       "    </tr>\n",
       "    <tr>\n",
       "      <th>2</th>\n",
       "      <td>1122931</td>\n",
       "      <td>2021-09-30 23:54:00</td>\n",
       "      <td>Elevator outage at 34 St - Hudson Yards (EL600)</td>\n",
       "      <td>Elevator EL600, which runs from Mezzanine to P...</td>\n",
       "    </tr>\n",
       "    <tr>\n",
       "      <th>3</th>\n",
       "      <td>1122930</td>\n",
       "      <td>2021-09-30 23:54:00</td>\n",
       "      <td>BKLYN, Franklin Av S Train, Some Delays</td>\n",
       "      <td>Franklin Av Shuttle trains are delayed in both...</td>\n",
       "    </tr>\n",
       "    <tr>\n",
       "      <th>4</th>\n",
       "      <td>1122929</td>\n",
       "      <td>2021-09-30 23:50:00</td>\n",
       "      <td>Elevator outage at 179 St - Jamaica (EL431)</td>\n",
       "      <td>Elevator EL431, which runs from 179 Pl &amp; Hills...</td>\n",
       "    </tr>\n",
       "    <tr>\n",
       "      <th>...</th>\n",
       "      <td>...</td>\n",
       "      <td>...</td>\n",
       "      <td>...</td>\n",
       "      <td>...</td>\n",
       "    </tr>\n",
       "    <tr>\n",
       "      <th>567630</th>\n",
       "      <td>18740</td>\n",
       "      <td>2010-01-01 01:15:00</td>\n",
       "      <td>Bklyn, J Train, Police Investigation</td>\n",
       "      <td>Both directions. J train susp Myrtle Av to Cre...</td>\n",
       "    </tr>\n",
       "    <tr>\n",
       "      <th>567631</th>\n",
       "      <td>18739</td>\n",
       "      <td>2010-01-01 00:56:00</td>\n",
       "      <td>UPDATED: BX, 4 Train, Police Investigation</td>\n",
       "      <td>4 train service has resumed with residual delays.</td>\n",
       "    </tr>\n",
       "    <tr>\n",
       "      <th>567632</th>\n",
       "      <td>18738</td>\n",
       "      <td>2010-01-01 00:49:00</td>\n",
       "      <td>UPDATED: BX, 4 Train, Police Investigation</td>\n",
       "      <td>Bklyn-bound. 4 train express Burnside Av to 12...</td>\n",
       "    </tr>\n",
       "    <tr>\n",
       "      <th>567633</th>\n",
       "      <td>18737</td>\n",
       "      <td>2010-01-01 00:35:00</td>\n",
       "      <td>UPDATED: BX, 4 Train, Police Investigation</td>\n",
       "      <td>Both directions. 4 train susp btwn Burnside Av...</td>\n",
       "    </tr>\n",
       "    <tr>\n",
       "      <th>567634</th>\n",
       "      <td>18736</td>\n",
       "      <td>2010-01-01 00:26:00</td>\n",
       "      <td>BX, 4 Train, Police Investigation</td>\n",
       "      <td>BKLYN-bound. 4 train via express track Burnsid...</td>\n",
       "    </tr>\n",
       "  </tbody>\n",
       "</table>\n",
       "<p>567635 rows × 4 columns</p>\n",
       "</div>"
      ],
      "text/plain": [
       "             ID            DateTime  \\\n",
       "0       1122933 2021-09-30 23:57:00   \n",
       "1       1122932 2021-09-30 23:54:00   \n",
       "2       1122931 2021-09-30 23:54:00   \n",
       "3       1122930 2021-09-30 23:54:00   \n",
       "4       1122929 2021-09-30 23:50:00   \n",
       "...         ...                 ...   \n",
       "567630    18740 2010-01-01 01:15:00   \n",
       "567631    18739 2010-01-01 00:56:00   \n",
       "567632    18738 2010-01-01 00:49:00   \n",
       "567633    18737 2010-01-01 00:35:00   \n",
       "567634    18736 2010-01-01 00:26:00   \n",
       "\n",
       "                                                  Subject  \\\n",
       "0       Elevator at 8 Av - 14 St is back in service (E...   \n",
       "1         Update: BKLYN, Franklin Av S Train, Some Delays   \n",
       "2         Elevator outage at 34 St - Hudson Yards (EL600)   \n",
       "3                 BKLYN, Franklin Av S Train, Some Delays   \n",
       "4             Elevator outage at 179 St - Jamaica (EL431)   \n",
       "...                                                   ...   \n",
       "567630               Bklyn, J Train, Police Investigation   \n",
       "567631         UPDATED: BX, 4 Train, Police Investigation   \n",
       "567632         UPDATED: BX, 4 Train, Police Investigation   \n",
       "567633         UPDATED: BX, 4 Train, Police Investigation   \n",
       "567634                  BX, 4 Train, Police Investigation   \n",
       "\n",
       "                                                    Alert  \n",
       "0       Elevator EL224 is located Mezzanine to Platfor...  \n",
       "1       Franklin Av Shuttle trains are delayed in both...  \n",
       "2       Elevator EL600, which runs from Mezzanine to P...  \n",
       "3       Franklin Av Shuttle trains are delayed in both...  \n",
       "4       Elevator EL431, which runs from 179 Pl & Hills...  \n",
       "...                                                   ...  \n",
       "567630  Both directions. J train susp Myrtle Av to Cre...  \n",
       "567631  4 train service has resumed with residual delays.  \n",
       "567632  Bklyn-bound. 4 train express Burnside Av to 12...  \n",
       "567633  Both directions. 4 train susp btwn Burnside Av...  \n",
       "567634  BKLYN-bound. 4 train via express track Burnsid...  \n",
       "\n",
       "[567635 rows x 4 columns]"
      ]
     },
     "execution_count": 15,
     "metadata": {},
     "output_type": "execute_result"
    }
   ],
   "source": [
    "delays"
   ]
  },
  {
   "cell_type": "code",
   "execution_count": 3,
   "metadata": {
    "ExecuteTime": {
     "end_time": "2021-10-15T16:33:23.632582Z",
     "start_time": "2021-10-15T16:33:23.618367Z"
    }
   },
   "outputs": [],
   "source": [
    "stopwords = stopwords"
   ]
  },
  {
   "cell_type": "code",
   "execution_count": 4,
   "metadata": {
    "ExecuteTime": {
     "end_time": "2021-10-15T16:33:23.647542Z",
     "start_time": "2021-10-15T16:33:23.633583Z"
    }
   },
   "outputs": [
    {
     "data": {
      "text/html": [
       "<div>\n",
       "<style scoped>\n",
       "    .dataframe tbody tr th:only-of-type {\n",
       "        vertical-align: middle;\n",
       "    }\n",
       "\n",
       "    .dataframe tbody tr th {\n",
       "        vertical-align: top;\n",
       "    }\n",
       "\n",
       "    .dataframe thead th {\n",
       "        text-align: right;\n",
       "    }\n",
       "</style>\n",
       "<table border=\"1\" class=\"dataframe\">\n",
       "  <thead>\n",
       "    <tr style=\"text-align: right;\">\n",
       "      <th></th>\n",
       "      <th>id</th>\n",
       "      <th>datetime</th>\n",
       "      <th>agency</th>\n",
       "      <th>subject</th>\n",
       "      <th>message</th>\n",
       "    </tr>\n",
       "  </thead>\n",
       "  <tbody>\n",
       "    <tr>\n",
       "      <th>0</th>\n",
       "      <td>1122932</td>\n",
       "      <td>9/30/2021 23:54</td>\n",
       "      <td>NYC</td>\n",
       "      <td>Update: BKLYN, Franklin Av S Train, Some Delays</td>\n",
       "      <td>Franklin Av Shuttle trains are delayed in both...</td>\n",
       "    </tr>\n",
       "    <tr>\n",
       "      <th>1</th>\n",
       "      <td>1122930</td>\n",
       "      <td>9/30/2021 23:54</td>\n",
       "      <td>NYC</td>\n",
       "      <td>BKLYN, Franklin Av S Train, Some Delays</td>\n",
       "      <td>Franklin Av Shuttle trains are delayed in both...</td>\n",
       "    </tr>\n",
       "    <tr>\n",
       "      <th>2</th>\n",
       "      <td>1122928</td>\n",
       "      <td>9/30/2021 23:49</td>\n",
       "      <td>NYC</td>\n",
       "      <td>Update: BKLYN, Q Train, Delays</td>\n",
       "      <td>Q trains are delayed in both directions while ...</td>\n",
       "    </tr>\n",
       "    <tr>\n",
       "      <th>3</th>\n",
       "      <td>1122926</td>\n",
       "      <td>9/30/2021 23:43</td>\n",
       "      <td>NYC</td>\n",
       "      <td>Update: BKLYN, Q Train, Delays</td>\n",
       "      <td>Q trains are proceeding in both directions wit...</td>\n",
       "    </tr>\n",
       "    <tr>\n",
       "      <th>4</th>\n",
       "      <td>1122924</td>\n",
       "      <td>9/30/2021 23:38</td>\n",
       "      <td>NYC</td>\n",
       "      <td>BKLYN, Q Train, Delays</td>\n",
       "      <td>Q trains are delayed in both directions while ...</td>\n",
       "    </tr>\n",
       "    <tr>\n",
       "      <th>...</th>\n",
       "      <td>...</td>\n",
       "      <td>...</td>\n",
       "      <td>...</td>\n",
       "      <td>...</td>\n",
       "      <td>...</td>\n",
       "    </tr>\n",
       "    <tr>\n",
       "      <th>215955</th>\n",
       "      <td>18740</td>\n",
       "      <td>1/1/2010 1:15</td>\n",
       "      <td>NYC</td>\n",
       "      <td>Bklyn, J Train, Police Investigation</td>\n",
       "      <td>Both directions. J train susp Myrtle Av to Cre...</td>\n",
       "    </tr>\n",
       "    <tr>\n",
       "      <th>215956</th>\n",
       "      <td>18739</td>\n",
       "      <td>1/1/2010 0:56</td>\n",
       "      <td>NYC</td>\n",
       "      <td>UPDATED: BX, 4 Train, Police Investigation</td>\n",
       "      <td>4 train service has resumed with residual delays.</td>\n",
       "    </tr>\n",
       "    <tr>\n",
       "      <th>215957</th>\n",
       "      <td>18738</td>\n",
       "      <td>1/1/2010 0:49</td>\n",
       "      <td>NYC</td>\n",
       "      <td>UPDATED: BX, 4 Train, Police Investigation</td>\n",
       "      <td>Bklyn-bound. 4 train express Burnside Av to 12...</td>\n",
       "    </tr>\n",
       "    <tr>\n",
       "      <th>215958</th>\n",
       "      <td>18737</td>\n",
       "      <td>1/1/2010 0:35</td>\n",
       "      <td>NYC</td>\n",
       "      <td>UPDATED: BX, 4 Train, Police Investigation</td>\n",
       "      <td>Both directions. 4 train susp btwn Burnside Av...</td>\n",
       "    </tr>\n",
       "    <tr>\n",
       "      <th>215959</th>\n",
       "      <td>18736</td>\n",
       "      <td>1/1/2010 0:26</td>\n",
       "      <td>NYC</td>\n",
       "      <td>BX, 4 Train, Police Investigation</td>\n",
       "      <td>BKLYN-bound. 4 train via express track Burnsid...</td>\n",
       "    </tr>\n",
       "  </tbody>\n",
       "</table>\n",
       "<p>215960 rows × 5 columns</p>\n",
       "</div>"
      ],
      "text/plain": [
       "             id         datetime agency  \\\n",
       "0       1122932  9/30/2021 23:54    NYC   \n",
       "1       1122930  9/30/2021 23:54    NYC   \n",
       "2       1122928  9/30/2021 23:49    NYC   \n",
       "3       1122926  9/30/2021 23:43    NYC   \n",
       "4       1122924  9/30/2021 23:38    NYC   \n",
       "...         ...              ...    ...   \n",
       "215955    18740    1/1/2010 1:15    NYC   \n",
       "215956    18739    1/1/2010 0:56    NYC   \n",
       "215957    18738    1/1/2010 0:49    NYC   \n",
       "215958    18737    1/1/2010 0:35    NYC   \n",
       "215959    18736    1/1/2010 0:26    NYC   \n",
       "\n",
       "                                                subject  \\\n",
       "0       Update: BKLYN, Franklin Av S Train, Some Delays   \n",
       "1               BKLYN, Franklin Av S Train, Some Delays   \n",
       "2                        Update: BKLYN, Q Train, Delays   \n",
       "3                        Update: BKLYN, Q Train, Delays   \n",
       "4                                BKLYN, Q Train, Delays   \n",
       "...                                                 ...   \n",
       "215955             Bklyn, J Train, Police Investigation   \n",
       "215956       UPDATED: BX, 4 Train, Police Investigation   \n",
       "215957       UPDATED: BX, 4 Train, Police Investigation   \n",
       "215958       UPDATED: BX, 4 Train, Police Investigation   \n",
       "215959                BX, 4 Train, Police Investigation   \n",
       "\n",
       "                                                  message  \n",
       "0       Franklin Av Shuttle trains are delayed in both...  \n",
       "1       Franklin Av Shuttle trains are delayed in both...  \n",
       "2       Q trains are delayed in both directions while ...  \n",
       "3       Q trains are proceeding in both directions wit...  \n",
       "4       Q trains are delayed in both directions while ...  \n",
       "...                                                   ...  \n",
       "215955  Both directions. J train susp Myrtle Av to Cre...  \n",
       "215956  4 train service has resumed with residual delays.  \n",
       "215957  Bklyn-bound. 4 train express Burnside Av to 12...  \n",
       "215958  Both directions. 4 train susp btwn Burnside Av...  \n",
       "215959  BKLYN-bound. 4 train via express track Burnsid...  \n",
       "\n",
       "[215960 rows x 5 columns]"
      ]
     },
     "execution_count": 4,
     "metadata": {},
     "output_type": "execute_result"
    }
   ],
   "source": [
    "delays"
   ]
  },
  {
   "cell_type": "code",
   "execution_count": 5,
   "metadata": {
    "ExecuteTime": {
     "end_time": "2021-10-15T16:33:23.740648Z",
     "start_time": "2021-10-15T16:33:23.648648Z"
    }
   },
   "outputs": [],
   "source": [
    "A_C_train = delays.loc[delays['subject'].str.contains(' A | B | C | D | E | F', case=True)]"
   ]
  },
  {
   "cell_type": "code",
   "execution_count": 10,
   "metadata": {
    "ExecuteTime": {
     "end_time": "2021-10-15T16:55:14.766926Z",
     "start_time": "2021-10-15T16:55:14.652126Z"
    }
   },
   "outputs": [
    {
     "name": "stderr",
     "output_type": "stream",
     "text": [
      "C:\\Users\\sethk\\anaconda3\\envs\\learn-env\\lib\\site-packages\\pandas\\core\\frame.py:4163: SettingWithCopyWarning: \n",
      "A value is trying to be set on a copy of a slice from a DataFrame\n",
      "\n",
      "See the caveats in the documentation: https://pandas.pydata.org/pandas-docs/stable/user_guide/indexing.html#returning-a-view-versus-a-copy\n",
      "  return super().drop(\n"
     ]
    }
   ],
   "source": [
    "A_C_train.drop(['id','agency'], axis=1, inplace=True)"
   ]
  },
  {
   "cell_type": "code",
   "execution_count": 12,
   "metadata": {
    "ExecuteTime": {
     "end_time": "2021-10-15T16:55:59.448506Z",
     "start_time": "2021-10-15T16:55:57.924061Z"
    }
   },
   "outputs": [
    {
     "name": "stderr",
     "output_type": "stream",
     "text": [
      "<ipython-input-12-8a06d3271c88>:1: SettingWithCopyWarning: \n",
      "A value is trying to be set on a copy of a slice from a DataFrame.\n",
      "Try using .loc[row_indexer,col_indexer] = value instead\n",
      "\n",
      "See the caveats in the documentation: https://pandas.pydata.org/pandas-docs/stable/user_guide/indexing.html#returning-a-view-versus-a-copy\n",
      "  A_C_train['datetime'] = pd.to_datetime(A_C_train['datetime'])\n"
     ]
    }
   ],
   "source": [
    "A_C_train['datetime'] = pd.to_datetime(A_C_train['datetime'])"
   ]
  },
  {
   "cell_type": "code",
   "execution_count": 14,
   "metadata": {
    "ExecuteTime": {
     "end_time": "2021-10-15T16:56:11.394145Z",
     "start_time": "2021-10-15T16:56:11.364984Z"
    }
   },
   "outputs": [
    {
     "name": "stdout",
     "output_type": "stream",
     "text": [
      "<class 'pandas.core.frame.DataFrame'>\n",
      "Int64Index: 23067 entries, 48 to 215951\n",
      "Data columns (total 3 columns):\n",
      " #   Column    Non-Null Count  Dtype         \n",
      "---  ------    --------------  -----         \n",
      " 0   datetime  23067 non-null  datetime64[ns]\n",
      " 1   subject   23067 non-null  object        \n",
      " 2   message   23067 non-null  object        \n",
      "dtypes: datetime64[ns](1), object(2)\n",
      "memory usage: 1.3+ MB\n"
     ]
    }
   ],
   "source": [
    "A_C_train.info()"
   ]
  },
  {
   "cell_type": "code",
   "execution_count": 15,
   "metadata": {
    "ExecuteTime": {
     "end_time": "2021-10-15T16:56:17.790167Z",
     "start_time": "2021-10-15T16:56:17.763460Z"
    }
   },
   "outputs": [],
   "source": [
    "with open('data/ac_delays.pkl', 'wb') as f:\n",
    "    pkl.dump(A_C_train, f)"
   ]
  }
 ],
 "metadata": {
  "kernelspec": {
   "display_name": "Python 3",
   "language": "python",
   "name": "python3"
  },
  "language_info": {
   "codemirror_mode": {
    "name": "ipython",
    "version": 3
   },
   "file_extension": ".py",
   "mimetype": "text/x-python",
   "name": "python",
   "nbconvert_exporter": "python",
   "pygments_lexer": "ipython3",
   "version": "3.8.5"
  },
  "toc": {
   "base_numbering": 1,
   "nav_menu": {},
   "number_sections": true,
   "sideBar": true,
   "skip_h1_title": false,
   "title_cell": "Table of Contents",
   "title_sidebar": "Contents",
   "toc_cell": false,
   "toc_position": {},
   "toc_section_display": true,
   "toc_window_display": false
  }
 },
 "nbformat": 4,
 "nbformat_minor": 4
}
