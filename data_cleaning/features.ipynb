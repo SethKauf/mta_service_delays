{
 "cells": [
  {
   "cell_type": "code",
   "execution_count": 1,
   "metadata": {
    "ExecuteTime": {
     "end_time": "2021-10-19T00:06:43.934803Z",
     "start_time": "2021-10-19T00:06:43.680931Z"
    }
   },
   "outputs": [],
   "source": [
    "import pandas as pd\n",
    "import pickle as pkl"
   ]
  },
  {
   "cell_type": "code",
   "execution_count": 45,
   "metadata": {
    "ExecuteTime": {
     "end_time": "2021-10-19T00:24:19.866413Z",
     "start_time": "2021-10-19T00:24:19.738883Z"
    }
   },
   "outputs": [],
   "source": [
    "df2 = pd.read_csv('df2.csv')\n",
    "irt = pd.read_csv('df_irt.csv')"
   ]
  },
  {
   "cell_type": "code",
   "execution_count": 27,
   "metadata": {
    "ExecuteTime": {
     "end_time": "2021-10-19T00:15:57.390607Z",
     "start_time": "2021-10-19T00:15:57.370532Z"
    }
   },
   "outputs": [
    {
     "data": {
      "text/html": [
       "<div>\n",
       "<style scoped>\n",
       "    .dataframe tbody tr th:only-of-type {\n",
       "        vertical-align: middle;\n",
       "    }\n",
       "\n",
       "    .dataframe tbody tr th {\n",
       "        vertical-align: top;\n",
       "    }\n",
       "\n",
       "    .dataframe thead th {\n",
       "        text-align: right;\n",
       "    }\n",
       "</style>\n",
       "<table border=\"1\" class=\"dataframe\">\n",
       "  <thead>\n",
       "    <tr style=\"text-align: right;\">\n",
       "      <th></th>\n",
       "      <th>Unnamed: 0</th>\n",
       "      <th>date</th>\n",
       "      <th>subject</th>\n",
       "      <th>message</th>\n",
       "    </tr>\n",
       "  </thead>\n",
       "  <tbody>\n",
       "    <tr>\n",
       "      <th>0</th>\n",
       "      <td>2</td>\n",
       "      <td>9/30/2021 21:34</td>\n",
       "      <td>Update : BX   2 Train   Delays</td>\n",
       "      <td>2 trains are proceeding with delays after our ...</td>\n",
       "    </tr>\n",
       "    <tr>\n",
       "      <th>1</th>\n",
       "      <td>3</td>\n",
       "      <td>9/30/2021 21:28</td>\n",
       "      <td>BX   2 Train   Delays</td>\n",
       "      <td>2 trains are delayed in both directions while ...</td>\n",
       "    </tr>\n",
       "    <tr>\n",
       "      <th>2</th>\n",
       "      <td>4</td>\n",
       "      <td>9/30/2021 19:14</td>\n",
       "      <td>Update : BX   2 Train   Delays</td>\n",
       "      <td>Southbound 2 trains are proceeding after we mo...</td>\n",
       "    </tr>\n",
       "    <tr>\n",
       "      <th>3</th>\n",
       "      <td>5</td>\n",
       "      <td>9/30/2021 19:10</td>\n",
       "      <td>BX   2 Train   Delays</td>\n",
       "      <td>Southbound 2 trains are delayed while we inves...</td>\n",
       "    </tr>\n",
       "    <tr>\n",
       "      <th>4</th>\n",
       "      <td>7</td>\n",
       "      <td>9/30/2021 18:48</td>\n",
       "      <td>Update : BX   2 Train   Trains Rerouted</td>\n",
       "      <td>Wakefield-bound 2 trains have resumed stopping...</td>\n",
       "    </tr>\n",
       "    <tr>\n",
       "      <th>...</th>\n",
       "      <td>...</td>\n",
       "      <td>...</td>\n",
       "      <td>...</td>\n",
       "      <td>...</td>\n",
       "    </tr>\n",
       "    <tr>\n",
       "      <th>22463</th>\n",
       "      <td>67467</td>\n",
       "      <td>1/6/2010 8:45</td>\n",
       "      <td>UPDATED : BX    2 &amp; 5 Trains   Police Investig...</td>\n",
       "      <td>2 &amp; 5 train service has resumed with residual ...</td>\n",
       "    </tr>\n",
       "    <tr>\n",
       "      <th>22464</th>\n",
       "      <td>67468</td>\n",
       "      <td>1/6/2010 7:41</td>\n",
       "      <td>BX    2 &amp; 5 Trains   Police Investigation</td>\n",
       "      <td>Both directions 2 &amp; 5 trains bypassing 3rd Av-...</td>\n",
       "    </tr>\n",
       "    <tr>\n",
       "      <th>22465</th>\n",
       "      <td>67471</td>\n",
       "      <td>1/5/2010 18:08</td>\n",
       "      <td>1 and 2 Lines - Late Night Service Change</td>\n",
       "      <td>Downtown 1 and 2 trains run express from 34 St...</td>\n",
       "    </tr>\n",
       "    <tr>\n",
       "      <th>22466</th>\n",
       "      <td>67477</td>\n",
       "      <td>1/1/2010 10:56</td>\n",
       "      <td>UPDATED : MANH   2 &amp; 3 trains   Police Investi...</td>\n",
       "      <td>2 &amp; 3 train service has resumed with residual ...</td>\n",
       "    </tr>\n",
       "    <tr>\n",
       "      <th>22467</th>\n",
       "      <td>67478</td>\n",
       "      <td>1/1/2010 9:55</td>\n",
       "      <td>MANH   2 &amp; 3 trains   Police Investigation</td>\n",
       "      <td>Selected BK-bound 2 &amp; 3 trains terminate at va...</td>\n",
       "    </tr>\n",
       "  </tbody>\n",
       "</table>\n",
       "<p>22468 rows × 4 columns</p>\n",
       "</div>"
      ],
      "text/plain": [
       "       Unnamed: 0             date  \\\n",
       "0               2  9/30/2021 21:34   \n",
       "1               3  9/30/2021 21:28   \n",
       "2               4  9/30/2021 19:14   \n",
       "3               5  9/30/2021 19:10   \n",
       "4               7  9/30/2021 18:48   \n",
       "...           ...              ...   \n",
       "22463       67467    1/6/2010 8:45   \n",
       "22464       67468    1/6/2010 7:41   \n",
       "22465       67471   1/5/2010 18:08   \n",
       "22466       67477   1/1/2010 10:56   \n",
       "22467       67478    1/1/2010 9:55   \n",
       "\n",
       "                                                 subject  \\\n",
       "0                         Update : BX   2 Train   Delays   \n",
       "1                                  BX   2 Train   Delays   \n",
       "2                         Update : BX   2 Train   Delays   \n",
       "3                                  BX   2 Train   Delays   \n",
       "4                Update : BX   2 Train   Trains Rerouted   \n",
       "...                                                  ...   \n",
       "22463  UPDATED : BX    2 & 5 Trains   Police Investig...   \n",
       "22464          BX    2 & 5 Trains   Police Investigation   \n",
       "22465          1 and 2 Lines - Late Night Service Change   \n",
       "22466  UPDATED : MANH   2 & 3 trains   Police Investi...   \n",
       "22467         MANH   2 & 3 trains   Police Investigation   \n",
       "\n",
       "                                                 message  \n",
       "0      2 trains are proceeding with delays after our ...  \n",
       "1      2 trains are delayed in both directions while ...  \n",
       "2      Southbound 2 trains are proceeding after we mo...  \n",
       "3      Southbound 2 trains are delayed while we inves...  \n",
       "4      Wakefield-bound 2 trains have resumed stopping...  \n",
       "...                                                  ...  \n",
       "22463  2 & 5 train service has resumed with residual ...  \n",
       "22464  Both directions 2 & 5 trains bypassing 3rd Av-...  \n",
       "22465  Downtown 1 and 2 trains run express from 34 St...  \n",
       "22466  2 & 3 train service has resumed with residual ...  \n",
       "22467  Selected BK-bound 2 & 3 trains terminate at va...  \n",
       "\n",
       "[22468 rows x 4 columns]"
      ]
     },
     "execution_count": 27,
     "metadata": {},
     "output_type": "execute_result"
    }
   ],
   "source": [
    "df2"
   ]
  },
  {
   "cell_type": "code",
   "execution_count": 46,
   "metadata": {
    "ExecuteTime": {
     "end_time": "2021-10-19T00:24:22.314929Z",
     "start_time": "2021-10-19T00:24:22.290426Z"
    }
   },
   "outputs": [],
   "source": [
    "planned_service = df2.loc[df2['subject'].str.contains('planned|Planned')]"
   ]
  },
  {
   "cell_type": "code",
   "execution_count": 47,
   "metadata": {
    "ExecuteTime": {
     "end_time": "2021-10-19T00:24:23.753297Z",
     "start_time": "2021-10-19T00:24:23.738752Z"
    }
   },
   "outputs": [
    {
     "name": "stderr",
     "output_type": "stream",
     "text": [
      "C:\\Users\\sethk\\anaconda3\\envs\\learn-env\\lib\\site-packages\\pandas\\core\\frame.py:4163: SettingWithCopyWarning: \n",
      "A value is trying to be set on a copy of a slice from a DataFrame\n",
      "\n",
      "See the caveats in the documentation: https://pandas.pydata.org/pandas-docs/stable/user_guide/indexing.html#returning-a-view-versus-a-copy\n",
      "  return super().drop(\n"
     ]
    }
   ],
   "source": [
    "planned_service.drop('Unnamed: 0', axis=1, inplace=True)"
   ]
  },
  {
   "cell_type": "code",
   "execution_count": 48,
   "metadata": {
    "ExecuteTime": {
     "end_time": "2021-10-19T00:24:25.194456Z",
     "start_time": "2021-10-19T00:24:25.170918Z"
    }
   },
   "outputs": [
    {
     "data": {
      "text/html": [
       "<div>\n",
       "<style scoped>\n",
       "    .dataframe tbody tr th:only-of-type {\n",
       "        vertical-align: middle;\n",
       "    }\n",
       "\n",
       "    .dataframe tbody tr th {\n",
       "        vertical-align: top;\n",
       "    }\n",
       "\n",
       "    .dataframe thead th {\n",
       "        text-align: right;\n",
       "    }\n",
       "</style>\n",
       "<table border=\"1\" class=\"dataframe\">\n",
       "  <thead>\n",
       "    <tr style=\"text-align: right;\">\n",
       "      <th></th>\n",
       "      <th>date</th>\n",
       "      <th>subject</th>\n",
       "      <th>message</th>\n",
       "    </tr>\n",
       "  </thead>\n",
       "  <tbody>\n",
       "    <tr>\n",
       "      <th>2464</th>\n",
       "      <td>11/22/2020 18:04</td>\n",
       "      <td>Update : BX   2 Train   Planned Work</td>\n",
       "      <td>The 2 train shuttle bus stop at 219 St is rest...</td>\n",
       "    </tr>\n",
       "    <tr>\n",
       "      <th>2468</th>\n",
       "      <td>11/22/2020 7:43</td>\n",
       "      <td>BX   2 Train   Planned Work</td>\n",
       "      <td>The 2 train shuttle bus stop at 219 St has bee...</td>\n",
       "    </tr>\n",
       "    <tr>\n",
       "      <th>2475</th>\n",
       "      <td>11/21/2020 12:20</td>\n",
       "      <td>BX   2 Train   Planned Work</td>\n",
       "      <td>The 2 train shuttle bus stop at 219 St has bee...</td>\n",
       "    </tr>\n",
       "    <tr>\n",
       "      <th>3185</th>\n",
       "      <td>8/14/2020 8:35</td>\n",
       "      <td>BX   2 Train   Planned Work</td>\n",
       "      <td>Midday planned work on the 2 line has been can...</td>\n",
       "    </tr>\n",
       "    <tr>\n",
       "      <th>3435</th>\n",
       "      <td>7/19/2020 8:29</td>\n",
       "      <td>Update : MANH   2 Train   Planned Work</td>\n",
       "      <td>The 2 shuttle bus stop for 219 St station on W...</td>\n",
       "    </tr>\n",
       "    <tr>\n",
       "      <th>3436</th>\n",
       "      <td>7/19/2020 8:20</td>\n",
       "      <td>MANH   2 Train   Planned Work</td>\n",
       "      <td>The 2 shuttle bus stop for 215 St station on W...</td>\n",
       "    </tr>\n",
       "    <tr>\n",
       "      <th>3625</th>\n",
       "      <td>6/21/2020 9:56</td>\n",
       "      <td>BX   2 Train   Planned Work</td>\n",
       "      <td>Morning planned work on the 2 line has finishe...</td>\n",
       "    </tr>\n",
       "    <tr>\n",
       "      <th>3782</th>\n",
       "      <td>5/24/2020 10:02</td>\n",
       "      <td>BX   2 and 5 Trains   Planned Work</td>\n",
       "      <td>Planned work at Freeman St has concluded early...</td>\n",
       "    </tr>\n",
       "    <tr>\n",
       "      <th>4509</th>\n",
       "      <td>2/21/2020 9:09</td>\n",
       "      <td>BX   2 Train   Planned Work Canceled</td>\n",
       "      <td>Planned work has been canceled on the 2 line t...</td>\n",
       "    </tr>\n",
       "    <tr>\n",
       "      <th>4562</th>\n",
       "      <td>2/14/2020 8:32</td>\n",
       "      <td>Planned Work Cancellation   2 and 5 lines</td>\n",
       "      <td>Planned Work on the 2 line has been canceled f...</td>\n",
       "    </tr>\n",
       "    <tr>\n",
       "      <th>4566</th>\n",
       "      <td>2/13/2020 8:36</td>\n",
       "      <td>Planned Work Suspension   2 and 5 lines</td>\n",
       "      <td>Planned Work along the 2 and 5 line is suspend...</td>\n",
       "    </tr>\n",
       "    <tr>\n",
       "      <th>4579</th>\n",
       "      <td>2/11/2020 9:03</td>\n",
       "      <td>Planned Work Suspension   2 line</td>\n",
       "      <td>Planned Work on the 2 line has been suspended ...</td>\n",
       "    </tr>\n",
       "    <tr>\n",
       "      <th>4604</th>\n",
       "      <td>2/7/2020 9:39</td>\n",
       "      <td>Planned Work Suspension   2 line</td>\n",
       "      <td>Planned Work on the 2 line has been suspended ...</td>\n",
       "    </tr>\n",
       "    <tr>\n",
       "      <th>4649</th>\n",
       "      <td>2/4/2020 9:25</td>\n",
       "      <td>BX   2 Trains   Planned Work Cancellation</td>\n",
       "      <td>Planned Work on the 2 line is canceled for tod...</td>\n",
       "    </tr>\n",
       "    <tr>\n",
       "      <th>5303</th>\n",
       "      <td>11/16/2019 14:25</td>\n",
       "      <td>UPDATED : MANH   1   2 and 3 Trains   Planned ...</td>\n",
       "      <td>Expect longer wait times for northbound 1 2 an...</td>\n",
       "    </tr>\n",
       "    <tr>\n",
       "      <th>5409</th>\n",
       "      <td>10/30/2019 22:52</td>\n",
       "      <td>MANH   2 Trains   Storage of Trains for planne...</td>\n",
       "      <td>Harlem-bound 2 trains are running on the local...</td>\n",
       "    </tr>\n",
       "    <tr>\n",
       "      <th>5428</th>\n",
       "      <td>10/29/2019 23:46</td>\n",
       "      <td>MANH   2 Trains   Storage of Trains for planne...</td>\n",
       "      <td>Harlem-bound 2 trains are running on the local...</td>\n",
       "    </tr>\n",
       "    <tr>\n",
       "      <th>6128</th>\n",
       "      <td>7/17/2019 3:01</td>\n",
       "      <td>UPDATED : BX   2 Trains   Prepare for Planned ...</td>\n",
       "      <td>Northbound 2 trains are proceeding with delays...</td>\n",
       "    </tr>\n",
       "    <tr>\n",
       "      <th>6130</th>\n",
       "      <td>7/17/2019 2:38</td>\n",
       "      <td>BX   2 Trains   Prepare for Planned Work</td>\n",
       "      <td>Northbound 2 trains are holding in stations wh...</td>\n",
       "    </tr>\n",
       "    <tr>\n",
       "      <th>7031</th>\n",
       "      <td>3/27/2019 2:59</td>\n",
       "      <td>MANH   2 Trains   Planned Work</td>\n",
       "      <td>2 trains have service changes and delays becau...</td>\n",
       "    </tr>\n",
       "    <tr>\n",
       "      <th>8912</th>\n",
       "      <td>8/24/2018 15:00</td>\n",
       "      <td>Planned Work   BX   2 and 5 Shuttle buses rero...</td>\n",
       "      <td>The following shuttle bus detour is CANCELLED ...</td>\n",
       "    </tr>\n",
       "    <tr>\n",
       "      <th>8917</th>\n",
       "      <td>8/23/2018 13:30</td>\n",
       "      <td>Planned Work   BX   2 and 5 Shuttle buses rero...</td>\n",
       "      <td>Planned work : 2 and 5 Shuttle buses rerouted ...</td>\n",
       "    </tr>\n",
       "    <tr>\n",
       "      <th>9098</th>\n",
       "      <td>7/31/2018 8:42</td>\n",
       "      <td>Bx   2 and 5 Trains   Planned Work</td>\n",
       "      <td>You may experience longer wait times and delay...</td>\n",
       "    </tr>\n",
       "    <tr>\n",
       "      <th>9893</th>\n",
       "      <td>4/8/2018 4:06</td>\n",
       "      <td>UPDATED : MANH   1 and 2 Trains   Unplanned Tr...</td>\n",
       "      <td>1 and 2 train service has resumed following un...</td>\n",
       "    </tr>\n",
       "    <tr>\n",
       "      <th>9896</th>\n",
       "      <td>4/8/2018 3:28</td>\n",
       "      <td>MANH   1 and 2 Trains   Unplanned Track Mainte...</td>\n",
       "      <td>Northbound 1 and 2 trains are running express ...</td>\n",
       "    </tr>\n",
       "    <tr>\n",
       "      <th>12066</th>\n",
       "      <td>7/2/2017 8:00</td>\n",
       "      <td>UPDATED : BX   2 Trains   Planned Work</td>\n",
       "      <td>All 2 trains board at the Manhattan bound plat...</td>\n",
       "    </tr>\n",
       "    <tr>\n",
       "      <th>12067</th>\n",
       "      <td>7/2/2017 6:47</td>\n",
       "      <td>BX   2 Trains   Planned Work</td>\n",
       "      <td>All 2 trains board at the Manhattan bound plat...</td>\n",
       "    </tr>\n",
       "    <tr>\n",
       "      <th>15668</th>\n",
       "      <td>11/13/2015 18:18</td>\n",
       "      <td>UPDATED : 2 Line  -  Weekday Planned Service C...</td>\n",
       "      <td>10 :15 AM to 3 PM Mon to Fri Nov 16 - 20 241 S...</td>\n",
       "    </tr>\n",
       "    <tr>\n",
       "      <th>18697</th>\n",
       "      <td>2/13/2014 16:47</td>\n",
       "      <td>UPDATE  -  2 Line  -  Weeknight Planned Servic...</td>\n",
       "      <td>Due to inclement weather The following Weeknig...</td>\n",
       "    </tr>\n",
       "    <tr>\n",
       "      <th>18702</th>\n",
       "      <td>2/12/2014 17:25</td>\n",
       "      <td>UPDATE  -  2 Line  -  Weeknight Planned Servic...</td>\n",
       "      <td>Due to inclement weather The following Weeknig...</td>\n",
       "    </tr>\n",
       "    <tr>\n",
       "      <th>18792</th>\n",
       "      <td>2/4/2014 16:45</td>\n",
       "      <td>UPDATE  -  2 Line  -  Cancellation of Weeknigh...</td>\n",
       "      <td>The Weeknight Planned Service change scheduled...</td>\n",
       "    </tr>\n",
       "    <tr>\n",
       "      <th>18874</th>\n",
       "      <td>1/23/2014 16:13</td>\n",
       "      <td>UPDATE  -  2 Line  -  Cancellation of Weekday ...</td>\n",
       "      <td>Due to inclement weather The following Weekday...</td>\n",
       "    </tr>\n",
       "    <tr>\n",
       "      <th>18891</th>\n",
       "      <td>1/22/2014 16:29</td>\n",
       "      <td>UPDATE  -  2 Line  -  Cancellation of Weekday ...</td>\n",
       "      <td>Due to inclement weather The following Weekday...</td>\n",
       "    </tr>\n",
       "    <tr>\n",
       "      <th>18903</th>\n",
       "      <td>1/21/2014 15:45</td>\n",
       "      <td>UPDATE  -  2 Line  -  Cancellation of Weekday ...</td>\n",
       "      <td>Due to inclement weather  The following Weekda...</td>\n",
       "    </tr>\n",
       "    <tr>\n",
       "      <th>19980</th>\n",
       "      <td>4/4/2013 15:24</td>\n",
       "      <td>UPDATE  -  2 Line  -  Cancellation of Weekday ...</td>\n",
       "      <td>The following Weekday Planned Service Change i...</td>\n",
       "    </tr>\n",
       "    <tr>\n",
       "      <th>19983</th>\n",
       "      <td>4/1/2013 15:31</td>\n",
       "      <td>UPDATE  -  2 Line  -  Cancellation of Weekday ...</td>\n",
       "      <td>The following Weekday Planned Service Change i...</td>\n",
       "    </tr>\n",
       "    <tr>\n",
       "      <th>20050</th>\n",
       "      <td>2/27/2013 15:04</td>\n",
       "      <td>UPDATE 2 Line - Cancellation of Weeknight Plan...</td>\n",
       "      <td>The following Weeknight Planned Service Change...</td>\n",
       "    </tr>\n",
       "    <tr>\n",
       "      <th>20051</th>\n",
       "      <td>2/27/2013 15:00</td>\n",
       "      <td>UPDATE 2 Line - Cancellation of Weeknight Plan...</td>\n",
       "      <td>The following Weeknight Planned Service Change...</td>\n",
       "    </tr>\n",
       "    <tr>\n",
       "      <th>20176</th>\n",
       "      <td>1/18/2013 12:45</td>\n",
       "      <td>UPDATE 2 Line  -  Weekend Planned Service Change</td>\n",
       "      <td>3 :45 AM Sat to 10 PM Sun Jan 19 - 20 2 servic...</td>\n",
       "    </tr>\n",
       "    <tr>\n",
       "      <th>20177</th>\n",
       "      <td>1/18/2013 12:24</td>\n",
       "      <td>UPDATE 2 Line - Cancellation of Weekend Planne...</td>\n",
       "      <td>The following Weekday Planned Service Change i...</td>\n",
       "    </tr>\n",
       "    <tr>\n",
       "      <th>20881</th>\n",
       "      <td>4/9/2012 13:00</td>\n",
       "      <td>FASTRACK 1   2   and 3 Lines  -  Weeknight Pla...</td>\n",
       "      <td>10 PM to 5 AM Mon to Fri Apr 9-13 No 1 service...</td>\n",
       "    </tr>\n",
       "    <tr>\n",
       "      <th>20949</th>\n",
       "      <td>2/13/2012 11:37</td>\n",
       "      <td>FASTRACK 1   2   3 Lines - Weeknight Planned S...</td>\n",
       "      <td>NIGHTS 10 PM to 5 AM Mon to Fri Feb 13-17 No 1...</td>\n",
       "    </tr>\n",
       "    <tr>\n",
       "      <th>21813</th>\n",
       "      <td>12/19/2010 20:02</td>\n",
       "      <td>Bx   2 train   planned work</td>\n",
       "      <td>Due to completion of planned work uptown 2 tra...</td>\n",
       "    </tr>\n",
       "    <tr>\n",
       "      <th>21938</th>\n",
       "      <td>10/12/2010 5:15</td>\n",
       "      <td>UPDATED : BK   2   4 trains   cancellation of ...</td>\n",
       "      <td>2 &amp; 4 trains have resumed regular service.</td>\n",
       "    </tr>\n",
       "    <tr>\n",
       "      <th>21941</th>\n",
       "      <td>10/11/2010 18:11</td>\n",
       "      <td>UPDATED : BK   2   4 trains   cancellation of ...</td>\n",
       "      <td>Cancelation of planned work Oct 12th 2 train r...</td>\n",
       "    </tr>\n",
       "    <tr>\n",
       "      <th>21942</th>\n",
       "      <td>10/11/2010 17:49</td>\n",
       "      <td>BK   2   4 trains   cancellation of planned work</td>\n",
       "      <td>Due to cancelation of planned work on Oct 12th...</td>\n",
       "    </tr>\n",
       "    <tr>\n",
       "      <th>22355</th>\n",
       "      <td>3/14/2010 8:20</td>\n",
       "      <td>UPDATED : MANH   2 &amp; 3 trains   Planned Work C...</td>\n",
       "      <td>2 &amp; 3 trains planned work complete.</td>\n",
       "    </tr>\n",
       "    <tr>\n",
       "      <th>22356</th>\n",
       "      <td>3/13/2010 22:47</td>\n",
       "      <td>MANH   2 &amp; 3 trains   Planned Work Cancellation</td>\n",
       "      <td>Both directions 2 &amp; 3 trains run regular route...</td>\n",
       "    </tr>\n",
       "  </tbody>\n",
       "</table>\n",
       "</div>"
      ],
      "text/plain": [
       "                   date                                            subject  \\\n",
       "2464   11/22/2020 18:04               Update : BX   2 Train   Planned Work   \n",
       "2468    11/22/2020 7:43                        BX   2 Train   Planned Work   \n",
       "2475   11/21/2020 12:20                        BX   2 Train   Planned Work   \n",
       "3185     8/14/2020 8:35                        BX   2 Train   Planned Work   \n",
       "3435     7/19/2020 8:29             Update : MANH   2 Train   Planned Work   \n",
       "3436     7/19/2020 8:20                      MANH   2 Train   Planned Work   \n",
       "3625     6/21/2020 9:56                        BX   2 Train   Planned Work   \n",
       "3782    5/24/2020 10:02                 BX   2 and 5 Trains   Planned Work   \n",
       "4509     2/21/2020 9:09               BX   2 Train   Planned Work Canceled   \n",
       "4562     2/14/2020 8:32          Planned Work Cancellation   2 and 5 lines   \n",
       "4566     2/13/2020 8:36            Planned Work Suspension   2 and 5 lines   \n",
       "4579     2/11/2020 9:03                   Planned Work Suspension   2 line   \n",
       "4604      2/7/2020 9:39                   Planned Work Suspension   2 line   \n",
       "4649      2/4/2020 9:25          BX   2 Trains   Planned Work Cancellation   \n",
       "5303   11/16/2019 14:25  UPDATED : MANH   1   2 and 3 Trains   Planned ...   \n",
       "5409   10/30/2019 22:52  MANH   2 Trains   Storage of Trains for planne...   \n",
       "5428   10/29/2019 23:46  MANH   2 Trains   Storage of Trains for planne...   \n",
       "6128     7/17/2019 3:01  UPDATED : BX   2 Trains   Prepare for Planned ...   \n",
       "6130     7/17/2019 2:38           BX   2 Trains   Prepare for Planned Work   \n",
       "7031     3/27/2019 2:59                     MANH   2 Trains   Planned Work   \n",
       "8912    8/24/2018 15:00  Planned Work   BX   2 and 5 Shuttle buses rero...   \n",
       "8917    8/23/2018 13:30  Planned Work   BX   2 and 5 Shuttle buses rero...   \n",
       "9098     7/31/2018 8:42                 Bx   2 and 5 Trains   Planned Work   \n",
       "9893      4/8/2018 4:06  UPDATED : MANH   1 and 2 Trains   Unplanned Tr...   \n",
       "9896      4/8/2018 3:28  MANH   1 and 2 Trains   Unplanned Track Mainte...   \n",
       "12066     7/2/2017 8:00             UPDATED : BX   2 Trains   Planned Work   \n",
       "12067     7/2/2017 6:47                       BX   2 Trains   Planned Work   \n",
       "15668  11/13/2015 18:18  UPDATED : 2 Line  -  Weekday Planned Service C...   \n",
       "18697   2/13/2014 16:47  UPDATE  -  2 Line  -  Weeknight Planned Servic...   \n",
       "18702   2/12/2014 17:25  UPDATE  -  2 Line  -  Weeknight Planned Servic...   \n",
       "18792    2/4/2014 16:45  UPDATE  -  2 Line  -  Cancellation of Weeknigh...   \n",
       "18874   1/23/2014 16:13  UPDATE  -  2 Line  -  Cancellation of Weekday ...   \n",
       "18891   1/22/2014 16:29  UPDATE  -  2 Line  -  Cancellation of Weekday ...   \n",
       "18903   1/21/2014 15:45  UPDATE  -  2 Line  -  Cancellation of Weekday ...   \n",
       "19980    4/4/2013 15:24  UPDATE  -  2 Line  -  Cancellation of Weekday ...   \n",
       "19983    4/1/2013 15:31  UPDATE  -  2 Line  -  Cancellation of Weekday ...   \n",
       "20050   2/27/2013 15:04  UPDATE 2 Line - Cancellation of Weeknight Plan...   \n",
       "20051   2/27/2013 15:00  UPDATE 2 Line - Cancellation of Weeknight Plan...   \n",
       "20176   1/18/2013 12:45   UPDATE 2 Line  -  Weekend Planned Service Change   \n",
       "20177   1/18/2013 12:24  UPDATE 2 Line - Cancellation of Weekend Planne...   \n",
       "20881    4/9/2012 13:00  FASTRACK 1   2   and 3 Lines  -  Weeknight Pla...   \n",
       "20949   2/13/2012 11:37  FASTRACK 1   2   3 Lines - Weeknight Planned S...   \n",
       "21813  12/19/2010 20:02                        Bx   2 train   planned work   \n",
       "21938   10/12/2010 5:15  UPDATED : BK   2   4 trains   cancellation of ...   \n",
       "21941  10/11/2010 18:11  UPDATED : BK   2   4 trains   cancellation of ...   \n",
       "21942  10/11/2010 17:49   BK   2   4 trains   cancellation of planned work   \n",
       "22355    3/14/2010 8:20  UPDATED : MANH   2 & 3 trains   Planned Work C...   \n",
       "22356   3/13/2010 22:47    MANH   2 & 3 trains   Planned Work Cancellation   \n",
       "\n",
       "                                                 message  \n",
       "2464   The 2 train shuttle bus stop at 219 St is rest...  \n",
       "2468   The 2 train shuttle bus stop at 219 St has bee...  \n",
       "2475   The 2 train shuttle bus stop at 219 St has bee...  \n",
       "3185   Midday planned work on the 2 line has been can...  \n",
       "3435   The 2 shuttle bus stop for 219 St station on W...  \n",
       "3436   The 2 shuttle bus stop for 215 St station on W...  \n",
       "3625   Morning planned work on the 2 line has finishe...  \n",
       "3782   Planned work at Freeman St has concluded early...  \n",
       "4509   Planned work has been canceled on the 2 line t...  \n",
       "4562   Planned Work on the 2 line has been canceled f...  \n",
       "4566   Planned Work along the 2 and 5 line is suspend...  \n",
       "4579   Planned Work on the 2 line has been suspended ...  \n",
       "4604   Planned Work on the 2 line has been suspended ...  \n",
       "4649   Planned Work on the 2 line is canceled for tod...  \n",
       "5303   Expect longer wait times for northbound 1 2 an...  \n",
       "5409   Harlem-bound 2 trains are running on the local...  \n",
       "5428   Harlem-bound 2 trains are running on the local...  \n",
       "6128   Northbound 2 trains are proceeding with delays...  \n",
       "6130   Northbound 2 trains are holding in stations wh...  \n",
       "7031   2 trains have service changes and delays becau...  \n",
       "8912   The following shuttle bus detour is CANCELLED ...  \n",
       "8917   Planned work : 2 and 5 Shuttle buses rerouted ...  \n",
       "9098   You may experience longer wait times and delay...  \n",
       "9893   1 and 2 train service has resumed following un...  \n",
       "9896   Northbound 1 and 2 trains are running express ...  \n",
       "12066  All 2 trains board at the Manhattan bound plat...  \n",
       "12067  All 2 trains board at the Manhattan bound plat...  \n",
       "15668  10 :15 AM to 3 PM Mon to Fri Nov 16 - 20 241 S...  \n",
       "18697  Due to inclement weather The following Weeknig...  \n",
       "18702  Due to inclement weather The following Weeknig...  \n",
       "18792  The Weeknight Planned Service change scheduled...  \n",
       "18874  Due to inclement weather The following Weekday...  \n",
       "18891  Due to inclement weather The following Weekday...  \n",
       "18903  Due to inclement weather  The following Weekda...  \n",
       "19980  The following Weekday Planned Service Change i...  \n",
       "19983  The following Weekday Planned Service Change i...  \n",
       "20050  The following Weeknight Planned Service Change...  \n",
       "20051  The following Weeknight Planned Service Change...  \n",
       "20176  3 :45 AM Sat to 10 PM Sun Jan 19 - 20 2 servic...  \n",
       "20177  The following Weekday Planned Service Change i...  \n",
       "20881  10 PM to 5 AM Mon to Fri Apr 9-13 No 1 service...  \n",
       "20949  NIGHTS 10 PM to 5 AM Mon to Fri Feb 13-17 No 1...  \n",
       "21813  Due to completion of planned work uptown 2 tra...  \n",
       "21938         2 & 4 trains have resumed regular service.  \n",
       "21941  Cancelation of planned work Oct 12th 2 train r...  \n",
       "21942  Due to cancelation of planned work on Oct 12th...  \n",
       "22355                2 & 3 trains planned work complete.  \n",
       "22356  Both directions 2 & 3 trains run regular route...  "
      ]
     },
     "execution_count": 48,
     "metadata": {},
     "output_type": "execute_result"
    }
   ],
   "source": [
    "planned_service"
   ]
  },
  {
   "cell_type": "code",
   "execution_count": 49,
   "metadata": {
    "ExecuteTime": {
     "end_time": "2021-10-19T00:24:26.909345Z",
     "start_time": "2021-10-19T00:24:26.890427Z"
    }
   },
   "outputs": [],
   "source": [
    "df2 = df2.loc[~df2['subject'].str.contains('planned|Planned')]"
   ]
  },
  {
   "cell_type": "code",
   "execution_count": 57,
   "metadata": {
    "ExecuteTime": {
     "end_time": "2021-10-19T00:25:56.306425Z",
     "start_time": "2021-10-19T00:25:56.298753Z"
    }
   },
   "outputs": [
    {
     "data": {
      "text/plain": [
       "'21:34'"
      ]
     },
     "execution_count": 57,
     "metadata": {},
     "output_type": "execute_result"
    }
   ],
   "source": [
    "df2['date'][0][-5:]"
   ]
  },
  {
   "cell_type": "code",
   "execution_count": 70,
   "metadata": {
    "ExecuteTime": {
     "end_time": "2021-10-19T00:38:33.576636Z",
     "start_time": "2021-10-19T00:38:33.571064Z"
    }
   },
   "outputs": [],
   "source": [
    "def rush_hour(time):\n",
    "    if ((time[-5:] >= '07:00' and time[-5:] <= '09:00') or (time[-5:] >= '15:00' and time[-5:] <= '18:30')):\n",
    "        return 1\n",
    "    else:\n",
    "        return 0\n",
    "def rush_hour_day(day):\n",
    "    if (day >= 0 and day <= 4):\n",
    "        return 1\n",
    "    else:\n",
    "        return 0\n",
    "\n",
    "def weekend(day):\n",
    "    if (day == 5 or day == 6):\n",
    "        return 1\n",
    "    else:\n",
    "        return 0"
   ]
  },
  {
   "cell_type": "code",
   "execution_count": 33,
   "metadata": {
    "ExecuteTime": {
     "end_time": "2021-10-19T00:18:43.379912Z",
     "start_time": "2021-10-19T00:18:42.099192Z"
    }
   },
   "outputs": [
    {
     "name": "stderr",
     "output_type": "stream",
     "text": [
      "<ipython-input-33-9b72c52e37b5>:1: SettingWithCopyWarning: \n",
      "A value is trying to be set on a copy of a slice from a DataFrame.\n",
      "Try using .loc[row_indexer,col_indexer] = value instead\n",
      "\n",
      "See the caveats in the documentation: https://pandas.pydata.org/pandas-docs/stable/user_guide/indexing.html#returning-a-view-versus-a-copy\n",
      "  df2['date'] = pd.to_datetime(df2['date'])\n"
     ]
    }
   ],
   "source": [
    "df2['date'] = pd.to_datetime(df2['date'])"
   ]
  },
  {
   "cell_type": "code",
   "execution_count": 34,
   "metadata": {
    "ExecuteTime": {
     "end_time": "2021-10-19T00:19:00.996451Z",
     "start_time": "2021-10-19T00:19:00.986759Z"
    }
   },
   "outputs": [
    {
     "name": "stderr",
     "output_type": "stream",
     "text": [
      "<ipython-input-34-dd44aa30a917>:1: SettingWithCopyWarning: \n",
      "A value is trying to be set on a copy of a slice from a DataFrame.\n",
      "Try using .loc[row_indexer,col_indexer] = value instead\n",
      "\n",
      "See the caveats in the documentation: https://pandas.pydata.org/pandas-docs/stable/user_guide/indexing.html#returning-a-view-versus-a-copy\n",
      "  planned_service['date'] = pd.to_datetime(planned_service['date'])\n"
     ]
    }
   ],
   "source": [
    "planned_service['date'] = pd.to_datetime(planned_service['date'])"
   ]
  },
  {
   "cell_type": "code",
   "execution_count": 40,
   "metadata": {
    "ExecuteTime": {
     "end_time": "2021-10-19T00:22:19.421337Z",
     "start_time": "2021-10-19T00:22:19.410754Z"
    }
   },
   "outputs": [],
   "source": [
    "s = pd.Series(df2['date'])"
   ]
  },
  {
   "cell_type": "code",
   "execution_count": 51,
   "metadata": {
    "ExecuteTime": {
     "end_time": "2021-10-19T00:24:43.878675Z",
     "start_time": "2021-10-19T00:24:43.866944Z"
    }
   },
   "outputs": [],
   "source": [
    "df2['day_of_week'] = s.dt.dayofweek"
   ]
  },
  {
   "cell_type": "code",
   "execution_count": 65,
   "metadata": {
    "ExecuteTime": {
     "end_time": "2021-10-19T00:28:53.354821Z",
     "start_time": "2021-10-19T00:28:53.322830Z"
    }
   },
   "outputs": [],
   "source": [
    "df2['rush_hour'] = (df2['date'].apply(rush_hour) & df2['day_of_week'].apply(rush_hour_day))"
   ]
  },
  {
   "cell_type": "code",
   "execution_count": 71,
   "metadata": {
    "ExecuteTime": {
     "end_time": "2021-10-19T00:39:02.298337Z",
     "start_time": "2021-10-19T00:39:02.283145Z"
    }
   },
   "outputs": [],
   "source": [
    "df2['weekend'] = (df2['day_of_week'].apply(weekend))"
   ]
  },
  {
   "cell_type": "code",
   "execution_count": 73,
   "metadata": {
    "ExecuteTime": {
     "end_time": "2021-10-19T00:39:55.446210Z",
     "start_time": "2021-10-19T00:39:55.428293Z"
    }
   },
   "outputs": [],
   "source": [
    "df2.drop(['Unnamed: 0', 'day_of_week'], axis=1, inplace=True)"
   ]
  },
  {
   "cell_type": "code",
   "execution_count": 288,
   "metadata": {
    "ExecuteTime": {
     "end_time": "2021-10-19T03:30:36.953498Z",
     "start_time": "2021-10-19T03:30:36.946652Z"
    }
   },
   "outputs": [
    {
     "data": {
      "text/plain": [
       "0       2021-09-30 22:30:00\n",
       "1       2021-09-30 22:00:00\n",
       "2       2021-09-30 19:00:00\n",
       "3       2021-09-30 18:30:00\n",
       "4       2021-09-30 17:30:00\n",
       "                ...        \n",
       "44915   2010-01-02 08:30:00\n",
       "44916   2010-01-01 01:00:00\n",
       "44917   2010-01-01 01:00:00\n",
       "44918   2010-01-01 00:30:00\n",
       "44919   2010-01-01 00:30:00\n",
       "Name: date, Length: 44767, dtype: datetime64[ns]"
      ]
     },
     "execution_count": 288,
     "metadata": {},
     "output_type": "execute_result"
    }
   ],
   "source": [
    "irt['date']"
   ]
  },
  {
   "cell_type": "code",
   "execution_count": 78,
   "metadata": {
    "ExecuteTime": {
     "end_time": "2021-10-19T00:44:07.422546Z",
     "start_time": "2021-10-19T00:44:07.410742Z"
    }
   },
   "outputs": [],
   "source": [
    "s = pd.Series(irt['date'])"
   ]
  },
  {
   "cell_type": "code",
   "execution_count": 99,
   "metadata": {
    "ExecuteTime": {
     "end_time": "2021-10-19T02:02:52.351732Z",
     "start_time": "2021-10-19T02:02:52.330769Z"
    }
   },
   "outputs": [],
   "source": [
    "s = pd.to_datetime(s)"
   ]
  },
  {
   "cell_type": "code",
   "execution_count": 149,
   "metadata": {
    "ExecuteTime": {
     "end_time": "2021-10-19T02:16:36.229600Z",
     "start_time": "2021-10-19T02:16:36.218692Z"
    }
   },
   "outputs": [
    {
     "data": {
      "text/plain": [
       "Timestamp('2021-09-30 17:22:00')"
      ]
     },
     "execution_count": 149,
     "metadata": {},
     "output_type": "execute_result"
    }
   ],
   "source": [
    "s[5]"
   ]
  },
  {
   "cell_type": "code",
   "execution_count": 102,
   "metadata": {
    "ExecuteTime": {
     "end_time": "2021-10-19T02:03:48.926453Z",
     "start_time": "2021-10-19T02:03:48.914449Z"
    }
   },
   "outputs": [],
   "source": [
    "from datetime import timedelta"
   ]
  },
  {
   "cell_type": "code",
   "execution_count": 152,
   "metadata": {
    "ExecuteTime": {
     "end_time": "2021-10-19T02:17:21.473649Z",
     "start_time": "2021-10-19T02:17:21.466647Z"
    }
   },
   "outputs": [],
   "source": [
    "while len(series1) > 45000:\n",
    "    i = 0\n",
    "    for date in s:\n",
    "        series1 = pd.Series(date[i])\n",
    "        series2 = pd.Series(date[i]+timedelta(hours=2))\n",
    "        i += 1"
   ]
  },
  {
   "cell_type": "code",
   "execution_count": 153,
   "metadata": {
    "ExecuteTime": {
     "end_time": "2021-10-19T02:17:22.122586Z",
     "start_time": "2021-10-19T02:17:22.114582Z"
    }
   },
   "outputs": [
    {
     "data": {
      "text/plain": [
       "0   2010-01-01 00:26:00\n",
       "dtype: datetime64[ns]"
      ]
     },
     "execution_count": 153,
     "metadata": {},
     "output_type": "execute_result"
    }
   ],
   "source": [
    "series1"
   ]
  },
  {
   "cell_type": "code",
   "execution_count": 154,
   "metadata": {
    "ExecuteTime": {
     "end_time": "2021-10-19T02:17:38.119174Z",
     "start_time": "2021-10-19T02:17:38.107157Z"
    }
   },
   "outputs": [
    {
     "data": {
      "text/plain": [
       "0   2010-01-01 02:26:00\n",
       "dtype: datetime64[ns]"
      ]
     },
     "execution_count": 154,
     "metadata": {},
     "output_type": "execute_result"
    }
   ],
   "source": [
    "series2"
   ]
  },
  {
   "cell_type": "code",
   "execution_count": 175,
   "metadata": {
    "ExecuteTime": {
     "end_time": "2021-10-19T02:38:28.226635Z",
     "start_time": "2021-10-19T02:38:28.211513Z"
    }
   },
   "outputs": [],
   "source": [
    "dates = irt['date']"
   ]
  },
  {
   "cell_type": "code",
   "execution_count": 176,
   "metadata": {
    "ExecuteTime": {
     "end_time": "2021-10-19T02:38:29.476944Z",
     "start_time": "2021-10-19T02:38:29.466649Z"
    }
   },
   "outputs": [],
   "source": [
    "test_df = pd.DataFrame(dates)"
   ]
  },
  {
   "cell_type": "code",
   "execution_count": 111,
   "metadata": {
    "ExecuteTime": {
     "end_time": "2021-10-19T02:07:11.990810Z",
     "start_time": "2021-10-19T02:07:11.954586Z"
    }
   },
   "outputs": [],
   "source": [
    "daterange = sorted(daterange)"
   ]
  },
  {
   "cell_type": "code",
   "execution_count": 133,
   "metadata": {
    "ExecuteTime": {
     "end_time": "2021-10-19T02:12:51.930413Z",
     "start_time": "2021-10-19T02:12:51.907441Z"
    },
    "scrolled": true
   },
   "outputs": [],
   "source": [
    "daterange1 = sorted(daterange1)\n",
    "daterange2 = sorted(daterange2)"
   ]
  },
  {
   "cell_type": "code",
   "execution_count": 162,
   "metadata": {
    "ExecuteTime": {
     "end_time": "2021-10-19T02:20:17.372703Z",
     "start_time": "2021-10-19T02:20:17.363043Z"
    }
   },
   "outputs": [],
   "source": [
    "test_range = pd.date_range(start=daterange1[0], end=daterange2[0])"
   ]
  },
  {
   "cell_type": "code",
   "execution_count": 163,
   "metadata": {
    "ExecuteTime": {
     "end_time": "2021-10-19T02:20:19.752911Z",
     "start_time": "2021-10-19T02:20:19.747404Z"
    }
   },
   "outputs": [
    {
     "data": {
      "text/plain": [
       "DatetimeIndex(['2010-01-01 00:26:00'], dtype='datetime64[ns]', freq='D')"
      ]
     },
     "execution_count": 163,
     "metadata": {},
     "output_type": "execute_result"
    }
   ],
   "source": [
    "test_range"
   ]
  },
  {
   "cell_type": "code",
   "execution_count": 128,
   "metadata": {
    "ExecuteTime": {
     "end_time": "2021-10-19T02:12:10.512689Z",
     "start_time": "2021-10-19T02:12:07.298763Z"
    }
   },
   "outputs": [],
   "source": [
    "ranges = []\n",
    "while len(ranges) < 45000:\n",
    "    i = 0\n",
    "    for date in daterange1, daterange2:\n",
    "        ranges.append(pd.date_range(start=daterange1[i],end=daterange2[i]))\n",
    "        i += 1\n",
    "        continue"
   ]
  },
  {
   "cell_type": "code",
   "execution_count": 130,
   "metadata": {
    "ExecuteTime": {
     "end_time": "2021-10-19T02:12:20.992632Z",
     "start_time": "2021-10-19T02:12:20.987109Z"
    }
   },
   "outputs": [
    {
     "data": {
      "text/plain": [
       "DatetimeIndex(['2021-09-30 22:26:00'], dtype='datetime64[ns]', freq='D')"
      ]
     },
     "execution_count": 130,
     "metadata": {},
     "output_type": "execute_result"
    }
   ],
   "source": [
    "ranges[0]"
   ]
  },
  {
   "cell_type": "code",
   "execution_count": 177,
   "metadata": {
    "ExecuteTime": {
     "end_time": "2021-10-19T02:38:35.172603Z",
     "start_time": "2021-10-19T02:38:35.146734Z"
    }
   },
   "outputs": [],
   "source": [
    "test_df['date'] = pd.to_datetime(test_df['date'])"
   ]
  },
  {
   "cell_type": "code",
   "execution_count": 178,
   "metadata": {
    "ExecuteTime": {
     "end_time": "2021-10-19T02:38:35.972477Z",
     "start_time": "2021-10-19T02:38:35.962474Z"
    }
   },
   "outputs": [],
   "source": [
    "test_df['delta'] = (test_df['date'] + timedelta(hours=2))"
   ]
  },
  {
   "cell_type": "code",
   "execution_count": 179,
   "metadata": {
    "ExecuteTime": {
     "end_time": "2021-10-19T02:38:36.555657Z",
     "start_time": "2021-10-19T02:38:36.538597Z"
    },
    "scrolled": false
   },
   "outputs": [
    {
     "data": {
      "text/html": [
       "<div>\n",
       "<style scoped>\n",
       "    .dataframe tbody tr th:only-of-type {\n",
       "        vertical-align: middle;\n",
       "    }\n",
       "\n",
       "    .dataframe tbody tr th {\n",
       "        vertical-align: top;\n",
       "    }\n",
       "\n",
       "    .dataframe thead th {\n",
       "        text-align: right;\n",
       "    }\n",
       "</style>\n",
       "<table border=\"1\" class=\"dataframe\">\n",
       "  <thead>\n",
       "    <tr style=\"text-align: right;\">\n",
       "      <th></th>\n",
       "      <th>date</th>\n",
       "      <th>delta</th>\n",
       "    </tr>\n",
       "  </thead>\n",
       "  <tbody>\n",
       "    <tr>\n",
       "      <th>0</th>\n",
       "      <td>2021-09-30 22:26:00</td>\n",
       "      <td>2021-10-01 00:26:00</td>\n",
       "    </tr>\n",
       "    <tr>\n",
       "      <th>1</th>\n",
       "      <td>2021-09-30 22:13:00</td>\n",
       "      <td>2021-10-01 00:13:00</td>\n",
       "    </tr>\n",
       "    <tr>\n",
       "      <th>2</th>\n",
       "      <td>2021-09-30 18:50:00</td>\n",
       "      <td>2021-09-30 20:50:00</td>\n",
       "    </tr>\n",
       "    <tr>\n",
       "      <th>3</th>\n",
       "      <td>2021-09-30 18:40:00</td>\n",
       "      <td>2021-09-30 20:40:00</td>\n",
       "    </tr>\n",
       "    <tr>\n",
       "      <th>4</th>\n",
       "      <td>2021-09-30 17:42:00</td>\n",
       "      <td>2021-09-30 19:42:00</td>\n",
       "    </tr>\n",
       "    <tr>\n",
       "      <th>...</th>\n",
       "      <td>...</td>\n",
       "      <td>...</td>\n",
       "    </tr>\n",
       "    <tr>\n",
       "      <th>44915</th>\n",
       "      <td>2010-01-02 08:28:00</td>\n",
       "      <td>2010-01-02 10:28:00</td>\n",
       "    </tr>\n",
       "    <tr>\n",
       "      <th>44916</th>\n",
       "      <td>2010-01-01 00:56:00</td>\n",
       "      <td>2010-01-01 02:56:00</td>\n",
       "    </tr>\n",
       "    <tr>\n",
       "      <th>44917</th>\n",
       "      <td>2010-01-01 00:49:00</td>\n",
       "      <td>2010-01-01 02:49:00</td>\n",
       "    </tr>\n",
       "    <tr>\n",
       "      <th>44918</th>\n",
       "      <td>2010-01-01 00:35:00</td>\n",
       "      <td>2010-01-01 02:35:00</td>\n",
       "    </tr>\n",
       "    <tr>\n",
       "      <th>44919</th>\n",
       "      <td>2010-01-01 00:26:00</td>\n",
       "      <td>2010-01-01 02:26:00</td>\n",
       "    </tr>\n",
       "  </tbody>\n",
       "</table>\n",
       "<p>44920 rows × 2 columns</p>\n",
       "</div>"
      ],
      "text/plain": [
       "                     date               delta\n",
       "0     2021-09-30 22:26:00 2021-10-01 00:26:00\n",
       "1     2021-09-30 22:13:00 2021-10-01 00:13:00\n",
       "2     2021-09-30 18:50:00 2021-09-30 20:50:00\n",
       "3     2021-09-30 18:40:00 2021-09-30 20:40:00\n",
       "4     2021-09-30 17:42:00 2021-09-30 19:42:00\n",
       "...                   ...                 ...\n",
       "44915 2010-01-02 08:28:00 2010-01-02 10:28:00\n",
       "44916 2010-01-01 00:56:00 2010-01-01 02:56:00\n",
       "44917 2010-01-01 00:49:00 2010-01-01 02:49:00\n",
       "44918 2010-01-01 00:35:00 2010-01-01 02:35:00\n",
       "44919 2010-01-01 00:26:00 2010-01-01 02:26:00\n",
       "\n",
       "[44920 rows x 2 columns]"
      ]
     },
     "execution_count": 179,
     "metadata": {},
     "output_type": "execute_result"
    }
   ],
   "source": [
    "test_df"
   ]
  },
  {
   "cell_type": "code",
   "execution_count": 180,
   "metadata": {
    "ExecuteTime": {
     "end_time": "2021-10-19T02:39:25.117654Z",
     "start_time": "2021-10-19T02:39:25.099687Z"
    }
   },
   "outputs": [
    {
     "ename": "TypeError",
     "evalue": "Cannot convert input [0       2021-09-30 22:26:00\n1       2021-09-30 22:13:00\n2       2021-09-30 18:50:00\n3       2021-09-30 18:40:00\n4       2021-09-30 17:42:00\n                ...        \n44915   2010-01-02 08:28:00\n44916   2010-01-01 00:56:00\n44917   2010-01-01 00:49:00\n44918   2010-01-01 00:35:00\n44919   2010-01-01 00:26:00\nName: date, Length: 44920, dtype: datetime64[ns]] of type <class 'pandas.core.series.Series'> to Timestamp",
     "output_type": "error",
     "traceback": [
      "\u001b[1;31m---------------------------------------------------------------------------\u001b[0m",
      "\u001b[1;31mTypeError\u001b[0m                                 Traceback (most recent call last)",
      "\u001b[1;32m<ipython-input-180-91c546871653>\u001b[0m in \u001b[0;36m<module>\u001b[1;34m\u001b[0m\n\u001b[1;32m----> 1\u001b[1;33m \u001b[0mtest_df\u001b[0m\u001b[1;33m[\u001b[0m\u001b[1;34m'range'\u001b[0m\u001b[1;33m]\u001b[0m \u001b[1;33m=\u001b[0m \u001b[0mpd\u001b[0m\u001b[1;33m.\u001b[0m\u001b[0mdate_range\u001b[0m\u001b[1;33m(\u001b[0m\u001b[0mstart\u001b[0m\u001b[1;33m=\u001b[0m\u001b[0mtest_df\u001b[0m\u001b[1;33m[\u001b[0m\u001b[1;34m'date'\u001b[0m\u001b[1;33m]\u001b[0m\u001b[1;33m,\u001b[0m \u001b[0mend\u001b[0m\u001b[1;33m=\u001b[0m\u001b[0mtest_df\u001b[0m\u001b[1;33m[\u001b[0m\u001b[1;34m'delta'\u001b[0m\u001b[1;33m]\u001b[0m\u001b[1;33m)\u001b[0m\u001b[1;33m\u001b[0m\u001b[1;33m\u001b[0m\u001b[0m\n\u001b[0m",
      "\u001b[1;32m~\\anaconda3\\envs\\learn-env\\lib\\site-packages\\pandas\\core\\indexes\\datetimes.py\u001b[0m in \u001b[0;36mdate_range\u001b[1;34m(start, end, periods, freq, tz, normalize, name, closed, **kwargs)\u001b[0m\n\u001b[0;32m    997\u001b[0m         \u001b[0mfreq\u001b[0m \u001b[1;33m=\u001b[0m \u001b[1;34m\"D\"\u001b[0m\u001b[1;33m\u001b[0m\u001b[1;33m\u001b[0m\u001b[0m\n\u001b[0;32m    998\u001b[0m \u001b[1;33m\u001b[0m\u001b[0m\n\u001b[1;32m--> 999\u001b[1;33m     dtarr = DatetimeArray._generate_range(\n\u001b[0m\u001b[0;32m   1000\u001b[0m         \u001b[0mstart\u001b[0m\u001b[1;33m=\u001b[0m\u001b[0mstart\u001b[0m\u001b[1;33m,\u001b[0m\u001b[1;33m\u001b[0m\u001b[1;33m\u001b[0m\u001b[0m\n\u001b[0;32m   1001\u001b[0m         \u001b[0mend\u001b[0m\u001b[1;33m=\u001b[0m\u001b[0mend\u001b[0m\u001b[1;33m,\u001b[0m\u001b[1;33m\u001b[0m\u001b[1;33m\u001b[0m\u001b[0m\n",
      "\u001b[1;32m~\\anaconda3\\envs\\learn-env\\lib\\site-packages\\pandas\\core\\arrays\\datetimes.py\u001b[0m in \u001b[0;36m_generate_range\u001b[1;34m(cls, start, end, periods, freq, tz, normalize, ambiguous, nonexistent, closed)\u001b[0m\n\u001b[0;32m    368\u001b[0m \u001b[1;33m\u001b[0m\u001b[0m\n\u001b[0;32m    369\u001b[0m         \u001b[1;32mif\u001b[0m \u001b[0mstart\u001b[0m \u001b[1;32mis\u001b[0m \u001b[1;32mnot\u001b[0m \u001b[1;32mNone\u001b[0m\u001b[1;33m:\u001b[0m\u001b[1;33m\u001b[0m\u001b[1;33m\u001b[0m\u001b[0m\n\u001b[1;32m--> 370\u001b[1;33m             \u001b[0mstart\u001b[0m \u001b[1;33m=\u001b[0m \u001b[0mTimestamp\u001b[0m\u001b[1;33m(\u001b[0m\u001b[0mstart\u001b[0m\u001b[1;33m)\u001b[0m\u001b[1;33m\u001b[0m\u001b[1;33m\u001b[0m\u001b[0m\n\u001b[0m\u001b[0;32m    371\u001b[0m \u001b[1;33m\u001b[0m\u001b[0m\n\u001b[0;32m    372\u001b[0m         \u001b[1;32mif\u001b[0m \u001b[0mend\u001b[0m \u001b[1;32mis\u001b[0m \u001b[1;32mnot\u001b[0m \u001b[1;32mNone\u001b[0m\u001b[1;33m:\u001b[0m\u001b[1;33m\u001b[0m\u001b[1;33m\u001b[0m\u001b[0m\n",
      "\u001b[1;32mpandas\\_libs\\tslibs\\timestamps.pyx\u001b[0m in \u001b[0;36mpandas._libs.tslibs.timestamps.Timestamp.__new__\u001b[1;34m()\u001b[0m\n",
      "\u001b[1;32mpandas\\_libs\\tslibs\\conversion.pyx\u001b[0m in \u001b[0;36mpandas._libs.tslibs.conversion.convert_to_tsobject\u001b[1;34m()\u001b[0m\n",
      "\u001b[1;31mTypeError\u001b[0m: Cannot convert input [0       2021-09-30 22:26:00\n1       2021-09-30 22:13:00\n2       2021-09-30 18:50:00\n3       2021-09-30 18:40:00\n4       2021-09-30 17:42:00\n                ...        \n44915   2010-01-02 08:28:00\n44916   2010-01-01 00:56:00\n44917   2010-01-01 00:49:00\n44918   2010-01-01 00:35:00\n44919   2010-01-01 00:26:00\nName: date, Length: 44920, dtype: datetime64[ns]] of type <class 'pandas.core.series.Series'> to Timestamp"
     ]
    }
   ],
   "source": [
    "test_df['range'] = pd.date_range(start=test_df['date'], end=test_df['delta'])"
   ]
  },
  {
   "cell_type": "code",
   "execution_count": 184,
   "metadata": {
    "ExecuteTime": {
     "end_time": "2021-10-19T02:43:15.073750Z",
     "start_time": "2021-10-19T02:43:15.002793Z"
    }
   },
   "outputs": [],
   "source": [
    "model_df = pd.read_csv('model.csv')"
   ]
  },
  {
   "cell_type": "code",
   "execution_count": 189,
   "metadata": {
    "ExecuteTime": {
     "end_time": "2021-10-19T02:46:21.834184Z",
     "start_time": "2021-10-19T02:46:21.802805Z"
    }
   },
   "outputs": [],
   "source": [
    "irt['date'] = pd.to_datetime(irt['date'])"
   ]
  },
  {
   "cell_type": "code",
   "execution_count": 191,
   "metadata": {
    "ExecuteTime": {
     "end_time": "2021-10-19T02:46:29.503475Z",
     "start_time": "2021-10-19T02:46:29.491460Z"
    }
   },
   "outputs": [],
   "source": [
    "irt.date = irt.date.dt.round('30min')"
   ]
  },
  {
   "cell_type": "code",
   "execution_count": 199,
   "metadata": {
    "ExecuteTime": {
     "end_time": "2021-10-19T02:49:13.244305Z",
     "start_time": "2021-10-19T02:49:13.202674Z"
    }
   },
   "outputs": [],
   "source": [
    "irt = irt.loc[~irt['subject'].str.contains('planned|Planned')]"
   ]
  },
  {
   "cell_type": "code",
   "execution_count": 201,
   "metadata": {
    "ExecuteTime": {
     "end_time": "2021-10-19T02:49:31.247802Z",
     "start_time": "2021-10-19T02:49:31.235848Z"
    }
   },
   "outputs": [
    {
     "name": "stderr",
     "output_type": "stream",
     "text": [
      "C:\\Users\\sethk\\anaconda3\\envs\\learn-env\\lib\\site-packages\\pandas\\core\\frame.py:4163: SettingWithCopyWarning: \n",
      "A value is trying to be set on a copy of a slice from a DataFrame\n",
      "\n",
      "See the caveats in the documentation: https://pandas.pydata.org/pandas-docs/stable/user_guide/indexing.html#returning-a-view-versus-a-copy\n",
      "  return super().drop(\n"
     ]
    }
   ],
   "source": [
    "irt.drop('Unnamed: 0', axis=1, inplace=True)"
   ]
  },
  {
   "cell_type": "code",
   "execution_count": 221,
   "metadata": {
    "ExecuteTime": {
     "end_time": "2021-10-19T02:54:37.770444Z",
     "start_time": "2021-10-19T02:54:37.659461Z"
    }
   },
   "outputs": [],
   "source": [
    "trying = pd.concat([irt, df2],join='outer')"
   ]
  },
  {
   "cell_type": "code",
   "execution_count": 222,
   "metadata": {
    "ExecuteTime": {
     "end_time": "2021-10-19T02:54:38.513029Z",
     "start_time": "2021-10-19T02:54:38.499462Z"
    }
   },
   "outputs": [
    {
     "data": {
      "text/html": [
       "<div>\n",
       "<style scoped>\n",
       "    .dataframe tbody tr th:only-of-type {\n",
       "        vertical-align: middle;\n",
       "    }\n",
       "\n",
       "    .dataframe tbody tr th {\n",
       "        vertical-align: top;\n",
       "    }\n",
       "\n",
       "    .dataframe thead th {\n",
       "        text-align: right;\n",
       "    }\n",
       "</style>\n",
       "<table border=\"1\" class=\"dataframe\">\n",
       "  <thead>\n",
       "    <tr style=\"text-align: right;\">\n",
       "      <th></th>\n",
       "      <th>date</th>\n",
       "      <th>subject</th>\n",
       "      <th>message</th>\n",
       "      <th>rush_hour</th>\n",
       "      <th>weekend</th>\n",
       "    </tr>\n",
       "  </thead>\n",
       "  <tbody>\n",
       "    <tr>\n",
       "      <th>0</th>\n",
       "      <td>2021-09-30 22:30:00</td>\n",
       "      <td>Update : BX   4 Train   Delays</td>\n",
       "      <td>4 trains are proceeding in both directions wit...</td>\n",
       "      <td>NaN</td>\n",
       "      <td>NaN</td>\n",
       "    </tr>\n",
       "    <tr>\n",
       "      <th>1</th>\n",
       "      <td>2021-09-30 22:00:00</td>\n",
       "      <td>BX   4 Train   Delays</td>\n",
       "      <td>4 trains are delayed entering / leaving Woodla...</td>\n",
       "      <td>NaN</td>\n",
       "      <td>NaN</td>\n",
       "    </tr>\n",
       "    <tr>\n",
       "      <th>2</th>\n",
       "      <td>2021-09-30 19:00:00</td>\n",
       "      <td>Update : QNS   7 Train   Delays</td>\n",
       "      <td>34 St-bound 7 trains are proceeding with delay...</td>\n",
       "      <td>NaN</td>\n",
       "      <td>NaN</td>\n",
       "    </tr>\n",
       "    <tr>\n",
       "      <th>3</th>\n",
       "      <td>2021-09-30 18:30:00</td>\n",
       "      <td>QNS   7 Train   Delays</td>\n",
       "      <td>34 St-bound 7 trains are holding in stations i...</td>\n",
       "      <td>NaN</td>\n",
       "      <td>NaN</td>\n",
       "    </tr>\n",
       "    <tr>\n",
       "      <th>4</th>\n",
       "      <td>2021-09-30 17:30:00</td>\n",
       "      <td>MANH   4   5   and 6 Trains   Delays</td>\n",
       "      <td>4 5 6 trains are running with extensive delays...</td>\n",
       "      <td>NaN</td>\n",
       "      <td>NaN</td>\n",
       "    </tr>\n",
       "    <tr>\n",
       "      <th>...</th>\n",
       "      <td>...</td>\n",
       "      <td>...</td>\n",
       "      <td>...</td>\n",
       "      <td>...</td>\n",
       "      <td>...</td>\n",
       "    </tr>\n",
       "    <tr>\n",
       "      <th>22463</th>\n",
       "      <td>1/6/2010 8:45</td>\n",
       "      <td>UPDATED : BX    2 &amp; 5 Trains   Police Investig...</td>\n",
       "      <td>2 &amp; 5 train service has resumed with residual ...</td>\n",
       "      <td>0.0</td>\n",
       "      <td>0.0</td>\n",
       "    </tr>\n",
       "    <tr>\n",
       "      <th>22464</th>\n",
       "      <td>1/6/2010 7:41</td>\n",
       "      <td>BX    2 &amp; 5 Trains   Police Investigation</td>\n",
       "      <td>Both directions 2 &amp; 5 trains bypassing 3rd Av-...</td>\n",
       "      <td>0.0</td>\n",
       "      <td>0.0</td>\n",
       "    </tr>\n",
       "    <tr>\n",
       "      <th>22465</th>\n",
       "      <td>1/5/2010 18:08</td>\n",
       "      <td>1 and 2 Lines - Late Night Service Change</td>\n",
       "      <td>Downtown 1 and 2 trains run express from 34 St...</td>\n",
       "      <td>1.0</td>\n",
       "      <td>0.0</td>\n",
       "    </tr>\n",
       "    <tr>\n",
       "      <th>22466</th>\n",
       "      <td>1/1/2010 10:56</td>\n",
       "      <td>UPDATED : MANH   2 &amp; 3 trains   Police Investi...</td>\n",
       "      <td>2 &amp; 3 train service has resumed with residual ...</td>\n",
       "      <td>0.0</td>\n",
       "      <td>0.0</td>\n",
       "    </tr>\n",
       "    <tr>\n",
       "      <th>22467</th>\n",
       "      <td>1/1/2010 9:55</td>\n",
       "      <td>MANH   2 &amp; 3 trains   Police Investigation</td>\n",
       "      <td>Selected BK-bound 2 &amp; 3 trains terminate at va...</td>\n",
       "      <td>0.0</td>\n",
       "      <td>0.0</td>\n",
       "    </tr>\n",
       "  </tbody>\n",
       "</table>\n",
       "<p>67187 rows × 5 columns</p>\n",
       "</div>"
      ],
      "text/plain": [
       "                      date                                            subject  \\\n",
       "0      2021-09-30 22:30:00                     Update : BX   4 Train   Delays   \n",
       "1      2021-09-30 22:00:00                              BX   4 Train   Delays   \n",
       "2      2021-09-30 19:00:00                    Update : QNS   7 Train   Delays   \n",
       "3      2021-09-30 18:30:00                             QNS   7 Train   Delays   \n",
       "4      2021-09-30 17:30:00               MANH   4   5   and 6 Trains   Delays   \n",
       "...                    ...                                                ...   \n",
       "22463        1/6/2010 8:45  UPDATED : BX    2 & 5 Trains   Police Investig...   \n",
       "22464        1/6/2010 7:41          BX    2 & 5 Trains   Police Investigation   \n",
       "22465       1/5/2010 18:08          1 and 2 Lines - Late Night Service Change   \n",
       "22466       1/1/2010 10:56  UPDATED : MANH   2 & 3 trains   Police Investi...   \n",
       "22467        1/1/2010 9:55         MANH   2 & 3 trains   Police Investigation   \n",
       "\n",
       "                                                 message  rush_hour  weekend  \n",
       "0      4 trains are proceeding in both directions wit...        NaN      NaN  \n",
       "1      4 trains are delayed entering / leaving Woodla...        NaN      NaN  \n",
       "2      34 St-bound 7 trains are proceeding with delay...        NaN      NaN  \n",
       "3      34 St-bound 7 trains are holding in stations i...        NaN      NaN  \n",
       "4      4 5 6 trains are running with extensive delays...        NaN      NaN  \n",
       "...                                                  ...        ...      ...  \n",
       "22463  2 & 5 train service has resumed with residual ...        0.0      0.0  \n",
       "22464  Both directions 2 & 5 trains bypassing 3rd Av-...        0.0      0.0  \n",
       "22465  Downtown 1 and 2 trains run express from 34 St...        1.0      0.0  \n",
       "22466  2 & 3 train service has resumed with residual ...        0.0      0.0  \n",
       "22467  Selected BK-bound 2 & 3 trains terminate at va...        0.0      0.0  \n",
       "\n",
       "[67187 rows x 5 columns]"
      ]
     },
     "execution_count": 222,
     "metadata": {},
     "output_type": "execute_result"
    }
   ],
   "source": [
    "trying"
   ]
  },
  {
   "cell_type": "code",
   "execution_count": 225,
   "metadata": {
    "ExecuteTime": {
     "end_time": "2021-10-19T02:56:31.375532Z",
     "start_time": "2021-10-19T02:56:30.082451Z"
    }
   },
   "outputs": [],
   "source": [
    "df2['date'] = pd.to_datetime(df2['date'])"
   ]
  },
  {
   "cell_type": "code",
   "execution_count": 227,
   "metadata": {
    "ExecuteTime": {
     "end_time": "2021-10-19T02:59:43.838546Z",
     "start_time": "2021-10-19T02:59:43.827444Z"
    }
   },
   "outputs": [
    {
     "name": "stderr",
     "output_type": "stream",
     "text": [
      "<ipython-input-227-845c2b280ca8>:1: SettingWithCopyWarning: \n",
      "A value is trying to be set on a copy of a slice from a DataFrame.\n",
      "Try using .loc[row_indexer,col_indexer] = value instead\n",
      "\n",
      "See the caveats in the documentation: https://pandas.pydata.org/pandas-docs/stable/user_guide/indexing.html#returning-a-view-versus-a-copy\n",
      "  irt['delta'] = (irt['date']+timedelta(hours=2))\n"
     ]
    }
   ],
   "source": [
    "irt['delta'] = (irt['date']+timedelta(hours=2))"
   ]
  },
  {
   "cell_type": "code",
   "execution_count": 229,
   "metadata": {
    "ExecuteTime": {
     "end_time": "2021-10-19T03:00:00.319432Z",
     "start_time": "2021-10-19T03:00:00.195669Z"
    }
   },
   "outputs": [
    {
     "ename": "ValueError",
     "evalue": "Value must be Timedelta, string, integer, float, timedelta or convertible, not Series",
     "output_type": "error",
     "traceback": [
      "\u001b[1;31m---------------------------------------------------------------------------\u001b[0m",
      "\u001b[1;31mValueError\u001b[0m                                Traceback (most recent call last)",
      "\u001b[1;32m<ipython-input-229-0f31c906e243>\u001b[0m in \u001b[0;36m<module>\u001b[1;34m\u001b[0m\n\u001b[1;32m----> 1\u001b[1;33m \u001b[0mpd\u001b[0m\u001b[1;33m.\u001b[0m\u001b[0mtimedelta_range\u001b[0m\u001b[1;33m(\u001b[0m\u001b[0mirt\u001b[0m\u001b[1;33m[\u001b[0m\u001b[1;34m'date'\u001b[0m\u001b[1;33m]\u001b[0m\u001b[1;33m,\u001b[0m\u001b[0mirt\u001b[0m\u001b[1;33m[\u001b[0m\u001b[1;34m'delta'\u001b[0m\u001b[1;33m]\u001b[0m\u001b[1;33m)\u001b[0m\u001b[1;33m\u001b[0m\u001b[1;33m\u001b[0m\u001b[0m\n\u001b[0m",
      "\u001b[1;32m~\\anaconda3\\envs\\learn-env\\lib\\site-packages\\pandas\\core\\indexes\\timedeltas.py\u001b[0m in \u001b[0;36mtimedelta_range\u001b[1;34m(start, end, periods, freq, name, closed)\u001b[0m\n\u001b[0;32m    331\u001b[0m \u001b[1;33m\u001b[0m\u001b[0m\n\u001b[0;32m    332\u001b[0m     \u001b[0mfreq\u001b[0m\u001b[1;33m,\u001b[0m \u001b[0m_\u001b[0m \u001b[1;33m=\u001b[0m \u001b[0mdtl\u001b[0m\u001b[1;33m.\u001b[0m\u001b[0mmaybe_infer_freq\u001b[0m\u001b[1;33m(\u001b[0m\u001b[0mfreq\u001b[0m\u001b[1;33m)\u001b[0m\u001b[1;33m\u001b[0m\u001b[1;33m\u001b[0m\u001b[0m\n\u001b[1;32m--> 333\u001b[1;33m     \u001b[0mtdarr\u001b[0m \u001b[1;33m=\u001b[0m \u001b[0mTimedeltaArray\u001b[0m\u001b[1;33m.\u001b[0m\u001b[0m_generate_range\u001b[0m\u001b[1;33m(\u001b[0m\u001b[0mstart\u001b[0m\u001b[1;33m,\u001b[0m \u001b[0mend\u001b[0m\u001b[1;33m,\u001b[0m \u001b[0mperiods\u001b[0m\u001b[1;33m,\u001b[0m \u001b[0mfreq\u001b[0m\u001b[1;33m,\u001b[0m \u001b[0mclosed\u001b[0m\u001b[1;33m=\u001b[0m\u001b[0mclosed\u001b[0m\u001b[1;33m)\u001b[0m\u001b[1;33m\u001b[0m\u001b[1;33m\u001b[0m\u001b[0m\n\u001b[0m\u001b[0;32m    334\u001b[0m     \u001b[1;32mreturn\u001b[0m \u001b[0mTimedeltaIndex\u001b[0m\u001b[1;33m.\u001b[0m\u001b[0m_simple_new\u001b[0m\u001b[1;33m(\u001b[0m\u001b[0mtdarr\u001b[0m\u001b[1;33m,\u001b[0m \u001b[0mname\u001b[0m\u001b[1;33m=\u001b[0m\u001b[0mname\u001b[0m\u001b[1;33m)\u001b[0m\u001b[1;33m\u001b[0m\u001b[1;33m\u001b[0m\u001b[0m\n",
      "\u001b[1;32m~\\anaconda3\\envs\\learn-env\\lib\\site-packages\\pandas\\core\\arrays\\timedeltas.py\u001b[0m in \u001b[0;36m_generate_range\u001b[1;34m(cls, start, end, periods, freq, closed)\u001b[0m\n\u001b[0;32m    246\u001b[0m \u001b[1;33m\u001b[0m\u001b[0m\n\u001b[0;32m    247\u001b[0m         \u001b[1;32mif\u001b[0m \u001b[0mstart\u001b[0m \u001b[1;32mis\u001b[0m \u001b[1;32mnot\u001b[0m \u001b[1;32mNone\u001b[0m\u001b[1;33m:\u001b[0m\u001b[1;33m\u001b[0m\u001b[1;33m\u001b[0m\u001b[0m\n\u001b[1;32m--> 248\u001b[1;33m             \u001b[0mstart\u001b[0m \u001b[1;33m=\u001b[0m \u001b[0mTimedelta\u001b[0m\u001b[1;33m(\u001b[0m\u001b[0mstart\u001b[0m\u001b[1;33m)\u001b[0m\u001b[1;33m\u001b[0m\u001b[1;33m\u001b[0m\u001b[0m\n\u001b[0m\u001b[0;32m    249\u001b[0m \u001b[1;33m\u001b[0m\u001b[0m\n\u001b[0;32m    250\u001b[0m         \u001b[1;32mif\u001b[0m \u001b[0mend\u001b[0m \u001b[1;32mis\u001b[0m \u001b[1;32mnot\u001b[0m \u001b[1;32mNone\u001b[0m\u001b[1;33m:\u001b[0m\u001b[1;33m\u001b[0m\u001b[1;33m\u001b[0m\u001b[0m\n",
      "\u001b[1;32mpandas\\_libs\\tslibs\\timedeltas.pyx\u001b[0m in \u001b[0;36mpandas._libs.tslibs.timedeltas.Timedelta.__new__\u001b[1;34m()\u001b[0m\n",
      "\u001b[1;31mValueError\u001b[0m: Value must be Timedelta, string, integer, float, timedelta or convertible, not Series"
     ]
    }
   ],
   "source": [
    "pd.timedelta_range(irt['date'],irt['delta'])"
   ]
  },
  {
   "cell_type": "code",
   "execution_count": 244,
   "metadata": {
    "ExecuteTime": {
     "end_time": "2021-10-19T03:05:58.112139Z",
     "start_time": "2021-10-19T03:05:58.098476Z"
    }
   },
   "outputs": [
    {
     "data": {
      "text/plain": [
       "0       2021-09-30 22:30:00\n",
       "1       2021-09-30 22:00:00\n",
       "2       2021-09-30 19:00:00\n",
       "3       2021-09-30 18:30:00\n",
       "4       2021-09-30 17:30:00\n",
       "                ...        \n",
       "44915   2010-01-02 08:30:00\n",
       "44916   2010-01-01 01:00:00\n",
       "44917   2010-01-01 01:00:00\n",
       "44918   2010-01-01 00:30:00\n",
       "44919   2010-01-01 00:30:00\n",
       "Name: date, Length: 44767, dtype: datetime64[ns]"
      ]
     },
     "execution_count": 244,
     "metadata": {},
     "output_type": "execute_result"
    }
   ],
   "source": [
    "irt['date']"
   ]
  },
  {
   "cell_type": "code",
   "execution_count": 243,
   "metadata": {
    "ExecuteTime": {
     "end_time": "2021-10-19T03:04:36.685916Z",
     "start_time": "2021-10-19T03:04:36.675410Z"
    }
   },
   "outputs": [
    {
     "data": {
      "text/plain": [
       "Timestamp('2021-09-30 17:30:00')"
      ]
     },
     "execution_count": 243,
     "metadata": {},
     "output_type": "execute_result"
    }
   ],
   "source": [
    "pd.Timestamp(irt['date'][5])"
   ]
  },
  {
   "cell_type": "code",
   "execution_count": 278,
   "metadata": {
    "ExecuteTime": {
     "end_time": "2021-10-19T03:24:33.799440Z",
     "start_time": "2021-10-19T03:24:33.787185Z"
    }
   },
   "outputs": [],
   "source": [
    "i = 0\n",
    "dateranges = []\n",
    "while i > 25:\n",
    "    dateranges.append(pd.date_range(start=pd.Timestamp(irt['date'][i]), end=pd.Timestamp(irt['delta'][i]),freq='2h'))\n",
    "    i += 1\n",
    "    continue"
   ]
  },
  {
   "cell_type": "code",
   "execution_count": 280,
   "metadata": {
    "ExecuteTime": {
     "end_time": "2021-10-19T03:24:39.849736Z",
     "start_time": "2021-10-19T03:24:39.835118Z"
    }
   },
   "outputs": [
    {
     "data": {
      "text/plain": [
       "[]"
      ]
     },
     "execution_count": 280,
     "metadata": {},
     "output_type": "execute_result"
    }
   ],
   "source": [
    "dateranges"
   ]
  },
  {
   "cell_type": "code",
   "execution_count": 265,
   "metadata": {
    "ExecuteTime": {
     "end_time": "2021-10-19T03:21:05.732355Z",
     "start_time": "2021-10-19T03:21:05.714745Z"
    }
   },
   "outputs": [
    {
     "data": {
      "text/plain": [
       "0       2021-10-01 00:30:00\n",
       "1       2021-10-01 00:00:00\n",
       "2       2021-09-30 21:00:00\n",
       "3       2021-09-30 20:30:00\n",
       "4       2021-09-30 19:30:00\n",
       "                ...        \n",
       "44915   2010-01-02 10:30:00\n",
       "44916   2010-01-01 03:00:00\n",
       "44917   2010-01-01 03:00:00\n",
       "44918   2010-01-01 02:30:00\n",
       "44919   2010-01-01 02:30:00\n",
       "Name: delta, Length: 44767, dtype: datetime64[ns]"
      ]
     },
     "execution_count": 265,
     "metadata": {},
     "output_type": "execute_result"
    }
   ],
   "source": [
    "irt['delta']"
   ]
  },
  {
   "cell_type": "code",
   "execution_count": 281,
   "metadata": {
    "ExecuteTime": {
     "end_time": "2021-10-19T03:25:25.686648Z",
     "start_time": "2021-10-19T03:25:25.675656Z"
    }
   },
   "outputs": [
    {
     "data": {
      "text/plain": [
       "Index(['September 30, 2021, 10:30:00 PM', 'October 01, 2021, 12:30:00 AM'], dtype='object')"
      ]
     },
     "execution_count": 281,
     "metadata": {},
     "output_type": "execute_result"
    }
   ],
   "source": [
    "i = 0\n",
    "dateranges = pd.date_range(start=pd.Timestamp(irt['date'][i]), end=pd.Timestamp(irt['delta'][i]),freq='2h')\n",
    "dateranges.strftime('%B %d, %Y, %r')"
   ]
  },
  {
   "cell_type": "code",
   "execution_count": 284,
   "metadata": {
    "ExecuteTime": {
     "end_time": "2021-10-19T03:29:10.244339Z",
     "start_time": "2021-10-19T03:29:10.235337Z"
    }
   },
   "outputs": [],
   "source": [
    "def brooklyn(subj):\n",
    "    if df2['subject'].str.contains('bk'):\n",
    "        return 1\n",
    "    else:\n",
    "        return 0"
   ]
  },
  {
   "cell_type": "code",
   "execution_count": 285,
   "metadata": {
    "ExecuteTime": {
     "end_time": "2021-10-19T03:29:30.122557Z",
     "start_time": "2021-10-19T03:29:30.103556Z"
    }
   },
   "outputs": [
    {
     "ename": "KeyError",
     "evalue": "'brooklyn'",
     "output_type": "error",
     "traceback": [
      "\u001b[1;31m---------------------------------------------------------------------------\u001b[0m",
      "\u001b[1;31mKeyError\u001b[0m                                  Traceback (most recent call last)",
      "\u001b[1;32m~\\anaconda3\\envs\\learn-env\\lib\\site-packages\\pandas\\core\\indexes\\base.py\u001b[0m in \u001b[0;36mget_loc\u001b[1;34m(self, key, method, tolerance)\u001b[0m\n\u001b[0;32m   2894\u001b[0m             \u001b[1;32mtry\u001b[0m\u001b[1;33m:\u001b[0m\u001b[1;33m\u001b[0m\u001b[1;33m\u001b[0m\u001b[0m\n\u001b[1;32m-> 2895\u001b[1;33m                 \u001b[1;32mreturn\u001b[0m \u001b[0mself\u001b[0m\u001b[1;33m.\u001b[0m\u001b[0m_engine\u001b[0m\u001b[1;33m.\u001b[0m\u001b[0mget_loc\u001b[0m\u001b[1;33m(\u001b[0m\u001b[0mcasted_key\u001b[0m\u001b[1;33m)\u001b[0m\u001b[1;33m\u001b[0m\u001b[1;33m\u001b[0m\u001b[0m\n\u001b[0m\u001b[0;32m   2896\u001b[0m             \u001b[1;32mexcept\u001b[0m \u001b[0mKeyError\u001b[0m \u001b[1;32mas\u001b[0m \u001b[0merr\u001b[0m\u001b[1;33m:\u001b[0m\u001b[1;33m\u001b[0m\u001b[1;33m\u001b[0m\u001b[0m\n",
      "\u001b[1;32mpandas\\_libs\\index.pyx\u001b[0m in \u001b[0;36mpandas._libs.index.IndexEngine.get_loc\u001b[1;34m()\u001b[0m\n",
      "\u001b[1;32mpandas\\_libs\\index.pyx\u001b[0m in \u001b[0;36mpandas._libs.index.IndexEngine.get_loc\u001b[1;34m()\u001b[0m\n",
      "\u001b[1;32mpandas\\_libs\\hashtable_class_helper.pxi\u001b[0m in \u001b[0;36mpandas._libs.hashtable.PyObjectHashTable.get_item\u001b[1;34m()\u001b[0m\n",
      "\u001b[1;32mpandas\\_libs\\hashtable_class_helper.pxi\u001b[0m in \u001b[0;36mpandas._libs.hashtable.PyObjectHashTable.get_item\u001b[1;34m()\u001b[0m\n",
      "\u001b[1;31mKeyError\u001b[0m: 'brooklyn'",
      "\nThe above exception was the direct cause of the following exception:\n",
      "\u001b[1;31mKeyError\u001b[0m                                  Traceback (most recent call last)",
      "\u001b[1;32m<ipython-input-285-00e79737caf9>\u001b[0m in \u001b[0;36m<module>\u001b[1;34m\u001b[0m\n\u001b[1;32m----> 1\u001b[1;33m \u001b[0mdf2\u001b[0m\u001b[1;33m[\u001b[0m\u001b[1;34m'brooklyn'\u001b[0m\u001b[1;33m]\u001b[0m \u001b[1;33m=\u001b[0m \u001b[0mdf2\u001b[0m\u001b[1;33m[\u001b[0m\u001b[1;34m'brooklyn'\u001b[0m\u001b[1;33m]\u001b[0m\u001b[1;33m.\u001b[0m\u001b[0mapply\u001b[0m\u001b[1;33m(\u001b[0m\u001b[0mbrooklyn\u001b[0m\u001b[1;33m)\u001b[0m\u001b[1;33m\u001b[0m\u001b[1;33m\u001b[0m\u001b[0m\n\u001b[0m",
      "\u001b[1;32m~\\anaconda3\\envs\\learn-env\\lib\\site-packages\\pandas\\core\\frame.py\u001b[0m in \u001b[0;36m__getitem__\u001b[1;34m(self, key)\u001b[0m\n\u001b[0;32m   2900\u001b[0m             \u001b[1;32mif\u001b[0m \u001b[0mself\u001b[0m\u001b[1;33m.\u001b[0m\u001b[0mcolumns\u001b[0m\u001b[1;33m.\u001b[0m\u001b[0mnlevels\u001b[0m \u001b[1;33m>\u001b[0m \u001b[1;36m1\u001b[0m\u001b[1;33m:\u001b[0m\u001b[1;33m\u001b[0m\u001b[1;33m\u001b[0m\u001b[0m\n\u001b[0;32m   2901\u001b[0m                 \u001b[1;32mreturn\u001b[0m \u001b[0mself\u001b[0m\u001b[1;33m.\u001b[0m\u001b[0m_getitem_multilevel\u001b[0m\u001b[1;33m(\u001b[0m\u001b[0mkey\u001b[0m\u001b[1;33m)\u001b[0m\u001b[1;33m\u001b[0m\u001b[1;33m\u001b[0m\u001b[0m\n\u001b[1;32m-> 2902\u001b[1;33m             \u001b[0mindexer\u001b[0m \u001b[1;33m=\u001b[0m \u001b[0mself\u001b[0m\u001b[1;33m.\u001b[0m\u001b[0mcolumns\u001b[0m\u001b[1;33m.\u001b[0m\u001b[0mget_loc\u001b[0m\u001b[1;33m(\u001b[0m\u001b[0mkey\u001b[0m\u001b[1;33m)\u001b[0m\u001b[1;33m\u001b[0m\u001b[1;33m\u001b[0m\u001b[0m\n\u001b[0m\u001b[0;32m   2903\u001b[0m             \u001b[1;32mif\u001b[0m \u001b[0mis_integer\u001b[0m\u001b[1;33m(\u001b[0m\u001b[0mindexer\u001b[0m\u001b[1;33m)\u001b[0m\u001b[1;33m:\u001b[0m\u001b[1;33m\u001b[0m\u001b[1;33m\u001b[0m\u001b[0m\n\u001b[0;32m   2904\u001b[0m                 \u001b[0mindexer\u001b[0m \u001b[1;33m=\u001b[0m \u001b[1;33m[\u001b[0m\u001b[0mindexer\u001b[0m\u001b[1;33m]\u001b[0m\u001b[1;33m\u001b[0m\u001b[1;33m\u001b[0m\u001b[0m\n",
      "\u001b[1;32m~\\anaconda3\\envs\\learn-env\\lib\\site-packages\\pandas\\core\\indexes\\base.py\u001b[0m in \u001b[0;36mget_loc\u001b[1;34m(self, key, method, tolerance)\u001b[0m\n\u001b[0;32m   2895\u001b[0m                 \u001b[1;32mreturn\u001b[0m \u001b[0mself\u001b[0m\u001b[1;33m.\u001b[0m\u001b[0m_engine\u001b[0m\u001b[1;33m.\u001b[0m\u001b[0mget_loc\u001b[0m\u001b[1;33m(\u001b[0m\u001b[0mcasted_key\u001b[0m\u001b[1;33m)\u001b[0m\u001b[1;33m\u001b[0m\u001b[1;33m\u001b[0m\u001b[0m\n\u001b[0;32m   2896\u001b[0m             \u001b[1;32mexcept\u001b[0m \u001b[0mKeyError\u001b[0m \u001b[1;32mas\u001b[0m \u001b[0merr\u001b[0m\u001b[1;33m:\u001b[0m\u001b[1;33m\u001b[0m\u001b[1;33m\u001b[0m\u001b[0m\n\u001b[1;32m-> 2897\u001b[1;33m                 \u001b[1;32mraise\u001b[0m \u001b[0mKeyError\u001b[0m\u001b[1;33m(\u001b[0m\u001b[0mkey\u001b[0m\u001b[1;33m)\u001b[0m \u001b[1;32mfrom\u001b[0m \u001b[0merr\u001b[0m\u001b[1;33m\u001b[0m\u001b[1;33m\u001b[0m\u001b[0m\n\u001b[0m\u001b[0;32m   2898\u001b[0m \u001b[1;33m\u001b[0m\u001b[0m\n\u001b[0;32m   2899\u001b[0m         \u001b[1;32mif\u001b[0m \u001b[0mtolerance\u001b[0m \u001b[1;32mis\u001b[0m \u001b[1;32mnot\u001b[0m \u001b[1;32mNone\u001b[0m\u001b[1;33m:\u001b[0m\u001b[1;33m\u001b[0m\u001b[1;33m\u001b[0m\u001b[0m\n",
      "\u001b[1;31mKeyError\u001b[0m: 'brooklyn'"
     ]
    }
   ],
   "source": [
    "df2['brooklyn'] = df2['brooklyn'].apply(brooklyn)"
   ]
  },
  {
   "cell_type": "code",
   "execution_count": 289,
   "metadata": {
    "ExecuteTime": {
     "end_time": "2021-10-19T03:30:55.314679Z",
     "start_time": "2021-10-19T03:30:55.298742Z"
    }
   },
   "outputs": [
    {
     "data": {
      "text/html": [
       "<div>\n",
       "<style scoped>\n",
       "    .dataframe tbody tr th:only-of-type {\n",
       "        vertical-align: middle;\n",
       "    }\n",
       "\n",
       "    .dataframe tbody tr th {\n",
       "        vertical-align: top;\n",
       "    }\n",
       "\n",
       "    .dataframe thead th {\n",
       "        text-align: right;\n",
       "    }\n",
       "</style>\n",
       "<table border=\"1\" class=\"dataframe\">\n",
       "  <thead>\n",
       "    <tr style=\"text-align: right;\">\n",
       "      <th></th>\n",
       "      <th>date</th>\n",
       "      <th>subject</th>\n",
       "      <th>message</th>\n",
       "      <th>delta</th>\n",
       "    </tr>\n",
       "  </thead>\n",
       "  <tbody>\n",
       "    <tr>\n",
       "      <th>0</th>\n",
       "      <td>2021-09-30 22:30:00</td>\n",
       "      <td>Update : BX   4 Train   Delays</td>\n",
       "      <td>4 trains are proceeding in both directions wit...</td>\n",
       "      <td>2021-10-01 00:30:00</td>\n",
       "    </tr>\n",
       "    <tr>\n",
       "      <th>1</th>\n",
       "      <td>2021-09-30 22:00:00</td>\n",
       "      <td>BX   4 Train   Delays</td>\n",
       "      <td>4 trains are delayed entering / leaving Woodla...</td>\n",
       "      <td>2021-10-01 00:00:00</td>\n",
       "    </tr>\n",
       "    <tr>\n",
       "      <th>2</th>\n",
       "      <td>2021-09-30 19:00:00</td>\n",
       "      <td>Update : QNS   7 Train   Delays</td>\n",
       "      <td>34 St-bound 7 trains are proceeding with delay...</td>\n",
       "      <td>2021-09-30 21:00:00</td>\n",
       "    </tr>\n",
       "    <tr>\n",
       "      <th>3</th>\n",
       "      <td>2021-09-30 18:30:00</td>\n",
       "      <td>QNS   7 Train   Delays</td>\n",
       "      <td>34 St-bound 7 trains are holding in stations i...</td>\n",
       "      <td>2021-09-30 20:30:00</td>\n",
       "    </tr>\n",
       "    <tr>\n",
       "      <th>4</th>\n",
       "      <td>2021-09-30 17:30:00</td>\n",
       "      <td>MANH   4   5   and 6 Trains   Delays</td>\n",
       "      <td>4 5 6 trains are running with extensive delays...</td>\n",
       "      <td>2021-09-30 19:30:00</td>\n",
       "    </tr>\n",
       "    <tr>\n",
       "      <th>...</th>\n",
       "      <td>...</td>\n",
       "      <td>...</td>\n",
       "      <td>...</td>\n",
       "      <td>...</td>\n",
       "    </tr>\n",
       "    <tr>\n",
       "      <th>44915</th>\n",
       "      <td>2010-01-02 08:30:00</td>\n",
       "      <td>QNS   7 train   Track Maintenance</td>\n",
       "      <td>Times Sq-bound 7 trains operating on normal ro...</td>\n",
       "      <td>2010-01-02 10:30:00</td>\n",
       "    </tr>\n",
       "    <tr>\n",
       "      <th>44916</th>\n",
       "      <td>2010-01-01 01:00:00</td>\n",
       "      <td>UPDATED : BX   4 Train   Police Investigation</td>\n",
       "      <td>4 train service has resumed with residual delays.</td>\n",
       "      <td>2010-01-01 03:00:00</td>\n",
       "    </tr>\n",
       "    <tr>\n",
       "      <th>44917</th>\n",
       "      <td>2010-01-01 01:00:00</td>\n",
       "      <td>UPDATED : BX   4 Train   Police Investigation</td>\n",
       "      <td>BK-bound. 4 train express Burnside Av to 125 S...</td>\n",
       "      <td>2010-01-01 03:00:00</td>\n",
       "    </tr>\n",
       "    <tr>\n",
       "      <th>44918</th>\n",
       "      <td>2010-01-01 00:30:00</td>\n",
       "      <td>UPDATED : BX   4 Train   Police Investigation</td>\n",
       "      <td>Both directions. 4 train susp btwn Burnside Av...</td>\n",
       "      <td>2010-01-01 02:30:00</td>\n",
       "    </tr>\n",
       "    <tr>\n",
       "      <th>44919</th>\n",
       "      <td>2010-01-01 00:30:00</td>\n",
       "      <td>BX   4 Train   Police Investigation</td>\n",
       "      <td>BK-bound. 4 train via express track Burnside A...</td>\n",
       "      <td>2010-01-01 02:30:00</td>\n",
       "    </tr>\n",
       "  </tbody>\n",
       "</table>\n",
       "<p>44767 rows × 4 columns</p>\n",
       "</div>"
      ],
      "text/plain": [
       "                     date                                        subject  \\\n",
       "0     2021-09-30 22:30:00                 Update : BX   4 Train   Delays   \n",
       "1     2021-09-30 22:00:00                          BX   4 Train   Delays   \n",
       "2     2021-09-30 19:00:00                Update : QNS   7 Train   Delays   \n",
       "3     2021-09-30 18:30:00                         QNS   7 Train   Delays   \n",
       "4     2021-09-30 17:30:00           MANH   4   5   and 6 Trains   Delays   \n",
       "...                   ...                                            ...   \n",
       "44915 2010-01-02 08:30:00              QNS   7 train   Track Maintenance   \n",
       "44916 2010-01-01 01:00:00  UPDATED : BX   4 Train   Police Investigation   \n",
       "44917 2010-01-01 01:00:00  UPDATED : BX   4 Train   Police Investigation   \n",
       "44918 2010-01-01 00:30:00  UPDATED : BX   4 Train   Police Investigation   \n",
       "44919 2010-01-01 00:30:00            BX   4 Train   Police Investigation   \n",
       "\n",
       "                                                 message               delta  \n",
       "0      4 trains are proceeding in both directions wit... 2021-10-01 00:30:00  \n",
       "1      4 trains are delayed entering / leaving Woodla... 2021-10-01 00:00:00  \n",
       "2      34 St-bound 7 trains are proceeding with delay... 2021-09-30 21:00:00  \n",
       "3      34 St-bound 7 trains are holding in stations i... 2021-09-30 20:30:00  \n",
       "4      4 5 6 trains are running with extensive delays... 2021-09-30 19:30:00  \n",
       "...                                                  ...                 ...  \n",
       "44915  Times Sq-bound 7 trains operating on normal ro... 2010-01-02 10:30:00  \n",
       "44916  4 train service has resumed with residual delays. 2010-01-01 03:00:00  \n",
       "44917  BK-bound. 4 train express Burnside Av to 125 S... 2010-01-01 03:00:00  \n",
       "44918  Both directions. 4 train susp btwn Burnside Av... 2010-01-01 02:30:00  \n",
       "44919  BK-bound. 4 train via express track Burnside A... 2010-01-01 02:30:00  \n",
       "\n",
       "[44767 rows x 4 columns]"
      ]
     },
     "execution_count": 289,
     "metadata": {},
     "output_type": "execute_result"
    }
   ],
   "source": [
    "irt"
   ]
  },
  {
   "cell_type": "code",
   "execution_count": 290,
   "metadata": {
    "ExecuteTime": {
     "end_time": "2021-10-19T03:31:04.343939Z",
     "start_time": "2021-10-19T03:31:04.323652Z"
    }
   },
   "outputs": [
    {
     "ename": "KeyError",
     "evalue": "\"None of ['date'] are in the columns\"",
     "output_type": "error",
     "traceback": [
      "\u001b[1;31m---------------------------------------------------------------------------\u001b[0m",
      "\u001b[1;31mKeyError\u001b[0m                                  Traceback (most recent call last)",
      "\u001b[1;32m<ipython-input-290-476ad9429bd5>\u001b[0m in \u001b[0;36m<module>\u001b[1;34m\u001b[0m\n\u001b[1;32m----> 1\u001b[1;33m \u001b[0mdf2\u001b[0m\u001b[1;33m.\u001b[0m\u001b[0mset_index\u001b[0m\u001b[1;33m(\u001b[0m\u001b[1;34m'date'\u001b[0m\u001b[1;33m,\u001b[0m \u001b[0minplace\u001b[0m\u001b[1;33m=\u001b[0m\u001b[1;32mTrue\u001b[0m\u001b[1;33m)\u001b[0m\u001b[1;33m\u001b[0m\u001b[1;33m\u001b[0m\u001b[0m\n\u001b[0m",
      "\u001b[1;32m~\\anaconda3\\envs\\learn-env\\lib\\site-packages\\pandas\\core\\frame.py\u001b[0m in \u001b[0;36mset_index\u001b[1;34m(self, keys, drop, append, inplace, verify_integrity)\u001b[0m\n\u001b[0;32m   4549\u001b[0m \u001b[1;33m\u001b[0m\u001b[0m\n\u001b[0;32m   4550\u001b[0m         \u001b[1;32mif\u001b[0m \u001b[0mmissing\u001b[0m\u001b[1;33m:\u001b[0m\u001b[1;33m\u001b[0m\u001b[1;33m\u001b[0m\u001b[0m\n\u001b[1;32m-> 4551\u001b[1;33m             \u001b[1;32mraise\u001b[0m \u001b[0mKeyError\u001b[0m\u001b[1;33m(\u001b[0m\u001b[1;34mf\"None of {missing} are in the columns\"\u001b[0m\u001b[1;33m)\u001b[0m\u001b[1;33m\u001b[0m\u001b[1;33m\u001b[0m\u001b[0m\n\u001b[0m\u001b[0;32m   4552\u001b[0m \u001b[1;33m\u001b[0m\u001b[0m\n\u001b[0;32m   4553\u001b[0m         \u001b[1;32mif\u001b[0m \u001b[0minplace\u001b[0m\u001b[1;33m:\u001b[0m\u001b[1;33m\u001b[0m\u001b[1;33m\u001b[0m\u001b[0m\n",
      "\u001b[1;31mKeyError\u001b[0m: \"None of ['date'] are in the columns\""
     ]
    }
   ],
   "source": [
    "df2.set_index('date', inplace=True)"
   ]
  },
  {
   "cell_type": "code",
   "execution_count": 292,
   "metadata": {
    "ExecuteTime": {
     "end_time": "2021-10-19T03:33:38.253123Z",
     "start_time": "2021-10-19T03:33:38.234674Z"
    }
   },
   "outputs": [
    {
     "ename": "ValueError",
     "evalue": "Row labels must have same size as column labels",
     "output_type": "error",
     "traceback": [
      "\u001b[1;31m---------------------------------------------------------------------------\u001b[0m",
      "\u001b[1;31mValueError\u001b[0m                                Traceback (most recent call last)",
      "\u001b[1;32m<ipython-input-292-94b77bc72e1f>\u001b[0m in \u001b[0;36m<module>\u001b[1;34m\u001b[0m\n\u001b[1;32m----> 1\u001b[1;33m \u001b[0mdf2\u001b[0m\u001b[1;33m[\u001b[0m\u001b[1;34m'irt_delays'\u001b[0m\u001b[1;33m]\u001b[0m \u001b[1;33m=\u001b[0m \u001b[0mirt\u001b[0m\u001b[1;33m.\u001b[0m\u001b[0mlookup\u001b[0m\u001b[1;33m(\u001b[0m\u001b[0mdf2\u001b[0m\u001b[1;33m.\u001b[0m\u001b[0mindex\u001b[0m\u001b[1;33m,\u001b[0m \u001b[0mpd\u001b[0m\u001b[1;33m.\u001b[0m\u001b[0mdate_range\u001b[0m\u001b[1;33m(\u001b[0m\u001b[0mirt\u001b[0m\u001b[1;33m[\u001b[0m\u001b[1;34m'date'\u001b[0m\u001b[1;33m]\u001b[0m\u001b[1;33m[\u001b[0m\u001b[1;36m0\u001b[0m\u001b[1;33m]\u001b[0m\u001b[1;33m,\u001b[0m \u001b[0mirt\u001b[0m\u001b[1;33m[\u001b[0m\u001b[1;34m'delta'\u001b[0m\u001b[1;33m]\u001b[0m\u001b[1;33m[\u001b[0m\u001b[1;36m0\u001b[0m\u001b[1;33m]\u001b[0m\u001b[1;33m,\u001b[0m \u001b[0mfreq\u001b[0m\u001b[1;33m=\u001b[0m\u001b[1;34m'2h'\u001b[0m\u001b[1;33m)\u001b[0m\u001b[1;33m)\u001b[0m\u001b[1;33m\u001b[0m\u001b[1;33m\u001b[0m\u001b[0m\n\u001b[0m",
      "\u001b[1;32m~\\anaconda3\\envs\\learn-env\\lib\\site-packages\\pandas\\core\\frame.py\u001b[0m in \u001b[0;36mlookup\u001b[1;34m(self, row_labels, col_labels)\u001b[0m\n\u001b[0;32m   3836\u001b[0m         \u001b[0mn\u001b[0m \u001b[1;33m=\u001b[0m \u001b[0mlen\u001b[0m\u001b[1;33m(\u001b[0m\u001b[0mrow_labels\u001b[0m\u001b[1;33m)\u001b[0m\u001b[1;33m\u001b[0m\u001b[1;33m\u001b[0m\u001b[0m\n\u001b[0;32m   3837\u001b[0m         \u001b[1;32mif\u001b[0m \u001b[0mn\u001b[0m \u001b[1;33m!=\u001b[0m \u001b[0mlen\u001b[0m\u001b[1;33m(\u001b[0m\u001b[0mcol_labels\u001b[0m\u001b[1;33m)\u001b[0m\u001b[1;33m:\u001b[0m\u001b[1;33m\u001b[0m\u001b[1;33m\u001b[0m\u001b[0m\n\u001b[1;32m-> 3838\u001b[1;33m             \u001b[1;32mraise\u001b[0m \u001b[0mValueError\u001b[0m\u001b[1;33m(\u001b[0m\u001b[1;34m\"Row labels must have same size as column labels\"\u001b[0m\u001b[1;33m)\u001b[0m\u001b[1;33m\u001b[0m\u001b[1;33m\u001b[0m\u001b[0m\n\u001b[0m\u001b[0;32m   3839\u001b[0m         \u001b[1;32mif\u001b[0m \u001b[1;32mnot\u001b[0m \u001b[1;33m(\u001b[0m\u001b[0mself\u001b[0m\u001b[1;33m.\u001b[0m\u001b[0mindex\u001b[0m\u001b[1;33m.\u001b[0m\u001b[0mis_unique\u001b[0m \u001b[1;32mand\u001b[0m \u001b[0mself\u001b[0m\u001b[1;33m.\u001b[0m\u001b[0mcolumns\u001b[0m\u001b[1;33m.\u001b[0m\u001b[0mis_unique\u001b[0m\u001b[1;33m)\u001b[0m\u001b[1;33m:\u001b[0m\u001b[1;33m\u001b[0m\u001b[1;33m\u001b[0m\u001b[0m\n\u001b[0;32m   3840\u001b[0m             \u001b[1;31m# GH#33041\u001b[0m\u001b[1;33m\u001b[0m\u001b[1;33m\u001b[0m\u001b[1;33m\u001b[0m\u001b[0m\n",
      "\u001b[1;31mValueError\u001b[0m: Row labels must have same size as column labels"
     ]
    }
   ],
   "source": [
    "df2['irt_delays'] = irt.lookup(df2.index, pd.date_range(irt['date'][0], irt['delta'][0], freq='2h'))"
   ]
  }
 ],
 "metadata": {
  "kernelspec": {
   "display_name": "Python 3",
   "language": "python",
   "name": "python3"
  },
  "language_info": {
   "codemirror_mode": {
    "name": "ipython",
    "version": 3
   },
   "file_extension": ".py",
   "mimetype": "text/x-python",
   "name": "python",
   "nbconvert_exporter": "python",
   "pygments_lexer": "ipython3",
   "version": "3.8.5"
  },
  "toc": {
   "base_numbering": 1,
   "nav_menu": {},
   "number_sections": true,
   "sideBar": true,
   "skip_h1_title": false,
   "title_cell": "Table of Contents",
   "title_sidebar": "Contents",
   "toc_cell": false,
   "toc_position": {},
   "toc_section_display": true,
   "toc_window_display": false
  }
 },
 "nbformat": 4,
 "nbformat_minor": 4
}
