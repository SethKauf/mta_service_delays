{
 "cells": [
  {
   "cell_type": "code",
   "execution_count": 41,
   "metadata": {
    "ExecuteTime": {
     "end_time": "2021-10-25T04:29:48.204339Z",
     "start_time": "2021-10-25T04:29:48.194333Z"
    }
   },
   "outputs": [],
   "source": [
    "import pandas as pd\n",
    "import pickle as pkl\n",
    "pd.set_option('display.max_columns',None)\n",
    "pd.set_option('display.max_rows',500)\n",
    "import warnings"
   ]
  },
  {
   "cell_type": "markdown",
   "metadata": {
    "ExecuteTime": {
     "end_time": "2021-10-23T16:36:55.582645Z",
     "start_time": "2021-10-23T16:36:45.342479Z"
    }
   },
   "source": [
    "with open('data/turnstile_irt.pkl','rb') as f:\n",
    "    df = pkl.load(f)\n",
    "    \n",
    "df['station'] = df['station'].str.lower()"
   ]
  },
  {
   "cell_type": "markdown",
   "metadata": {
    "ExecuteTime": {
     "end_time": "2021-10-23T16:37:03.845369Z",
     "start_time": "2021-10-23T16:36:55.583645Z"
    },
    "scrolled": false
   },
   "source": [
    "# times sq\n",
    "indices = df.loc[(df['station']=='42 st-port auth')|(df['station']== '42 st-pa bus te')|\n",
    "                 (df['station']=='42 st-times sq')|(df['station']=='times sq-42 st')].index\n",
    "\n",
    "df.loc[indices,'station'] = 'times sq-42 st (1/2/3/7/A/C/E/N/Q/R/S)'"
   ]
  },
  {
   "cell_type": "markdown",
   "metadata": {
    "ExecuteTime": {
     "end_time": "2021-10-23T16:37:06.171137Z",
     "start_time": "2021-10-23T16:37:03.846370Z"
    }
   },
   "source": [
    "# fulton st\n",
    "\n",
    "indices = df.loc[(df['station']=='fulton st')].index\n",
    "df.loc[indices, 'station'] = 'fulton st (2/3/4/5/A/C/J/Z)'"
   ]
  },
  {
   "cell_type": "markdown",
   "metadata": {
    "ExecuteTime": {
     "end_time": "2021-10-23T16:37:09.522228Z",
     "start_time": "2021-10-23T16:37:06.172139Z"
    }
   },
   "source": [
    "# grand ctrl 42 st\n",
    "\n",
    "indices = df.loc[(df['station']=='grd cntrl-42 st')|(df['station']=='42 st-grd cntrl')].index\n",
    "df.loc[indices, 'station'] = 'grand ctl-42 st (4/5/6/7)'"
   ]
  },
  {
   "cell_type": "markdown",
   "metadata": {
    "ExecuteTime": {
     "end_time": "2021-10-23T16:37:13.951705Z",
     "start_time": "2021-10-23T16:37:09.523239Z"
    }
   },
   "source": [
    "# 42 st bryant pk - 5 av\n",
    "\n",
    "indices = df.loc[(df['station']=='42 st-bryant pk')|(df['station']=='5 ave')|(df['station']=='5 ave-bryant pk')].index\n",
    "df.loc[indices,'station'] = '42 st bryant pk-5 av (B/D/F/M/7)'"
   ]
  },
  {
   "cell_type": "markdown",
   "metadata": {
    "ExecuteTime": {
     "end_time": "2021-10-23T16:37:17.254153Z",
     "start_time": "2021-10-23T16:37:13.952706Z"
    },
    "scrolled": true
   },
   "source": [
    "# atlantic av - barclays ctr\n",
    "\n",
    "indices = df.loc[(df['station']=='atl av-barclay')|(df['station']=='barclays center')].index\n",
    "df.loc[indices,'station'] = 'atlantic av-barclays ctr (2/3/4/5/B/D/N/Q/R)'"
   ]
  },
  {
   "cell_type": "markdown",
   "metadata": {
    "ExecuteTime": {
     "end_time": "2021-10-23T16:37:20.454007Z",
     "start_time": "2021-10-23T16:37:17.256154Z"
    }
   },
   "source": [
    "# 33 st-rawson st\n",
    "\n",
    "ind = df.loc[(df['station']=='33 st-rawson st')|(df['station']=='33 st/rawson st')].index\n",
    "df.loc[ind,'station'] = '33 st-rawson st (7)'"
   ]
  },
  {
   "cell_type": "markdown",
   "metadata": {
    "ExecuteTime": {
     "end_time": "2021-10-23T16:37:28.942372Z",
     "start_time": "2021-10-23T16:37:20.455539Z"
    }
   },
   "source": [
    "# the 110 streets\n",
    "\n",
    "ind_1 = df.loc[(df['station']=='110 st-cathedrl')|(df['station']=='cathedral pkwy')].index\n",
    "df.loc[ind_1,'station'] = 'cathedral pkwy-110 st (1)'\n",
    "\n",
    "ind_23 = df.loc[(df['station']=='110 st-cpn')|(df['station']=='central pk n110')].index\n",
    "df.loc[ind_23,'station'] = 'ctl park n-110 st (2/3)'\n",
    "\n",
    "ind_6 = df.loc[df['station']=='110 st'].index\n",
    "df.loc[ind_6,'station'] = '110 st (6)'"
   ]
  },
  {
   "cell_type": "markdown",
   "metadata": {
    "ExecuteTime": {
     "end_time": "2021-10-23T16:37:37.275878Z",
     "start_time": "2021-10-23T16:37:28.943363Z"
    }
   },
   "source": [
    "# the 116 streets\n",
    "\n",
    "ind_1 = df.loc[df['station']=='116 st-columbia'].index\n",
    "df.loc[ind_1,'station']='116 st-columbia (1)'\n",
    "\n",
    "ind_23 = df.loc[(df['station']=='116 st')&(df['lines']=='23')].index\n",
    "df.loc[ind_23,'station']='116 st (2/3)'\n",
    "\n",
    "ind_6 = df.loc[(df['station']=='116 st')&(df['lines']=='6')].index\n",
    "df.loc[ind_6,'station']='116 st (6)'"
   ]
  },
  {
   "cell_type": "markdown",
   "metadata": {
    "ExecuteTime": {
     "end_time": "2021-10-23T16:37:40.466544Z",
     "start_time": "2021-10-23T16:37:37.276899Z"
    }
   },
   "source": [
    "# 137 st\n",
    "\n",
    "ind = df.loc[(df['station']=='137 st city col')|(df['station']=='137 st-city col')].index\n",
    "df.loc[ind,'station']='137 st-city clg (1)'"
   ]
  },
  {
   "cell_type": "markdown",
   "metadata": {
    "ExecuteTime": {
     "end_time": "2021-10-23T16:37:48.791673Z",
     "start_time": "2021-10-23T16:37:40.467545Z"
    }
   },
   "source": [
    "# 103 st\n",
    "\n",
    "ind_1 = df.loc[(df['station']=='103 st')&(df['lines']=='1')].index\n",
    "df.loc[ind_1,'station']='103 st (1)'\n",
    "\n",
    "ind_6 = df.loc[(df['station']=='103 st')&(df['lines']=='6')].index\n",
    "df.loc[ind_6,'station']='103 st (6)'\n",
    "\n",
    "ind_7 = df.loc[df['station']=='103 st-corona'].index\n",
    "df.loc[ind_7,'station']='103 st-corona plza (7)'"
   ]
  },
  {
   "cell_type": "markdown",
   "metadata": {
    "ExecuteTime": {
     "end_time": "2021-10-23T16:37:50.830752Z",
     "start_time": "2021-10-23T16:37:48.792673Z"
    }
   },
   "source": [
    "# 111 st\n",
    "\n",
    "ind = df.loc[df['station']=='111 st'].index\n",
    "df.loc[ind,'station']='111 st (7)'"
   ]
  },
  {
   "cell_type": "markdown",
   "metadata": {
    "ExecuteTime": {
     "end_time": "2021-10-23T16:37:54.028846Z",
     "start_time": "2021-10-23T16:37:50.831753Z"
    }
   },
   "source": [
    "# 161 st yankee stdm\n",
    "\n",
    "ind = df.loc[(df['station']=='161 st-yankee')|(df['station']=='161/yankee stad')].index\n",
    "df.loc[ind,'station']='161 st-yankee stdm (4/B/D)'"
   ]
  },
  {
   "cell_type": "markdown",
   "metadata": {
    "ExecuteTime": {
     "end_time": "2021-10-23T16:37:56.108111Z",
     "start_time": "2021-10-23T16:37:54.029847Z"
    }
   },
   "source": [
    "# 125 st\n",
    "\n",
    "ind = df.loc[df['station']=='125 st'].index\n",
    "df.loc[ind,'station']='125 st (4/5/6)'\n",
    "\n",
    "df.loc[]"
   ]
  },
  {
   "cell_type": "markdown",
   "metadata": {
    "ExecuteTime": {
     "end_time": "2021-10-25T00:38:04.634202Z",
     "start_time": "2021-10-25T00:38:03.306772Z"
    }
   },
   "source": [
    "# fixing 125 st\n",
    "\n",
    "ind = df.loc[df['station']=='125 st (4/5/6)'].index\n",
    "df.loc[ind, 'station'] = '125 st'"
   ]
  },
  {
   "cell_type": "markdown",
   "metadata": {
    "ExecuteTime": {
     "end_time": "2021-10-25T00:39:27.269768Z",
     "start_time": "2021-10-25T00:39:20.242424Z"
    }
   },
   "source": [
    "ind_1 = df.loc[(df['station']=='125 st')&(df['lines']=='1')].index\n",
    "df.loc[ind_1,'station'] = '125 st (1)'\n",
    "\n",
    "ind_23 = df.loc[(df['station']=='125 st')&(df['lines']=='23')].index\n",
    "df.loc[ind_23,'station'] = '125 st (2/3)'\n",
    "\n",
    "ind_456 = df.loc[(df['station']=='125 st')&(df['lines']=='456')].index\n",
    "df.loc[ind_456,'station'] = '125 st (4/5/6)'"
   ]
  },
  {
   "cell_type": "markdown",
   "metadata": {
    "ExecuteTime": {
     "end_time": "2021-10-23T16:38:03.548049Z",
     "start_time": "2021-10-23T16:37:56.109646Z"
    }
   },
   "source": [
    "# 138 st\n",
    "\n",
    "ind = df.loc[(df['station']=='138/grand conc')|(df['station']=='138 st-gr conc')].index\n",
    "df.loc[ind,'station'] = '138 st-grand concourse (4/5)'\n",
    "\n",
    "ind_6 = df.loc[(df['station']=='138 st')|(df['station']=='138 st-3 ave')|(df['station']=='3 av 138 st')].index\n",
    "df.loc[ind_6,'station'] = '3 av-138 st (6)'"
   ]
  },
  {
   "cell_type": "markdown",
   "metadata": {
    "ExecuteTime": {
     "end_time": "2021-10-23T16:38:11.058750Z",
     "start_time": "2021-10-23T16:38:03.549051Z"
    }
   },
   "source": [
    "# 14 st\n",
    "\n",
    "ind_123 = df.loc[(df['station']=='14 st')|(df['station']=='14 st-6 ave')|\n",
    "                 (df['station']=='6 av')|(df['station']=='6 ave')].index\n",
    "df.loc[ind_123, 'station'] = '14 st-7 av (1/2/3/F/L/M)'\n",
    "\n",
    "ind_456 = df.loc[(df['station']=='14 st-union sq')].index\n",
    "df.loc[ind_456,'station'] = '14 st-union sq (4/5/6/L/N/Q/R/W)'"
   ]
  },
  {
   "cell_type": "markdown",
   "metadata": {
    "ExecuteTime": {
     "end_time": "2021-10-23T16:38:13.029117Z",
     "start_time": "2021-10-23T16:38:11.059750Z"
    }
   },
   "source": [
    "# 135 st\n",
    "\n",
    "ind = df.loc[df['station']=='135 st'].index\n",
    "df.loc[ind,'station'] = '135 st (2/3)'"
   ]
  },
  {
   "cell_type": "markdown",
   "metadata": {
    "ExecuteTime": {
     "end_time": "2021-10-23T16:38:19.246200Z",
     "start_time": "2021-10-23T16:38:13.030117Z"
    }
   },
   "source": [
    "# 145 st\n",
    "\n",
    "ind_1 = df.loc[(df['station']=='145 st')&(df['lines']=='1')].index\n",
    "df.loc[ind_1,'station'] = '145 st (1)'\n",
    "\n",
    "ind_3 = df.loc[(df['station']=='145 st')&(df['lines']=='3')].index\n",
    "df.loc[ind_3,'station'] = '145 st (3)'"
   ]
  },
  {
   "cell_type": "markdown",
   "metadata": {
    "ExecuteTime": {
     "end_time": "2021-10-23T16:38:22.352793Z",
     "start_time": "2021-10-23T16:38:19.247201Z"
    }
   },
   "source": [
    "# 148 st harlem\n",
    "\n",
    "ind = df.loc[(df['station']=='148 st-lenox')|(df['station']=='harlem 148 st')].index\n",
    "df.loc[ind,'station'] = 'harlem-148 st (3)'"
   ]
  },
  {
   "cell_type": "markdown",
   "metadata": {
    "ExecuteTime": {
     "end_time": "2021-10-23T16:38:30.540068Z",
     "start_time": "2021-10-23T16:38:22.353794Z"
    }
   },
   "source": [
    "# 149 st\n",
    "\n",
    "ind_245 = df.loc[(df['station']=='149 st-gr conc')|(df['station']=='149/grand conc')].index\n",
    "df.loc[ind_245,'station'] = '149 st-grand concourse (2/4/5)'\n",
    "\n",
    "ind_25 = df.loc[(df['station']=='3 av-149 st')|(df['station']=='149 st-3 ave')].index\n",
    "df.loc[ind_25,'station'] = '3 av-149 st'\n",
    "\n",
    "ind_6 = df.loc[df['station']=='e 149 st'].index\n",
    "df.loc[ind_6,'station'] =  'e 149 st (6)'"
   ]
  },
  {
   "cell_type": "markdown",
   "metadata": {
    "ExecuteTime": {
     "end_time": "2021-10-23T16:38:32.493309Z",
     "start_time": "2021-10-23T16:38:30.541068Z"
    }
   },
   "source": [
    "# 157 st\n",
    "\n",
    "ind = df.loc[(df['station']=='157 st')].index\n",
    "df.loc[ind, 'station'] = '157 st (1)'"
   ]
  },
  {
   "cell_type": "markdown",
   "metadata": {
    "ExecuteTime": {
     "end_time": "2021-10-23T16:38:34.424883Z",
     "start_time": "2021-10-23T16:38:32.495877Z"
    }
   },
   "source": [
    "# 167 st\n",
    "\n",
    "ind = df.loc[df['station']=='167 st'].index\n",
    "df.loc[ind,'station'] = '167 st (4)'"
   ]
  },
  {
   "cell_type": "markdown",
   "metadata": {
    "ExecuteTime": {
     "end_time": "2021-10-23T16:38:37.538353Z",
     "start_time": "2021-10-23T16:38:34.425883Z"
    }
   },
   "source": [
    "# 168 st\n",
    "\n",
    "ind = df.loc[(df['station']=='168 st')|(df['station']=='168 st-broadway')].index\n",
    "df.loc[ind,'station'] = '168 st-broadway (1/A/C)'"
   ]
  },
  {
   "cell_type": "markdown",
   "metadata": {
    "ExecuteTime": {
     "end_time": "2021-10-23T16:38:40.643451Z",
     "start_time": "2021-10-23T16:38:37.539354Z"
    }
   },
   "source": [
    "# bleeker st - broadway/lafayette\n",
    "\n",
    "ind = df.loc[(df['station']=='broadway/lafay')|(df['station']=='bleecker st')].index\n",
    "df.loc[ind,'station']='broadway-lafayette/bleecker st (6/B/D/F/Q)'"
   ]
  },
  {
   "cell_type": "markdown",
   "metadata": {
    "ExecuteTime": {
     "end_time": "2021-10-23T16:38:42.563015Z",
     "start_time": "2021-10-23T16:38:40.644450Z"
    }
   },
   "source": [
    "# 170 st\n",
    "\n",
    "ind = df.loc[(df['station'] == '170 st')].index\n",
    "df.loc[ind, 'station'] = '170 st (4)'"
   ]
  },
  {
   "cell_type": "markdown",
   "metadata": {
    "ExecuteTime": {
     "end_time": "2021-10-23T16:38:44.496777Z",
     "start_time": "2021-10-23T16:38:42.564014Z"
    }
   },
   "source": [
    "# 174 st\n",
    "\n",
    "ind = df.loc[(df['station'] == '174 st')].index\n",
    "df.loc[ind, 'station'] = '174 st (2/5)'"
   ]
  },
  {
   "cell_type": "markdown",
   "metadata": {
    "ExecuteTime": {
     "end_time": "2021-10-23T16:38:46.426524Z",
     "start_time": "2021-10-23T16:38:44.497800Z"
    }
   },
   "source": [
    "# 176 st\n",
    "\n",
    "ind = df.loc[df['station']=='176 st'].index\n",
    "df.loc[ind,'station']='176 st (6)'"
   ]
  },
  {
   "cell_type": "markdown",
   "metadata": {
    "ExecuteTime": {
     "end_time": "2021-10-23T16:38:48.367480Z",
     "start_time": "2021-10-23T16:38:46.427525Z"
    }
   },
   "source": [
    "# 18 st\n",
    "\n",
    "ind = df.loc[df['station']=='18 st'].index\n",
    "df.loc[ind,'station']='18 st (1)'"
   ]
  },
  {
   "cell_type": "markdown",
   "metadata": {
    "ExecuteTime": {
     "end_time": "2021-10-23T16:38:50.280759Z",
     "start_time": "2021-10-23T16:38:48.368481Z"
    }
   },
   "source": [
    "# 181 st\n",
    "\n",
    "ind = df.loc[df['station']=='181 st'].index\n",
    "df.loc[ind,'station']='181 st (1)'"
   ]
  },
  {
   "cell_type": "markdown",
   "metadata": {
    "ExecuteTime": {
     "end_time": "2021-10-23T16:38:52.219330Z",
     "start_time": "2021-10-23T16:38:50.281780Z"
    }
   },
   "source": [
    "# 183 st\n",
    "\n",
    "ind = df.loc[df['station']=='183 st'].index\n",
    "df.loc[ind, 'station']='183 st (4)'"
   ]
  },
  {
   "cell_type": "markdown",
   "metadata": {
    "ExecuteTime": {
     "end_time": "2021-10-23T16:38:54.139030Z",
     "start_time": "2021-10-23T16:38:52.220331Z"
    }
   },
   "source": [
    "# 191 st\n",
    "\n",
    "ind = df.loc[df['station']=='191 st'].index\n",
    "df.loc[ind, 'station']='191 st (1)'"
   ]
  },
  {
   "cell_type": "markdown",
   "metadata": {
    "ExecuteTime": {
     "end_time": "2021-10-23T16:38:56.077684Z",
     "start_time": "2021-10-23T16:38:54.140031Z"
    }
   },
   "source": [
    "# 207 st\n",
    "\n",
    "ind = df.loc[df['station']=='207 st'].index\n",
    "df.loc[ind, 'station'] = '207 st (1)'"
   ]
  },
  {
   "cell_type": "markdown",
   "metadata": {
    "ExecuteTime": {
     "end_time": "2021-10-23T16:38:58.010699Z",
     "start_time": "2021-10-23T16:38:56.079217Z"
    }
   },
   "source": [
    "# 215 st\n",
    "\n",
    "ind = df.loc[df['station']=='215 st'].index\n",
    "df.loc[ind, 'station'] = '215 st (1)'"
   ]
  },
  {
   "cell_type": "markdown",
   "metadata": {
    "ExecuteTime": {
     "end_time": "2021-10-23T16:38:59.941866Z",
     "start_time": "2021-10-23T16:38:58.011699Z"
    }
   },
   "source": [
    "# 219 st\n",
    "\n",
    "ind = df.loc[df['station'] == '219 st'].index\n",
    "df.loc[ind,'station']='219 st (2/5)'"
   ]
  },
  {
   "cell_type": "markdown",
   "metadata": {
    "ExecuteTime": {
     "end_time": "2021-10-23T16:39:01.856998Z",
     "start_time": "2021-10-23T16:38:59.942866Z"
    }
   },
   "source": [
    "# 225 st\n",
    "\n",
    "ind = df.loc[df['station']=='225 st'].index\n",
    "df.loc[ind,'station']='225 st (2/5)'"
   ]
  },
  {
   "cell_type": "markdown",
   "metadata": {
    "ExecuteTime": {
     "end_time": "2021-10-23T16:39:08.013929Z",
     "start_time": "2021-10-23T16:39:01.858022Z"
    }
   },
   "source": [
    "# 23 st\n",
    "\n",
    "ind_1 = df.loc[(df['station'] == '23 st')&(df['lines']=='1')].index\n",
    "df.loc[ind_1,'station'] = '23 st (1)'\n",
    "\n",
    "ind_6 = df.loc[(df['station'] == '23 st')&(df['lines']=='6')].index\n",
    "df.loc[ind_6,'station'] = '23 st (6)'"
   ]
  },
  {
   "cell_type": "markdown",
   "metadata": {
    "ExecuteTime": {
     "end_time": "2021-10-23T16:39:09.918938Z",
     "start_time": "2021-10-23T16:39:08.014929Z"
    }
   },
   "source": [
    "# 231 st\n",
    "\n",
    "ind = df.loc[df['station']=='231 st'].index\n",
    "df.loc[ind,'station'] = '231 st (1)'"
   ]
  },
  {
   "cell_type": "markdown",
   "metadata": {
    "ExecuteTime": {
     "end_time": "2021-10-23T16:39:11.805498Z",
     "start_time": "2021-10-23T16:39:09.919948Z"
    }
   },
   "source": [
    "# 233 st\n",
    "\n",
    "ind = df.loc[df['station']=='233 st'].index\n",
    "df.loc[ind, 'station'] = '233 st (2/5)'"
   ]
  },
  {
   "cell_type": "markdown",
   "metadata": {
    "ExecuteTime": {
     "end_time": "2021-10-23T16:39:13.699659Z",
     "start_time": "2021-10-23T16:39:11.806498Z"
    }
   },
   "source": [
    "# 238 st\n",
    "\n",
    "ind = df.loc[df['station']=='238 st'].index\n",
    "df.loc[ind, 'station'] = '238 st (1)'"
   ]
  },
  {
   "cell_type": "markdown",
   "metadata": {
    "ExecuteTime": {
     "end_time": "2021-10-23T16:39:16.721518Z",
     "start_time": "2021-10-23T16:39:13.700684Z"
    }
   },
   "source": [
    "# 242 st\n",
    "\n",
    "ind = df.loc[(df['station']=='242 st')|(df['station']=='v.cortlandt pk')].index\n",
    "df.loc[ind,'station'] = 'van cortlandt park-242 st (1)'"
   ]
  },
  {
   "cell_type": "markdown",
   "metadata": {
    "ExecuteTime": {
     "end_time": "2021-10-23T16:39:22.746538Z",
     "start_time": "2021-10-23T16:39:16.722545Z"
    }
   },
   "source": [
    "# 28 st\n",
    "\n",
    "ind_1 = df.loc[(df['station'] == '28 st')&(df['lines']=='1')].index\n",
    "df.loc[ind_1,'station'] = '28 st (1)'\n",
    "\n",
    "ind_6 = df.loc[(df['station'] == '28 st')&(df['lines']=='6')].index\n",
    "df.loc[ind_6,'station'] = '28 st (6)'"
   ]
  },
  {
   "cell_type": "markdown",
   "metadata": {
    "ExecuteTime": {
     "end_time": "2021-10-23T16:39:24.665346Z",
     "start_time": "2021-10-23T16:39:22.747538Z"
    }
   },
   "source": [
    "# 33 st\n",
    "\n",
    "ind = df.loc[df['station']=='33 st'].index\n",
    "df.loc[ind,'station'] = '33 st (6)'"
   ]
  },
  {
   "cell_type": "markdown",
   "metadata": {
    "ExecuteTime": {
     "end_time": "2021-10-23T16:39:28.521373Z",
     "start_time": "2021-10-23T16:39:24.666346Z"
    }
   },
   "source": [
    "# 34 streets\n",
    "\n",
    "ind_1 = df.loc[df['station']=='34 st-penn sta'].index\n",
    "df.loc[ind_1,'station'] = '34 st-penn sta (1/2/3/A/C/E)'\n",
    "\n",
    "ind_7 = df.loc[df['station']=='34 st-hudson yd'].index\n",
    "df.loc[ind_7,'station'] = '34 st-hudson yd (7)'"
   ]
  },
  {
   "cell_type": "markdown",
   "metadata": {
    "ExecuteTime": {
     "end_time": "2021-10-23T16:39:31.508369Z",
     "start_time": "2021-10-23T16:39:28.522374Z"
    }
   },
   "source": [
    "# 40 st\n",
    "\n",
    "ind = df.loc[(df['station']=='40 st lowery st')|(df['station']=='40 st-lowery st')].index\n",
    "df.loc[ind,'station'] = '40 st-lowery st (7)'"
   ]
  },
  {
   "cell_type": "markdown",
   "metadata": {
    "ExecuteTime": {
     "end_time": "2021-10-23T16:39:34.531042Z",
     "start_time": "2021-10-23T16:39:31.509369Z"
    }
   },
   "source": [
    "# 46 st\n",
    "\n",
    "ind = df.loc[(df['station']=='46 st bliss st')|(df['station']=='46 st-bliss st')].index\n",
    "df.loc[ind, 'station'] = '46 st-bliss st (7)'"
   ]
  },
  {
   "cell_type": "markdown",
   "metadata": {
    "ExecuteTime": {
     "end_time": "2021-10-23T16:39:36.397292Z",
     "start_time": "2021-10-23T16:39:34.532049Z"
    }
   },
   "source": [
    "# 50 st\n",
    "\n",
    "ind = df.loc[df['station']=='50 st'].index\n",
    "df.loc[ind, 'station'] = '50 st (1)'"
   ]
  },
  {
   "cell_type": "markdown",
   "metadata": {
    "ExecuteTime": {
     "end_time": "2021-10-23T16:39:38.274456Z",
     "start_time": "2021-10-23T16:39:36.398292Z"
    }
   },
   "source": [
    "# 51 st\n",
    "\n",
    "ind = df.loc[df['station']=='51 st'].index\n",
    "df.loc[ind, 'station'] = '51 st (6)'"
   ]
  },
  {
   "cell_type": "markdown",
   "metadata": {
    "ExecuteTime": {
     "end_time": "2021-10-23T16:39:41.252541Z",
     "start_time": "2021-10-23T16:39:38.275456Z"
    }
   },
   "source": [
    "# 52 st\n",
    "\n",
    "ind = df.loc[(df['station']=='52 st')|(df['station']=='52 st-lincoln')].index\n",
    "df.loc[ind, 'station'] = '52 st-lincoln (7)'"
   ]
  },
  {
   "cell_type": "markdown",
   "metadata": {
    "ExecuteTime": {
     "end_time": "2021-10-23T16:39:46.234767Z",
     "start_time": "2021-10-23T16:39:41.253578Z"
    }
   },
   "source": [
    "# 59 streets\n",
    "\n",
    "ind_456 = df.loc[df['station']=='59 st'].index\n",
    "df.loc[ind_456,'station'] = '59 st (4/5/6/N/Q/R/W)'\n",
    "\n",
    "ind_1 = df.loc[(df['station']=='59 st columbus')|(df['station']=='59 st-columbus')].index\n",
    "df.loc[ind_1,'station'] = '59 st-columbus cr (1/A/B/C/D)'"
   ]
  },
  {
   "cell_type": "markdown",
   "metadata": {
    "ExecuteTime": {
     "end_time": "2021-10-23T16:39:49.172242Z",
     "start_time": "2021-10-23T16:39:46.235768Z"
    }
   },
   "source": [
    "# 61 st woodside\n",
    "\n",
    "ind = df.loc[(df['station']=='61 st woodside')|(df['station']=='61 st/woodside')].index\n",
    "df.loc[ind,'station'] = '61 st-woodside (7)'"
   ]
  },
  {
   "cell_type": "markdown",
   "metadata": {
    "ExecuteTime": {
     "end_time": "2021-10-23T17:19:25.179421Z",
     "start_time": "2021-10-23T17:19:20.693462Z"
    }
   },
   "source": [
    "# 66 st\n",
    "\n",
    "ind = df.loc[df['station']=='66 st-lincoln'].index\n",
    "df.loc[ind,'station']='66 st-lincoln ctr (1)'"
   ]
  },
  {
   "cell_type": "markdown",
   "metadata": {
    "ExecuteTime": {
     "end_time": "2021-10-23T17:19:28.130098Z",
     "start_time": "2021-10-23T17:19:25.180421Z"
    }
   },
   "source": [
    "# 68 st\n",
    "\n",
    "ind = df.loc[(df['station']=='68st-hunter col')|(df['station']=='68st-hunter co')].index\n",
    "df.loc[ind, 'station'] = '68 st-hunter clg (6)'"
   ]
  },
  {
   "cell_type": "markdown",
   "metadata": {
    "ExecuteTime": {
     "end_time": "2021-10-23T17:19:30.986627Z",
     "start_time": "2021-10-23T17:19:28.131098Z"
    }
   },
   "source": [
    "# 69 st\n",
    "\n",
    "ind = df.loc[(df['station']=='69 st')|(df['station']=='69 st-fisk ave')].index\n",
    "df.loc[ind, 'station'] = '69 st-fisk av (7)'"
   ]
  },
  {
   "cell_type": "markdown",
   "metadata": {
    "ExecuteTime": {
     "end_time": "2021-10-23T17:19:32.806859Z",
     "start_time": "2021-10-23T17:19:30.987628Z"
    }
   },
   "source": [
    "# 72 st\n",
    "\n",
    "ind = df.loc[df['station']=='72 st'].index\n",
    "df.loc[ind, 'station'] =  '72 st (1/2/3)'"
   ]
  },
  {
   "cell_type": "markdown",
   "metadata": {
    "ExecuteTime": {
     "end_time": "2021-10-23T17:19:35.699116Z",
     "start_time": "2021-10-23T17:19:32.807859Z"
    }
   },
   "source": [
    "# 74 st broadway jackson hts\n",
    "\n",
    "ind = df.loc[(df['station']=='74 st-broadway')|(df['station']=='jksn ht-roosvlt')].index\n",
    "df.loc[ind,'station'] = '74 st-broadway (7/E/F/M/R)'"
   ]
  },
  {
   "cell_type": "markdown",
   "metadata": {
    "ExecuteTime": {
     "end_time": "2021-10-23T17:28:06.587755Z",
     "start_time": "2021-10-23T17:28:02.117804Z"
    }
   },
   "source": [
    "# 77 st\n",
    "\n",
    "ind = df.loc[df['station']=='77 st'].index\n",
    "df.loc[ind, 'station']='77 st (6)'"
   ]
  },
  {
   "cell_type": "markdown",
   "metadata": {
    "ExecuteTime": {
     "end_time": "2021-10-23T17:19:37.446370Z",
     "start_time": "2021-10-23T17:19:35.700099Z"
    }
   },
   "source": [
    "# 79 st\n",
    "\n",
    "ind = df.loc[df['station']=='79 st'].index\n",
    "df.loc[ind,'station']='79 st (1)'"
   ]
  },
  {
   "cell_type": "markdown",
   "metadata": {
    "ExecuteTime": {
     "end_time": "2021-10-23T17:19:39.207430Z",
     "start_time": "2021-10-23T17:19:37.447370Z"
    }
   },
   "source": [
    "# 82 st\n",
    "\n",
    "ind = df.loc[df['station']=='82 st-jackson h'].index\n",
    "df.loc[ind,'station'] = '82 st-jackson hts (7)'"
   ]
  },
  {
   "cell_type": "markdown",
   "metadata": {
    "ExecuteTime": {
     "end_time": "2021-10-23T17:19:45.080455Z",
     "start_time": "2021-10-23T17:19:39.208969Z"
    }
   },
   "source": [
    "# 86 st\n",
    "\n",
    "ind_1 = df.loc[(df['station']=='86 st')&(df['lines']=='1')].index\n",
    "df.loc[ind_1,'station'] = '86 st (1)'\n",
    "\n",
    "ind_456 = df.loc[(df['station']=='86 st')&(df['lines']=='456')].index\n",
    "df.loc[ind_456, 'station'] = '86 st (4/5/6)'"
   ]
  },
  {
   "cell_type": "markdown",
   "metadata": {
    "ExecuteTime": {
     "end_time": "2021-10-23T17:19:46.872117Z",
     "start_time": "2021-10-23T17:19:45.081207Z"
    }
   },
   "source": [
    "# 90 st\n",
    "\n",
    "ind = df.loc[df['station']=='90 st-elmhurst'].index\n",
    "df.loc[ind,'station'] = '90 st-elmhurst (7)'"
   ]
  },
  {
   "cell_type": "markdown",
   "metadata": {
    "ExecuteTime": {
     "end_time": "2021-10-23T17:25:42.704418Z",
     "start_time": "2021-10-23T17:24:59.973124Z"
    }
   },
   "source": [
    "df['station'] = df['station'].str.replace('ave','av')\n",
    "df['station'] = df['station'].str.replace('place','pl')\n",
    "df['station'] = df['station'].str.replace('road','rd')"
   ]
  },
  {
   "cell_type": "markdown",
   "metadata": {
    "ExecuteTime": {
     "end_time": "2021-10-23T17:41:48.967446Z",
     "start_time": "2021-10-23T17:41:40.525090Z"
    }
   },
   "source": [
    "# 96 st\n",
    "\n",
    "ind_123 = df.loc[(df['station']=='96 st')&(df['lines']=='123')].index\n",
    "df.loc[ind_123,'station'] = '96 st (1/2/3)'\n",
    "\n",
    "ind_6 = df.loc[(df['station']=='96 st')&(df['lines']=='6')].index\n",
    "df.loc[ind_6,'station'] = '96 st (6)'"
   ]
  },
  {
   "cell_type": "markdown",
   "metadata": {
    "ExecuteTime": {
     "end_time": "2021-10-23T17:41:50.705397Z",
     "start_time": "2021-10-23T17:41:48.968871Z"
    }
   },
   "source": [
    "# allerton av\n",
    "\n",
    "ind = df.loc[df['station']=='allerton av'].index\n",
    "df.loc[ind,'station'] = 'allerton av (2/5)'"
   ]
  },
  {
   "cell_type": "markdown",
   "metadata": {
    "ExecuteTime": {
     "end_time": "2021-10-23T17:41:52.443786Z",
     "start_time": "2021-10-23T17:41:50.706397Z"
    }
   },
   "source": [
    "# astor pl\n",
    "\n",
    "ind = df.loc[df['station']=='astor pl'].index\n",
    "df.loc[ind,'station'] = 'astor pl (6)'"
   ]
  },
  {
   "cell_type": "markdown",
   "metadata": {
    "ExecuteTime": {
     "end_time": "2021-10-23T17:41:54.199467Z",
     "start_time": "2021-10-23T17:41:52.444785Z"
    }
   },
   "source": [
    "# missed this one\n",
    "\n",
    "ind = df.loc[(df['station']==\"b'way-lafayette\")].index\n",
    "df.loc[ind,'station']='broadway-lafayette/bleecker st (6/B/D/F/Q)'"
   ]
  },
  {
   "cell_type": "markdown",
   "metadata": {
    "ExecuteTime": {
     "end_time": "2021-10-23T17:41:55.923873Z",
     "start_time": "2021-10-23T17:41:54.200467Z"
    }
   },
   "source": [
    "# baychester av\n",
    "\n",
    "ind = df.loc[df['station']=='baychester av'].index\n",
    "df.loc[ind, 'station'] = 'baychester av (5)'"
   ]
  },
  {
   "cell_type": "markdown",
   "metadata": {
    "ExecuteTime": {
     "end_time": "2021-10-23T17:40:49.807185Z",
     "start_time": "2021-10-23T17:40:40.934153Z"
    }
   },
   "source": [
    "# because of the S train, a few undesireable stations made it on here...\n",
    "\n",
    "droppers = df.loc[(df['station']=='beach 105 st')|(df['station']=='beach 90 st')\n",
    "                  |(df['station']=='beach 98 st')|(df['station']=='rockaway pk 116')\n",
    "                  |((df['station']=='park pl')&(df['lines']=='S'))|(df['station']=='brd channel')\n",
    "                 |(df['station']=='rockaway park b')|(df['station']=='prospect park')].index"
   ]
  },
  {
   "cell_type": "markdown",
   "metadata": {
    "ExecuteTime": {
     "end_time": "2021-10-23T17:41:10.903738Z",
     "start_time": "2021-10-23T17:41:08.573856Z"
    }
   },
   "source": [
    "df.drop(droppers,inplace=True)"
   ]
  },
  {
   "cell_type": "markdown",
   "metadata": {
    "ExecuteTime": {
     "end_time": "2021-10-23T19:11:37.282932Z",
     "start_time": "2021-10-23T19:11:30.773910Z"
    }
   },
   "source": [
    "# missed one\n",
    "\n",
    "dropit = df.loc[(df['station']=='prospect park')].index\n",
    "df.drop(dropit,inplace=True)"
   ]
  },
  {
   "cell_type": "markdown",
   "metadata": {
    "ExecuteTime": {
     "end_time": "2021-10-23T19:11:58.394710Z",
     "start_time": "2021-10-23T19:11:52.905809Z"
    }
   },
   "source": [
    "# bedford park\n",
    "\n",
    "ind = df.loc[(df['station']=='bedford park bl')|(df['station']=='bedford pk blvd')].index\n",
    "df.loc[ind,'station'] = 'bedford pk blvd (4)'"
   ]
  },
  {
   "cell_type": "markdown",
   "metadata": {
    "ExecuteTime": {
     "end_time": "2021-10-23T19:12:00.097690Z",
     "start_time": "2021-10-23T19:11:58.395711Z"
    }
   },
   "source": [
    "# bergen st\n",
    "\n",
    "ind = df.loc[df['station']=='bergen st'].index\n",
    "df.loc[ind,'station'] = 'bergen st (2/3)'"
   ]
  },
  {
   "cell_type": "markdown",
   "metadata": {
    "ExecuteTime": {
     "end_time": "2021-10-23T19:12:01.752661Z",
     "start_time": "2021-10-23T19:12:00.098691Z"
    }
   },
   "source": [
    "# beverly rd\n",
    "\n",
    "ind = df.loc[df['station']=='beverly rd'].index\n",
    "df.loc[ind,'station'] = 'beverly rd (2/5)'"
   ]
  },
  {
   "cell_type": "markdown",
   "metadata": {
    "ExecuteTime": {
     "end_time": "2021-10-23T19:12:04.583764Z",
     "start_time": "2021-10-23T19:12:01.753662Z"
    }
   },
   "source": [
    "# borough hall\n",
    "\n",
    "ind = df.loc[(df['station']=='borough hall')|(df['station']=='borough hall/ct')].index\n",
    "df.loc[ind,'station'] = 'borough hall-court st (2/3/4/5/R)'"
   ]
  },
  {
   "cell_type": "markdown",
   "metadata": {
    "ExecuteTime": {
     "end_time": "2021-10-23T19:12:13.178694Z",
     "start_time": "2021-10-23T19:12:10.437821Z"
    }
   },
   "source": [
    "# franklin av/botanic garden\n",
    "\n",
    "ind = df.loc[(df['station']=='botanic garden')|(df['station']=='franklin av')].index\n",
    "df.loc[ind,'station'] = 'franklin av (2/3/4/5/S)'"
   ]
  },
  {
   "cell_type": "markdown",
   "metadata": {
    "ExecuteTime": {
     "end_time": "2021-10-23T19:13:26.784788Z",
     "start_time": "2021-10-23T19:13:25.141351Z"
    }
   },
   "source": [
    "# messed up bleecker\n",
    "\n",
    "ind = df.loc[(df['station']=='brdway-lafayette/bleecker st (6/B/D/F/Q)')].index\n",
    "df.loc[ind,'station'] = 'broadway-lafayette/bleecker st (6/B/D/F/Q)'"
   ]
  },
  {
   "cell_type": "markdown",
   "metadata": {
    "ExecuteTime": {
     "end_time": "2021-10-23T19:28:16.241934Z",
     "start_time": "2021-10-23T19:28:11.841902Z"
    }
   },
   "source": [
    "# bowling green\n",
    "\n",
    "ind = df.loc[df['station'] == 'bowling green'].index\n",
    "df.loc[ind,'station'] = 'bowling green (4/5)'"
   ]
  },
  {
   "cell_type": "markdown",
   "metadata": {
    "ExecuteTime": {
     "end_time": "2021-10-23T19:28:17.883308Z",
     "start_time": "2021-10-23T19:28:16.242915Z"
    }
   },
   "source": [
    "# bronx pk east\n",
    "\n",
    "ind = df.loc[df['station']=='bronx park east'].index\n",
    "df.loc[ind,'station'] = 'bronx pk east (2/5)'"
   ]
  },
  {
   "cell_type": "markdown",
   "metadata": {
    "ExecuteTime": {
     "end_time": "2021-10-23T19:28:19.569820Z",
     "start_time": "2021-10-23T19:28:17.884831Z"
    }
   },
   "source": [
    "# brook av\n",
    "\n",
    "ind = df.loc[df['station']=='brook av'].index\n",
    "df.loc[ind, 'station'] = 'brook av (6)'"
   ]
  },
  {
   "cell_type": "markdown",
   "metadata": {
    "ExecuteTime": {
     "end_time": "2021-10-23T19:28:23.488882Z",
     "start_time": "2021-10-23T19:28:19.570873Z"
    }
   },
   "source": [
    "# bk br city hall\n",
    "\n",
    "ind = df.loc[(df['station']=='brooklyn bridge')|((df['station']=='chambers st')&(df['lines']=='JZ456'))].index\n",
    "df.loc[ind, 'station'] = 'brooklyn bridge-city hall (4/5/6/J/Z)'"
   ]
  },
  {
   "cell_type": "markdown",
   "metadata": {
    "ExecuteTime": {
     "end_time": "2021-10-23T19:28:25.131806Z",
     "start_time": "2021-10-23T19:28:23.489881Z"
    }
   },
   "source": [
    "# buhre av\n",
    "\n",
    "ind = df.loc[df['station']=='buhre av'].index\n",
    "df.loc[ind,'station'] = 'buhre av (6)'"
   ]
  },
  {
   "cell_type": "markdown",
   "metadata": {
    "ExecuteTime": {
     "end_time": "2021-10-23T19:28:26.770820Z",
     "start_time": "2021-10-23T19:28:25.132806Z"
    }
   },
   "source": [
    "# burke av\n",
    "\n",
    "ind = df.loc[df['station']=='burke av'].index\n",
    "df.loc[ind,'station'] = 'burke av (2/5)'"
   ]
  },
  {
   "cell_type": "markdown",
   "metadata": {
    "ExecuteTime": {
     "end_time": "2021-10-23T19:28:28.404916Z",
     "start_time": "2021-10-23T19:28:26.772325Z"
    }
   },
   "source": [
    "# burnside av\n",
    "\n",
    "ind = df.loc[df['station']=='burnside av'].index\n",
    "df.loc[ind, 'station'] = 'burnside av (4)'"
   ]
  },
  {
   "cell_type": "markdown",
   "metadata": {
    "ExecuteTime": {
     "end_time": "2021-10-25T00:07:26.057989Z",
     "start_time": "2021-10-25T00:07:13.640996Z"
    }
   },
   "source": [
    "# canal st\n",
    "\n",
    "ind_1 = df.loc[(df['station']=='canal st')&(df['lines']=='1')].index\n",
    "df.loc[ind_1,'station'] = 'canal st (1)'\n",
    "\n",
    "ind_6 = df.loc[(df['station']=='canal st')&(df['lines'].str.contains('6'))].index\n",
    "df.loc[ind_6,'station'] = 'canal st (6/J/N/Q/R/W/Z)'"
   ]
  },
  {
   "cell_type": "markdown",
   "metadata": {
    "ExecuteTime": {
     "end_time": "2021-10-23T19:40:21.351938Z",
     "start_time": "2021-10-23T19:40:16.241747Z"
    }
   },
   "source": [
    "# chambers st-wtc\n",
    "\n",
    "ind = df.loc[(df['station']=='chambers st')|(df['station']=='world trade ctr')\n",
    "                |(df['station']=='wtc-cortlandt')|(df['station']=='cortlandt st')].index\n",
    "\n",
    "df.loc[ind,'station'] = 'chambers st-wtc (1/2/3/A/C/E/R/W)'"
   ]
  },
  {
   "cell_type": "markdown",
   "metadata": {
    "ExecuteTime": {
     "end_time": "2021-10-23T19:46:52.681067Z",
     "start_time": "2021-10-23T19:46:51.010487Z"
    }
   },
   "source": [
    "# castle hill\n",
    "\n",
    "ind = df.loc[df['station']=='castle hill av'].index\n",
    "df.loc[ind,'station'] = 'catle hill av (6)'"
   ]
  },
  {
   "cell_type": "markdown",
   "metadata": {
    "ExecuteTime": {
     "end_time": "2021-10-24T16:27:09.601441Z",
     "start_time": "2021-10-24T16:27:04.989557Z"
    }
   },
   "source": [
    "# christopher st\n",
    "\n",
    "ind = df.loc[df['station']=='christopher st'].index\n",
    "df.loc[ind, 'station'] = 'christopher st (1)'"
   ]
  },
  {
   "cell_type": "markdown",
   "metadata": {
    "ExecuteTime": {
     "end_time": "2021-10-24T16:27:11.192850Z",
     "start_time": "2021-10-24T16:27:09.602977Z"
    }
   },
   "source": [
    "# church av\n",
    "\n",
    "ind = df.loc[df['station']=='church av'].index\n",
    "df.loc[ind,'station'] = 'church av (2/5)'"
   ]
  },
  {
   "cell_type": "markdown",
   "metadata": {
    "ExecuteTime": {
     "end_time": "2021-10-24T16:27:12.754109Z",
     "start_time": "2021-10-24T16:27:11.193850Z"
    }
   },
   "source": [
    "# clark st\n",
    "\n",
    "ind = df.loc[df['station']=='clark st'].index\n",
    "df.loc[ind, 'station'] = 'clark st (2/3)'"
   ]
  },
  {
   "cell_type": "markdown",
   "metadata": {
    "ExecuteTime": {
     "end_time": "2021-10-24T16:27:14.314461Z",
     "start_time": "2021-10-24T16:27:12.755110Z"
    }
   },
   "source": [
    "# court sq\n",
    "\n",
    "ind = df.loc[df['station']=='court sq'].index\n",
    "df.loc[ind,'station']='court sq (7)'"
   ]
  },
  {
   "cell_type": "markdown",
   "metadata": {
    "ExecuteTime": {
     "end_time": "2021-10-24T16:27:15.892527Z",
     "start_time": "2021-10-24T16:27:14.315462Z"
    }
   },
   "source": [
    "# crown hts-utica av\n",
    "\n",
    "ind = df.loc[df['station']=='crown hts-utica'].index\n",
    "df.loc[ind,'station']= 'crown hts-utica av (3/4)'"
   ]
  },
  {
   "cell_type": "markdown",
   "metadata": {
    "ExecuteTime": {
     "end_time": "2021-10-24T16:27:17.439965Z",
     "start_time": "2021-10-24T16:27:15.893528Z"
    }
   },
   "source": [
    "# cypress av\n",
    "\n",
    "ind = df.loc[df['station']=='cypress av'].index\n",
    "df.loc[ind, 'station'] = 'cypress av (6)'"
   ]
  },
  {
   "cell_type": "markdown",
   "metadata": {
    "ExecuteTime": {
     "end_time": "2021-10-24T16:27:18.985332Z",
     "start_time": "2021-10-24T16:27:17.440965Z"
    }
   },
   "source": [
    "# dyckman st\n",
    "\n",
    "ind = df.loc[df['station']=='dyckman st'].index\n",
    "df.loc[ind, 'station'] = 'dyckman st (1)'"
   ]
  },
  {
   "cell_type": "markdown",
   "metadata": {
    "ExecuteTime": {
     "end_time": "2021-10-24T16:27:21.652917Z",
     "start_time": "2021-10-24T16:27:18.986332Z"
    }
   },
   "source": [
    "# eastchester dyre av\n",
    "\n",
    "ind = df.loc[(df['station']=='dyre av')|(df['station'] == 'eastchster/dyre')].index\n",
    "df.loc[ind, 'station'] = 'eastchester dyre av (5)'"
   ]
  },
  {
   "cell_type": "markdown",
   "metadata": {
    "ExecuteTime": {
     "end_time": "2021-10-24T16:28:36.107272Z",
     "start_time": "2021-10-24T16:28:33.441557Z"
    }
   },
   "source": [
    "# e 143 st\n",
    "\n",
    "ind = df.loc[(df['station']=='e 143 st')|(df['station']==\"e 143/st mary's\")].index\n",
    "df.loc[ind,'station'] = 'e 143 st (6)'"
   ]
  },
  {
   "cell_type": "markdown",
   "metadata": {
    "ExecuteTime": {
     "end_time": "2021-10-24T16:30:39.301283Z",
     "start_time": "2021-10-24T16:30:36.648617Z"
    }
   },
   "source": [
    "# e 177 st-parkchester\n",
    "\n",
    "ind = df.loc[(df['station']=='e 177 st-parkch')|(df['station']=='parkchester')].index\n",
    "df.loc[ind,'station'] = 'parkchester (6)'"
   ]
  },
  {
   "cell_type": "markdown",
   "metadata": {
    "ExecuteTime": {
     "end_time": "2021-10-24T16:36:06.418217Z",
     "start_time": "2021-10-24T16:36:04.861254Z"
    }
   },
   "source": [
    "# e 180 st\n",
    "\n",
    "ind = df.loc[df['station']=='e 180 st'].index\n",
    "df.loc[ind, 'station'] = 'e 180 st (2/5)'"
   ]
  },
  {
   "cell_type": "markdown",
   "metadata": {
    "ExecuteTime": {
     "end_time": "2021-10-24T16:36:09.077404Z",
     "start_time": "2021-10-24T16:36:06.419218Z"
    }
   },
   "source": [
    "# west farms sq-e tremont\n",
    "\n",
    "ind = df.loc[(df['station'] == 'e tremont av')|(df['station'] == 'west farms sq')].index\n",
    "df.loc[ind, 'station'] = 'west farm sq-e tremont (2/5)'"
   ]
  },
  {
   "cell_type": "markdown",
   "metadata": {
    "ExecuteTime": {
     "end_time": "2021-10-24T16:37:15.844833Z",
     "start_time": "2021-10-24T16:37:13.201218Z"
    }
   },
   "source": [
    "# eastern pkwy\n",
    "\n",
    "ind = df.loc[(df['station']=='eastern pkwy')|(df['station']=='eastn pkwy-musm')].index\n",
    "df.loc[ind, 'station'] = 'eastern pkwy (2/3)'"
   ]
  },
  {
   "cell_type": "markdown",
   "metadata": {
    "ExecuteTime": {
     "end_time": "2021-10-24T16:41:31.113988Z",
     "start_time": "2021-10-24T16:41:29.517251Z"
    }
   },
   "source": [
    "# elder av\n",
    "\n",
    "ind = df.loc[df['station']=='elder av'].index\n",
    "df.loc[ind, 'station'] = 'elder av (6)'"
   ]
  },
  {
   "cell_type": "markdown",
   "metadata": {
    "ExecuteTime": {
     "end_time": "2021-10-24T16:42:59.477388Z",
     "start_time": "2021-10-24T16:42:56.834212Z"
    }
   },
   "source": [
    "# flatbush av - bk clg\n",
    "\n",
    "ind = df.loc[(df['station']=='flatbush av')|(df['station']=='flatbush av-b.c')].index\n",
    "df.loc[ind, 'station'] = 'flatbush av-bk clg (2/5)'"
   ]
  },
  {
   "cell_type": "markdown",
   "metadata": {
    "ExecuteTime": {
     "end_time": "2021-10-24T16:43:02.180518Z",
     "start_time": "2021-10-24T16:42:59.478368Z"
    }
   },
   "source": [
    "# flushing-main st\n",
    "\n",
    "ind = df.loc[(df['station']=='main st')|(df['station']=='flushing-main')].index\n",
    "df.loc[ind, 'station'] = 'flushing-main st (7)'"
   ]
  },
  {
   "cell_type": "markdown",
   "metadata": {
    "ExecuteTime": {
     "end_time": "2021-10-24T16:45:04.086653Z",
     "start_time": "2021-10-24T16:45:02.562210Z"
    }
   },
   "source": [
    "# fordham rd\n",
    "\n",
    "ind = df.loc[df['station']=='fordham rd'].index\n",
    "df.loc[ind, 'station'] = 'fordham rd (4)'"
   ]
  },
  {
   "cell_type": "markdown",
   "metadata": {
    "ExecuteTime": {
     "end_time": "2021-10-24T16:45:43.359222Z",
     "start_time": "2021-10-24T16:45:41.842207Z"
    }
   },
   "source": [
    "# franklin st\n",
    "\n",
    "ind = df.loc[df['station']=='franklin st'].index\n",
    "df.loc[ind, 'station'] = 'franklin st (1)'"
   ]
  },
  {
   "cell_type": "markdown",
   "metadata": {
    "ExecuteTime": {
     "end_time": "2021-10-24T16:46:17.884353Z",
     "start_time": "2021-10-24T16:46:16.361209Z"
    }
   },
   "source": [
    "# freeman st\n",
    "\n",
    "ind = df.loc[df['station']=='freeman st'].index\n",
    "df.loc[ind, 'station'] = 'freeman st (2/5)'"
   ]
  },
  {
   "cell_type": "markdown",
   "metadata": {
    "ExecuteTime": {
     "end_time": "2021-10-24T16:53:57.483858Z",
     "start_time": "2021-10-24T16:53:55.901434Z"
    }
   },
   "source": [
    "# grand army plza\n",
    "\n",
    "ind = df.loc[df['station']=='grand army plaz'].index\n",
    "df.loc[ind, 'station'] = 'grand army plza (2/3)'"
   ]
  },
  {
   "cell_type": "markdown",
   "metadata": {
    "ExecuteTime": {
     "end_time": "2021-10-24T17:01:14.268282Z",
     "start_time": "2021-10-24T17:01:08.881853Z"
    }
   },
   "source": [
    "# gun hill rds\n",
    "\n",
    "ind_25 = df.loc[(df['station']=='gun hill rd')&(df['lines']=='25')].index\n",
    "df.loc[ind_25,'station'] = 'gun hill rd (2/5)'\n",
    "\n",
    "ind_5 = df.loc[(df['station']=='gun hill rd')&(df['lines']=='5')].index\n",
    "df.loc[ind_5,'station'] = 'gun hill rd (5)'"
   ]
  },
  {
   "cell_type": "markdown",
   "metadata": {
    "ExecuteTime": {
     "end_time": "2021-10-25T04:30:00.803203Z",
     "start_time": "2021-10-25T04:29:55.472777Z"
    }
   },
   "source": [
    "# houston st\n",
    "\n",
    "ind = df.loc[df['station']=='houston st'].index\n",
    "df.loc[ind, 'station'] = 'hosuton st (1)'\n",
    "\n",
    "# fixit\n",
    "\n",
    "ind = df.loc[df['station']=='hosuton st (1)'].index\n",
    "df.loc[ind, 'station'] = 'houston st (1)'"
   ]
  },
  {
   "cell_type": "markdown",
   "metadata": {
    "ExecuteTime": {
     "end_time": "2021-10-25T04:30:39.634419Z",
     "start_time": "2021-10-25T04:30:37.926332Z"
    }
   },
   "source": [
    "houston = df.loc[df['station']=='houston st (1)']\n",
    "houston.to_csv('data/turnstile/houston.csv')"
   ]
  },
  {
   "cell_type": "markdown",
   "metadata": {
    "ExecuteTime": {
     "end_time": "2021-10-24T17:03:34.439780Z",
     "start_time": "2021-10-24T17:03:32.866552Z"
    }
   },
   "source": [
    "# hoyt st\n",
    "\n",
    "ind = df.loc[df['station']=='hoyt st'].index\n",
    "df.loc[ind, 'station'] = 'hoyt st (2/3)'"
   ]
  },
  {
   "cell_type": "markdown",
   "metadata": {
    "ExecuteTime": {
     "end_time": "2021-10-24T17:04:21.068907Z",
     "start_time": "2021-10-24T17:04:19.585553Z"
    }
   },
   "source": [
    "# hunters pt\n",
    "\n",
    "ind = df.loc[df['station'] == 'hunters pt av'].index\n",
    "df.loc[ind, 'station'] = 'hunters pt (7)'"
   ]
  },
  {
   "cell_type": "markdown",
   "metadata": {
    "ExecuteTime": {
     "end_time": "2021-10-24T17:04:58.880562Z",
     "start_time": "2021-10-24T17:04:57.386230Z"
    }
   },
   "source": [
    "# hunts pt\n",
    "\n",
    "ind = df.loc[df['station']=='hunts point av'].index\n",
    "df.loc[ind,'station'] = 'hunts pt av (6)'"
   ]
  },
  {
   "cell_type": "markdown",
   "metadata": {
    "ExecuteTime": {
     "end_time": "2021-10-24T17:06:10.364440Z",
     "start_time": "2021-10-24T17:06:07.793553Z"
    }
   },
   "source": [
    "# intervale av\n",
    "\n",
    "ind = df.loc[(df['station']=='intervale av')|(df['station']=='intervale-163')].index\n",
    "df.loc[ind, 'station'] = 'intervale av (2/5)'"
   ]
  },
  {
   "cell_type": "markdown",
   "metadata": {
    "ExecuteTime": {
     "end_time": "2021-10-24T17:08:44.953931Z",
     "start_time": "2021-10-24T17:08:43.417934Z"
    }
   },
   "source": [
    "# jackson av\n",
    "\n",
    "ind = df.loc[df['station']=='jackson av'].index\n",
    "df.loc[ind, 'station'] = 'jackson av (2/5)'"
   ]
  },
  {
   "cell_type": "markdown",
   "metadata": {
    "ExecuteTime": {
     "end_time": "2021-10-24T17:09:40.547769Z",
     "start_time": "2021-10-24T17:09:39.057552Z"
    }
   },
   "source": [
    "# junction blvd\n",
    "\n",
    "ind = df.loc[df['station']=='junction blvd'].index\n",
    "df.loc[ind,'station'] = 'junction blvd (7)'"
   ]
  },
  {
   "cell_type": "markdown",
   "metadata": {
    "ExecuteTime": {
     "end_time": "2021-10-24T17:10:12.019914Z",
     "start_time": "2021-10-24T17:10:10.553236Z"
    }
   },
   "source": [
    "# junius st\n",
    "\n",
    "ind = df.loc[df['station']=='junius st'].index\n",
    "df.loc[ind, 'station'] = 'junius st (3)'"
   ]
  },
  {
   "cell_type": "markdown",
   "metadata": {
    "ExecuteTime": {
     "end_time": "2021-10-24T17:11:07.552680Z",
     "start_time": "2021-10-24T17:11:06.049509Z"
    }
   },
   "source": [
    "# kingsbridge rd\n",
    "\n",
    "ind = df.loc[df['station'] == 'kingsbridge rd'].index\n",
    "df.loc[ind, 'station'] = 'kingsbridge rd (4)'"
   ]
  },
  {
   "cell_type": "markdown",
   "metadata": {
    "ExecuteTime": {
     "end_time": "2021-10-24T17:11:49.940934Z",
     "start_time": "2021-10-24T17:11:48.490819Z"
    }
   },
   "source": [
    "# kingston av\n",
    "\n",
    "ind = df.loc[df['station'] == 'kingston av'].index\n",
    "df.loc[ind, 'station'] = 'kingston av (4)'"
   ]
  },
  {
   "cell_type": "markdown",
   "metadata": {
    "ExecuteTime": {
     "end_time": "2021-10-24T18:05:46.615190Z",
     "start_time": "2021-10-24T18:05:42.349668Z"
    }
   },
   "source": [
    "# lenxington av - 53 st\n",
    "\n",
    "ind = df.loc[(df['station']=='51 st (6)')|(df['station']=='lexington-53 st')\n",
    "            |(df['station']=='lexington av/53')].index\n",
    "df.loc[ind,'station'] = 'lexington av-53 st (6/E/M)'"
   ]
  },
  {
   "cell_type": "markdown",
   "metadata": {
    "ExecuteTime": {
     "end_time": "2021-10-24T18:05:49.364298Z",
     "start_time": "2021-10-24T18:05:46.616191Z"
    }
   },
   "source": [
    "# lexington av - 59 st\n",
    "\n",
    "ind = df.loc[(df['station']=='59 st (4/5/6/N/Q/R/W)')|(df['station'] == 'lexington av')].index\n",
    "df.loc[ind, 'station'] = 'lexington av-59 st (4/5/6/N/Q/R/W)'"
   ]
  },
  {
   "cell_type": "markdown",
   "metadata": {
    "ExecuteTime": {
     "end_time": "2021-10-24T18:12:39.893364Z",
     "start_time": "2021-10-24T18:12:38.385747Z"
    }
   },
   "source": [
    "# longwood av\n",
    "\n",
    "ind = df.loc[df['station']=='longwood av'].index\n",
    "df.loc[ind, 'station'] = 'longwood av (6)'"
   ]
  },
  {
   "cell_type": "markdown",
   "metadata": {
    "ExecuteTime": {
     "end_time": "2021-10-24T18:16:45.820267Z",
     "start_time": "2021-10-24T18:16:44.298186Z"
    }
   },
   "source": [
    "# marble hill\n",
    "\n",
    "ind = df.loc[df['station']=='marble hill-225'].index\n",
    "df.loc[ind, 'station'] = 'marble hill-225 st (1)'"
   ]
  },
  {
   "cell_type": "markdown",
   "metadata": {
    "ExecuteTime": {
     "end_time": "2021-10-24T18:17:16.943114Z",
     "start_time": "2021-10-24T18:17:15.386167Z"
    }
   },
   "source": [
    "# mets-willets pt\n",
    "\n",
    "ind = df.loc[df['station']=='mets-willets pt'].index\n",
    "df.loc[ind, 'station'] = 'mets-willets pt (7)'"
   ]
  },
  {
   "cell_type": "markdown",
   "metadata": {
    "ExecuteTime": {
     "end_time": "2021-10-24T18:22:18.159538Z",
     "start_time": "2021-10-24T18:22:16.689832Z"
    }
   },
   "source": [
    "# middletown rd\n",
    "\n",
    "ind = df.loc[df['station']=='middletown rd'].index\n",
    "df.loc[ind,'station'] = 'middletown rd (6)'"
   ]
  },
  {
   "cell_type": "markdown",
   "metadata": {
    "ExecuteTime": {
     "end_time": "2021-10-24T18:26:25.237017Z",
     "start_time": "2021-10-24T18:26:19.873325Z"
    }
   },
   "source": [
    "# morrison av\n",
    "\n",
    "ind = df.loc[(df['station']=='morisn av/sndvw')|(df['station']=='morrison av')].index\n",
    "df.loc[ind,'station'] = 'morrison av (6)'"
   ]
  },
  {
   "cell_type": "markdown",
   "metadata": {
    "ExecuteTime": {
     "end_time": "2021-10-24T18:29:39.713806Z",
     "start_time": "2021-10-24T18:29:37.250273Z"
    }
   },
   "source": [
    "# mosholu pkwy\n",
    "\n",
    "ind = df.loc[(df['station']=='mosholu parkway')|(df['station']=='mosholu pkwy')].index\n",
    "df.loc[ind,'station'] = 'moshulu pkwy (4)'"
   ]
  },
  {
   "cell_type": "markdown",
   "metadata": {
    "ExecuteTime": {
     "end_time": "2021-10-24T18:40:07.208665Z",
     "start_time": "2021-10-24T18:40:05.642173Z"
    }
   },
   "source": [
    "# morris pk\n",
    "\n",
    "ind = df.loc[df['station'] == 'morris park'].index\n",
    "df.loc[ind,'station'] = 'morris pk (5)'"
   ]
  },
  {
   "cell_type": "markdown",
   "metadata": {
    "ExecuteTime": {
     "end_time": "2021-10-24T18:40:53.750897Z",
     "start_time": "2021-10-24T18:40:52.353536Z"
    }
   },
   "source": [
    "# mt eden av\n",
    "\n",
    "ind = df.loc[df['station'] == 'mt eden av'].index\n",
    "df.loc[ind, 'station'] = 'mt eden av (4)'"
   ]
  },
  {
   "cell_type": "markdown",
   "metadata": {
    "ExecuteTime": {
     "end_time": "2021-10-24T18:41:20.665521Z",
     "start_time": "2021-10-24T18:41:19.257961Z"
    }
   },
   "source": [
    "# nereid av\n",
    "\n",
    "ind = df.loc[df['station']=='nereid av'].index\n",
    "df.loc[ind, 'station'] = 'nereid av (2/5)'"
   ]
  },
  {
   "cell_type": "markdown",
   "metadata": {
    "ExecuteTime": {
     "end_time": "2021-10-24T18:46:29.028871Z",
     "start_time": "2021-10-24T18:46:27.586467Z"
    }
   },
   "source": [
    "# nevins st\n",
    "\n",
    "ind = df.loc[df['station']=='nevins st'].index\n",
    "df.loc[ind, 'station'] = 'nevins st (2/3/4/5)'"
   ]
  },
  {
   "cell_type": "markdown",
   "metadata": {
    "ExecuteTime": {
     "end_time": "2021-10-24T18:47:16.302108Z",
     "start_time": "2021-10-24T18:47:14.890169Z"
    }
   },
   "source": [
    "# new lots av\n",
    "\n",
    "ind = df.loc[df['station'] == 'new lots av'].index\n",
    "df.loc[ind, 'station'] = 'new lots av (3)'"
   ]
  },
  {
   "cell_type": "markdown",
   "metadata": {
    "ExecuteTime": {
     "end_time": "2021-10-24T18:54:11.432540Z",
     "start_time": "2021-10-24T18:54:09.954317Z"
    }
   },
   "source": [
    "# newkirk av\n",
    "\n",
    "ind = df.loc[df['station']=='newkirk av'].index\n",
    "df.loc[ind, 'station'] = 'newkirk av (2/5)'"
   ]
  },
  {
   "cell_type": "markdown",
   "metadata": {
    "ExecuteTime": {
     "end_time": "2021-10-24T18:54:57.637593Z",
     "start_time": "2021-10-24T18:54:56.258099Z"
    }
   },
   "source": [
    "# nostrand av\n",
    "\n",
    "ind = df.loc[df['station'] == 'nostrand av'].index\n",
    "df.loc[ind, 'station'] = 'nostrand av (3)'"
   ]
  },
  {
   "cell_type": "markdown",
   "metadata": {
    "ExecuteTime": {
     "end_time": "2021-10-24T18:58:08.547043Z",
     "start_time": "2021-10-24T18:58:06.034150Z"
    }
   },
   "source": [
    "# pelham bay park/orchard beach\n",
    "\n",
    "ind = df.loc[(df['station']=='orchard beach')|(df['station']=='pelham bay park')].index\n",
    "df.loc[ind, 'station'] = 'pelham bay pk (6)'"
   ]
  },
  {
   "cell_type": "markdown",
   "metadata": {
    "ExecuteTime": {
     "end_time": "2021-10-25T00:43:50.304937Z",
     "start_time": "2021-10-25T00:43:46.273986Z"
    }
   },
   "source": [
    "# park pl\n",
    "\n",
    "ind = df.loc[df['station'] == 'park pl (2/3/A/C)'].index\n",
    "df.loc[ind, 'station'] = 'park pl (2/3/A/C/E)'"
   ]
  },
  {
   "cell_type": "markdown",
   "metadata": {
    "ExecuteTime": {
     "end_time": "2021-10-24T19:02:13.543455Z",
     "start_time": "2021-10-24T19:02:06.402196Z"
    }
   },
   "source": [
    "# pelham parkways\n",
    "\n",
    "ind_25 = df.loc[(df['lines']=='25')&((df['station']=='pelham parkway')|(df['station']=='pelham pkwy'))].index\n",
    "df.loc[ind_25, 'station'] = 'pelham pkwy (2/5)'\n",
    "\n",
    "ind_5 = df.loc[(df['lines']=='5')&((df['station']=='pelham parkway')|(df['station']=='pelham pkwy'))].index\n",
    "df.loc[ind_5, 'station'] = 'pelham pkwy (5)'"
   ]
  },
  {
   "cell_type": "markdown",
   "metadata": {
    "ExecuteTime": {
     "end_time": "2021-10-24T19:03:14.880135Z",
     "start_time": "2021-10-24T19:03:13.514652Z"
    }
   },
   "source": [
    "# pennsylvania av\n",
    "\n",
    "ind = df.loc[df['station']=='pennsylvania av'].index\n",
    "df.loc[ind,'station'] = 'pennsylvania av (3)'"
   ]
  },
  {
   "cell_type": "markdown",
   "metadata": {
    "ExecuteTime": {
     "end_time": "2021-10-24T19:03:59.480000Z",
     "start_time": "2021-10-24T19:03:58.106160Z"
    }
   },
   "source": [
    "# president st\n",
    "\n",
    "ind = df.loc[df['station']=='president st'].index\n",
    "df.loc[ind, 'station'] = 'president st (2/5)'"
   ]
  },
  {
   "cell_type": "markdown",
   "metadata": {
    "ExecuteTime": {
     "end_time": "2021-10-24T19:04:55.986527Z",
     "start_time": "2021-10-24T19:04:54.577537Z"
    }
   },
   "source": [
    "# prospect av\n",
    "\n",
    "ind = df.loc[df['station']=='prospect av'].index\n",
    "df.loc[ind, 'station'] = 'prospect av (2/5)'"
   ]
  },
  {
   "cell_type": "markdown",
   "metadata": {
    "ExecuteTime": {
     "end_time": "2021-10-24T19:07:27.913252Z",
     "start_time": "2021-10-24T19:07:26.545757Z"
    }
   },
   "source": [
    "# qnsboro plaza\n",
    "\n",
    "ind = df.loc[df['station']=='queensboro plz'].index\n",
    "df.loc[ind, 'station'] = 'queensboro plza (7/N/Q/W)'"
   ]
  },
  {
   "cell_type": "markdown",
   "metadata": {
    "ExecuteTime": {
     "end_time": "2021-10-24T19:07:54.880134Z",
     "start_time": "2021-10-24T19:07:53.506537Z"
    }
   },
   "source": [
    "# rector st\n",
    "\n",
    "ind = df.loc[df['station']=='rector st'].index\n",
    "df.loc[ind, 'station'] = 'rector st (1)'"
   ]
  },
  {
   "cell_type": "markdown",
   "metadata": {
    "ExecuteTime": {
     "end_time": "2021-10-24T19:08:48.474425Z",
     "start_time": "2021-10-24T19:08:47.090457Z"
    }
   },
   "source": [
    "# rockaway av\n",
    "\n",
    "ind = df.loc[df['station']=='rockaway av'].index\n",
    "df.loc[ind, 'station'] = 'rockaway av (3)'"
   ]
  },
  {
   "cell_type": "markdown",
   "metadata": {
    "ExecuteTime": {
     "end_time": "2021-10-24T19:37:02.662748Z",
     "start_time": "2021-10-24T19:36:58.919097Z"
    }
   },
   "source": [
    "# roosevelt av - part of 74 st-broadway (7/E/F/M/R)\n",
    "\n",
    "ind = df.loc[df['station']=='roosevelt av'].index\n",
    "df.loc[ind, 'station'] = 'jackson hts-roosevelt av (7/E/F/M/R)'\n",
    "\n",
    "ind_change = df.loc[(df['station']=='74 st-broadway (7/E/F/M/R)')|(df['station']=='74 st-brdway (7/E/F/M/R)')].index\n",
    "df.loc[ind_change,'station'] = 'jackson hts-roosevelt av (7/E/F/M/R)'"
   ]
  },
  {
   "cell_type": "markdown",
   "metadata": {
    "ExecuteTime": {
     "end_time": "2021-10-24T19:44:58.053163Z",
     "start_time": "2021-10-24T19:44:56.626598Z"
    }
   },
   "source": [
    "# saratoga av\n",
    "\n",
    "ind = df.loc[df['station']=='saratoga av'].index\n",
    "df.loc[ind, 'station'] = 'saratoga av (3)'"
   ]
  },
  {
   "cell_type": "markdown",
   "metadata": {
    "ExecuteTime": {
     "end_time": "2021-10-24T19:47:44.974046Z",
     "start_time": "2021-10-24T19:47:43.562139Z"
    }
   },
   "source": [
    "# simpson st\n",
    "\n",
    "ind = df.loc[df['station']=='simpson st'].index\n",
    "df.loc[ind, 'station'] = 'simpson st (2/5)'"
   ]
  },
  {
   "cell_type": "markdown",
   "metadata": {
    "ExecuteTime": {
     "end_time": "2021-10-24T20:20:02.606974Z",
     "start_time": "2021-10-24T20:19:59.113119Z"
    }
   },
   "source": [
    "# south ferry\n",
    "\n",
    "ind = df.loc[(df['station']=='south ferry')|(df['station']=='whitehall s-fry')|(df['station']=='whitehall st')].index\n",
    "df.loc[ind, 'station'] = 'south ferry (1/R/W)'"
   ]
  },
  {
   "cell_type": "markdown",
   "metadata": {
    "ExecuteTime": {
     "end_time": "2021-10-24T20:10:29.690606Z",
     "start_time": "2021-10-24T20:10:28.298027Z"
    }
   },
   "source": [
    "# spring st\n",
    "\n",
    "ind = df.loc[df['station']=='spring st'].index\n",
    "df.loc[ind, 'station'] = 'spring st (6)'"
   ]
  },
  {
   "cell_type": "markdown",
   "metadata": {
    "ExecuteTime": {
     "end_time": "2021-10-24T20:11:05.511674Z",
     "start_time": "2021-10-24T20:11:04.154124Z"
    }
   },
   "source": [
    "# st lawrence av\n",
    "\n",
    "ind = df.loc[df['station']=='st lawrence av'].index\n",
    "df.loc[ind,'station'] = 'st lawrence av (6)'"
   ]
  },
  {
   "cell_type": "markdown",
   "metadata": {
    "ExecuteTime": {
     "end_time": "2021-10-24T20:11:40.421933Z",
     "start_time": "2021-10-24T20:11:39.098123Z"
    }
   },
   "source": [
    "# sterling st\n",
    "\n",
    "ind = df.loc[df['station']=='sterling st'].index\n",
    "df.loc[ind, 'station'] = 'sterling st (2/5)'"
   ]
  },
  {
   "cell_type": "markdown",
   "metadata": {
    "ExecuteTime": {
     "end_time": "2021-10-24T20:13:25.866389Z",
     "start_time": "2021-10-24T20:13:23.489282Z"
    }
   },
   "source": [
    "# sutter av\n",
    "\n",
    "ind = df.loc[(df['station']=='sutter av')|(df['station']=='sutter av-rutld')].index\n",
    "df.loc[ind, 'station'] = 'sutter av (3)'"
   ]
  },
  {
   "cell_type": "markdown",
   "metadata": {
    "ExecuteTime": {
     "end_time": "2021-10-24T20:14:18.281556Z",
     "start_time": "2021-10-24T20:14:16.970756Z"
    }
   },
   "source": [
    "# van siclen\n",
    "\n",
    "ind = df.loc[df['station']=='van siclen av'].index\n",
    "df.loc[ind, 'station'] = 'van siclen av (3)'"
   ]
  },
  {
   "cell_type": "markdown",
   "metadata": {
    "ExecuteTime": {
     "end_time": "2021-10-24T20:15:12.647045Z",
     "start_time": "2021-10-24T20:15:10.234400Z"
    }
   },
   "source": [
    "# vernon-jackson\n",
    "\n",
    "ind = df.loc[(df['station']=='vernon-jackson')|(df['station']=='vernon/jackson')].index\n",
    "df.loc[ind, 'station'] = 'vernon-jackson (7)'"
   ]
  },
  {
   "cell_type": "markdown",
   "metadata": {
    "ExecuteTime": {
     "end_time": "2021-10-24T20:16:31.540151Z",
     "start_time": "2021-10-24T20:16:29.113261Z"
    }
   },
   "source": [
    "# wakefield 241\n",
    "\n",
    "ind = df.loc[(df['station']=='wakefield-241')|(df['station']=='wakefield/241')].index\n",
    "df.loc[ind, 'station'] = 'wakefield-241 st (2)'"
   ]
  },
  {
   "cell_type": "markdown",
   "metadata": {
    "ExecuteTime": {
     "end_time": "2021-10-24T20:17:50.973267Z",
     "start_time": "2021-10-24T20:17:46.089120Z"
    }
   },
   "source": [
    "# wall streets\n",
    "\n",
    "ind_23 = df.loc[(df['station']=='wall st')&(df['lines']=='23')].index\n",
    "df.loc[ind_23,'station'] = 'wall st (2/3)'\n",
    "\n",
    "ind_45 = df.loc[(df['station']=='wall st')&(df['lines']=='45')].index\n",
    "df.loc[ind_45,'station'] = 'wall st (4/5)'"
   ]
  },
  {
   "cell_type": "markdown",
   "metadata": {
    "ExecuteTime": {
     "end_time": "2021-10-24T20:18:50.152544Z",
     "start_time": "2021-10-24T20:18:48.870538Z"
    }
   },
   "source": [
    "# westchester sq\n",
    "\n",
    "ind = df.loc[df['station']=='westchester sq'].index\n",
    "df.loc[ind, 'station'] = 'westchester sq (6)'"
   ]
  },
  {
   "cell_type": "markdown",
   "metadata": {
    "ExecuteTime": {
     "end_time": "2021-10-24T20:20:37.328366Z",
     "start_time": "2021-10-24T20:20:36.054011Z"
    }
   },
   "source": [
    "# whitlock av\n",
    "\n",
    "ind = df.loc[df['station']=='whitlock av'].index\n",
    "df.loc[ind, 'station'] = 'whitlock av (6)'"
   ]
  },
  {
   "cell_type": "markdown",
   "metadata": {
    "ExecuteTime": {
     "end_time": "2021-10-24T20:21:02.720128Z",
     "start_time": "2021-10-24T20:21:01.450284Z"
    }
   },
   "source": [
    "# winthrop st\n",
    "\n",
    "ind = df.loc[df['station']=='winthrop st'].index\n",
    "df.loc[ind, 'station'] = 'winthrop st (2/5)'"
   ]
  },
  {
   "cell_type": "markdown",
   "metadata": {
    "ExecuteTime": {
     "end_time": "2021-10-24T20:21:44.803295Z",
     "start_time": "2021-10-24T20:21:42.466646Z"
    }
   },
   "source": [
    "# woodlawn\n",
    "\n",
    "ind = df.loc[(df['station']=='woodlawn')|(df['station']=='woodlawn rd')].index\n",
    "df.loc[ind, 'station'] = 'woodlawn (4)'"
   ]
  },
  {
   "cell_type": "markdown",
   "metadata": {
    "ExecuteTime": {
     "end_time": "2021-10-24T20:22:16.371136Z",
     "start_time": "2021-10-24T20:22:15.089209Z"
    }
   },
   "source": [
    "# zerega av\n",
    "\n",
    "ind = df.loc[df['station']=='zerega av'].index\n",
    "df.loc[ind, 'station'] = 'zerega av (6)'"
   ]
  },
  {
   "cell_type": "markdown",
   "metadata": {
    "ExecuteTime": {
     "end_time": "2021-10-24T20:23:45.894074Z",
     "start_time": "2021-10-24T20:23:44.601717Z"
    }
   },
   "source": [
    "# 3 av - 149 st\n",
    "\n",
    "ind = df.loc[df['station']=='3 av-149 st'].index\n",
    "df.loc[ind, 'station'] = '3 av-149 st (2/5)'"
   ]
  },
  {
   "cell_type": "markdown",
   "metadata": {
    "ExecuteTime": {
     "end_time": "2021-10-24T20:22:45.547579Z",
     "start_time": "2021-10-24T20:22:44.497436Z"
    },
    "scrolled": true
   },
   "source": [
    "df['lines'].loc[df['station']=='3 av-149 st'].value_counts()"
   ]
  },
  {
   "cell_type": "markdown",
   "metadata": {
    "ExecuteTime": {
     "end_time": "2021-10-24T23:49:32.194901Z",
     "start_time": "2021-10-24T23:49:27.665946Z"
    }
   },
   "source": [
    "ind = df.loc[(df['lines']=='ACENQRS1237W')|(df['lines']=='ACENQRS1237')|(df['lines']=='ACENGRS1237')\n",
    "            |(df['lines']=='ACENGRS1237W')].index\n",
    "df.loc[ind, 'lines'] = '1237ACENQRSW'"
   ]
  },
  {
   "cell_type": "markdown",
   "metadata": {
    "ExecuteTime": {
     "end_time": "2021-10-24T20:28:59.033840Z",
     "start_time": "2021-10-24T20:28:57.793537Z"
    }
   },
   "source": [
    "ind = df.loc[df['lines'] == '456LNQR'].index\n",
    "df.loc[ind, 'lines'] = '456LNQRW'"
   ]
  },
  {
   "cell_type": "markdown",
   "metadata": {
    "ExecuteTime": {
     "end_time": "2021-10-24T22:30:31.615398Z",
     "start_time": "2021-10-24T22:30:28.185537Z"
    }
   },
   "source": [
    "ind = df.loc[(df['lines']=='R1')|(df['lines']=='1R')|(df['lines']=='R1W')].index\n",
    "df.loc[ind, 'lines'] = '1RW'"
   ]
  },
  {
   "cell_type": "markdown",
   "metadata": {
    "ExecuteTime": {
     "end_time": "2021-10-24T22:26:48.651505Z",
     "start_time": "2021-10-24T22:26:47.317874Z"
    }
   },
   "source": [
    "ind = df.loc[(df['lines']=='AC1')].index\n",
    "df.loc[ind, 'lines'] = '1AC'"
   ]
  },
  {
   "cell_type": "markdown",
   "metadata": {
    "ExecuteTime": {
     "end_time": "2021-10-24T22:32:23.001011Z",
     "start_time": "2021-10-24T22:32:21.690048Z"
    }
   },
   "source": [
    "ind = df.loc[(df['lines']=='BDNQR2345')].index\n",
    "df.loc[ind, 'lines'] = '2345BDNQR'"
   ]
  },
  {
   "cell_type": "markdown",
   "metadata": {
    "ExecuteTime": {
     "end_time": "2021-10-24T23:50:43.041572Z",
     "start_time": "2021-10-24T23:50:41.569769Z"
    }
   },
   "source": [
    "ind = df.loc[df['lines']=='ACE23'].index\n",
    "df.loc[ind, 'lines'] = '23ACE'"
   ]
  },
  {
   "cell_type": "markdown",
   "metadata": {
    "ExecuteTime": {
     "end_time": "2021-10-24T23:51:43.064320Z",
     "start_time": "2021-10-24T23:51:41.745541Z"
    }
   },
   "source": [
    "ind = df.loc[df['lines']=='LNQR456W'].index\n",
    "df.loc[ind,'lines'] = '456LNQRW'"
   ]
  },
  {
   "cell_type": "markdown",
   "metadata": {
    "ExecuteTime": {
     "end_time": "2021-10-24T23:53:44.772673Z",
     "start_time": "2021-10-24T23:53:43.505267Z"
    }
   },
   "source": [
    "ind = df.loc[df['lines']=='NQR456'].index\n",
    "df.loc[ind,'lines'] = '456NQRW'"
   ]
  },
  {
   "cell_type": "markdown",
   "metadata": {
    "ExecuteTime": {
     "end_time": "2021-10-24T23:54:31.499644Z",
     "start_time": "2021-10-24T23:54:30.233642Z"
    }
   },
   "source": [
    "ind = df.loc[df['lines']=='7NQ'].index\n",
    "df.loc[ind, 'lines'] = '7NQW'"
   ]
  },
  {
   "cell_type": "markdown",
   "metadata": {
    "ExecuteTime": {
     "end_time": "2021-10-25T00:13:58.329491Z",
     "start_time": "2021-10-25T00:13:57.009755Z"
    }
   },
   "source": [
    "ind = df.loc[df['lines']=='ABCD1'].index\n",
    "df.loc[ind, 'lines'] = '1ABCD'"
   ]
  },
  {
   "cell_type": "markdown",
   "metadata": {
    "ExecuteTime": {
     "end_time": "2021-10-24T23:56:26.790991Z",
     "start_time": "2021-10-24T23:56:25.417773Z"
    }
   },
   "source": [
    "ind = df.loc[df['lines']=='456NQRW'].index\n",
    "df.loc[ind, 'lines'] = '456NQRW'"
   ]
  },
  {
   "cell_type": "markdown",
   "metadata": {
    "ExecuteTime": {
     "end_time": "2021-10-24T23:57:54.987818Z",
     "start_time": "2021-10-24T23:57:53.665906Z"
    }
   },
   "source": [
    "ind = df.loc[df['lines']=='EFMR7'].index\n",
    "df.loc[ind, 'lines'] = '7EFMR'"
   ]
  },
  {
   "cell_type": "markdown",
   "metadata": {
    "ExecuteTime": {
     "end_time": "2021-10-25T00:09:34.240269Z",
     "start_time": "2021-10-25T00:09:30.166612Z"
    }
   },
   "source": [
    "ind = df.loc[df['lines']=='JNQRZ6'].index\n",
    "df.loc[ind, 'lines'] = '6JNQRZW'"
   ]
  },
  {
   "cell_type": "markdown",
   "metadata": {
    "ExecuteTime": {
     "end_time": "2021-10-25T00:11:12.437918Z",
     "start_time": "2021-10-25T00:11:11.176997Z"
    }
   },
   "source": [
    "ind = df.loc[df['lines']=='S2345'].index\n",
    "df.loc[ind, 'lines'] = '2345S'"
   ]
  },
  {
   "cell_type": "markdown",
   "metadata": {
    "ExecuteTime": {
     "end_time": "2021-10-25T00:14:58.744787Z",
     "start_time": "2021-10-25T00:14:57.441401Z"
    }
   },
   "source": [
    "ind = df.loc[df['lines']=='FLM123'].index\n",
    "df.loc[ind,'lines'] = '123FLM'"
   ]
  },
  {
   "cell_type": "markdown",
   "metadata": {
    "ExecuteTime": {
     "end_time": "2021-10-25T00:12:41.420735Z",
     "start_time": "2021-10-25T00:12:39.096751Z"
    }
   },
   "source": [
    "ind = df.loc[(df['lines']=='456NQR')|(df['lines']=='NQR456W')].index\n",
    "df.loc[ind,'lines'] = '456NQRW'"
   ]
  },
  {
   "cell_type": "markdown",
   "metadata": {
    "ExecuteTime": {
     "end_time": "2021-10-25T00:18:09.325785Z",
     "start_time": "2021-10-25T00:18:05.754122Z"
    }
   },
   "source": [
    "dropper = df.loc[df['lines']=='ACS'].index\n",
    "df.drop(dropper,inplace=True)"
   ]
  },
  {
   "cell_type": "markdown",
   "metadata": {
    "ExecuteTime": {
     "end_time": "2021-10-25T00:16:02.554537Z",
     "start_time": "2021-10-25T00:16:01.297386Z"
    }
   },
   "source": [
    "ind = df.loc[df['lines']=='LNQR456'].index\n",
    "df.loc[ind,'lines'] = '456LNQRW'"
   ]
  },
  {
   "cell_type": "markdown",
   "metadata": {
    "ExecuteTime": {
     "end_time": "2021-10-25T00:29:14.859796Z",
     "start_time": "2021-10-25T00:29:13.705818Z"
    }
   },
   "source": [
    "df['lines'].loc[df['station']=='lexington av-53 st (6/E/M)'].value_counts()"
   ]
  },
  {
   "cell_type": "markdown",
   "metadata": {
    "ExecuteTime": {
     "end_time": "2021-10-25T00:23:06.966159Z",
     "start_time": "2021-10-25T00:23:02.953686Z"
    }
   },
   "source": [
    "ind = df.loc[df['lines']=='R2345'].index\n",
    "df.loc[ind, 'lines'] = '2345R'"
   ]
  },
  {
   "cell_type": "markdown",
   "metadata": {
    "ExecuteTime": {
     "end_time": "2021-10-25T00:23:34.547120Z",
     "start_time": "2021-10-25T00:23:33.258176Z"
    }
   },
   "source": [
    "ind = df.loc[df['lines']=='JZ456'].index\n",
    "df.loc[ind, 'lines'] = '456JZ'"
   ]
  },
  {
   "cell_type": "markdown",
   "metadata": {
    "ExecuteTime": {
     "end_time": "2021-10-25T00:24:41.039029Z",
     "start_time": "2021-10-25T00:24:39.705878Z"
    }
   },
   "source": [
    "ind = df.loc[df['lines']=='JNQRZ6W'].index\n",
    "df.loc[ind,'lines'] = '6JNQRZW'"
   ]
  },
  {
   "cell_type": "markdown",
   "metadata": {
    "ExecuteTime": {
     "end_time": "2021-10-25T00:26:36.531453Z",
     "start_time": "2021-10-25T00:26:34.137123Z"
    }
   },
   "source": [
    "ind = df.loc[(df['lines']=='6DF')|(df['lines']=='BDFQ6')].index\n",
    "df.loc[ind, 'lines'] = '6BDFQ'"
   ]
  },
  {
   "cell_type": "markdown",
   "metadata": {
    "ExecuteTime": {
     "end_time": "2021-10-25T00:27:34.239861Z",
     "start_time": "2021-10-25T00:27:32.928873Z"
    }
   },
   "source": [
    "ind = df.loc[df['lines']=='ACJZ2345'].index\n",
    "df.loc[ind, 'lines'] = '2345ACJZ'"
   ]
  },
  {
   "cell_type": "markdown",
   "metadata": {
    "ExecuteTime": {
     "end_time": "2021-10-25T00:28:19.645808Z",
     "start_time": "2021-10-25T00:28:18.321791Z"
    }
   },
   "source": [
    "ind = df.loc[df['lines']=='BD4'].index\n",
    "df.loc[ind, 'lines'] = '4BD'"
   ]
  },
  {
   "cell_type": "markdown",
   "metadata": {
    "ExecuteTime": {
     "end_time": "2021-10-25T00:30:29.890020Z",
     "start_time": "2021-10-25T00:30:26.401747Z"
    }
   },
   "source": [
    "ind = df.loc[(df['lines']=='EM6')|((df['lines']=='6')&(df['station']=='lexington av-53 st (6/E/M)'))].index\n",
    "df.loc[ind, 'lines'] = '6EM'"
   ]
  },
  {
   "cell_type": "markdown",
   "metadata": {
    "ExecuteTime": {
     "end_time": "2021-10-25T00:31:19.237091Z",
     "start_time": "2021-10-25T00:31:17.913984Z"
    }
   },
   "source": [
    "ind = df.loc[df['lines']=='BDFM7'].index\n",
    "df.loc[ind,'lines'] = '7BDFM'"
   ]
  },
  {
   "cell_type": "markdown",
   "metadata": {
    "ExecuteTime": {
     "end_time": "2021-10-25T00:44:10.606751Z",
     "start_time": "2021-10-25T00:44:08.266253Z"
    }
   },
   "source": [
    "ind = df.loc[(df['station']=='park pl (2/3/A/C/E)')&(df['lines']=='23')].index\n",
    "df.loc[ind, 'lines'] = '23ACE'"
   ]
  },
  {
   "cell_type": "code",
   "execution_count": 40,
   "metadata": {
    "ExecuteTime": {
     "end_time": "2021-10-25T04:29:46.099602Z",
     "start_time": "2021-10-25T04:29:42.038860Z"
    }
   },
   "outputs": [],
   "source": [
    "with open('data/turnstile_irt_cleaned.pkl','rb') as f:\n",
    "    df = pkl.load(f)"
   ]
  },
  {
   "cell_type": "code",
   "execution_count": 3,
   "metadata": {
    "ExecuteTime": {
     "end_time": "2021-10-25T00:46:27.139863Z",
     "start_time": "2021-10-25T00:46:24.982537Z"
    }
   },
   "outputs": [
    {
     "name": "stdout",
     "output_type": "stream",
     "text": [
      "42 st bryant pk-5 av (B/D/F/M/7)    473933\n",
      "Name: station, dtype: int64\n",
      "\n",
      "\n",
      "\n",
      "jackson hts-roosevelt av (7/E/F/M/R)    425139\n",
      "Name: station, dtype: int64\n"
     ]
    }
   ],
   "source": [
    "print(df['station'].loc[df['lines']=='7BDFM'].value_counts())\n",
    "print(\"\"\"\n",
    "\n",
    "\"\"\")\n",
    "print(df['station'].loc[df['lines']=='7EFMR'].value_counts())"
   ]
  },
  {
   "cell_type": "code",
   "execution_count": 4,
   "metadata": {
    "ExecuteTime": {
     "end_time": "2021-10-25T00:46:28.602112Z",
     "start_time": "2021-10-25T00:46:27.140850Z"
    },
    "scrolled": false
   },
   "outputs": [
    {
     "data": {
      "text/plain": [
       "['1',\n",
       " '123',\n",
       " '1237ACENQRSW',\n",
       " '123ACE',\n",
       " '123FLM',\n",
       " '1ABCD',\n",
       " '1AC',\n",
       " '1RW',\n",
       " '2',\n",
       " '23',\n",
       " '2345',\n",
       " '2345ACJZ',\n",
       " '2345BDNQR',\n",
       " '2345R',\n",
       " '2345S',\n",
       " '23ACE',\n",
       " '245',\n",
       " '25',\n",
       " '3',\n",
       " '34',\n",
       " '4',\n",
       " '45',\n",
       " '456',\n",
       " '4567S',\n",
       " '456JZ',\n",
       " '456LNQRW',\n",
       " '456NQRW',\n",
       " '4BD',\n",
       " '5',\n",
       " '6',\n",
       " '6BDFQ',\n",
       " '6EM',\n",
       " '6JNQRZW',\n",
       " '7',\n",
       " '7BDFM',\n",
       " '7EFMR',\n",
       " '7NQW']"
      ]
     },
     "execution_count": 4,
     "metadata": {},
     "output_type": "execute_result"
    }
   ],
   "source": [
    "sorted(list(df['lines'].value_counts().index))"
   ]
  },
  {
   "cell_type": "code",
   "execution_count": 45,
   "metadata": {
    "ExecuteTime": {
     "end_time": "2021-10-25T04:33:05.564466Z",
     "start_time": "2021-10-25T04:33:02.407742Z"
    }
   },
   "outputs": [],
   "source": [
    "with open('data/turnstile_irt_cleaned.pkl','wb') as f:\n",
    "    pkl.dump(df, f)"
   ]
  },
  {
   "cell_type": "code",
   "execution_count": 19,
   "metadata": {
    "ExecuteTime": {
     "end_time": "2021-10-25T00:53:53.618002Z",
     "start_time": "2021-10-25T00:53:52.165974Z"
    }
   },
   "outputs": [],
   "source": [
    "trainz = list(df['lines'].value_counts().index)"
   ]
  },
  {
   "cell_type": "code",
   "execution_count": 20,
   "metadata": {
    "ExecuteTime": {
     "end_time": "2021-10-25T00:54:02.617935Z",
     "start_time": "2021-10-25T00:54:02.610932Z"
    }
   },
   "outputs": [],
   "source": [
    "big_trainz = trainz[:9]"
   ]
  },
  {
   "cell_type": "code",
   "execution_count": 21,
   "metadata": {
    "ExecuteTime": {
     "end_time": "2021-10-25T00:54:05.485657Z",
     "start_time": "2021-10-25T00:54:05.474130Z"
    }
   },
   "outputs": [
    {
     "data": {
      "text/plain": [
       "['6', '1', '7', '25', '1237ACENQRSW', '23', '2345ACJZ', '123', '4567S']"
      ]
     },
     "execution_count": 21,
     "metadata": {},
     "output_type": "execute_result"
    }
   ],
   "source": [
    "big_trainz"
   ]
  },
  {
   "cell_type": "code",
   "execution_count": 23,
   "metadata": {
    "ExecuteTime": {
     "end_time": "2021-10-25T00:54:16.142248Z",
     "start_time": "2021-10-25T00:54:16.136618Z"
    }
   },
   "outputs": [],
   "source": [
    "trainz = trainz[9:]"
   ]
  },
  {
   "cell_type": "code",
   "execution_count": 17,
   "metadata": {
    "ExecuteTime": {
     "end_time": "2021-10-25T00:51:26.735163Z",
     "start_time": "2021-10-25T00:51:26.561658Z"
    }
   },
   "outputs": [
    {
     "name": "stdout",
     "output_type": "stream",
     "text": [
      "/c/users/sethk/documents/flatiron/phase5_capstone/mta/mta_service_delays\n"
     ]
    }
   ],
   "source": [
    "!pwd"
   ]
  },
  {
   "cell_type": "code",
   "execution_count": 18,
   "metadata": {
    "ExecuteTime": {
     "end_time": "2021-10-25T00:53:37.246266Z",
     "start_time": "2021-10-25T00:52:28.642422Z"
    }
   },
   "outputs": [],
   "source": [
    "for line in trainz:\n",
    "    df1 = df.loc[df['lines']==line]\n",
    "    df1.to_csv('data/turnstile/{}.csv'.format(line))"
   ]
  },
  {
   "cell_type": "code",
   "execution_count": 35,
   "metadata": {
    "ExecuteTime": {
     "end_time": "2021-10-25T01:15:04.399246Z",
     "start_time": "2021-10-25T01:15:02.953265Z"
    }
   },
   "outputs": [
    {
     "data": {
      "text/plain": [
       "6               3905779\n",
       "1               3775693\n",
       "7               3290417\n",
       "25              2383920\n",
       "1237ACENQRSW    1540999\n",
       "23              1382161\n",
       "2345ACJZ        1370033\n",
       "123             1241094\n",
       "4567S           1064038\n",
       "Name: lines, dtype: int64"
      ]
     },
     "execution_count": 35,
     "metadata": {},
     "output_type": "execute_result"
    }
   ],
   "source": [
    "df['lines'].value_counts()[:9]"
   ]
  },
  {
   "cell_type": "code",
   "execution_count": 38,
   "metadata": {
    "ExecuteTime": {
     "end_time": "2021-10-25T01:22:27.030034Z",
     "start_time": "2021-10-25T01:21:23.345732Z"
    }
   },
   "outputs": [],
   "source": [
    "for line in big_trainz:\n",
    "    df1 = df.loc[df['lines']==line]\n",
    "    if len(df1) < 1600000:\n",
    "        df_first = df1[:800000]\n",
    "        df_second = df1[800000:]\n",
    "        df_first.to_csv('data/turnstile/{}_first.csv'.format(line))\n",
    "        df_second.to_csv('data/turnstile/{}_second.csv'.format(line))\n",
    "    elif len(df1) > 1600000 and len(df1) < 2400000:\n",
    "        df_first = df1[:800000]\n",
    "        df_second = df1[800000:1600000]\n",
    "        df_third = df1[1600000:]\n",
    "        df_first.to_csv('data/turnstile/{}_first.csv'.format(line))\n",
    "        df_second.to_csv('data/turnstile/{}_second.csv'.format(line))\n",
    "        df_third.to_csv('data/turnstile/{}_third.csv'.format(line))\n",
    "    elif len(df1) > 2400000 and len(df1) < 3800000:\n",
    "        df_first = df1[:800000]\n",
    "        df_second = df1[800000:1600000]\n",
    "        df_third = df1[1600000:2400000]\n",
    "        df_fourth = df1[2400000:3200000]\n",
    "        df_fifth = df1[3200000:]\n",
    "        df_first.to_csv('data/turnstile/{}_first.csv'.format(line))\n",
    "        df_second.to_csv('data/turnstile/{}_second.csv'.format(line))\n",
    "        df_third.to_csv('data/turnstile/{}_third.csv'.format(line))\n",
    "        df_fourth.to_csv('data/turnstile/{}_fourth.csv'.format(line))\n",
    "        df_fifth.to_csv('data/turnstile/{}_fifth.csv'.format(line))\n",
    "    else:\n",
    "        df_first = df1[:800000]\n",
    "        df_second = df1[800000:1600000]\n",
    "        df_third = df1[1600000:2400000]\n",
    "        df_fourth = df1[2400000:3200000]\n",
    "        df_fifth = df1[3200000:3800000]\n",
    "        df_sixth = df1[3800000:]\n",
    "        df_first.to_csv('data/turnstile/{}_first.csv'.format(line))\n",
    "        df_second.to_csv('data/turnstile/{}_second.csv'.format(line))\n",
    "        df_third.to_csv('data/turnstile/{}_third.csv'.format(line))\n",
    "        df_fourth.to_csv('data/turnstile/{}_fourth.csv'.format(line))\n",
    "        df_fifth.to_csv('data/turnstile/{}_fifth.csv'.format(line))\n",
    "        df_sixth.to_csv('data/turnstile/{}_sixth.csv'.format(line))"
   ]
  },
  {
   "cell_type": "code",
   "execution_count": 34,
   "metadata": {
    "ExecuteTime": {
     "end_time": "2021-10-25T01:14:43.468652Z",
     "start_time": "2021-10-25T01:14:43.457878Z"
    }
   },
   "outputs": [
    {
     "data": {
      "text/plain": [
       "['6', '1', '7', '25', '1237ACENQRSW', '23', '2345ACJZ', '123', '4567S']"
      ]
     },
     "execution_count": 34,
     "metadata": {},
     "output_type": "execute_result"
    }
   ],
   "source": [
    "big_trainz"
   ]
  },
  {
   "cell_type": "code",
   "execution_count": null,
   "metadata": {},
   "outputs": [],
   "source": [
    "df1 = df.loc[df['train_lines']=='4567s']\n",
    "df_first = df1[:800000]\n",
    "df_second = df1[800000:]\n",
    "# df_third = df1[1600000:]\n",
    "# df_fourth = df1[2400000:]\n",
    "# df_fifth = df1[3200000:3800000]\n",
    "# df_sixth = df1[3800000:]\n",
    "df_first.to_csv('data/turnstile/{}_first.csv'.format(line))\n",
    "df_second.to_csv('data/turnstile/{}_second.csv'.format(line))\n",
    "# df_third.to_csv('data/turnstile/{}_third.csv')\n",
    "# df_fourth.to_csv('data/turnstile/{}_fourth.csv')\n",
    "# df_fifth.to_csv('data/turnstile/{}_fifth.csv')\n",
    "# df_sixth.to_csv('data/turnstile/{}_sixth.csv')"
   ]
  },
  {
   "cell_type": "code",
   "execution_count": null,
   "metadata": {},
   "outputs": [],
   "source": []
  }
 ],
 "metadata": {
  "kernelspec": {
   "display_name": "Python 3",
   "language": "python",
   "name": "python3"
  },
  "language_info": {
   "codemirror_mode": {
    "name": "ipython",
    "version": 3
   },
   "file_extension": ".py",
   "mimetype": "text/x-python",
   "name": "python",
   "nbconvert_exporter": "python",
   "pygments_lexer": "ipython3",
   "version": "3.8.5"
  },
  "toc": {
   "base_numbering": 1,
   "nav_menu": {},
   "number_sections": true,
   "sideBar": true,
   "skip_h1_title": false,
   "title_cell": "Table of Contents",
   "title_sidebar": "Contents",
   "toc_cell": false,
   "toc_position": {},
   "toc_section_display": true,
   "toc_window_display": false
  }
 },
 "nbformat": 4,
 "nbformat_minor": 4
}
