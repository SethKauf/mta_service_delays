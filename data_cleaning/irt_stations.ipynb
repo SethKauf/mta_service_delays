{
 "cells": [
  {
   "cell_type": "code",
   "execution_count": 1,
   "metadata": {
    "ExecuteTime": {
     "end_time": "2021-10-17T06:32:08.259099Z",
     "start_time": "2021-10-17T06:32:08.013102Z"
    }
   },
   "outputs": [],
   "source": [
    "import pandas as pd\n",
    "import pickle as pkl"
   ]
  },
  {
   "cell_type": "code",
   "execution_count": 3,
   "metadata": {
    "ExecuteTime": {
     "end_time": "2021-10-17T06:34:38.845971Z",
     "start_time": "2021-10-17T06:33:12.706096Z"
    }
   },
   "outputs": [],
   "source": [
    "df = pd.read_csv('../../get_data/turnstile/all_df_cleaned.csv')"
   ]
  },
  {
   "cell_type": "code",
   "execution_count": 5,
   "metadata": {
    "ExecuteTime": {
     "end_time": "2021-10-17T06:38:48.437733Z",
     "start_time": "2021-10-17T06:38:39.038409Z"
    }
   },
   "outputs": [],
   "source": [
    "df.drop(['control_area', 'unit', 'scp', 'desc', 'division'], axis=1, inplace=True)"
   ]
  },
  {
   "cell_type": "code",
   "execution_count": 19,
   "metadata": {
    "ExecuteTime": {
     "end_time": "2021-10-17T06:46:30.394725Z",
     "start_time": "2021-10-17T06:46:19.626688Z"
    }
   },
   "outputs": [],
   "source": [
    "df = df.loc[df['train_lines'].str.contains('2')]"
   ]
  },
  {
   "cell_type": "code",
   "execution_count": 9,
   "metadata": {
    "ExecuteTime": {
     "end_time": "2021-10-17T06:42:15.491882Z",
     "start_time": "2021-10-17T06:42:05.698243Z"
    }
   },
   "outputs": [
    {
     "name": "stderr",
     "output_type": "stream",
     "text": [
      "C:\\Users\\sethk\\anaconda3\\envs\\learn-env\\lib\\site-packages\\pandas\\core\\generic.py:5168: SettingWithCopyWarning: \n",
      "A value is trying to be set on a copy of a slice from a DataFrame.\n",
      "Try using .loc[row_indexer,col_indexer] = value instead\n",
      "\n",
      "See the caveats in the documentation: https://pandas.pydata.org/pandas-docs/stable/user_guide/indexing.html#returning-a-view-versus-a-copy\n",
      "  self[name] = value\n"
     ]
    }
   ],
   "source": [
    "df.datetime = pd.to_datetime(df.datetime)"
   ]
  },
  {
   "cell_type": "code",
   "execution_count": 13,
   "metadata": {
    "ExecuteTime": {
     "end_time": "2021-10-17T06:44:39.875592Z",
     "start_time": "2021-10-17T06:44:39.762589Z"
    }
   },
   "outputs": [],
   "source": [
    "df.set_index('datetime', inplace=True)"
   ]
  },
  {
   "cell_type": "code",
   "execution_count": 22,
   "metadata": {
    "ExecuteTime": {
     "end_time": "2021-10-17T06:47:12.006159Z",
     "start_time": "2021-10-17T06:47:12.002156Z"
    }
   },
   "outputs": [],
   "source": [
    "stamp = '2017-12-31'"
   ]
  },
  {
   "cell_type": "code",
   "execution_count": 30,
   "metadata": {
    "ExecuteTime": {
     "end_time": "2021-10-17T06:49:53.772595Z",
     "start_time": "2021-10-17T06:49:53.642849Z"
    }
   },
   "outputs": [
    {
     "data": {
      "text/html": [
       "<div>\n",
       "<style scoped>\n",
       "    .dataframe tbody tr th:only-of-type {\n",
       "        vertical-align: middle;\n",
       "    }\n",
       "\n",
       "    .dataframe tbody tr th {\n",
       "        vertical-align: top;\n",
       "    }\n",
       "\n",
       "    .dataframe thead th {\n",
       "        text-align: right;\n",
       "    }\n",
       "</style>\n",
       "<table border=\"1\" class=\"dataframe\">\n",
       "  <thead>\n",
       "    <tr style=\"text-align: right;\">\n",
       "      <th></th>\n",
       "      <th>Unnamed: 0</th>\n",
       "      <th>station</th>\n",
       "      <th>train_lines</th>\n",
       "      <th>date</th>\n",
       "      <th>time</th>\n",
       "      <th>entries</th>\n",
       "      <th>exits</th>\n",
       "    </tr>\n",
       "    <tr>\n",
       "      <th>datetime</th>\n",
       "      <th></th>\n",
       "      <th></th>\n",
       "      <th></th>\n",
       "      <th></th>\n",
       "      <th></th>\n",
       "      <th></th>\n",
       "      <th></th>\n",
       "    </tr>\n",
       "  </thead>\n",
       "  <tbody>\n",
       "    <tr>\n",
       "      <th>2014-10-11 02:00:00</th>\n",
       "      <td>2547</td>\n",
       "      <td>42 ST-PA BUS TE</td>\n",
       "      <td>ACENQRS1237</td>\n",
       "      <td>10/11/2014</td>\n",
       "      <td>2:00:00</td>\n",
       "      <td>1482531</td>\n",
       "      <td>340879</td>\n",
       "    </tr>\n",
       "    <tr>\n",
       "      <th>2014-10-11 06:00:00</th>\n",
       "      <td>2548</td>\n",
       "      <td>42 ST-PA BUS TE</td>\n",
       "      <td>ACENQRS1237</td>\n",
       "      <td>10/11/2014</td>\n",
       "      <td>6:00:00</td>\n",
       "      <td>1482920</td>\n",
       "      <td>340945</td>\n",
       "    </tr>\n",
       "    <tr>\n",
       "      <th>2014-10-11 10:00:00</th>\n",
       "      <td>2549</td>\n",
       "      <td>42 ST-PA BUS TE</td>\n",
       "      <td>ACENQRS1237</td>\n",
       "      <td>10/11/2014</td>\n",
       "      <td>10:00:00</td>\n",
       "      <td>1483213</td>\n",
       "      <td>341067</td>\n",
       "    </tr>\n",
       "    <tr>\n",
       "      <th>2014-10-11 14:00:00</th>\n",
       "      <td>2550</td>\n",
       "      <td>42 ST-PA BUS TE</td>\n",
       "      <td>ACENQRS1237</td>\n",
       "      <td>10/11/2014</td>\n",
       "      <td>14:00:00</td>\n",
       "      <td>1484077</td>\n",
       "      <td>341252</td>\n",
       "    </tr>\n",
       "    <tr>\n",
       "      <th>2014-10-11 18:00:00</th>\n",
       "      <td>2551</td>\n",
       "      <td>42 ST-PA BUS TE</td>\n",
       "      <td>ACENQRS1237</td>\n",
       "      <td>10/11/2014</td>\n",
       "      <td>18:00:00</td>\n",
       "      <td>1485114</td>\n",
       "      <td>341449</td>\n",
       "    </tr>\n",
       "    <tr>\n",
       "      <th>...</th>\n",
       "      <td>...</td>\n",
       "      <td>...</td>\n",
       "      <td>...</td>\n",
       "      <td>...</td>\n",
       "      <td>...</td>\n",
       "      <td>...</td>\n",
       "      <td>...</td>\n",
       "    </tr>\n",
       "    <tr>\n",
       "      <th>2021-10-08 05:00:00</th>\n",
       "      <td>72804148</td>\n",
       "      <td>FLATBUSH AV-B.C</td>\n",
       "      <td>25</td>\n",
       "      <td>10/8/2021</td>\n",
       "      <td>5:00:00</td>\n",
       "      <td>4601162</td>\n",
       "      <td>5777837</td>\n",
       "    </tr>\n",
       "    <tr>\n",
       "      <th>2021-10-08 09:00:00</th>\n",
       "      <td>72804149</td>\n",
       "      <td>FLATBUSH AV-B.C</td>\n",
       "      <td>25</td>\n",
       "      <td>10/8/2021</td>\n",
       "      <td>9:00:00</td>\n",
       "      <td>4601212</td>\n",
       "      <td>5777852</td>\n",
       "    </tr>\n",
       "    <tr>\n",
       "      <th>2021-10-08 13:00:00</th>\n",
       "      <td>72804150</td>\n",
       "      <td>FLATBUSH AV-B.C</td>\n",
       "      <td>25</td>\n",
       "      <td>10/8/2021</td>\n",
       "      <td>13:00:00</td>\n",
       "      <td>4601229</td>\n",
       "      <td>5777869</td>\n",
       "    </tr>\n",
       "    <tr>\n",
       "      <th>2021-10-08 17:00:00</th>\n",
       "      <td>72804151</td>\n",
       "      <td>FLATBUSH AV-B.C</td>\n",
       "      <td>25</td>\n",
       "      <td>10/8/2021</td>\n",
       "      <td>17:00:00</td>\n",
       "      <td>4601242</td>\n",
       "      <td>5777916</td>\n",
       "    </tr>\n",
       "    <tr>\n",
       "      <th>2021-10-08 21:00:00</th>\n",
       "      <td>72804152</td>\n",
       "      <td>FLATBUSH AV-B.C</td>\n",
       "      <td>25</td>\n",
       "      <td>10/8/2021</td>\n",
       "      <td>21:00:00</td>\n",
       "      <td>4601251</td>\n",
       "      <td>5777948</td>\n",
       "    </tr>\n",
       "  </tbody>\n",
       "</table>\n",
       "<p>11222923 rows × 7 columns</p>\n",
       "</div>"
      ],
      "text/plain": [
       "                     Unnamed: 0          station  train_lines        date  \\\n",
       "datetime                                                                    \n",
       "2014-10-11 02:00:00        2547  42 ST-PA BUS TE  ACENQRS1237  10/11/2014   \n",
       "2014-10-11 06:00:00        2548  42 ST-PA BUS TE  ACENQRS1237  10/11/2014   \n",
       "2014-10-11 10:00:00        2549  42 ST-PA BUS TE  ACENQRS1237  10/11/2014   \n",
       "2014-10-11 14:00:00        2550  42 ST-PA BUS TE  ACENQRS1237  10/11/2014   \n",
       "2014-10-11 18:00:00        2551  42 ST-PA BUS TE  ACENQRS1237  10/11/2014   \n",
       "...                         ...              ...          ...         ...   \n",
       "2021-10-08 05:00:00    72804148  FLATBUSH AV-B.C           25   10/8/2021   \n",
       "2021-10-08 09:00:00    72804149  FLATBUSH AV-B.C           25   10/8/2021   \n",
       "2021-10-08 13:00:00    72804150  FLATBUSH AV-B.C           25   10/8/2021   \n",
       "2021-10-08 17:00:00    72804151  FLATBUSH AV-B.C           25   10/8/2021   \n",
       "2021-10-08 21:00:00    72804152  FLATBUSH AV-B.C           25   10/8/2021   \n",
       "\n",
       "                         time  entries    exits  \n",
       "datetime                                         \n",
       "2014-10-11 02:00:00   2:00:00  1482531   340879  \n",
       "2014-10-11 06:00:00   6:00:00  1482920   340945  \n",
       "2014-10-11 10:00:00  10:00:00  1483213   341067  \n",
       "2014-10-11 14:00:00  14:00:00  1484077   341252  \n",
       "2014-10-11 18:00:00  18:00:00  1485114   341449  \n",
       "...                       ...      ...      ...  \n",
       "2021-10-08 05:00:00   5:00:00  4601162  5777837  \n",
       "2021-10-08 09:00:00   9:00:00  4601212  5777852  \n",
       "2021-10-08 13:00:00  13:00:00  4601229  5777869  \n",
       "2021-10-08 17:00:00  17:00:00  4601242  5777916  \n",
       "2021-10-08 21:00:00  21:00:00  4601251  5777948  \n",
       "\n",
       "[11222923 rows x 7 columns]"
      ]
     },
     "execution_count": 30,
     "metadata": {},
     "output_type": "execute_result"
    }
   ],
   "source": [
    "df"
   ]
  },
  {
   "cell_type": "code",
   "execution_count": 32,
   "metadata": {
    "ExecuteTime": {
     "end_time": "2021-10-17T06:50:02.374982Z",
     "start_time": "2021-10-17T06:50:02.058449Z"
    }
   },
   "outputs": [
    {
     "name": "stderr",
     "output_type": "stream",
     "text": [
      "C:\\Users\\sethk\\anaconda3\\envs\\learn-env\\lib\\site-packages\\pandas\\core\\frame.py:4163: SettingWithCopyWarning: \n",
      "A value is trying to be set on a copy of a slice from a DataFrame\n",
      "\n",
      "See the caveats in the documentation: https://pandas.pydata.org/pandas-docs/stable/user_guide/indexing.html#returning-a-view-versus-a-copy\n",
      "  return super().drop(\n"
     ]
    }
   ],
   "source": [
    "df.drop(['Unnamed: 0', 'train_lines', 'date','time'], axis=1, inplace=True)"
   ]
  },
  {
   "cell_type": "code",
   "execution_count": 62,
   "metadata": {
    "ExecuteTime": {
     "end_time": "2021-10-17T07:06:36.641073Z",
     "start_time": "2021-10-17T07:06:36.610553Z"
    }
   },
   "outputs": [],
   "source": [
    "df.reset_index(inplace=True)"
   ]
  },
  {
   "cell_type": "code",
   "execution_count": 64,
   "metadata": {
    "ExecuteTime": {
     "end_time": "2021-10-17T07:09:47.324538Z",
     "start_time": "2021-10-17T07:09:47.313948Z"
    }
   },
   "outputs": [],
   "source": [
    "first_df = df[:1000000]"
   ]
  },
  {
   "cell_type": "code",
   "execution_count": 65,
   "metadata": {
    "ExecuteTime": {
     "end_time": "2021-10-17T07:09:49.846866Z",
     "start_time": "2021-10-17T07:09:49.825929Z"
    }
   },
   "outputs": [
    {
     "data": {
      "text/html": [
       "<div>\n",
       "<style scoped>\n",
       "    .dataframe tbody tr th:only-of-type {\n",
       "        vertical-align: middle;\n",
       "    }\n",
       "\n",
       "    .dataframe tbody tr th {\n",
       "        vertical-align: top;\n",
       "    }\n",
       "\n",
       "    .dataframe thead th {\n",
       "        text-align: right;\n",
       "    }\n",
       "</style>\n",
       "<table border=\"1\" class=\"dataframe\">\n",
       "  <thead>\n",
       "    <tr style=\"text-align: right;\">\n",
       "      <th></th>\n",
       "      <th>datetime</th>\n",
       "      <th>station</th>\n",
       "      <th>entries</th>\n",
       "      <th>exits</th>\n",
       "    </tr>\n",
       "  </thead>\n",
       "  <tbody>\n",
       "    <tr>\n",
       "      <th>0</th>\n",
       "      <td>2014-10-11 02:00:00</td>\n",
       "      <td>42 ST-PA BUS TE</td>\n",
       "      <td>1482531</td>\n",
       "      <td>340879</td>\n",
       "    </tr>\n",
       "    <tr>\n",
       "      <th>1</th>\n",
       "      <td>2014-10-11 06:00:00</td>\n",
       "      <td>42 ST-PA BUS TE</td>\n",
       "      <td>1482920</td>\n",
       "      <td>340945</td>\n",
       "    </tr>\n",
       "    <tr>\n",
       "      <th>2</th>\n",
       "      <td>2014-10-11 10:00:00</td>\n",
       "      <td>42 ST-PA BUS TE</td>\n",
       "      <td>1483213</td>\n",
       "      <td>341067</td>\n",
       "    </tr>\n",
       "    <tr>\n",
       "      <th>3</th>\n",
       "      <td>2014-10-11 14:00:00</td>\n",
       "      <td>42 ST-PA BUS TE</td>\n",
       "      <td>1484077</td>\n",
       "      <td>341252</td>\n",
       "    </tr>\n",
       "    <tr>\n",
       "      <th>4</th>\n",
       "      <td>2014-10-11 18:00:00</td>\n",
       "      <td>42 ST-PA BUS TE</td>\n",
       "      <td>1485114</td>\n",
       "      <td>341449</td>\n",
       "    </tr>\n",
       "    <tr>\n",
       "      <th>...</th>\n",
       "      <td>...</td>\n",
       "      <td>...</td>\n",
       "      <td>...</td>\n",
       "      <td>...</td>\n",
       "    </tr>\n",
       "    <tr>\n",
       "      <th>999995</th>\n",
       "      <td>2015-06-06 06:00:00</td>\n",
       "      <td>42 ST-PA BUS TE</td>\n",
       "      <td>50332620</td>\n",
       "      <td>16777216</td>\n",
       "    </tr>\n",
       "    <tr>\n",
       "      <th>999996</th>\n",
       "      <td>2015-06-06 10:00:00</td>\n",
       "      <td>42 ST-PA BUS TE</td>\n",
       "      <td>50332620</td>\n",
       "      <td>16777216</td>\n",
       "    </tr>\n",
       "    <tr>\n",
       "      <th>999997</th>\n",
       "      <td>2015-06-06 14:00:00</td>\n",
       "      <td>42 ST-PA BUS TE</td>\n",
       "      <td>50332620</td>\n",
       "      <td>16777216</td>\n",
       "    </tr>\n",
       "    <tr>\n",
       "      <th>999998</th>\n",
       "      <td>2015-06-06 18:00:00</td>\n",
       "      <td>42 ST-PA BUS TE</td>\n",
       "      <td>50332620</td>\n",
       "      <td>16777216</td>\n",
       "    </tr>\n",
       "    <tr>\n",
       "      <th>999999</th>\n",
       "      <td>2015-06-06 22:00:00</td>\n",
       "      <td>42 ST-PA BUS TE</td>\n",
       "      <td>50332620</td>\n",
       "      <td>16777216</td>\n",
       "    </tr>\n",
       "  </tbody>\n",
       "</table>\n",
       "<p>1000000 rows × 4 columns</p>\n",
       "</div>"
      ],
      "text/plain": [
       "                  datetime          station   entries     exits\n",
       "0      2014-10-11 02:00:00  42 ST-PA BUS TE   1482531    340879\n",
       "1      2014-10-11 06:00:00  42 ST-PA BUS TE   1482920    340945\n",
       "2      2014-10-11 10:00:00  42 ST-PA BUS TE   1483213    341067\n",
       "3      2014-10-11 14:00:00  42 ST-PA BUS TE   1484077    341252\n",
       "4      2014-10-11 18:00:00  42 ST-PA BUS TE   1485114    341449\n",
       "...                    ...              ...       ...       ...\n",
       "999995 2015-06-06 06:00:00  42 ST-PA BUS TE  50332620  16777216\n",
       "999996 2015-06-06 10:00:00  42 ST-PA BUS TE  50332620  16777216\n",
       "999997 2015-06-06 14:00:00  42 ST-PA BUS TE  50332620  16777216\n",
       "999998 2015-06-06 18:00:00  42 ST-PA BUS TE  50332620  16777216\n",
       "999999 2015-06-06 22:00:00  42 ST-PA BUS TE  50332620  16777216\n",
       "\n",
       "[1000000 rows x 4 columns]"
      ]
     },
     "execution_count": 65,
     "metadata": {},
     "output_type": "execute_result"
    }
   ],
   "source": [
    "first_df"
   ]
  },
  {
   "cell_type": "code",
   "execution_count": 66,
   "metadata": {
    "ExecuteTime": {
     "end_time": "2021-10-17T07:10:15.509504Z",
     "start_time": "2021-10-17T07:10:15.506502Z"
    }
   },
   "outputs": [],
   "source": [
    "second_df = df[1000000:2000000]"
   ]
  },
  {
   "cell_type": "code",
   "execution_count": 68,
   "metadata": {
    "ExecuteTime": {
     "end_time": "2021-10-17T07:12:10.334894Z",
     "start_time": "2021-10-17T07:12:10.313806Z"
    }
   },
   "outputs": [
    {
     "data": {
      "text/html": [
       "<div>\n",
       "<style scoped>\n",
       "    .dataframe tbody tr th:only-of-type {\n",
       "        vertical-align: middle;\n",
       "    }\n",
       "\n",
       "    .dataframe tbody tr th {\n",
       "        vertical-align: top;\n",
       "    }\n",
       "\n",
       "    .dataframe thead th {\n",
       "        text-align: right;\n",
       "    }\n",
       "</style>\n",
       "<table border=\"1\" class=\"dataframe\">\n",
       "  <thead>\n",
       "    <tr style=\"text-align: right;\">\n",
       "      <th></th>\n",
       "      <th>datetime</th>\n",
       "      <th>station</th>\n",
       "      <th>entries</th>\n",
       "      <th>exits</th>\n",
       "    </tr>\n",
       "  </thead>\n",
       "  <tbody>\n",
       "    <tr>\n",
       "      <th>0</th>\n",
       "      <td>2014-10-11 02:00:00</td>\n",
       "      <td>42 ST-PA BUS TE</td>\n",
       "      <td>1482531</td>\n",
       "      <td>340879</td>\n",
       "    </tr>\n",
       "    <tr>\n",
       "      <th>1</th>\n",
       "      <td>2014-10-11 06:00:00</td>\n",
       "      <td>42 ST-PA BUS TE</td>\n",
       "      <td>1482920</td>\n",
       "      <td>340945</td>\n",
       "    </tr>\n",
       "    <tr>\n",
       "      <th>2</th>\n",
       "      <td>2014-10-11 10:00:00</td>\n",
       "      <td>42 ST-PA BUS TE</td>\n",
       "      <td>1483213</td>\n",
       "      <td>341067</td>\n",
       "    </tr>\n",
       "    <tr>\n",
       "      <th>3</th>\n",
       "      <td>2014-10-11 14:00:00</td>\n",
       "      <td>42 ST-PA BUS TE</td>\n",
       "      <td>1484077</td>\n",
       "      <td>341252</td>\n",
       "    </tr>\n",
       "    <tr>\n",
       "      <th>4</th>\n",
       "      <td>2014-10-11 18:00:00</td>\n",
       "      <td>42 ST-PA BUS TE</td>\n",
       "      <td>1485114</td>\n",
       "      <td>341449</td>\n",
       "    </tr>\n",
       "    <tr>\n",
       "      <th>...</th>\n",
       "      <td>...</td>\n",
       "      <td>...</td>\n",
       "      <td>...</td>\n",
       "      <td>...</td>\n",
       "    </tr>\n",
       "    <tr>\n",
       "      <th>11222918</th>\n",
       "      <td>2021-10-08 05:00:00</td>\n",
       "      <td>FLATBUSH AV-B.C</td>\n",
       "      <td>4601162</td>\n",
       "      <td>5777837</td>\n",
       "    </tr>\n",
       "    <tr>\n",
       "      <th>11222919</th>\n",
       "      <td>2021-10-08 09:00:00</td>\n",
       "      <td>FLATBUSH AV-B.C</td>\n",
       "      <td>4601212</td>\n",
       "      <td>5777852</td>\n",
       "    </tr>\n",
       "    <tr>\n",
       "      <th>11222920</th>\n",
       "      <td>2021-10-08 13:00:00</td>\n",
       "      <td>FLATBUSH AV-B.C</td>\n",
       "      <td>4601229</td>\n",
       "      <td>5777869</td>\n",
       "    </tr>\n",
       "    <tr>\n",
       "      <th>11222921</th>\n",
       "      <td>2021-10-08 17:00:00</td>\n",
       "      <td>FLATBUSH AV-B.C</td>\n",
       "      <td>4601242</td>\n",
       "      <td>5777916</td>\n",
       "    </tr>\n",
       "    <tr>\n",
       "      <th>11222922</th>\n",
       "      <td>2021-10-08 21:00:00</td>\n",
       "      <td>FLATBUSH AV-B.C</td>\n",
       "      <td>4601251</td>\n",
       "      <td>5777948</td>\n",
       "    </tr>\n",
       "  </tbody>\n",
       "</table>\n",
       "<p>11222923 rows × 4 columns</p>\n",
       "</div>"
      ],
      "text/plain": [
       "                    datetime          station  entries    exits\n",
       "0        2014-10-11 02:00:00  42 ST-PA BUS TE  1482531   340879\n",
       "1        2014-10-11 06:00:00  42 ST-PA BUS TE  1482920   340945\n",
       "2        2014-10-11 10:00:00  42 ST-PA BUS TE  1483213   341067\n",
       "3        2014-10-11 14:00:00  42 ST-PA BUS TE  1484077   341252\n",
       "4        2014-10-11 18:00:00  42 ST-PA BUS TE  1485114   341449\n",
       "...                      ...              ...      ...      ...\n",
       "11222918 2021-10-08 05:00:00  FLATBUSH AV-B.C  4601162  5777837\n",
       "11222919 2021-10-08 09:00:00  FLATBUSH AV-B.C  4601212  5777852\n",
       "11222920 2021-10-08 13:00:00  FLATBUSH AV-B.C  4601229  5777869\n",
       "11222921 2021-10-08 17:00:00  FLATBUSH AV-B.C  4601242  5777916\n",
       "11222922 2021-10-08 21:00:00  FLATBUSH AV-B.C  4601251  5777948\n",
       "\n",
       "[11222923 rows x 4 columns]"
      ]
     },
     "execution_count": 68,
     "metadata": {},
     "output_type": "execute_result"
    }
   ],
   "source": [
    "df"
   ]
  },
  {
   "cell_type": "code",
   "execution_count": 70,
   "metadata": {
    "ExecuteTime": {
     "end_time": "2021-10-17T07:13:35.599635Z",
     "start_time": "2021-10-17T07:13:35.594188Z"
    }
   },
   "outputs": [],
   "source": [
    "third_df = df[2000000:3000000]"
   ]
  },
  {
   "cell_type": "code",
   "execution_count": 71,
   "metadata": {
    "ExecuteTime": {
     "end_time": "2021-10-17T07:15:10.402449Z",
     "start_time": "2021-10-17T07:15:10.282573Z"
    }
   },
   "outputs": [],
   "source": [
    "fourth_df = df[3000000:4000000]\n",
    "fifth_df = df[4000000:5000000]\n",
    "sixth_df = df[5000000:6000000]\n",
    "seventh_df = df[6000000:7000000]\n",
    "eighth_df = df[7000000:8000000]\n",
    "ninth_df = df[8000000:9000000]\n",
    "tenth_df = df[9000000:10000000]\n",
    "eleventh_df = df[10000000:11000000]\n",
    "rest = df[11000000:]"
   ]
  },
  {
   "cell_type": "code",
   "execution_count": 72,
   "metadata": {
    "ExecuteTime": {
     "end_time": "2021-10-17T07:15:40.669797Z",
     "start_time": "2021-10-17T07:15:13.369573Z"
    }
   },
   "outputs": [],
   "source": [
    "first_df.to_csv('2_line/first_2_line.csv')\n",
    "second_df.to_csv('2_line/second_2_line.csv')\n",
    "third_df.to_csv('2_line/third_2_line.csv')\n",
    "fourth_df.to_csv('2_line/fourth_2_line.csv')\n",
    "fifth_df.to_csv('2_line/fifth_2_line.csv')\n",
    "sixth_df.to_csv('2_line/sixth_2_line.csv')\n",
    "seventh_df.to_csv('2_line/seventh_2_line.csv')\n",
    "eighth_df.to_csv('2_line/eighth_2_line.csv')\n",
    "ninth_df.to_csv('2_line/ninth_2_line.csv')\n",
    "tenth_df.to_csv('2_line/tenth_2_line.csv')\n",
    "eleventh_df.to_csv('2_line/eleventh_2_line.csv')\n",
    "rest.to_csv('2_line/rest_2_line.csv')"
   ]
  },
  {
   "cell_type": "code",
   "execution_count": 69,
   "metadata": {
    "ExecuteTime": {
     "end_time": "2021-10-17T07:12:39.982788Z",
     "start_time": "2021-10-17T07:12:39.818574Z"
    }
   },
   "outputs": [
    {
     "name": "stdout",
     "output_type": "stream",
     "text": [
      "/c/users/sethk/documents/flatiron/phase5_capstone/mta/mta_service_delays/data_cleaning\n"
     ]
    }
   ],
   "source": [
    "!pwd"
   ]
  }
 ],
 "metadata": {
  "kernelspec": {
   "display_name": "Python 3",
   "language": "python",
   "name": "python3"
  },
  "language_info": {
   "codemirror_mode": {
    "name": "ipython",
    "version": 3
   },
   "file_extension": ".py",
   "mimetype": "text/x-python",
   "name": "python",
   "nbconvert_exporter": "python",
   "pygments_lexer": "ipython3",
   "version": "3.8.5"
  },
  "toc": {
   "base_numbering": 1,
   "nav_menu": {},
   "number_sections": true,
   "sideBar": true,
   "skip_h1_title": false,
   "title_cell": "Table of Contents",
   "title_sidebar": "Contents",
   "toc_cell": false,
   "toc_position": {},
   "toc_section_display": true,
   "toc_window_display": false
  }
 },
 "nbformat": 4,
 "nbformat_minor": 4
}
