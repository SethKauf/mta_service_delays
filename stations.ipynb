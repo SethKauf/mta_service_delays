{
 "cells": [
  {
   "cell_type": "markdown",
   "metadata": {},
   "source": [
    "# Import Libraries/Data"
   ]
  },
  {
   "cell_type": "code",
   "execution_count": 1,
   "metadata": {
    "ExecuteTime": {
     "end_time": "2021-11-11T16:42:17.082698Z",
     "start_time": "2021-11-11T16:42:16.441654Z"
    }
   },
   "outputs": [],
   "source": [
    "import pandas as pd\n",
    "import pickle as pkl\n",
    "import warnings\n",
    "pd.set_option('display.max_columns',None)\n",
    "pd.set_option('display.max_rows',600)"
   ]
  },
  {
   "cell_type": "code",
   "execution_count": 2,
   "metadata": {
    "ExecuteTime": {
     "end_time": "2021-11-11T16:42:17.162716Z",
     "start_time": "2021-11-11T16:42:17.083699Z"
    }
   },
   "outputs": [],
   "source": [
    "with open('data/backup_data.pkl','rb') as f:\n",
    "    df = pkl.load(f)\n",
    "df_r = pd.read_csv('data/ridership.csv')"
   ]
  },
  {
   "cell_type": "code",
   "execution_count": 3,
   "metadata": {
    "ExecuteTime": {
     "end_time": "2021-11-11T16:42:17.242734Z",
     "start_time": "2021-11-11T16:42:17.163717Z"
    }
   },
   "outputs": [],
   "source": [
    "df['message_lower'] = df['message_lower'].str.replace('.','', regex=True)"
   ]
  },
  {
   "cell_type": "code",
   "execution_count": 4,
   "metadata": {
    "ExecuteTime": {
     "end_time": "2021-11-11T16:42:17.306748Z",
     "start_time": "2021-11-11T16:42:17.246735Z"
    }
   },
   "outputs": [],
   "source": [
    "df['message_lower'] = df['message_lower'].str.replace(' ave ',' av ',regex=True)"
   ]
  },
  {
   "cell_type": "code",
   "execution_count": 5,
   "metadata": {
    "ExecuteTime": {
     "end_time": "2021-11-11T16:42:17.321752Z",
     "start_time": "2021-11-11T16:42:17.307749Z"
    }
   },
   "outputs": [],
   "source": [
    "def add_str(list, str):\n",
    "    str += '{0}'\n",
    "    list = [str.format(i) for i in list]\n",
    "    return list\n",
    "\n",
    "def get_one(value):\n",
    "    if value is True:\n",
    "        return 1\n",
    "    else:\n",
    "        return 0\n",
    "    \n",
    "def become_one(one):\n",
    "    if one >= 1:\n",
    "        return 1\n",
    "    else:\n",
    "        return 0"
   ]
  },
  {
   "cell_type": "code",
   "execution_count": 6,
   "metadata": {
    "ExecuteTime": {
     "end_time": "2021-11-11T16:42:17.336755Z",
     "start_time": "2021-11-11T16:42:17.322753Z"
    }
   },
   "outputs": [],
   "source": [
    "df_r.drop('Unnamed: 0', axis=1,inplace=True)"
   ]
  },
  {
   "cell_type": "markdown",
   "metadata": {},
   "source": [
    "# Set stations for each line"
   ]
  },
  {
   "cell_type": "code",
   "execution_count": 7,
   "metadata": {
    "ExecuteTime": {
     "end_time": "2021-11-11T16:42:17.351759Z",
     "start_time": "2021-11-11T16:42:17.337756Z"
    }
   },
   "outputs": [
    {
     "data": {
      "text/plain": [
       "'\\nVan Cortlandt and 242 St are the same\\n\\n225 st and marble hill are the same\\n\\n116 st and columbia u are the same\\n\\n110 st, cathedral pk and cathedral park are the same\\n\\n59 st and columbus are the same\\n\\ntimes sq and 42 st are the same\\n\\n34 st and penn sta are the same\\n\\nferry, south f and south ferry are the same\\n'"
      ]
     },
     "execution_count": 7,
     "metadata": {},
     "output_type": "execute_result"
    }
   ],
   "source": [
    "stations_1 = ['van cortlandt','cortlandt','242','238','231','225','marble hill','215','207','dyckman',\n",
    "              '191','181','168','157 st','145 st','137','125','116 st','columbia u',\n",
    "              '110','cathedral pk','cathedral park','103','96','86','79','72','66','59', 'columbus',\n",
    "              '50','times sq','42','34','penn sta','28 st','23 st','18 st','14 st','christopher st','houston st',\n",
    "              'canal','franklin st','chambers st','wtc','rector st','south f']\n",
    "\n",
    "\"\"\"\n",
    "Van Cortlandt and 242 St are the same\n",
    "\n",
    "225 st and marble hill are the same\n",
    "\n",
    "116 st and columbia u are the same\n",
    "\n",
    "110 st, cathedral pk and cathedral park are the same\n",
    "\n",
    "59 st and columbus are the same\n",
    "\n",
    "times sq and 42 st are the same\n",
    "\n",
    "34 st and penn sta are the same\n",
    "\n",
    "ferry, south f and south ferry are the same\n",
    "\"\"\""
   ]
  },
  {
   "cell_type": "code",
   "execution_count": 8,
   "metadata": {
    "ExecuteTime": {
     "end_time": "2021-11-11T16:42:17.367762Z",
     "start_time": "2021-11-11T16:42:17.352759Z"
    }
   },
   "outputs": [
    {
     "data": {
      "text/plain": [
       "'\\n241 st and wakefield are the same\\n\\nwest farms sq and e tremont are the same\\n\\n3 av- and 3 av - are same (3 av-149 st)\\n\\n149 st-grand c, 149 st - grand c, 149 st grand c, and grand co are the same\\n\\ncentral p and 110 st are the same\\n\\ntimes sq and 42 st are the same\\n\\n34 st and penn sta are the same\\n\\neastern p and museum are the same\\n\\nflatbush av and brooklyn c are the same\\n\\n'"
      ]
     },
     "execution_count": 8,
     "metadata": {},
     "output_type": "execute_result"
    }
   ],
   "source": [
    "stations_2 = ['241','wakefield', 'nereid','233','225','219','gun hill','burke av','allerton av','pelham p','bx park e',\n",
    "              'e 180','174','freeman','simpson','intervale av','prospect av','jackson','west farms', 'e tremont',\n",
    "              'grand co','149 st-grand c', '149 st - grand c', '149 st grand c',\n",
    "              '135','125','116','central p', '110','96','72','times sq','42','34', '3 av-', '3 av -',\n",
    "              'penn sta','14 st','chambers','park pl','fulton','wall st','clark','borough hall','hoyt','nevins','atlantic av',\n",
    "              'bergen st','grand army','eastern p','museum', 'franklin av', 'president st','sterling st',\n",
    "              'winthrop st','church','beverly','newkirk av','flatbush av']\n",
    "\n",
    "\"\"\"\n",
    "241 st and wakefield are the same\n",
    "\n",
    "west farms sq and e tremont are the same\n",
    "\n",
    "3 av- and 3 av - are same (3 av-149 st)\n",
    "\n",
    "149 st-grand c, 149 st - grand c, 149 st grand c, and grand co are the same\n",
    "\n",
    "central p and 110 st are the same\n",
    "\n",
    "times sq and 42 st are the same\n",
    "\n",
    "34 st and penn sta are the same\n",
    "\n",
    "eastern p and museum are the same\n",
    "\n",
    "flatbush av and brooklyn c are the same\n",
    "\n",
    "\"\"\""
   ]
  },
  {
   "cell_type": "code",
   "execution_count": 9,
   "metadata": {
    "ExecuteTime": {
     "end_time": "2021-11-11T16:42:17.382766Z",
     "start_time": "2021-11-11T16:42:17.368763Z"
    }
   },
   "outputs": [
    {
     "data": {
      "text/plain": [
       "'\\n148 st and harlem are the same\\n\\ncentral p and 110 st are the same\\n\\ntimes sq and 42 st are the same\\n\\n34 st and penn sta are the same\\n\\neastern p and museum are the same\\n\\ncrown heights, crown hts and utica av are the same\\n\\n'"
      ]
     },
     "execution_count": 9,
     "metadata": {},
     "output_type": "execute_result"
    }
   ],
   "source": [
    "stations_3 = ['148', 'harlem','145','135','125','116','central p', '110 st','96','72','times sq','42',\n",
    "              '34','penn sta','14 st','chambers','park pl','fulton','wall st','clark','borough hall',\n",
    "              'hoyt','nevins','atlantic av', 'bergen st','grand army','eastern p', 'museum','franklin av',\n",
    "              'nostrand av','kingston av','crown heights','sutter av','utica av',\n",
    "             'saratoga av','rockaway av','junius st','pennsylvania av','van siclen','new lots']\n",
    "\n",
    "\"\"\"\n",
    "148 st and harlem are the same\n",
    "\n",
    "central p and 110 st are the same\n",
    "\n",
    "times sq and 42 st are the same\n",
    "\n",
    "34 st and penn sta are the same\n",
    "\n",
    "eastern p and museum are the same\n",
    "\n",
    "crown heights, crown hts and utica av are the same\n",
    "\n",
    "\"\"\""
   ]
  },
  {
   "cell_type": "code",
   "execution_count": 10,
   "metadata": {
    "ExecuteTime": {
     "end_time": "2021-11-11T16:42:17.398769Z",
     "start_time": "2021-11-11T16:42:17.383766Z"
    }
   },
   "outputs": [
    {
     "data": {
      "text/plain": [
       "'\\nmt eden and mount eden are same\\n\\n138 st-grand concourse and 138 st - grand concourse are same\\n\\ngrand central and 42 st are the same\\n\\n14 st and union sq are the same\\n\\ncrown heights, crown hts and utica av are same\\n\\nbrooklyn br, city h, and bklyn br are the same\\n\\n'"
      ]
     },
     "execution_count": 10,
     "metadata": {},
     "output_type": "execute_result"
    }
   ],
   "source": [
    "stations_4 = ['woodlawn','moshulu','bedford p', 'kingsbridge','fordham','183','burnside','176',\n",
    "             'mt eden', 'mount eden', '170','167','161','125','86','59','grand central','utica av',\n",
    "              '42', '14 st','union sq','bklyn br','fulton','wall st','149','138','brooklyn br', 'city h',\n",
    "              'bowling green','borough hall','nevins','atlantic av','franklin av','crown heights','lexington']\n",
    "\n",
    "\"\"\"\n",
    "mt eden and mount eden are same\n",
    "\n",
    "138 st-grand concourse and 138 st - grand concourse are same\n",
    "\n",
    "grand central and 42 st are the same\n",
    "\n",
    "14 st and union sq are the same\n",
    "\n",
    "crown heights, crown hts and utica av are same\n",
    "\n",
    "brooklyn br, city h, and bklyn br are the same\n",
    "\n",
    "\"\"\""
   ]
  },
  {
   "cell_type": "code",
   "execution_count": 11,
   "metadata": {
    "ExecuteTime": {
     "end_time": "2021-11-11T16:42:17.414773Z",
     "start_time": "2021-11-11T16:42:17.399771Z"
    }
   },
   "outputs": [
    {
     "data": {
      "text/plain": [
       "'\\nwest farms and e tremont are the same\\n\\n3 av- and 3 av - are same (3 av-149 st)\\n\\n149 st-grand concourse, 149 st - grand concourse, 149 st grand concourse are same\\n\\n138 st, 138 st-grand concourse and 138 st - grand concourse are the same\\n\\ngrand central and 42 st are the same\\n\\natlantic av and barclays are same\\n\\n4/5/6 59 st is different from 1 59 st columbus circle\\n\\nflatbush av and brooklyn c are the same\\n\\ngun hill rd and pelham pkwy have to be done separately\\n\\nbrooklyn br, city h, and bklyn br are the same\\n\\n'"
      ]
     },
     "execution_count": 11,
     "metadata": {},
     "output_type": "execute_result"
    }
   ],
   "source": [
    "stations_5 = ['eastchester','baychester','morris p','e 180','west farms','e tremont','174','freeman',\n",
    "             'simpson','intervale av','prospect av','jackson','3 av-149','nereid','233',\n",
    "              '149 st-grand c', '149 st - grand c', '149 st grand c','brooklyn br', 'city h',\n",
    "              '225','219','burke av','allerton av','bronx p','138','138 st-grand c', '138 st - grand c',\n",
    "             '125','86 st','59','grand central','42 st','14 st','union sq','bklyn br','fulton','wall st',\n",
    "             'bowling green','borough hall','nevins','atlantic av','franklin av','president st',\n",
    "              'sterling','winthrop','church','beverly','newkirk av','flatbush av','lexington']\n",
    "\n",
    "\"\"\"\n",
    "west farms and e tremont are the same\n",
    "\n",
    "3 av- and 3 av - are same (3 av-149 st)\n",
    "\n",
    "149 st-grand concourse, 149 st - grand concourse, 149 st grand concourse are same\n",
    "\n",
    "138 st, 138 st-grand concourse and 138 st - grand concourse are the same\n",
    "\n",
    "grand central and 42 st are the same\n",
    "\n",
    "atlantic av and barclays are same\n",
    "\n",
    "4/5/6 59 st is different from 1 59 st columbus circle\n",
    "\n",
    "flatbush av and brooklyn c are the same\n",
    "\n",
    "gun hill rd and pelham pkwy have to be done separately\n",
    "\n",
    "brooklyn br, city h, and bklyn br are the same\n",
    "\n",
    "\"\"\""
   ]
  },
  {
   "cell_type": "code",
   "execution_count": 12,
   "metadata": {
    "ExecuteTime": {
     "end_time": "2021-11-11T16:42:17.430776Z",
     "start_time": "2021-11-11T16:42:17.415773Z"
    }
   },
   "outputs": [],
   "source": [
    "stations_25 = ['gun hill','pelham p']\n",
    "stations_5n2 = ['gun hill','pelham p']"
   ]
  },
  {
   "cell_type": "code",
   "execution_count": 13,
   "metadata": {
    "ExecuteTime": {
     "end_time": "2021-11-11T16:42:17.446780Z",
     "start_time": "2021-11-11T16:42:17.431777Z"
    }
   },
   "outputs": [
    {
     "data": {
      "text/plain": [
       "'\\nwestchester and e tremont are the same\\n\\n3 av 138 st,3 av-138 st, 3 av - 138 st, 3 av- 138 st, and 3 av -138 st are same\\n\\n14 st and union sq are the same\\n\\ndifferent 96 from 1/2/3\\n\\ndifferent 86 from 1\\n\\ndifferent 28 from 1\\n\\ndifferent 23 from 1\\n\\ndifferent canal from 1\\n\\ne tremont and east tremont are the same\\n\\ne 143 and east 143 are the same\\n\\ne 149 and east 149 are the same\\n\\n51 st in stations_em6\\n\\nbrooklyn br, city h, and bklyn br are the same\\n'"
      ]
     },
     "execution_count": 13,
     "metadata": {},
     "output_type": "execute_result"
    }
   ],
   "source": [
    "stations_6 = ['pelham b','buhre','middletown','westchester','e tremont','east tremont','zerega','castle hill','parkchester',\n",
    "              'st lawrence','morrison','elder','whitlock','hunts p','longwood av','east 149','e 149','brooklyn br', 'city h',\n",
    "              'east 143','e 143','cypress','brook', '3 av-138','3 av 138','125','116','110', '103','96','42',\n",
    "              '86 st','77','68','59','bleecker','broadway','lafay','bway','grand central','33','28 st',\n",
    "              '23 st','14 st','union sq','astor','bleeker','spring st','canal','bklyn br']\n",
    "\n",
    "\"\"\"\n",
    "westchester and e tremont are the same\n",
    "\n",
    "3 av 138 st,3 av-138 st, 3 av - 138 st, 3 av- 138 st, and 3 av -138 st are same\n",
    "\n",
    "14 st and union sq are the same\n",
    "\n",
    "different 96 from 1/2/3\n",
    "\n",
    "different 86 from 1\n",
    "\n",
    "different 28 from 1\n",
    "\n",
    "different 23 from 1\n",
    "\n",
    "different canal from 1\n",
    "\n",
    "e tremont and east tremont are the same\n",
    "\n",
    "e 143 and east 143 are the same\n",
    "\n",
    "e 149 and east 149 are the same\n",
    "\n",
    "51 st in stations_em6\n",
    "\n",
    "brooklyn br, city h, and bklyn br are the same\n",
    "\"\"\""
   ]
  },
  {
   "cell_type": "code",
   "execution_count": 14,
   "metadata": {
    "ExecuteTime": {
     "end_time": "2021-11-11T16:42:17.462784Z",
     "start_time": "2021-11-11T16:42:17.447781Z"
    }
   },
   "outputs": [
    {
     "data": {
      "text/plain": [
       "'\\n42, bryant and 5 av are the same\\n\\n42 and grand central are the same\\n\\n42 and times sq are the same\\n\\n34 st h, 34 st-h, 34 st- h, 34 st - h are the same\\n\\n40 st and 40 lowery st are the same\\n\\n33 st and rawson are the same\\n\\nqnsboro pl and queensboro pl are the same\\n\\ncourt sq will be in stations_egm7\\n'"
      ]
     },
     "execution_count": 14,
     "metadata": {},
     "output_type": "execute_result"
    }
   ],
   "source": [
    "stations_7 = ['flushing', 'mets','111','103','junction b', '90','82','74','69',\n",
    "             '61','52','46','40','33','rawson','qnsboro pl','queensboro pl','34 st h','34 st-h','34 st- h', 'jackson h',\n",
    "              '34 st - h','hunters p','vernon b','grand central','42','5 av','times sq','bryant','jackson av','roosevelt']\n",
    "\n",
    "\"\"\"\n",
    "42, bryant and 5 av are the same\n",
    "\n",
    "42 and grand central are the same\n",
    "\n",
    "42 and times sq are the same\n",
    "\n",
    "34 st h, 34 st-h, 34 st- h, 34 st - h are the same\n",
    "\n",
    "40 st and 40 lowery st are the same\n",
    "\n",
    "33 st and rawson are the same\n",
    "\n",
    "qnsboro pl and queensboro pl are the same\n",
    "\n",
    "court sq will be in stations_egm7\n",
    "\"\"\""
   ]
  },
  {
   "cell_type": "code",
   "execution_count": 15,
   "metadata": {
    "ExecuteTime": {
     "end_time": "2021-11-11T16:42:17.478788Z",
     "start_time": "2021-11-11T16:42:17.463785Z"
    }
   },
   "outputs": [
    {
     "data": {
      "text/plain": [
       "'\\nBoth 42 st\\n'"
      ]
     },
     "execution_count": 15,
     "metadata": {},
     "output_type": "execute_result"
    }
   ],
   "source": [
    "stations_42 = ['times sq','grand central','42 st']\n",
    "\n",
    "\"\"\"\n",
    "Both 42 st\n",
    "\"\"\""
   ]
  },
  {
   "cell_type": "code",
   "execution_count": 16,
   "metadata": {
    "ExecuteTime": {
     "end_time": "2021-11-11T16:42:17.494791Z",
     "start_time": "2021-11-11T16:42:17.479787Z"
    }
   },
   "outputs": [
    {
     "data": {
      "text/plain": [
       "'\\nInwood and 207 are the same\\n\\nDyckman and 200 are the same\\n\\nColumbus and 59 are the same\\n\\nPort Auth and 42 are the same\\n\\nw 4, west 4, wash sq, and washington sq are the same\\n\\nbwy, bdwy j, brdwy j, jctn, junction, and broadway j are the same\\n\\nozone p and lefferts b are the same\\n\\naqueduct n and conduit are the same\\n\\nhoward b and jfk a are the same\\n\\nfar rockaway and mott av are the same\\n\\nrockaway p and beach 116 are the same\\n'"
      ]
     },
     "execution_count": 16,
     "metadata": {},
     "output_type": "execute_result"
    }
   ],
   "source": [
    "stations_a = ['inwood','207', 'dyckman','200', '190','181','175','168','145','125','59','columbus','port auth','42',\n",
    "             '34','penn sta','14 st','w 4','wash sq','west 4','washington sq','canal','chambers','fulton','high',\n",
    "             'jay','hoyt','nostrand','utica','bdwy j','brdwy j','jctn','junction','broadway j','bwy','euclid','grant',\n",
    "             '80','88','rockaway b','104','111','ozone p','lefferts b','aqueduct r','aqueduct n','conduit','howard b',\n",
    "             'jfk a','broad ch','beach 67','beach 60','beach 44','beach 36','beach 25','far rockaway','mott av',\n",
    "             'beach 90','beach 98','beach 105','rockaway p','beach 116']\n",
    "\n",
    "\"\"\"\n",
    "Inwood and 207 are the same\n",
    "\n",
    "Dyckman and 200 are the same\n",
    "\n",
    "Columbus and 59 are the same\n",
    "\n",
    "Port Auth and 42 are the same\n",
    "\n",
    "w 4, west 4, wash sq, and washington sq are the same\n",
    "\n",
    "bwy, bdwy j, brdwy j, jctn, junction, and broadway j are the same\n",
    "\n",
    "ozone p and lefferts b are the same\n",
    "\n",
    "aqueduct n and conduit are the same\n",
    "\n",
    "howard b and jfk a are the same\n",
    "\n",
    "far rockaway and mott av are the same\n",
    "\n",
    "rockaway p and beach 116 are the same\n",
    "\"\"\""
   ]
  },
  {
   "cell_type": "code",
   "execution_count": 17,
   "metadata": {
    "ExecuteTime": {
     "end_time": "2021-11-11T16:42:17.510794Z",
     "start_time": "2021-11-11T16:42:17.495791Z"
    }
   },
   "outputs": [
    {
     "data": {
      "text/plain": [
       "'\\n182 and 183 are the same\\n\\n174 and 175 are the same\\n\\n110 st, cathedral pk and cathedral park are the same\\n\\n81 and museum are the same\\n\\n59 and columbus are the same\\n\\n47 and 47-50 are the same\\n\\n42, bryant and 5 av are the same\\n\\n34 and herald sq are the same\\n\\nw 4, west 4, wash sq, and washington sq are the same\\n\\nbway l, brdwy l, broadway l, and bdwy l are the same\\n\\n7 av (bk) contained in stations_bq\\n\\n7 av (manh) contained in stations_bde\\n'"
      ]
     },
     "execution_count": 17,
     "metadata": {},
     "output_type": "execute_result"
    }
   ],
   "source": [
    "stations_b = ['bedford','kingsbridge','fordham','182','183','tremont','174','175','170','167','161','155','145','135',\n",
    "             '125','116','110','cathedral pk','cathedral park','103','96','86','81','museum','72','59','columbus',\n",
    "             '47-50','47','42','bryant','5 av','34','herald sq','w 4','wash sq','west 4','washington sq',\n",
    "             'bway l','brdwy l','broadway l','bdwy l','grand st','dekalb','atlantic','prospect','church','newkirk',\n",
    "             'kings','sheepshead','brighton']\n",
    "\n",
    "\"\"\"\n",
    "182 and 183 are the same\n",
    "\n",
    "174 and 175 are the same\n",
    "\n",
    "110 st, cathedral pk and cathedral park are the same\n",
    "\n",
    "81 and museum are the same\n",
    "\n",
    "59 and columbus are the same\n",
    "\n",
    "47 and 47-50 are the same\n",
    "\n",
    "42, bryant and 5 av are the same\n",
    "\n",
    "34 and herald sq are the same\n",
    "\n",
    "w 4, west 4, wash sq, and washington sq are the same\n",
    "\n",
    "bway l, brdwy l, broadway l, and bdwy l are the same\n",
    "\n",
    "7 av (bk) contained in stations_bq\n",
    "\n",
    "7 av (manh) contained in stations_bde\n",
    "\"\"\""
   ]
  },
  {
   "cell_type": "code",
   "execution_count": 18,
   "metadata": {
    "ExecuteTime": {
     "end_time": "2021-11-11T16:42:17.526798Z",
     "start_time": "2021-11-11T16:42:17.511795Z"
    }
   },
   "outputs": [
    {
     "data": {
      "text/plain": [
       "'\\n163 and amsterdam are the same\\n\\n110 st, cathedral pk and cathedral park are the same\\n\\n81 and museum are the same\\n\\n59 and columbus are the same\\n\\n42 and Port Auth are the same\\n\\n34 and penn sta are the same\\n\\nw 4, west 4, wash sq, and washington sq are the same\\n\\nbwy, bdwy j, brdwy j, jctn, junction, and broadway j are the same\\n\\n23 st in stations_ce\\n'"
      ]
     },
     "execution_count": 18,
     "metadata": {},
     "output_type": "execute_result"
    }
   ],
   "source": [
    "stations_c = ['168','163','amsterdam','155','145','135','125','116','110','cathedral pk','cathedral park','103',\n",
    "             '96','86','81','museum','72','59','columbus','50','port auth','42','34','penn sta','14 st',\n",
    "              'w 4','wash sq','west 4','washington sq','spring','canal','chambers','fulton','high','jay','hoyt',\n",
    "             'lafayette av','clinton w','franklin av','nostrand','kingston','utica','ralph','rockaway',\n",
    "             'bdwy j','brdwy j','jctn','junction','broadway j','bwy','liberty','van siclen','shepherd','euclid']\n",
    "\n",
    "\"\"\"\n",
    "163 and amsterdam are the same\n",
    "\n",
    "110 st, cathedral pk and cathedral park are the same\n",
    "\n",
    "81 and museum are the same\n",
    "\n",
    "59 and columbus are the same\n",
    "\n",
    "42 and Port Auth are the same\n",
    "\n",
    "34 and penn sta are the same\n",
    "\n",
    "w 4, west 4, wash sq, and washington sq are the same\n",
    "\n",
    "bwy, bdwy j, brdwy j, jctn, junction, and broadway j are the same\n",
    "\n",
    "23 st in stations_ce\n",
    "\"\"\""
   ]
  },
  {
   "cell_type": "code",
   "execution_count": 19,
   "metadata": {
    "ExecuteTime": {
     "end_time": "2021-11-11T16:42:17.542802Z",
     "start_time": "2021-11-11T16:42:17.527798Z"
    }
   },
   "outputs": [
    {
     "data": {
      "text/plain": [
       "'\\n205 and norwood are the same\\n\\n183 and 182 are the same\\n\\n175 and 174 are the same\\n\\n59 and columbus are the same\\n\\n47 and 47-50 are the same\\n\\n42, bryant and 5 av are the same\\n\\n34 and herald sq are the same\\n\\nw 4, west 4, wash sq, and washington sq are the same\\n\\nbway l, brdwy l, broadway l, and bdwy l are the same\\n\\nbay pk and bay park are the same\\n\\nconey and stillwell are the same\\n\\nfort ham and ft ham are the same\\n'"
      ]
     },
     "execution_count": 19,
     "metadata": {},
     "output_type": "execute_result"
    }
   ],
   "source": [
    "stations_d = ['norwood','205','bedford','kingsbridge','fordham','182','183','tremont','174','175','170','167',\n",
    "             '161','155','145','125','59','columbus', '47-50','47','42','bryant','5 av','34','herald sq','w 4',\n",
    "              'wash sq','west 4','washington sq','bway l','brdwy l','broadway l','bdwy l','grand st','atlantic','36',\n",
    "             '9 av','fort ham','50','55','62','71','79','18 av','20 av','bay pk','bay park','25 av','bay 50',\n",
    "              'ft ham','coney','stillwell']\n",
    "\n",
    "\"\"\"\n",
    "205 and norwood are the same\n",
    "\n",
    "183 and 182 are the same\n",
    "\n",
    "175 and 174 are the same\n",
    "\n",
    "59 and columbus are the same\n",
    "\n",
    "47 and 47-50 are the same\n",
    "\n",
    "42, bryant and 5 av are the same\n",
    "\n",
    "34 and herald sq are the same\n",
    "\n",
    "w 4, west 4, wash sq, and washington sq are the same\n",
    "\n",
    "bway l, brdwy l, broadway l, and bdwy l are the same\n",
    "\n",
    "bay pk and bay park are the same\n",
    "\n",
    "coney and stillwell are the same\n",
    "\n",
    "fort ham and ft ham are the same\n",
    "\"\"\""
   ]
  },
  {
   "cell_type": "code",
   "execution_count": 20,
   "metadata": {
    "ExecuteTime": {
     "end_time": "2021-11-11T16:42:17.558805Z",
     "start_time": "2021-11-11T16:42:17.543803Z"
    }
   },
   "outputs": [
    {
     "data": {
      "text/plain": [
       "'\\njamaica c and parsons are the same\\n\\nsutphin and jfk a are the same\\n\\nforest h and 71 are the same\\n\\nqueens plaza, qns plz, qns plaza and queens plz are the same\\n\\ncourt sq will be in stations_egm7 23 st\\n\\n42 and port auth are the same\\n\\n34 and penn sta are the same\\n\\nw4, wash sq, west 4, and washington sq are the same\\n\\nwtc and world trade center are the same\\n\\n5 av in stations_em6\\n'"
      ]
     },
     "execution_count": 20,
     "metadata": {},
     "output_type": "execute_result"
    }
   ],
   "source": [
    "stations_e = ['jamaica c','parsons','sutphin','jfk a','jamaica v','briarwood','kew gardens','75 av','forest h','71',\n",
    "             'jackson h','roosevelt av','queens pl','qns pl',\n",
    "             'lexington av','50','port auth','42','34','penn sta','14 st','w 4','wash sq','west 4',\n",
    "              'washington sq','spring','canal','wtc','world trade center']\n",
    "\n",
    "\"\"\"\n",
    "jamaica c and parsons are the same\n",
    "\n",
    "sutphin and jfk a are the same\n",
    "\n",
    "forest h and 71 are the same\n",
    "\n",
    "queens plaza, qns plz, qns plaza and queens plz are the same\n",
    "\n",
    "court sq will be in stations_egm7 23 st\n",
    "\n",
    "42 and port auth are the same\n",
    "\n",
    "34 and penn sta are the same\n",
    "\n",
    "w4, wash sq, west 4, and washington sq are the same\n",
    "\n",
    "wtc and world trade center are the same\n",
    "\n",
    "5 av in stations_em6\n",
    "\"\"\""
   ]
  },
  {
   "cell_type": "code",
   "execution_count": 21,
   "metadata": {
    "ExecuteTime": {
     "end_time": "2021-11-11T16:42:17.574809Z",
     "start_time": "2021-11-11T16:42:17.559805Z"
    }
   },
   "outputs": [],
   "source": [
    "stations_bde = ['7 av']\n",
    "stations_ce = ['23 st']"
   ]
  },
  {
   "cell_type": "code",
   "execution_count": 22,
   "metadata": {
    "ExecuteTime": {
     "end_time": "2021-11-11T16:42:17.590812Z",
     "start_time": "2021-11-11T16:42:17.575810Z"
    }
   },
   "outputs": [
    {
     "data": {
      "text/plain": [
       "'\\nforest h and 71 are the same\\n\\n21 st, queensbr and qnsbr are the same\\n\\nlexington av and 63 are the same\\n\\n47-50 and 47 are the same\\n\\n42, bryant and 5 av are the same\\n\\n34 st and herald sq are the same\\n\\nw 4, west 4, wash sq, and washington sq are the same\\n\\nbway l, brdwy l, broadway l, and bdwy l are the same\\n\\ndelancey and essex are the same\\n\\neast br and e br are the same\\n\\n15 st and prospect p are the same\\n\\nfort ham and ft ham are the same\\n\\navenue i and av i are the same\\n\\navenue n and av n are the same\\n\\navenue p and av p are the same\\n\\navenue u and av u are the same\\n\\navenue x and av x are the same\\n\\nwest 8, w 8 and aquarium are the same\\n\\nconey and stillwell are the same\\n\\nsmith in stations_fg\\n\\n4 av 9 st are in stations_fgr\\n'"
      ]
     },
     "execution_count": 22,
     "metadata": {},
     "output_type": "execute_result"
    }
   ],
   "source": [
    "stations_f = ['jamaica','169','parsons','sutphin','briarwood','kew gardens','75 av','forest h','71',\n",
    "              'jackson h','roosevelt av','21 st', 'queensbr','qnsbr','roosevelt i','lexington av',\n",
    "              '63','57','47-50','47','42','bryant','5 av','34','herald sq','23 st','14 st','w 4','wash sq',\n",
    "              'west 4','washington sq','bway l','brdwy l','broadway l','bdwy l','2 av','delancey','essex',\n",
    "              'east br','e br','york','jay','bergen','carroll','7 av','15 st','prospect p',\n",
    "             'fort ham','ft ham','church','ditmas','18 av','avenue i','av i', 'bay p', 'avenue n', 'av n','avenue p',\n",
    "             'av p','kings h','avenue u','av u','avenue x','av x','neptune','west 8','w 8','aquarium','coney','stillwell']\n",
    "\n",
    "\"\"\"\n",
    "forest h and 71 are the same\n",
    "\n",
    "21 st, queensbr and qnsbr are the same\n",
    "\n",
    "lexington av and 63 are the same\n",
    "\n",
    "47-50 and 47 are the same\n",
    "\n",
    "42, bryant and 5 av are the same\n",
    "\n",
    "34 st and herald sq are the same\n",
    "\n",
    "w 4, west 4, wash sq, and washington sq are the same\n",
    "\n",
    "bway l, brdwy l, broadway l, and bdwy l are the same\n",
    "\n",
    "delancey and essex are the same\n",
    "\n",
    "east br and e br are the same\n",
    "\n",
    "15 st and prospect p are the same\n",
    "\n",
    "fort ham and ft ham are the same\n",
    "\n",
    "avenue i and av i are the same\n",
    "\n",
    "avenue n and av n are the same\n",
    "\n",
    "avenue p and av p are the same\n",
    "\n",
    "avenue u and av u are the same\n",
    "\n",
    "avenue x and av x are the same\n",
    "\n",
    "west 8, w 8 and aquarium are the same\n",
    "\n",
    "coney and stillwell are the same\n",
    "\n",
    "smith in stations_fg\n",
    "\n",
    "4 av 9 st are in stations_fgr\n",
    "\"\"\""
   ]
  },
  {
   "cell_type": "code",
   "execution_count": 23,
   "metadata": {
    "ExecuteTime": {
     "end_time": "2021-11-11T16:42:17.606816Z",
     "start_time": "2021-11-11T16:42:17.591813Z"
    }
   },
   "outputs": [
    {
     "data": {
      "text/plain": [
       "'\\ncourt sq is in stations_egm7\\n\\nmyrtle and willoughby are the same\\n\\nbedford and nostrand are the same\\n\\nclinton and washington are the same\\n\\nsmith and 9 st are in stations_fg\\n\\n4 av 9 st are in stations_fgr\\n\\n15 st and prospect p are the same\\n\\nfort ham and ft ham are the same\\n'"
      ]
     },
     "execution_count": 23,
     "metadata": {},
     "output_type": "execute_result"
    }
   ],
   "source": [
    "stations_g = ['21 st','greenpoint','nassau','metropolitan','broadway','flushing','myrtle','willoughby',\n",
    "             'bedford','nostrand','classon','clinton','washington','fulton','hoyt','bergen','carroll',\n",
    "             '7 av','15 st','prospect p','fort ham','ft ham','church']\n",
    "\n",
    "\"\"\"\n",
    "court sq is in stations_egm7\n",
    "\n",
    "myrtle and willoughby are the same\n",
    "\n",
    "bedford and nostrand are the same\n",
    "\n",
    "clinton and washington are the same\n",
    "\n",
    "smith and 9 st are in stations_fg\n",
    "\n",
    "4 av 9 st are in stations_fgr\n",
    "\n",
    "15 st and prospect p are the same\n",
    "\n",
    "fort ham and ft ham are the same\n",
    "\"\"\""
   ]
  },
  {
   "cell_type": "code",
   "execution_count": 24,
   "metadata": {
    "ExecuteTime": {
     "end_time": "2021-11-11T16:42:17.622820Z",
     "start_time": "2021-11-11T16:42:17.607816Z"
    }
   },
   "outputs": [],
   "source": [
    "stations_fg = ['smith','9 st']"
   ]
  },
  {
   "cell_type": "code",
   "execution_count": 25,
   "metadata": {
    "ExecuteTime": {
     "end_time": "2021-11-11T16:42:17.638823Z",
     "start_time": "2021-11-11T16:42:17.623820Z"
    }
   },
   "outputs": [
    {
     "data": {
      "text/plain": [
       "'\\njamaica and parsons are the same\\n\\nsutphin and jfk are the same\\n\\n85 and forest p are the same\\n\\n75 and elderts are the same\\n\\nbwy, bdwy j, brdwy j, jctn, junction, and broadway j are the same\\n\\ndelancey and essex are the same\\n'"
      ]
     },
     "execution_count": 25,
     "metadata": {},
     "output_type": "execute_result"
    }
   ],
   "source": [
    "stations_j = ['jamaica','parsons','sutphin','jfk','121','111','104','woodhaven','85','forest p','75','elderts',\n",
    "             'cypress','crescent','norwood','cleveland','van s','alabama','bdwy j','brdwy j','jctn','junction',\n",
    "              'broadway j','bwy','chauncey','halsey','gates','kosciuszko','myrtle','flushing','lorimer',\n",
    "             'hewes','marcy','delancey','essex','bowery','canal','chambers','fulton','broad st']\n",
    "\n",
    "\"\"\"\n",
    "jamaica and parsons are the same\n",
    "\n",
    "sutphin and jfk are the same\n",
    "\n",
    "85 and forest p are the same\n",
    "\n",
    "75 and elderts are the same\n",
    "\n",
    "bwy, bdwy j, brdwy j, jctn, junction, and broadway j are the same\n",
    "\n",
    "delancey and essex are the same\n",
    "\"\"\""
   ]
  },
  {
   "cell_type": "code",
   "execution_count": 26,
   "metadata": {
    "ExecuteTime": {
     "end_time": "2021-11-11T16:42:17.654827Z",
     "start_time": "2021-11-11T16:42:17.638823Z"
    }
   },
   "outputs": [
    {
     "data": {
      "text/plain": [
       "'\\n14 st and union sq are the same\\n\\nmyrtle and wyckoff are the same\\n\\nbushwick and aberdeen are the same\\n\\nbwy, bdwy j, brdwy j, jctn, junction, and broadway j are the same\\n\\ne 105 and east 105 are the same\\n\\ncanarsie and rockaway p are the same\\n'"
      ]
     },
     "execution_count": 26,
     "metadata": {},
     "output_type": "execute_result"
    }
   ],
   "source": [
    "stations_l = ['8 av','6 av','14 st','union sq','3 av','1 av','bedford','lorimer','graham','grand','montrose',\n",
    "             'morgan','jefferson','dekalb','myrtle','wyckoff','halsey','wilson','bushwick','aberdeen',\n",
    "             'bdwy j','brdwy j','jctn','junction','broadway j','bwy','atlantic','sutter','livonia','new lots',\n",
    "             'e 105','east 105','canarsie','rockaway p']\n",
    "\n",
    "\"\"\"\n",
    "14 st and union sq are the same\n",
    "\n",
    "myrtle and wyckoff are the same\n",
    "\n",
    "bushwick and aberdeen are the same\n",
    "\n",
    "bwy, bdwy j, brdwy j, jctn, junction, and broadway j are the same\n",
    "\n",
    "e 105 and east 105 are the same\n",
    "\n",
    "canarsie and rockaway p are the same\n",
    "\"\"\""
   ]
  },
  {
   "cell_type": "code",
   "execution_count": 27,
   "metadata": {
    "ExecuteTime": {
     "end_time": "2021-11-11T16:42:17.670830Z",
     "start_time": "2021-11-11T16:42:17.655827Z"
    }
   },
   "outputs": [
    {
     "data": {
      "text/plain": [
       "'\\nforest h and 71 are the same\\n\\n63 and rego are the same\\n\\ngrand and newtown are the same\\n\\nqueens plaza, qns plz, qns plaza and queens plz are the same\\n\\ncourt sq is in stations_egm7\\n\\n47-50 and 47 are the same\\n\\n42, bryant and 5 av are the same\\n\\n34 and herald sq are the same\\n\\nw 4, wash sq, west 4, and washington sq are the same\\n\\nbway l, brdwy l, broadway l, and bdwy l are the same\\n\\ndelancey and essex are the same\\n\\nmiddle v and metropolitan are the same\\n'"
      ]
     },
     "execution_count": 27,
     "metadata": {},
     "output_type": "execute_result"
    }
   ],
   "source": [
    "stations_m = ['forest h','71','67','63','rego','woodhaven','grand','newtown','elmhurst','jackson h',\n",
    "              'roosevelt av','65','northern blvd','46','steinway','36','queens pl','qns pl',\n",
    "              'lexington av','47-50','47','42','bryant','34','herald sq','23 st',\n",
    "             '14 st','w 4','wash sq','west 4','washington sq','bway l','brdwy l','broadway l','bdwy l',\n",
    "             'delancey','essex','marcy','hewes','lorimer','flushing','myrtle av','central','knickerbocker',\n",
    "             'wyckoff','seneca','forest av','fresh pond','middle v','metropolitan']\n",
    "\n",
    "\"\"\"\n",
    "forest h and 71 are the same\n",
    "\n",
    "63 and rego are the same\n",
    "\n",
    "grand and newtown are the same\n",
    "\n",
    "queens plaza, qns plz, qns plaza and queens plz are the same\n",
    "\n",
    "court sq is in stations_egm7\n",
    "\n",
    "47-50 and 47 are the same\n",
    "\n",
    "42, bryant and 5 av are the same\n",
    "\n",
    "34 and herald sq are the same\n",
    "\n",
    "w 4, wash sq, west 4, and washington sq are the same\n",
    "\n",
    "bway l, brdwy l, broadway l, and bdwy l are the same\n",
    "\n",
    "delancey and essex are the same\n",
    "\n",
    "middle v and metropolitan are the same\n",
    "\"\"\""
   ]
  },
  {
   "cell_type": "code",
   "execution_count": 28,
   "metadata": {
    "ExecuteTime": {
     "end_time": "2021-11-11T16:42:17.685833Z",
     "start_time": "2021-11-11T16:42:17.673831Z"
    }
   },
   "outputs": [],
   "source": [
    "stations_em = ['5 av','53']\n",
    "stations_em6 = ['lexington','53','51']\n",
    "stations_egm7 = ['court sq','23 st']"
   ]
  },
  {
   "cell_type": "code",
   "execution_count": 29,
   "metadata": {
    "ExecuteTime": {
     "end_time": "2021-11-11T16:42:17.701837Z",
     "start_time": "2021-11-11T16:42:17.686834Z"
    }
   },
   "outputs": [
    {
     "data": {
      "text/plain": [
       "'\\nqnsboro pl and queensboro pl are the same\\n\\ntimes sq and 42 are the same\\n\\n34 and herald sq are the same\\n\\n14 st and union sq are the same\\n\\n59 st (bk) in stations_nr\\n\\nfort ham and ft ham are the same\\n\\navenue u and av u are the same\\n\\nconey and stillwell are the same\\n'"
      ]
     },
     "execution_count": 29,
     "metadata": {},
     "output_type": "execute_result"
    }
   ],
   "source": [
    "stations_n = ['ditmars','astoria b','30','broadway','36 av','39','qnsboro pl','queensboro pl','lexington','5 av',\n",
    "             '57','49','times sq','42','34','herald sq','14 st','union sq','canal','atlantic','36 st','8 av','fort ham',\n",
    "             'ft ham','new utrecht','18 av','20 av','bay p','kings h','avenue u','av u','86','coney','stillwell']\n",
    "\n",
    "\"\"\"\n",
    "qnsboro pl and queensboro pl are the same\n",
    "\n",
    "times sq and 42 are the same\n",
    "\n",
    "34 and herald sq are the same\n",
    "\n",
    "14 st and union sq are the same\n",
    "\n",
    "59 st (bk) in stations_nr\n",
    "\n",
    "fort ham and ft ham are the same\n",
    "\n",
    "avenue u and av u are the same\n",
    "\n",
    "coney and stillwell are the same\n",
    "\"\"\""
   ]
  },
  {
   "cell_type": "code",
   "execution_count": 30,
   "metadata": {
    "ExecuteTime": {
     "end_time": "2021-11-11T16:42:17.716840Z",
     "start_time": "2021-11-11T16:42:17.702838Z"
    }
   },
   "outputs": [
    {
     "data": {
      "text/plain": [
       "'\\nlexington and 63 are the same\\n\\ntimes sq and 42 are the same\\n\\n34 and herald sq are the same\\n\\n14 st and union sq are the same\\n\\n7 av in stations_bq\\n\\navenue h and av h are the same\\n\\navenue j and av j are the same\\n\\navenue m and av m are the same\\n\\navenue u and av u are the same\\n\\nwest 8, w 8 and aquarium are the same\\n\\nconey and stillwell are the same\\n'"
      ]
     },
     "execution_count": 30,
     "metadata": {},
     "output_type": "execute_result"
    }
   ],
   "source": [
    "stations_q = ['96','86','72','lexington','63','57','times sq','42','34','herald sq','14 st','union sq','canal',\n",
    "             'dekalb','atlantic','prospect p','parkside','church','beverly','cortelyou','newkirk','avenue h','av h',\n",
    "             'avenue j','av j','avenue m','av m','kings h','avenue u','av u','neck','sheepshead','brighton','ocean',\n",
    "             'west 8', 'w 8','aquarium','coney','stillwell']\n",
    "\n",
    "\"\"\"\n",
    "lexington and 63 are the same\n",
    "\n",
    "times sq and 42 are the same\n",
    "\n",
    "34 and herald sq are the same\n",
    "\n",
    "14 st and union sq are the same\n",
    "\n",
    "7 av in stations_bq\n",
    "\n",
    "avenue h and av h are the same\n",
    "\n",
    "avenue j and av j are the same\n",
    "\n",
    "avenue m and av m are the same\n",
    "\n",
    "avenue u and av u are the same\n",
    "\n",
    "west 8, w 8 and aquarium are the same\n",
    "\n",
    "coney and stillwell are the same\n",
    "\"\"\""
   ]
  },
  {
   "cell_type": "code",
   "execution_count": 31,
   "metadata": {
    "ExecuteTime": {
     "end_time": "2021-11-11T16:42:17.732844Z",
     "start_time": "2021-11-11T16:42:17.717841Z"
    }
   },
   "outputs": [],
   "source": [
    "stations_bq = ['7 av']"
   ]
  },
  {
   "cell_type": "code",
   "execution_count": 32,
   "metadata": {
    "ExecuteTime": {
     "end_time": "2021-11-11T16:42:17.748848Z",
     "start_time": "2021-11-11T16:42:17.733845Z"
    }
   },
   "outputs": [
    {
     "data": {
      "text/plain": [
       "'\\nforest h and 71 are the same\\n\\n63 and rego are the same\\n\\nqueens plaza, qns plz, qns plaza and queens plz are the same\\n\\n57 and 7 av are the same\\n\\ntimes sq and 42\\n\\n34 and herald sq are the same\\n\\n14 st and union sq\\n\\n8 st and nyu are the same\\n\\nwhitehall and south f are the same\\n\\n4 av\\n\\n9 st\\n\\n59 st (bk) is in stations_nr\\n'"
      ]
     },
     "execution_count": 32,
     "metadata": {},
     "output_type": "execute_result"
    }
   ],
   "source": [
    "stations_r = ['forest h','71','67','63','rego','woodhaven','grand','elmhurst','jackson h',\n",
    "             'roosevelt av','65','northern b','46','steinway','36','queens pl','qns pl','95',\n",
    "             'lexington','5 av','57','7 av','49','times sq','42','34','herald sq','28','23 st','14 st','union sq',\n",
    "             '8 st','nyu','prince','canal','city h','cortlandt','rector','whitehall','south f','court st','jay',\n",
    "             'dekalb','atlantic','union st','4 av','9 st','prospect','25 st','36','45','53','bay ridge av','77',\n",
    "             '86','bay ridge 95 st']\n",
    "\n",
    "\"\"\"\n",
    "forest h and 71 are the same\n",
    "\n",
    "63 and rego are the same\n",
    "\n",
    "queens plaza, qns plz, qns plaza and queens plz are the same\n",
    "\n",
    "57 and 7 av are the same\n",
    "\n",
    "times sq and 42\n",
    "\n",
    "34 and herald sq are the same\n",
    "\n",
    "14 st and union sq\n",
    "\n",
    "8 st and nyu are the same\n",
    "\n",
    "whitehall and south f are the same\n",
    "\n",
    "4 av\n",
    "\n",
    "9 st\n",
    "\n",
    "59 st (bk) is in stations_nr\n",
    "\"\"\""
   ]
  },
  {
   "cell_type": "code",
   "execution_count": 33,
   "metadata": {
    "ExecuteTime": {
     "end_time": "2021-11-11T16:42:17.764287Z",
     "start_time": "2021-11-11T16:42:17.750088Z"
    }
   },
   "outputs": [],
   "source": [
    "stations_fgr = ['4 av','9 st']\n",
    "stations_nr = ['59 st']"
   ]
  },
  {
   "cell_type": "code",
   "execution_count": 34,
   "metadata": {
    "ExecuteTime": {
     "end_time": "2021-11-11T16:42:17.780290Z",
     "start_time": "2021-11-11T16:42:17.765287Z"
    }
   },
   "outputs": [
    {
     "data": {
      "text/plain": [
       "'\\nqnsboro pl and queensboro pl are the same\\n\\ntimes sq and 42 are the same\\n\\n34 and herald sq are the same\\n\\n14 st and union sq are the same\\n\\n8 st and nyu are the same\\n\\nwhitehall and south f are the same\\n'"
      ]
     },
     "execution_count": 34,
     "metadata": {},
     "output_type": "execute_result"
    }
   ],
   "source": [
    "stations_w = ['ditmars','astoria b','30','broadway','36 av','39','qnsboro pl','queensboro pl','lexington','5 av',\n",
    "             '57','49','times sq','42','34','herald sq','14 st','union sq','8 st','nyu','prince','canal','city h',\n",
    "             'cortlandt','rector','whitehall','south f']\n",
    "\n",
    "\"\"\"\n",
    "qnsboro pl and queensboro pl are the same\n",
    "\n",
    "times sq and 42 are the same\n",
    "\n",
    "34 and herald sq are the same\n",
    "\n",
    "14 st and union sq are the same\n",
    "\n",
    "8 st and nyu are the same\n",
    "\n",
    "whitehall and south f are the same\n",
    "\"\"\""
   ]
  },
  {
   "cell_type": "code",
   "execution_count": 35,
   "metadata": {
    "ExecuteTime": {
     "end_time": "2021-11-11T16:42:17.796294Z",
     "start_time": "2021-11-11T16:42:17.781291Z"
    }
   },
   "outputs": [
    {
     "data": {
      "text/plain": [
       "'\\njamaica and parsons are the same\\n\\nsutphin and jfk are the same\\n\\n75 and elderts are the same\\n\\nbdwy j, brdwy j, jctn, junction, broadway j, and bwy are the same\\n\\ndelancey and essex are the same\\n'"
      ]
     },
     "execution_count": 35,
     "metadata": {},
     "output_type": "execute_result"
    }
   ],
   "source": [
    "stations_z = ['jamaica','parsons','sutphin','jfk','121','104','woodhaven','75','elderts','crescent','norwood',\n",
    "             'van siclen','alabama','bdwy j','brdwy j','jctn','junction','broadway j','bwy','chauncey','gates',\n",
    "             'myrtle','marcy','delancey','essex','bowery','canal','chambers','fulton','broad']\n",
    "\n",
    "\"\"\"\n",
    "jamaica and parsons are the same\n",
    "\n",
    "sutphin and jfk are the same\n",
    "\n",
    "75 and elderts are the same\n",
    "\n",
    "bdwy j, brdwy j, jctn, junction, broadway j, and bwy are the same\n",
    "\n",
    "delancey and essex are the same\n",
    "\"\"\""
   ]
  },
  {
   "cell_type": "code",
   "execution_count": 36,
   "metadata": {
    "ExecuteTime": {
     "end_time": "2021-11-11T16:42:17.812297Z",
     "start_time": "2021-11-11T16:42:17.797295Z"
    }
   },
   "outputs": [],
   "source": [
    "stations_frnk = ['franklin av','park p','botanic g','prospect p']"
   ]
  },
  {
   "cell_type": "code",
   "execution_count": 37,
   "metadata": {
    "ExecuteTime": {
     "end_time": "2021-11-11T16:42:17.828301Z",
     "start_time": "2021-11-11T16:42:17.813298Z"
    }
   },
   "outputs": [
    {
     "data": {
      "text/plain": [
       "'\\nrockaway p and beach 116 are the same \\n'"
      ]
     },
     "execution_count": 37,
     "metadata": {},
     "output_type": "execute_result"
    }
   ],
   "source": [
    "stations_rck = ['broad ch','beach 90','beach 98','beach 105','rockaway p','beach 116']\n",
    "\n",
    "\"\"\"\n",
    "rockaway p and beach 116 are the same \n",
    "\"\"\""
   ]
  },
  {
   "cell_type": "markdown",
   "metadata": {},
   "source": [
    "# Creating station delay column"
   ]
  },
  {
   "cell_type": "code",
   "execution_count": 38,
   "metadata": {
    "ExecuteTime": {
     "end_time": "2021-11-11T16:42:17.844305Z",
     "start_time": "2021-11-11T16:42:17.829302Z"
    }
   },
   "outputs": [],
   "source": [
    "station_lookup = (stations_1 + stations_2 + stations_3 + stations_4 + stations_5 + stations_6 + stations_7\n",
    "                  + stations_42 + stations_a + stations_b + stations_c + stations_d + stations_e + stations_f\n",
    "                  + stations_g + stations_j + stations_l + stations_m + stations_n + stations_q + stations_r\n",
    "                  + stations_w + stations_z + stations_frnk + stations_rck + stations_bde + stations_ce\n",
    "                 + stations_egm7 + stations_bq + stations_nr + stations_fgr + stations_em6 + stations_fg)"
   ]
  },
  {
   "cell_type": "code",
   "execution_count": 39,
   "metadata": {
    "ExecuteTime": {
     "end_time": "2021-11-11T16:42:17.860308Z",
     "start_time": "2021-11-11T16:42:17.845305Z"
    }
   },
   "outputs": [],
   "source": [
    "station_lookup_at = add_str(station_lookup,'at ')\n",
    "station_lookup_by = add_str(station_lookup,'by ')\n",
    "station_lookup_of = add_str(station_lookup,'of ')\n",
    "station_lookup_near = add_str(station_lookup,'near ')\n",
    "station_lookup_el = add_str(station_lookup,'entering/leaving ')\n",
    "\n",
    "station_lookup_pre = (station_lookup_at+station_lookup_by+station_lookup_of+station_lookup_near+station_lookup_el)"
   ]
  },
  {
   "cell_type": "code",
   "execution_count": 40,
   "metadata": {
    "ExecuteTime": {
     "end_time": "2021-11-11T16:42:17.876312Z",
     "start_time": "2021-11-11T16:42:17.861309Z"
    }
   },
   "outputs": [],
   "source": [
    "station_lookup_bw = add_str(station_lookup,'between ')\n",
    "station_lookup_and = add_str(station_lookup, ' and ')\n",
    "station_lookup_to = add_str(station_lookup, ' to ')\n",
    "station_lookup_amp = add_str(station_lookup, ' & ')\n",
    "station_lookup_suf = (station_lookup_and + station_lookup_to + station_lookup_amp)"
   ]
  },
  {
   "cell_type": "code",
   "execution_count": 41,
   "metadata": {
    "ExecuteTime": {
     "end_time": "2021-11-11T16:42:49.002567Z",
     "start_time": "2021-11-11T16:42:17.877312Z"
    }
   },
   "outputs": [],
   "source": [
    "df['delayed_stations'] = df['message_lower'].str.extract('({0})'.format('|'.join(station_lookup_pre)))\n",
    "df['delayed_stations'] = df['delayed_stations'].str.replace('of ','')\n",
    "df['delayed_stations'] = df['delayed_stations'].str.replace('at ','')\n",
    "df['delayed_stations'] = df['delayed_stations'].str.replace('by ','')\n",
    "df['delayed_stations'] = df['delayed_stations'].str.replace('near ','')\n",
    "df['delayed_stations'] = df['delayed_stations'].str.replace('entering/leaving ','')"
   ]
  },
  {
   "cell_type": "markdown",
   "metadata": {},
   "source": [
    "## Creating for between stations (not sure on use yet)"
   ]
  },
  {
   "cell_type": "markdown",
   "metadata": {},
   "source": [
    "The problem with the between stations is, it's extremely ambiguous. The way I set them out, they will only be used on rows that do not already have a delayed_station from the previous section, however this doesn't guarantee that it's capturing tunnel delays (and I'm really not about to check 1000 records either).\n",
    "\n",
    "I believe what I will do is take any of the delays in tunnels that occur over x amount of times (5?) and then manually impute on each station, ie from Queens Plaza to Forest Hills, though this itself runs into other issues - for example, those are express stations with local stations between.\n",
    "\n",
    "There's a lot to think about with this \"between_stations\" column, and I intend to figure out what. It might only be ~1000 in a dataset of ~80,000 but who knows the effect it might have."
   ]
  },
  {
   "cell_type": "code",
   "execution_count": 42,
   "metadata": {
    "ExecuteTime": {
     "end_time": "2021-11-11T16:42:49.098596Z",
     "start_time": "2021-11-11T16:42:49.003568Z"
    }
   },
   "outputs": [],
   "source": [
    "df['between_stations_1'] = df['message_lower'].str.extract('({0})'.format('|'.join(station_lookup_bw)))"
   ]
  },
  {
   "cell_type": "code",
   "execution_count": 43,
   "metadata": {
    "ExecuteTime": {
     "end_time": "2021-11-11T16:42:58.121957Z",
     "start_time": "2021-11-11T16:42:49.099597Z"
    }
   },
   "outputs": [],
   "source": [
    "df['between_stations_2'] = df['message_lower'].str.extract('({0})'.format('|'.join(station_lookup_suf)))"
   ]
  },
  {
   "cell_type": "code",
   "execution_count": 44,
   "metadata": {
    "ExecuteTime": {
     "end_time": "2021-11-11T16:42:58.137961Z",
     "start_time": "2021-11-11T16:42:58.122958Z"
    }
   },
   "outputs": [
    {
     "data": {
      "text/plain": [
       "0                              NaN\n",
       "1        between dekalb and church\n",
       "2                              NaN\n",
       "3                              NaN\n",
       "4                              NaN\n",
       "                   ...            \n",
       "79924                          NaN\n",
       "79925                          NaN\n",
       "79926                          NaN\n",
       "79927                          NaN\n",
       "79928                          NaN\n",
       "Name: between_stations, Length: 79929, dtype: object"
      ]
     },
     "execution_count": 44,
     "metadata": {},
     "output_type": "execute_result"
    }
   ],
   "source": [
    "df['between_stations'] = (df['between_stations_1'] + df['between_stations_2'])\n",
    "df['between_stations']"
   ]
  },
  {
   "cell_type": "code",
   "execution_count": 45,
   "metadata": {
    "ExecuteTime": {
     "end_time": "2021-11-11T16:42:58.295672Z",
     "start_time": "2021-11-11T16:42:58.138961Z"
    }
   },
   "outputs": [],
   "source": [
    "ind = df.loc[~df['delayed_stations'].isna()].index"
   ]
  },
  {
   "cell_type": "code",
   "execution_count": 46,
   "metadata": {
    "ExecuteTime": {
     "end_time": "2021-11-11T16:42:58.311675Z",
     "start_time": "2021-11-11T16:42:58.296672Z"
    }
   },
   "outputs": [],
   "source": [
    "df.loc[ind, 'between_stations'] = None"
   ]
  },
  {
   "cell_type": "code",
   "execution_count": 47,
   "metadata": {
    "ExecuteTime": {
     "end_time": "2021-11-11T16:42:58.342683Z",
     "start_time": "2021-11-11T16:42:58.312676Z"
    }
   },
   "outputs": [],
   "source": [
    "df.drop(['between_stations_1','between_stations_2'],axis=1,inplace=True)"
   ]
  },
  {
   "cell_type": "markdown",
   "metadata": {},
   "source": [
    "# Station Location Indexation"
   ]
  },
  {
   "cell_type": "code",
   "execution_count": 48,
   "metadata": {
    "ExecuteTime": {
     "end_time": "2021-11-11T16:42:59.696025Z",
     "start_time": "2021-11-11T16:42:58.343683Z"
    }
   },
   "outputs": [],
   "source": [
    "st_1 = df.loc[df['subject'].str.contains(' 1 ')].index\n",
    "st_2 = df.loc[df['subject'].str.contains(' 2 ')].index\n",
    "st_3 = df.loc[df['subject'].str.contains(' 3 ')].index\n",
    "st_4 = df.loc[df['subject'].str.contains(' 4 ')].index\n",
    "st_5 = df.loc[df['subject'].str.contains(' 5 ')].index\n",
    "st_6 = df.loc[df['subject'].str.contains(' 6 ')].index\n",
    "st_7 = df.loc[df['subject'].str.contains(' 7 ')].index\n",
    "st_42 = df.loc[df['subj_lower'].str.contains('42 st s|42 street s')].index\n",
    "st_a = df.loc[df['subject'].str.contains(' A ')].index\n",
    "st_b = df.loc[df['subject'].str.contains(' B ')].index\n",
    "st_c = df.loc[df['subject'].str.contains(' C ')].index\n",
    "st_d = df.loc[df['subject'].str.contains(' D ')].index\n",
    "st_e = df.loc[df['subject'].str.contains(' E ')].index\n",
    "st_f = df.loc[df['subject'].str.contains(' F ')].index\n",
    "st_g = df.loc[df['subject'].str.contains(' G ')].index\n",
    "st_j = df.loc[df['subject'].str.contains(' J ')].index\n",
    "st_l = df.loc[df['subject'].str.contains(' L ')].index\n",
    "st_m = df.loc[df['subject'].str.contains(' M ')].index\n",
    "st_n = df.loc[df['subject'].str.contains(' N ')].index\n",
    "st_q = df.loc[df['subject'].str.contains(' Q ')].index\n",
    "st_r = df.loc[df['subject'].str.contains(' R ')].index\n",
    "st_w = df.loc[df['subject'].str.contains(' W ')].index\n",
    "st_z = df.loc[df['subject'].str.contains(' Z ')].index\n",
    "st_frnk = df.loc[df['subj_lower'].str.contains('franklin av s')].index\n",
    "st_rck = df.loc[df['subj_lower'].str.contains('rockaway park s')].index\n",
    "\n",
    "st_25 = df.loc[(df['subject'].str.contains(' 2 '))&(df['subject'].str.contains(' 5 '))].index\n",
    "\n",
    "st_5n2 = df.loc[~df['subject'].str.contains(' 2 ')]\n",
    "st_5n2 = st_5n2.loc[st_5n2['subject'].str.contains(' 5 ')].index\n",
    "\n",
    "st_bde = df.loc[(df['subject'].str.contains(' B ')) & (df['subject'].str.contains(' D '))\n",
    "                & (df['subject'].str.contains(' E '))].index\n",
    "\n",
    "st_ce = df.loc[(df['subject'].str.contains(' C ')) & (df['subject'].str.contains(' E '))].index\n",
    "\n",
    "st_egm7 = df.loc[(df['subject'].str.contains(' E ')) & (df['subject'].str.contains(' G '))\n",
    "                 &(df['subject'].str.contains(' M ')) & (df['subj_lower'].str.contains(' 7 '))].index\n",
    "\n",
    "st_bq = df.loc[(df['subject'].str.contains(' B ')) & (df['subject'].str.contains(' Q '))].index\n",
    "st_nr = df.loc[~(df['subject'].str.contains(' 4 ')|(df['subject'].str.contains(' 5 '))|\n",
    "                                                   (df['subject'].str.contains(' 6 ')))]\n",
    "st_nr = df.loc[(df['subject'].str.contains(' N ')) & (df['subject'].str.contains(' R '))].index\n",
    "st_fg = df.loc[(df['subject'].str.contains(' F ')) & (df['subject'].str.contains(' G '))].index\n",
    "st_fgr = df.loc[(df['subject'].str.contains(' F ')) & (df['subject'].str.contains(' G '))\n",
    "                      & (df['subject'].str.contains(' R '))].index\n",
    "\n",
    "st_em = df.loc[~df['subject'].str.contains(' 6 ')]\n",
    "st_em = st_em.loc[(st_em['subject'].str.contains(' E '))&(st_em['subject'].str.contains(' M '))].index\n",
    "\n",
    "st_em6 = df.loc[(df['subject'].str.contains(' E ')) & (df['subject'].str.contains(' M '))\n",
    "                & (df['subj_lower'].str.contains(' 6 '))].index"
   ]
  },
  {
   "cell_type": "code",
   "execution_count": 49,
   "metadata": {
    "ExecuteTime": {
     "end_time": "2021-11-11T16:42:59.712146Z",
     "start_time": "2021-11-11T16:42:59.696898Z"
    }
   },
   "outputs": [],
   "source": [
    "stations = df_r['station']\n",
    "stations = list(stations)"
   ]
  },
  {
   "cell_type": "code",
   "execution_count": 50,
   "metadata": {
    "ExecuteTime": {
     "end_time": "2021-11-11T16:43:00.008385Z",
     "start_time": "2021-11-11T16:42:59.713147Z"
    },
    "scrolled": true
   },
   "outputs": [
    {
     "name": "stderr",
     "output_type": "stream",
     "text": [
      "C:\\Users\\sethk\\anaconda3\\envs\\mta_env\\lib\\site-packages\\IPython\\core\\interactiveshell.py:3361: PerformanceWarning: DataFrame is highly fragmented.  This is usually the result of calling `frame.insert` many times, which has poor performance.  Consider joining all columns at once using pd.concat(axis=1) instead.  To get a de-fragmented frame, use `newframe = frame.copy()`\n",
      "  if (await self.run_code(code, result,  async_=asy)):\n"
     ]
    }
   ],
   "source": [
    "for i in stations:\n",
    "    df.insert(0,i,0)\n",
    "warnings.filterwarnings('ignore')"
   ]
  },
  {
   "cell_type": "markdown",
   "metadata": {},
   "source": [
    "# Train Lines"
   ]
  },
  {
   "cell_type": "markdown",
   "metadata": {},
   "source": [
    "This part is simple yet very, very repetitive. I might move it to another notebook if it takes up too much RAM.\n",
    "\n",
    "Anyways, here's a step-by-step breakdown of what's about to happen for each line in the system, starting with the IRT:\n",
    "\n",
    "1. Run a for-loop on the above station lists which were used to create the delayed_stations.\n",
    "       1a. This for-loop will take each instance of the station as it occurs in df['delayed_stations'] and create it as a \n",
    "       new column with a \"1\" imputed wherever it occurs.\n",
    "       \n",
    "       \n",
    "2. Using our conventional station names list from the MTA ridership info, which has been fully inserted as columns to our df, we will locate each instance of whichever line we are looking at and print it out for an easy copy-paste (I will hash out the for-loop here once I've used it).\n",
    "\n",
    "\n",
    "3. Here comes the not-fun part. I have a sorted list of each station name that was used to create delayed_stations on another otherwise-blank notebook. We go through each and input it into its proper station.\n",
    "\n",
    "\n",
    "4. Once we've done this for every station, we will drop all of the listed stations.\n",
    "\n",
    "\n",
    "5. This is where it gets a little tricky. Once we get passed the 1 train, there will be repeaters, such as Times Square. They will have to add themselves, plus 42 + times sq + etc. again.\n",
    "   \n",
    "   5a. We will apply become_one to every station once we have finished all of the lines.\n",
    "    \n",
    "    \n",
    "This whole process is going to take a while, but the final result will be a detailed account of about 70k station delays in a dataframe of 80k.\n",
    "\n",
    "I will also be \"diverting\" in certain subgroups that aren't straight-forward. For example, the nightmares that are Gun Hill Road on the 5 line and 7 Av on the B line, both of which occur twice on each line as different stations with the exact same name, for some inexplicable reason.\n",
    "\n",
    "Anyways, without any further hesitation, here is my masterpiece:"
   ]
  },
  {
   "cell_type": "markdown",
   "metadata": {},
   "source": [
    "## 1 Train (IRT)"
   ]
  },
  {
   "cell_type": "code",
   "execution_count": 51,
   "metadata": {
    "ExecuteTime": {
     "end_time": "2021-11-11T16:43:02.223653Z",
     "start_time": "2021-11-11T16:43:00.009918Z"
    }
   },
   "outputs": [],
   "source": [
    "for s in stations_1:\n",
    "    delayed = df.loc[st_1]\n",
    "    ind = delayed.loc[delayed['delayed_stations']==s].index\n",
    "    df.loc[ind, '{}'.format(s)] = 1"
   ]
  },
  {
   "cell_type": "code",
   "execution_count": 52,
   "metadata": {
    "ExecuteTime": {
     "end_time": "2021-11-11T16:43:02.239653Z",
     "start_time": "2021-11-11T16:43:02.224653Z"
    }
   },
   "outputs": [],
   "source": [
    "line = df_r.loc[df_r['station'].str.contains('\\(1\\)|1/|/1')]\n",
    "line = list(line['station'])\n",
    "# for l in line:\n",
    "#     print(\"df[\"+\"'\"+\"{}\".format(l)+\"'\"+\"] = \")"
   ]
  },
  {
   "cell_type": "code",
   "execution_count": 53,
   "metadata": {
    "ExecuteTime": {
     "end_time": "2021-11-11T16:43:06.148137Z",
     "start_time": "2021-11-11T16:43:02.240653Z"
    }
   },
   "outputs": [],
   "source": [
    "df['WTC Cortlandt (1)'] = df.loc[:, ['cortlandt','wtc']].sum(axis=1)\n",
    "df['Van Cortlandt Park-242 St (1)'] = (df['van cortlandt'] + df['242'])\n",
    "df['Times Sq-42 St (N/Q/R/W/S/1/2/3/7)/42 St (A/C/E)'] = df.loc[:,['times sq','42']].sum(axis=1)\n",
    "df['South Ferry (1)/Whitehall St (R/W)'] = df['south f']\n",
    "df['Rector St (1)'] = df['rector st']\n",
    "df['Marble Hill-225 St (1)'] = df.loc[:, ['marble hill','225']].sum(axis=1)\n",
    "df['Houston St (1)'] = df['houston st']\n",
    "df['Franklin St (1)'] = df['franklin st']\n",
    "df['Dyckman St (1)'] = df['dyckman']\n",
    "df['Christopher St-Sheridan Sq (1)'] = df['christopher st']\n",
    "df['Chambers St (1/2/3)'] = df['chambers st']\n",
    "df['Cathedral Pkwy-110 St (1)'] = df.loc[:, ['cathedral park','cathedral pk','110']].sum(axis=1)\n",
    "df['Canal St (1)'] = df['canal']\n",
    "df['96 St (1/2/3)'] = df['96']\n",
    "df['86 St (1)'] = df['86']\n",
    "df['79 St (1)'] = df['79']\n",
    "df['72 St (1/2/3)'] = df['72']\n",
    "df['66 St-Lincoln Center (1)'] = df['66']\n",
    "df['59 St-Columbus Circle (A/B/C/D/1)'] = df.loc[:, ['59','columbus']].sum(axis=1)\n",
    "df['50 St (1)'] = df['50']\n",
    "df['34 St-Penn Station (1/2/3)'] = df.loc[:, ['34','penn sta']].sum(axis=1)\n",
    "df['28 St (1)'] = df['28 st']\n",
    "df['238 St (1)'] = df['238']\n",
    "df['231 St (1)'] = df['231']\n",
    "df['23 St (1)'] = df['23 st']\n",
    "df['215 St (1)'] = df['215']\n",
    "df['207 St (1)'] = df['207']\n",
    "df['191 St (1)'] = df['191']\n",
    "df['181 St (1)'] = df['181']\n",
    "df['18 St (1)'] = df['18 st']\n",
    "df['168 St (A/C/1)'] = df['168']\n",
    "df['157 St (1)'] = df['157 st']\n",
    "df['145 St (1)'] = df['145 st']\n",
    "df['14 St (F/M/1/2/3)/6 Av (L)'] = df['14 st']\n",
    "df['137 St-City College (1)'] = df['137']\n",
    "df['125 St (1)'] = df['125']\n",
    "df['116 St-Columbia University (1)'] = df.loc[:, ['116 st','columbia u']].sum(axis=1)\n",
    "df['103 St (1)'] = df['103']"
   ]
  },
  {
   "cell_type": "code",
   "execution_count": 54,
   "metadata": {
    "ExecuteTime": {
     "end_time": "2021-11-11T16:43:11.763718Z",
     "start_time": "2021-11-11T16:43:06.149138Z"
    }
   },
   "outputs": [],
   "source": [
    "for col in stations_1:\n",
    "    df.drop(col,axis=1,inplace=True)"
   ]
  },
  {
   "cell_type": "markdown",
   "metadata": {},
   "source": [
    "## 2 Train (IRT)"
   ]
  },
  {
   "cell_type": "code",
   "execution_count": 55,
   "metadata": {
    "ExecuteTime": {
     "end_time": "2021-11-11T16:43:15.501892Z",
     "start_time": "2021-11-11T16:43:11.764718Z"
    }
   },
   "outputs": [],
   "source": [
    "for s in stations_2:\n",
    "    delayed = df.loc[st_2]\n",
    "    ind = delayed.loc[delayed['delayed_stations']==s].index\n",
    "    df.loc[ind, '{}'.format(s)] = 1"
   ]
  },
  {
   "cell_type": "code",
   "execution_count": 56,
   "metadata": {
    "ExecuteTime": {
     "end_time": "2021-11-11T16:43:15.516895Z",
     "start_time": "2021-11-11T16:43:15.502892Z"
    }
   },
   "outputs": [],
   "source": [
    "line = df_r.loc[df_r['station'].str.contains('\\(2\\)|2/|/2')]\n",
    "line = list(line['station'])\n",
    "# for line in line_2:\n",
    "#     print(\"df[\"+\"'\"+\"{}\".format(l)+\"'\"+\"] = \")"
   ]
  },
  {
   "cell_type": "code",
   "execution_count": 57,
   "metadata": {
    "ExecuteTime": {
     "end_time": "2021-11-11T16:43:19.774030Z",
     "start_time": "2021-11-11T16:43:15.517896Z"
    }
   },
   "outputs": [],
   "source": [
    "df['116 St (2/3)'] = df['116']\n",
    "df['125 St (2/3)'] = df['125']\n",
    "df['135 St (2/3)'] = df['135']\n",
    "df['14 St (F/M/1/2/3)/6 Av (L)'] = df['14 st']\n",
    "df['149 St-Grand Concourse (2/4/5)'] = df.loc[:, ['149 st-grand c','149 st grand c',\n",
    "                                                  '149 st - grand c']].sum(axis=1)\n",
    "df['174 St (2/5)'] = df['174']\n",
    "df['219 St (2/5)'] = df['219']\n",
    "df['225 St (2/5)'] = df['225']\n",
    "df['233 St (2/5)'] = df['233']\n",
    "df['3 Av-149 St (2/5)'] = df.loc[:, ['3 av-','3 av -']].sum(axis=1)\n",
    "df['34 St-Penn Station (1/2/3)'] = df.loc[:, ['34 St-Penn Station (1/2/3)','penn sta','34']].sum(axis=1)\n",
    "df['72 St (1/2/3)'] = df['72']\n",
    "df['96 St (1/2/3)'] = df['96']\n",
    "df['Allerton Av (2/5)'] = df['allerton av']\n",
    "df['Atlantic Av-Barclays Ctr (B/D/N/Q/R/2/3/4/5)'] = df['atlantic av']\n",
    "df['Bergen St (2/3)'] = df['bergen st']\n",
    "df['Beverly Rd (2/5)'] = df['beverly']\n",
    "df['Bronx Park East (2/5)'] = df['bx park e']\n",
    "df['Burke Av (2/5)'] = df['burke av']\n",
    "df['Central Park North-110 St (2/3)'] = df.loc[:, ['central p','110']].sum(axis=1)\n",
    "df['Chambers St (1/2/3)'] = df.loc[:, ['Chambers St (1/2/3)','chambers']].sum(axis=1)\n",
    "df['Chambers St (A/C)/WTC (E)/Park Pl (2/3)/Cortlandt (R/W)'] = df['park pl']\n",
    "df['Church Av (2/5)'] = df['church']\n",
    "df['Clark St (2/3)'] = df['clark']\n",
    "df['Court St (R)/Borough Hall (2/3/4/5)'] = df['borough hall']\n",
    "df['East 180 St (2/5)'] = df['e 180']\n",
    "df['Eastern Pkwy-Brooklyn Museum (2/3)'] = df.loc[:, ['museum','eastern p']].sum(axis=1)\n",
    "df['Flatbush Av-Brooklyn College (2/5)'] = df['flatbush av']\n",
    "df['Franklin Av (2/3/4/5)/Botanic Garden (S)'] = df['franklin av']\n",
    "df['Freeman St (2/5)'] = df['freeman']\n",
    "df['Fulton St (A/C/J/Z/2/3/4/5)'] = df['fulton']\n",
    "df['Grand Army Plaza (2/3)'] = df['grand army']\n",
    "df['Gun Hill Rd (2/5)'] = df['gun hill']\n",
    "df['Hoyt St (2/3)'] = df['hoyt']\n",
    "df['Intervale Av (2/5)'] = df['intervale av']\n",
    "df['Jackson Av (2/5)'] = df['jackson']\n",
    "df['Nereid Av (2/5)'] = df['nereid']\n",
    "df['Nevins St (2/3/4/5)'] = df['nevins']\n",
    "df['Newkirk Av (2/5)'] = df['newkirk av']\n",
    "df['Pelham Pkwy (2/5)'] = df['pelham p']\n",
    "df['President St (2/5)'] = df['president st']\n",
    "df['Prospect Av (2/5)'] = df['prospect av']\n",
    "df['Simpson St (2/5)'] = df['simpson']\n",
    "df['Sterling St (2/5)'] = df['sterling st']\n",
    "df['Times Sq-42 St (N/Q/R/W/S/1/2/3/7)/42 St (A/C/E)'] = df.loc[:, ['Times Sq-42 St (N/Q/R/W/S/1/2/3/7)/42 St (A/C/E)',\n",
    "                                                                    'times sq','42']].sum(axis=1)\n",
    "df['Wakefield-241 St (2)'] = df.loc[:, ['wakefield','241']].sum(axis=1)\n",
    "df['Wall St (2/3)'] = df['wall st']\n",
    "df['West Farms Sq-East Tremont Av (2/5)'] = df.loc[:, ['west farms','e tremont']].sum(axis=1)\n",
    "df['Winthrop St (2/5)'] = df['winthrop st']"
   ]
  },
  {
   "cell_type": "code",
   "execution_count": 58,
   "metadata": {
    "ExecuteTime": {
     "end_time": "2021-11-11T16:43:27.024750Z",
     "start_time": "2021-11-11T16:43:19.775030Z"
    }
   },
   "outputs": [],
   "source": [
    "for col in stations_2:\n",
    "    df.drop(col,axis=1,inplace=True)"
   ]
  },
  {
   "cell_type": "markdown",
   "metadata": {},
   "source": [
    "## 3 Train (IRT)"
   ]
  },
  {
   "cell_type": "code",
   "execution_count": 59,
   "metadata": {
    "ExecuteTime": {
     "end_time": "2021-11-11T16:43:29.992845Z",
     "start_time": "2021-11-11T16:43:27.025750Z"
    }
   },
   "outputs": [],
   "source": [
    "for s in stations_3:\n",
    "    delayed = df.loc[st_3]\n",
    "    ind = delayed.loc[delayed['delayed_stations']==s].index\n",
    "    df.loc[ind, '{}'.format(s)] = 1"
   ]
  },
  {
   "cell_type": "code",
   "execution_count": 60,
   "metadata": {
    "ExecuteTime": {
     "end_time": "2021-11-11T16:43:30.008850Z",
     "start_time": "2021-11-11T16:43:29.993845Z"
    }
   },
   "outputs": [],
   "source": [
    "line = df_r.loc[df_r['station'].str.contains('\\(3\\)|3/|/3')]\n",
    "line = list(line['station'])\n",
    "# for l in line:\n",
    "#     print(\"df[\"+\"'\"+\"{}\".format(l)+\"'\"+\"] = \")"
   ]
  },
  {
   "cell_type": "code",
   "execution_count": 61,
   "metadata": {
    "ExecuteTime": {
     "end_time": "2021-11-11T16:43:31.524653Z",
     "start_time": "2021-11-11T16:43:30.010114Z"
    }
   },
   "outputs": [],
   "source": [
    "df['116 St (2/3)'] = df.loc[:, ['116 St (2/3)','116']].sum(axis=1)\n",
    "df['125 St (2/3)'] = df.loc[:,['125 St (2/3)','125']].sum(axis=1)\n",
    "df['135 St (2/3)'] = df.loc[:,['135 St (2/3)','135']].sum(axis=1)\n",
    "df['14 St (F/M/1/2/3)/6 Av (L)'] = df.loc[:, ['14 St (F/M/1/2/3)/6 Av (L)','14 st']].sum(axis=1)\n",
    "df['145 St (3)'] = df['145']\n",
    "df['34 St-Penn Station (1/2/3)'] = df.loc[:, ['34 St-Penn Station (1/2/3)','penn sta','34']].sum(axis=1)\n",
    "df['72 St (1/2/3)'] = df.loc[:,['72 St (1/2/3)','72']].sum(axis=1)\n",
    "df['96 St (1/2/3)'] = df.loc[:,['96 St (1/2/3)','96']].sum(axis=1)\n",
    "df['Atlantic Av-Barclays Ctr (B/D/N/Q/R/2/3/4/5)'] = df.loc[:, ['Atlantic Av-Barclays Ctr (B/D/N/Q/R/2/3/4/5)',\n",
    "                                                                'atlantic av']].sum(axis=1)\n",
    "df['Bergen St (2/3)'] = df.loc[:, ['Bergen St (2/3)','bergen st']].sum(axis=1)\n",
    "df['Central Park North-110 St (2/3)'] = df.loc[:,['Central Park North-110 St (2/3)','central p','110 st']].sum(axis=1)\n",
    "df['Chambers St (1/2/3)'] = df.loc[:, ['Chambers St (1/2/3)','chambers']].sum(axis=1)\n",
    "df['Chambers St (A/C)/WTC (E)/Park Pl (2/3)/Cortlandt (R/W)'] = df.loc[:, \n",
    "                                                                       ['Chambers St (A/C)/WTC (E)/Park Pl (2/3)/Cortlandt (R/W)',\n",
    "                                                                        'park pl']].sum(axis=1)\n",
    "df['Clark St (2/3)'] = df.loc[:, ['Clark St (2/3)','clark']].sum(axis=1)\n",
    "df['Court St (R)/Borough Hall (2/3/4/5)'] = df.loc[:, ['Court St (R)/Borough Hall (2/3/4/5)','borough hall']].sum(axis=1)\n",
    "df['Crown Heights-Utica Av (3/4)'] = df.loc[:,['crown heights','utica av']].sum(axis=1)\n",
    "df['Eastern Pkwy-Brooklyn Museum (2/3)'] = df.loc[:, ['Eastern Pkwy-Brooklyn Museum (2/3)','eastern p','museum']].sum(axis=1)\n",
    "df['Franklin Av (2/3/4/5)/Botanic Garden (S)'] = df.loc[:, ['Franklin Av (2/3/4/5)/Botanic Garden (S)',\n",
    "                                                            'franklin av']].sum(axis=1)\n",
    "df['Fulton St (A/C/J/Z/2/3/4/5)'] = df.loc[:,['Fulton St (A/C/J/Z/2/3/4/5)','fulton']].sum(axis=1)\n",
    "df['Grand Army Plaza (2/3)'] = df.loc[:,['Grand Army Plaza (2/3)','grand army']].sum(axis=1)\n",
    "df['Harlem-148 St (3)'] = df.loc[:,['harlem','148']].sum(axis=1)\n",
    "df['Hoyt St (2/3)'] = df.loc[:, ['Hoyt St (2/3)','hoyt']].sum(axis=1)\n",
    "df['Junius St (3)'] = df['junius st']\n",
    "df['Kingston Av (3)'] = df['kingston av']\n",
    "df['Nevins St (2/3/4/5)'] = df.loc[:,['Nevins St (2/3/4/5)','nevins']].sum(axis=1)\n",
    "df['New Lots Av (3)'] = df['new lots']\n",
    "df['Nostrand Av (3)'] = df['nostrand av']\n",
    "df['Pennsylvania Av (3)'] = df['pennsylvania av']\n",
    "df['Rockaway Av (3)'] = df['rockaway av']\n",
    "df['Saratoga Av (3)'] = df['saratoga av']\n",
    "df['Sutter Av-Rutland Rd (3)'] =  df['sutter av']\n",
    "df['Times Sq-42 St (N/Q/R/W/S/1/2/3/7)/42 St (A/C/E)'] = df.loc[:, ['Times Sq-42 St (N/Q/R/W/S/1/2/3/7)/42 St (A/C/E)',\n",
    "                                                                    'times sq','42']].sum(axis=1)\n",
    "df['Van Siclen Av (3)'] = df['van siclen']\n",
    "df['Wall St (2/3)'] = df.loc[:,['Wall St (2/3)','wall st']].sum(axis=1)"
   ]
  },
  {
   "cell_type": "code",
   "execution_count": 62,
   "metadata": {
    "ExecuteTime": {
     "end_time": "2021-11-11T16:43:36.284063Z",
     "start_time": "2021-11-11T16:43:31.525653Z"
    }
   },
   "outputs": [],
   "source": [
    "for col in stations_3:\n",
    "    df.drop(col,axis=1,inplace=True)"
   ]
  },
  {
   "cell_type": "markdown",
   "metadata": {},
   "source": [
    "## 4 Train (IRT)"
   ]
  },
  {
   "cell_type": "code",
   "execution_count": 63,
   "metadata": {
    "ExecuteTime": {
     "end_time": "2021-11-11T16:43:39.040362Z",
     "start_time": "2021-11-11T16:43:36.285063Z"
    }
   },
   "outputs": [],
   "source": [
    "for s in stations_4:\n",
    "    delayed = df.loc[st_4]\n",
    "    ind = delayed.loc[delayed['delayed_stations']==s].index\n",
    "    df.loc[ind, '{}'.format(s)] = 1"
   ]
  },
  {
   "cell_type": "code",
   "execution_count": 64,
   "metadata": {
    "ExecuteTime": {
     "end_time": "2021-11-11T16:43:39.055379Z",
     "start_time": "2021-11-11T16:43:39.041362Z"
    }
   },
   "outputs": [],
   "source": [
    "line = df_r.loc[df_r['station'].str.contains('\\(4\\)|4/|/4')]\n",
    "line = list(line['station'])\n",
    "# for l in line:\n",
    "#     print(\"df[\"+\"'\"+\"{}\".format(l)+\"'\"+\"] = \")"
   ]
  },
  {
   "cell_type": "code",
   "execution_count": 65,
   "metadata": {
    "ExecuteTime": {
     "end_time": "2021-11-11T16:43:41.226923Z",
     "start_time": "2021-11-11T16:43:39.056653Z"
    }
   },
   "outputs": [],
   "source": [
    "df['125 St (4/5/6)'] = df['125']\n",
    "df['138 St-Grand Concourse (4/5)'] = df['138']\n",
    "df['14 St-Union Sq (L/N/Q/R/W/4/5/6)'] = df.loc[:,['union sq','14 st']].sum(axis=1)\n",
    "df['149 St-Grand Concourse (2/4/5)'] = df['149']\n",
    "df['161 St-Yankee Stadium (B/D/4)'] = df['161']\n",
    "df['167 St (4)'] = df['167']\n",
    "df['170 St (4)'] = df['170']\n",
    "df['176 St (4)'] = df['176']\n",
    "df['183 St (4)'] = df['183']\n",
    "df['86 St (4/5/6)'] = df['86']\n",
    "df['Atlantic Av-Barclays Ctr (B/D/N/Q/R/2/3/4/5)'] = df.loc[:, ['Atlantic Av-Barclays Ctr (B/D/N/Q/R/2/3/4/5)',\n",
    "                                                                'atlantic av']].sum(axis=1)\n",
    "df['Bedford Park Blvd-Lehman College (4)'] = df['bedford p']\n",
    "df['Bowling Green (4/5)'] = df['bowling green']\n",
    "df['Brooklyn Bridge-City Hall (4/5/6)/Chambers St (J/Z)'] = df.loc[:,['bklyn br','brooklyn br','city h']].sum(axis=1)\n",
    "df['Burnside Av (4)'] = df['burnside']\n",
    "df['Court St (R)/Borough Hall (2/3/4/5)'] = df.loc[:,['Court St (R)/Borough Hall (2/3/4/5)','borough hall']].sum(axis=1)\n",
    "df['Crown Heights-Utica Av (3/4)'] = df.loc[:,['Crown Heights-Utica Av (3/4)','crown heights','utica av']].sum(axis=1)\n",
    "df['Fordham Rd (4)'] = df['fordham']\n",
    "df['Franklin Av (2/3/4/5)/Botanic Garden (S)'] = df.loc[:, ['Franklin Av (2/3/4/5)/Botanic Garden (S)',\n",
    "                                                            'franklin av']].sum(axis=1)\n",
    "df['Fulton St (A/C/J/Z/2/3/4/5)'] = df.loc[:,['Fulton St (A/C/J/Z/2/3/4/5)','fulton']].sum(axis=1)\n",
    "df['Grand Central-42 St (S/4/5/6/7)'] = df.loc[:,['grand central','42']].sum(axis=1)\n",
    "df['Kingsbridge Rd (4)'] = df['kingsbridge']\n",
    "df['Lexington Av (N/R/W)/59 St (4/5/6)'] = df.loc[:,['lexington','59']].sum(axis=1)\n",
    "df['Mosholu Pkwy (4)'] = df['moshulu']\n",
    "df['Mt Eden Av (4)'] = df['mt eden']\n",
    "df['Nevins St (2/3/4/5)'] = df.loc[:,['Nevins St (2/3/4/5)','nevins']].sum(axis=1)\n",
    "df['Wall St (4/5)'] = df['wall st']\n",
    "df['Woodlawn (4)'] = df['woodlawn']"
   ]
  },
  {
   "cell_type": "code",
   "execution_count": 66,
   "metadata": {
    "ExecuteTime": {
     "end_time": "2021-11-11T16:43:45.410012Z",
     "start_time": "2021-11-11T16:43:41.227922Z"
    }
   },
   "outputs": [],
   "source": [
    "for col in stations_4:\n",
    "    df.drop(col,axis=1,inplace=True)"
   ]
  },
  {
   "cell_type": "markdown",
   "metadata": {},
   "source": [
    "## 5 Train (IRT)"
   ]
  },
  {
   "cell_type": "code",
   "execution_count": 67,
   "metadata": {
    "ExecuteTime": {
     "end_time": "2021-11-11T16:43:49.990544Z",
     "start_time": "2021-11-11T16:43:45.411013Z"
    }
   },
   "outputs": [],
   "source": [
    "for s in stations_5:\n",
    "    delayed = df.loc[st_5]\n",
    "    ind = delayed.loc[delayed['delayed_stations']==s].index\n",
    "    df.loc[ind, '{}'.format(s)] = 1"
   ]
  },
  {
   "cell_type": "code",
   "execution_count": 68,
   "metadata": {
    "ExecuteTime": {
     "end_time": "2021-11-11T16:43:50.006549Z",
     "start_time": "2021-11-11T16:43:49.991544Z"
    }
   },
   "outputs": [],
   "source": [
    "line = df_r.loc[df_r['station'].str.contains('\\(5\\)|5/|/5')]\n",
    "line = list(line['station'])\n",
    "# for l in line:\n",
    "#     print(\"df[\"+\"'\"+\"{}\".format(l)+\"'\"+\"] = \")"
   ]
  },
  {
   "cell_type": "code",
   "execution_count": 69,
   "metadata": {
    "ExecuteTime": {
     "end_time": "2021-11-11T16:43:50.704668Z",
     "start_time": "2021-11-11T16:43:50.007549Z"
    }
   },
   "outputs": [],
   "source": [
    "df['125 St (4/5/6)'] = df.loc[:,['125 St (4/5/6)','125']].sum(axis=1)\n",
    "df['138 St-Grand Concourse (4/5)'] = df.loc[:, ['138 St-Grand Concourse (4/5)', '138 st-grand c',\n",
    "                                               '138']].sum(axis=1)\n",
    "df['14 St-Union Sq (L/N/Q/R/W/4/5/6)'] = df.loc[:,['14 St-Union Sq (L/N/Q/R/W/4/5/6)','union sq','14 st']].sum(axis=1)\n",
    "df['149 St-Grand Concourse (2/4/5)'] = df.loc[:,['149 St-Grand Concourse (2/4/5)','149 st-grand c',\n",
    "                                                '149 st grand c','149 st - grand c']].sum(axis=1)\n",
    "df['174 St (2/5)'] = df.loc[:,['174 St (2/5)','174']].sum(axis=1)\n",
    "df['219 St (2/5)'] = df.loc[:,['219 St (2/5)','219']].sum(axis=1)\n",
    "df['225 St (2/5)'] = df.loc[:,['225 St (2/5)','225']].sum(axis=1)\n",
    "df['233 St (2/5)'] = df.loc[:,['233 St (2/5)','233']].sum(axis=1)\n",
    "df['3 Av-149 St (2/5)'] = df.loc[:,['3 Av-149 St (2/5)','3 av-149']].sum(axis=1)\n",
    "df['86 St (4/5/6)'] = df.loc[:, ['86 St (4/5/6)','86 st']].sum(axis=1)\n",
    "df['Allerton Av (2/5)'] = df.loc[:,['Allerton Av (2/5)','allerton av']].sum(axis=1)\n",
    "df['Atlantic Av-Barclays Ctr (B/D/N/Q/R/2/3/4/5)'] = df.loc[:,['Atlantic Av-Barclays Ctr (B/D/N/Q/R/2/3/4/5)',\n",
    "                                                               'atlantic av']].sum(axis=1)\n",
    "df['Baychester Av (5)'] = df['baychester']\n",
    "df['Beverly Rd (2/5)'] = df.loc[:,['Beverly Rd (2/5)','beverly']].sum(axis=1)\n",
    "df['Bowling Green (4/5)'] = df.loc[:,['Bowling Green (4/5)','bowling green']].sum(axis=1)\n",
    "df['Bronx Park East (2/5)'] = df.loc[:, ['Bronx Park East (2/5)','bronx p']].sum(axis=1)\n",
    "df['Brooklyn Bridge-City Hall (4/5/6)/Chambers St (J/Z)'] = df.loc[:, ['Brooklyn Bridge-City Hall (4/5/6)/Chambers St (J/Z)',\n",
    "                                                                      'bklyn br','brooklyn br','city h']].sum(axis=1)\n",
    "df['Burke Av (2/5)'] = df.loc[:,['church','Church Av (2/5)']].sum(axis=1)\n",
    "df['Church Av (2/5)'] = df.loc[:,['church','Church Av (2/5)']].sum(axis=1)\n",
    "df['Court St (R)/Borough Hall (2/3/4/5)'] = df.loc[:,['Court St (R)/Borough Hall (2/3/4/5)','borough hall']].sum(axis=1)\n",
    "df['East 180 St (2/5)'] = df.loc[:, ['East 180 St (2/5)','e 180']].sum(axis=1)\n",
    "df['Eastchester-Dyre Av (5)'] = df['eastchester']\n",
    "df['Flatbush Av-Brooklyn College (2/5)'] = df.loc[:,['Flatbush Av-Brooklyn College (2/5)','flatbush av']].sum(axis=1)\n",
    "df['Franklin Av (2/3/4/5)/Botanic Garden (S)'] = df.loc[:, ['Franklin Av (2/3/4/5)/Botanic Garden (S)',\n",
    "                                                            'franklin av']].sum(axis=1)\n",
    "df['Freeman St (2/5)'] = df.loc[:,['Freeman St (2/5)','freeman']].sum(axis=1)\n",
    "df['Fulton St (A/C/J/Z/2/3/4/5)'] = df.loc[:,['Fulton St (A/C/J/Z/2/3/4/5)','fulton']].sum(axis=1)\n",
    "df['Grand Central-42 St (S/4/5/6/7)'] = df.loc[:,['Grand Central-42 St (S/4/5/6/7)','grand central','42 st']].sum(axis=1)\n",
    "df['Intervale Av (2/5)'] = df.loc[:, ['Intervale Av (2/5)','intervale av']].sum(axis=1)\n",
    "df['Jackson Av (2/5)'] = df.loc[:, ['Jackson Av (2/5)','jackson']].sum(axis=1)\n",
    "df['Lexington Av (N/R/W)/59 St (4/5/6)'] = df.loc[:,['Lexington Av (N/R/W)/59 St (4/5/6)','lexington','59']].sum(axis=1)\n",
    "df['Morris Park (5)'] = df['morris p']\n",
    "df['Nereid Av (2/5)'] = df.loc[:, ['Nereid Av (2/5)','nereid']].sum(axis=1)\n",
    "df['Nevins St (2/3/4/5)'] = df.loc[:,['Nevins St (2/3/4/5)','nevins']].sum(axis=1)\n",
    "df['Newkirk Av (2/5)'] = df.loc[:, ['Newkirk Av (2/5)','newkirk av']].sum(axis=1)\n",
    "df['President St (2/5)'] = df.loc[:, ['President St (2/5)','president st']].sum(axis=1)\n",
    "df['Prospect Av (2/5)'] = df.loc[:, ['Prospect Av (2/5)','prospect av']].sum(axis=1)\n",
    "df['Simpson St (2/5)'] = df.loc[:, ['Simpson St (2/5)','simpson']].sum(axis=1)\n",
    "df['Sterling St (2/5)'] = df.loc[:, ['Sterling St (2/5)','sterling']].sum(axis=1)\n",
    "df['Wall St (4/5)'] = df.loc[:, ['Wall St (4/5)','wall st']].sum(axis=1)\n",
    "df['West Farms Sq-East Tremont Av (2/5)'] = df.loc[:, ['West Farms Sq-East Tremont Av (2/5)',\n",
    "                                                       'west farms','e tremont']].sum(axis=1)\n",
    "df['Winthrop St (2/5)'] = df.loc[:, ['Winthrop St (2/5)','winthrop']].sum(axis=1)"
   ]
  },
  {
   "cell_type": "code",
   "execution_count": 70,
   "metadata": {
    "ExecuteTime": {
     "end_time": "2021-11-11T16:43:56.747173Z",
     "start_time": "2021-11-11T16:43:50.705669Z"
    }
   },
   "outputs": [],
   "source": [
    "for col in stations_5:\n",
    "    df.drop(col,axis=1,inplace=True)"
   ]
  },
  {
   "cell_type": "markdown",
   "metadata": {},
   "source": [
    "### Gun Hill Road & Pelham Pkwy (2/5)"
   ]
  },
  {
   "cell_type": "code",
   "execution_count": 71,
   "metadata": {
    "ExecuteTime": {
     "end_time": "2021-11-11T16:43:56.856145Z",
     "start_time": "2021-11-11T16:43:56.748173Z"
    }
   },
   "outputs": [],
   "source": [
    "for s in stations_25:\n",
    "    delayed = df.loc[st_25]\n",
    "    ind = delayed.loc[delayed['delayed_stations']==s].index\n",
    "    df.loc[ind, '{}'.format(s)] = 1"
   ]
  },
  {
   "cell_type": "code",
   "execution_count": 72,
   "metadata": {
    "ExecuteTime": {
     "end_time": "2021-11-11T16:43:56.872148Z",
     "start_time": "2021-11-11T16:43:56.857145Z"
    },
    "scrolled": true
   },
   "outputs": [
    {
     "name": "stdout",
     "output_type": "stream",
     "text": [
      "df['Gun Hill Rd (2/5)'] = \n",
      "df['Gun Hill Rd (5)'] = \n",
      "df['Pelham Pkwy (2/5)'] = \n",
      "df['Pelham Pkwy (5)'] = \n"
     ]
    }
   ],
   "source": [
    "line = df_r.loc[df_r['station'].str.contains('Gun Hill|Pelham P')]\n",
    "line = list(line['station'])\n",
    "for l in line:\n",
    "    print(\"df[\"+\"'\"+\"{}\".format(l)+\"'\"+\"] = \")"
   ]
  },
  {
   "cell_type": "code",
   "execution_count": 73,
   "metadata": {
    "ExecuteTime": {
     "end_time": "2021-11-11T16:43:56.950171Z",
     "start_time": "2021-11-11T16:43:56.873149Z"
    }
   },
   "outputs": [],
   "source": [
    "df['Gun Hill Rd (2/5)'] = df.loc[:,['Gun Hill Rd (2/5)','gun hill']].sum(axis=1)\n",
    "df['Pelham Pkwy (2/5)'] = df.loc[:, ['Pelham Pkwy (2/5)','pelham p']].sum(axis=1)"
   ]
  },
  {
   "cell_type": "code",
   "execution_count": 74,
   "metadata": {
    "ExecuteTime": {
     "end_time": "2021-11-11T16:43:57.169057Z",
     "start_time": "2021-11-11T16:43:56.951172Z"
    }
   },
   "outputs": [],
   "source": [
    "for col in stations_25:\n",
    "    df.drop(col,axis=1,inplace=True)"
   ]
  },
  {
   "cell_type": "markdown",
   "metadata": {},
   "source": [
    "### Gun Hill Road & Pelham Pkwy (5)"
   ]
  },
  {
   "cell_type": "code",
   "execution_count": 75,
   "metadata": {
    "ExecuteTime": {
     "end_time": "2021-11-11T16:43:57.294554Z",
     "start_time": "2021-11-11T16:43:57.170058Z"
    }
   },
   "outputs": [],
   "source": [
    "for s in stations_5n2:\n",
    "    delayed = df.loc[st_5n2]\n",
    "    ind = delayed.loc[delayed['delayed_stations']==s].index\n",
    "    df.loc[ind, '{}'.format(s)] = 1"
   ]
  },
  {
   "cell_type": "code",
   "execution_count": 76,
   "metadata": {
    "ExecuteTime": {
     "end_time": "2021-11-11T16:43:57.463922Z",
     "start_time": "2021-11-11T16:43:57.295554Z"
    }
   },
   "outputs": [],
   "source": [
    "df['Gun Hill Rd (5)'] = df['gun hill']\n",
    "df['Pelham Pkwy (5)'] = df['pelham p']"
   ]
  },
  {
   "cell_type": "code",
   "execution_count": 77,
   "metadata": {
    "ExecuteTime": {
     "end_time": "2021-11-11T16:43:57.775634Z",
     "start_time": "2021-11-11T16:43:57.464948Z"
    }
   },
   "outputs": [],
   "source": [
    "for col in stations_5n2:\n",
    "    df.drop(col,axis=1,inplace=True)"
   ]
  },
  {
   "cell_type": "markdown",
   "metadata": {},
   "source": [
    "## 6 Train (IRT)"
   ]
  },
  {
   "cell_type": "code",
   "execution_count": 78,
   "metadata": {
    "ExecuteTime": {
     "end_time": "2021-11-11T16:44:02.312551Z",
     "start_time": "2021-11-11T16:43:57.776635Z"
    }
   },
   "outputs": [],
   "source": [
    "for s in stations_6:\n",
    "    delayed = df.loc[st_6]\n",
    "    ind = delayed.loc[delayed['delayed_stations']==s].index\n",
    "    df.loc[ind, '{}'.format(s)] = 1"
   ]
  },
  {
   "cell_type": "code",
   "execution_count": 79,
   "metadata": {
    "ExecuteTime": {
     "end_time": "2021-11-11T16:44:02.327949Z",
     "start_time": "2021-11-11T16:44:02.313552Z"
    }
   },
   "outputs": [],
   "source": [
    "line = df_r.loc[df_r['station'].str.contains('\\(6\\)|6/|/6')]\n",
    "line = list(line['station'])\n",
    "# for l in line:\n",
    "#     print(\"df[\"+\"'\"+\"{}\".format(l)+\"'\"+\"] = \")"
   ]
  },
  {
   "cell_type": "code",
   "execution_count": 80,
   "metadata": {
    "ExecuteTime": {
     "end_time": "2021-11-11T16:44:05.331478Z",
     "start_time": "2021-11-11T16:44:02.328923Z"
    }
   },
   "outputs": [],
   "source": [
    "df['103 St (6)'] = df['103']\n",
    "df['110 St (6)'] = df['110']\n",
    "df['116 St (6)'] = df['116']\n",
    "df['125 St (4/5/6)'] = df.loc[:,['125 St (4/5/6)','125']].sum(axis=1)\n",
    "df['14 St-Union Sq (L/N/Q/R/W/4/5/6)'] = df.loc[:,['14 St-Union Sq (L/N/Q/R/W/4/5/6)','union sq','14 st']].sum(axis=1)\n",
    "df['23 St (6)'] = df['23 st']\n",
    "df['28 St (6)'] = df['28 st']\n",
    "df['3 Av-138 St (6)'] = df.loc[:,['3 av 138','3 av-138']].sum(axis=1)\n",
    "df['33 St (6)'] = df['33']\n",
    "df['68 St-Hunter College (6)'] = df['68']\n",
    "df['77 St (6)'] = df['77']\n",
    "df['86 St (4/5/6)'] = df.loc[:, ['86 St (4/5/6)','86 st']].sum(axis=1)\n",
    "df['96 St (6)'] = df['96']\n",
    "df['Astor Place (6)'] = df['astor']\n",
    "df['Broadway-Lafayette St (B/D/F/M)/Bleecker St (6)'] = df.loc[:,['broadway','lafay']].sum(axis=1)\n",
    "df['Brook Av (6)'] = df['brook']\n",
    "df['Brooklyn Bridge-City Hall (4/5/6)/Chambers St (J/Z)'] = df.loc[:, ['Brooklyn Bridge-City Hall (4/5/6)/Chambers St (J/Z)',\n",
    "                                                                      'bklyn br','brooklyn br','city h']].sum(axis=1)\n",
    "df['Buhre Av (6)'] = df['buhre']\n",
    "df['Canal St (J/N/Q/R/W/Z/6)'] = df['canal']\n",
    "df['Castle Hill Av (6)'] = df['castle hill']\n",
    "df['Cypress Av (6)'] = df['cypress']\n",
    "df[\"East 143 St-St Mary's St (6)\"] = df.loc[:,[\"east 143\",\"e 143\"]].sum(axis=1)\n",
    "df['East 149 St (6)'] = df.loc[:,['east 149','e 149']].sum(axis=1)\n",
    "df['Elder Av (6)'] = df['elder']\n",
    "df['Grand Central-42 St (S/4/5/6/7)'] = df.loc[:,['Grand Central-42 St (S/4/5/6/7)','grand central','42']].sum(axis=1)\n",
    "df['Hunts Point Av (6)'] = df['hunts p']\n",
    "df['Lexington Av (N/R/W)/59 St (4/5/6)'] = df.loc[:,['Lexington Av (N/R/W)/59 St (4/5/6)','59']].sum(axis=1)\n",
    "df['Longwood Av (6)'] = df['longwood av']\n",
    "df['Middletown Rd (6)'] = df['middletown']\n",
    "df['Morrison Av-Soundview (6)'] = df['morrison']\n",
    "df['Parkchester (6)'] = df['parkchester']\n",
    "df['Pelham Bay Park (6)'] = df['pelham b']\n",
    "df['Spring St (6)'] = df['spring st']\n",
    "df['St Lawrence Av (6)'] = df['st lawrence']\n",
    "df['Westchester Sq-East Tremont Av (6)'] = df.loc[:,['westchester','e tremont']].sum(axis=1)\n",
    "df['Whitlock Av (6)'] = df['whitlock']\n",
    "df['Zerega Av (6)'] = df['zerega']"
   ]
  },
  {
   "cell_type": "code",
   "execution_count": 81,
   "metadata": {
    "ExecuteTime": {
     "end_time": "2021-11-11T16:44:11.357088Z",
     "start_time": "2021-11-11T16:44:05.332504Z"
    }
   },
   "outputs": [],
   "source": [
    "for col in stations_6:\n",
    "    df.drop(col,axis=1,inplace=True)"
   ]
  },
  {
   "cell_type": "markdown",
   "metadata": {},
   "source": [
    "## 7 Train (IRT)"
   ]
  },
  {
   "cell_type": "code",
   "execution_count": 82,
   "metadata": {
    "ExecuteTime": {
     "end_time": "2021-11-11T16:44:14.278471Z",
     "start_time": "2021-11-11T16:44:11.362599Z"
    }
   },
   "outputs": [],
   "source": [
    "for s in stations_7:\n",
    "    delayed = df.loc[st_7]\n",
    "    ind = delayed.loc[delayed['delayed_stations']==s].index\n",
    "    df.loc[ind, '{}'.format(s)] = 1"
   ]
  },
  {
   "cell_type": "code",
   "execution_count": 83,
   "metadata": {
    "ExecuteTime": {
     "end_time": "2021-11-11T16:44:14.293269Z",
     "start_time": "2021-11-11T16:44:14.279471Z"
    }
   },
   "outputs": [],
   "source": [
    "line = df_r.loc[df_r['station'].str.contains('\\(7\\)|7/|/7')]\n",
    "line = list(line['station'])\n",
    "# for l in line:\n",
    "#     print(\"df[\"+\"'\"+\"{}\".format(l)+\"'\"+\"] = \")"
   ]
  },
  {
   "cell_type": "code",
   "execution_count": 84,
   "metadata": {
    "ExecuteTime": {
     "end_time": "2021-11-11T16:44:16.157748Z",
     "start_time": "2021-11-11T16:44:14.294269Z"
    }
   },
   "outputs": [],
   "source": [
    "df['103 St-Corona Plaza (7)'] = df['103']\n",
    "df['111 St (7)'] = df['111']\n",
    "df['33 St-Rawson St (7)'] = df['33']\n",
    "df['34 St-Hudson Yards (7)'] = df.loc[:,['34 st - h','34 st h','34 st- h','34 st-h']].sum(axis=1)\n",
    "df['40 St-Lowery St (7)'] = df['40']\n",
    "df['42 St-Bryant Pk (B/D/F/M)/5 Av (7)'] = df.loc[:,['bryant','5 av']].sum(axis=1)\n",
    "df['46 St-Bliss St (7)'] = df['46']\n",
    "df['52 St (7)'] = df['52']\n",
    "df['69 St (7)'] = df['69']\n",
    "df['74-Broadway (7)/Jackson Hts-Roosevelt Av (E/F/M/R)'] = df.loc[:,['jackson h','74']].sum(axis=1)\n",
    "df['82 St-Jackson Hts (7)'] = df['82']\n",
    "df['90 St-Elmhurst Av (7)'] = df['90']\n",
    "df['Flushing-Main St (7)'] = df['flushing']\n",
    "df['Grand Central-42 St (S/4/5/6/7)'] = df.loc[:,['Grand Central-42 St (S/4/5/6/7)','grand central']].sum(axis=1)\n",
    "df['Hunters Point Av (7)'] = df['hunters p']\n",
    "df['Junction Blvd (7)'] = df['junction b']\n",
    "df['Mets-Willets Point (7)'] = df['mets']\n",
    "df['Queensboro Plaza (N/W/7)'] = df.loc[:,['queensboro pl','qnsboro pl']].sum(axis=1)\n",
    "df['Times Sq-42 St (N/Q/R/W/S/1/2/3/7)/42 St (A/C/E)'] = df.loc[:,['Times Sq-42 St (N/Q/R/W/S/1/2/3/7)/42 St (A/C/E)',\n",
    "                                                                  'times sq']].sum(axis=1)\n",
    "df['Vernon Blvd-Jackson Av (7)'] = df.loc[:,['jackson av','vernon b']].sum(axis=1)\n",
    "df['Woodside-61 St (7)'] = df['61']"
   ]
  },
  {
   "cell_type": "code",
   "execution_count": 85,
   "metadata": {
    "ExecuteTime": {
     "end_time": "2021-11-11T16:44:19.818182Z",
     "start_time": "2021-11-11T16:44:16.158772Z"
    }
   },
   "outputs": [],
   "source": [
    "for col in stations_7:\n",
    "    df.drop(col,axis=1,inplace=True)"
   ]
  },
  {
   "cell_type": "markdown",
   "metadata": {},
   "source": [
    "## 42 St Shuttle (IRT)"
   ]
  },
  {
   "cell_type": "code",
   "execution_count": 86,
   "metadata": {
    "ExecuteTime": {
     "end_time": "2021-11-11T16:44:20.001970Z",
     "start_time": "2021-11-11T16:44:19.819183Z"
    }
   },
   "outputs": [],
   "source": [
    "for s in stations_42:\n",
    "    delayed = df.loc[st_42]\n",
    "    ind = delayed.loc[delayed['delayed_stations']==s].index\n",
    "    df.loc[ind, '{}'.format(s)] = 1"
   ]
  },
  {
   "cell_type": "code",
   "execution_count": 87,
   "metadata": {
    "ExecuteTime": {
     "end_time": "2021-11-11T16:44:20.017317Z",
     "start_time": "2021-11-11T16:44:20.002995Z"
    }
   },
   "outputs": [
    {
     "name": "stdout",
     "output_type": "stream",
     "text": [
      "df['Beach 105 St (A/S)'] = \n",
      "df['Beach 90 St (A/S)'] = \n",
      "df['Beach 98 St (A/S)'] = \n",
      "df['Broad Channel (A/S)'] = \n",
      "df['Franklin Av (2/3/4/5)/Botanic Garden (S)'] = \n",
      "df['Franklin Av (C/S)'] = \n",
      "df['Grand Central-42 St (S/4/5/6/7)'] = \n",
      "df['Park Pl (S)'] = \n",
      "df['Prospect Park (B/Q/S)'] = \n",
      "df['Rockaway Park-Beach 116 St (A/S)'] = \n",
      "df['Times Sq-42 St (N/Q/R/W/S/1/2/3/7)/42 St (A/C/E)'] = \n"
     ]
    }
   ],
   "source": [
    "line = df_r.loc[df_r['station'].str.contains('\\(S\\)|S/|/S')]\n",
    "line = list(line['station'])\n",
    "for l in line:\n",
    "    print(\"df[\"+\"'\"+\"{}\".format(l)+\"'\"+\"] = \")"
   ]
  },
  {
   "cell_type": "code",
   "execution_count": 88,
   "metadata": {
    "ExecuteTime": {
     "end_time": "2021-11-11T16:44:20.033329Z",
     "start_time": "2021-11-11T16:44:20.017824Z"
    }
   },
   "outputs": [],
   "source": [
    "df['Grand Central-42 St (S/4/5/6/7)'] = df['times sq']\n",
    "df['Times Sq-42 St (N/Q/R/W/S/1/2/3/7)/42 St (A/C/E)'] = df['grand central']"
   ]
  },
  {
   "cell_type": "code",
   "execution_count": 89,
   "metadata": {
    "ExecuteTime": {
     "end_time": "2021-11-11T16:44:20.424295Z",
     "start_time": "2021-11-11T16:44:20.034330Z"
    }
   },
   "outputs": [],
   "source": [
    "for col in stations_42:\n",
    "    df.drop(col,axis=1,inplace=True)"
   ]
  },
  {
   "cell_type": "markdown",
   "metadata": {},
   "source": [
    "## A Train (IND)"
   ]
  },
  {
   "cell_type": "code",
   "execution_count": 90,
   "metadata": {
    "ExecuteTime": {
     "end_time": "2021-11-11T16:44:27.412277Z",
     "start_time": "2021-11-11T16:44:20.425275Z"
    }
   },
   "outputs": [],
   "source": [
    "for s in stations_a:\n",
    "    delayed = df.loc[st_a]\n",
    "    ind = delayed.loc[delayed['delayed_stations']==s].index\n",
    "    df.loc[ind, '{}'.format(s)] = 1"
   ]
  },
  {
   "cell_type": "code",
   "execution_count": 91,
   "metadata": {
    "ExecuteTime": {
     "end_time": "2021-11-11T16:44:27.428023Z",
     "start_time": "2021-11-11T16:44:27.413024Z"
    }
   },
   "outputs": [],
   "source": [
    "line = df_r.loc[df_r['station'].str.contains('\\(A\\)|A/|/A')]\n",
    "line = list(line['station'])\n",
    "# for l in line:\n",
    "#     print(\"df[\"+\"'\"+\"{}\".format(l)+\"'\"+\"] = \")"
   ]
  },
  {
   "cell_type": "code",
   "execution_count": 92,
   "metadata": {
    "ExecuteTime": {
     "end_time": "2021-11-11T16:44:31.187328Z",
     "start_time": "2021-11-11T16:44:27.429024Z"
    }
   },
   "outputs": [],
   "source": [
    "df['104 St (A)'] = df['104']\n",
    "df['111 St (A)'] = df['111']\n",
    "df['125 St (A/B/C/D)'] = df['125']\n",
    "df['14 St (A/C/E)/8 Av (L)'] = df['14 st']\n",
    "df['145 St (A/B/C/D)'] = df['145']\n",
    "df['168 St (A/C/1)'] = df.loc[:,['168 St (A/C/1)','168']].sum(axis=1)\n",
    "df['175 St (A)'] = df['175']\n",
    "df['181 St (A)'] = df['181']\n",
    "df['190 St (A)'] = df['190']\n",
    "df['34 St-Penn Station (A/C/E)'] = df.loc[:,['penn sta','34']].sum(axis=1)\n",
    "df['59 St-Columbus Circle (A/B/C/D/1)'] = df.loc[:,['59 St-Columbus Circle (A/B/C/D/1)','columbus',\n",
    "                                                   '59']].sum(axis=1)\n",
    "df['80 St (A)'] = df['80']\n",
    "df['88 St (A)'] = df['88']\n",
    "df['Aqueduct Racetrack (A)'] = df['aqueduct r']\n",
    "df['Aqueduct-North Conduit Av (A)'] = df.loc[:,['conduit','aqueduct n']].sum(axis=1)\n",
    "df['Beach 105 St (A/S)'] = df['beach 105']\n",
    "df['Beach 25 St (A)'] = df['beach 25']\n",
    "df['Beach 36 St (A)'] = df['beach 36']\n",
    "df['Beach 44 St (A)'] = df['beach 44']\n",
    "df['Beach 60 St (A)'] = df['beach 60']\n",
    "df['Beach 67 St-Arverne By The Sea (A)'] = df['beach 67']\n",
    "df['Beach 90 St (A/S)'] = df['beach 90']\n",
    "df['Beach 98 St (A/S)'] = df['beach 98']\n",
    "df['Broad Channel (A/S)'] = df['broad ch']\n",
    "df['Broadway Junction (A/C/J/L/Z)'] = df.loc[:,['junction','jctn','bwy','broadway j','brdwy j','bdwy j']].sum(axis=1)\n",
    "df['Canal St (A/C/E)'] = df['canal']\n",
    "df['Chambers St (A/C)/WTC (E)/Park Pl (2/3)/Cortlandt (R/W)'] = df.loc[:,['Chambers St (A/C)/WTC (E)/Park Pl (2/3)/Cortlandt (R/W)',\n",
    "                                                                         'chambers']].sum(axis=1)\n",
    "df['Dyckman St (A)'] = df.loc[:,['dyckman','200']].sum(axis=1)\n",
    "df['Euclid Av (A/C)'] = df['euclid']\n",
    "df['Far Rockaway-Mott Av (A)'] = df.loc[:,['mott av','far rockaway']].sum(axis=1)\n",
    "df['Fulton St (A/C/J/Z/2/3/4/5)'] = df.loc[:,['Fulton St (A/C/J/Z/2/3/4/5)','fulton']].sum(axis=1)\n",
    "df['Grant Av (A)'] = df['grant']\n",
    "df['High St (A/C)'] = df['high']\n",
    "df['Howard Beach-JFK Airport (A)'] = df.loc[:,['jfk a','howard b']].sum(axis=1)\n",
    "df['Hoyt-Schermerhorn Sts (A/C/G)'] = df['hoyt']\n",
    "df['Inwood-207 St (A)'] = df.loc[:,['inwood','207']].sum(axis=1)\n",
    "df['Jay St-MetroTech (A/C/F/R)'] = df['jay']\n",
    "df['Nostrand Av (A/C)'] = df['nostrand']\n",
    "df['Ozone Park-Lefferts Blvd (A)'] = df.loc[:,['ozone p','lefferts b']].sum(axis=1)\n",
    "df['Rockaway Blvd (A)'] = df['rockaway b']\n",
    "df['Rockaway Park-Beach 116 St (A/S)'] = df['rockaway p']\n",
    "df['Times Sq-42 St (N/Q/R/W/S/1/2/3/7)/42 St (A/C/E)'] = df.loc[:,['Times Sq-42 St (N/Q/R/W/S/1/2/3/7)/42 St (A/C/E)',\n",
    "                                                                  'port auth','42']].sum(axis=1)\n",
    "df['Utica Av (A/C)'] = df['utica']\n",
    "df['West 4 St-Washington Sq (A/B/C/D/E/F/M)'] = df.loc[:,['west 4','washington sq','wash sq','w 4']].sum(axis=1)"
   ]
  },
  {
   "cell_type": "code",
   "execution_count": 93,
   "metadata": {
    "ExecuteTime": {
     "end_time": "2021-11-11T16:44:38.750457Z",
     "start_time": "2021-11-11T16:44:31.188313Z"
    }
   },
   "outputs": [],
   "source": [
    "for col in stations_a:\n",
    "    df.drop(col,axis=1,inplace=True)"
   ]
  },
  {
   "cell_type": "markdown",
   "metadata": {},
   "source": [
    "## B Train (IND)"
   ]
  },
  {
   "cell_type": "code",
   "execution_count": 94,
   "metadata": {
    "ExecuteTime": {
     "end_time": "2021-11-11T16:44:45.056485Z",
     "start_time": "2021-11-11T16:44:38.751458Z"
    }
   },
   "outputs": [],
   "source": [
    "for s in stations_b:\n",
    "    delayed = df.loc[st_b]\n",
    "    ind = delayed.loc[delayed['delayed_stations']==s].index\n",
    "    df.loc[ind, '{}'.format(s)] = 1"
   ]
  },
  {
   "cell_type": "code",
   "execution_count": 95,
   "metadata": {
    "ExecuteTime": {
     "end_time": "2021-11-11T16:44:45.071805Z",
     "start_time": "2021-11-11T16:44:45.057504Z"
    }
   },
   "outputs": [],
   "source": [
    "line = df_r.loc[df_r['station'].str.contains('\\(B\\)|B/|/B')]\n",
    "line = list(line['station'])\n",
    "# for l in line:\n",
    "#     print(\"df[\"+\"'\"+\"{}\".format(l)+\"'\"+\"] = \")"
   ]
  },
  {
   "cell_type": "code",
   "execution_count": 96,
   "metadata": {
    "ExecuteTime": {
     "end_time": "2021-11-11T16:44:47.969177Z",
     "start_time": "2021-11-11T16:44:45.072316Z"
    }
   },
   "outputs": [],
   "source": [
    "df['103 St (B/C)'] = df['103']\n",
    "df['116 St (B/C)'] = df['116']\n",
    "df['125 St (A/B/C/D)'] = df.loc[:,['125 St (A/B/C/D)','125']].sum(axis=1)\n",
    "df['135 St (B/C)'] = df['135']\n",
    "df['145 St (A/B/C/D)'] = df.loc[:,['145 St (A/B/C/D)','145']].sum(axis=1)\n",
    "df['155 St (B/D)'] = df['155']\n",
    "df['161 St-Yankee Stadium (B/D/4)'] = df.loc[:,['161 St-Yankee Stadium (B/D/4)','161']].sum(axis=1)\n",
    "df['167 St (B/D)'] = df['167']\n",
    "df['170 St (B/D)'] = df['170']\n",
    "df['174-175 Sts (B/D)'] = df.loc[:,['174','175']].sum(axis=1)\n",
    "df['182-183 Sts (B/D)'] = df.loc[:,['182','183']].sum(axis=1)\n",
    "df['34 St-Herald Sq (B/D/F/M/N/Q/R/W)'] = df.loc[:,['herald sq','34']].sum(axis=1)\n",
    "df['42 St-Bryant Pk (B/D/F/M)/5 Av (7)'] = df.loc[:,['42 St-Bryant Pk (B/D/F/M)/5 Av (7)', 'bryant','42','5 av']].sum(axis=1)\n",
    "df['47-50 Sts-Rockefeller Center (B/D/F/M)'] = df.loc[:,['47-50','47']].sum(axis=1)\n",
    "df['59 St-Columbus Circle (A/B/C/D/1)'] = df.loc[:,['59 St-Columbus Circle (A/B/C/D/1)','columbus',\n",
    "                                                   '59']].sum(axis=1)\n",
    "df['72 St (B/C)'] = df['72']\n",
    "df['81 St-Museum of Natural History (B/C)'] = df.loc[:,['museum','81']].sum(axis=1)\n",
    "df['86 St (B/C)'] = df['86']\n",
    "df['96 St (B/C)'] = df['96']\n",
    "df['Atlantic Av-Barclays Ctr (B/D/N/Q/R/2/3/4/5)'] = df.loc[:,['Atlantic Av-Barclays Ctr (B/D/N/Q/R/2/3/4/5)',\n",
    "                                                               'atlantic']].sum(axis=1)\n",
    "df['Bedford Park Blvd (B/D)'] = df['bedford']\n",
    "df['Brighton Beach (B/Q)'] = df['brighton']\n",
    "df['Broadway-Lafayette St (B/D/F/M)/Bleecker St (6)'] = df.loc[:,['Broadway-Lafayette St (B/D/F/M)/Bleecker St (6)',\n",
    "                                                                  'bway l','broadway l','brdwy l','bdwy l']].sum(axis=1)\n",
    "df['Cathedral Pkwy-110 St (B/C)'] = df.loc[:,['cathedral pk','cathedral park','110']].sum(axis=1)\n",
    "df['Church Av (B/Q)'] = df['church']\n",
    "df['DeKalb Av (B/Q/R)'] = df['dekalb']\n",
    "df['Fordham Rd (B/D)'] = df['fordham']\n",
    "df['Grand St (B/D)'] = df['grand st']\n",
    "df['Kings Hwy (B/Q)'] = df['kings']\n",
    "df['Kingsbridge Rd (B/D)'] = df['kingsbridge']\n",
    "df['Newkirk Plaza (B/Q)'] = df['newkirk']\n",
    "df['Prospect Park (B/Q/S)'] = df['prospect']\n",
    "df['Sheepshead Bay (B/Q)'] = df['sheepshead']\n",
    "df['Tremont Av (B/D)'] = df['tremont']\n",
    "df['West 4 St-Washington Sq (A/B/C/D/E/F/M)'] = df.loc[:,['West 4 St-Washington Sq (A/B/C/D/E/F/M)',\n",
    "                                                          'west 4','washington sq','wash sq','w 4']].sum(axis=1)"
   ]
  },
  {
   "cell_type": "code",
   "execution_count": 97,
   "metadata": {
    "ExecuteTime": {
     "end_time": "2021-11-11T16:44:54.099922Z",
     "start_time": "2021-11-11T16:44:47.970178Z"
    }
   },
   "outputs": [],
   "source": [
    "for col in stations_b:\n",
    "    df.drop(col,axis=1,inplace=True)"
   ]
  },
  {
   "cell_type": "markdown",
   "metadata": {},
   "source": [
    "## C Train (IND)"
   ]
  },
  {
   "cell_type": "code",
   "execution_count": 98,
   "metadata": {
    "ExecuteTime": {
     "end_time": "2021-11-11T16:45:01.522651Z",
     "start_time": "2021-11-11T16:44:54.100943Z"
    }
   },
   "outputs": [],
   "source": [
    "for s in stations_c:\n",
    "    delayed = df.loc[st_c]\n",
    "    ind = delayed.loc[delayed['delayed_stations']==s].index\n",
    "    df.loc[ind, '{}'.format(s)] = 1"
   ]
  },
  {
   "cell_type": "code",
   "execution_count": 99,
   "metadata": {
    "ExecuteTime": {
     "end_time": "2021-11-11T16:45:01.538243Z",
     "start_time": "2021-11-11T16:45:01.523651Z"
    }
   },
   "outputs": [],
   "source": [
    "line = df_r.loc[df_r['station'].str.contains('\\(C\\)|C/|/C')]\n",
    "line = list(line['station'])\n",
    "# for l in line:\n",
    "#     print(\"df[\"+\"'\"+\"{}\".format(l)+\"'\"+\"] = \")"
   ]
  },
  {
   "cell_type": "code",
   "execution_count": 100,
   "metadata": {
    "ExecuteTime": {
     "end_time": "2021-11-11T16:45:03.143520Z",
     "start_time": "2021-11-11T16:45:01.538752Z"
    }
   },
   "outputs": [],
   "source": [
    "df['103 St (B/C)'] = df.loc[:,['103 St (B/C)','103']].sum(axis=1)\n",
    "df['116 St (B/C)'] = df.loc[:,['116 St (B/C)','116']].sum(axis=1)\n",
    "df['125 St (A/B/C/D)'] = df.loc[:,['125 St (A/B/C/D)','125']].sum(axis=1)\n",
    "df['135 St (B/C)'] = df.loc[:,['135 St (B/C)','135']].sum(axis=1)\n",
    "df['14 St (A/C/E)/8 Av (L)'] = df.loc[:,['14 St (A/C/E)/8 Av (L)','14 st']].sum(axis=1)\n",
    "df['145 St (A/B/C/D)'] = df.loc[:,['145 St (A/B/C/D)','145']].sum(axis=1)\n",
    "df['155 St (C)'] = df['155']\n",
    "df['163 St-Amsterdam Av (C)'] = df['163']\n",
    "df['168 St (A/C/1)'] = df.loc[:,['168 St (A/C/1)','168']].sum(axis=1)\n",
    "df['34 St-Penn Station (A/C/E)'] = df.loc[:,['penn sta','34']].sum(axis=1)\n",
    "df['50 St (C/E)'] = df['50']\n",
    "df['59 St-Columbus Circle (A/B/C/D/1)'] = df.loc[:,['59 St-Columbus Circle (A/B/C/D/1)','columbus',\n",
    "                                                   '59']].sum(axis=1)\n",
    "df['72 St (B/C)'] = df.loc[:,['72 St (B/C)','72']].sum(axis=1)\n",
    "df['81 St-Museum of Natural History (B/C)'] = df.loc[:,['81 St-Museum of Natural History (B/C)','museum']].sum(axis=1)\n",
    "df['86 St (B/C)'] = df.loc[:,['86 St (B/C)','86']].sum(axis=1)\n",
    "df['96 St (B/C)'] = df.loc[:,['96 St (B/C)','96']].sum(axis=1)\n",
    "df['Broadway Junction (A/C/J/L/Z)'] = df.loc[:,['Broadway Junction (A/C/J/L/Z)',\n",
    "                                                'junction','jctn','bwy','broadway j','brdwy j','bdwy j']].sum(axis=1)\n",
    "df['Canal St (A/C/E)'] = df.loc[:,['Canal St (A/C/E)','canal']].sum(axis=1)\n",
    "df['Cathedral Pkwy-110 St (B/C)'] = df.loc[:,['Cathedral Pkwy-110 St (B/C)','cathedral park','cathedral pk','110']].sum(axis=1)\n",
    "df['Chambers St (A/C)/WTC (E)/Park Pl (2/3)/Cortlandt (R/W)'] = df.loc[:,['Chambers St (A/C)/WTC (E)/Park Pl (2/3)/Cortlandt (R/W)',\n",
    "                                                                         'chambers']].sum(axis=1)\n",
    "df['Clinton-Washington Avs (C)'] = df['clinton w']\n",
    "df['Euclid Av (A/C)'] = df.loc[:,['Euclid Av (A/C)','euclid']].sum(axis=1)\n",
    "df['Franklin Av (C/S)'] = df['franklin av']\n",
    "df['Fulton St (A/C/J/Z/2/3/4/5)'] = df.loc[:,['Fulton St (A/C/J/Z/2/3/4/5)','fulton']].sum(axis=1)\n",
    "df['High St (A/C)'] = df.loc[:,['High St (A/C)','high']].sum(axis=1)\n",
    "df['Hoyt-Schermerhorn Sts (A/C/G)'] = df.loc[:,['Hoyt-Schermerhorn Sts (A/C/G)','hoyt']].sum(axis=1)\n",
    "df['Jay St-MetroTech (A/C/F/R)'] = df.loc[:,['Jay St-MetroTech (A/C/F/R)','jay']].sum(axis=1)\n",
    "df['Kingston-Throop Avs (C)'] = df['kingston']\n",
    "df['Lafayette Av (C)'] = df['lafayette av']\n",
    "df['Liberty Av (C)'] = df['liberty']\n",
    "df['Nostrand Av (A/C)'] = df['nostrand']\n",
    "df['Ralph Av (C)'] = df['ralph']\n",
    "df['Rockaway Av (C)'] = df['rockaway']\n",
    "df['Shepherd Av (C)'] = df['shepherd']\n",
    "df['Spring St (C/E)'] = df['spring']\n",
    "df['Times Sq-42 St (N/Q/R/W/S/1/2/3/7)/42 St (A/C/E)'] = df.loc[:,['Times Sq-42 St (N/Q/R/W/S/1/2/3/7)/42 St (A/C/E)',\n",
    "                                                                  'port auth','42']].sum(axis=1)\n",
    "df['Utica Av (A/C)'] = df.loc[:,['Utica Av (A/C)','utica']].sum(axis=1)\n",
    "df['Van Siclen Av (C)'] = df['van siclen']\n",
    "df['West 4 St-Washington Sq (A/B/C/D/E/F/M)'] = df.loc[:,['West 4 St-Washington Sq (A/B/C/D/E/F/M)',\n",
    "                                                          'west 4','washington sq','wash sq','w 4']].sum(axis=1)"
   ]
  },
  {
   "cell_type": "code",
   "execution_count": 101,
   "metadata": {
    "ExecuteTime": {
     "end_time": "2021-11-11T16:45:09.638002Z",
     "start_time": "2021-11-11T16:45:03.144520Z"
    }
   },
   "outputs": [],
   "source": [
    "for col in stations_c:\n",
    "    df.drop(col,axis=1,inplace=True)"
   ]
  },
  {
   "cell_type": "markdown",
   "metadata": {},
   "source": [
    "## D Train (IND)"
   ]
  },
  {
   "cell_type": "code",
   "execution_count": 102,
   "metadata": {
    "ExecuteTime": {
     "end_time": "2021-11-11T16:45:17.042682Z",
     "start_time": "2021-11-11T16:45:09.639002Z"
    }
   },
   "outputs": [],
   "source": [
    "for s in stations_d:\n",
    "    delayed = df.loc[st_d]\n",
    "    ind = delayed.loc[delayed['delayed_stations']==s].index\n",
    "    df.loc[ind, '{}'.format(s)] = 1"
   ]
  },
  {
   "cell_type": "code",
   "execution_count": 103,
   "metadata": {
    "ExecuteTime": {
     "end_time": "2021-11-11T16:45:17.058190Z",
     "start_time": "2021-11-11T16:45:17.043682Z"
    }
   },
   "outputs": [],
   "source": [
    "line = df_r.loc[df_r['station'].str.contains('\\(D\\)|D/|/D')]\n",
    "line = list(line['station'])\n",
    "# for l in line:\n",
    "#     print(\"df[\"+\"'\"+\"{}\".format(l)+\"'\"+\"] = \")"
   ]
  },
  {
   "cell_type": "code",
   "execution_count": 104,
   "metadata": {
    "ExecuteTime": {
     "end_time": "2021-11-11T16:45:19.304537Z",
     "start_time": "2021-11-11T16:45:17.059702Z"
    }
   },
   "outputs": [],
   "source": [
    "df['125 St (A/B/C/D)'] = df.loc[:,['125 St (A/B/C/D)','125']].sum(axis=1)\n",
    "df['145 St (A/B/C/D)'] = df.loc[:,['145 St (A/B/C/D)','145']].sum(axis=1)\n",
    "df['155 St (B/D)'] = df.loc[:,['155 St (B/D)','155']].sum(axis=1)\n",
    "df['161 St-Yankee Stadium (B/D/4)'] = df.loc[:,['161 St-Yankee Stadium (B/D/4)','161']].sum(axis=1)\n",
    "df['167 St (B/D)'] = df.loc[:,['167 St (B/D)','167']].sum(axis=1)\n",
    "df['170 St (B/D)'] = df.loc[:,['170 St (B/D)','170']].sum(axis=1)\n",
    "df['174-175 Sts (B/D)'] = df.loc[:,['174-175 Sts (B/D)','174','175']].sum(axis=1)\n",
    "df['18 Av (D)'] = df['18 av']\n",
    "df['182-183 Sts (B/D)'] = df.loc[:,['182-183 Sts (B/D)','182','183']].sum(axis=1)\n",
    "df['20 Av (D)'] = df['20 av']\n",
    "df['25 Av (D)'] = df['25 av']\n",
    "df['34 St-Herald Sq (B/D/F/M/N/Q/R/W)'] = df.loc[:,['34 St-Herald Sq (B/D/F/M/N/Q/R/W)','herald sq','34']].sum(axis=1)\n",
    "df['36 St (D/N/R)'] = df['36']\n",
    "df['42 St-Bryant Pk (B/D/F/M)/5 Av (7)'] = df.loc[:,['42 St-Bryant Pk (B/D/F/M)/5 Av (7)', 'bryant','42','5 av']].sum(axis=1)\n",
    "df['47-50 Sts-Rockefeller Center (B/D/F/M)'] = df.loc[:,['47-50','47','47-50 Sts-Rockefeller Center (B/D/F/M)']].sum(axis=1)\n",
    "df['50 St (D)'] = df['50']\n",
    "df['55 St (D)'] = df['55']\n",
    "df['59 St-Columbus Circle (A/B/C/D/1)'] = df.loc[:,['59 St-Columbus Circle (A/B/C/D/1)','columbus',\n",
    "                                                   '59']].sum(axis=1)\n",
    "df['71 St (D)'] = df['71']\n",
    "df['79 St (D)'] = df['79']\n",
    "df['9 Av (D)'] = df['9 av']\n",
    "df['Atlantic Av-Barclays Ctr (B/D/N/Q/R/2/3/4/5)'] = df.loc[:,['Atlantic Av-Barclays Ctr (B/D/N/Q/R/2/3/4/5)',\n",
    "                                                               'atlantic']].sum(axis=1)\n",
    "df['Bay 50 St (D)'] = df['bay 50']\n",
    "df['Bay Pkwy (D)'] = df.loc[:,['bay park','bay pk']].sum(axis=1)\n",
    "df['Bedford Park Blvd (B/D)'] = df.loc[:,['Bedford Park Blvd (B/D)','bedford']].sum(axis=1)\n",
    "df['Broadway-Lafayette St (B/D/F/M)/Bleecker St (6)'] = df.loc[:,['Broadway-Lafayette St (B/D/F/M)/Bleecker St (6)',\n",
    "                                                                  'bway l','broadway l','brdwy l','bdwy l']].sum(axis=1)\n",
    "df['Coney Island-Stillwell Av (D/F/N/Q)'] = df.loc[:,['stillwell','coney']].sum(axis=1)\n",
    "df['Fordham Rd (B/D)'] = df.loc[:,['Fordham Rd (B/D)','fordham']].sum(axis=1)\n",
    "df['Fort Hamilton Pkwy (D)'] = df.loc[:,['ft ham','fort ham']].sum(axis=1)\n",
    "df['Grand St (B/D)'] = df['grand st']\n",
    "df['Kingsbridge Rd (B/D)'] = df['kingsbridge']\n",
    "df['New Utrecht Av (N)/62 St (D)'] = df['62']\n",
    "df['Norwood-205 St (D)'] = df.loc[:,['norwood','205']].sum(axis=1)\n",
    "df['Tremont Av (B/D)'] = df.loc[:,['tremont','Tremont Av (B/D)']].sum(axis=1)\n",
    "df['West 4 St-Washington Sq (A/B/C/D/E/F/M)'] = df.loc[:,['West 4 St-Washington Sq (A/B/C/D/E/F/M)',\n",
    "                                                          'west 4','washington sq','wash sq','w 4']].sum(axis=1)"
   ]
  },
  {
   "cell_type": "code",
   "execution_count": 105,
   "metadata": {
    "ExecuteTime": {
     "end_time": "2021-11-11T16:45:25.603547Z",
     "start_time": "2021-11-11T16:45:19.305538Z"
    }
   },
   "outputs": [],
   "source": [
    "for col in stations_d:\n",
    "    df.drop(col,axis=1,inplace=True)"
   ]
  },
  {
   "cell_type": "markdown",
   "metadata": {},
   "source": [
    "## E Train (IND)"
   ]
  },
  {
   "cell_type": "code",
   "execution_count": 106,
   "metadata": {
    "ExecuteTime": {
     "end_time": "2021-11-11T16:45:29.697573Z",
     "start_time": "2021-11-11T16:45:25.604548Z"
    }
   },
   "outputs": [],
   "source": [
    "for s in stations_e:\n",
    "    delayed = df.loc[st_e]\n",
    "    ind = delayed.loc[delayed['delayed_stations']==s].index\n",
    "    df.loc[ind, '{}'.format(s)] = 1"
   ]
  },
  {
   "cell_type": "code",
   "execution_count": 107,
   "metadata": {
    "ExecuteTime": {
     "end_time": "2021-11-11T16:45:29.713557Z",
     "start_time": "2021-11-11T16:45:29.698553Z"
    }
   },
   "outputs": [],
   "source": [
    "line = df_r.loc[df_r['station'].str.contains('\\(E\\)|E/|/E')]\n",
    "line = list(line['station'])\n",
    "# for l in line:\n",
    "#     print(\"df[\"+\"'\"+\"{}\".format(l)+\"'\"+\"] = \")"
   ]
  },
  {
   "cell_type": "code",
   "execution_count": 108,
   "metadata": {
    "ExecuteTime": {
     "end_time": "2021-11-11T16:45:30.883916Z",
     "start_time": "2021-11-11T16:45:29.714557Z"
    }
   },
   "outputs": [],
   "source": [
    "df['14 St (A/C/E)/8 Av (L)'] = df.loc[:,['14 St (A/C/E)/8 Av (L)','14 st']].sum(axis=1)\n",
    "df['34 St-Penn Station (A/C/E)'] = df.loc[:,['penn sta','34']].sum(axis=1)\n",
    "df['50 St (C/E)'] = df.loc[:,['50 St (C/E)','50']].sum(axis=1)\n",
    "df['74-Broadway (7)/Jackson Hts-Roosevelt Av (E/F/M/R)'] = df.loc[:,['74-Broadway (7)/Jackson Hts-Roosevelt Av (E/F/M/R)',\n",
    "                                                                    'jackson h']].sum(axis=1)\n",
    "df['75 Av (E/F)'] = df['75 av']\n",
    "df['Briarwood-Van Wyck Blvd (E/F)'] = df['briarwood']\n",
    "df['Canal St (A/C/E)'] = df.loc[:,['Canal St (A/C/E)','canal']].sum(axis=1)\n",
    "df['Chambers St (A/C)/WTC (E)/Park Pl (2/3)/Cortlandt (R/W)'] = df.loc[:,['Chambers St (A/C)/WTC (E)/Park Pl (2/3)/Cortlandt (R/W)',\n",
    "                                                                         'wtc','world trade center']].sum(axis=1)\n",
    "df['Forest Hills-71 Av (E/F/M/R)'] = df.loc[:,['forest h','71','Forest Hills-71 Av (E/F/M/R)']].sum(axis=1)\n",
    "df['Jamaica Center-Parsons-Archer (E/J/Z)'] = df['jamaica c']\n",
    "df['Jamaica-Van Wyck (E)'] = df['jamaica v']\n",
    "df['Kew Gardens-Union Turnpike (E/F)'] = df['kew gardens']\n",
    "df['Lexington Av-53 St (E/M)/51 St (6)'] = df.loc[:,['Lexington Av-53 St (E/M)/51 St (6)','lexington av']].sum(axis=1)\n",
    "df['Queens Plaza (E/M/R)'] = df.loc[:,['queens pl','qns pl']].sum(axis=1)\n",
    "df['Spring St (C/E)'] = df['spring']\n",
    "df['Sutphin Blvd-Archer Av-JFK Airport (E/J/Z)'] = df['sutphin']\n",
    "df['Times Sq-42 St (N/Q/R/W/S/1/2/3/7)/42 St (A/C/E)'] = df.loc[:,['Times Sq-42 St (N/Q/R/W/S/1/2/3/7)/42 St (A/C/E)',\n",
    "                                                                  'port auth','42']].sum(axis=1)\n",
    "df['West 4 St-Washington Sq (A/B/C/D/E/F/M)'] = df.loc[:,['West 4 St-Washington Sq (A/B/C/D/E/F/M)',\n",
    "                                                          'west 4','washington sq','wash sq','w 4']].sum(axis=1)"
   ]
  },
  {
   "cell_type": "code",
   "execution_count": 109,
   "metadata": {
    "ExecuteTime": {
     "end_time": "2021-11-11T16:45:34.271229Z",
     "start_time": "2021-11-11T16:45:30.884917Z"
    }
   },
   "outputs": [],
   "source": [
    "for col in stations_e:\n",
    "    df.drop(col,axis=1,inplace=True)"
   ]
  },
  {
   "cell_type": "markdown",
   "metadata": {},
   "source": [
    "### 7 Av (B/D/E)"
   ]
  },
  {
   "cell_type": "code",
   "execution_count": 110,
   "metadata": {
    "ExecuteTime": {
     "end_time": "2021-11-11T16:45:34.287234Z",
     "start_time": "2021-11-11T16:45:34.272229Z"
    }
   },
   "outputs": [],
   "source": [
    "for s in stations_bde:\n",
    "    delayed = df.loc[st_bde]\n",
    "    ind = delayed.loc[delayed['delayed_stations']==s].index\n",
    "    df.loc[ind, '{}'.format(s)] = 1"
   ]
  },
  {
   "cell_type": "code",
   "execution_count": 111,
   "metadata": {
    "ExecuteTime": {
     "end_time": "2021-11-11T16:45:34.302874Z",
     "start_time": "2021-11-11T16:45:34.288235Z"
    }
   },
   "outputs": [],
   "source": [
    "line = df_r.loc[df_r['station'].str.startswith('7 Av')]\n",
    "line = list(line['station'])\n",
    "# for l in line:\n",
    "#     print(\"df[\"+\"'\"+\"{}\".format(l)+\"'\"+\"] = \")"
   ]
  },
  {
   "cell_type": "markdown",
   "metadata": {},
   "source": [
    "F/G 7 Av will be accounted for on as part of F/G and not separately"
   ]
  },
  {
   "cell_type": "code",
   "execution_count": 112,
   "metadata": {
    "ExecuteTime": {
     "end_time": "2021-11-11T16:45:34.365459Z",
     "start_time": "2021-11-11T16:45:34.303874Z"
    }
   },
   "outputs": [],
   "source": [
    "df['7 Av (B/D/E)'] = df['7 av']"
   ]
  },
  {
   "cell_type": "code",
   "execution_count": 113,
   "metadata": {
    "ExecuteTime": {
     "end_time": "2021-11-11T16:45:34.616456Z",
     "start_time": "2021-11-11T16:45:34.366459Z"
    }
   },
   "outputs": [],
   "source": [
    "for col in stations_bde:\n",
    "    df.drop(col,axis=1,inplace=True)"
   ]
  },
  {
   "cell_type": "markdown",
   "metadata": {},
   "source": [
    "### 23 st (C/E)"
   ]
  },
  {
   "cell_type": "markdown",
   "metadata": {},
   "source": [
    "Had to separate this one due to Court Sq-23 St"
   ]
  },
  {
   "cell_type": "code",
   "execution_count": 114,
   "metadata": {
    "ExecuteTime": {
     "end_time": "2021-11-11T16:45:34.631725Z",
     "start_time": "2021-11-11T16:45:34.617727Z"
    }
   },
   "outputs": [],
   "source": [
    "for s in stations_ce:\n",
    "    delayed = df.loc[st_ce]\n",
    "    ind = delayed.loc[delayed['delayed_stations']==s].index\n",
    "    df.loc[ind, '{}'.format(s)] = 1"
   ]
  },
  {
   "cell_type": "code",
   "execution_count": 115,
   "metadata": {
    "ExecuteTime": {
     "end_time": "2021-11-11T16:45:34.725696Z",
     "start_time": "2021-11-11T16:45:34.632725Z"
    }
   },
   "outputs": [],
   "source": [
    "line = df_r.loc[df_r['station'].str.contains('23 St')]\n",
    "line = list(line['station'])\n",
    "# for l in line:\n",
    "#     print(\"df[\"+\"'\"+\"{}\".format(l)+\"'\"+\"] = \")"
   ]
  },
  {
   "cell_type": "code",
   "execution_count": 116,
   "metadata": {
    "ExecuteTime": {
     "end_time": "2021-11-11T16:45:34.788348Z",
     "start_time": "2021-11-11T16:45:34.726696Z"
    }
   },
   "outputs": [],
   "source": [
    "df['23 St (C/E)'] = df['23 st']"
   ]
  },
  {
   "cell_type": "code",
   "execution_count": 117,
   "metadata": {
    "ExecuteTime": {
     "end_time": "2021-11-11T16:45:35.036219Z",
     "start_time": "2021-11-11T16:45:34.789378Z"
    }
   },
   "outputs": [],
   "source": [
    "for col in stations_ce:\n",
    "    df.drop(col,axis=1,inplace=True)"
   ]
  },
  {
   "cell_type": "markdown",
   "metadata": {},
   "source": [
    "## F Train (IND)"
   ]
  },
  {
   "cell_type": "code",
   "execution_count": 118,
   "metadata": {
    "ExecuteTime": {
     "end_time": "2021-11-11T16:45:46.110452Z",
     "start_time": "2021-11-11T16:45:35.037426Z"
    }
   },
   "outputs": [],
   "source": [
    "for s in stations_f:\n",
    "    delayed = df.loc[st_f]\n",
    "    ind = delayed.loc[delayed['delayed_stations']==s].index\n",
    "    df.loc[ind, '{}'.format(s)] = 1"
   ]
  },
  {
   "cell_type": "code",
   "execution_count": 119,
   "metadata": {
    "ExecuteTime": {
     "end_time": "2021-11-11T16:45:46.125684Z",
     "start_time": "2021-11-11T16:45:46.111453Z"
    }
   },
   "outputs": [],
   "source": [
    "line = df_r.loc[df_r['station'].str.contains('\\(F\\)|F/|/F')]\n",
    "line = list(line['station'])\n",
    "# for l in line:\n",
    "#     print(\"df[\"+\"'\"+\"{}\".format(l)+\"'\"+\"] = \")"
   ]
  },
  {
   "cell_type": "code",
   "execution_count": 120,
   "metadata": {
    "ExecuteTime": {
     "end_time": "2021-11-11T16:45:49.728569Z",
     "start_time": "2021-11-11T16:45:46.126684Z"
    }
   },
   "outputs": [],
   "source": [
    "df['14 St (F/M/1/2/3)/6 Av (L)'] = df.loc[:,['14 St (F/M/1/2/3)/6 Av (L)','14 st']].sum(axis=1)\n",
    "df['15 St-Prospect Park (F/G)'] = df.loc[:,['prospect p','15 st']].sum(axis=1)\n",
    "df['169 St (F)'] = df['169']\n",
    "df['18 Av (F)'] = df['18 av']\n",
    "df['2 Av (F)'] = df['2 av']\n",
    "df['21 St-Queensbridge (F)'] = df.loc[:,['21 st','qnsbr','queensbr']].sum(axis=1)\n",
    "df['23 St (F/M)'] = df['23 st']\n",
    "df['34 St-Herald Sq (B/D/F/M/N/Q/R/W)'] = df.loc[:,['34 St-Herald Sq (B/D/F/M/N/Q/R/W)','herald sq','34']].sum(axis=1)\n",
    "df['42 St-Bryant Pk (B/D/F/M)/5 Av (7)'] = df.loc[:,['42 St-Bryant Pk (B/D/F/M)/5 Av (7)', 'bryant','42','5 av']].sum(axis=1)\n",
    "df['47-50 Sts-Rockefeller Center (B/D/F/M)'] = df.loc[:,['47-50','47','47-50 Sts-Rockefeller Center (B/D/F/M)']].sum(axis=1)\n",
    "df['57 St (F)'] = df['57']\n",
    "df['7 Av (F/G)'] = df['7 av']\n",
    "df['74-Broadway (7)/Jackson Hts-Roosevelt Av (E/F/M/R)'] = df.loc[:,['74-Broadway (7)/Jackson Hts-Roosevelt Av (E/F/M/R)',\n",
    "                                                                    'jackson h','roosevelt av']].sum(axis=1)\n",
    "df['75 Av (E/F)'] = df.loc[:,['75 Av (E/F)','75 av']].sum(axis=1)\n",
    "df['Avenue I (F)'] = df.loc[:,['avenue i','av i']].sum(axis=1)\n",
    "df['Avenue N (F)'] = df.loc[:,['avenue n','av n']].sum(axis=1)\n",
    "df['Avenue P (F)'] = df.loc[:,['avenue p','av p']].sum(axis=1)\n",
    "df['Avenue U (F)'] = df.loc[:,['avenue u','av u']].sum(axis=1)\n",
    "df['Avenue X (F)'] = df.loc[:,['avenue x','av x']].sum(axis=1)\n",
    "df['Bay Pkwy (F)'] = df['bay p']\n",
    "df['Bergen St (F/G)'] = df['bergen']\n",
    "df['Briarwood-Van Wyck Blvd (E/F)'] = df.loc[:,['briarwood','Briarwood-Van Wyck Blvd (E/F)']].sum(axis=1)\n",
    "df['Broadway-Lafayette St (B/D/F/M)/Bleecker St (6)'] = df.loc[:,['Broadway-Lafayette St (B/D/F/M)/Bleecker St (6)',\n",
    "                                                                  'bway l','broadway l','brdwy l','bdwy l']].sum(axis=1)\n",
    "df['Carroll St (F/G)'] = df['carroll']\n",
    "df['Church Av (F/G)'] = df['church']\n",
    "df['Coney Island-Stillwell Av (D/F/N/Q)'] = df.loc[:,['stillwell','Coney Island-Stillwell Av (D/F/N/Q)','coney']].sum(axis=1)\n",
    "df['Delancey St (F)/Essex St (J/M/Z)'] = df.loc[:,['essex','delancey']].sum(axis=1)\n",
    "df['Ditmas Av (F)'] = df['ditmas']\n",
    "df['East Broadway (F)'] = df.loc[:,['east br','e br']].sum(axis=1)\n",
    "df['Forest Hills-71 Av (E/F/M/R)'] = df.loc[:,['Forest Hills-71 Av (E/F/M/R)','forest h','71']].sum(axis=1)\n",
    "df['Fort Hamilton Pkwy (F/G)'] = df.loc[:,['fort ham','ft ham']].sum(axis=1)\n",
    "df['Jamaica-179 St (F)'] = df['jamaica']\n",
    "df['Jay St-MetroTech (A/C/F/R)'] = df.loc[:,['Jay St-MetroTech (A/C/F/R)','jay']].sum(axis=1)\n",
    "df['Kew Gardens-Union Turnpike (E/F)'] = df.loc[:,['Kew Gardens-Union Turnpike (E/F)','kew gardens']].sum(axis=1)\n",
    "df['Kings Hwy (F)'] = df['kings h']\n",
    "df['Lexington Av-63 St (F/Q)'] = df.loc[:,['lexington av','63']].sum(axis=1)\n",
    "df['Neptune Av (F)'] = df['neptune']\n",
    "df['Parsons Blvd (F)'] = df['parsons']\n",
    "df['Roosevelt Island (F)'] = df['roosevelt i']\n",
    "df['Sutphin Blvd (F)'] = df['sutphin']\n",
    "df['West 4 St-Washington Sq (A/B/C/D/E/F/M)'] = df.loc[:,['West 4 St-Washington Sq (A/B/C/D/E/F/M)',\n",
    "                                                          'west 4','washington sq','wash sq','w 4']].sum(axis=1)\n",
    "df['West 8 St-New York Aquarium (F/Q)'] = df.loc[:,['west 8','w 8','aquarium']].sum(axis=1)\n",
    "df['York St (F)'] = df['york']"
   ]
  },
  {
   "cell_type": "code",
   "execution_count": 121,
   "metadata": {
    "ExecuteTime": {
     "end_time": "2021-11-11T16:45:58.504818Z",
     "start_time": "2021-11-11T16:45:49.729569Z"
    }
   },
   "outputs": [],
   "source": [
    "for col in stations_f:\n",
    "    df.drop(col,axis=1,inplace=True)"
   ]
  },
  {
   "cell_type": "markdown",
   "metadata": {},
   "source": [
    "## G Train (IND)"
   ]
  },
  {
   "cell_type": "code",
   "execution_count": 122,
   "metadata": {
    "ExecuteTime": {
     "end_time": "2021-11-11T16:46:01.812321Z",
     "start_time": "2021-11-11T16:45:58.505842Z"
    }
   },
   "outputs": [],
   "source": [
    "for s in stations_g:\n",
    "    delayed = df.loc[st_g]\n",
    "    ind = delayed.loc[delayed['delayed_stations']==s].index\n",
    "    df.loc[ind, '{}'.format(s)] = 1"
   ]
  },
  {
   "cell_type": "code",
   "execution_count": 123,
   "metadata": {
    "ExecuteTime": {
     "end_time": "2021-11-11T16:46:01.827966Z",
     "start_time": "2021-11-11T16:46:01.813322Z"
    }
   },
   "outputs": [],
   "source": [
    "line = df_r.loc[df_r['station'].str.contains('\\(G\\)|G/|/G')]\n",
    "line = list(line['station'])\n",
    "# for l in line:\n",
    "#     print(\"df[\"+\"'\"+\"{}\".format(l)+\"'\"+\"] = \")"
   ]
  },
  {
   "cell_type": "code",
   "execution_count": 124,
   "metadata": {
    "ExecuteTime": {
     "end_time": "2021-11-11T16:46:03.448170Z",
     "start_time": "2021-11-11T16:46:01.828944Z"
    }
   },
   "outputs": [],
   "source": [
    "df['15 St-Prospect Park (F/G)'] = df.loc[:,['15 St-Prospect Park (F/G)','prospect p']].sum(axis=1)\n",
    "df['21 St (G)'] = df['21 st']\n",
    "df['7 Av (F/G)'] = df.loc[:,['7 Av (F/G)','7 av']].sum(axis=1)\n",
    "df['Bedford-Nostrand Avs (G)'] = df.loc[:,['nostrand','bedford']].sum(axis=1)\n",
    "df['Bergen St (F/G)'] = df.loc[:,['Bergen St (F/G)','bergen']].sum(axis=1)\n",
    "df['Broadway (G)'] = df['broadway']\n",
    "df['Carroll St (F/G)'] = df.loc[:,['Carroll St (F/G)','carroll']].sum(axis=1)\n",
    "df['Church Av (F/G)'] = df.loc[:,['Church Av (F/G)','church']].sum(axis=1)\n",
    "df['Classon Av (G)'] = df['classon']\n",
    "df['Clinton-Washington Avs (G)'] = df.loc[:,['washington','clinton']].sum(axis=1)\n",
    "df['Flushing Av (G)'] = df['flushing']\n",
    "df['Fort Hamilton Pkwy (F/G)'] = df.loc[:,['Fort Hamilton Pkwy (F/G)','fort ham','ft ham']].sum(axis=1)\n",
    "df['Fulton St (G)'] = df['fulton']\n",
    "df['Greenpoint Av (G)'] = df['greenpoint']\n",
    "df['Hoyt-Schermerhorn Sts (A/C/G)'] = df.loc[:,['Hoyt-Schermerhorn Sts (A/C/G)','hoyt']].sum(axis=1)\n",
    "df['Lorimer St (L)/Metropolitan Av (G)'] = df['metropolitan']\n",
    "df['Myrtle-Willoughby Avs (G)'] = df.loc[:,['willoughby','myrtle']].sum(axis=1)\n",
    "df['Nassau Av (G)'] = df['nassau']"
   ]
  },
  {
   "cell_type": "code",
   "execution_count": 125,
   "metadata": {
    "ExecuteTime": {
     "end_time": "2021-11-11T16:46:06.314157Z",
     "start_time": "2021-11-11T16:46:03.449145Z"
    }
   },
   "outputs": [],
   "source": [
    "for col in stations_g:\n",
    "    df.drop(col,axis=1,inplace=True)"
   ]
  },
  {
   "cell_type": "markdown",
   "metadata": {},
   "source": [
    "### Smith-9 St (F/G)"
   ]
  },
  {
   "cell_type": "code",
   "execution_count": 126,
   "metadata": {
    "ExecuteTime": {
     "end_time": "2021-11-11T16:46:06.486942Z",
     "start_time": "2021-11-11T16:46:06.315661Z"
    }
   },
   "outputs": [],
   "source": [
    "for s in stations_fg:\n",
    "    delayed = df.loc[st_fg]\n",
    "    ind = delayed.loc[delayed['delayed_stations']==s].index\n",
    "    df.loc[ind, '{}'.format(s)] = 1"
   ]
  },
  {
   "cell_type": "code",
   "execution_count": 127,
   "metadata": {
    "ExecuteTime": {
     "end_time": "2021-11-11T16:46:06.501914Z",
     "start_time": "2021-11-11T16:46:06.487909Z"
    }
   },
   "outputs": [],
   "source": [
    "line = df_r.loc[df_r['station'].str.contains('Smith')]\n",
    "line = list(line['station'])\n",
    "# for l in line:\n",
    "#     print(\"df[\"+\"'\"+\"{}\".format(l)+\"'\"+\"] = \")"
   ]
  },
  {
   "cell_type": "code",
   "execution_count": 128,
   "metadata": {
    "ExecuteTime": {
     "end_time": "2021-11-11T16:46:06.688371Z",
     "start_time": "2021-11-11T16:46:06.502913Z"
    }
   },
   "outputs": [],
   "source": [
    "df['Smith-9 Sts (F/G)'] = df.loc[:,['smith','9 st']].sum(axis=1)"
   ]
  },
  {
   "cell_type": "code",
   "execution_count": 129,
   "metadata": {
    "ExecuteTime": {
     "end_time": "2021-11-11T16:46:07.079001Z",
     "start_time": "2021-11-11T16:46:06.689372Z"
    }
   },
   "outputs": [],
   "source": [
    "for col in stations_fg:\n",
    "    df.drop(col,axis=1,inplace=True)"
   ]
  },
  {
   "cell_type": "markdown",
   "metadata": {},
   "source": [
    "## Rockaway Shuttle (IND)"
   ]
  },
  {
   "cell_type": "code",
   "execution_count": 130,
   "metadata": {
    "ExecuteTime": {
     "end_time": "2021-11-11T16:46:07.751219Z",
     "start_time": "2021-11-11T16:46:07.080506Z"
    }
   },
   "outputs": [],
   "source": [
    "for s in stations_rck:\n",
    "    delayed = df.loc[st_rck]\n",
    "    ind = delayed.loc[delayed['delayed_stations']==s].index\n",
    "    df.loc[ind, '{}'.format(s)] = 1"
   ]
  },
  {
   "cell_type": "code",
   "execution_count": 131,
   "metadata": {
    "ExecuteTime": {
     "end_time": "2021-11-11T16:46:07.767222Z",
     "start_time": "2021-11-11T16:46:07.752219Z"
    },
    "scrolled": true
   },
   "outputs": [],
   "source": [
    "line = df_r.loc[df_r['station'].str.contains('\\(S\\)|S/|/S')]\n",
    "line = list(line['station'])\n",
    "# for l in line:\n",
    "#     print(\"df[\"+\"'\"+\"{}\".format(l)+\"'\"+\"] = \")"
   ]
  },
  {
   "cell_type": "code",
   "execution_count": 132,
   "metadata": {
    "ExecuteTime": {
     "end_time": "2021-11-11T16:46:08.017025Z",
     "start_time": "2021-11-11T16:46:07.768223Z"
    }
   },
   "outputs": [],
   "source": [
    "df['Beach 105 St (A/S)'] = df['beach 105']\n",
    "df['Beach 90 St (A/S)'] = df['beach 90']\n",
    "df['Beach 98 St (A/S)'] = df['beach 98']\n",
    "df['Broad Channel (A/S)'] = df['broad ch']\n",
    "df['Rockaway Park-Beach 116 St (A/S)'] = df.loc[:,['rockaway p','beach 116']].sum(axis=1)"
   ]
  },
  {
   "cell_type": "code",
   "execution_count": 133,
   "metadata": {
    "ExecuteTime": {
     "end_time": "2021-11-11T16:46:08.731037Z",
     "start_time": "2021-11-11T16:46:08.018026Z"
    }
   },
   "outputs": [],
   "source": [
    "for col in stations_rck:\n",
    "    df.drop(col,axis=1,inplace=True)"
   ]
  },
  {
   "cell_type": "markdown",
   "metadata": {},
   "source": [
    "## J Train (BMT)"
   ]
  },
  {
   "cell_type": "code",
   "execution_count": 134,
   "metadata": {
    "ExecuteTime": {
     "end_time": "2021-11-11T16:46:15.221843Z",
     "start_time": "2021-11-11T16:46:08.732007Z"
    }
   },
   "outputs": [],
   "source": [
    "for s in stations_j:\n",
    "    delayed = df.loc[st_j]\n",
    "    ind = delayed.loc[delayed['delayed_stations']==s].index\n",
    "    df.loc[ind, '{}'.format(s)] = 1"
   ]
  },
  {
   "cell_type": "code",
   "execution_count": 135,
   "metadata": {
    "ExecuteTime": {
     "end_time": "2021-11-11T16:46:15.237366Z",
     "start_time": "2021-11-11T16:46:15.222866Z"
    }
   },
   "outputs": [],
   "source": [
    "line = df_r.loc[df_r['station'].str.contains('\\(J\\)|J/|/J')]\n",
    "line = list(line['station'])\n",
    "# for l in line:\n",
    "#     print(\"df[\"+\"'\"+\"{}\".format(l)+\"'\"+\"] = \")"
   ]
  },
  {
   "cell_type": "code",
   "execution_count": 136,
   "metadata": {
    "ExecuteTime": {
     "end_time": "2021-11-11T16:46:16.457678Z",
     "start_time": "2021-11-11T16:46:15.238391Z"
    }
   },
   "outputs": [
    {
     "ename": "KeyboardInterrupt",
     "evalue": "",
     "output_type": "error",
     "traceback": [
      "\u001b[1;31m---------------------------------------------------------------------------\u001b[0m",
      "\u001b[1;31mKeyboardInterrupt\u001b[0m                         Traceback (most recent call last)",
      "\u001b[1;32m~\\AppData\\Local\\Temp/ipykernel_25008/3781058429.py\u001b[0m in \u001b[0;36m<module>\u001b[1;34m\u001b[0m\n\u001b[0;32m     16\u001b[0m \u001b[0mdf\u001b[0m\u001b[1;33m[\u001b[0m\u001b[1;34m'Crescent St (J/Z)'\u001b[0m\u001b[1;33m]\u001b[0m \u001b[1;33m=\u001b[0m \u001b[0mdf\u001b[0m\u001b[1;33m[\u001b[0m\u001b[1;34m'crescent'\u001b[0m\u001b[1;33m]\u001b[0m\u001b[1;33m\u001b[0m\u001b[1;33m\u001b[0m\u001b[0m\n\u001b[0;32m     17\u001b[0m \u001b[0mdf\u001b[0m\u001b[1;33m[\u001b[0m\u001b[1;34m'Cypress Hills (J)'\u001b[0m\u001b[1;33m]\u001b[0m \u001b[1;33m=\u001b[0m \u001b[0mdf\u001b[0m\u001b[1;33m[\u001b[0m\u001b[1;34m'cypress'\u001b[0m\u001b[1;33m]\u001b[0m\u001b[1;33m\u001b[0m\u001b[1;33m\u001b[0m\u001b[0m\n\u001b[1;32m---> 18\u001b[1;33m \u001b[0mdf\u001b[0m\u001b[1;33m[\u001b[0m\u001b[1;34m'Delancey St (F)/Essex St (J/M/Z)'\u001b[0m\u001b[1;33m]\u001b[0m \u001b[1;33m=\u001b[0m \u001b[0mdf\u001b[0m\u001b[1;33m.\u001b[0m\u001b[0mloc\u001b[0m\u001b[1;33m[\u001b[0m\u001b[1;33m:\u001b[0m\u001b[1;33m,\u001b[0m\u001b[1;33m[\u001b[0m\u001b[1;34m'Delancey St (F)/Essex St (J/M/Z)'\u001b[0m\u001b[1;33m,\u001b[0m\u001b[1;34m'essex'\u001b[0m\u001b[1;33m,\u001b[0m\u001b[1;34m'delancey'\u001b[0m\u001b[1;33m]\u001b[0m\u001b[1;33m]\u001b[0m\u001b[1;33m.\u001b[0m\u001b[0msum\u001b[0m\u001b[1;33m(\u001b[0m\u001b[0maxis\u001b[0m\u001b[1;33m=\u001b[0m\u001b[1;36m1\u001b[0m\u001b[1;33m)\u001b[0m\u001b[1;33m\u001b[0m\u001b[1;33m\u001b[0m\u001b[0m\n\u001b[0m\u001b[0;32m     19\u001b[0m \u001b[0mdf\u001b[0m\u001b[1;33m[\u001b[0m\u001b[1;34m'Flushing Av (J/M)'\u001b[0m\u001b[1;33m]\u001b[0m \u001b[1;33m=\u001b[0m \u001b[0mdf\u001b[0m\u001b[1;33m[\u001b[0m\u001b[1;34m'flushing'\u001b[0m\u001b[1;33m]\u001b[0m\u001b[1;33m\u001b[0m\u001b[1;33m\u001b[0m\u001b[0m\n\u001b[0;32m     20\u001b[0m \u001b[0mdf\u001b[0m\u001b[1;33m[\u001b[0m\u001b[1;34m'Fulton St (A/C/J/Z/2/3/4/5)'\u001b[0m\u001b[1;33m]\u001b[0m \u001b[1;33m=\u001b[0m \u001b[0mdf\u001b[0m\u001b[1;33m.\u001b[0m\u001b[0mloc\u001b[0m\u001b[1;33m[\u001b[0m\u001b[1;33m:\u001b[0m\u001b[1;33m,\u001b[0m\u001b[1;33m[\u001b[0m\u001b[1;34m'fulton'\u001b[0m\u001b[1;33m,\u001b[0m\u001b[1;34m'Fulton St (A/C/J/Z/2/3/4/5)'\u001b[0m\u001b[1;33m]\u001b[0m\u001b[1;33m]\u001b[0m\u001b[1;33m.\u001b[0m\u001b[0msum\u001b[0m\u001b[1;33m(\u001b[0m\u001b[0maxis\u001b[0m\u001b[1;33m=\u001b[0m\u001b[1;36m1\u001b[0m\u001b[1;33m)\u001b[0m\u001b[1;33m\u001b[0m\u001b[1;33m\u001b[0m\u001b[0m\n",
      "\u001b[1;32m~\\anaconda3\\envs\\mta_env\\lib\\site-packages\\pandas\\core\\indexing.py\u001b[0m in \u001b[0;36m__getitem__\u001b[1;34m(self, key)\u001b[0m\n\u001b[0;32m    923\u001b[0m                 \u001b[1;32mwith\u001b[0m \u001b[0msuppress\u001b[0m\u001b[1;33m(\u001b[0m\u001b[0mKeyError\u001b[0m\u001b[1;33m,\u001b[0m \u001b[0mIndexError\u001b[0m\u001b[1;33m)\u001b[0m\u001b[1;33m:\u001b[0m\u001b[1;33m\u001b[0m\u001b[1;33m\u001b[0m\u001b[0m\n\u001b[0;32m    924\u001b[0m                     \u001b[1;32mreturn\u001b[0m \u001b[0mself\u001b[0m\u001b[1;33m.\u001b[0m\u001b[0mobj\u001b[0m\u001b[1;33m.\u001b[0m\u001b[0m_get_value\u001b[0m\u001b[1;33m(\u001b[0m\u001b[1;33m*\u001b[0m\u001b[0mkey\u001b[0m\u001b[1;33m,\u001b[0m \u001b[0mtakeable\u001b[0m\u001b[1;33m=\u001b[0m\u001b[0mself\u001b[0m\u001b[1;33m.\u001b[0m\u001b[0m_takeable\u001b[0m\u001b[1;33m)\u001b[0m\u001b[1;33m\u001b[0m\u001b[1;33m\u001b[0m\u001b[0m\n\u001b[1;32m--> 925\u001b[1;33m             \u001b[1;32mreturn\u001b[0m \u001b[0mself\u001b[0m\u001b[1;33m.\u001b[0m\u001b[0m_getitem_tuple\u001b[0m\u001b[1;33m(\u001b[0m\u001b[0mkey\u001b[0m\u001b[1;33m)\u001b[0m\u001b[1;33m\u001b[0m\u001b[1;33m\u001b[0m\u001b[0m\n\u001b[0m\u001b[0;32m    926\u001b[0m         \u001b[1;32melse\u001b[0m\u001b[1;33m:\u001b[0m\u001b[1;33m\u001b[0m\u001b[1;33m\u001b[0m\u001b[0m\n\u001b[0;32m    927\u001b[0m             \u001b[1;31m# we by definition only have the 0th axis\u001b[0m\u001b[1;33m\u001b[0m\u001b[1;33m\u001b[0m\u001b[0m\n",
      "\u001b[1;32m~\\anaconda3\\envs\\mta_env\\lib\\site-packages\\pandas\\core\\indexing.py\u001b[0m in \u001b[0;36m_getitem_tuple\u001b[1;34m(self, tup)\u001b[0m\n\u001b[0;32m   1107\u001b[0m             \u001b[1;32mreturn\u001b[0m \u001b[0mself\u001b[0m\u001b[1;33m.\u001b[0m\u001b[0m_multi_take\u001b[0m\u001b[1;33m(\u001b[0m\u001b[0mtup\u001b[0m\u001b[1;33m)\u001b[0m\u001b[1;33m\u001b[0m\u001b[1;33m\u001b[0m\u001b[0m\n\u001b[0;32m   1108\u001b[0m \u001b[1;33m\u001b[0m\u001b[0m\n\u001b[1;32m-> 1109\u001b[1;33m         \u001b[1;32mreturn\u001b[0m \u001b[0mself\u001b[0m\u001b[1;33m.\u001b[0m\u001b[0m_getitem_tuple_same_dim\u001b[0m\u001b[1;33m(\u001b[0m\u001b[0mtup\u001b[0m\u001b[1;33m)\u001b[0m\u001b[1;33m\u001b[0m\u001b[1;33m\u001b[0m\u001b[0m\n\u001b[0m\u001b[0;32m   1110\u001b[0m \u001b[1;33m\u001b[0m\u001b[0m\n\u001b[0;32m   1111\u001b[0m     \u001b[1;32mdef\u001b[0m \u001b[0m_get_label\u001b[0m\u001b[1;33m(\u001b[0m\u001b[0mself\u001b[0m\u001b[1;33m,\u001b[0m \u001b[0mlabel\u001b[0m\u001b[1;33m,\u001b[0m \u001b[0maxis\u001b[0m\u001b[1;33m:\u001b[0m \u001b[0mint\u001b[0m\u001b[1;33m)\u001b[0m\u001b[1;33m:\u001b[0m\u001b[1;33m\u001b[0m\u001b[1;33m\u001b[0m\u001b[0m\n",
      "\u001b[1;32m~\\anaconda3\\envs\\mta_env\\lib\\site-packages\\pandas\\core\\indexing.py\u001b[0m in \u001b[0;36m_getitem_tuple_same_dim\u001b[1;34m(self, tup)\u001b[0m\n\u001b[0;32m    804\u001b[0m                 \u001b[1;32mcontinue\u001b[0m\u001b[1;33m\u001b[0m\u001b[1;33m\u001b[0m\u001b[0m\n\u001b[0;32m    805\u001b[0m \u001b[1;33m\u001b[0m\u001b[0m\n\u001b[1;32m--> 806\u001b[1;33m             \u001b[0mretval\u001b[0m \u001b[1;33m=\u001b[0m \u001b[0mgetattr\u001b[0m\u001b[1;33m(\u001b[0m\u001b[0mretval\u001b[0m\u001b[1;33m,\u001b[0m \u001b[0mself\u001b[0m\u001b[1;33m.\u001b[0m\u001b[0mname\u001b[0m\u001b[1;33m)\u001b[0m\u001b[1;33m.\u001b[0m\u001b[0m_getitem_axis\u001b[0m\u001b[1;33m(\u001b[0m\u001b[0mkey\u001b[0m\u001b[1;33m,\u001b[0m \u001b[0maxis\u001b[0m\u001b[1;33m=\u001b[0m\u001b[0mi\u001b[0m\u001b[1;33m)\u001b[0m\u001b[1;33m\u001b[0m\u001b[1;33m\u001b[0m\u001b[0m\n\u001b[0m\u001b[0;32m    807\u001b[0m             \u001b[1;31m# We should never have retval.ndim < self.ndim, as that should\u001b[0m\u001b[1;33m\u001b[0m\u001b[1;33m\u001b[0m\u001b[0m\n\u001b[0;32m    808\u001b[0m             \u001b[1;31m#  be handled by the _getitem_lowerdim call above.\u001b[0m\u001b[1;33m\u001b[0m\u001b[1;33m\u001b[0m\u001b[0m\n",
      "\u001b[1;32m~\\anaconda3\\envs\\mta_env\\lib\\site-packages\\pandas\\core\\indexing.py\u001b[0m in \u001b[0;36m_getitem_axis\u001b[1;34m(self, key, axis)\u001b[0m\n\u001b[0;32m   1151\u001b[0m                     \u001b[1;32mraise\u001b[0m \u001b[0mValueError\u001b[0m\u001b[1;33m(\u001b[0m\u001b[1;34m\"Cannot index with multidimensional key\"\u001b[0m\u001b[1;33m)\u001b[0m\u001b[1;33m\u001b[0m\u001b[1;33m\u001b[0m\u001b[0m\n\u001b[0;32m   1152\u001b[0m \u001b[1;33m\u001b[0m\u001b[0m\n\u001b[1;32m-> 1153\u001b[1;33m                 \u001b[1;32mreturn\u001b[0m \u001b[0mself\u001b[0m\u001b[1;33m.\u001b[0m\u001b[0m_getitem_iterable\u001b[0m\u001b[1;33m(\u001b[0m\u001b[0mkey\u001b[0m\u001b[1;33m,\u001b[0m \u001b[0maxis\u001b[0m\u001b[1;33m=\u001b[0m\u001b[0maxis\u001b[0m\u001b[1;33m)\u001b[0m\u001b[1;33m\u001b[0m\u001b[1;33m\u001b[0m\u001b[0m\n\u001b[0m\u001b[0;32m   1154\u001b[0m \u001b[1;33m\u001b[0m\u001b[0m\n\u001b[0;32m   1155\u001b[0m             \u001b[1;31m# nested tuple slicing\u001b[0m\u001b[1;33m\u001b[0m\u001b[1;33m\u001b[0m\u001b[0m\n",
      "\u001b[1;32m~\\anaconda3\\envs\\mta_env\\lib\\site-packages\\pandas\\core\\indexing.py\u001b[0m in \u001b[0;36m_getitem_iterable\u001b[1;34m(self, key, axis)\u001b[0m\n\u001b[0;32m   1092\u001b[0m         \u001b[1;31m# A collection of keys\u001b[0m\u001b[1;33m\u001b[0m\u001b[1;33m\u001b[0m\u001b[0m\n\u001b[0;32m   1093\u001b[0m         \u001b[0mkeyarr\u001b[0m\u001b[1;33m,\u001b[0m \u001b[0mindexer\u001b[0m \u001b[1;33m=\u001b[0m \u001b[0mself\u001b[0m\u001b[1;33m.\u001b[0m\u001b[0m_get_listlike_indexer\u001b[0m\u001b[1;33m(\u001b[0m\u001b[0mkey\u001b[0m\u001b[1;33m,\u001b[0m \u001b[0maxis\u001b[0m\u001b[1;33m)\u001b[0m\u001b[1;33m\u001b[0m\u001b[1;33m\u001b[0m\u001b[0m\n\u001b[1;32m-> 1094\u001b[1;33m         return self.obj._reindex_with_indexers(\n\u001b[0m\u001b[0;32m   1095\u001b[0m             \u001b[1;33m{\u001b[0m\u001b[0maxis\u001b[0m\u001b[1;33m:\u001b[0m \u001b[1;33m[\u001b[0m\u001b[0mkeyarr\u001b[0m\u001b[1;33m,\u001b[0m \u001b[0mindexer\u001b[0m\u001b[1;33m]\u001b[0m\u001b[1;33m}\u001b[0m\u001b[1;33m,\u001b[0m \u001b[0mcopy\u001b[0m\u001b[1;33m=\u001b[0m\u001b[1;32mTrue\u001b[0m\u001b[1;33m,\u001b[0m \u001b[0mallow_dups\u001b[0m\u001b[1;33m=\u001b[0m\u001b[1;32mTrue\u001b[0m\u001b[1;33m\u001b[0m\u001b[1;33m\u001b[0m\u001b[0m\n\u001b[0;32m   1096\u001b[0m         )\n",
      "\u001b[1;32m~\\anaconda3\\envs\\mta_env\\lib\\site-packages\\pandas\\core\\generic.py\u001b[0m in \u001b[0;36m_reindex_with_indexers\u001b[1;34m(self, reindexers, fill_value, copy, allow_dups)\u001b[0m\n\u001b[0;32m   4881\u001b[0m \u001b[1;33m\u001b[0m\u001b[0m\n\u001b[0;32m   4882\u001b[0m             \u001b[1;31m# TODO: speed up on homogeneous DataFrame objects\u001b[0m\u001b[1;33m\u001b[0m\u001b[1;33m\u001b[0m\u001b[0m\n\u001b[1;32m-> 4883\u001b[1;33m             new_data = new_data.reindex_indexer(\n\u001b[0m\u001b[0;32m   4884\u001b[0m                 \u001b[0mindex\u001b[0m\u001b[1;33m,\u001b[0m\u001b[1;33m\u001b[0m\u001b[1;33m\u001b[0m\u001b[0m\n\u001b[0;32m   4885\u001b[0m                 \u001b[0mindexer\u001b[0m\u001b[1;33m,\u001b[0m\u001b[1;33m\u001b[0m\u001b[1;33m\u001b[0m\u001b[0m\n",
      "\u001b[1;32m~\\anaconda3\\envs\\mta_env\\lib\\site-packages\\pandas\\core\\internals\\managers.py\u001b[0m in \u001b[0;36mreindex_indexer\u001b[1;34m(self, new_axis, indexer, axis, fill_value, allow_dups, copy, consolidate, only_slice)\u001b[0m\n\u001b[0;32m    664\u001b[0m \u001b[1;33m\u001b[0m\u001b[0m\n\u001b[0;32m    665\u001b[0m         \u001b[1;32mif\u001b[0m \u001b[0mconsolidate\u001b[0m\u001b[1;33m:\u001b[0m\u001b[1;33m\u001b[0m\u001b[1;33m\u001b[0m\u001b[0m\n\u001b[1;32m--> 666\u001b[1;33m             \u001b[0mself\u001b[0m\u001b[1;33m.\u001b[0m\u001b[0m_consolidate_inplace\u001b[0m\u001b[1;33m(\u001b[0m\u001b[1;33m)\u001b[0m\u001b[1;33m\u001b[0m\u001b[1;33m\u001b[0m\u001b[0m\n\u001b[0m\u001b[0;32m    667\u001b[0m \u001b[1;33m\u001b[0m\u001b[0m\n\u001b[0;32m    668\u001b[0m         \u001b[1;31m# some axes don't allow reindexing with dups\u001b[0m\u001b[1;33m\u001b[0m\u001b[1;33m\u001b[0m\u001b[0m\n",
      "\u001b[1;32m~\\anaconda3\\envs\\mta_env\\lib\\site-packages\\pandas\\core\\internals\\managers.py\u001b[0m in \u001b[0;36m_consolidate_inplace\u001b[1;34m(self)\u001b[0m\n\u001b[0;32m    622\u001b[0m     \u001b[1;32mdef\u001b[0m \u001b[0m_consolidate_inplace\u001b[0m\u001b[1;33m(\u001b[0m\u001b[0mself\u001b[0m\u001b[1;33m)\u001b[0m \u001b[1;33m->\u001b[0m \u001b[1;32mNone\u001b[0m\u001b[1;33m:\u001b[0m\u001b[1;33m\u001b[0m\u001b[1;33m\u001b[0m\u001b[0m\n\u001b[0;32m    623\u001b[0m         \u001b[1;32mif\u001b[0m \u001b[1;32mnot\u001b[0m \u001b[0mself\u001b[0m\u001b[1;33m.\u001b[0m\u001b[0mis_consolidated\u001b[0m\u001b[1;33m(\u001b[0m\u001b[1;33m)\u001b[0m\u001b[1;33m:\u001b[0m\u001b[1;33m\u001b[0m\u001b[1;33m\u001b[0m\u001b[0m\n\u001b[1;32m--> 624\u001b[1;33m             \u001b[0mself\u001b[0m\u001b[1;33m.\u001b[0m\u001b[0mblocks\u001b[0m \u001b[1;33m=\u001b[0m \u001b[0mtuple\u001b[0m\u001b[1;33m(\u001b[0m\u001b[0m_consolidate\u001b[0m\u001b[1;33m(\u001b[0m\u001b[0mself\u001b[0m\u001b[1;33m.\u001b[0m\u001b[0mblocks\u001b[0m\u001b[1;33m)\u001b[0m\u001b[1;33m)\u001b[0m\u001b[1;33m\u001b[0m\u001b[1;33m\u001b[0m\u001b[0m\n\u001b[0m\u001b[0;32m    625\u001b[0m             \u001b[0mself\u001b[0m\u001b[1;33m.\u001b[0m\u001b[0m_is_consolidated\u001b[0m \u001b[1;33m=\u001b[0m \u001b[1;32mTrue\u001b[0m\u001b[1;33m\u001b[0m\u001b[1;33m\u001b[0m\u001b[0m\n\u001b[0;32m    626\u001b[0m             \u001b[0mself\u001b[0m\u001b[1;33m.\u001b[0m\u001b[0m_known_consolidated\u001b[0m \u001b[1;33m=\u001b[0m \u001b[1;32mTrue\u001b[0m\u001b[1;33m\u001b[0m\u001b[1;33m\u001b[0m\u001b[0m\n",
      "\u001b[1;32m~\\anaconda3\\envs\\mta_env\\lib\\site-packages\\pandas\\core\\internals\\managers.py\u001b[0m in \u001b[0;36m_consolidate\u001b[1;34m(blocks)\u001b[0m\n\u001b[0;32m   1972\u001b[0m     \u001b[0mnew_blocks\u001b[0m\u001b[1;33m:\u001b[0m \u001b[0mlist\u001b[0m\u001b[1;33m[\u001b[0m\u001b[0mBlock\u001b[0m\u001b[1;33m]\u001b[0m \u001b[1;33m=\u001b[0m \u001b[1;33m[\u001b[0m\u001b[1;33m]\u001b[0m\u001b[1;33m\u001b[0m\u001b[1;33m\u001b[0m\u001b[0m\n\u001b[0;32m   1973\u001b[0m     \u001b[1;32mfor\u001b[0m \u001b[1;33m(\u001b[0m\u001b[0m_can_consolidate\u001b[0m\u001b[1;33m,\u001b[0m \u001b[0mdtype\u001b[0m\u001b[1;33m)\u001b[0m\u001b[1;33m,\u001b[0m \u001b[0mgroup_blocks\u001b[0m \u001b[1;32min\u001b[0m \u001b[0mgrouper\u001b[0m\u001b[1;33m:\u001b[0m\u001b[1;33m\u001b[0m\u001b[1;33m\u001b[0m\u001b[0m\n\u001b[1;32m-> 1974\u001b[1;33m         merged_blocks = _merge_blocks(\n\u001b[0m\u001b[0;32m   1975\u001b[0m             \u001b[0mlist\u001b[0m\u001b[1;33m(\u001b[0m\u001b[0mgroup_blocks\u001b[0m\u001b[1;33m)\u001b[0m\u001b[1;33m,\u001b[0m \u001b[0mdtype\u001b[0m\u001b[1;33m=\u001b[0m\u001b[0mdtype\u001b[0m\u001b[1;33m,\u001b[0m \u001b[0mcan_consolidate\u001b[0m\u001b[1;33m=\u001b[0m\u001b[0m_can_consolidate\u001b[0m\u001b[1;33m\u001b[0m\u001b[1;33m\u001b[0m\u001b[0m\n\u001b[0;32m   1976\u001b[0m         )\n",
      "\u001b[1;32m~\\anaconda3\\envs\\mta_env\\lib\\site-packages\\pandas\\core\\internals\\managers.py\u001b[0m in \u001b[0;36m_merge_blocks\u001b[1;34m(blocks, dtype, can_consolidate)\u001b[0m\n\u001b[0;32m   1999\u001b[0m             \u001b[1;31m# Sequence[Union[int, float, complex, str, bytes, generic]],\u001b[0m\u001b[1;33m\u001b[0m\u001b[1;33m\u001b[0m\u001b[0m\n\u001b[0;32m   2000\u001b[0m             \u001b[1;31m# Sequence[Sequence[Any]], SupportsArray]]\u001b[0m\u001b[1;33m\u001b[0m\u001b[1;33m\u001b[0m\u001b[0m\n\u001b[1;32m-> 2001\u001b[1;33m             \u001b[0mnew_values\u001b[0m \u001b[1;33m=\u001b[0m \u001b[0mnp\u001b[0m\u001b[1;33m.\u001b[0m\u001b[0mvstack\u001b[0m\u001b[1;33m(\u001b[0m\u001b[1;33m[\u001b[0m\u001b[0mb\u001b[0m\u001b[1;33m.\u001b[0m\u001b[0mvalues\u001b[0m \u001b[1;32mfor\u001b[0m \u001b[0mb\u001b[0m \u001b[1;32min\u001b[0m \u001b[0mblocks\u001b[0m\u001b[1;33m]\u001b[0m\u001b[1;33m)\u001b[0m  \u001b[1;31m# type: ignore[misc]\u001b[0m\u001b[1;33m\u001b[0m\u001b[1;33m\u001b[0m\u001b[0m\n\u001b[0m\u001b[0;32m   2002\u001b[0m         \u001b[1;32melse\u001b[0m\u001b[1;33m:\u001b[0m\u001b[1;33m\u001b[0m\u001b[1;33m\u001b[0m\u001b[0m\n\u001b[0;32m   2003\u001b[0m             \u001b[0mbvals\u001b[0m \u001b[1;33m=\u001b[0m \u001b[1;33m[\u001b[0m\u001b[0mblk\u001b[0m\u001b[1;33m.\u001b[0m\u001b[0mvalues\u001b[0m \u001b[1;32mfor\u001b[0m \u001b[0mblk\u001b[0m \u001b[1;32min\u001b[0m \u001b[0mblocks\u001b[0m\u001b[1;33m]\u001b[0m\u001b[1;33m\u001b[0m\u001b[1;33m\u001b[0m\u001b[0m\n",
      "\u001b[1;32m<__array_function__ internals>\u001b[0m in \u001b[0;36mvstack\u001b[1;34m(*args, **kwargs)\u001b[0m\n",
      "\u001b[1;32m~\\anaconda3\\envs\\mta_env\\lib\\site-packages\\numpy\\core\\shape_base.py\u001b[0m in \u001b[0;36mvstack\u001b[1;34m(tup)\u001b[0m\n\u001b[0;32m    281\u001b[0m     \u001b[1;32mif\u001b[0m \u001b[1;32mnot\u001b[0m \u001b[0misinstance\u001b[0m\u001b[1;33m(\u001b[0m\u001b[0marrs\u001b[0m\u001b[1;33m,\u001b[0m \u001b[0mlist\u001b[0m\u001b[1;33m)\u001b[0m\u001b[1;33m:\u001b[0m\u001b[1;33m\u001b[0m\u001b[1;33m\u001b[0m\u001b[0m\n\u001b[0;32m    282\u001b[0m         \u001b[0marrs\u001b[0m \u001b[1;33m=\u001b[0m \u001b[1;33m[\u001b[0m\u001b[0marrs\u001b[0m\u001b[1;33m]\u001b[0m\u001b[1;33m\u001b[0m\u001b[1;33m\u001b[0m\u001b[0m\n\u001b[1;32m--> 283\u001b[1;33m     \u001b[1;32mreturn\u001b[0m \u001b[0m_nx\u001b[0m\u001b[1;33m.\u001b[0m\u001b[0mconcatenate\u001b[0m\u001b[1;33m(\u001b[0m\u001b[0marrs\u001b[0m\u001b[1;33m,\u001b[0m \u001b[1;36m0\u001b[0m\u001b[1;33m)\u001b[0m\u001b[1;33m\u001b[0m\u001b[1;33m\u001b[0m\u001b[0m\n\u001b[0m\u001b[0;32m    284\u001b[0m \u001b[1;33m\u001b[0m\u001b[0m\n\u001b[0;32m    285\u001b[0m \u001b[1;33m\u001b[0m\u001b[0m\n",
      "\u001b[1;32m<__array_function__ internals>\u001b[0m in \u001b[0;36mconcatenate\u001b[1;34m(*args, **kwargs)\u001b[0m\n",
      "\u001b[1;31mKeyboardInterrupt\u001b[0m: "
     ]
    }
   ],
   "source": [
    "df['104 St (J/Z)'] = df['104']\n",
    "df['111 St (J)'] = df['111']\n",
    "df['121 St (J/Z)'] = df['121']\n",
    "df['75 St-Elderts Ln (J/Z)'] = df.loc[:,['75 St-Elderts Ln (J/Z)','elderts','75']].sum(axis=1)\n",
    "df['85 St-Forest Pkwy (J)'] = df.loc[:,['forest p','85']].sum(axis=1)\n",
    "df['Alabama Av (J)'] = df['alabama']\n",
    "df['Bowery (J/Z)'] = df['bowery']\n",
    "df['Broad St (J/Z)'] = df['broad st']\n",
    "df['Broadway Junction (A/C/J/L/Z)'] = df.loc[:,['Broadway Junction (A/C/J/L/Z)',\n",
    "                                                'junction','jctn','bwy','broadway j','brdwy j','bdwy j']].sum(axis=1)\n",
    "df['Brooklyn Bridge-City Hall (4/5/6)/Chambers St (J/Z)'] = df.loc[:,['Brooklyn Bridge-City Hall (4/5/6)/Chambers St (J/Z)',\n",
    "                                                                     'chambers']].sum(axis=1)\n",
    "df['Canal St (J/N/Q/R/W/Z/6)'] = df.loc[:,['Canal St (J/N/Q/R/W/Z/6)','canal']].sum(axis=1)\n",
    "df['Chauncey St (J/Z)'] = df['chauncey']\n",
    "df['Cleveland St (J)'] = df['cleveland']\n",
    "df['Crescent St (J/Z)'] = df['crescent']\n",
    "df['Cypress Hills (J)'] = df['cypress']\n",
    "df['Delancey St (F)/Essex St (J/M/Z)'] = df.loc[:,['Delancey St (F)/Essex St (J/M/Z)','essex','delancey']].sum(axis=1)\n",
    "df['Flushing Av (J/M)'] = df['flushing']\n",
    "df['Fulton St (A/C/J/Z/2/3/4/5)'] = df.loc[:,['fulton','Fulton St (A/C/J/Z/2/3/4/5)']].sum(axis=1)\n",
    "df['Gates Av (J/Z)'] = df['gates']\n",
    "df['Halsey St (J)'] = df['halsey']\n",
    "df['Hewes St (J/M)'] = df['hewes']\n",
    "df['Jamaica Center-Parsons-Archer (E/J/Z)'] = df.loc[:,['parsons','jamaica']].sum(axis=1)\n",
    "df['Kosciuszko St (J)'] = df['kosciuszko']\n",
    "df['Lorimer St (J/M)'] = df['lorimer']\n",
    "df['Marcy Av (J/M/Z)'] = df['marcy']\n",
    "df['Myrtle Av (J/M/Z)'] = df['myrtle']\n",
    "df['Norwood Av (J/Z)'] = df['norwood']\n",
    "df['Sutphin Blvd-Archer Av-JFK Airport (E/J/Z)'] = df.loc[:,['Sutphin Blvd-Archer Av-JFK Airport (E/J/Z)',\n",
    "                                                             'sutphin','jfk']].sum(axis=1)\n",
    "df['Van Siclen Av (J/Z)'] = df['van s']\n",
    "df['Woodhaven Blvd (J/Z)'] = df['woodhaven']"
   ]
  },
  {
   "cell_type": "code",
   "execution_count": 137,
   "metadata": {
    "ExecuteTime": {
     "end_time": "2021-11-11T16:47:56.834808Z",
     "start_time": "2021-11-11T16:47:51.876084Z"
    }
   },
   "outputs": [],
   "source": [
    "for col in stations_j:\n",
    "    df.drop(col,axis=1,inplace=True)"
   ]
  },
  {
   "cell_type": "markdown",
   "metadata": {},
   "source": [
    "## L Train (BMT)"
   ]
  },
  {
   "cell_type": "code",
   "execution_count": null,
   "metadata": {
    "ExecuteTime": {
     "end_time": "2021-11-11T16:46:16.459678Z",
     "start_time": "2021-11-11T16:46:16.459678Z"
    }
   },
   "outputs": [],
   "source": [
    "for s in stations_l:\n",
    "    delayed = df.loc[st_l]\n",
    "    ind = delayed.loc[delayed['delayed_stations']==s].index\n",
    "    df.loc[ind, '{}'.format(s)] = 1"
   ]
  },
  {
   "cell_type": "code",
   "execution_count": null,
   "metadata": {
    "ExecuteTime": {
     "end_time": "2021-11-11T16:46:16.459678Z",
     "start_time": "2021-11-11T16:46:16.459678Z"
    }
   },
   "outputs": [],
   "source": [
    "line = df_r.loc[df_r['station'].str.contains('\\(L\\)|L/|/L')]\n",
    "line = list(line['station'])\n",
    "# for l in line:\n",
    "#     print(\"df[\"+\"'\"+\"{}\".format(l)+\"'\"+\"] = \")"
   ]
  },
  {
   "cell_type": "code",
   "execution_count": null,
   "metadata": {
    "ExecuteTime": {
     "end_time": "2021-11-11T16:46:16.460678Z",
     "start_time": "2021-11-11T16:46:16.460678Z"
    }
   },
   "outputs": [],
   "source": [
    "df['1 Av (L)'] = df['1 av']\n",
    "df['14 St (A/C/E)/8 Av (L)'] = df.loc[:,['14 St (A/C/E)/8 Av (L)','8 av']].sum(axis=1)\n",
    "df['14 St (F/M/1/2/3)/6 Av (L)'] = df.loc[:,['14 St (F/M/1/2/3)/6 Av (L)','6 av']].sum(axis=1)\n",
    "df['14 St-Union Sq (L/N/Q/R/W/4/5/6)'] = df.loc[:,['14 St-Union Sq (L/N/Q/R/W/4/5/6)','union sq']].sum(axis=1)\n",
    "df['3 Av (L)'] = df['3 av']\n",
    "df['Atlantic Av (L)'] = df['atlantic']\n",
    "df['Bedford Av (L)'] = df['bedford']\n",
    "df['Broadway Junction (A/C/J/L/Z)'] = df.loc[:,['Broadway Junction (A/C/J/L/Z)',\n",
    "                                                'junction','jctn','bwy','broadway j','brdwy j','bdwy j']].sum(axis=1)\n",
    "df['Bushwick Av-Aberdeen St (L)'] = df.loc[:,['aberdeen','bushwick']].sum(axis=1)\n",
    "df['Canarsie-Rockaway Pkwy (L)'] = df.loc[:,['rockaway p','canarsie']].sum(axis=1)\n",
    "df['DeKalb Av (L)'] = df['dekalb']\n",
    "df['East 105 St (L)'] = df.loc[:,['e 105','east 105']].sum(axis=1)\n",
    "df['Graham Av (L)'] = df['graham']\n",
    "df['Grand St (L)'] = df['grand']\n",
    "df['Halsey St (L)'] = df['halsey']\n",
    "df['Jefferson St (L)'] = df['jefferson']\n",
    "df['Livonia Av (L)'] = df['livonia']\n",
    "df['Lorimer St (L)/Metropolitan Av (G)'] = df.loc[:,['Lorimer St (L)/Metropolitan Av (G)','lorimer']].sum(axis=1)\n",
    "df['Montrose Av (L)'] = df['montrose']\n",
    "df['Morgan Av (L)'] = df['morgan']\n",
    "df['Myrtle-Wyckoff Avs (L/M)'] = df.loc[:,['myrtle','wyckoff']].sum(axis=1)\n",
    "df['New Lots Av (L)'] = df['new lots']\n",
    "df['Sutter Av (L)'] = df['sutter']\n",
    "df['Wilson Av (L)'] = df['wilson']"
   ]
  },
  {
   "cell_type": "code",
   "execution_count": null,
   "metadata": {
    "ExecuteTime": {
     "end_time": "2021-11-11T16:46:16.461679Z",
     "start_time": "2021-11-11T16:46:16.461679Z"
    }
   },
   "outputs": [],
   "source": [
    "for col in stations_l:\n",
    "    df.drop(col,axis=1,inplace=True)"
   ]
  },
  {
   "cell_type": "markdown",
   "metadata": {},
   "source": [
    "## M Train (BMT)"
   ]
  },
  {
   "cell_type": "code",
   "execution_count": null,
   "metadata": {
    "ExecuteTime": {
     "end_time": "2021-11-11T16:46:16.461679Z",
     "start_time": "2021-11-11T16:46:16.461679Z"
    }
   },
   "outputs": [],
   "source": [
    "for s in stations_m:\n",
    "    delayed = df.loc[st_m]\n",
    "    ind = delayed.loc[delayed['delayed_stations']==s].index\n",
    "    df.loc[ind, '{}'.format(s)] = 1"
   ]
  },
  {
   "cell_type": "code",
   "execution_count": null,
   "metadata": {
    "ExecuteTime": {
     "end_time": "2021-11-11T16:46:16.462678Z",
     "start_time": "2021-11-11T16:46:16.462678Z"
    }
   },
   "outputs": [],
   "source": [
    "line = df_r.loc[df_r['station'].str.contains('\\(M\\)|M/|/M')]\n",
    "line = list(line['station'])\n",
    "# for l in line:\n",
    "#     print(\"df[\"+\"'\"+\"{}\".format(l)+\"'\"+\"] = \")"
   ]
  },
  {
   "cell_type": "code",
   "execution_count": null,
   "metadata": {
    "ExecuteTime": {
     "end_time": "2021-11-11T16:46:16.462678Z",
     "start_time": "2021-11-11T16:46:16.462678Z"
    }
   },
   "outputs": [],
   "source": [
    "df['14 St (F/M/1/2/3)/6 Av (L)'] = df.loc[:,['14 St (F/M/1/2/3)/6 Av (L)','14 st']].sum(axis=1)\n",
    "df['23 St (F/M)'] = df.loc[:,['23 St (F/M)','23 st']].sum(axis=1)\n",
    "df['34 St-Herald Sq (B/D/F/M/N/Q/R/W)'] = df.loc[:,['34 St-Herald Sq (B/D/F/M/N/Q/R/W)','herald sq','34']].sum(axis=1)\n",
    "df['36 St (M/R)'] = df['36']\n",
    "df['42 St-Bryant Pk (B/D/F/M)/5 Av (7)'] = df.loc[:,['42 St-Bryant Pk (B/D/F/M)/5 Av (7)', 'bryant','42']].sum(axis=1)\n",
    "df['46 St (M/R)'] = df['46']\n",
    "df['47-50 Sts-Rockefeller Center (B/D/F/M)'] = df.loc[:,['47-50','47','47-50 Sts-Rockefeller Center (B/D/F/M)']].sum(axis=1)\n",
    "df['63 Dr-Rego Park (M/R)'] = df.loc[:,['rego','63']].sum(axis=1)\n",
    "df['65 St (M/R)'] = df['65']\n",
    "df['67 Av (M/R)'] = df['67']\n",
    "df['74-Broadway (7)/Jackson Hts-Roosevelt Av (E/F/M/R)'] = df.loc[:,['74-Broadway (7)/Jackson Hts-Roosevelt Av (E/F/M/R)',\n",
    "                                                                    'roosevelt av']].sum(axis=1)\n",
    "df['Broadway-Lafayette St (B/D/F/M)/Bleecker St (6)'] = df.loc[:,['Broadway-Lafayette St (B/D/F/M)/Bleecker St (6)',\n",
    "                                                                  'bway l','broadway l','brdwy l','bdwy l']].sum(axis=1)\n",
    "df['Central Av (M)'] = df['central']\n",
    "df['Delancey St (F)/Essex St (J/M/Z)'] = df.loc[:,['Delancey St (F)/Essex St (J/M/Z)','essex','delancey']].sum(axis=1)\n",
    "df['Elmhurst Av (M/R)'] = df['elmhurst']\n",
    "df['Flushing Av (J/M)'] = df.loc[:,['Flushing Av (J/M)','flushing']].sum(axis=1)\n",
    "df['Forest Av (M)'] = df['forest av']\n",
    "df['Forest Hills-71 Av (E/F/M/R)'] = df.loc[:,['Forest Hills-71 Av (E/F/M/R)','forest h','71']].sum(axis=1)\n",
    "df['Fresh Pond Rd (M)'] = df['fresh pond']\n",
    "df['Grand Av-Newtown (M/R)'] = df.loc[:,['newtown','grand']].sum(axis=1)\n",
    "df['Hewes St (J/M)'] = df.loc[:,['Hewes St (J/M)','hewes']].sum(axis=1)\n",
    "df['Knickerbocker Av (M)'] = df['knickerbocker']\n",
    "df['Lorimer St (J/M)'] = df.loc[:,['Lorimer St (J/M)','lorimer']].sum(axis=1)\n",
    "df['Marcy Av (J/M/Z)'] = df.loc[:,['Marcy Av (J/M/Z)','marcy']].sum(axis=1)\n",
    "df['Middle Village-Metropolitan Av (M)'] = df.loc[:,['metropolitan','middle v']].sum(axis=1)\n",
    "df['Myrtle Av (J/M/Z)'] = df.loc[:,['Myrtle Av (J/M/Z)','myrtle av']].sum(axis=1)\n",
    "df['Myrtle-Wyckoff Avs (L/M)'] = df.loc[:,['Myrtle-Wyckoff Avs (L/M)','wyckoff']].sum(axis=1)\n",
    "df['Northern Blvd (M/R)'] = df['northern blvd']\n",
    "df['Queens Plaza (E/M/R)'] = df.loc[:,['Queens Plaza (E/M/R)','qns pl','queens pl']].sum(axis=1)\n",
    "df['Seneca Av (M)'] = df['seneca']\n",
    "df['Steinway St (M/R)'] = df['steinway']\n",
    "df['West 4 St-Washington Sq (A/B/C/D/E/F/M)'] = df.loc[:,['West 4 St-Washington Sq (A/B/C/D/E/F/M)',\n",
    "                                                          'west 4','washington sq','wash sq','w 4']].sum(axis=1)\n",
    "df['Woodhaven Blvd (M/R)'] = df['woodhaven']"
   ]
  },
  {
   "cell_type": "code",
   "execution_count": null,
   "metadata": {
    "ExecuteTime": {
     "end_time": "2021-11-11T16:46:16.463679Z",
     "start_time": "2021-11-11T16:46:16.463679Z"
    }
   },
   "outputs": [],
   "source": [
    "for col in stations_m:\n",
    "    df.drop(col,axis=1,inplace=True)"
   ]
  },
  {
   "cell_type": "markdown",
   "metadata": {},
   "source": [
    "### 5 Av/53 St (E/M)"
   ]
  },
  {
   "cell_type": "code",
   "execution_count": null,
   "metadata": {
    "ExecuteTime": {
     "end_time": "2021-11-11T16:46:16.464679Z",
     "start_time": "2021-11-11T16:46:16.464679Z"
    }
   },
   "outputs": [],
   "source": [
    "for s in stations_em:\n",
    "    delayed = df.loc[st_em]\n",
    "    ind = delayed.loc[delayed['delayed_stations']==s].index\n",
    "    df.loc[ind, '{}'.format(s)] = 1"
   ]
  },
  {
   "cell_type": "code",
   "execution_count": null,
   "metadata": {
    "ExecuteTime": {
     "end_time": "2021-11-11T16:46:16.464679Z",
     "start_time": "2021-11-11T16:46:16.464679Z"
    }
   },
   "outputs": [],
   "source": [
    "line = df_r.loc[df_r['station'].str.contains('5 Av')]\n",
    "line = list(line['station'])\n",
    "# for l in line:\n",
    "#     print(\"df[\"+\"'\"+\"{}\".format(l)+\"'\"+\"] = \")"
   ]
  },
  {
   "cell_type": "code",
   "execution_count": null,
   "metadata": {
    "ExecuteTime": {
     "end_time": "2021-11-11T16:46:16.465679Z",
     "start_time": "2021-11-11T16:46:16.465679Z"
    }
   },
   "outputs": [],
   "source": [
    "df['5 Av-53 St (E/M)'] = df.loc[:,['5 av','53']].sum(axis=1)"
   ]
  },
  {
   "cell_type": "code",
   "execution_count": null,
   "metadata": {
    "ExecuteTime": {
     "end_time": "2021-11-11T16:46:16.465679Z",
     "start_time": "2021-11-11T16:46:16.465679Z"
    }
   },
   "outputs": [],
   "source": [
    "for col in stations_em:\n",
    "    df.drop(col,axis=1,inplace=True)"
   ]
  },
  {
   "cell_type": "markdown",
   "metadata": {},
   "source": [
    "### Lexington Av - 53 St (E/M)/51 St (6)"
   ]
  },
  {
   "cell_type": "code",
   "execution_count": null,
   "metadata": {
    "ExecuteTime": {
     "end_time": "2021-11-11T16:46:16.466680Z",
     "start_time": "2021-11-11T16:46:16.466680Z"
    }
   },
   "outputs": [],
   "source": [
    "for s in stations_em6:\n",
    "    delayed = df.loc[st_em6]\n",
    "    ind = delayed.loc[delayed['delayed_stations']==s].index\n",
    "    df.loc[ind, '{}'.format(s)] = 1"
   ]
  },
  {
   "cell_type": "code",
   "execution_count": null,
   "metadata": {
    "ExecuteTime": {
     "end_time": "2021-11-11T16:46:16.467680Z",
     "start_time": "2021-11-11T16:46:16.467680Z"
    }
   },
   "outputs": [],
   "source": [
    "line = df_r.loc[df_r['station'].str.contains('Lexington')]\n",
    "line = list(line['station'])\n",
    "# for l in line:\n",
    "#     print(\"df[\"+\"'\"+\"{}\".format(l)+\"'\"+\"] = \")"
   ]
  },
  {
   "cell_type": "code",
   "execution_count": null,
   "metadata": {
    "ExecuteTime": {
     "end_time": "2021-11-11T16:46:16.467680Z",
     "start_time": "2021-11-11T16:46:16.467680Z"
    }
   },
   "outputs": [],
   "source": [
    "df['Lexington Av-53 St (E/M)/51 St (6)'] = df.loc[:,['lexington','53','51']].sum(axis=1)"
   ]
  },
  {
   "cell_type": "code",
   "execution_count": null,
   "metadata": {
    "ExecuteTime": {
     "end_time": "2021-11-11T16:46:16.468681Z",
     "start_time": "2021-11-11T16:46:16.468681Z"
    }
   },
   "outputs": [],
   "source": [
    "for col in stations_em6:\n",
    "    df.drop(col,axis=1,inplace=True)"
   ]
  },
  {
   "cell_type": "markdown",
   "metadata": {},
   "source": [
    "### Court Sq-23 St (E/G/M/7)"
   ]
  },
  {
   "cell_type": "code",
   "execution_count": null,
   "metadata": {
    "ExecuteTime": {
     "end_time": "2021-11-11T16:46:16.469681Z",
     "start_time": "2021-11-11T16:46:16.469681Z"
    }
   },
   "outputs": [],
   "source": [
    "for s in stations_egm7:\n",
    "    delayed = df.loc[st_em]\n",
    "    ind = delayed.loc[delayed['delayed_stations']==s].index\n",
    "    df.loc[ind, '{}'.format(s)] = 1"
   ]
  },
  {
   "cell_type": "code",
   "execution_count": null,
   "metadata": {
    "ExecuteTime": {
     "end_time": "2021-11-11T16:46:16.469681Z",
     "start_time": "2021-11-11T16:46:16.469681Z"
    }
   },
   "outputs": [],
   "source": [
    "line = df_r.loc[df_r['station'].str.contains('Court Sq')]\n",
    "line = list(line['station'])\n",
    "# for l in line:\n",
    "#     print(\"df[\"+\"'\"+\"{}\".format(l)+\"'\"+\"] = \")"
   ]
  },
  {
   "cell_type": "code",
   "execution_count": null,
   "metadata": {
    "ExecuteTime": {
     "end_time": "2021-11-11T16:46:16.470681Z",
     "start_time": "2021-11-11T16:46:16.470681Z"
    }
   },
   "outputs": [],
   "source": [
    "df['Court Sq (E/G/M/7)'] = df.loc[:,['court sq','23 st']].sum(axis=1)"
   ]
  },
  {
   "cell_type": "code",
   "execution_count": null,
   "metadata": {
    "ExecuteTime": {
     "end_time": "2021-11-11T16:46:16.471439Z",
     "start_time": "2021-11-11T16:46:16.471439Z"
    }
   },
   "outputs": [],
   "source": [
    "for col in stations_egm7:\n",
    "    df.drop(col,axis=1,inplace=True)"
   ]
  },
  {
   "cell_type": "markdown",
   "metadata": {},
   "source": [
    "## N train (BMT)"
   ]
  },
  {
   "cell_type": "code",
   "execution_count": null,
   "metadata": {
    "ExecuteTime": {
     "end_time": "2021-11-11T16:46:16.471439Z",
     "start_time": "2021-11-11T16:46:16.471439Z"
    }
   },
   "outputs": [],
   "source": [
    "for s in stations_n:\n",
    "    delayed = df.loc[st_n]\n",
    "    ind = delayed.loc[delayed['delayed_stations']==s].index\n",
    "    df.loc[ind, '{}'.format(s)] = 1"
   ]
  },
  {
   "cell_type": "code",
   "execution_count": null,
   "metadata": {
    "ExecuteTime": {
     "end_time": "2021-11-11T16:46:16.472430Z",
     "start_time": "2021-11-11T16:46:16.472430Z"
    }
   },
   "outputs": [],
   "source": [
    "line = df_r.loc[df_r['station'].str.contains('\\(N\\)|N/|/N')]\n",
    "line = list(line['station'])\n",
    "# for l in line:\n",
    "#     print(\"df[\"+\"'\"+\"{}\".format(l)+\"'\"+\"] = \")"
   ]
  },
  {
   "cell_type": "code",
   "execution_count": null,
   "metadata": {
    "ExecuteTime": {
     "end_time": "2021-11-11T16:46:16.472430Z",
     "start_time": "2021-11-11T16:46:16.472430Z"
    }
   },
   "outputs": [],
   "source": [
    "df['14 St-Union Sq (L/N/Q/R/W/4/5/6)'] = df.loc[:,['14 St-Union Sq (L/N/Q/R/W/4/5/6)','union sq','14 st']].sum(axis=1)\n",
    "df['18 Av (N)'] = df['18 av']\n",
    "df['20 Av (N)'] = df['20 av']\n",
    "df['30 Av (N/W)'] = df['30']\n",
    "df['34 St-Herald Sq (B/D/F/M/N/Q/R/W)'] = df.loc[:,['34 St-Herald Sq (B/D/F/M/N/Q/R/W)','herald sq','34']].sum(axis=1)\n",
    "df['36 Av (N/W)'] = df['36 av']\n",
    "df['36 St (D/N/R)'] = df.loc[:,['36 St (D/N/R)','36 st']].sum(axis=1)\n",
    "df['39 Av-Dutch Kills (N/W)'] = df['39']\n",
    "df['49 St (N/R/W)'] = df['49']\n",
    "df['5 Av-59 St (N/R/W)'] = df['5 av']\n",
    "df['57 St-7 Av (N/Q/R/W)'] = df['57']\n",
    "df['8 Av (N)'] = df['8 av']\n",
    "df['86 St (N)'] = df['86']\n",
    "df['Astoria Blvd (N/W)'] = df['astoria b']\n",
    "df['Astoria-Ditmars Blvd (N/W)'] = df['ditmars']\n",
    "df['Atlantic Av-Barclays Ctr (B/D/N/Q/R/2/3/4/5)'] = df.loc[:,['Atlantic Av-Barclays Ctr (B/D/N/Q/R/2/3/4/5)',\n",
    "                                                              'atlantic']].sum(axis=1)\n",
    "df['Avenue U (N)'] = df.loc[:,['avenue u','av u']].sum(axis=1)\n",
    "df['Bay Pkwy (N)'] = df['bay p']\n",
    "df['Broadway (N/W)'] = df['broadway']\n",
    "df['Canal St (J/N/Q/R/W/Z/6)'] = df.loc[:,['Canal St (J/N/Q/R/W/Z/6)','canal']].sum(axis=1)\n",
    "df['Coney Island-Stillwell Av (D/F/N/Q)'] = df.loc[:,['Coney Island-Stillwell Av (D/F/N/Q)',\n",
    "                                                      'stillwell','coney']].sum(axis=1)\n",
    "df['Fort Hamilton Pkwy (N)'] = df.loc[:,['ft ham','fort ham']].sum(axis=1)\n",
    "df['Kings Hwy (N)'] = df['kings h']\n",
    "df['Lexington Av (N/R/W)/59 St (4/5/6)'] = df['lexington']\n",
    "df['New Utrecht Av (N)/62 St (D)'] = df['new utrecht']\n",
    "df['Queensboro Plaza (N/W/7)'] = df.loc[:,['Queensboro Plaza (N/W/7)','queensboro pl','qnsboro pl']].sum(axis=1)\n",
    "df['Times Sq-42 St (N/Q/R/W/S/1/2/3/7)/42 St (A/C/E)'] = df.loc[:,['Times Sq-42 St (N/Q/R/W/S/1/2/3/7)/42 St (A/C/E)',\n",
    "                                                                  'times sq','42']].sum(axis=1)"
   ]
  },
  {
   "cell_type": "code",
   "execution_count": null,
   "metadata": {
    "ExecuteTime": {
     "end_time": "2021-11-11T16:46:16.473431Z",
     "start_time": "2021-11-11T16:46:16.473431Z"
    }
   },
   "outputs": [],
   "source": [
    "for col in stations_n:\n",
    "    df.drop(col,axis=1,inplace=True)"
   ]
  },
  {
   "cell_type": "markdown",
   "metadata": {},
   "source": [
    "## Q Train (BMT)"
   ]
  },
  {
   "cell_type": "code",
   "execution_count": null,
   "metadata": {
    "ExecuteTime": {
     "end_time": "2021-11-11T16:46:16.474431Z",
     "start_time": "2021-11-11T16:46:16.474431Z"
    }
   },
   "outputs": [],
   "source": [
    "for s in stations_q:\n",
    "    delayed = df.loc[st_q]\n",
    "    ind = delayed.loc[delayed['delayed_stations']==s].index\n",
    "    df.loc[ind, '{}'.format(s)] = 1"
   ]
  },
  {
   "cell_type": "code",
   "execution_count": null,
   "metadata": {
    "ExecuteTime": {
     "end_time": "2021-11-11T16:46:16.474431Z",
     "start_time": "2021-11-11T16:46:16.474431Z"
    }
   },
   "outputs": [],
   "source": [
    "line = df_r.loc[df_r['station'].str.contains('\\(Q\\)|Q/|/Q')]\n",
    "line = list(line['station'])\n",
    "# for l in line:\n",
    "#     print(\"df[\"+\"'\"+\"{}\".format(l)+\"'\"+\"] = \")"
   ]
  },
  {
   "cell_type": "code",
   "execution_count": null,
   "metadata": {
    "ExecuteTime": {
     "end_time": "2021-11-11T16:46:16.475431Z",
     "start_time": "2021-11-11T16:46:16.475431Z"
    }
   },
   "outputs": [],
   "source": [
    "df['14 St-Union Sq (L/N/Q/R/W/4/5/6)'] = df.loc[:,['14 St-Union Sq (L/N/Q/R/W/4/5/6)','union sq','14 st']].sum(axis=1)\n",
    "df['34 St-Herald Sq (B/D/F/M/N/Q/R/W)'] = df.loc[:,['34 St-Herald Sq (B/D/F/M/N/Q/R/W)','herald sq','34']].sum(axis=1)\n",
    "df['57 St-7 Av (N/Q/R/W)'] = df.loc[:,['57 St-7 Av (N/Q/R/W)','57']].sum(axis=1)\n",
    "df['72 St (Q)'] = df['72']\n",
    "df['86 St (Q)'] = df['86']\n",
    "df['96 St (Q)'] = df['96']\n",
    "df['Atlantic Av-Barclays Ctr (B/D/N/Q/R/2/3/4/5)'] = df.loc[:,['Atlantic Av-Barclays Ctr (B/D/N/Q/R/2/3/4/5)',\n",
    "                                                               'atlantic']].sum(axis=1)\n",
    "df['Avenue H (Q)'] = df.loc[:,['avenue h','av h']].sum(axis=1)\n",
    "df['Avenue J (Q)'] = df.loc[:,['avenue j','av j']].sum(axis=1)\n",
    "df['Avenue M (Q)'] = df.loc[:,['avenue m','av m']].sum(axis=1)\n",
    "df['Avenue U (Q)'] = df.loc[:,['avenue u','av u']].sum(axis=1)\n",
    "df['Beverley Rd (Q)'] = df['beverly']\n",
    "df['Brighton Beach (B/Q)'] = df.loc[:,['Brighton Beach (B/Q)','brighton']].sum(axis=1)\n",
    "df['Canal St (J/N/Q/R/W/Z/6)'] = df.loc[:,['Canal St (J/N/Q/R/W/Z/6)','canal']].sum(axis=1)\n",
    "df['Church Av (B/Q)'] = df.loc[:,['church','Church Av (B/Q)']].sum(axis=1)\n",
    "df['Coney Island-Stillwell Av (D/F/N/Q)'] = df.loc[:,['Coney Island-Stillwell Av (D/F/N/Q)',\n",
    "                                                      'stillwell','coney']].sum(axis=1)\n",
    "df['Cortelyou Rd (Q)'] = df['cortelyou']\n",
    "df['DeKalb Av (B/Q/R)'] = df.loc[:,['DeKalb Av (B/Q/R)','dekalb']].sum(axis=1)\n",
    "df['Kings Hwy (B/Q)'] = df.loc[:,['Kings Hwy (B/Q)','kings h']].sum(axis=1)\n",
    "df['Lexington Av-63 St (F/Q)'] = df.loc[:,['Lexington Av-63 St (F/Q)','lexington']].sum(axis=1)\n",
    "df['Neck Rd (Q)'] = df['neck']\n",
    "df['Newkirk Plaza (B/Q)'] = df['newkirk']\n",
    "df['Ocean Pkwy (Q)'] = df['ocean']\n",
    "df['Parkside Av (Q)'] = df['parkside']\n",
    "df['Prospect Park (B/Q/S)'] = df.loc[:,['Prospect Park (B/Q/S)','prospect p']].sum(axis=1)\n",
    "df['Sheepshead Bay (B/Q)'] = df.loc[:,['Sheepshead Bay (B/Q)','sheepshead']].sum(axis=1)\n",
    "df['Times Sq-42 St (N/Q/R/W/S/1/2/3/7)/42 St (A/C/E)'] = df.loc[:,['Times Sq-42 St (N/Q/R/W/S/1/2/3/7)/42 St (A/C/E)',\n",
    "                                                                  'times sq','42']].sum(axis=1)\n",
    "df['West 8 St-New York Aquarium (F/Q)'] = df.loc[:,['West 8 St-New York Aquarium (F/Q)',\n",
    "                                                   'west 8','w 8','aquarium']].sum(axis=1)"
   ]
  },
  {
   "cell_type": "code",
   "execution_count": null,
   "metadata": {
    "ExecuteTime": {
     "end_time": "2021-11-11T16:46:16.476432Z",
     "start_time": "2021-11-11T16:46:16.476432Z"
    }
   },
   "outputs": [],
   "source": [
    "for col in stations_q:\n",
    "    df.drop(col,axis=1,inplace=True)"
   ]
  },
  {
   "cell_type": "markdown",
   "metadata": {},
   "source": [
    "### 7 Av (B/Q)"
   ]
  },
  {
   "cell_type": "code",
   "execution_count": null,
   "metadata": {
    "ExecuteTime": {
     "end_time": "2021-11-11T16:46:16.476432Z",
     "start_time": "2021-11-11T16:46:16.476432Z"
    }
   },
   "outputs": [],
   "source": [
    "for s in stations_bq:\n",
    "    delayed = df.loc[st_bq]\n",
    "    ind = delayed.loc[delayed['delayed_stations']==s].index\n",
    "    df.loc[ind, '{}'.format(s)] = 1"
   ]
  },
  {
   "cell_type": "code",
   "execution_count": null,
   "metadata": {
    "ExecuteTime": {
     "end_time": "2021-11-11T16:46:16.477431Z",
     "start_time": "2021-11-11T16:46:16.477431Z"
    }
   },
   "outputs": [],
   "source": [
    "line = df_r.loc[df_r['station'].str.contains('7 Av')]\n",
    "line = list(line['station'])\n",
    "# for l in line:\n",
    "#     print(\"df[\"+\"'\"+\"{}\".format(l)+\"'\"+\"] = \")"
   ]
  },
  {
   "cell_type": "code",
   "execution_count": null,
   "metadata": {
    "ExecuteTime": {
     "end_time": "2021-11-11T16:46:16.478432Z",
     "start_time": "2021-11-11T16:46:16.478432Z"
    }
   },
   "outputs": [],
   "source": [
    "df['7 Av (B/Q)'] = df['7 av']"
   ]
  },
  {
   "cell_type": "code",
   "execution_count": null,
   "metadata": {
    "ExecuteTime": {
     "end_time": "2021-11-11T16:46:16.479432Z",
     "start_time": "2021-11-11T16:46:16.479432Z"
    }
   },
   "outputs": [],
   "source": [
    "for col in stations_bq:\n",
    "    df.drop(col,axis=1,inplace=True)"
   ]
  },
  {
   "cell_type": "markdown",
   "metadata": {},
   "source": [
    "## R Train (BMT)"
   ]
  },
  {
   "cell_type": "code",
   "execution_count": 138,
   "metadata": {
    "ExecuteTime": {
     "end_time": "2021-11-11T16:48:08.981783Z",
     "start_time": "2021-11-11T16:47:59.433745Z"
    }
   },
   "outputs": [],
   "source": [
    "for s in stations_r:\n",
    "    delayed = df.loc[st_r]\n",
    "    ind = delayed.loc[delayed['delayed_stations']==s].index\n",
    "    df.loc[ind, '{}'.format(s)] = 1"
   ]
  },
  {
   "cell_type": "code",
   "execution_count": 139,
   "metadata": {
    "ExecuteTime": {
     "end_time": "2021-11-11T16:48:08.996805Z",
     "start_time": "2021-11-11T16:48:08.982784Z"
    }
   },
   "outputs": [],
   "source": [
    "line = df_r.loc[df_r['station'].str.contains('\\(R\\)|R/|/R')]\n",
    "line = list(line['station'])\n",
    "# for l in line:\n",
    "#     print(\"df[\"+\"'\"+\"{}\".format(l)+\"'\"+\"] = \")"
   ]
  },
  {
   "cell_type": "code",
   "execution_count": 142,
   "metadata": {
    "ExecuteTime": {
     "end_time": "2021-11-11T16:56:28.600213Z",
     "start_time": "2021-11-11T16:56:26.637003Z"
    }
   },
   "outputs": [],
   "source": [
    "df['14 St-Union Sq (L/N/Q/R/W/4/5/6)'] = df.loc[:,['14 St-Union Sq (L/N/Q/R/W/4/5/6)','union sq','14 st']].sum(axis=1)\n",
    "df['23 St (R/W)'] = df['23 st']\n",
    "df['25 St (R)'] = df['25 st']\n",
    "df['28 St (R/W)'] = df['28']\n",
    "df['34 St-Herald Sq (B/D/F/M/N/Q/R/W)'] = df.loc[:,['34 St-Herald Sq (B/D/F/M/N/Q/R/W)','herald sq','34']].sum(axis=1)\n",
    "df['45 St (R)'] = df['45']\n",
    "df['46 St (M/R)'] = df.loc[:,['46 St (M/R)','46']].sum(axis=1)\n",
    "df['49 St (N/R/W)'] = df.loc[:,['49 St (N/R/W)','49']].sum(axis=1)\n",
    "df['5 Av-59 St (N/R/W)'] = df.loc[:,['5 Av-59 St (N/R/W)','5 av']].sum(axis=1)\n",
    "df['53 St (R)'] = df['53']\n",
    "df['57 St-7 Av (N/Q/R/W)'] = df.loc[:,['57 St-7 Av (N/Q/R/W)','57']].sum(axis=1)\n",
    "df['63 Dr-Rego Park (M/R)'] = df.loc[:,['63 Dr-Rego Park (M/R)','rego','63']].sum(axis=1)\n",
    "df['65 St (M/R)'] = df.loc[:,['65 St (M/R)','65']].sum(axis=1)\n",
    "df['67 Av (M/R)'] = df.loc[:,['67 Av (M/R)','67']].sum(axis=1)\n",
    "df['74-Broadway (7)/Jackson Hts-Roosevelt Av (E/F/M/R)'] = df.loc[:,['74-Broadway (7)/Jackson Hts-Roosevelt Av (E/F/M/R)',\n",
    "                                                                    'roosevelt av','jackson h']].sum(axis=1)\n",
    "df['77 St (R)'] = df['77']\n",
    "df['8 St-New York University (R/W)'] = df.loc[:,['8 st','nyu']].sum(axis=1)\n",
    "df['86 St (R)'] = df['86']\n",
    "df['Atlantic Av-Barclays Ctr (B/D/N/Q/R/2/3/4/5)'] = df.loc[:,['Atlantic Av-Barclays Ctr (B/D/N/Q/R/2/3/4/5)',\n",
    "                                                              'atlantic']].sum(axis=1)\n",
    "df['Bay Ridge Av (R)'] = df['ba ridge av']\n",
    "df['Bay Ridge-95 St (R)'] = df['bay ridge 95 st']\n",
    "df['Canal St (J/N/Q/R/W/Z/6)'] = df.loc[:,['Canal St (J/N/Q/R/W/Z/6)','canal']].sum(axis=1)\n",
    "df['Chambers St (A/C)/WTC (E)/Park Pl (2/3)/Cortlandt (R/W)'] = df.loc[:,['Chambers St (A/C)/WTC (E)/Park Pl (2/3)/Cortlandt (R/W)',\n",
    "                                                                         'cortlandt']].sum(axis=1)\n",
    "df['City Hall (R/W)'] = df['city h']\n",
    "df['Court St (R)/Borough Hall (2/3/4/5)'] = df.loc[:,['Court St (R)/Borough Hall (2/3/4/5)','court st']].sum(axis=1)\n",
    "df['DeKalb Av (B/Q/R)'] = df.loc[:,['DeKalb Av (B/Q/R)','dekalb']].sum(axis=1)\n",
    "df['Elmhurst Av (M/R)'] = df.loc[:,['Elmhurst Av (M/R)','elmhurst']].sum(axis=1)\n",
    "df['Forest Hills-71 Av (E/F/M/R)'] = df.loc[:,['Forest Hills-71 Av (E/F/M/R)','forest h','71']].sum(axis=1)\n",
    "df['Grand Av-Newtown (M/R)'] = df.loc[:,['Grand Av-Newtown (M/R)','grand']].sum(axis=1)\n",
    "df['Jay St-MetroTech (A/C/F/R)'] = df.loc[:,['Jay St-MetroTech (A/C/F/R)','jay']].sum(axis=1)\n",
    "df['Lexington Av (N/R/W)/59 St (4/5/6)'] = df.loc[:,['Lexington Av (N/R/W)/59 St (4/5/6)','lexington']].sum(axis=1)\n",
    "df['Northern Blvd (M/R)'] = df.loc[:,['Northern Blvd (M/R)','northern b']].sum(axis=1)\n",
    "df['Prince St (R/W)'] = df['prince']\n",
    "df['Prospect Av (R)'] = df['prospect']\n",
    "df['Queens Plaza (E/M/R)'] = df.loc[:,['Queens Plaza (E/M/R)','queens pl','qns pl']].sum(axis=1)\n",
    "df['Rector St (R/W)'] = df['rector']\n",
    "df['South Ferry (1)/Whitehall St (R/W)'] = df.loc[:,['South Ferry (1)/Whitehall St (R/W)','whitehall','south f']].sum(axis=1)\n",
    "df['Steinway St (M/R)'] = df.loc[:,['Steinway St (M/R)','steinway']].sum(axis=1)\n",
    "df['Times Sq-42 St (N/Q/R/W/S/1/2/3/7)/42 St (A/C/E)'] = df.loc[:,['Times Sq-42 St (N/Q/R/W/S/1/2/3/7)/42 St (A/C/E)',\n",
    "                                                                  'times sq','42']].sum(axis=1)\n",
    "df['Union St (R)'] = df['union st']\n",
    "df['Woodhaven Blvd (M/R)'] = df.loc[:,['Woodhaven Blvd (M/R)','woodhaven']].sum(axis=1)"
   ]
  },
  {
   "cell_type": "code",
   "execution_count": null,
   "metadata": {},
   "outputs": [],
   "source": [
    "for col in stations_r:\n",
    "    df.drop(col,axis=1,inplace=True)"
   ]
  },
  {
   "cell_type": "markdown",
   "metadata": {},
   "source": [
    "### 4 Av-9 St (F/G/R)"
   ]
  },
  {
   "cell_type": "code",
   "execution_count": null,
   "metadata": {
    "ExecuteTime": {
     "end_time": "2021-11-09T04:16:42.400599Z",
     "start_time": "2021-11-09T04:16:42.230103Z"
    }
   },
   "outputs": [],
   "source": [
    "for s in stations_:\n",
    "    delayed = df.loc[st_]\n",
    "    ind = delayed.loc[delayed['delayed_stations']==s].index\n",
    "    df.loc[ind, '{}'.format(s)] = 1"
   ]
  },
  {
   "cell_type": "code",
   "execution_count": null,
   "metadata": {
    "ExecuteTime": {
     "end_time": "2021-11-09T05:16:40.177696Z",
     "start_time": "2021-11-09T05:16:40.160448Z"
    }
   },
   "outputs": [],
   "source": [
    "line = df_r.loc[df_r['station'].str.contains('\\(2\\)|2/|/2')]\n",
    "line = list(line['station'])\n",
    "for l in line:\n",
    "    print(\"df[\"+\"'\"+\"{}\".format(l)+\"'\"+\"] = \")"
   ]
  },
  {
   "cell_type": "code",
   "execution_count": null,
   "metadata": {},
   "outputs": [],
   "source": []
  },
  {
   "cell_type": "code",
   "execution_count": null,
   "metadata": {},
   "outputs": [],
   "source": [
    "for col in stations_:\n",
    "    df.drop(col,axis=1,inplace=True)"
   ]
  },
  {
   "cell_type": "markdown",
   "metadata": {},
   "source": [
    "### 59 St (N/R)"
   ]
  },
  {
   "cell_type": "code",
   "execution_count": null,
   "metadata": {
    "ExecuteTime": {
     "end_time": "2021-11-09T04:16:42.400599Z",
     "start_time": "2021-11-09T04:16:42.230103Z"
    }
   },
   "outputs": [],
   "source": [
    "for s in stations_nr:\n",
    "    delayed = df.loc[st_nr]\n",
    "    ind = delayed.loc[delayed['delayed_stations']==s].index\n",
    "    df.loc[ind, '{}'.format(s)] = 1"
   ]
  },
  {
   "cell_type": "code",
   "execution_count": null,
   "metadata": {
    "ExecuteTime": {
     "end_time": "2021-11-09T05:16:40.177696Z",
     "start_time": "2021-11-09T05:16:40.160448Z"
    }
   },
   "outputs": [],
   "source": [
    "line = df_r.loc[df_r['station'].str.contains('\\(2\\)|2/|/2')]\n",
    "line = list(line['station'])\n",
    "for l in line:\n",
    "    print(\"df[\"+\"'\"+\"{}\".format(l)+\"'\"+\"] = \")"
   ]
  },
  {
   "cell_type": "code",
   "execution_count": null,
   "metadata": {},
   "outputs": [],
   "source": []
  },
  {
   "cell_type": "code",
   "execution_count": null,
   "metadata": {},
   "outputs": [],
   "source": [
    "for col in stations_:\n",
    "    df.drop(col,axis=1,inplace=True)"
   ]
  },
  {
   "cell_type": "markdown",
   "metadata": {},
   "source": [
    "### 36 St (D/N/R)"
   ]
  },
  {
   "cell_type": "code",
   "execution_count": null,
   "metadata": {},
   "outputs": [],
   "source": [
    "for s in stations_nr:\n",
    "    delayed = df.loc[st_nr]\n",
    "    ind = delayed.loc[delayed['delayed_stations']==s].index\n",
    "    df.loc[ind, '{}'.format(s)] = 1"
   ]
  },
  {
   "cell_type": "code",
   "execution_count": null,
   "metadata": {},
   "outputs": [],
   "source": [
    "line = df_r.loc[df_r['station'].str.contains('\\(2\\)|2/|/2')]\n",
    "line = list(line['station'])\n",
    "for l in line:\n",
    "    print(\"df[\"+\"'\"+\"{}\".format(l)+\"'\"+\"] = \")"
   ]
  },
  {
   "cell_type": "code",
   "execution_count": null,
   "metadata": {},
   "outputs": [],
   "source": []
  },
  {
   "cell_type": "code",
   "execution_count": null,
   "metadata": {},
   "outputs": [],
   "source": [
    "for col in stations_:\n",
    "    df.drop(col,axis=1,inplace=True)"
   ]
  },
  {
   "cell_type": "markdown",
   "metadata": {},
   "source": [
    "### 36 St (M/R)"
   ]
  },
  {
   "cell_type": "code",
   "execution_count": null,
   "metadata": {},
   "outputs": [],
   "source": [
    "for s in stations_nr:\n",
    "    delayed = df.loc[st_nr]\n",
    "    ind = delayed.loc[delayed['delayed_stations']==s].index\n",
    "    df.loc[ind, '{}'.format(s)] = 1"
   ]
  },
  {
   "cell_type": "code",
   "execution_count": null,
   "metadata": {},
   "outputs": [],
   "source": [
    "line = df_r.loc[df_r['station'].str.contains('\\(2\\)|2/|/2')]\n",
    "line = list(line['station'])\n",
    "for l in line:\n",
    "    print(\"df[\"+\"'\"+\"{}\".format(l)+\"'\"+\"] = \")"
   ]
  },
  {
   "cell_type": "code",
   "execution_count": null,
   "metadata": {},
   "outputs": [],
   "source": []
  },
  {
   "cell_type": "code",
   "execution_count": null,
   "metadata": {},
   "outputs": [],
   "source": [
    "for col in stations_:\n",
    "    df.drop(col,axis=1,inplace=True)"
   ]
  },
  {
   "cell_type": "markdown",
   "metadata": {},
   "source": [
    "## W Train (BMT)"
   ]
  },
  {
   "cell_type": "code",
   "execution_count": null,
   "metadata": {
    "ExecuteTime": {
     "end_time": "2021-11-09T04:16:42.400599Z",
     "start_time": "2021-11-09T04:16:42.230103Z"
    }
   },
   "outputs": [],
   "source": [
    "for s in stations_:\n",
    "    delayed = df.loc[st_]\n",
    "    ind = delayed.loc[delayed['delayed_stations']==s].index\n",
    "    df.loc[ind, '{}'.format(s)] = 1"
   ]
  },
  {
   "cell_type": "code",
   "execution_count": null,
   "metadata": {
    "ExecuteTime": {
     "end_time": "2021-11-09T05:16:40.177696Z",
     "start_time": "2021-11-09T05:16:40.160448Z"
    }
   },
   "outputs": [],
   "source": [
    "line = df_r.loc[df_r['station'].str.contains('\\(2\\)|2/|/2')]\n",
    "line = list(line['station'])\n",
    "for l in line:\n",
    "    print(\"df[\"+\"'\"+\"{}\".format(l)+\"'\"+\"] = \")"
   ]
  },
  {
   "cell_type": "code",
   "execution_count": null,
   "metadata": {},
   "outputs": [],
   "source": []
  },
  {
   "cell_type": "code",
   "execution_count": null,
   "metadata": {},
   "outputs": [],
   "source": [
    "for col in stations_:\n",
    "    df.drop(col,axis=1,inplace=True)"
   ]
  },
  {
   "cell_type": "markdown",
   "metadata": {},
   "source": [
    "## Z Train (BMT)"
   ]
  },
  {
   "cell_type": "code",
   "execution_count": null,
   "metadata": {
    "ExecuteTime": {
     "end_time": "2021-11-09T04:16:42.400599Z",
     "start_time": "2021-11-09T04:16:42.230103Z"
    }
   },
   "outputs": [],
   "source": [
    "for s in stations_:\n",
    "    delayed = df.loc[st_]\n",
    "    ind = delayed.loc[delayed['delayed_stations']==s].index\n",
    "    df.loc[ind, '{}'.format(s)] = 1"
   ]
  },
  {
   "cell_type": "code",
   "execution_count": null,
   "metadata": {
    "ExecuteTime": {
     "end_time": "2021-11-09T05:16:40.177696Z",
     "start_time": "2021-11-09T05:16:40.160448Z"
    }
   },
   "outputs": [],
   "source": [
    "line = df_r.loc[df_r['station'].str.contains('\\(2\\)|2/|/2')]\n",
    "line = list(line['station'])\n",
    "for l in line:\n",
    "    print(\"df[\"+\"'\"+\"{}\".format(l)+\"'\"+\"] = \")"
   ]
  },
  {
   "cell_type": "code",
   "execution_count": null,
   "metadata": {},
   "outputs": [],
   "source": []
  },
  {
   "cell_type": "code",
   "execution_count": null,
   "metadata": {},
   "outputs": [],
   "source": [
    "for col in stations_:\n",
    "    df.drop(col,axis=1,inplace=True)"
   ]
  }
 ],
 "metadata": {
  "kernelspec": {
   "display_name": "Python (mta_env)",
   "language": "python",
   "name": "mta_env"
  },
  "language_info": {
   "codemirror_mode": {
    "name": "ipython",
    "version": 3
   },
   "file_extension": ".py",
   "mimetype": "text/x-python",
   "name": "python",
   "nbconvert_exporter": "python",
   "pygments_lexer": "ipython3",
   "version": "3.9.7"
  },
  "toc": {
   "base_numbering": 1,
   "nav_menu": {},
   "number_sections": true,
   "sideBar": true,
   "skip_h1_title": false,
   "title_cell": "Table of Contents",
   "title_sidebar": "Contents",
   "toc_cell": false,
   "toc_position": {},
   "toc_section_display": true,
   "toc_window_display": false
  }
 },
 "nbformat": 4,
 "nbformat_minor": 5
}
