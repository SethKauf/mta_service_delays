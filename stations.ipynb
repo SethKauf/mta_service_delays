{
 "cells": [
  {
   "cell_type": "markdown",
   "metadata": {},
   "source": [
    "# Import Libraries/Data"
   ]
  },
  {
   "cell_type": "code",
   "execution_count": 1,
   "metadata": {
    "ExecuteTime": {
     "end_time": "2021-11-10T03:24:06.005289Z",
     "start_time": "2021-11-10T03:24:05.684100Z"
    }
   },
   "outputs": [],
   "source": [
    "import pandas as pd\n",
    "import pickle as pkl\n",
    "import warnings\n",
    "pd.set_option('display.max_columns',None)\n",
    "pd.set_option('display.max_rows',600)"
   ]
  },
  {
   "cell_type": "code",
   "execution_count": 2,
   "metadata": {
    "ExecuteTime": {
     "end_time": "2021-11-10T03:24:06.082017Z",
     "start_time": "2021-11-10T03:24:06.006828Z"
    }
   },
   "outputs": [],
   "source": [
    "with open('data/backup_data.pkl','rb') as f:\n",
    "    df = pkl.load(f)\n",
    "df_r = pd.read_csv('data/ridership.csv')"
   ]
  },
  {
   "cell_type": "code",
   "execution_count": 3,
   "metadata": {
    "ExecuteTime": {
     "end_time": "2021-11-10T03:24:06.173763Z",
     "start_time": "2021-11-10T03:24:06.083040Z"
    }
   },
   "outputs": [],
   "source": [
    "df['message_lower'] = df['message_lower'].str.replace('.','', regex=True)"
   ]
  },
  {
   "cell_type": "code",
   "execution_count": 4,
   "metadata": {
    "ExecuteTime": {
     "end_time": "2021-11-10T03:24:06.251095Z",
     "start_time": "2021-11-10T03:24:06.175296Z"
    }
   },
   "outputs": [],
   "source": [
    "df['message_lower'] = df['message_lower'].str.replace(' ave ',' av ',regex=True)"
   ]
  },
  {
   "cell_type": "code",
   "execution_count": 5,
   "metadata": {
    "ExecuteTime": {
     "end_time": "2021-11-10T03:24:06.267182Z",
     "start_time": "2021-11-10T03:24:06.253671Z"
    }
   },
   "outputs": [],
   "source": [
    "def add_str(list, str):\n",
    "    str += '{0}'\n",
    "    list = [str.format(i) for i in list]\n",
    "    return list\n",
    "\n",
    "def get_one(value):\n",
    "    if value is True:\n",
    "        return 1\n",
    "    else:\n",
    "        return 0\n",
    "    \n",
    "def become_one(one):\n",
    "    if one >= 1:\n",
    "        return 1\n",
    "    else:\n",
    "        return 0"
   ]
  },
  {
   "cell_type": "code",
   "execution_count": 6,
   "metadata": {
    "ExecuteTime": {
     "end_time": "2021-11-10T03:24:06.283225Z",
     "start_time": "2021-11-10T03:24:06.268183Z"
    }
   },
   "outputs": [],
   "source": [
    "df_r.drop('Unnamed: 0', axis=1,inplace=True)"
   ]
  },
  {
   "cell_type": "markdown",
   "metadata": {},
   "source": [
    "# Set stations for each line"
   ]
  },
  {
   "cell_type": "code",
   "execution_count": 7,
   "metadata": {
    "ExecuteTime": {
     "end_time": "2021-11-10T03:24:06.299290Z",
     "start_time": "2021-11-10T03:24:06.284225Z"
    }
   },
   "outputs": [
    {
     "data": {
      "text/plain": [
       "'\\nVan Cortlandt and 242 St are the same\\n\\n225 st and marble hill are the same\\n\\n116 st and columbia u are the same\\n\\n110 st, cathedral pk and cathedral park are the same\\n\\n59 st and columbus are the same\\n\\ntimes sq and 42 st are the same\\n\\n34 st and penn sta are the same\\n\\nferry, south f and south ferry are the same\\n'"
      ]
     },
     "execution_count": 7,
     "metadata": {},
     "output_type": "execute_result"
    }
   ],
   "source": [
    "stations_1 = ['van cortlandt','cortlandt','242','238','231','225','marble hill','215','207','dyckman',\n",
    "              '191','181','168','157 st','145 st','137','125','116 st','columbia u',\n",
    "              '110','cathedral pk','cathedral park','103','96','86','79','72','66','59', 'columbus',\n",
    "              '50','times sq','42','34','penn sta','28 st','23 st','18 st','14 st','christopher st','houston st',\n",
    "              'canal','franklin st','chambers st','wtc','rector st','south f']\n",
    "\n",
    "\"\"\"\n",
    "Van Cortlandt and 242 St are the same\n",
    "\n",
    "225 st and marble hill are the same\n",
    "\n",
    "116 st and columbia u are the same\n",
    "\n",
    "110 st, cathedral pk and cathedral park are the same\n",
    "\n",
    "59 st and columbus are the same\n",
    "\n",
    "times sq and 42 st are the same\n",
    "\n",
    "34 st and penn sta are the same\n",
    "\n",
    "ferry, south f and south ferry are the same\n",
    "\"\"\""
   ]
  },
  {
   "cell_type": "code",
   "execution_count": 8,
   "metadata": {
    "ExecuteTime": {
     "end_time": "2021-11-10T03:24:06.315275Z",
     "start_time": "2021-11-10T03:24:06.299290Z"
    }
   },
   "outputs": [
    {
     "data": {
      "text/plain": [
       "'\\n241 st and wakefield are the same\\n\\nwest farms sq and e tremont are the same\\n\\n3 av- and 3 av - are same (3 av-149 st)\\n\\n149 st-grand c, 149 st - grand c, 149 st grand c, and grand co are the same\\n\\ncentral p and 110 st are the same\\n\\ntimes sq and 42 st are the same\\n\\n34 st and penn sta are the same\\n\\neastern p and museum are the same\\n\\nflatbush av and brooklyn c are the same\\n\\n'"
      ]
     },
     "execution_count": 8,
     "metadata": {},
     "output_type": "execute_result"
    }
   ],
   "source": [
    "stations_2 = ['241','wakefield', 'nereid','233','225','219','gun hill','burke av','allerton av','pelham p','bx park e',\n",
    "              'e 180','174','freeman','simpson','intervale av','prospect av','jackson','west farms', 'e tremont',\n",
    "              'grand co','149 st-grand c', '149 st - grand c', '149 st grand c',\n",
    "              '135','125','116','central p', '110','96','72','times sq','42','34', '3 av-', '3 av -',\n",
    "              'penn sta','14 st','chambers','park pl','fulton','wall st','clark','borough hall','hoyt','nevins','atlantic av',\n",
    "              'bergen st','grand army','eastern p','museum', 'franklin av', 'president st','sterling st',\n",
    "              'winthrop st','church','beverly','newkirk av','flatbush av']\n",
    "\n",
    "\"\"\"\n",
    "241 st and wakefield are the same\n",
    "\n",
    "west farms sq and e tremont are the same\n",
    "\n",
    "3 av- and 3 av - are same (3 av-149 st)\n",
    "\n",
    "149 st-grand c, 149 st - grand c, 149 st grand c, and grand co are the same\n",
    "\n",
    "central p and 110 st are the same\n",
    "\n",
    "times sq and 42 st are the same\n",
    "\n",
    "34 st and penn sta are the same\n",
    "\n",
    "eastern p and museum are the same\n",
    "\n",
    "flatbush av and brooklyn c are the same\n",
    "\n",
    "\"\"\""
   ]
  },
  {
   "cell_type": "code",
   "execution_count": 9,
   "metadata": {
    "ExecuteTime": {
     "end_time": "2021-11-10T03:24:06.330641Z",
     "start_time": "2021-11-10T03:24:06.316275Z"
    }
   },
   "outputs": [
    {
     "data": {
      "text/plain": [
       "'\\n148 st and harlem are the same\\n\\ncentral p and 110 st are the same\\n\\ntimes sq and 42 st are the same\\n\\n34 st and penn sta are the same\\n\\neastern p and museum are the same\\n\\ncrown heights, crown hts and utica av are the same\\n\\n'"
      ]
     },
     "execution_count": 9,
     "metadata": {},
     "output_type": "execute_result"
    }
   ],
   "source": [
    "stations_3 = ['148', 'harlem','145','135','125','116','central p', '110 st','96','72','times sq','42',\n",
    "              '34','penn sta','14 st','chambers','park pl','fulton','wall st','clark','borough hall',\n",
    "              'hoyt','nevins','atlantic av', 'bergen st','grand army','eastern p', 'museum','franklin av',\n",
    "              'nostrand av','kingston av','crown heights','sutter av','utica av',\n",
    "             'saratoga av','rockaway av','junius st','pennsylvania av','van siclen','new lots']\n",
    "\n",
    "\"\"\"\n",
    "148 st and harlem are the same\n",
    "\n",
    "central p and 110 st are the same\n",
    "\n",
    "times sq and 42 st are the same\n",
    "\n",
    "34 st and penn sta are the same\n",
    "\n",
    "eastern p and museum are the same\n",
    "\n",
    "crown heights, crown hts and utica av are the same\n",
    "\n",
    "\"\"\""
   ]
  },
  {
   "cell_type": "code",
   "execution_count": 10,
   "metadata": {
    "ExecuteTime": {
     "end_time": "2021-11-10T03:24:06.346095Z",
     "start_time": "2021-11-10T03:24:06.330641Z"
    }
   },
   "outputs": [
    {
     "data": {
      "text/plain": [
       "'\\nmt eden and mount eden are same\\n\\n138 st-grand concourse and 138 st - grand concourse are same\\n\\ngrand central and 42 st are the same\\n\\n14 st and union sq are the same\\n\\ncrown heights, crown hts and utica av are same\\n\\nbrooklyn br, city h, and bklyn br are the same\\n\\n'"
      ]
     },
     "execution_count": 10,
     "metadata": {},
     "output_type": "execute_result"
    }
   ],
   "source": [
    "stations_4 = ['woodlawn','moshulu','bedford p', 'kingsbridge','fordham','183','burnside','176',\n",
    "             'mt eden', 'mount eden', '170','167','161','125','86','59','grand central','utica av',\n",
    "              '42', '14 st','union sq','bklyn br','fulton','wall st','149','138','brooklyn br', 'city h',\n",
    "              'bowling green','borough hall','nevins','atlantic av','franklin av','crown heights','lexington']\n",
    "\n",
    "\"\"\"\n",
    "mt eden and mount eden are same\n",
    "\n",
    "138 st-grand concourse and 138 st - grand concourse are same\n",
    "\n",
    "grand central and 42 st are the same\n",
    "\n",
    "14 st and union sq are the same\n",
    "\n",
    "crown heights, crown hts and utica av are same\n",
    "\n",
    "brooklyn br, city h, and bklyn br are the same\n",
    "\n",
    "\"\"\""
   ]
  },
  {
   "cell_type": "code",
   "execution_count": 11,
   "metadata": {
    "ExecuteTime": {
     "end_time": "2021-11-10T03:24:06.361536Z",
     "start_time": "2021-11-10T03:24:06.347095Z"
    }
   },
   "outputs": [
    {
     "data": {
      "text/plain": [
       "'\\nwest farms and e tremont are the same\\n\\n3 av- and 3 av - are same (3 av-149 st)\\n\\n149 st-grand concourse, 149 st - grand concourse, 149 st grand concourse are same\\n\\n138 st, 138 st-grand concourse and 138 st - grand concourse are the same\\n\\ngrand central and 42 st are the same\\n\\natlantic av and barclays are same\\n\\n4/5/6 59 st is different from 1 59 st columbus circle\\n\\nflatbush av and brooklyn c are the same\\n\\ngun hill rd and pelham pkwy have to be done separately\\n\\nbrooklyn br, city h, and bklyn br are the same\\n\\n'"
      ]
     },
     "execution_count": 11,
     "metadata": {},
     "output_type": "execute_result"
    }
   ],
   "source": [
    "stations_5 = ['eastchester','baychester','morris p','e 180','west farms','e tremont','174','freeman',\n",
    "             'simpson','intervale av','prospect av','jackson','3 av-149','nereid','233',\n",
    "              '149 st-grand c', '149 st - grand c', '149 st grand c','brooklyn br', 'city h',\n",
    "              '225','219','burke av','allerton av','bronx p','138','138 st-grand c', '138 st - grand c',\n",
    "             '125','86 st','59','grand central','42 st','14 st','union sq','bklyn br','fulton','wall st',\n",
    "             'bowling green','borough hall','nevins','atlantic av','franklin av','president st',\n",
    "              'sterling','winthrop','church','beverly','newkirk av','flatbush av','lexington']\n",
    "\n",
    "\"\"\"\n",
    "west farms and e tremont are the same\n",
    "\n",
    "3 av- and 3 av - are same (3 av-149 st)\n",
    "\n",
    "149 st-grand concourse, 149 st - grand concourse, 149 st grand concourse are same\n",
    "\n",
    "138 st, 138 st-grand concourse and 138 st - grand concourse are the same\n",
    "\n",
    "grand central and 42 st are the same\n",
    "\n",
    "atlantic av and barclays are same\n",
    "\n",
    "4/5/6 59 st is different from 1 59 st columbus circle\n",
    "\n",
    "flatbush av and brooklyn c are the same\n",
    "\n",
    "gun hill rd and pelham pkwy have to be done separately\n",
    "\n",
    "brooklyn br, city h, and bklyn br are the same\n",
    "\n",
    "\"\"\""
   ]
  },
  {
   "cell_type": "code",
   "execution_count": 12,
   "metadata": {
    "ExecuteTime": {
     "end_time": "2021-11-10T03:24:06.377133Z",
     "start_time": "2021-11-10T03:24:06.363536Z"
    }
   },
   "outputs": [],
   "source": [
    "stations_25 = ['gun hill','pelham p']\n",
    "stations_5n2 = ['gun hill','pelham p']"
   ]
  },
  {
   "cell_type": "code",
   "execution_count": 13,
   "metadata": {
    "ExecuteTime": {
     "end_time": "2021-11-10T03:24:06.392329Z",
     "start_time": "2021-11-10T03:24:06.378133Z"
    }
   },
   "outputs": [
    {
     "data": {
      "text/plain": [
       "'\\nwestchester and e tremont are the same\\n\\n3 av 138 st,3 av-138 st, 3 av - 138 st, 3 av- 138 st, and 3 av -138 st are same\\n\\n14 st and union sq are the same\\n\\ndifferent 96 from 1/2/3\\n\\ndifferent 86 from 1\\n\\ndifferent 28 from 1\\n\\ndifferent 23 from 1\\n\\ndifferent canal from 1\\n\\ne tremont and east tremont are the same\\n\\ne 143 and east 143 are the same\\n\\ne 149 and east 149 are the same\\n\\n53 st in stations_em6\\n\\nbrooklyn br, city h, and bklyn br are the same\\n'"
      ]
     },
     "execution_count": 13,
     "metadata": {},
     "output_type": "execute_result"
    }
   ],
   "source": [
    "stations_6 = ['pelham b','buhre','middletown','westchester','e tremont','east tremont','zerega','castle hill','parkchester',\n",
    "              'st lawrence','morrison','elder','whitlock','hunts p','longwood av','east 149','e 149','brooklyn br', 'city h',\n",
    "              'east 143','e 143','cypress','brook', '3 av-138','3 av 138','125','116','110', '103','96','42',\n",
    "              '86 st','77','68','59','51','bleecker','broadway','lafay','bway','grand central','33','28 st',\n",
    "              '23 st','14 st','union sq','astor','bleeker','spring st','canal','bklyn br']\n",
    "\n",
    "\"\"\"\n",
    "westchester and e tremont are the same\n",
    "\n",
    "3 av 138 st,3 av-138 st, 3 av - 138 st, 3 av- 138 st, and 3 av -138 st are same\n",
    "\n",
    "14 st and union sq are the same\n",
    "\n",
    "different 96 from 1/2/3\n",
    "\n",
    "different 86 from 1\n",
    "\n",
    "different 28 from 1\n",
    "\n",
    "different 23 from 1\n",
    "\n",
    "different canal from 1\n",
    "\n",
    "e tremont and east tremont are the same\n",
    "\n",
    "e 143 and east 143 are the same\n",
    "\n",
    "e 149 and east 149 are the same\n",
    "\n",
    "53 st in stations_em6\n",
    "\n",
    "brooklyn br, city h, and bklyn br are the same\n",
    "\"\"\""
   ]
  },
  {
   "cell_type": "code",
   "execution_count": 14,
   "metadata": {
    "ExecuteTime": {
     "end_time": "2021-11-10T03:24:06.407679Z",
     "start_time": "2021-11-10T03:24:06.393329Z"
    }
   },
   "outputs": [
    {
     "data": {
      "text/plain": [
       "'\\n42, bryant and 5 av are the same\\n\\n42 and grand central are the same\\n\\n42 and times sq are the same\\n\\n34 st h, 34 st-h, 34 st- h, 34 st - h are the same\\n\\n40 st and 40 lowery st are the same\\n\\n33 st and rawson are the same\\n\\nqnsboro pl and queensboro pl are the same\\n\\ncourt sq will be in stations_egm7\\n'"
      ]
     },
     "execution_count": 14,
     "metadata": {},
     "output_type": "execute_result"
    }
   ],
   "source": [
    "stations_7 = ['flushing', 'mets','111','103','junction b', '90','82','74','69',\n",
    "             '61','52','46','40','33','rawson','qnsboro pl','queensboro pl','34 st h','34 st-h','34 st- h', 'jackson h',\n",
    "              '34 st - h','hunters p','vernon b','grand central','42','5 av','times sq','bryant','jackson av','roosevelt']\n",
    "\n",
    "\"\"\"\n",
    "42, bryant and 5 av are the same\n",
    "\n",
    "42 and grand central are the same\n",
    "\n",
    "42 and times sq are the same\n",
    "\n",
    "34 st h, 34 st-h, 34 st- h, 34 st - h are the same\n",
    "\n",
    "40 st and 40 lowery st are the same\n",
    "\n",
    "33 st and rawson are the same\n",
    "\n",
    "qnsboro pl and queensboro pl are the same\n",
    "\n",
    "court sq will be in stations_egm7\n",
    "\"\"\""
   ]
  },
  {
   "cell_type": "code",
   "execution_count": 15,
   "metadata": {
    "ExecuteTime": {
     "end_time": "2021-11-10T03:24:06.423100Z",
     "start_time": "2021-11-10T03:24:06.408697Z"
    }
   },
   "outputs": [
    {
     "data": {
      "text/plain": [
       "'\\nBoth 42 st\\n'"
      ]
     },
     "execution_count": 15,
     "metadata": {},
     "output_type": "execute_result"
    }
   ],
   "source": [
    "stations_42 = ['times sq','grand central','42 st']\n",
    "\n",
    "\"\"\"\n",
    "Both 42 st\n",
    "\"\"\""
   ]
  },
  {
   "cell_type": "code",
   "execution_count": 16,
   "metadata": {
    "ExecuteTime": {
     "end_time": "2021-11-10T03:24:06.438680Z",
     "start_time": "2021-11-10T03:24:06.424100Z"
    }
   },
   "outputs": [
    {
     "data": {
      "text/plain": [
       "'\\nInwood and 207 are the same\\n\\nDyckman and 200 are the same\\n\\nColumbus and 59 are the same\\n\\nPort Auth and 42 are the same\\n\\nw 4, west 4, wash sq, and washington sq are the same\\n\\nbwy, bdwy j, brdwy j, jctn, junction, and broadway j are the same\\n\\nozone p and lefferts b are the same\\n\\naqueduct n and conduit are the same\\n\\nhoward b and jfk a are the same\\n\\nfar rockaway and mott av are the same\\n\\nrockaway p and beach 116 are the same\\n'"
      ]
     },
     "execution_count": 16,
     "metadata": {},
     "output_type": "execute_result"
    }
   ],
   "source": [
    "stations_a = ['inwood','207', 'dyckman','200', '190','181','175','168','145','125','59','columbus','port auth','42',\n",
    "             '34','penn sta','14 st','w 4','wash sq','west 4','washington sq','canal','chambers','fulton','high',\n",
    "             'jay','hoyt','nostrand','utica','bdwy j','brdwy j','jctn','junction','broadway j','bwy','euclid','grant',\n",
    "             '80','88','rockaway b','104','111','ozone p','lefferts b','aqueduct r','aqueduct n','conduit','howard b',\n",
    "             'jfk a','broad ch','beach 67','beach 60','beach 44','beach 36','beach 25','far rockaway','mott av',\n",
    "             'beach 90','beach 98','beach 105','rockaway p','beach 116']\n",
    "\n",
    "\"\"\"\n",
    "Inwood and 207 are the same\n",
    "\n",
    "Dyckman and 200 are the same\n",
    "\n",
    "Columbus and 59 are the same\n",
    "\n",
    "Port Auth and 42 are the same\n",
    "\n",
    "w 4, west 4, wash sq, and washington sq are the same\n",
    "\n",
    "bwy, bdwy j, brdwy j, jctn, junction, and broadway j are the same\n",
    "\n",
    "ozone p and lefferts b are the same\n",
    "\n",
    "aqueduct n and conduit are the same\n",
    "\n",
    "howard b and jfk a are the same\n",
    "\n",
    "far rockaway and mott av are the same\n",
    "\n",
    "rockaway p and beach 116 are the same\n",
    "\"\"\""
   ]
  },
  {
   "cell_type": "code",
   "execution_count": 17,
   "metadata": {
    "ExecuteTime": {
     "end_time": "2021-11-10T03:24:06.454669Z",
     "start_time": "2021-11-10T03:24:06.439880Z"
    }
   },
   "outputs": [
    {
     "data": {
      "text/plain": [
       "'\\n182 and 183 are the same\\n\\n174 and 175 are the same\\n\\n110 st, cathedral pk and cathedral park are the same\\n\\n81 and museum are the same\\n\\n59 and columbus are the same\\n\\n47 and 47-50 are the same\\n\\n42, bryant and 5 av are the same\\n\\n34 and herald sq are the same\\n\\nw 4, west 4, wash sq, and washington sq are the same\\n\\nbway l, brdwy l, broadway l, and bdwy l are the same\\n\\n7 av (bk) contained in stations_bq\\n\\n7 av (manh) contained in stations_bde\\n'"
      ]
     },
     "execution_count": 17,
     "metadata": {},
     "output_type": "execute_result"
    }
   ],
   "source": [
    "stations_b = ['bedford','kingsbridge','fordham','182','183','tremont','174','175','170','167','161','155','145','135',\n",
    "             '125','116','110','cathedral pk','cathedral park','103','96','86','81','museum','72','59','columbus',\n",
    "             '47-50','47','42','bryant','5 av','34','hearld sq','w 4','wash sq','west 4','washington sq',\n",
    "             'bway l','brdwy l','broadway l','bdwy l','grand st','dekalb','atlantic','prospect','church','newkirk',\n",
    "             'kings','sheepshead','brighton']\n",
    "\n",
    "\"\"\"\n",
    "182 and 183 are the same\n",
    "\n",
    "174 and 175 are the same\n",
    "\n",
    "110 st, cathedral pk and cathedral park are the same\n",
    "\n",
    "81 and museum are the same\n",
    "\n",
    "59 and columbus are the same\n",
    "\n",
    "47 and 47-50 are the same\n",
    "\n",
    "42, bryant and 5 av are the same\n",
    "\n",
    "34 and herald sq are the same\n",
    "\n",
    "w 4, west 4, wash sq, and washington sq are the same\n",
    "\n",
    "bway l, brdwy l, broadway l, and bdwy l are the same\n",
    "\n",
    "7 av (bk) contained in stations_bq\n",
    "\n",
    "7 av (manh) contained in stations_bde\n",
    "\"\"\""
   ]
  },
  {
   "cell_type": "code",
   "execution_count": 18,
   "metadata": {
    "ExecuteTime": {
     "end_time": "2021-11-10T03:24:06.469866Z",
     "start_time": "2021-11-10T03:24:06.455669Z"
    }
   },
   "outputs": [
    {
     "data": {
      "text/plain": [
       "'\\n163 and amsterdam are the same\\n\\n110 st, cathedral pk and cathedral park are the same\\n\\n81 and museum are the same\\n\\n59 and columbus are the same\\n\\n42 and Port Auth are the same\\n\\n34 and penn sta are the same\\n\\nw 4, west 4, wash sq, and washington sq are the same\\n\\nbwy, bdwy j, brdwy j, jctn, junction, and broadway j are the same\\n\\n23 st in stations_ce\\n'"
      ]
     },
     "execution_count": 18,
     "metadata": {},
     "output_type": "execute_result"
    }
   ],
   "source": [
    "stations_c = ['168','163','amsterdam','155','145','135','125','116','110','cathedral pk','cathedral park','103',\n",
    "             '96','86','81','museum','72','59','columbus','50','port auth','42','34','penn sta','14 st',\n",
    "              'w 4','wash sq','west 4','washington sq','spring','canal','chambers','fulton','high','jay','hoyt',\n",
    "             'lafayette av','clinton w','franklin av','nostrand','kingston','utica','ralph','rockaway',\n",
    "             'bdwy j','brdwy j','jctn','junction','broadway j','bwy','liberty','van siclen','shepherd','euclid']\n",
    "\n",
    "\"\"\"\n",
    "163 and amsterdam are the same\n",
    "\n",
    "110 st, cathedral pk and cathedral park are the same\n",
    "\n",
    "81 and museum are the same\n",
    "\n",
    "59 and columbus are the same\n",
    "\n",
    "42 and Port Auth are the same\n",
    "\n",
    "34 and penn sta are the same\n",
    "\n",
    "w 4, west 4, wash sq, and washington sq are the same\n",
    "\n",
    "bwy, bdwy j, brdwy j, jctn, junction, and broadway j are the same\n",
    "\n",
    "23 st in stations_ce\n",
    "\"\"\""
   ]
  },
  {
   "cell_type": "code",
   "execution_count": 19,
   "metadata": {
    "ExecuteTime": {
     "end_time": "2021-11-10T03:24:06.485379Z",
     "start_time": "2021-11-10T03:24:06.470866Z"
    }
   },
   "outputs": [
    {
     "data": {
      "text/plain": [
       "'\\n205 and norwood are the same\\n\\n183 and 182 are the same\\n\\n175 and 174 are the same\\n\\n59 and columbus are the same\\n\\n47 and 47-50 are the same\\n\\n42, bryant and 5 av are the same\\n\\n34 and herald sq are the same\\n\\nw 4, west 4, wash sq, and washington sq are the same\\n\\nbway l, brdwy l, broadway l, and bdwy l are the same\\n\\nbay pk and bay park are the same\\n\\nconey and stillwell are the same\\n\\nfort ham and ft ham are the same\\n'"
      ]
     },
     "execution_count": 19,
     "metadata": {},
     "output_type": "execute_result"
    }
   ],
   "source": [
    "stations_d = ['norwood','205','bedford','kingsbridge','fordham','182','183','tremont','174','175','170','167',\n",
    "             '161','155','145','125','59','columbus', '47-50','47','42','bryant','5 av','34','hearld sq','w 4',\n",
    "              'wash sq','west 4','washington sq','bway l','brdwy l','broadway l','bdwy l','grand st','atlantic','36',\n",
    "             '9 av','fort ham','50','55','62','71','79','18 av','20 av','bay pk','bay park','25 av','bay 50',\n",
    "              'ft ham''coney','stillwell']\n",
    "\n",
    "\"\"\"\n",
    "205 and norwood are the same\n",
    "\n",
    "183 and 182 are the same\n",
    "\n",
    "175 and 174 are the same\n",
    "\n",
    "59 and columbus are the same\n",
    "\n",
    "47 and 47-50 are the same\n",
    "\n",
    "42, bryant and 5 av are the same\n",
    "\n",
    "34 and herald sq are the same\n",
    "\n",
    "w 4, west 4, wash sq, and washington sq are the same\n",
    "\n",
    "bway l, brdwy l, broadway l, and bdwy l are the same\n",
    "\n",
    "bay pk and bay park are the same\n",
    "\n",
    "coney and stillwell are the same\n",
    "\n",
    "fort ham and ft ham are the same\n",
    "\"\"\""
   ]
  },
  {
   "cell_type": "code",
   "execution_count": 20,
   "metadata": {
    "ExecuteTime": {
     "end_time": "2021-11-10T03:24:06.500454Z",
     "start_time": "2021-11-10T03:24:06.486379Z"
    }
   },
   "outputs": [
    {
     "data": {
      "text/plain": [
       "'\\njamaica c and parsons are the same\\n\\nsutphin and jfk a are the same\\n\\nforest h and 71 are the same\\n\\njackson heights, jackson hts and roosevelt av are the same\\n\\nqueens plaza, qns plz, qns plaza and queens plz are the same\\n\\ncourt sq will be in stations_egm7 23 st\\n\\n42 and port auth are the same\\n\\n34 and penn sta are the same\\n\\nw4, wash sq, west 4, and washington sq are the same\\n\\nwtc and world trade center are the same\\n\\n5 av in stations_em6\\n'"
      ]
     },
     "execution_count": 20,
     "metadata": {},
     "output_type": "execute_result"
    }
   ],
   "source": [
    "stations_e = ['jamaica c','parsons','sutphin','jfk a','jamaica v','briarwood','kew gardens','75 av','forest h','71',\n",
    "             'jackson heights','jackson hts','roosevelt av','queens plaza','qns plz','qns plaza','queens plz',\n",
    "             'lexington av','50','port auth','42','34','penn sta','14 st','w 4','wash sq','west 4',\n",
    "              'washington sq','spring','canal','wtc','world trade center']\n",
    "\n",
    "\"\"\"\n",
    "jamaica c and parsons are the same\n",
    "\n",
    "sutphin and jfk a are the same\n",
    "\n",
    "forest h and 71 are the same\n",
    "\n",
    "jackson heights, jackson hts and roosevelt av are the same\n",
    "\n",
    "queens plaza, qns plz, qns plaza and queens plz are the same\n",
    "\n",
    "court sq will be in stations_egm7 23 st\n",
    "\n",
    "42 and port auth are the same\n",
    "\n",
    "34 and penn sta are the same\n",
    "\n",
    "w4, wash sq, west 4, and washington sq are the same\n",
    "\n",
    "wtc and world trade center are the same\n",
    "\n",
    "5 av in stations_em6\n",
    "\"\"\""
   ]
  },
  {
   "cell_type": "code",
   "execution_count": 21,
   "metadata": {
    "ExecuteTime": {
     "end_time": "2021-11-10T03:24:06.515808Z",
     "start_time": "2021-11-10T03:24:06.501476Z"
    }
   },
   "outputs": [],
   "source": [
    "stations_bde = ['7 av']\n",
    "stations_ce = ['23 st']"
   ]
  },
  {
   "cell_type": "code",
   "execution_count": 22,
   "metadata": {
    "ExecuteTime": {
     "end_time": "2021-11-10T03:24:06.531124Z",
     "start_time": "2021-11-10T03:24:06.516832Z"
    }
   },
   "outputs": [
    {
     "data": {
      "text/plain": [
       "'\\nforest h and 71 are the same\\n\\njackson heights, jackson hts and roosevelt av are the same\\n\\n21 st, queensbr and qnsbr are the same\\n\\nlexington av and 63 are the same\\n\\n47-50 and 47 are the same\\n\\n42, bryant and 5 av are the same\\n\\n34 st and herald sq are the same\\n\\nw 4, west 4, wash sq, and washington sq are the same\\n\\nbway l, brdwy l, broadway l, and bdwy l are the same\\n\\ndelancey and essex are the same\\n\\neast br and e br are the same\\n\\n15 st and prospect p are the same\\n\\nfort ham and ft ham are the same\\n\\navenue i and av i are the same\\n\\navenue n and av n are the same\\n\\navenue p and av p are the same\\n\\navenue u and av u are the same\\n\\navenue x and av x are the same\\n\\nwest 8, w 8 and aquarium are the same\\n\\nconey and stillwell are the same\\n\\nsmith in stations_fg\\n\\n4 av 9 st are in stations_fgr\\n'"
      ]
     },
     "execution_count": 22,
     "metadata": {},
     "output_type": "execute_result"
    }
   ],
   "source": [
    "stations_f = ['jamaica','169','parsons','sutphin','briarwood','kew gardens','75 av','forest h','71',\n",
    "              'jackson heights','jackson hts','roosevelt av','21 st', 'queensbr','qnsbr','roosevelt i','lexington av',\n",
    "              '63','57','47-50','47','42','bryant','5 av','34','hearld sq','23 st','14 st','w 4','wash sq',\n",
    "              'west 4','washington sq','bway l','brdwy l','broadway l','bdwy l','2 av','delancey','essex',\n",
    "              'east br','e br','york','jay','bergen','carroll','7 av','15 st','prospect p',\n",
    "             'fort ham','ft ham','church','ditmas','18 av','avenue i','av i', 'bay p', 'avenue n', 'av n','avenue p',\n",
    "             'av p','kings h','avenue u','av u','avenue x','av x','neptune','west 8','w 8','aquarium','coney','stillwell']\n",
    "\n",
    "\"\"\"\n",
    "forest h and 71 are the same\n",
    "\n",
    "jackson heights, jackson hts and roosevelt av are the same\n",
    "\n",
    "21 st, queensbr and qnsbr are the same\n",
    "\n",
    "lexington av and 63 are the same\n",
    "\n",
    "47-50 and 47 are the same\n",
    "\n",
    "42, bryant and 5 av are the same\n",
    "\n",
    "34 st and herald sq are the same\n",
    "\n",
    "w 4, west 4, wash sq, and washington sq are the same\n",
    "\n",
    "bway l, brdwy l, broadway l, and bdwy l are the same\n",
    "\n",
    "delancey and essex are the same\n",
    "\n",
    "east br and e br are the same\n",
    "\n",
    "15 st and prospect p are the same\n",
    "\n",
    "fort ham and ft ham are the same\n",
    "\n",
    "avenue i and av i are the same\n",
    "\n",
    "avenue n and av n are the same\n",
    "\n",
    "avenue p and av p are the same\n",
    "\n",
    "avenue u and av u are the same\n",
    "\n",
    "avenue x and av x are the same\n",
    "\n",
    "west 8, w 8 and aquarium are the same\n",
    "\n",
    "coney and stillwell are the same\n",
    "\n",
    "smith in stations_fg\n",
    "\n",
    "4 av 9 st are in stations_fgr\n",
    "\"\"\""
   ]
  },
  {
   "cell_type": "code",
   "execution_count": 23,
   "metadata": {
    "ExecuteTime": {
     "end_time": "2021-11-10T03:24:06.546480Z",
     "start_time": "2021-11-10T03:24:06.532144Z"
    }
   },
   "outputs": [
    {
     "data": {
      "text/plain": [
       "'\\ncourt sq is in stations_egm7\\n\\nmyrtle and willoughby are the same\\n\\nbedford and nostrand are the same\\n\\nclinton and washington are the same\\n\\nsmith and 9 st are in stations_fg\\n\\n4 av 9 st are in stations_fgr\\n\\n15 st and prospect p are the same\\n\\nfort ham and ft ham are the same\\n'"
      ]
     },
     "execution_count": 23,
     "metadata": {},
     "output_type": "execute_result"
    }
   ],
   "source": [
    "stations_g = ['21 st','greenpoint','nassau','metropolitan','broadway','flushing','myrtle','willoughby',\n",
    "             'bedford','nostrand','classon','clinton','washington','fulton','hoyt','bergen','carroll',\n",
    "             '7 av','15 st','prospect p','fort ham','ft ham','church']\n",
    "\n",
    "\"\"\"\n",
    "court sq is in stations_egm7\n",
    "\n",
    "myrtle and willoughby are the same\n",
    "\n",
    "bedford and nostrand are the same\n",
    "\n",
    "clinton and washington are the same\n",
    "\n",
    "smith and 9 st are in stations_fg\n",
    "\n",
    "4 av 9 st are in stations_fgr\n",
    "\n",
    "15 st and prospect p are the same\n",
    "\n",
    "fort ham and ft ham are the same\n",
    "\"\"\""
   ]
  },
  {
   "cell_type": "code",
   "execution_count": 24,
   "metadata": {
    "ExecuteTime": {
     "end_time": "2021-11-10T03:24:06.561352Z",
     "start_time": "2021-11-10T03:24:06.547498Z"
    }
   },
   "outputs": [],
   "source": [
    "stations_fg = ['smith','9 st']"
   ]
  },
  {
   "cell_type": "code",
   "execution_count": 25,
   "metadata": {
    "ExecuteTime": {
     "end_time": "2021-11-10T03:24:06.576196Z",
     "start_time": "2021-11-10T03:24:06.562376Z"
    }
   },
   "outputs": [
    {
     "data": {
      "text/plain": [
       "'\\njamaica and parsons are the same\\n\\nsutphin and jfk are the same\\n\\n85 and forest p are the same\\n\\n75 and elderts are the same\\n\\nbwy, bdwy j, brdwy j, jctn, junction, and broadway j are the same\\n\\ndelancey and essex are the same\\n'"
      ]
     },
     "execution_count": 25,
     "metadata": {},
     "output_type": "execute_result"
    }
   ],
   "source": [
    "stations_j = ['jamaica','parsons','sutphin','jfk','121','111','104','woodhaven','85','forest p','75','elderts',\n",
    "             'cypress','crescent','norwood','cleveland','van s','alabama','bdwy j','brdwy j','jctn','junction',\n",
    "              'broadway j','bwy','chauncey','halsey','gates','kosciuszko','myrtle','flushing','lorimer',\n",
    "             'hewes','marcy','delancey','essex','bowery','canal','chambers','fulton','broad']\n",
    "\n",
    "\"\"\"\n",
    "jamaica and parsons are the same\n",
    "\n",
    "sutphin and jfk are the same\n",
    "\n",
    "85 and forest p are the same\n",
    "\n",
    "75 and elderts are the same\n",
    "\n",
    "bwy, bdwy j, brdwy j, jctn, junction, and broadway j are the same\n",
    "\n",
    "delancey and essex are the same\n",
    "\"\"\""
   ]
  },
  {
   "cell_type": "code",
   "execution_count": 26,
   "metadata": {
    "ExecuteTime": {
     "end_time": "2021-11-10T03:24:06.591566Z",
     "start_time": "2021-11-10T03:24:06.577219Z"
    }
   },
   "outputs": [
    {
     "data": {
      "text/plain": [
       "'\\n14 st and union sq are the same\\n\\nmyrtle and wyckoff are the same\\n\\nbushwick and aberdeen are the same\\n\\nbwy, bdwy j, brdwy j, jctn, junction, and broadway j are the same\\n\\ne 105 and east 105 are the same\\n\\ncanarsie and rockaway p are the same\\n'"
      ]
     },
     "execution_count": 26,
     "metadata": {},
     "output_type": "execute_result"
    }
   ],
   "source": [
    "stations_l = ['8 av','6 av','14 st','union sq','3 av','1 av','bedford','lorimer','graham','grand','montrose',\n",
    "             'morgan','jefferson','dekalb','myrtle','wyckoff','halsey','wilson','bushwick','aberdeen',\n",
    "             'bdwy j','brdwy j','jctn','junction','broadway j','bwy','atlantic','sutter','livonia','new lots',\n",
    "             'e 105','east 105','canarsie','rockaway p']\n",
    "\n",
    "\"\"\"\n",
    "14 st and union sq are the same\n",
    "\n",
    "myrtle and wyckoff are the same\n",
    "\n",
    "bushwick and aberdeen are the same\n",
    "\n",
    "bwy, bdwy j, brdwy j, jctn, junction, and broadway j are the same\n",
    "\n",
    "e 105 and east 105 are the same\n",
    "\n",
    "canarsie and rockaway p are the same\n",
    "\"\"\""
   ]
  },
  {
   "cell_type": "code",
   "execution_count": 27,
   "metadata": {
    "ExecuteTime": {
     "end_time": "2021-11-10T03:24:06.607132Z",
     "start_time": "2021-11-10T03:24:06.592586Z"
    }
   },
   "outputs": [
    {
     "data": {
      "text/plain": [
       "'\\nforest h and 71 are the same\\n\\n63 and rego are the same\\n\\ngrand and newtown are the same\\n\\njackson heights, jackson hts and roosevelt av are the same\\n\\nqueens plaza, qns plz, qns plaza and queens plz are the same\\n\\ncourt sq is in stations_egm7\\n\\n47-50 and 47 are the same\\n\\n42, bryant and 5 av are the same\\n\\n34 and herald sq are the same\\n\\nw 4, wash sq, west 4, and washington sq are the same\\n\\nbway l, brdwy l, broadway l, and bdwy l are the same\\n\\ndelancey and essex are the same\\n\\nmiddle v and metropolitan are the same\\n'"
      ]
     },
     "execution_count": 27,
     "metadata": {},
     "output_type": "execute_result"
    }
   ],
   "source": [
    "stations_m = ['forest h','71','67','63','rego','woodhaven','grand','newtown','elmhurst','jackson heights',\n",
    "              'jackson hts','roosevelt av','65','northern blvd','46','steinway','36','queens plaza','qns plz',\n",
    "              'qns plaza','queens plz','lexington av','47-50','47','42','bryant','34','hearld sq','23 st',\n",
    "             '14 st','w 4','wash sq','west 4','washington sq','bway l','brdwy l','broadway l','bdwy l',\n",
    "             'delancey','essex','marcy','hewes','lorimer','flushing','myrtle av','central','knickerbocker',\n",
    "             'wyckoff','seneca','forest av','fresh pond','middle v','metropolitan']\n",
    "\n",
    "\"\"\"\n",
    "forest h and 71 are the same\n",
    "\n",
    "63 and rego are the same\n",
    "\n",
    "grand and newtown are the same\n",
    "\n",
    "jackson heights, jackson hts and roosevelt av are the same\n",
    "\n",
    "queens plaza, qns plz, qns plaza and queens plz are the same\n",
    "\n",
    "court sq is in stations_egm7\n",
    "\n",
    "47-50 and 47 are the same\n",
    "\n",
    "42, bryant and 5 av are the same\n",
    "\n",
    "34 and herald sq are the same\n",
    "\n",
    "w 4, wash sq, west 4, and washington sq are the same\n",
    "\n",
    "bway l, brdwy l, broadway l, and bdwy l are the same\n",
    "\n",
    "delancey and essex are the same\n",
    "\n",
    "middle v and metropolitan are the same\n",
    "\"\"\""
   ]
  },
  {
   "cell_type": "code",
   "execution_count": 28,
   "metadata": {
    "ExecuteTime": {
     "end_time": "2021-11-10T03:24:06.623091Z",
     "start_time": "2021-11-10T03:24:06.607132Z"
    }
   },
   "outputs": [],
   "source": [
    "stations_em6 = ['5 av','53']"
   ]
  },
  {
   "cell_type": "code",
   "execution_count": 29,
   "metadata": {
    "ExecuteTime": {
     "end_time": "2021-11-10T03:24:06.638279Z",
     "start_time": "2021-11-10T03:24:06.624091Z"
    }
   },
   "outputs": [],
   "source": [
    "stations_egm7 = ['court sq','23 st']"
   ]
  },
  {
   "cell_type": "code",
   "execution_count": 30,
   "metadata": {
    "ExecuteTime": {
     "end_time": "2021-11-10T03:24:06.653659Z",
     "start_time": "2021-11-10T03:24:06.638834Z"
    }
   },
   "outputs": [
    {
     "data": {
      "text/plain": [
       "'\\nqnsboro pl and queensboro pl are the same\\n\\ntimes sq and 42 are the same\\n\\n34 and herald sq are the same\\n\\n14 st and union sq are the same\\n\\n59 st (bk) in stations_nr\\n\\nfort ham and ft ham are the same\\n\\navenue u and av u are the same\\n\\nconey and stillwell are the same\\n'"
      ]
     },
     "execution_count": 30,
     "metadata": {},
     "output_type": "execute_result"
    }
   ],
   "source": [
    "stations_n = ['ditmars','astoria b','30','broadway','36 av','39','qnsboro pl','queensboro pl','lexington','5 av',\n",
    "             '57','49','times sq','42','34','hearld sq','14 st','union sq','canal','atlantic','36 st','8 av','fort ham',\n",
    "             'ft ham','new utrecht','18 av','20 av','bay p','kings h','avenue u','av u','86','coney','stillwell']\n",
    "\n",
    "\"\"\"\n",
    "qnsboro pl and queensboro pl are the same\n",
    "\n",
    "times sq and 42 are the same\n",
    "\n",
    "34 and herald sq are the same\n",
    "\n",
    "14 st and union sq are the same\n",
    "\n",
    "59 st (bk) in stations_nr\n",
    "\n",
    "fort ham and ft ham are the same\n",
    "\n",
    "avenue u and av u are the same\n",
    "\n",
    "coney and stillwell are the same\n",
    "\"\"\""
   ]
  },
  {
   "cell_type": "code",
   "execution_count": 31,
   "metadata": {
    "ExecuteTime": {
     "end_time": "2021-11-10T03:24:06.669603Z",
     "start_time": "2021-11-10T03:24:06.654170Z"
    }
   },
   "outputs": [
    {
     "data": {
      "text/plain": [
       "'\\nlexington and 63 are the same\\n\\ntimes sq and 42 are the same\\n\\n34 and herald sq are the same\\n\\n14 st and union sq are the same\\n\\n7 av in stations_bq\\n\\navenue h and av h are the same\\n\\navenue j and av j are the same\\n\\navenue m and av m are the same\\n\\navenue u and av u are the same\\n\\nwest 8, w 8 and aquarium are the same\\n\\nconey and stillwell are the same\\n'"
      ]
     },
     "execution_count": 31,
     "metadata": {},
     "output_type": "execute_result"
    }
   ],
   "source": [
    "stations_q = ['96','86','72','lexington','63','57','times sq','42','34','hearld sq','14 st','union sq','canal',\n",
    "             'dekalb','atlantic','prospect p','parkside','church','beverly','cortelyou','newkirk','avenue h','av h',\n",
    "             'avenue j','av j','avenue m','av m','kings h','avenue u','av u','neck','sheepshead','brighton','ocean',\n",
    "             'west 8', 'w 8','aquarium','coney','stillwell']\n",
    "\n",
    "\"\"\"\n",
    "lexington and 63 are the same\n",
    "\n",
    "times sq and 42 are the same\n",
    "\n",
    "34 and herald sq are the same\n",
    "\n",
    "14 st and union sq are the same\n",
    "\n",
    "7 av in stations_bq\n",
    "\n",
    "avenue h and av h are the same\n",
    "\n",
    "avenue j and av j are the same\n",
    "\n",
    "avenue m and av m are the same\n",
    "\n",
    "avenue u and av u are the same\n",
    "\n",
    "west 8, w 8 and aquarium are the same\n",
    "\n",
    "coney and stillwell are the same\n",
    "\"\"\""
   ]
  },
  {
   "cell_type": "code",
   "execution_count": 32,
   "metadata": {
    "ExecuteTime": {
     "end_time": "2021-11-10T03:24:06.685679Z",
     "start_time": "2021-11-10T03:24:06.670567Z"
    }
   },
   "outputs": [],
   "source": [
    "stations_bq = ['7 av']"
   ]
  },
  {
   "cell_type": "code",
   "execution_count": 33,
   "metadata": {
    "ExecuteTime": {
     "end_time": "2021-11-10T03:24:06.701184Z",
     "start_time": "2021-11-10T03:24:06.685679Z"
    }
   },
   "outputs": [
    {
     "data": {
      "text/plain": [
       "'\\nforest h and 71 are the same\\n\\n63 and rego are the same\\n\\njackson heights, jackson hts and roosevelt av are the same\\n\\nqueens plaza, qns plz, qns plaza and queens plz are the same\\n\\n57 and 7 av are the same\\n\\ntimes sq and 42\\n\\n34 and herald sq are the same\\n\\n14 st and union sq\\n\\n8 st and nyu are the same\\n\\nwhitehall and south f are the same\\n\\n4 av\\n\\n9 st\\n\\n59 st (bk) is in stations_nr\\n'"
      ]
     },
     "execution_count": 33,
     "metadata": {},
     "output_type": "execute_result"
    }
   ],
   "source": [
    "stations_r = ['forest h','71','67','63','rego','woodhaven','grand','elmhurst','jackson heights','jackson hts',\n",
    "             'roosevelt av','65','northern blvd','46','steinway','36','queens plaza','qns plz','qns plaza','queens plz',\n",
    "             'lexington','5 av','57','7 av','49','times sq','42','34','hearld sq','28','23 st','14 st','union sq',\n",
    "             '8 st','nyu','prince','canal','city h','cortlandt','rector','whitehall','south f','court st','jay',\n",
    "             'dekalb','atlantic','union st','4 av','9 st','prospect','25 st','36','45','53','ba ridge av','77',\n",
    "             '86','bay ridge 95 st']\n",
    "\n",
    "\"\"\"\n",
    "forest h and 71 are the same\n",
    "\n",
    "63 and rego are the same\n",
    "\n",
    "jackson heights, jackson hts and roosevelt av are the same\n",
    "\n",
    "queens plaza, qns plz, qns plaza and queens plz are the same\n",
    "\n",
    "57 and 7 av are the same\n",
    "\n",
    "times sq and 42\n",
    "\n",
    "34 and herald sq are the same\n",
    "\n",
    "14 st and union sq\n",
    "\n",
    "8 st and nyu are the same\n",
    "\n",
    "whitehall and south f are the same\n",
    "\n",
    "4 av\n",
    "\n",
    "9 st\n",
    "\n",
    "59 st (bk) is in stations_nr\n",
    "\"\"\""
   ]
  },
  {
   "cell_type": "code",
   "execution_count": 34,
   "metadata": {
    "ExecuteTime": {
     "end_time": "2021-11-10T03:24:06.717037Z",
     "start_time": "2021-11-10T03:24:06.702185Z"
    }
   },
   "outputs": [],
   "source": [
    "stations_fgr = ['4 av','9 st']\n",
    "stations_nr = ['59 st']"
   ]
  },
  {
   "cell_type": "code",
   "execution_count": 35,
   "metadata": {
    "ExecuteTime": {
     "end_time": "2021-11-10T03:24:06.733093Z",
     "start_time": "2021-11-10T03:24:06.718037Z"
    }
   },
   "outputs": [
    {
     "data": {
      "text/plain": [
       "'\\nqnsboro pl and queensboro pl are the same\\n\\ntimes sq and 42 are the same\\n\\n34 and herald sq are the same\\n\\n14 st and union sq are the same\\n\\n8 st and nyu are the same\\n\\nwhitehall and south f are the same\\n'"
      ]
     },
     "execution_count": 35,
     "metadata": {},
     "output_type": "execute_result"
    }
   ],
   "source": [
    "stations_w = ['ditmars','astoria b','30','broadway','36 av','39','qnsboro pl','queensboro pl','lexington','5 av',\n",
    "             '57','49','times sq','42','34','hearld sq','14 st','union sq','8 st','nyu','prince','canal','city h',\n",
    "             'cortlandt','rector','whitehall','south f']\n",
    "\n",
    "\"\"\"\n",
    "qnsboro pl and queensboro pl are the same\n",
    "\n",
    "times sq and 42 are the same\n",
    "\n",
    "34 and herald sq are the same\n",
    "\n",
    "14 st and union sq are the same\n",
    "\n",
    "8 st and nyu are the same\n",
    "\n",
    "whitehall and south f are the same\n",
    "\"\"\""
   ]
  },
  {
   "cell_type": "code",
   "execution_count": 36,
   "metadata": {
    "ExecuteTime": {
     "end_time": "2021-11-10T03:24:06.749119Z",
     "start_time": "2021-11-10T03:24:06.734093Z"
    }
   },
   "outputs": [
    {
     "data": {
      "text/plain": [
       "'\\njamaica and parsons are the same\\n\\nsutphin and jfk are the same\\n\\n75 and elderts are the same\\n\\nbdwy j, brdwy j, jctn, junction, broadway j, and bwy are the same\\n\\ndelancey and essex are the same\\n'"
      ]
     },
     "execution_count": 36,
     "metadata": {},
     "output_type": "execute_result"
    }
   ],
   "source": [
    "stations_z = ['jamaica','parsons','sutphin','jfk','121','104','woodhaven','75','elderts','crescent','norwood',\n",
    "             'van siclen','alabama','bdwy j','brdwy j','jctn','junction','broadway j','bwy','chauncey','gates',\n",
    "             'myrtle','marcy','delancey','essex','bowery','canal','chambers','fulton','broad']\n",
    "\n",
    "\"\"\"\n",
    "jamaica and parsons are the same\n",
    "\n",
    "sutphin and jfk are the same\n",
    "\n",
    "75 and elderts are the same\n",
    "\n",
    "bdwy j, brdwy j, jctn, junction, broadway j, and bwy are the same\n",
    "\n",
    "delancey and essex are the same\n",
    "\"\"\""
   ]
  },
  {
   "cell_type": "code",
   "execution_count": 37,
   "metadata": {
    "ExecuteTime": {
     "end_time": "2021-11-10T03:24:06.765090Z",
     "start_time": "2021-11-10T03:24:06.750100Z"
    }
   },
   "outputs": [],
   "source": [
    "stations_frnk = ['franklin av','park p','botanic g','prospect p']"
   ]
  },
  {
   "cell_type": "code",
   "execution_count": 38,
   "metadata": {
    "ExecuteTime": {
     "end_time": "2021-11-10T03:24:06.780200Z",
     "start_time": "2021-11-10T03:24:06.766090Z"
    }
   },
   "outputs": [
    {
     "data": {
      "text/plain": [
       "'\\nrockaway p and beach 116 are the same \\n'"
      ]
     },
     "execution_count": 38,
     "metadata": {},
     "output_type": "execute_result"
    }
   ],
   "source": [
    "stations_rck = ['broad ch','beach 90','beach 98','beach 105','rockaway p','beach 116']\n",
    "\n",
    "\"\"\"\n",
    "rockaway p and beach 116 are the same \n",
    "\"\"\""
   ]
  },
  {
   "cell_type": "markdown",
   "metadata": {},
   "source": [
    "# Creating station delay column"
   ]
  },
  {
   "cell_type": "code",
   "execution_count": 39,
   "metadata": {
    "ExecuteTime": {
     "end_time": "2021-11-10T03:24:06.795092Z",
     "start_time": "2021-11-10T03:24:06.783200Z"
    }
   },
   "outputs": [],
   "source": [
    "station_lookup = (stations_1 + stations_2 + stations_3 + stations_4 + stations_5 + stations_6 + stations_7\n",
    "                  + stations_42 + stations_a + stations_b + stations_c + stations_d + stations_e + stations_f\n",
    "                  + stations_g + stations_j + stations_l + stations_m + stations_n + stations_q + stations_r\n",
    "                  + stations_w + stations_z + stations_frnk + stations_rck + stations_bde + stations_ce\n",
    "                 + stations_egm7 + stations_bq + stations_nr + stations_fgr + stations_em6 + stations_fg)"
   ]
  },
  {
   "cell_type": "code",
   "execution_count": 40,
   "metadata": {
    "ExecuteTime": {
     "end_time": "2021-11-10T03:24:06.810087Z",
     "start_time": "2021-11-10T03:24:06.796092Z"
    }
   },
   "outputs": [],
   "source": [
    "station_lookup_at = add_str(station_lookup,'at ')\n",
    "station_lookup_by = add_str(station_lookup,'by ')\n",
    "station_lookup_of = add_str(station_lookup,'of ')\n",
    "station_lookup_near = add_str(station_lookup,'near ')\n",
    "station_lookup_el = add_str(station_lookup,'entering/leaving ')\n",
    "\n",
    "station_lookup_pre = (station_lookup_at+station_lookup_by+station_lookup_of+station_lookup_near+station_lookup_el)"
   ]
  },
  {
   "cell_type": "code",
   "execution_count": 41,
   "metadata": {
    "ExecuteTime": {
     "end_time": "2021-11-10T03:24:06.825668Z",
     "start_time": "2021-11-10T03:24:06.811087Z"
    }
   },
   "outputs": [],
   "source": [
    "station_lookup_bw = add_str(station_lookup,'between ')\n",
    "station_lookup_and = add_str(station_lookup, ' and ')\n",
    "station_lookup_to = add_str(station_lookup, ' to ')\n",
    "station_lookup_amp = add_str(station_lookup, ' & ')\n",
    "station_lookup_suf = (station_lookup_and + station_lookup_to + station_lookup_amp)"
   ]
  },
  {
   "cell_type": "code",
   "execution_count": 42,
   "metadata": {
    "ExecuteTime": {
     "end_time": "2021-11-10T03:24:37.552706Z",
     "start_time": "2021-11-10T03:24:06.826668Z"
    }
   },
   "outputs": [],
   "source": [
    "df['delayed_stations'] = df['message_lower'].str.extract('({0})'.format('|'.join(station_lookup_pre)))\n",
    "df['delayed_stations'] = df['delayed_stations'].str.replace('of ','')\n",
    "df['delayed_stations'] = df['delayed_stations'].str.replace('at ','')\n",
    "df['delayed_stations'] = df['delayed_stations'].str.replace('by ','')\n",
    "df['delayed_stations'] = df['delayed_stations'].str.replace('near ','')\n",
    "df['delayed_stations'] = df['delayed_stations'].str.replace('entering/leaving ','')"
   ]
  },
  {
   "cell_type": "markdown",
   "metadata": {},
   "source": [
    "## Creating for between stations (not sure on use yet)"
   ]
  },
  {
   "cell_type": "markdown",
   "metadata": {},
   "source": [
    "The problem with the between stations is, it's extremely ambiguous. The way I set them out, they will only be used on rows that do not already have a delayed_station from the previous section, however this doesn't guarantee that it's capturing tunnel delays (and I'm really not about to check 1000 records either).\n",
    "\n",
    "I believe what I will do is take any of the delays in tunnels that occur over x amount of times (5?) and then manually impute on each station, ie from Queens Plaza to Forest Hills, though this itself runs into other issues - for example, those are express stations with local stations between.\n",
    "\n",
    "There's a lot to think about with this \"between_stations\" column, and I intend to figure out what. It might only be ~1000 in a dataset of ~80,000 but who knows the effect it might have."
   ]
  },
  {
   "cell_type": "code",
   "execution_count": 43,
   "metadata": {
    "ExecuteTime": {
     "end_time": "2021-11-10T03:24:37.645809Z",
     "start_time": "2021-11-10T03:24:37.553707Z"
    }
   },
   "outputs": [],
   "source": [
    "df['between_stations_1'] = df['message_lower'].str.extract('({0})'.format('|'.join(station_lookup_bw)))"
   ]
  },
  {
   "cell_type": "code",
   "execution_count": 44,
   "metadata": {
    "ExecuteTime": {
     "end_time": "2021-11-10T03:24:46.877593Z",
     "start_time": "2021-11-10T03:24:37.646809Z"
    }
   },
   "outputs": [],
   "source": [
    "df['between_stations_2'] = df['message_lower'].str.extract('({0})'.format('|'.join(station_lookup_suf)))"
   ]
  },
  {
   "cell_type": "code",
   "execution_count": 45,
   "metadata": {
    "ExecuteTime": {
     "end_time": "2021-11-10T03:24:46.892398Z",
     "start_time": "2021-11-10T03:24:46.878594Z"
    }
   },
   "outputs": [
    {
     "data": {
      "text/plain": [
       "0                              NaN\n",
       "1        between dekalb and church\n",
       "2                              NaN\n",
       "3                              NaN\n",
       "4                              NaN\n",
       "                   ...            \n",
       "79924                          NaN\n",
       "79925                          NaN\n",
       "79926                          NaN\n",
       "79927                          NaN\n",
       "79928                          NaN\n",
       "Name: between_stations, Length: 79929, dtype: object"
      ]
     },
     "execution_count": 45,
     "metadata": {},
     "output_type": "execute_result"
    }
   ],
   "source": [
    "df['between_stations'] = (df['between_stations_1'] + df['between_stations_2'])\n",
    "df['between_stations']"
   ]
  },
  {
   "cell_type": "code",
   "execution_count": 46,
   "metadata": {
    "ExecuteTime": {
     "end_time": "2021-11-10T03:24:47.047175Z",
     "start_time": "2021-11-10T03:24:46.893396Z"
    }
   },
   "outputs": [],
   "source": [
    "ind = df.loc[~df['delayed_stations'].isna()].index"
   ]
  },
  {
   "cell_type": "code",
   "execution_count": 47,
   "metadata": {
    "ExecuteTime": {
     "end_time": "2021-11-10T03:24:47.063079Z",
     "start_time": "2021-11-10T03:24:47.048175Z"
    }
   },
   "outputs": [],
   "source": [
    "df.loc[ind, 'between_stations'] = None"
   ]
  },
  {
   "cell_type": "code",
   "execution_count": 48,
   "metadata": {
    "ExecuteTime": {
     "end_time": "2021-11-10T03:24:47.095171Z",
     "start_time": "2021-11-10T03:24:47.064079Z"
    }
   },
   "outputs": [],
   "source": [
    "df.drop(['between_stations_1','between_stations_2'],axis=1,inplace=True)"
   ]
  },
  {
   "cell_type": "markdown",
   "metadata": {},
   "source": [
    "# Station Location Indexation"
   ]
  },
  {
   "cell_type": "code",
   "execution_count": 49,
   "metadata": {
    "ExecuteTime": {
     "end_time": "2021-11-10T03:24:48.295610Z",
     "start_time": "2021-11-10T03:24:47.096172Z"
    }
   },
   "outputs": [],
   "source": [
    "st_1 = df.loc[df['subject'].str.contains(' 1 ')].index\n",
    "st_2 = df.loc[df['subject'].str.contains(' 2 ')].index\n",
    "st_3 = df.loc[df['subject'].str.contains(' 3 ')].index\n",
    "st_4 = df.loc[df['subject'].str.contains(' 4 ')].index\n",
    "st_5 = df.loc[df['subject'].str.contains(' 5 ')].index\n",
    "st_6 = df.loc[df['subject'].str.contains(' 6 ')].index\n",
    "st_7 = df.loc[df['subject'].str.contains(' 7 ')].index\n",
    "st_42 = df.loc[df['subj_lower'].str.contains('42 st s|42 street s')].index\n",
    "st_a = df.loc[df['subject'].str.contains(' A ')].index\n",
    "st_b = df.loc[df['subject'].str.contains(' B ')].index\n",
    "st_c = df.loc[df['subject'].str.contains(' C ')].index\n",
    "st_d = df.loc[df['subject'].str.contains(' D ')].index\n",
    "st_e = df.loc[df['subject'].str.contains(' E ')].index\n",
    "st_f = df.loc[df['subject'].str.contains(' F ')].index\n",
    "st_g = df.loc[df['subject'].str.contains(' G ')].index\n",
    "st_j = df.loc[df['subject'].str.contains(' J ')].index\n",
    "st_l = df.loc[df['subject'].str.contains(' L ')].index\n",
    "st_m = df.loc[df['subject'].str.contains(' M ')].index\n",
    "st_n = df.loc[df['subject'].str.contains(' N ')].index\n",
    "st_q = df.loc[df['subject'].str.contains(' Q ')].index\n",
    "st_r = df.loc[df['subject'].str.contains(' R ')].index\n",
    "st_w = df.loc[df['subject'].str.contains(' W ')].index\n",
    "st_z = df.loc[df['subject'].str.contains(' Z ')].index\n",
    "st_frnk = df.loc[df['subj_lower'].str.contains('franklin av s')].index\n",
    "st_rck = df.loc[df['subj_lower'].str.contains('rockaway park s')].index\n",
    "\n",
    "st_25 = df.loc[(df['subject'].str.contains(' 2 '))&(df['subject'].str.contains(' 5 '))].index\n",
    "\n",
    "st_5n2 = df.loc[~df['subject'].str.contains(' 2 ')]\n",
    "st_5n2 = st_5n2.loc[st_5n2['subject'].str.contains(' 5 ')].index\n",
    "\n",
    "st_bde = df.loc[(df['subject'].str.contains(' B ')) & (df['subject'].str.contains(' D '))\n",
    "                & (df['subject'].str.contains(' E '))].index\n",
    "\n",
    "st_ce = df.loc[(df['subject'].str.contains(' C ')) & (df['subject'].str.contains(' E '))].index\n",
    "\n",
    "st_egm7 = df.loc[(df['subject'].str.contains(' E ')) & (df['subject'].str.contains(' G '))\n",
    "                 &(df['subject'].str.contains(' M ')) & (df['subj_lower'].str.contains(' 7 '))].index\n",
    "\n",
    "stations_bq = df.loc[(df['subject'].str.contains(' B ')) & (df['subject'].str.contains(' Q '))].index\n",
    "stations_nr = df.loc[(df['subject'].str.contains(' N ')) & (df['subject'].str.contains(' R '))].index\n",
    "stations_fgr = df.loc[(df['subject'].str.contains(' F ')) & (df['subject'].str.contains(' G '))\n",
    "                      & (df['subject'].str.contains(' R '))].index\n",
    "\n",
    "stations_em6 = df.loc[(df['subject'].str.contains(' E ')) & (df['subject'].str.contains(' M '))\n",
    "                      & (df['subj_lower'].str.contains(' 6 '))].index\n",
    "\n",
    "stations_fg = df.loc[(df['subject'].str.contains(' F ')) & (df['subject'].str.contains(' G '))].index"
   ]
  },
  {
   "cell_type": "code",
   "execution_count": 50,
   "metadata": {
    "ExecuteTime": {
     "end_time": "2021-11-10T03:24:48.311159Z",
     "start_time": "2021-11-10T03:24:48.296611Z"
    }
   },
   "outputs": [],
   "source": [
    "stations = df_r['station']\n",
    "stations = list(stations)"
   ]
  },
  {
   "cell_type": "code",
   "execution_count": 51,
   "metadata": {
    "ExecuteTime": {
     "end_time": "2021-11-10T03:24:48.710183Z",
     "start_time": "2021-11-10T03:24:48.312182Z"
    },
    "scrolled": true
   },
   "outputs": [
    {
     "name": "stderr",
     "output_type": "stream",
     "text": [
      "C:\\Users\\sethk\\anaconda3\\envs\\mta_env\\lib\\site-packages\\IPython\\core\\interactiveshell.py:3361: PerformanceWarning: DataFrame is highly fragmented.  This is usually the result of calling `frame.insert` many times, which has poor performance.  Consider joining all columns at once using pd.concat(axis=1) instead.  To get a de-fragmented frame, use `newframe = frame.copy()`\n",
      "  if (await self.run_code(code, result,  async_=asy)):\n"
     ]
    }
   ],
   "source": [
    "for i in stations:\n",
    "    df.insert(0,i,0)\n",
    "warnings.filterwarnings('ignore')"
   ]
  },
  {
   "cell_type": "markdown",
   "metadata": {},
   "source": [
    "# Train Lines"
   ]
  },
  {
   "cell_type": "markdown",
   "metadata": {},
   "source": [
    "This part is simple yet very, very repetitive. I might move it to another notebook if it takes up too much RAM.\n",
    "\n",
    "Anyways, here's a step-by-step breakdown of what's about to happen for each line in the system, starting with the IRT:\n",
    "\n",
    "1. Run a for-loop on the above station lists which were used to create the delayed_stations.\n",
    "       1a. This for-loop will take each instance of the station as it occurs in df['delayed_stations'] and create it as a \n",
    "       new column with a \"1\" imputed wherever it occurs.\n",
    "       \n",
    "       \n",
    "2. Using our conventional station names list from the MTA ridership info, which has been fully inserted as columns to our df, we will locate each instance of whichever line we are looking at and print it out for an easy copy-paste (I will hash out the for-loop here once I've used it).\n",
    "\n",
    "\n",
    "3. Here comes the not-fun part. I have a sorted list of each station name that was used to create delayed_stations on another otherwise-blank notebook. We go through each and input it into its proper station.\n",
    "\n",
    "\n",
    "4. Once we've done this for every station, we will drop all of the listed stations.\n",
    "\n",
    "\n",
    "5. This is where it gets a little tricky. Once we get passed the 1 train, there will be repeaters, such as Times Square. They will have to add themselves, plus 42 + times sq + etc. again.\n",
    "   \n",
    "   5a. We will apply become_one to every station once we have finished all of the lines.\n",
    "    \n",
    "    \n",
    "This whole process is going to take a while, but the final result will be a detailed account of about 70k station delays in a dataframe of 80k.\n",
    "\n",
    "I will also be \"diverting\" in certain subgroups that aren't straight-forward. For example, the nightmares that are Gun Hill Road on the 5 line and 7 Av on the B line, both of which occur twice on each line as different stations with the exact same name, for some inexplicable reason.\n",
    "\n",
    "Anyways, without any further hesitation, here is my masterpiece:"
   ]
  },
  {
   "cell_type": "markdown",
   "metadata": {},
   "source": [
    "## 1 Train (IRT)"
   ]
  },
  {
   "cell_type": "code",
   "execution_count": 52,
   "metadata": {
    "ExecuteTime": {
     "end_time": "2021-11-10T03:24:50.942537Z",
     "start_time": "2021-11-10T03:24:48.711204Z"
    }
   },
   "outputs": [],
   "source": [
    "for s in stations_1:\n",
    "    delayed = df.loc[st_1]\n",
    "    ind = delayed.loc[delayed['delayed_stations']==s].index\n",
    "    df.loc[ind, '{}'.format(s)] = 1"
   ]
  },
  {
   "cell_type": "code",
   "execution_count": 53,
   "metadata": {
    "ExecuteTime": {
     "end_time": "2021-11-10T03:24:50.958539Z",
     "start_time": "2021-11-10T03:24:50.943537Z"
    }
   },
   "outputs": [],
   "source": [
    "line = df_r.loc[df_r['station'].str.contains('\\(1\\)|1/|/1')]\n",
    "line = list(line['station'])\n",
    "# for l in line:\n",
    "#     print(\"df[\"+\"'\"+\"{}\".format(l)+\"'\"+\"] = \")"
   ]
  },
  {
   "cell_type": "code",
   "execution_count": 54,
   "metadata": {
    "ExecuteTime": {
     "end_time": "2021-11-10T03:24:54.454630Z",
     "start_time": "2021-11-10T03:24:50.959148Z"
    }
   },
   "outputs": [],
   "source": [
    "df['WTC Cortlandt (1)'] = df.loc[:, ['cortlandt','wtc']].sum(axis=1)\n",
    "df['Van Cortlandt Park-242 St (1)'] = (df['van cortlandt'] + df['242'])\n",
    "df['Times Sq-42 St (N/Q/R/W/S/1/2/3/7)/42 St (A/C/E)'] = df.loc[:,['times sq','42']].sum(axis=1)\n",
    "df['South Ferry (1)/Whitehall St (R/W)'] = df['south f']\n",
    "df['Rector St (1)'] = df['rector st']\n",
    "df['Marble Hill-225 St (1)'] = df.loc[:, ['marble hill','225']].sum(axis=1)\n",
    "df['Houston St (1)'] = df['houston st']\n",
    "df['Franklin St (1)'] = df['franklin st']\n",
    "df['Dyckman St (1)'] = df['dyckman']\n",
    "df['Christopher St-Sheridan Sq (1)'] = df['christopher st']\n",
    "df['Chambers St (1/2/3)'] = df['chambers st']\n",
    "df['Cathedral Pkwy-110 St (1)'] = df.loc[:, ['cathedral park','cathedral pk','110']].sum(axis=1)\n",
    "df['Canal St (1)'] = df['canal']\n",
    "df['96 St (1/2/3)'] = df['96']\n",
    "df['86 St (1)'] = df['86']\n",
    "df['79 St (1)'] = df['79']\n",
    "df['72 St (1/2/3)'] = df['72']\n",
    "df['66 St-Lincoln Center (1)'] = df['66']\n",
    "df['59 St-Columbus Circle (A/B/C/D/1)'] = df.loc[:, ['59','columbus']].sum(axis=1)\n",
    "df['50 St (1)'] = df['50']\n",
    "df['34 St-Penn Station (1/2/3)'] = df.loc[:, ['34','penn sta']].sum(axis=1)\n",
    "df['28 St (1)'] = df['28 st']\n",
    "df['238 St (1)'] = df['238']\n",
    "df['231 St (1)'] = df['231']\n",
    "df['23 St (1)'] = df['23 st']\n",
    "df['215 St (1)'] = df['215']\n",
    "df['207 St (1)'] = df['207']\n",
    "df['191 St (1)'] = df['191']\n",
    "df['181 St (1)'] = df['181']\n",
    "df['18 St (1)'] = df['18 st']\n",
    "df['168 St (A/C/1)'] = df['168']\n",
    "df['157 St (1)'] = df['157 st']\n",
    "df['145 St (1)'] = df['145 st']\n",
    "df['14 St (F/M/1/2/3)/6 Av (L)'] = df['14 st']\n",
    "df['137 St-City College (1)'] = df['137']\n",
    "df['125 St (1)'] = df['125']\n",
    "df['116 St-Columbia University (1)'] = df.loc[:, ['116 st','columbia u']].sum(axis=1)\n",
    "df['103 St (1)'] = df['103']"
   ]
  },
  {
   "cell_type": "code",
   "execution_count": 55,
   "metadata": {
    "ExecuteTime": {
     "end_time": "2021-11-10T03:24:59.593830Z",
     "start_time": "2021-11-10T03:24:54.455631Z"
    }
   },
   "outputs": [],
   "source": [
    "for col in stations_1:\n",
    "    df.drop(col,axis=1,inplace=True)"
   ]
  },
  {
   "cell_type": "markdown",
   "metadata": {},
   "source": [
    "## 2 Train (IRT)"
   ]
  },
  {
   "cell_type": "code",
   "execution_count": 56,
   "metadata": {
    "ExecuteTime": {
     "end_time": "2021-11-10T03:25:03.037974Z",
     "start_time": "2021-11-10T03:24:59.594830Z"
    }
   },
   "outputs": [],
   "source": [
    "for s in stations_2:\n",
    "    delayed = df.loc[st_2]\n",
    "    ind = delayed.loc[delayed['delayed_stations']==s].index\n",
    "    df.loc[ind, '{}'.format(s)] = 1"
   ]
  },
  {
   "cell_type": "code",
   "execution_count": 57,
   "metadata": {
    "ExecuteTime": {
     "end_time": "2021-11-10T03:25:03.052997Z",
     "start_time": "2021-11-10T03:25:03.038974Z"
    }
   },
   "outputs": [],
   "source": [
    "line = df_r.loc[df_r['station'].str.contains('\\(2\\)|2/|/2')]\n",
    "line = list(line['station'])\n",
    "# for line in line_2:\n",
    "#     print(\"df[\"+\"'\"+\"{}\".format(l)+\"'\"+\"] = \")"
   ]
  },
  {
   "cell_type": "code",
   "execution_count": 58,
   "metadata": {
    "ExecuteTime": {
     "end_time": "2021-11-10T03:25:07.342441Z",
     "start_time": "2021-11-10T03:25:03.054540Z"
    }
   },
   "outputs": [],
   "source": [
    "df['116 St (2/3)'] = df['116']\n",
    "df['125 St (2/3)'] = df['125']\n",
    "df['135 St (2/3)'] = df['135']\n",
    "df['14 St (F/M/1/2/3)/6 Av (L)'] = df['14 st']\n",
    "df['149 St-Grand Concourse (2/4/5)'] = df.loc[:, ['149 st-grand c','149 st grand c',\n",
    "                                                  '149 st - grand c']].sum(axis=1)\n",
    "df['174 St (2/5)'] = df['174']\n",
    "df['219 St (2/5)'] = df['219']\n",
    "df['225 St (2/5)'] = df['225']\n",
    "df['233 St (2/5)'] = df['233']\n",
    "df['3 Av-149 St (2/5)'] = df.loc[:, ['3 av-','3 av -']].sum(axis=1)\n",
    "df['34 St-Penn Station (1/2/3)'] = df.loc[:, ['34 St-Penn Station (1/2/3)','penn sta','34']].sum(axis=1)\n",
    "df['72 St (1/2/3)'] = df['72']\n",
    "df['96 St (1/2/3)'] = df['96']\n",
    "df['Allerton Av (2/5)'] = df['allerton av']\n",
    "df['Atlantic Av-Barclays Ctr (B/D/N/Q/R/2/3/4/5)'] = df['atlantic av']\n",
    "df['Bergen St (2/3)'] = df['bergen st']\n",
    "df['Beverly Rd (2/5)'] = df['beverly']\n",
    "df['Bronx Park East (2/5)'] = df['bx park e']\n",
    "df['Burke Av (2/5)'] = df['burke av']\n",
    "df['Central Park North-110 St (2/3)'] = df.loc[:, ['central p','110']].sum(axis=1)\n",
    "df['Chambers St (1/2/3)'] = df.loc[:, ['Chambers St (1/2/3)','chambers']].sum(axis=1)\n",
    "df['Chambers St (A/C)/WTC (E)/Park Pl (2/3)/Cortlandt (R/W)'] = df['park pl']\n",
    "df['Church Av (2/5)'] = df['church']\n",
    "df['Clark St (2/3)'] = df['clark']\n",
    "df['Court St (R)/Borough Hall (2/3/4/5)'] = df['borough hall']\n",
    "df['East 180 St (2/5)'] = df['e 180']\n",
    "df['Eastern Pkwy-Brooklyn Museum (2/3)'] = df.loc[:, ['museum','eastern p']].sum(axis=1)\n",
    "df['Flatbush Av-Brooklyn College (2/5)'] = df['flatbush av']\n",
    "df['Franklin Av (2/3/4/5)/Botanic Garden (S)'] = df['franklin av']\n",
    "df['Freeman St (2/5)'] = df['freeman']\n",
    "df['Fulton St (A/C/J/Z/2/3/4/5)'] = df['fulton']\n",
    "df['Grand Army Plaza (2/3)'] = df['grand army']\n",
    "df['Gun Hill Rd (2/5)'] = df['gun hill']\n",
    "df['Hoyt St (2/3)'] = df['hoyt']\n",
    "df['Intervale Av (2/5)'] = df['intervale av']\n",
    "df['Jackson Av (2/5)'] = df['jackson']\n",
    "df['Nereid Av (2/5)'] = df['nereid']\n",
    "df['Nevins St (2/3/4/5)'] = df['nevins']\n",
    "df['Newkirk Av (2/5)'] = df['newkirk av']\n",
    "df['Pelham Pkwy (2/5)'] = df['pelham p']\n",
    "df['President St (2/5)'] = df['president st']\n",
    "df['Prospect Av (2/5)'] = df['prospect av']\n",
    "df['Simpson St (2/5)'] = df['simpson']\n",
    "df['Sterling St (2/5)'] = df['sterling st']\n",
    "df['Times Sq-42 St (N/Q/R/W/S/1/2/3/7)/42 St (A/C/E)'] = df.loc[:, ['Times Sq-42 St (N/Q/R/W/S/1/2/3/7)/42 St (A/C/E)',\n",
    "                                                                    'times sq','42']].sum(axis=1)\n",
    "df['Wakefield-241 St (2)'] = df.loc[:, ['wakefield','241']].sum(axis=1)\n",
    "df['Wall St (2/3)'] = df['wall st']\n",
    "df['West Farms Sq-East Tremont Av (2/5)'] = df.loc[:, ['west farms','e tremont']].sum(axis=1)\n",
    "df['Winthrop St (2/5)'] = df['winthrop st']"
   ]
  },
  {
   "cell_type": "code",
   "execution_count": 59,
   "metadata": {
    "ExecuteTime": {
     "end_time": "2021-11-10T03:25:14.518391Z",
     "start_time": "2021-11-10T03:25:07.343464Z"
    }
   },
   "outputs": [],
   "source": [
    "for col in stations_2:\n",
    "    df.drop(col,axis=1,inplace=True)"
   ]
  },
  {
   "cell_type": "markdown",
   "metadata": {},
   "source": [
    "## 3 Train (IRT)"
   ]
  },
  {
   "cell_type": "code",
   "execution_count": 60,
   "metadata": {
    "ExecuteTime": {
     "end_time": "2021-11-10T03:25:17.222232Z",
     "start_time": "2021-11-10T03:25:14.518898Z"
    }
   },
   "outputs": [],
   "source": [
    "for s in stations_3:\n",
    "    delayed = df.loc[st_3]\n",
    "    ind = delayed.loc[delayed['delayed_stations']==s].index\n",
    "    df.loc[ind, '{}'.format(s)] = 1"
   ]
  },
  {
   "cell_type": "code",
   "execution_count": 61,
   "metadata": {
    "ExecuteTime": {
     "end_time": "2021-11-10T03:25:17.238211Z",
     "start_time": "2021-11-10T03:25:17.223201Z"
    }
   },
   "outputs": [],
   "source": [
    "line = df_r.loc[df_r['station'].str.contains('\\(3\\)|3/|/3')]\n",
    "line = list(line['station'])\n",
    "# for l in line:\n",
    "#     print(\"df[\"+\"'\"+\"{}\".format(l)+\"'\"+\"] = \")"
   ]
  },
  {
   "cell_type": "code",
   "execution_count": 62,
   "metadata": {
    "ExecuteTime": {
     "end_time": "2021-11-10T03:25:18.718019Z",
     "start_time": "2021-11-10T03:25:17.239346Z"
    }
   },
   "outputs": [],
   "source": [
    "df['116 St (2/3)'] = df.loc[:, ['116 St (2/3)','116']].sum(axis=1)\n",
    "df['125 St (2/3)'] = df.loc[:,['125 St (2/3)','125']].sum(axis=1)\n",
    "df['135 St (2/3)'] = df.loc[:,['135 St (2/3)','135']].sum(axis=1)\n",
    "df['14 St (F/M/1/2/3)/6 Av (L)'] = df.loc[:, ['14 St (F/M/1/2/3)/6 Av (L)','14 st']].sum(axis=1)\n",
    "df['145 St (3)'] = df['145']\n",
    "df['34 St-Penn Station (1/2/3)'] = df.loc[:, ['34 St-Penn Station (1/2/3)','penn sta','34']].sum(axis=1)\n",
    "df['72 St (1/2/3)'] = df.loc[:,['72 St (1/2/3)','72']].sum(axis=1)\n",
    "df['96 St (1/2/3)'] = df.loc[:,['96 St (1/2/3)','96']].sum(axis=1)\n",
    "df['Atlantic Av-Barclays Ctr (B/D/N/Q/R/2/3/4/5)'] = df.loc[:, ['Atlantic Av-Barclays Ctr (B/D/N/Q/R/2/3/4/5)',\n",
    "                                                                'atlantic av']].sum(axis=1)\n",
    "df['Bergen St (2/3)'] = df.loc[:, ['Bergen St (2/3)','bergen st']].sum(axis=1)\n",
    "df['Central Park North-110 St (2/3)'] = df.loc[:,['Central Park North-110 St (2/3)','central p','110 st']].sum(axis=1)\n",
    "df['Chambers St (1/2/3)'] = df.loc[:, ['Chambers St (1/2/3)','chambers']].sum(axis=1)\n",
    "df['Chambers St (A/C)/WTC (E)/Park Pl (2/3)/Cortlandt (R/W)'] = df.loc[:, \n",
    "                                                                       ['Chambers St (A/C)/WTC (E)/Park Pl (2/3)/Cortlandt (R/W)',\n",
    "                                                                        'park pl']].sum(axis=1)\n",
    "df['Clark St (2/3)'] = df.loc[:, ['Clark St (2/3)','clark']].sum(axis=1)\n",
    "df['Court St (R)/Borough Hall (2/3/4/5)'] = df.loc[:, ['Court St (R)/Borough Hall (2/3/4/5)','borough hall']].sum(axis=1)\n",
    "df['Crown Heights-Utica Av (3/4)'] = df.loc[:,['crown heights','utica av']].sum(axis=1)\n",
    "df['Eastern Pkwy-Brooklyn Museum (2/3)'] = df.loc[:, ['Eastern Pkwy-Brooklyn Museum (2/3)','eastern p','museum']].sum(axis=1)\n",
    "df['Franklin Av (2/3/4/5)/Botanic Garden (S)'] = df.loc[:, ['Franklin Av (2/3/4/5)/Botanic Garden (S)',\n",
    "                                                            'franklin av']].sum(axis=1)\n",
    "df['Fulton St (A/C/J/Z/2/3/4/5)'] = df.loc[:,['Fulton St (A/C/J/Z/2/3/4/5)','fulton']].sum(axis=1)\n",
    "df['Grand Army Plaza (2/3)'] = df.loc[:,['Grand Army Plaza (2/3)','grand army']].sum(axis=1)\n",
    "df['Harlem-148 St (3)'] = df.loc[:,['harlem','148']].sum(axis=1)\n",
    "df['Hoyt St (2/3)'] = df.loc[:, ['Hoyt St (2/3)','hoyt']].sum(axis=1)\n",
    "df['Junius St (3)'] = df['junius st']\n",
    "df['Kingston Av (3)'] = df['kingston av']\n",
    "df['Nevins St (2/3/4/5)'] = df.loc[:,['Nevins St (2/3/4/5)','nevins']].sum(axis=1)\n",
    "df['New Lots Av (3)'] = df['new lots']\n",
    "df['Nostrand Av (3)'] = df['nostrand av']\n",
    "df['Pennsylvania Av (3)'] = df['pennsylvania av']\n",
    "df['Rockaway Av (3)'] = df['rockaway av']\n",
    "df['Saratoga Av (3)'] = df['saratoga av']\n",
    "df['Sutter Av-Rutland Rd (3)'] =  df['sutter av']\n",
    "df['Times Sq-42 St (N/Q/R/W/S/1/2/3/7)/42 St (A/C/E)'] = df.loc[:, ['Times Sq-42 St (N/Q/R/W/S/1/2/3/7)/42 St (A/C/E)',\n",
    "                                                                    'times sq','42']].sum(axis=1)\n",
    "df['Van Siclen Av (3)'] = df['van siclen']\n",
    "df['Wall St (2/3)'] = df.loc[:,['Wall St (2/3)','wall st']].sum(axis=1)"
   ]
  },
  {
   "cell_type": "code",
   "execution_count": 63,
   "metadata": {
    "ExecuteTime": {
     "end_time": "2021-11-10T03:25:23.475816Z",
     "start_time": "2021-11-10T03:25:18.719037Z"
    }
   },
   "outputs": [],
   "source": [
    "for col in stations_3:\n",
    "    df.drop(col,axis=1,inplace=True)"
   ]
  },
  {
   "cell_type": "markdown",
   "metadata": {},
   "source": [
    "## 4 Train (IRT)"
   ]
  },
  {
   "cell_type": "code",
   "execution_count": 64,
   "metadata": {
    "ExecuteTime": {
     "end_time": "2021-11-10T03:25:25.917980Z",
     "start_time": "2021-11-10T03:25:23.476817Z"
    }
   },
   "outputs": [],
   "source": [
    "for s in stations_4:\n",
    "    delayed = df.loc[st_4]\n",
    "    ind = delayed.loc[delayed['delayed_stations']==s].index\n",
    "    df.loc[ind, '{}'.format(s)] = 1"
   ]
  },
  {
   "cell_type": "code",
   "execution_count": 65,
   "metadata": {
    "ExecuteTime": {
     "end_time": "2021-11-10T03:25:25.933329Z",
     "start_time": "2021-11-10T03:25:25.918999Z"
    }
   },
   "outputs": [],
   "source": [
    "line = df_r.loc[df_r['station'].str.contains('\\(4\\)|4/|/4')]\n",
    "line = list(line['station'])\n",
    "# for l in line:\n",
    "#     print(\"df[\"+\"'\"+\"{}\".format(l)+\"'\"+\"] = \")"
   ]
  },
  {
   "cell_type": "code",
   "execution_count": 66,
   "metadata": {
    "ExecuteTime": {
     "end_time": "2021-11-10T03:25:27.804066Z",
     "start_time": "2021-11-10T03:25:25.934351Z"
    }
   },
   "outputs": [],
   "source": [
    "df['125 St (4/5/6)'] = df['125']\n",
    "df['138 St-Grand Concourse (4/5)'] = df['138']\n",
    "df['14 St-Union Sq (L/N/Q/R/W/4/5/6)'] = df.loc[:,['union sq','14 st']].sum(axis=1)\n",
    "df['149 St-Grand Concourse (2/4/5)'] = df['149']\n",
    "df['161 St-Yankee Stadium (B/D/4)'] = df['161']\n",
    "df['167 St (4)'] = df['167']\n",
    "df['170 St (4)'] = df['170']\n",
    "df['176 St (4)'] = df['176']\n",
    "df['183 St (4)'] = df['183']\n",
    "df['86 St (4/5/6)'] = df['86']\n",
    "df['Atlantic Av-Barclays Ctr (B/D/N/Q/R/2/3/4/5)'] = df.loc[:, ['Atlantic Av-Barclays Ctr (B/D/N/Q/R/2/3/4/5)',\n",
    "                                                                'atlantic av']].sum(axis=1)\n",
    "df['Bedford Park Blvd-Lehman College (4)'] = df['bedford p']\n",
    "df['Bowling Green (4/5)'] = df['bowling green']\n",
    "df['Brooklyn Bridge-City Hall (4/5/6)/Chambers St (J/Z)'] = df.loc[:,['bklyn br','brooklyn br','city h']].sum(axis=1)\n",
    "df['Burnside Av (4)'] = df['burnside']\n",
    "df['Court St (R)/Borough Hall (2/3/4/5)'] = df.loc[:,['Court St (R)/Borough Hall (2/3/4/5)','borough hall']].sum(axis=1)\n",
    "df['Crown Heights-Utica Av (3/4)'] = df.loc[:,['Crown Heights-Utica Av (3/4)','crown heights','utica av']].sum(axis=1)\n",
    "df['Fordham Rd (4)'] = df['fordham']\n",
    "df['Franklin Av (2/3/4/5)/Botanic Garden (S)'] = df.loc[:, ['Franklin Av (2/3/4/5)/Botanic Garden (S)',\n",
    "                                                            'franklin av']].sum(axis=1)\n",
    "df['Fulton St (A/C/J/Z/2/3/4/5)'] = df.loc[:,['Fulton St (A/C/J/Z/2/3/4/5)','fulton']].sum(axis=1)\n",
    "df['Grand Central-42 St (S/4/5/6/7)'] = df.loc[:,['grand central','42']].sum(axis=1)\n",
    "df['Kingsbridge Rd (4)'] = df['kingsbridge']\n",
    "df['Lexington Av (N/R/W)/59 St (4/5/6)'] = df.loc[:,['lexington','59']].sum(axis=1)\n",
    "df['Mosholu Pkwy (4)'] = df['moshulu']\n",
    "df['Mt Eden Av (4)'] = df['mt eden']\n",
    "df['Nevins St (2/3/4/5)'] = df.loc[:,['Nevins St (2/3/4/5)','nevins']].sum(axis=1)\n",
    "df['Wall St (4/5)'] = df['wall st']\n",
    "df['Woodlawn (4)'] = df['woodlawn']"
   ]
  },
  {
   "cell_type": "code",
   "execution_count": 67,
   "metadata": {
    "ExecuteTime": {
     "end_time": "2021-11-10T03:25:31.659161Z",
     "start_time": "2021-11-10T03:25:27.805067Z"
    }
   },
   "outputs": [],
   "source": [
    "for col in stations_4:\n",
    "    df.drop(col,axis=1,inplace=True)"
   ]
  },
  {
   "cell_type": "markdown",
   "metadata": {},
   "source": [
    "## 5 Train (IRT)"
   ]
  },
  {
   "cell_type": "code",
   "execution_count": 68,
   "metadata": {
    "ExecuteTime": {
     "end_time": "2021-11-10T03:25:35.809100Z",
     "start_time": "2021-11-10T03:25:31.660140Z"
    }
   },
   "outputs": [],
   "source": [
    "for s in stations_5:\n",
    "    delayed = df.loc[st_5]\n",
    "    ind = delayed.loc[delayed['delayed_stations']==s].index\n",
    "    df.loc[ind, '{}'.format(s)] = 1"
   ]
  },
  {
   "cell_type": "code",
   "execution_count": 69,
   "metadata": {
    "ExecuteTime": {
     "end_time": "2021-11-10T03:25:35.824963Z",
     "start_time": "2021-11-10T03:25:35.810101Z"
    }
   },
   "outputs": [],
   "source": [
    "line = df_r.loc[df_r['station'].str.contains('\\(5\\)|5/|/5')]\n",
    "line = list(line['station'])\n",
    "# for l in line:\n",
    "#     print(\"df[\"+\"'\"+\"{}\".format(l)+\"'\"+\"] = \")"
   ]
  },
  {
   "cell_type": "code",
   "execution_count": 70,
   "metadata": {
    "ExecuteTime": {
     "end_time": "2021-11-10T03:25:36.448090Z",
     "start_time": "2021-11-10T03:25:35.825963Z"
    }
   },
   "outputs": [],
   "source": [
    "df['125 St (4/5/6)'] = df.loc[:,['125 St (4/5/6)','125']].sum(axis=1)\n",
    "df['138 St-Grand Concourse (4/5)'] = df.loc[:, ['138 St-Grand Concourse (4/5)', '138 st-grand c',\n",
    "                                               '138']].sum(axis=1)\n",
    "df['14 St-Union Sq (L/N/Q/R/W/4/5/6)'] = df.loc[:,['14 St-Union Sq (L/N/Q/R/W/4/5/6)','union sq','14 st']].sum(axis=1)\n",
    "df['149 St-Grand Concourse (2/4/5)'] = df.loc[:,['149 St-Grand Concourse (2/4/5)','149 st-grand c',\n",
    "                                                '149 st grand c','149 st - grand c']].sum(axis=1)\n",
    "df['174 St (2/5)'] = df.loc[:,['174 St (2/5)','174']].sum(axis=1)\n",
    "df['219 St (2/5)'] = df.loc[:,['219 St (2/5)','219']].sum(axis=1)\n",
    "df['225 St (2/5)'] = df.loc[:,['225 St (2/5)','225']].sum(axis=1)\n",
    "df['233 St (2/5)'] = df.loc[:,['233 St (2/5)','233']].sum(axis=1)\n",
    "df['3 Av-149 St (2/5)'] = df.loc[:,['3 Av-149 St (2/5)','3 av-149']].sum(axis=1)\n",
    "df['86 St (4/5/6)'] = df.loc[:, ['86 St (4/5/6)','86 st']].sum(axis=1)\n",
    "df['Allerton Av (2/5)'] = df.loc[:,['Allerton Av (2/5)','allerton av']].sum(axis=1)\n",
    "df['Atlantic Av-Barclays Ctr (B/D/N/Q/R/2/3/4/5)'] = df.loc[:,['Atlantic Av-Barclays Ctr (B/D/N/Q/R/2/3/4/5)',\n",
    "                                                               'atlantic av']].sum(axis=1)\n",
    "df['Baychester Av (5)'] = df['baychester']\n",
    "df['Beverly Rd (2/5)'] = df.loc[:,['Beverly Rd (2/5)','beverly']].sum(axis=1)\n",
    "df['Bowling Green (4/5)'] = df.loc[:,['Bowling Green (4/5)','bowling green']].sum(axis=1)\n",
    "df['Bronx Park East (2/5)'] = df.loc[:, ['Bronx Park East (2/5)','bronx p']].sum(axis=1)\n",
    "df['Brooklyn Bridge-City Hall (4/5/6)/Chambers St (J/Z)'] = df.loc[:, ['Brooklyn Bridge-City Hall (4/5/6)/Chambers St (J/Z)',\n",
    "                                                                      'bklyn br','brooklyn br','city h']].sum(axis=1)\n",
    "df['Burke Av (2/5)'] = df.loc[:,['church','Church Av (2/5)']].sum(axis=1)\n",
    "df['Church Av (2/5)'] = df.loc[:,['church','Church Av (2/5)']].sum(axis=1)\n",
    "df['Court St (R)/Borough Hall (2/3/4/5)'] = df.loc[:,['Court St (R)/Borough Hall (2/3/4/5)','borough hall']].sum(axis=1)\n",
    "df['East 180 St (2/5)'] = df.loc[:, ['East 180 St (2/5)','e 180']].sum(axis=1)\n",
    "df['Eastchester-Dyre Av (5)'] = df['eastchester']\n",
    "df['Flatbush Av-Brooklyn College (2/5)'] = df.loc[:,['Flatbush Av-Brooklyn College (2/5)','flatbush av']].sum(axis=1)\n",
    "df['Franklin Av (2/3/4/5)/Botanic Garden (S)'] = df.loc[:, ['Franklin Av (2/3/4/5)/Botanic Garden (S)',\n",
    "                                                            'franklin av']].sum(axis=1)\n",
    "df['Freeman St (2/5)'] = df.loc[:,['Freeman St (2/5)','freeman']].sum(axis=1)\n",
    "df['Fulton St (A/C/J/Z/2/3/4/5)'] = df.loc[:,['Fulton St (A/C/J/Z/2/3/4/5)','fulton']].sum(axis=1)\n",
    "df['Grand Central-42 St (S/4/5/6/7)'] = df.loc[:,['Grand Central-42 St (S/4/5/6/7)','grand central','42 st']].sum(axis=1)\n",
    "df['Intervale Av (2/5)'] = df.loc[:, ['Intervale Av (2/5)','intervale av']].sum(axis=1)\n",
    "df['Jackson Av (2/5)'] = df.loc[:, ['Jackson Av (2/5)','jackson']].sum(axis=1)\n",
    "df['Lexington Av (N/R/W)/59 St (4/5/6)'] = df.loc[:,['Lexington Av (N/R/W)/59 St (4/5/6)','lexington','59']].sum(axis=1)\n",
    "df['Morris Park (5)'] = df['morris p']\n",
    "df['Nereid Av (2/5)'] = df.loc[:, ['Nereid Av (2/5)','nereid']].sum(axis=1)\n",
    "df['Nevins St (2/3/4/5)'] = df.loc[:,['Nevins St (2/3/4/5)','nevins']].sum(axis=1)\n",
    "df['Newkirk Av (2/5)'] = df.loc[:, ['Newkirk Av (2/5)','newkirk av']].sum(axis=1)\n",
    "df['President St (2/5)'] = df.loc[:, ['President St (2/5)','president st']].sum(axis=1)\n",
    "df['Prospect Av (2/5)'] = df.loc[:, ['Prospect Av (2/5)','prospect av']].sum(axis=1)\n",
    "df['Simpson St (2/5)'] = df.loc[:, ['Simpson St (2/5)','simpson']].sum(axis=1)\n",
    "df['Sterling St (2/5)'] = df.loc[:, ['Sterling St (2/5)','sterling']].sum(axis=1)\n",
    "df['Wall St (4/5)'] = df.loc[:, ['Wall St (4/5)','wall st']].sum(axis=1)\n",
    "df['West Farms Sq-East Tremont Av (2/5)'] = df.loc[:, ['West Farms Sq-East Tremont Av (2/5)',\n",
    "                                                       'west farms','e tremont']].sum(axis=1)\n",
    "df['Winthrop St (2/5)'] = df.loc[:, ['Winthrop St (2/5)','winthrop']].sum(axis=1)"
   ]
  },
  {
   "cell_type": "code",
   "execution_count": 71,
   "metadata": {
    "ExecuteTime": {
     "end_time": "2021-11-10T03:25:42.498271Z",
     "start_time": "2021-11-10T03:25:36.449097Z"
    }
   },
   "outputs": [],
   "source": [
    "for col in stations_5:\n",
    "    df.drop(col,axis=1,inplace=True)"
   ]
  },
  {
   "cell_type": "markdown",
   "metadata": {},
   "source": [
    "### Gun Hill Road & Pelham Pkwy (2/5)"
   ]
  },
  {
   "cell_type": "code",
   "execution_count": 72,
   "metadata": {
    "ExecuteTime": {
     "end_time": "2021-11-10T03:25:42.604886Z",
     "start_time": "2021-11-10T03:25:42.499289Z"
    }
   },
   "outputs": [],
   "source": [
    "for s in stations_25:\n",
    "    delayed = df.loc[st_25]\n",
    "    ind = delayed.loc[delayed['delayed_stations']==s].index\n",
    "    df.loc[ind, '{}'.format(s)] = 1"
   ]
  },
  {
   "cell_type": "code",
   "execution_count": 73,
   "metadata": {
    "ExecuteTime": {
     "end_time": "2021-11-10T03:25:42.620562Z",
     "start_time": "2021-11-10T03:25:42.605886Z"
    },
    "scrolled": true
   },
   "outputs": [
    {
     "name": "stdout",
     "output_type": "stream",
     "text": [
      "df['Gun Hill Rd (2/5)'] = \n",
      "df['Gun Hill Rd (5)'] = \n",
      "df['Pelham Pkwy (2/5)'] = \n",
      "df['Pelham Pkwy (5)'] = \n"
     ]
    }
   ],
   "source": [
    "line = df_r.loc[df_r['station'].str.contains('Gun Hill|Pelham P')]\n",
    "line = list(line['station'])\n",
    "for l in line:\n",
    "    print(\"df[\"+\"'\"+\"{}\".format(l)+\"'\"+\"] = \")"
   ]
  },
  {
   "cell_type": "code",
   "execution_count": 74,
   "metadata": {
    "ExecuteTime": {
     "end_time": "2021-11-10T03:25:42.683762Z",
     "start_time": "2021-11-10T03:25:42.621562Z"
    }
   },
   "outputs": [],
   "source": [
    "df['Gun Hill Rd (2/5)'] = df.loc[:,['Gun Hill Rd (2/5)','gun hill']].sum(axis=1)\n",
    "df['Pelham Pkwy (2/5)'] = df.loc[:, ['Pelham Pkwy (2/5)','pelham p']].sum(axis=1)"
   ]
  },
  {
   "cell_type": "code",
   "execution_count": 75,
   "metadata": {
    "ExecuteTime": {
     "end_time": "2021-11-10T03:25:42.900045Z",
     "start_time": "2021-11-10T03:25:42.684763Z"
    }
   },
   "outputs": [],
   "source": [
    "for col in stations_25:\n",
    "    df.drop(col,axis=1,inplace=True)"
   ]
  },
  {
   "cell_type": "markdown",
   "metadata": {},
   "source": [
    "### Gun Hill Road & Pelham Pkwy (5)"
   ]
  },
  {
   "cell_type": "code",
   "execution_count": 76,
   "metadata": {
    "ExecuteTime": {
     "end_time": "2021-11-10T03:25:43.037041Z",
     "start_time": "2021-11-10T03:25:42.901045Z"
    }
   },
   "outputs": [],
   "source": [
    "for s in stations_5n2:\n",
    "    delayed = df.loc[st_5n2]\n",
    "    ind = delayed.loc[delayed['delayed_stations']==s].index\n",
    "    df.loc[ind, '{}'.format(s)] = 1"
   ]
  },
  {
   "cell_type": "code",
   "execution_count": 77,
   "metadata": {
    "ExecuteTime": {
     "end_time": "2021-11-10T03:25:43.176236Z",
     "start_time": "2021-11-10T03:25:43.038069Z"
    }
   },
   "outputs": [],
   "source": [
    "df['Gun Hill Rd (5)'] = df['gun hill']\n",
    "df['Pelham Pkwy (5)'] = df['pelham p']"
   ]
  },
  {
   "cell_type": "code",
   "execution_count": 78,
   "metadata": {
    "ExecuteTime": {
     "end_time": "2021-11-10T03:25:43.475446Z",
     "start_time": "2021-11-10T03:25:43.177236Z"
    }
   },
   "outputs": [],
   "source": [
    "for col in stations_5n2:\n",
    "    df.drop(col,axis=1,inplace=True)"
   ]
  },
  {
   "cell_type": "markdown",
   "metadata": {},
   "source": [
    "## 6 Train (IRT)"
   ]
  },
  {
   "cell_type": "code",
   "execution_count": 79,
   "metadata": {
    "ExecuteTime": {
     "end_time": "2021-11-10T03:25:47.599830Z",
     "start_time": "2021-11-10T03:25:43.476447Z"
    }
   },
   "outputs": [],
   "source": [
    "for s in stations_6:\n",
    "    delayed = df.loc[st_6]\n",
    "    ind = delayed.loc[delayed['delayed_stations']==s].index\n",
    "    df.loc[ind, '{}'.format(s)] = 1"
   ]
  },
  {
   "cell_type": "code",
   "execution_count": 80,
   "metadata": {
    "ExecuteTime": {
     "end_time": "2021-11-10T03:25:47.614848Z",
     "start_time": "2021-11-10T03:25:47.600830Z"
    }
   },
   "outputs": [],
   "source": [
    "line = df_r.loc[df_r['station'].str.contains('\\(6\\)|6/|/6')]\n",
    "line = list(line['station'])\n",
    "# for l in line:\n",
    "#     print(\"df[\"+\"'\"+\"{}\".format(l)+\"'\"+\"] = \")"
   ]
  },
  {
   "cell_type": "code",
   "execution_count": 81,
   "metadata": {
    "ExecuteTime": {
     "end_time": "2021-11-10T03:25:50.440506Z",
     "start_time": "2021-11-10T03:25:47.616859Z"
    }
   },
   "outputs": [],
   "source": [
    "df['103 St (6)'] = df['103']\n",
    "df['110 St (6)'] = df['110']\n",
    "df['116 St (6)'] = df['116']\n",
    "df['125 St (4/5/6)'] = df.loc[:,['125 St (4/5/6)','125']].sum(axis=1)\n",
    "df['14 St-Union Sq (L/N/Q/R/W/4/5/6)'] = df.loc[:,['14 St-Union Sq (L/N/Q/R/W/4/5/6)','union sq','14 st']].sum(axis=1)\n",
    "df['23 St (6)'] = df['23 st']\n",
    "df['28 St (6)'] = df['28 st']\n",
    "df['3 Av-138 St (6)'] = df.loc[:,['3 av 138','3 av-138']].sum(axis=1)\n",
    "df['33 St (6)'] = df['33']\n",
    "df['68 St-Hunter College (6)'] = df['68']\n",
    "df['77 St (6)'] = df['77']\n",
    "df['86 St (4/5/6)'] = df.loc[:, ['86 St (4/5/6)','86 st']].sum(axis=1)\n",
    "df['96 St (6)'] = df['96']\n",
    "df['Astor Place (6)'] = df['astor']\n",
    "df['Broadway-Lafayette St (B/D/F/M)/Bleecker St (6)'] = df.loc[:,['broadway','lafay']].sum(axis=1)\n",
    "df['Brook Av (6)'] = df['brook']\n",
    "df['Brooklyn Bridge-City Hall (4/5/6)/Chambers St (J/Z)'] = df.loc[:, ['Brooklyn Bridge-City Hall (4/5/6)/Chambers St (J/Z)',\n",
    "                                                                      'bklyn br','brooklyn br','city h']].sum(axis=1)\n",
    "df['Buhre Av (6)'] = df['buhre']\n",
    "df['Canal St (J/N/Q/R/W/Z/6)'] = df['canal']\n",
    "df['Castle Hill Av (6)'] = df['castle hill']\n",
    "df['Cypress Av (6)'] = df['cypress']\n",
    "df[\"East 143 St-St Mary's St (6)\"] = df.loc[:,[\"east 143\",\"e 143\"]].sum(axis=1)\n",
    "df['East 149 St (6)'] = df.loc[:,['east 149','e 149']].sum(axis=1)\n",
    "df['Elder Av (6)'] = df['elder']\n",
    "df['Grand Central-42 St (S/4/5/6/7)'] = df.loc[:,['Grand Central-42 St (S/4/5/6/7)','grand central','42']].sum(axis=1)\n",
    "df['Hunts Point Av (6)'] = df['hunts p']\n",
    "df['Lexington Av (N/R/W)/59 St (4/5/6)'] = df.loc[:,['Lexington Av (N/R/W)/59 St (4/5/6)','59']].sum(axis=1)\n",
    "df['Lexington Av-53 St (E/M)/51 St (6)'] = df.loc[:,['Lexington Av-53 St (E/M)/51 St (6)','51']].sum(axis=1)\n",
    "df['Longwood Av (6)'] = df['longwood av']\n",
    "df['Middletown Rd (6)'] = df['middletown']\n",
    "df['Morrison Av-Soundview (6)'] = df['morrison']\n",
    "df['Parkchester (6)'] = df['parkchester']\n",
    "df['Pelham Bay Park (6)'] = df['pelham b']\n",
    "df['Spring St (6)'] = df['spring st']\n",
    "df['St Lawrence Av (6)'] = df['st lawrence']\n",
    "df['Westchester Sq-East Tremont Av (6)'] = df.loc[:,['westchester','e tremont']].sum(axis=1)\n",
    "df['Whitlock Av (6)'] = df['whitlock']\n",
    "df['Zerega Av (6)'] = df['zerega']"
   ]
  },
  {
   "cell_type": "code",
   "execution_count": 82,
   "metadata": {
    "ExecuteTime": {
     "end_time": "2021-11-10T03:25:56.110018Z",
     "start_time": "2021-11-10T03:25:50.441462Z"
    }
   },
   "outputs": [],
   "source": [
    "for col in stations_6:\n",
    "    df.drop(col,axis=1,inplace=True)"
   ]
  },
  {
   "cell_type": "markdown",
   "metadata": {},
   "source": [
    "## 7 Train (IRT)"
   ]
  },
  {
   "cell_type": "code",
   "execution_count": 83,
   "metadata": {
    "ExecuteTime": {
     "end_time": "2021-11-10T03:25:58.718666Z",
     "start_time": "2021-11-10T03:25:56.111018Z"
    }
   },
   "outputs": [],
   "source": [
    "for s in stations_7:\n",
    "    delayed = df.loc[st_7]\n",
    "    ind = delayed.loc[delayed['delayed_stations']==s].index\n",
    "    df.loc[ind, '{}'.format(s)] = 1"
   ]
  },
  {
   "cell_type": "code",
   "execution_count": 84,
   "metadata": {
    "ExecuteTime": {
     "end_time": "2021-11-10T03:25:58.733706Z",
     "start_time": "2021-11-10T03:25:58.719891Z"
    }
   },
   "outputs": [],
   "source": [
    "line = df_r.loc[df_r['station'].str.contains('\\(7\\)|7/|/7')]\n",
    "line = list(line['station'])\n",
    "# for l in line:\n",
    "#     print(\"df[\"+\"'\"+\"{}\".format(l)+\"'\"+\"] = \")"
   ]
  },
  {
   "cell_type": "code",
   "execution_count": 86,
   "metadata": {
    "ExecuteTime": {
     "end_time": "2021-11-10T03:29:26.689152Z",
     "start_time": "2021-11-10T03:29:25.744685Z"
    }
   },
   "outputs": [],
   "source": [
    "df['103 St-Corona Plaza (7)'] = df['103']\n",
    "df['111 St (7)'] = df['111']\n",
    "df['33 St-Rawson St (7)'] = df['33']\n",
    "df['34 St-Hudson Yards (7)'] = df.loc[:,['34 st - h','34 st h','34 st- h','34 st-h']].sum(axis=1)\n",
    "df['40 St-Lowery St (7)'] = df['40']\n",
    "df['42 St-Bryant Pk (B/D/F/M)/5 Av (7)'] = df.loc[:,['bryant','5 av']].sum(axis=1)\n",
    "df['46 St-Bliss St (7)'] = df['46']\n",
    "df['52 St (7)'] = df['52']\n",
    "df['69 St (7)'] = df['69']\n",
    "df['74-Broadway (7)/Jackson Hts-Roosevelt Av (E/F/M/R)'] = df.loc[:,['jackson h','74']].sum(axis=1)\n",
    "df['82 St-Jackson Hts (7)'] = df['82']\n",
    "df['90 St-Elmhurst Av (7)'] = df['90']\n",
    "df['Flushing-Main St (7)'] = df['flushing']\n",
    "df['Grand Central-42 St (S/4/5/6/7)'] = df.loc[:,['Grand Central-42 St (S/4/5/6/7)','grand central']].sum(axis=1)\n",
    "df['Hunters Point Av (7)'] = df['hunters p']\n",
    "df['Junction Blvd (7)'] = df['junction b']\n",
    "df['Mets-Willets Point (7)'] = df['mets']\n",
    "df['Queensboro Plaza (N/W/7)'] = df.loc[:,['queensboro pl','qnsboro pl']].sum(axis=1)\n",
    "df['Times Sq-42 St (N/Q/R/W/S/1/2/3/7)/42 St (A/C/E)'] = df.loc[:,['Times Sq-42 St (N/Q/R/W/S/1/2/3/7)/42 St (A/C/E)',\n",
    "                                                                  'times sq']].sum(axis=1)\n",
    "df['Vernon Blvd-Jackson Av (7)'] = df.loc[:,['jackson av','vernon b']].sum(axis=1)\n",
    "df['Woodside-61 St (7)'] = df['61']"
   ]
  },
  {
   "cell_type": "code",
   "execution_count": 88,
   "metadata": {
    "ExecuteTime": {
     "end_time": "2021-11-10T03:29:36.151623Z",
     "start_time": "2021-11-10T03:29:32.720242Z"
    }
   },
   "outputs": [],
   "source": [
    "for col in stations_7:\n",
    "    df.drop(col,axis=1,inplace=True)"
   ]
  },
  {
   "cell_type": "markdown",
   "metadata": {},
   "source": [
    "## 42 St Shuttle (IRT)"
   ]
  },
  {
   "cell_type": "code",
   "execution_count": 89,
   "metadata": {
    "ExecuteTime": {
     "end_time": "2021-11-10T03:34:13.680644Z",
     "start_time": "2021-11-10T03:34:13.528178Z"
    }
   },
   "outputs": [],
   "source": [
    "for s in stations_42:\n",
    "    delayed = df.loc[st_42]\n",
    "    ind = delayed.loc[delayed['delayed_stations']==s].index\n",
    "    df.loc[ind, '{}'.format(s)] = 1"
   ]
  },
  {
   "cell_type": "code",
   "execution_count": 77,
   "metadata": {
    "ExecuteTime": {
     "end_time": "2021-11-09T05:16:40.177696Z",
     "start_time": "2021-11-09T05:16:40.160448Z"
    }
   },
   "outputs": [
    {
     "name": "stdout",
     "output_type": "stream",
     "text": [
      "df['Beach 105 St (A/S)'] = \n",
      "df['Beach 90 St (A/S)'] = \n",
      "df['Beach 98 St (A/S)'] = \n",
      "df['Broad Channel (A/S)'] = \n",
      "df['Franklin Av (2/3/4/5)/Botanic Garden (S)'] = \n",
      "df['Franklin Av (C/S)'] = \n",
      "df['Grand Central-42 St (S/4/5/6/7)'] = \n",
      "df['Park Pl (S)'] = \n",
      "df['Prospect Park (B/Q/S)'] = \n",
      "df['Rockaway Park-Beach 116 St (A/S)'] = \n",
      "df['Times Sq-42 St (N/Q/R/W/S/1/2/3/7)/42 St (A/C/E)'] = \n"
     ]
    }
   ],
   "source": [
    "line = df_r.loc[df_r['station'].str.contains('\\(S\\)|S/|/S')]\n",
    "line = list(line['station'])\n",
    "for l in line:\n",
    "    print(\"df[\"+\"'\"+\"{}\".format(l)+\"'\"+\"] = \")"
   ]
  },
  {
   "cell_type": "code",
   "execution_count": 91,
   "metadata": {
    "ExecuteTime": {
     "end_time": "2021-11-10T03:45:59.075035Z",
     "start_time": "2021-11-10T03:45:59.071177Z"
    }
   },
   "outputs": [],
   "source": [
    "df['Grand Central-42 St (S/4/5/6/7)'] = df['times sq']\n",
    "df['Times Sq-42 St (N/Q/R/W/S/1/2/3/7)/42 St (A/C/E)'] = df['grand central']"
   ]
  },
  {
   "cell_type": "code",
   "execution_count": 92,
   "metadata": {
    "ExecuteTime": {
     "end_time": "2021-11-10T03:46:02.687188Z",
     "start_time": "2021-11-10T03:46:02.263136Z"
    }
   },
   "outputs": [],
   "source": [
    "for col in stations_42:\n",
    "    df.drop(col,axis=1,inplace=True)"
   ]
  },
  {
   "cell_type": "markdown",
   "metadata": {},
   "source": [
    "## A Train (IND)"
   ]
  },
  {
   "cell_type": "code",
   "execution_count": 93,
   "metadata": {
    "ExecuteTime": {
     "end_time": "2021-11-10T03:48:21.803848Z",
     "start_time": "2021-11-10T03:48:14.695399Z"
    }
   },
   "outputs": [],
   "source": [
    "for s in stations_a:\n",
    "    delayed = df.loc[st_a]\n",
    "    ind = delayed.loc[delayed['delayed_stations']==s].index\n",
    "    df.loc[ind, '{}'.format(s)] = 1"
   ]
  },
  {
   "cell_type": "code",
   "execution_count": 95,
   "metadata": {
    "ExecuteTime": {
     "end_time": "2021-11-10T03:48:43.657706Z",
     "start_time": "2021-11-10T03:48:43.654705Z"
    }
   },
   "outputs": [],
   "source": [
    "line = df_r.loc[df_r['station'].str.contains('\\(A\\)|A/|/A')]\n",
    "line = list(line['station'])\n",
    "# for l in line:\n",
    "#     print(\"df[\"+\"'\"+\"{}\".format(l)+\"'\"+\"] = \")"
   ]
  },
  {
   "cell_type": "code",
   "execution_count": 98,
   "metadata": {
    "ExecuteTime": {
     "end_time": "2021-11-10T04:08:46.548970Z",
     "start_time": "2021-11-10T04:08:44.558040Z"
    }
   },
   "outputs": [],
   "source": [
    "df['104 St (A)'] = df['104']\n",
    "df['111 St (A)'] = df['111']\n",
    "df['125 St (A/B/C/D)'] = df['125']\n",
    "df['14 St (A/C/E)/8 Av (L)'] = df['14 st']\n",
    "df['145 St (A/B/C/D)'] = df['145']\n",
    "df['168 St (A/C/1)'] = df.loc[:,['168 St (A/C/1)','168']].sum(axis=1)\n",
    "df['175 St (A)'] = df['175']\n",
    "df['181 St (A)'] = df['181']\n",
    "df['190 St (A)'] = df['190']\n",
    "df['34 St-Penn Station (A/C/E)'] = df.loc[:,['penn sta','34']].sum(axis=1)\n",
    "df['59 St-Columbus Circle (A/B/C/D/1)'] = df.loc[:,['59 St-Columbus Circle (A/B/C/D/1)','columbus',\n",
    "                                                   '59']].sum(axis=1)\n",
    "df['80 St (A)'] = df['80']\n",
    "df['88 St (A)'] = df['88']\n",
    "df['Aqueduct Racetrack (A)'] = df['aqueduct r']\n",
    "df['Aqueduct-North Conduit Av (A)'] = df.loc[:,['conduit','aqueduct n']].sum(axis=1)\n",
    "df['Beach 105 St (A/S)'] = df['beach 105']\n",
    "df['Beach 25 St (A)'] = df['beach 25']\n",
    "df['Beach 36 St (A)'] = df['beach 36']\n",
    "df['Beach 44 St (A)'] = df['beach 44']\n",
    "df['Beach 60 St (A)'] = df['beach 60']\n",
    "df['Beach 67 St-Arverne By The Sea (A)'] = df['beach 67']\n",
    "df['Beach 90 St (A/S)'] = df['beach 90']\n",
    "df['Beach 98 St (A/S)'] = df['beach 98']\n",
    "df['Broad Channel (A/S)'] = df['broad ch']\n",
    "df['Broadway Junction (A/C/J/L/Z)'] = df.loc[:,['junction','jctn','bwy','broadway j','brdwy j','bdwy j']].sum(axis=1)\n",
    "df['Canal St (A/C/E)'] = df['canal']\n",
    "df['Chambers St (A/C)/WTC (E)/Park Pl (2/3)/Cortlandt (R/W)'] = df.loc[:,['Chambers St (A/C)/WTC (E)/Park Pl (2/3)/Cortlandt (R/W)',\n",
    "                                                                         'chambers']].sum(axis=1)\n",
    "df['Dyckman St (A)'] = df.loc[:,['dyckman','200']].sum(axis=1)\n",
    "df['Euclid Av (A/C)'] = df['euclid']\n",
    "df['Far Rockaway-Mott Av (A)'] = df.loc[:,['mott av','far rockaway']].sum(axis=1)\n",
    "df['Fulton St (A/C/J/Z/2/3/4/5)'] = df.loc[:,['Fulton St (A/C/J/Z/2/3/4/5)','fulton']].sum(axis=1)\n",
    "df['Grant Av (A)'] = df['grant']\n",
    "df['High St (A/C)'] = df['high']\n",
    "df['Howard Beach-JFK Airport (A)'] = df.loc[:,['jfk a','howard b']].sum(axis=1)\n",
    "df['Hoyt-Schermerhorn Sts (A/C/G)'] = df['hoyt']\n",
    "df['Inwood-207 St (A)'] = df.loc[:,['inwood','207']].sum(axis=1)\n",
    "df['Jay St-MetroTech (A/C/F/R)'] = df['jay']\n",
    "df['Nostrand Av (A/C)'] = df['nostrand']\n",
    "df['Ozone Park-Lefferts Blvd (A)'] = df.loc[:,['ozone p','lefferts b']].sum(axis=1)\n",
    "df['Rockaway Blvd (A)'] = df['rockaway b']\n",
    "df['Rockaway Park-Beach 116 St (A/S)'] = df['rockaway p']\n",
    "df['Times Sq-42 St (N/Q/R/W/S/1/2/3/7)/42 St (A/C/E)'] = df.loc[:,['Times Sq-42 St (N/Q/R/W/S/1/2/3/7)/42 St (A/C/E)',\n",
    "                                                                  'port auth','42']].sum(axis=1)\n",
    "df['Utica Av (A/C)'] = df['utica']\n",
    "df['West 4 St-Washington Sq (A/B/C/D/E/F/M)'] = df.loc[:,['west 4','washington sq','wash sq','w 4']].sum(axis=1)"
   ]
  },
  {
   "cell_type": "code",
   "execution_count": 99,
   "metadata": {
    "ExecuteTime": {
     "end_time": "2021-11-10T04:08:56.740317Z",
     "start_time": "2021-11-10T04:08:49.107635Z"
    }
   },
   "outputs": [],
   "source": [
    "for col in stations_a:\n",
    "    df.drop(col,axis=1,inplace=True)"
   ]
  },
  {
   "cell_type": "markdown",
   "metadata": {},
   "source": [
    "## B Train (IND)"
   ]
  },
  {
   "cell_type": "code",
   "execution_count": null,
   "metadata": {
    "ExecuteTime": {
     "end_time": "2021-11-09T04:16:42.400599Z",
     "start_time": "2021-11-09T04:16:42.230103Z"
    }
   },
   "outputs": [],
   "source": [
    "for s in stations_:\n",
    "    delayed = df.loc[st_]\n",
    "    ind = delayed.loc[delayed['delayed_stations']==s].index\n",
    "    df.loc[ind, '{}'.format(s)] = 1"
   ]
  },
  {
   "cell_type": "code",
   "execution_count": null,
   "metadata": {
    "ExecuteTime": {
     "end_time": "2021-11-09T05:16:40.177696Z",
     "start_time": "2021-11-09T05:16:40.160448Z"
    }
   },
   "outputs": [],
   "source": [
    "line = df_r.loc[df_r['station'].str.contains('\\(B\\)|B/|/B')]\n",
    "line = list(line['station'])\n",
    "for l in line:\n",
    "    print(\"df[\"+\"'\"+\"{}\".format(l)+\"'\"+\"] = \")"
   ]
  },
  {
   "cell_type": "code",
   "execution_count": null,
   "metadata": {},
   "outputs": [],
   "source": []
  },
  {
   "cell_type": "code",
   "execution_count": null,
   "metadata": {},
   "outputs": [],
   "source": [
    "for col in stations_:\n",
    "    df.drop(col,axis=1,inplace=True)"
   ]
  },
  {
   "cell_type": "markdown",
   "metadata": {},
   "source": [
    "## C Train (IND)"
   ]
  },
  {
   "cell_type": "code",
   "execution_count": null,
   "metadata": {
    "ExecuteTime": {
     "end_time": "2021-11-09T04:16:42.400599Z",
     "start_time": "2021-11-09T04:16:42.230103Z"
    }
   },
   "outputs": [],
   "source": [
    "for s in stations_:\n",
    "    delayed = df.loc[st_]\n",
    "    ind = delayed.loc[delayed['delayed_stations']==s].index\n",
    "    df.loc[ind, '{}'.format(s)] = 1"
   ]
  },
  {
   "cell_type": "code",
   "execution_count": null,
   "metadata": {
    "ExecuteTime": {
     "end_time": "2021-11-09T05:16:40.177696Z",
     "start_time": "2021-11-09T05:16:40.160448Z"
    }
   },
   "outputs": [],
   "source": [
    "line = df_r.loc[df_r['station'].str.contains('\\(C\\)|C/|/C')]\n",
    "line = list(line['station'])\n",
    "for l in line:\n",
    "    print(\"df[\"+\"'\"+\"{}\".format(l)+\"'\"+\"] = \")"
   ]
  },
  {
   "cell_type": "code",
   "execution_count": null,
   "metadata": {},
   "outputs": [],
   "source": []
  },
  {
   "cell_type": "code",
   "execution_count": null,
   "metadata": {},
   "outputs": [],
   "source": [
    "for col in stations_:\n",
    "    df.drop(col,axis=1,inplace=True)"
   ]
  },
  {
   "cell_type": "markdown",
   "metadata": {},
   "source": [
    "## D Train (IND)"
   ]
  },
  {
   "cell_type": "code",
   "execution_count": null,
   "metadata": {
    "ExecuteTime": {
     "end_time": "2021-11-09T04:16:42.400599Z",
     "start_time": "2021-11-09T04:16:42.230103Z"
    }
   },
   "outputs": [],
   "source": [
    "for s in stations_:\n",
    "    delayed = df.loc[st_]\n",
    "    ind = delayed.loc[delayed['delayed_stations']==s].index\n",
    "    df.loc[ind, '{}'.format(s)] = 1"
   ]
  },
  {
   "cell_type": "code",
   "execution_count": null,
   "metadata": {
    "ExecuteTime": {
     "end_time": "2021-11-09T05:16:40.177696Z",
     "start_time": "2021-11-09T05:16:40.160448Z"
    }
   },
   "outputs": [],
   "source": [
    "line = df_r.loc[df_r['station'].str.contains('\\(D\\)|D/|/D')]\n",
    "line = list(line['station'])\n",
    "for l in line:\n",
    "    print(\"df[\"+\"'\"+\"{}\".format(l)+\"'\"+\"] = \")"
   ]
  },
  {
   "cell_type": "code",
   "execution_count": null,
   "metadata": {},
   "outputs": [],
   "source": []
  },
  {
   "cell_type": "code",
   "execution_count": null,
   "metadata": {},
   "outputs": [],
   "source": [
    "for col in stations_:\n",
    "    df.drop(col,axis=1,inplace=True)"
   ]
  },
  {
   "cell_type": "markdown",
   "metadata": {},
   "source": [
    "## E Train (IND)"
   ]
  },
  {
   "cell_type": "code",
   "execution_count": null,
   "metadata": {
    "ExecuteTime": {
     "end_time": "2021-11-09T04:16:42.400599Z",
     "start_time": "2021-11-09T04:16:42.230103Z"
    }
   },
   "outputs": [],
   "source": [
    "for s in stations_:\n",
    "    delayed = df.loc[st_]\n",
    "    ind = delayed.loc[delayed['delayed_stations']==s].index\n",
    "    df.loc[ind, '{}'.format(s)] = 1"
   ]
  },
  {
   "cell_type": "code",
   "execution_count": null,
   "metadata": {
    "ExecuteTime": {
     "end_time": "2021-11-09T05:16:40.177696Z",
     "start_time": "2021-11-09T05:16:40.160448Z"
    }
   },
   "outputs": [],
   "source": [
    "line = df_r.loc[df_r['station'].str.contains('\\(E\\)|E/|/E')]\n",
    "line = list(line['station'])\n",
    "for l in line:\n",
    "    print(\"df[\"+\"'\"+\"{}\".format(l)+\"'\"+\"] = \")"
   ]
  },
  {
   "cell_type": "code",
   "execution_count": null,
   "metadata": {},
   "outputs": [],
   "source": []
  },
  {
   "cell_type": "code",
   "execution_count": null,
   "metadata": {},
   "outputs": [],
   "source": [
    "for col in stations_:\n",
    "    df.drop(col,axis=1,inplace=True)"
   ]
  },
  {
   "cell_type": "markdown",
   "metadata": {},
   "source": [
    "### 7 Av (B/D/E)"
   ]
  },
  {
   "cell_type": "code",
   "execution_count": null,
   "metadata": {},
   "outputs": [],
   "source": [
    "for s in stations_bde:\n",
    "    delayed = df.loc[st_bde]\n",
    "    ind = delayed.loc[delayed['delayed_stations']==s].index\n",
    "    df.loc[ind, '{}'.format(s)] = 1"
   ]
  },
  {
   "cell_type": "code",
   "execution_count": 74,
   "metadata": {
    "ExecuteTime": {
     "end_time": "2021-11-09T05:10:50.675492Z",
     "start_time": "2021-11-09T05:10:50.665489Z"
    }
   },
   "outputs": [
    {
     "name": "stdout",
     "output_type": "stream",
     "text": [
      "df['7 Av (B/D/E)'] = \n",
      "df['7 Av (B/Q)'] = \n",
      "df['7 Av (F/G)'] = \n"
     ]
    }
   ],
   "source": [
    "line = df_r.loc[df_r['station'].str.startswith('7 Av')]\n",
    "line = list(line['station'])\n",
    "for l in line:\n",
    "    print(\"df[\"+\"'\"+\"{}\".format(l)+\"'\"+\"] = \")"
   ]
  },
  {
   "cell_type": "markdown",
   "metadata": {},
   "source": [
    "F/G 7 Av will be accounted for on as part of F/G and not separately"
   ]
  },
  {
   "cell_type": "code",
   "execution_count": null,
   "metadata": {},
   "outputs": [],
   "source": [
    "df['7 Av (B/D/E)'] = df['7 av']"
   ]
  },
  {
   "cell_type": "code",
   "execution_count": null,
   "metadata": {},
   "outputs": [],
   "source": [
    "for col in stations_bde:\n",
    "    df.drop(col,axis=1,inplace=True)"
   ]
  },
  {
   "cell_type": "markdown",
   "metadata": {},
   "source": [
    "### 23 st (C/E)"
   ]
  },
  {
   "cell_type": "markdown",
   "metadata": {},
   "source": [
    "Had to separate this one due to Court Sq-23 St"
   ]
  },
  {
   "cell_type": "code",
   "execution_count": null,
   "metadata": {},
   "outputs": [],
   "source": [
    "for s in stations_ce:\n",
    "    delayed = df.loc[st_ce]\n",
    "    ind = delayed.loc[delayed['delayed_stations']==s].index\n",
    "    df.loc[ind, '{}'.format(s)] = 1"
   ]
  },
  {
   "cell_type": "code",
   "execution_count": 76,
   "metadata": {
    "ExecuteTime": {
     "end_time": "2021-11-09T05:13:48.471945Z",
     "start_time": "2021-11-09T05:13:48.464944Z"
    }
   },
   "outputs": [
    {
     "name": "stdout",
     "output_type": "stream",
     "text": [
      "df['23 St (1)'] = \n",
      "df['23 St (6)'] = \n",
      "df['23 St (C/E)'] = \n",
      "df['23 St (F/M)'] = \n",
      "df['23 St (R/W)'] = \n"
     ]
    }
   ],
   "source": [
    "line = df_r.loc[df_r['station'].str.contains('23 St')]\n",
    "line = list(line['station'])\n",
    "for l in line:\n",
    "    print(\"df[\"+\"'\"+\"{}\".format(l)+\"'\"+\"] = \")"
   ]
  },
  {
   "cell_type": "code",
   "execution_count": null,
   "metadata": {},
   "outputs": [],
   "source": [
    "df['23 St (C/E)'] = df['23 st']"
   ]
  },
  {
   "cell_type": "code",
   "execution_count": null,
   "metadata": {},
   "outputs": [],
   "source": [
    "for col in stations_ce:\n",
    "    df.drop(col,axis=1,inplace=True)"
   ]
  },
  {
   "cell_type": "markdown",
   "metadata": {},
   "source": [
    "## F Train (IND)"
   ]
  },
  {
   "cell_type": "code",
   "execution_count": null,
   "metadata": {
    "ExecuteTime": {
     "end_time": "2021-11-09T04:16:42.400599Z",
     "start_time": "2021-11-09T04:16:42.230103Z"
    }
   },
   "outputs": [],
   "source": [
    "for s in stations_:\n",
    "    delayed = df.loc[st_]\n",
    "    ind = delayed.loc[delayed['delayed_stations']==s].index\n",
    "    df.loc[ind, '{}'.format(s)] = 1"
   ]
  },
  {
   "cell_type": "code",
   "execution_count": null,
   "metadata": {
    "ExecuteTime": {
     "end_time": "2021-11-09T05:16:40.177696Z",
     "start_time": "2021-11-09T05:16:40.160448Z"
    }
   },
   "outputs": [],
   "source": [
    "line = df_r.loc[df_r['station'].str.contains('\\(F\\)|F/|/F')]\n",
    "line = list(line['station'])\n",
    "for l in line:\n",
    "    print(\"df[\"+\"'\"+\"{}\".format(l)+\"'\"+\"] = \")"
   ]
  },
  {
   "cell_type": "code",
   "execution_count": null,
   "metadata": {},
   "outputs": [],
   "source": []
  },
  {
   "cell_type": "code",
   "execution_count": null,
   "metadata": {},
   "outputs": [],
   "source": [
    "for col in stations_:\n",
    "    df.drop(col,axis=1,inplace=True)"
   ]
  },
  {
   "cell_type": "markdown",
   "metadata": {},
   "source": [
    "## G Train (IND)"
   ]
  },
  {
   "cell_type": "code",
   "execution_count": null,
   "metadata": {
    "ExecuteTime": {
     "end_time": "2021-11-09T04:16:42.400599Z",
     "start_time": "2021-11-09T04:16:42.230103Z"
    }
   },
   "outputs": [],
   "source": [
    "for s in stations_:\n",
    "    delayed = df.loc[st_]\n",
    "    ind = delayed.loc[delayed['delayed_stations']==s].index\n",
    "    df.loc[ind, '{}'.format(s)] = 1"
   ]
  },
  {
   "cell_type": "code",
   "execution_count": null,
   "metadata": {
    "ExecuteTime": {
     "end_time": "2021-11-09T05:16:40.177696Z",
     "start_time": "2021-11-09T05:16:40.160448Z"
    }
   },
   "outputs": [],
   "source": [
    "line = df_r.loc[df_r['station'].str.contains('\\(G\\)|G/|/G')]\n",
    "line = list(line['station'])\n",
    "for l in line:\n",
    "    print(\"df[\"+\"'\"+\"{}\".format(l)+\"'\"+\"] = \")"
   ]
  },
  {
   "cell_type": "code",
   "execution_count": null,
   "metadata": {},
   "outputs": [],
   "source": []
  },
  {
   "cell_type": "code",
   "execution_count": null,
   "metadata": {},
   "outputs": [],
   "source": [
    "for col in stations_:\n",
    "    df.drop(col,axis=1,inplace=True)"
   ]
  },
  {
   "cell_type": "markdown",
   "metadata": {},
   "source": [
    "## Rockaway Shuttle (IND)"
   ]
  },
  {
   "cell_type": "code",
   "execution_count": null,
   "metadata": {
    "ExecuteTime": {
     "end_time": "2021-11-09T04:16:42.400599Z",
     "start_time": "2021-11-09T04:16:42.230103Z"
    }
   },
   "outputs": [],
   "source": [
    "for s in stations_rck:\n",
    "    delayed = df.loc[st_rck]\n",
    "    ind = delayed.loc[delayed['delayed_stations']==s].index\n",
    "    df.loc[ind, '{}'.format(s)] = 1"
   ]
  },
  {
   "cell_type": "code",
   "execution_count": 78,
   "metadata": {
    "ExecuteTime": {
     "end_time": "2021-11-09T05:16:40.177696Z",
     "start_time": "2021-11-09T05:16:40.160448Z"
    }
   },
   "outputs": [
    {
     "name": "stdout",
     "output_type": "stream",
     "text": [
      "df['Beach 105 St (A/S)'] = \n",
      "df['Beach 90 St (A/S)'] = \n",
      "df['Beach 98 St (A/S)'] = \n",
      "df['Broad Channel (A/S)'] = \n",
      "df['Franklin Av (2/3/4/5)/Botanic Garden (S)'] = \n",
      "df['Franklin Av (C/S)'] = \n",
      "df['Grand Central-42 St (S/4/5/6/7)'] = \n",
      "df['Park Pl (S)'] = \n",
      "df['Prospect Park (B/Q/S)'] = \n",
      "df['Rockaway Park-Beach 116 St (A/S)'] = \n",
      "df['Times Sq-42 St (N/Q/R/W/S/1/2/3/7)/42 St (A/C/E)'] = \n"
     ]
    }
   ],
   "source": [
    "line = df_r.loc[df_r['station'].str.contains('\\(S\\)|S/|/S')]\n",
    "line = list(line['station'])\n",
    "for l in line:\n",
    "    print(\"df[\"+\"'\"+\"{}\".format(l)+\"'\"+\"] = \")"
   ]
  },
  {
   "cell_type": "code",
   "execution_count": null,
   "metadata": {},
   "outputs": [],
   "source": [
    "df['Beach 105 St (A/S)'] = \n",
    "df['Beach 90 St (A/S)'] = \n",
    "df['Beach 98 St (A/S)'] = \n",
    "df['Broad Channel (A/S)'] = \n",
    "df['Park Pl (S)'] ="
   ]
  },
  {
   "cell_type": "code",
   "execution_count": null,
   "metadata": {},
   "outputs": [],
   "source": [
    "for col in stations_:\n",
    "    df.drop(col,axis=1,inplace=True)"
   ]
  },
  {
   "cell_type": "markdown",
   "metadata": {},
   "source": [
    "## J Train (BMT)"
   ]
  },
  {
   "cell_type": "code",
   "execution_count": null,
   "metadata": {
    "ExecuteTime": {
     "end_time": "2021-11-09T04:16:42.400599Z",
     "start_time": "2021-11-09T04:16:42.230103Z"
    }
   },
   "outputs": [],
   "source": [
    "for s in stations_:\n",
    "    delayed = df.loc[st_]\n",
    "    ind = delayed.loc[delayed['delayed_stations']==s].index\n",
    "    df.loc[ind, '{}'.format(s)] = 1"
   ]
  },
  {
   "cell_type": "code",
   "execution_count": null,
   "metadata": {
    "ExecuteTime": {
     "end_time": "2021-11-09T05:16:40.177696Z",
     "start_time": "2021-11-09T05:16:40.160448Z"
    }
   },
   "outputs": [],
   "source": [
    "line = df_r.loc[df_r['station'].str.contains('\\(2\\)|2/|/2')]\n",
    "line = list(line['station'])\n",
    "for l in line:\n",
    "    print(\"df[\"+\"'\"+\"{}\".format(l)+\"'\"+\"] = \")"
   ]
  },
  {
   "cell_type": "code",
   "execution_count": null,
   "metadata": {},
   "outputs": [],
   "source": []
  },
  {
   "cell_type": "code",
   "execution_count": null,
   "metadata": {},
   "outputs": [],
   "source": [
    "for col in stations_:\n",
    "    df.drop(col,axis=1,inplace=True)"
   ]
  },
  {
   "cell_type": "code",
   "execution_count": null,
   "metadata": {},
   "outputs": [],
   "source": []
  },
  {
   "cell_type": "code",
   "execution_count": null,
   "metadata": {
    "ExecuteTime": {
     "end_time": "2021-11-09T04:16:42.400599Z",
     "start_time": "2021-11-09T04:16:42.230103Z"
    }
   },
   "outputs": [],
   "source": [
    "for s in stations_:\n",
    "    delayed = df.loc[st_]\n",
    "    ind = delayed.loc[delayed['delayed_stations']==s].index\n",
    "    df.loc[ind, '{}'.format(s)] = 1"
   ]
  },
  {
   "cell_type": "code",
   "execution_count": null,
   "metadata": {
    "ExecuteTime": {
     "end_time": "2021-11-09T05:16:40.177696Z",
     "start_time": "2021-11-09T05:16:40.160448Z"
    }
   },
   "outputs": [],
   "source": [
    "line = df_r.loc[df_r['station'].str.contains('\\(2\\)|2/|/2')]\n",
    "line = list(line['station'])\n",
    "for l in line:\n",
    "    print(\"df[\"+\"'\"+\"{}\".format(l)+\"'\"+\"] = \")"
   ]
  },
  {
   "cell_type": "code",
   "execution_count": null,
   "metadata": {},
   "outputs": [],
   "source": []
  },
  {
   "cell_type": "code",
   "execution_count": null,
   "metadata": {},
   "outputs": [],
   "source": [
    "for col in stations_:\n",
    "    df.drop(col,axis=1,inplace=True)"
   ]
  },
  {
   "cell_type": "code",
   "execution_count": null,
   "metadata": {},
   "outputs": [],
   "source": []
  },
  {
   "cell_type": "code",
   "execution_count": null,
   "metadata": {
    "ExecuteTime": {
     "end_time": "2021-11-09T04:16:42.400599Z",
     "start_time": "2021-11-09T04:16:42.230103Z"
    }
   },
   "outputs": [],
   "source": [
    "for s in stations_:\n",
    "    delayed = df.loc[st_]\n",
    "    ind = delayed.loc[delayed['delayed_stations']==s].index\n",
    "    df.loc[ind, '{}'.format(s)] = 1"
   ]
  },
  {
   "cell_type": "code",
   "execution_count": null,
   "metadata": {
    "ExecuteTime": {
     "end_time": "2021-11-09T05:16:40.177696Z",
     "start_time": "2021-11-09T05:16:40.160448Z"
    }
   },
   "outputs": [],
   "source": [
    "line = df_r.loc[df_r['station'].str.contains('\\(2\\)|2/|/2')]\n",
    "line = list(line['station'])\n",
    "for l in line:\n",
    "    print(\"df[\"+\"'\"+\"{}\".format(l)+\"'\"+\"] = \")"
   ]
  },
  {
   "cell_type": "code",
   "execution_count": null,
   "metadata": {},
   "outputs": [],
   "source": []
  },
  {
   "cell_type": "code",
   "execution_count": null,
   "metadata": {},
   "outputs": [],
   "source": [
    "for col in stations_:\n",
    "    df.drop(col,axis=1,inplace=True)"
   ]
  },
  {
   "cell_type": "code",
   "execution_count": null,
   "metadata": {},
   "outputs": [],
   "source": []
  },
  {
   "cell_type": "code",
   "execution_count": null,
   "metadata": {
    "ExecuteTime": {
     "end_time": "2021-11-09T04:16:42.400599Z",
     "start_time": "2021-11-09T04:16:42.230103Z"
    }
   },
   "outputs": [],
   "source": [
    "for s in stations_:\n",
    "    delayed = df.loc[st_]\n",
    "    ind = delayed.loc[delayed['delayed_stations']==s].index\n",
    "    df.loc[ind, '{}'.format(s)] = 1"
   ]
  },
  {
   "cell_type": "code",
   "execution_count": null,
   "metadata": {
    "ExecuteTime": {
     "end_time": "2021-11-09T05:16:40.177696Z",
     "start_time": "2021-11-09T05:16:40.160448Z"
    }
   },
   "outputs": [],
   "source": [
    "line = df_r.loc[df_r['station'].str.contains('\\(2\\)|2/|/2')]\n",
    "line = list(line['station'])\n",
    "for l in line:\n",
    "    print(\"df[\"+\"'\"+\"{}\".format(l)+\"'\"+\"] = \")"
   ]
  },
  {
   "cell_type": "code",
   "execution_count": null,
   "metadata": {},
   "outputs": [],
   "source": []
  },
  {
   "cell_type": "code",
   "execution_count": null,
   "metadata": {},
   "outputs": [],
   "source": [
    "for col in stations_:\n",
    "    df.drop(col,axis=1,inplace=True)"
   ]
  },
  {
   "cell_type": "code",
   "execution_count": null,
   "metadata": {},
   "outputs": [],
   "source": []
  },
  {
   "cell_type": "code",
   "execution_count": null,
   "metadata": {
    "ExecuteTime": {
     "end_time": "2021-11-09T04:16:42.400599Z",
     "start_time": "2021-11-09T04:16:42.230103Z"
    }
   },
   "outputs": [],
   "source": [
    "for s in stations_:\n",
    "    delayed = df.loc[st_]\n",
    "    ind = delayed.loc[delayed['delayed_stations']==s].index\n",
    "    df.loc[ind, '{}'.format(s)] = 1"
   ]
  },
  {
   "cell_type": "code",
   "execution_count": null,
   "metadata": {
    "ExecuteTime": {
     "end_time": "2021-11-09T05:16:40.177696Z",
     "start_time": "2021-11-09T05:16:40.160448Z"
    }
   },
   "outputs": [],
   "source": [
    "line = df_r.loc[df_r['station'].str.contains('\\(2\\)|2/|/2')]\n",
    "line = list(line['station'])\n",
    "for l in line:\n",
    "    print(\"df[\"+\"'\"+\"{}\".format(l)+\"'\"+\"] = \")"
   ]
  },
  {
   "cell_type": "code",
   "execution_count": null,
   "metadata": {},
   "outputs": [],
   "source": []
  },
  {
   "cell_type": "code",
   "execution_count": null,
   "metadata": {},
   "outputs": [],
   "source": [
    "for col in stations_:\n",
    "    df.drop(col,axis=1,inplace=True)"
   ]
  },
  {
   "cell_type": "code",
   "execution_count": null,
   "metadata": {},
   "outputs": [],
   "source": []
  },
  {
   "cell_type": "code",
   "execution_count": null,
   "metadata": {
    "ExecuteTime": {
     "end_time": "2021-11-09T04:16:42.400599Z",
     "start_time": "2021-11-09T04:16:42.230103Z"
    }
   },
   "outputs": [],
   "source": [
    "for s in stations_:\n",
    "    delayed = df.loc[st_]\n",
    "    ind = delayed.loc[delayed['delayed_stations']==s].index\n",
    "    df.loc[ind, '{}'.format(s)] = 1"
   ]
  },
  {
   "cell_type": "code",
   "execution_count": null,
   "metadata": {
    "ExecuteTime": {
     "end_time": "2021-11-09T05:16:40.177696Z",
     "start_time": "2021-11-09T05:16:40.160448Z"
    }
   },
   "outputs": [],
   "source": [
    "line = df_r.loc[df_r['station'].str.contains('\\(2\\)|2/|/2')]\n",
    "line = list(line['station'])\n",
    "for l in line:\n",
    "    print(\"df[\"+\"'\"+\"{}\".format(l)+\"'\"+\"] = \")"
   ]
  },
  {
   "cell_type": "code",
   "execution_count": null,
   "metadata": {},
   "outputs": [],
   "source": []
  },
  {
   "cell_type": "code",
   "execution_count": null,
   "metadata": {},
   "outputs": [],
   "source": [
    "for col in stations_:\n",
    "    df.drop(col,axis=1,inplace=True)"
   ]
  },
  {
   "cell_type": "code",
   "execution_count": null,
   "metadata": {},
   "outputs": [],
   "source": []
  },
  {
   "cell_type": "code",
   "execution_count": null,
   "metadata": {
    "ExecuteTime": {
     "end_time": "2021-11-09T04:16:42.400599Z",
     "start_time": "2021-11-09T04:16:42.230103Z"
    }
   },
   "outputs": [],
   "source": [
    "for s in stations_:\n",
    "    delayed = df.loc[st_]\n",
    "    ind = delayed.loc[delayed['delayed_stations']==s].index\n",
    "    df.loc[ind, '{}'.format(s)] = 1"
   ]
  },
  {
   "cell_type": "code",
   "execution_count": null,
   "metadata": {
    "ExecuteTime": {
     "end_time": "2021-11-09T05:16:40.177696Z",
     "start_time": "2021-11-09T05:16:40.160448Z"
    }
   },
   "outputs": [],
   "source": [
    "line = df_r.loc[df_r['station'].str.contains('\\(2\\)|2/|/2')]\n",
    "line = list(line['station'])\n",
    "for l in line:\n",
    "    print(\"df[\"+\"'\"+\"{}\".format(l)+\"'\"+\"] = \")"
   ]
  },
  {
   "cell_type": "code",
   "execution_count": null,
   "metadata": {},
   "outputs": [],
   "source": []
  },
  {
   "cell_type": "code",
   "execution_count": null,
   "metadata": {},
   "outputs": [],
   "source": [
    "for col in stations_:\n",
    "    df.drop(col,axis=1,inplace=True)"
   ]
  },
  {
   "cell_type": "code",
   "execution_count": null,
   "metadata": {},
   "outputs": [],
   "source": []
  },
  {
   "cell_type": "code",
   "execution_count": null,
   "metadata": {
    "ExecuteTime": {
     "end_time": "2021-11-09T04:16:42.400599Z",
     "start_time": "2021-11-09T04:16:42.230103Z"
    }
   },
   "outputs": [],
   "source": [
    "for s in stations_:\n",
    "    delayed = df.loc[st_]\n",
    "    ind = delayed.loc[delayed['delayed_stations']==s].index\n",
    "    df.loc[ind, '{}'.format(s)] = 1"
   ]
  },
  {
   "cell_type": "code",
   "execution_count": null,
   "metadata": {
    "ExecuteTime": {
     "end_time": "2021-11-09T05:16:40.177696Z",
     "start_time": "2021-11-09T05:16:40.160448Z"
    }
   },
   "outputs": [],
   "source": [
    "line = df_r.loc[df_r['station'].str.contains('\\(2\\)|2/|/2')]\n",
    "line = list(line['station'])\n",
    "for l in line:\n",
    "    print(\"df[\"+\"'\"+\"{}\".format(l)+\"'\"+\"] = \")"
   ]
  },
  {
   "cell_type": "code",
   "execution_count": null,
   "metadata": {},
   "outputs": [],
   "source": []
  },
  {
   "cell_type": "code",
   "execution_count": null,
   "metadata": {},
   "outputs": [],
   "source": [
    "for col in stations_:\n",
    "    df.drop(col,axis=1,inplace=True)"
   ]
  },
  {
   "cell_type": "code",
   "execution_count": null,
   "metadata": {},
   "outputs": [],
   "source": []
  },
  {
   "cell_type": "code",
   "execution_count": null,
   "metadata": {
    "ExecuteTime": {
     "end_time": "2021-11-09T04:16:42.400599Z",
     "start_time": "2021-11-09T04:16:42.230103Z"
    }
   },
   "outputs": [],
   "source": [
    "for s in stations_:\n",
    "    delayed = df.loc[st_]\n",
    "    ind = delayed.loc[delayed['delayed_stations']==s].index\n",
    "    df.loc[ind, '{}'.format(s)] = 1"
   ]
  },
  {
   "cell_type": "code",
   "execution_count": null,
   "metadata": {
    "ExecuteTime": {
     "end_time": "2021-11-09T05:16:40.177696Z",
     "start_time": "2021-11-09T05:16:40.160448Z"
    }
   },
   "outputs": [],
   "source": [
    "line = df_r.loc[df_r['station'].str.contains('\\(2\\)|2/|/2')]\n",
    "line = list(line['station'])\n",
    "for l in line:\n",
    "    print(\"df[\"+\"'\"+\"{}\".format(l)+\"'\"+\"] = \")"
   ]
  },
  {
   "cell_type": "code",
   "execution_count": null,
   "metadata": {},
   "outputs": [],
   "source": []
  },
  {
   "cell_type": "code",
   "execution_count": null,
   "metadata": {},
   "outputs": [],
   "source": [
    "for col in stations_:\n",
    "    df.drop(col,axis=1,inplace=True)"
   ]
  },
  {
   "cell_type": "code",
   "execution_count": null,
   "metadata": {},
   "outputs": [],
   "source": []
  }
 ],
 "metadata": {
  "kernelspec": {
   "display_name": "Python (mta_env)",
   "language": "python",
   "name": "mta_env"
  },
  "language_info": {
   "codemirror_mode": {
    "name": "ipython",
    "version": 3
   },
   "file_extension": ".py",
   "mimetype": "text/x-python",
   "name": "python",
   "nbconvert_exporter": "python",
   "pygments_lexer": "ipython3",
   "version": "3.9.7"
  },
  "toc": {
   "base_numbering": 1,
   "nav_menu": {},
   "number_sections": true,
   "sideBar": true,
   "skip_h1_title": false,
   "title_cell": "Table of Contents",
   "title_sidebar": "Contents",
   "toc_cell": false,
   "toc_position": {},
   "toc_section_display": true,
   "toc_window_display": false
  }
 },
 "nbformat": 4,
 "nbformat_minor": 5
}
